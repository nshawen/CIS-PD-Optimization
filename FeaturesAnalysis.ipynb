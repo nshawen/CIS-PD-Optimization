{
 "cells": [
  {
   "cell_type": "code",
   "execution_count": 1,
   "metadata": {},
   "outputs": [],
   "source": [
    "import os\n",
    "import platform\n",
    "import numpy as np\n",
    "import pandas as pd\n",
    "import seaborn as sns\n",
    "import matplotlib.pyplot as plt\n",
    "import datetime as dt\n",
    "import time\n",
    "import math\n",
    "import pathlib\n",
    "import pickle\n",
    "from itertools import combinations\n",
    "from scipy.stats import skew, kurtosis, wilcoxon\n",
    "from scipy.signal import butter, welch, filtfilt, resample\n",
    "from scipy import stats\n",
    "\n",
    "from sklearn import metrics, neighbors, linear_model, preprocessing, svm\n",
    "from sklearn.metrics import confusion_matrix, auc, f1_score, roc_curve, roc_auc_score, precision_score, recall_score, precision_recall_curve\n",
    "from sklearn.neighbors import KNeighborsClassifier\n",
    "from sklearn.linear_model import ElasticNetCV, LogisticRegression\n",
    "from sklearn.preprocessing import LabelEncoder, StandardScaler\n",
    "from sklearn.model_selection import train_test_split, LeaveOneGroupOut, KFold, StratifiedKFold,cross_val_score,GridSearchCV\n",
    "from sklearn.ensemble import RandomForestClassifier, RandomForestRegressor\n",
    "from sklearn.svm import SVC\n",
    "from PreprocessFcns import *\n",
    "\n",
    "from mpl_toolkits.mplot3d import Axes3D\n",
    "%matplotlib inline\n",
    "\n",
    "sns.set_context('talk',font_scale=1)"
   ]
  },
  {
   "cell_type": "code",
   "execution_count": 52,
   "metadata": {},
   "outputs": [],
   "source": [
    "def LOSOCV(Data,X,y,groups,models,LOin=0):\n",
    "\n",
    "    subj = LeaveOneGroupOut() \n",
    "    results = pd.DataFrame(data=None,columns=['model','f1','auprc','auroc'])\n",
    "    groupres = {} #results on each group for each model\n",
    "\n",
    "\n",
    "    #train multiple classifiers\n",
    "    for m in models:\n",
    "        acc_all=[]; acc_train=[] \n",
    "        f1_test_all=[]; prec_all=[]; rec_all=[]; spec_all=[]; auprc_all=[]; auroc_train_all=[]; \n",
    "        auroc_all=[]; fpr_all=[]; tpr_all=[]; fi_all=[]\n",
    "\n",
    "        clf = m[0]; model_name = m[1]            \n",
    "        print('Training %s'%model_name)\n",
    "        s = 0\n",
    "        #LOSO CV for current classifier\n",
    "        for train_index, test_index in subj.split(X, y, groups):\n",
    "        #leave one in:\n",
    "            if LOin:\n",
    "                tridx = train_index.copy()\n",
    "                train_index = test_index.copy()\n",
    "                test_index = tridx\n",
    "            Xtr, Xte = X[train_index], X[test_index]\n",
    "            ytr, yte = y[train_index], y[test_index]\n",
    "            if len(np.unique(ytr))<2: #skip if no positive or negative examples are available for training\n",
    "                #print('only 1 class available in train data - skipping')\n",
    "                continue\n",
    "            clf.fit(Xtr,ytr)\n",
    "            ypred = clf.predict(Xte)\n",
    "            yscore = clf.predict_proba(Xte)\n",
    "            yscore = yscore[:,1]\n",
    "            \n",
    "            #accuracy on train set\n",
    "            ypred_train = clf.predict(Xtr)\n",
    "            acc_train.append(sum(ypred_train==ytr)/len(ytr))\n",
    "            auroc_train = roc_auc_score(ytr,clf.predict_proba(Xtr)[:,1])\n",
    "            \n",
    "            #f1-score, prec, recall, specificity, auprc, auroc\n",
    "            f1_test_all.append(f1_score(yte,ypred))\n",
    "            precision, recall, _ = precision_recall_curve(yte,yscore)\n",
    "            auprc = auc(recall,precision)\n",
    "            if len(np.unique(yte))>1:\n",
    "                auroc = roc_auc_score(yte,yscore)\n",
    "            else:\n",
    "                #print('only 1 class in test data - cannot compute roc curve')\n",
    "                auroc = np.nan\n",
    "            spec = sum((ypred==0) & (yte==0))/sum(yte==0)\n",
    "\n",
    "\n",
    "            prec_all.append(precision_score(yte,ypred))\n",
    "            rec_all.append(recall_score(yte,ypred))\n",
    "            auprc_all.append(auprc)\n",
    "            auroc_all.append(auroc)\n",
    "            auroc_train_all.append(auroc_train)\n",
    "            spec_all.append(spec)\n",
    "\n",
    "            fpr=np.linspace(0,1,101); tpr=[]\n",
    "\n",
    "            if len(np.unique(yte))>1:                \n",
    "                nscores = np.sort(np.column_stack((yscore[yte==0],yte[yte==0])),axis=0)\n",
    "                neg_counts = sum(yte==0)\n",
    "                for f in fpr:\n",
    "                    ind = neg_counts-int(neg_counts*f)-1\n",
    "                    t = (nscores[ind])[0]\n",
    "                    if f==1:\n",
    "                        t = 0\n",
    "                    tpr_t = sum(yscore[yte==1]>t) / sum(yte==1)\n",
    "                    tpr.append(tpr_t) \n",
    "\n",
    "            fpr = np.asarray(fpr); tpr = np.asarray(tpr)\n",
    "            fpr_all.append(fpr); tpr_all.append(tpr)\n",
    "            \n",
    "            #store feature importance\n",
    "            if model_name != 'SVM':\n",
    "                fi_all.append(clf.feature_importances_)\n",
    "            \n",
    "            #print('\\nSubj/Visit %d,prec=%.3f,rec=%.3f,Spec=%.3f,auroc_train=%.3f,auroc=%.3f'%(s,precision_score(yte,ypred),recall_score(yte,ypred),spec,auroc_train,auroc))\n",
    "            s+=1\n",
    "\n",
    "        #print('f1_test=%.3f+/-%.3f, prec=%.3f+/-%.3f, rec=%.3f+/-%.3f, auprc=%.3f+/-%.3f, auroc=%.3f+/-%.3f'%(\n",
    "        #np.nanmean(f1_test_all),np.nanstd(f1_test_all),\n",
    "        #np.nanmean(prec_all),np.nanstd(prec_all), np.nanmean(rec_all),np.nanstd(rec_all),\n",
    "        #np.nanmean(auprc_all),np.nanstd(auprc_all), np.nanmean(auroc_all),np.nanstd(auroc_all)))\n",
    "        \n",
    "        #group results for each model\n",
    "        groupres[model_name] = {'f1':f1_test_all, 'auprc':auprc_all, 'auroc':auroc_all, 'tpr':tpr_all, 'fpr':fpr_all, \n",
    "                                'rec':rec_all, 'spec':spec_all, 'fi':fi_all}\n",
    "        \n",
    "        #mean across groups for each model\n",
    "        r = pd.DataFrame({'model':model_name, 'f1':np.nanmean(f1_test_all), 'auprc':np.nanmean(auprc_all), \n",
    "                          'auroc':np.nanmean(auroc_all)},index=[0])\n",
    "        results = pd.concat((results,r))\n",
    "        \n",
    "    return results,groupres \n",
    "\n",
    "\n",
    "\n",
    "\n",
    "def LOSOMultiClass(Data,X,y,groups,model,LOin=0):\n",
    "\n",
    "    subj = LeaveOneGroupOut() \n",
    "    results = pd.DataFrame(data=None,columns=['model','RMS'])\n",
    "    groupres = {} #results on each group for each model\n",
    "    \n",
    "    acc_all=[]; acc_train=[] \n",
    "    f1_test_all=[]; prec_all=[]; rec_all=[]; spec_all=[]; auprc_all=[]; auroc_train_all=[]; \n",
    "    auroc_all=[]; fpr_all=[]; tpr_all=[]; fi_all=[]\n",
    "    RMS_all = []\n",
    "    \n",
    "    clf = model[0][0]; model_name = model[0][1]          \n",
    "    print('Training %s'%model_name)\n",
    "    s = 0\n",
    "    #LOSO CV for current classifier\n",
    "    for train_index, test_index in subj.split(X, y, groups):\n",
    "    #leave one in:\n",
    "        if LOin:\n",
    "            tridx = train_index.copy()\n",
    "            train_index = test_index.copy()\n",
    "            test_index = tridx\n",
    "        Xtr, Xte = X[train_index], X[test_index]\n",
    "        ytr, yte = y[train_index], y[test_index]\n",
    "        if len(np.unique(ytr))<2: #skip if no positive or negative examples are available for training\n",
    "            #print('only 1 class available in train data - skipping')\n",
    "            continue\n",
    "        clf.fit(Xtr,ytr)\n",
    "        ypred = clf.predict(Xte)\n",
    "        \n",
    "        RMS=0\n",
    "        for yp,yt in zip(ypred,y):\n",
    "            RMS += ((yp - yt)**2)\n",
    "        RMS = RMS / len(y)\n",
    "        RMS = math.sqrt(RMS)\n",
    "        \n",
    "        RMS_all.append(RMS)\n",
    "        \n",
    "        groupres[model_name] = {'RMS':RMS_all}\n",
    "        \n",
    "        r = pd.DataFrame({'model':model_name, 'RMS':np.nanmean(RMS_all)},index=[0])\n",
    "        results = pd.concat((results,r))\n",
    "        \n",
    "    return results, groupres"
   ]
  },
  {
   "cell_type": "code",
   "execution_count": 3,
   "metadata": {},
   "outputs": [],
   "source": [
    "featdict = {'freq':['Dom_freq','Pdom_rel','PSD_mean','PSD_std','PSD_skew','PSD_kur'],\n",
    "            'time':['RMSX','RMSY','RMSZ','rangeX','rangeY','rangeZ','meanX','meanY','meanZ','varX','varY','varZ','skewX','skewY','skewZ','kurtX','kurtY','kurtZ','Sen_X','Sen_Y','Sen_Z'],\n",
    "            'corr':['xcorr_peakXZ','xcorr_peakYZ','xcor_peakXY','xcorr_lagXZ','xcorr_lagYZ','xcorr_lagXY'],\n",
    "            'jerk':['jerk_mean','jerk_std','jerk_skew','jerk_kur'],\n",
    "            'mag' :['RMS_mag','range_mag','mean_mag','var_mag','skew_mag','kurt_mag','Sen_mag']}"
   ]
  },
  {
   "cell_type": "code",
   "execution_count": 191,
   "metadata": {},
   "outputs": [
    {
     "data": {
      "text/plain": [
       "array([1004, 1016, 1018, 1019, 1024, 1029, 1032, 1038, 1044, 1046, 1049,\n",
       "       1051], dtype=int64)"
      ]
     },
     "execution_count": 191,
     "metadata": {},
     "output_type": "execute_result"
    }
   ],
   "source": [
    "data = pd.read_csv('Z:CIS-PD Study\\\\Downsample\\\\Accel+Gyro Data 62.5Hz.csv',index_col=0)\n",
    "data = data[(data.Subject!=1030) & (data.Subject!=1020)]\n",
    "data.head()\n",
    "np.unique(data.Subject)"
   ]
  },
  {
   "cell_type": "code",
   "execution_count": 140,
   "metadata": {},
   "outputs": [],
   "source": [
    "mag_features_tremor = []\n",
    "xyz_features_tremor = []\n",
    "mag_features_brady = []\n",
    "xyz_features_brady = []\n",
    "info = ['Subject','Visit','Task','Bradykinesia','Tremor']\n",
    "mag_features = featdict['freq'] + featdict['jerk'] + featdict['mag']\n",
    "xyz_features =  featdict['freq'] + featdict['time'] + featdict['jerk'] + featdict['corr']\n",
    "for f in range(len(mag_features)):\n",
    "    mag_features_tremor.append(mag_features[f] + ' acc')\n",
    "    mag_features_brady.append(mag_features[f] + ' acc')\n",
    "for f in range(len(mag_features)):\n",
    "    mag_features_brady.append(mag_features[f] + ' gyr')\n",
    "for f in range(len(xyz_features)):\n",
    "    xyz_features_tremor.append(xyz_features[f] + ' acc')\n",
    "    xyz_features_brady.append(xyz_features[f] + ' acc')\n",
    "for f in range(len(xyz_features)):\n",
    "    xyz_features_brady.append(xyz_features[f] + ' gyr')\n",
    "data_tremor_mag = data[info + mag_features_tremor]\n",
    "data_tremor_xyz = data[info + xyz_features_tremor]\n",
    "data_brady_mag = data[info + mag_features_brady]\n",
    "data_brady_xyz = data[info + xyz_features_brady]"
   ]
  },
  {
   "cell_type": "code",
   "execution_count": 248,
   "metadata": {
    "scrolled": true
   },
   "outputs": [
    {
     "name": "stdout",
     "output_type": "stream",
     "text": [
      "Rows w Tremor 4980/16668 = 0.30\n",
      "Training Random Forest\n"
     ]
    },
    {
     "name": "stderr",
     "output_type": "stream",
     "text": [
      "C:\\Users\\Public\\Documents\\Anaconda\\lib\\site-packages\\sklearn\\metrics\\classification.py:1137: UndefinedMetricWarning: F-score is ill-defined and being set to 0.0 due to no true samples.\n",
      "  'recall', 'true', average, warn_for)\n",
      "C:\\Users\\Public\\Documents\\Anaconda\\lib\\site-packages\\sklearn\\metrics\\ranking.py:444: RuntimeWarning: invalid value encountered in true_divide\n",
      "  recall = tps / tps[-1]\n",
      "C:\\Users\\Public\\Documents\\Anaconda\\lib\\site-packages\\sklearn\\metrics\\ranking.py:94: RuntimeWarning: invalid value encountered in less\n",
      "  if np.any(dx < 0):\n",
      "C:\\Users\\Public\\Documents\\Anaconda\\lib\\site-packages\\sklearn\\metrics\\classification.py:1137: UndefinedMetricWarning: Recall is ill-defined and being set to 0.0 due to no true samples.\n",
      "  'recall', 'true', average, warn_for)\n"
     ]
    },
    {
     "name": "stdout",
     "output_type": "stream",
     "text": [
      "f1_test=0.340+/-0.217, prec=0.478+/-0.297, rec=0.299+/-0.177, auprc=0.482+/-0.264, auroc=0.708+/-0.161\n",
      "Elapsed time = 0.832 min\n"
     ]
    }
   ],
   "source": [
    "t1=time.time()\n",
    "res_all = pd.DataFrame()\n",
    "\n",
    "symptom = 'Tremor'\n",
    "\n",
    "Data = data_tremor_xyz.copy() #original unmodified dataframe\n",
    "Data=Data[~Data[symptom].isnull()] #remove nan rows for current symptom\n",
    "Data=Data.reset_index(drop=True) #reset index\n",
    "\n",
    "X = Data.iloc[:,5:].as_matrix()\n",
    "fnames = Data.iloc[:,5:].columns.values\n",
    "\n",
    "indp = ((Data[symptom]>0))\n",
    "indp = indp.values\n",
    "y = indp.astype(int) #target \n",
    "print('Rows w %s %d/%d = %.2f'%(symptom,sum(indp),len(indp),(sum(indp)/len(indp))))\n",
    "\n",
    "models = [RandomForestClassifier(n_estimators=50,random_state=2)]          \n",
    "model_name = ['Random Forest']\n",
    "models = list(zip(models,model_name))\n",
    "groups = Data.Subject.as_matrix()\n",
    "\n",
    "res,res_group = LOSOCV(Data,X,y,groups,models)\n",
    "res_all = pd.concat((res_all,res))\n",
    "    \n",
    "print('Elapsed time = %.3f min'%((time.time()-t1)/60))    "
   ]
  },
  {
   "cell_type": "code",
   "execution_count": 249,
   "metadata": {},
   "outputs": [
    {
     "data": {
      "text/plain": [
       "Text(0.5,1,'LOSO Tremor XYZ - Mean AUROC = 0.708 +/- 0.161')"
      ]
     },
     "execution_count": 249,
     "metadata": {},
     "output_type": "execute_result"
    },
    {
     "data": {
      "image/png": "[encoded data removed]",
      "text/plain": [
       "<matplotlib.figure.Figure at 0x10284860>"
      ]
     },
     "metadata": {},
     "output_type": "display_data"
    }
   ],
   "source": [
    "results_tremor_xyz = res_group['Random Forest']['auroc']\n",
    "aurocall = res_group['Random Forest']['auroc']\n",
    "sns.barplot(np.unique(groups),aurocall)\n",
    "ax = plt.xticks(rotation=90)\n",
    "plt.ylim([0,1.0])\n",
    "plt.title('LOSO Tremor XYZ - Mean AUROC = %.3f +/- %.3f'%(np.nanmean(aurocall),np.nanstd(aurocall)))"
   ]
  },
  {
   "cell_type": "code",
   "execution_count": 250,
   "metadata": {
    "scrolled": true
   },
   "outputs": [
    {
     "name": "stdout",
     "output_type": "stream",
     "text": [
      "Rows w Tremor 4980/16668 = 0.30\n",
      "Training Random Forest\n"
     ]
    },
    {
     "name": "stderr",
     "output_type": "stream",
     "text": [
      "C:\\Users\\Public\\Documents\\Anaconda\\lib\\site-packages\\sklearn\\metrics\\classification.py:1137: UndefinedMetricWarning: F-score is ill-defined and being set to 0.0 due to no true samples.\n",
      "  'recall', 'true', average, warn_for)\n",
      "C:\\Users\\Public\\Documents\\Anaconda\\lib\\site-packages\\sklearn\\metrics\\ranking.py:444: RuntimeWarning: invalid value encountered in true_divide\n",
      "  recall = tps / tps[-1]\n",
      "C:\\Users\\Public\\Documents\\Anaconda\\lib\\site-packages\\sklearn\\metrics\\ranking.py:94: RuntimeWarning: invalid value encountered in less\n",
      "  if np.any(dx < 0):\n",
      "C:\\Users\\Public\\Documents\\Anaconda\\lib\\site-packages\\sklearn\\metrics\\classification.py:1137: UndefinedMetricWarning: Recall is ill-defined and being set to 0.0 due to no true samples.\n",
      "  'recall', 'true', average, warn_for)\n"
     ]
    },
    {
     "name": "stdout",
     "output_type": "stream",
     "text": [
      "f1_test=0.345+/-0.220, prec=0.477+/-0.298, rec=0.317+/-0.177, auprc=0.486+/-0.268, auroc=0.709+/-0.123\n",
      "Elapsed time = 0.616 min\n"
     ]
    }
   ],
   "source": [
    "t1=time.time()\n",
    "res_all = pd.DataFrame()\n",
    "\n",
    "symptom = 'Tremor'\n",
    "\n",
    "Data = data_tremor_mag.copy() #original unmodified dataframe\n",
    "Data=Data[~Data[symptom].isnull()] #remove nan rows for current symptom\n",
    "Data=Data.reset_index(drop=True) #reset index\n",
    "\n",
    "X = Data.iloc[:,5:].as_matrix()\n",
    "fnames = Data.iloc[:,5:].columns.values\n",
    "\n",
    "indp = ((Data[symptom]>0))\n",
    "indp = indp.values\n",
    "y = indp.astype(int) #target \n",
    "print('Rows w %s %d/%d = %.2f'%(symptom,sum(indp),len(indp),(sum(indp)/len(indp))))\n",
    "\n",
    "models = [RandomForestClassifier(n_estimators=50,random_state=2)]          \n",
    "model_name = ['Random Forest']\n",
    "models = list(zip(models,model_name))\n",
    "groups = Data.Subject.as_matrix()\n",
    "\n",
    "res,res_group = LOSOCV(Data,X,y,groups,models)\n",
    "res_all = pd.concat((res_all,res))\n",
    "    \n",
    "print('Elapsed time = %.3f min'%((time.time()-t1)/60))    "
   ]
  },
  {
   "cell_type": "code",
   "execution_count": 251,
   "metadata": {},
   "outputs": [
    {
     "data": {
      "text/plain": [
       "Text(0.5,1,'LOSO Tremor MAG - Mean AUROC = 0.709 +/- 0.123')"
      ]
     },
     "execution_count": 251,
     "metadata": {},
     "output_type": "execute_result"
    },
    {
     "data": {
      "image/png": "[encoded data removed]",
      "text/plain": [
       "<matplotlib.figure.Figure at 0xf64a470>"
      ]
     },
     "metadata": {},
     "output_type": "display_data"
    }
   ],
   "source": [
    "results_tremor_mag = res_group['Random Forest']['auroc']\n",
    "aurocall = res_group['Random Forest']['auroc']\n",
    "sns.barplot(np.unique(groups),aurocall)\n",
    "ax = plt.xticks(rotation=90)\n",
    "plt.ylim([0,1.0])\n",
    "plt.title('LOSO Tremor MAG - Mean AUROC = %.3f +/- %.3f'%(np.nanmean(aurocall),np.nanstd(aurocall)))"
   ]
  },
  {
   "cell_type": "code",
   "execution_count": 252,
   "metadata": {},
   "outputs": [
    {
     "data": {
      "image/png": "[encoded data removed]",
      "text/plain": [
       "<matplotlib.figure.Figure at 0xf497c18>"
      ]
     },
     "metadata": {},
     "output_type": "display_data"
    }
   ],
   "source": [
    "results = pd.DataFrame({'XYZ':results_tremor_xyz,'Magnitude':results_tremor_mag})\n",
    "\n",
    "figure = plt.figure()\n",
    "figure.set_dpi(100)\n",
    "figure.set_size_inches(6.4,4.8)\n",
    "ax = sns.boxplot(data=results);\n",
    "plt.ylabel('AUROC');\n",
    "plt.ylim(0,1);\n",
    "plt.title('LOSO Tremor');\n",
    "\n",
    "#x1,x2 = 0,1\n",
    "#y, h, col = results['Accelerometer'].max() + 0.02, 0.02, 'k'\n",
    "#plt.plot([x1, x1, x2, x2], [y, y+h, y+h, y], lw=1.5, c=col)\n",
    "#plt.text((x1+x2)*.5, y+h+0.01, \"***\", ha='center', va='bottom', color=col,fontsize=16);"
   ]
  },
  {
   "cell_type": "code",
   "execution_count": 253,
   "metadata": {},
   "outputs": [
    {
     "name": "stderr",
     "output_type": "stream",
     "text": [
      "C:\\Users\\Public\\Documents\\Anaconda\\lib\\site-packages\\scipy\\stats\\_distn_infrastructure.py:879: RuntimeWarning: invalid value encountered in greater\n",
      "  return (self.a < x) & (x < self.b)\n",
      "C:\\Users\\Public\\Documents\\Anaconda\\lib\\site-packages\\scipy\\stats\\_distn_infrastructure.py:879: RuntimeWarning: invalid value encountered in less\n",
      "  return (self.a < x) & (x < self.b)\n",
      "C:\\Users\\Public\\Documents\\Anaconda\\lib\\site-packages\\scipy\\stats\\_distn_infrastructure.py:1821: RuntimeWarning: invalid value encountered in less_equal\n",
      "  cond2 = cond0 & (x <= self.a)\n"
     ]
    },
    {
     "data": {
      "text/plain": [
       "Ttest_relResult(statistic=nan, pvalue=nan)"
      ]
     },
     "execution_count": 253,
     "metadata": {},
     "output_type": "execute_result"
    }
   ],
   "source": [
    "stats.ttest_rel(results['XYZ'],results['Magnitude'])"
   ]
  },
  {
   "cell_type": "code",
   "execution_count": 254,
   "metadata": {},
   "outputs": [
    {
     "name": "stdout",
     "output_type": "stream",
     "text": [
      "Rows w Bradykinesia 7686/13739 = 0.56\n",
      "Training Random Forest\n",
      "f1_test=0.622+/-0.224, prec=0.622+/-0.283, rec=0.747+/-0.133, auprc=0.656+/-0.266, auroc=0.667+/-0.096\n",
      "Elapsed time = 0.947 min\n"
     ]
    }
   ],
   "source": [
    "t1=time.time()\n",
    "res_all = pd.DataFrame()\n",
    "\n",
    "symptom = 'Bradykinesia'\n",
    "\n",
    "Data = data_brady_xyz.copy() #original unmodified dataframe\n",
    "Data=Data[~Data[symptom].isnull()] #remove nan rows for current symptom\n",
    "Data=Data.reset_index(drop=True) #reset index\n",
    "\n",
    "X = Data.iloc[:,5:].as_matrix()\n",
    "fnames = Data.iloc[:,5:].columns.values\n",
    "\n",
    "indp = ((Data[symptom]>0))\n",
    "indp = indp.values\n",
    "y = indp.astype(int) #target \n",
    "print('Rows w %s %d/%d = %.2f'%(symptom,sum(indp),len(indp),(sum(indp)/len(indp))))\n",
    "\n",
    "models = [RandomForestClassifier(n_estimators=50,random_state=2)]          \n",
    "model_name = ['Random Forest']\n",
    "models = list(zip(models,model_name))\n",
    "groups = Data.Subject.as_matrix()\n",
    "\n",
    "res,res_group = LOSOCV(Data,X,y,groups,models)\n",
    "res_all = pd.concat((res_all,res))\n",
    "    \n",
    "print('Elapsed time = %.3f min'%((time.time()-t1)/60))    "
   ]
  },
  {
   "cell_type": "code",
   "execution_count": 255,
   "metadata": {},
   "outputs": [
    {
     "data": {
      "text/plain": [
       "Text(0.5,1,'LOSO Bradykinesia XYZ - Mean AUROC = 0.667 +/- 0.096')"
      ]
     },
     "execution_count": 255,
     "metadata": {},
     "output_type": "execute_result"
    },
    {
     "data": {
      "image/png": "[encoded data removed]",
      "text/plain": [
       "<matplotlib.figure.Figure at 0xf75cf98>"
      ]
     },
     "metadata": {},
     "output_type": "display_data"
    }
   ],
   "source": [
    "results_brady_xyz = res_group['Random Forest']['auroc']\n",
    "aurocall = res_group['Random Forest']['auroc']\n",
    "sns.barplot(np.unique(groups),aurocall)\n",
    "ax = plt.xticks(rotation=90)\n",
    "plt.ylim([0,1.0])\n",
    "plt.title('LOSO Bradykinesia XYZ - Mean AUROC = %.3f +/- %.3f'%(np.nanmean(aurocall),np.nanstd(aurocall)))"
   ]
  },
  {
   "cell_type": "code",
   "execution_count": 256,
   "metadata": {},
   "outputs": [
    {
     "name": "stdout",
     "output_type": "stream",
     "text": [
      "Rows w Bradykinesia 7686/13739 = 0.56\n",
      "Training Random Forest\n",
      "f1_test=0.607+/-0.223, prec=0.617+/-0.282, rec=0.725+/-0.143, auprc=0.648+/-0.272, auroc=0.659+/-0.077\n",
      "Elapsed time = 0.658 min\n"
     ]
    }
   ],
   "source": [
    "t1=time.time()\n",
    "res_all = pd.DataFrame()\n",
    "\n",
    "symptom = 'Bradykinesia'\n",
    "\n",
    "Data = data_brady_mag.copy() #original unmodified dataframe\n",
    "Data=Data[~Data[symptom].isnull()] #remove nan rows for current symptom\n",
    "Data=Data.reset_index(drop=True) #reset index\n",
    "\n",
    "X = Data.iloc[:,5:].as_matrix()\n",
    "fnames = Data.iloc[:,5:].columns.values\n",
    "\n",
    "indp = ((Data[symptom]>0))\n",
    "indp = indp.values\n",
    "y = indp.astype(int) #target \n",
    "print('Rows w %s %d/%d = %.2f'%(symptom,sum(indp),len(indp),(sum(indp)/len(indp))))\n",
    "\n",
    "models = [RandomForestClassifier(n_estimators=50,random_state=2)]          \n",
    "model_name = ['Random Forest']\n",
    "models = list(zip(models,model_name))\n",
    "groups = Data.Subject.as_matrix()\n",
    "\n",
    "res,res_group = LOSOCV(Data,X,y,groups,models)\n",
    "res_all = pd.concat((res_all,res))\n",
    "    \n",
    "print('Elapsed time = %.3f min'%((time.time()-t1)/60))    "
   ]
  },
  {
   "cell_type": "code",
   "execution_count": 257,
   "metadata": {},
   "outputs": [
    {
     "data": {
      "text/plain": [
       "Text(0.5,1,'LOSO Bradykinesia MAG - Mean AUROC = 0.659 +/- 0.077')"
      ]
     },
     "execution_count": 257,
     "metadata": {},
     "output_type": "execute_result"
    },
    {
     "data": {
      "image/png": "[encoded data removed]",
      "text/plain": [
       "<matplotlib.figure.Figure at 0xf6a38d0>"
      ]
     },
     "metadata": {},
     "output_type": "display_data"
    }
   ],
   "source": [
    "results_brady_mag = res_group['Random Forest']['auroc']\n",
    "aurocall = res_group['Random Forest']['auroc']\n",
    "sns.barplot(np.unique(groups),aurocall)\n",
    "ax = plt.xticks(rotation=90)\n",
    "plt.ylim([0,1.0])\n",
    "plt.title('LOSO Bradykinesia MAG - Mean AUROC = %.3f +/- %.3f'%(np.nanmean(aurocall),np.nanstd(aurocall)))"
   ]
  },
  {
   "cell_type": "code",
   "execution_count": 258,
   "metadata": {},
   "outputs": [
    {
     "data": {
      "image/png": "[encoded data removed]",
      "text/plain": [
       "<matplotlib.figure.Figure at 0x1039ec50>"
      ]
     },
     "metadata": {},
     "output_type": "display_data"
    }
   ],
   "source": [
    "results = pd.DataFrame({'XYZ':results_brady_xyz,'Magnitude':results_brady_mag})\n",
    "\n",
    "figure = plt.figure()\n",
    "figure.set_dpi(100)\n",
    "figure.set_size_inches(6.4,4.8)\n",
    "ax = sns.boxplot(data=results);\n",
    "plt.ylabel('AUROC');\n",
    "plt.ylim(0,1);\n",
    "plt.title('LOSO Bradykinesia');\n",
    "\n",
    "#x1,x2 = 0,1\n",
    "#y, h, col = results['Accelerometer'].max() + 0.02, 0.02, 'k'\n",
    "#plt.plot([x1, x1, x2, x2], [y, y+h, y+h, y], lw=1.5, c=col)\n",
    "#plt.text((x1+x2)*.5, y+h+0.01, \"***\", ha='center', va='bottom', color=col,fontsize=16);"
   ]
  },
  {
   "cell_type": "code",
   "execution_count": 259,
   "metadata": {},
   "outputs": [
    {
     "data": {
      "text/plain": [
       "Ttest_relResult(statistic=0.5803583994067892, pvalue=0.572410182328439)"
      ]
     },
     "execution_count": 259,
     "metadata": {},
     "output_type": "execute_result"
    }
   ],
   "source": [
    "stats.ttest_rel(results['XYZ'],results['Magnitude'])"
   ]
  },
  {
   "cell_type": "markdown",
   "metadata": {},
   "source": [
    "# Feature Combinations"
   ]
  },
  {
   "cell_type": "code",
   "execution_count": 86,
   "metadata": {},
   "outputs": [],
   "source": [
    "featdict = {'freq':['Dom_freq','Pdom_rel','PSD_mean','PSD_std','PSD_skew','PSD_kur'],\n",
    "            'time':['RMSX','RMSY','RMSZ','rangeX','rangeY','rangeZ','meanX','meanY','meanZ','varX','varY','varZ','skewX','skewY','skewZ','kurtX','kurtY','kurtZ','Sen_X','Sen_Y','Sen_Z'],\n",
    "            'corr':['xcorr_peakXZ','xcorr_peakYZ','xcor_peakXY','xcorr_lagXZ','xcorr_lagYZ','xcorr_lagXY'],\n",
    "            'jerk':['jerk_mean','jerk_std','jerk_skew','jerk_kur'],\n",
    "            'mag' :['RMS_mag','range_mag','mean_mag','var_mag','skew_mag','kurt_mag','Sen_mag']}"
   ]
  },
  {
   "cell_type": "code",
   "execution_count": 87,
   "metadata": {},
   "outputs": [],
   "source": [
    "lst = ['freq','time','corr','jerk','mag']\n",
    "combs = []\n",
    "for i in range(len(lst)):\n",
    "    j = i + 1\n",
    "    els = [list(x) for x in combinations(lst, j)]\n",
    "    combs.extend(els)"
   ]
  },
  {
   "cell_type": "code",
   "execution_count": 88,
   "metadata": {},
   "outputs": [
    {
     "data": {
      "text/plain": [
       "[['freq'],\n",
       " ['time'],\n",
       " ['corr'],\n",
       " ['jerk'],\n",
       " ['mag'],\n",
       " ['freq', 'time'],\n",
       " ['freq', 'corr'],\n",
       " ['freq', 'jerk'],\n",
       " ['freq', 'mag'],\n",
       " ['time', 'corr'],\n",
       " ['time', 'jerk'],\n",
       " ['time', 'mag'],\n",
       " ['corr', 'jerk'],\n",
       " ['corr', 'mag'],\n",
       " ['jerk', 'mag'],\n",
       " ['freq', 'time', 'corr'],\n",
       " ['freq', 'time', 'jerk'],\n",
       " ['freq', 'time', 'mag'],\n",
       " ['freq', 'corr', 'jerk'],\n",
       " ['freq', 'corr', 'mag'],\n",
       " ['freq', 'jerk', 'mag'],\n",
       " ['time', 'corr', 'jerk'],\n",
       " ['time', 'corr', 'mag'],\n",
       " ['time', 'jerk', 'mag'],\n",
       " ['corr', 'jerk', 'mag'],\n",
       " ['freq', 'time', 'corr', 'jerk'],\n",
       " ['freq', 'time', 'corr', 'mag'],\n",
       " ['freq', 'time', 'jerk', 'mag'],\n",
       " ['freq', 'corr', 'jerk', 'mag'],\n",
       " ['time', 'corr', 'jerk', 'mag'],\n",
       " ['freq', 'time', 'corr', 'jerk', 'mag']]"
      ]
     },
     "execution_count": 88,
     "metadata": {},
     "output_type": "execute_result"
    }
   ],
   "source": [
    "combs"
   ]
  },
  {
   "cell_type": "markdown",
   "metadata": {},
   "source": [
    "## Binary Classifier"
   ]
  },
  {
   "cell_type": "markdown",
   "metadata": {},
   "source": [
    "### Tremor"
   ]
  },
  {
   "cell_type": "code",
   "execution_count": 94,
   "metadata": {},
   "outputs": [],
   "source": [
    "data = pd.read_csv('Z:CIS-PD Study\\\\Downsample\\\\Accel Data 62.5Hz.csv')\n",
    "data = data[(data.Subject != 1020) & (data.Subject != 1030)]\n",
    "info = ['Subject','Visit','Task','Bradykinesia','Tremor']"
   ]
  },
  {
   "cell_type": "code",
   "execution_count": 95,
   "metadata": {},
   "outputs": [
    {
     "name": "stdout",
     "output_type": "stream",
     "text": [
      "[1004 1016 1018 1019 1024 1029 1032 1038 1044 1046 1049 1051]\n"
     ]
    },
    {
     "data": {
      "text/html": [
       "<div>\n",
       "<style scoped>\n",
       "    .dataframe tbody tr th:only-of-type {\n",
       "        vertical-align: middle;\n",
       "    }\n",
       "\n",
       "    .dataframe tbody tr th {\n",
       "        vertical-align: top;\n",
       "    }\n",
       "\n",
       "    .dataframe thead th {\n",
       "        text-align: right;\n",
       "    }\n",
       "</style>\n",
       "<table border=\"1\" class=\"dataframe\">\n",
       "  <thead>\n",
       "    <tr style=\"text-align: right;\">\n",
       "      <th></th>\n",
       "      <th>Unnamed: 0</th>\n",
       "      <th>Subject</th>\n",
       "      <th>Visit</th>\n",
       "      <th>Task</th>\n",
       "      <th>Bradykinesia</th>\n",
       "      <th>Tremor</th>\n",
       "      <th>RMSX</th>\n",
       "      <th>RMSY</th>\n",
       "      <th>RMSZ</th>\n",
       "      <th>rangeX</th>\n",
       "      <th>...</th>\n",
       "      <th>Sen_X</th>\n",
       "      <th>Sen_Y</th>\n",
       "      <th>Sen_Z</th>\n",
       "      <th>RMS_mag</th>\n",
       "      <th>range_mag</th>\n",
       "      <th>mean_mag</th>\n",
       "      <th>var_mag</th>\n",
       "      <th>skew_mag</th>\n",
       "      <th>kurt_mag</th>\n",
       "      <th>Sen_mag</th>\n",
       "    </tr>\n",
       "  </thead>\n",
       "  <tbody>\n",
       "    <tr>\n",
       "      <th>0</th>\n",
       "      <td>0</td>\n",
       "      <td>1004</td>\n",
       "      <td>2 Weeks: Time 0</td>\n",
       "      <td>Motor #1: Standing</td>\n",
       "      <td>NaN</td>\n",
       "      <td>0.0</td>\n",
       "      <td>0.000732</td>\n",
       "      <td>0.000535</td>\n",
       "      <td>0.000574</td>\n",
       "      <td>0.079929</td>\n",
       "      <td>...</td>\n",
       "      <td>0.895181</td>\n",
       "      <td>1.171897</td>\n",
       "      <td>0.991753</td>\n",
       "      <td>0.001073</td>\n",
       "      <td>0.043022</td>\n",
       "      <td>0.016731</td>\n",
       "      <td>0.008983</td>\n",
       "      <td>0.808057</td>\n",
       "      <td>0.057535</td>\n",
       "      <td>1.120104</td>\n",
       "    </tr>\n",
       "    <tr>\n",
       "      <th>1</th>\n",
       "      <td>1</td>\n",
       "      <td>1004</td>\n",
       "      <td>2 Weeks: Time 0</td>\n",
       "      <td>Motor #1: Standing</td>\n",
       "      <td>NaN</td>\n",
       "      <td>0.0</td>\n",
       "      <td>0.000591</td>\n",
       "      <td>0.000492</td>\n",
       "      <td>0.000475</td>\n",
       "      <td>0.059164</td>\n",
       "      <td>...</td>\n",
       "      <td>0.952226</td>\n",
       "      <td>0.906698</td>\n",
       "      <td>1.149938</td>\n",
       "      <td>0.000904</td>\n",
       "      <td>0.051198</td>\n",
       "      <td>0.013692</td>\n",
       "      <td>0.008266</td>\n",
       "      <td>1.536889</td>\n",
       "      <td>3.505034</td>\n",
       "      <td>0.986897</td>\n",
       "    </tr>\n",
       "    <tr>\n",
       "      <th>2</th>\n",
       "      <td>2</td>\n",
       "      <td>1004</td>\n",
       "      <td>2 Weeks: Time 0</td>\n",
       "      <td>Motor #1: Standing</td>\n",
       "      <td>NaN</td>\n",
       "      <td>0.0</td>\n",
       "      <td>0.000557</td>\n",
       "      <td>0.000494</td>\n",
       "      <td>0.000422</td>\n",
       "      <td>0.063106</td>\n",
       "      <td>...</td>\n",
       "      <td>0.890457</td>\n",
       "      <td>0.892128</td>\n",
       "      <td>1.325102</td>\n",
       "      <td>0.000856</td>\n",
       "      <td>0.051198</td>\n",
       "      <td>0.012841</td>\n",
       "      <td>0.008026</td>\n",
       "      <td>1.685300</td>\n",
       "      <td>4.507400</td>\n",
       "      <td>0.992065</td>\n",
       "    </tr>\n",
       "    <tr>\n",
       "      <th>3</th>\n",
       "      <td>3</td>\n",
       "      <td>1004</td>\n",
       "      <td>2 Weeks: Time 0</td>\n",
       "      <td>Motor #1: Standing</td>\n",
       "      <td>NaN</td>\n",
       "      <td>0.0</td>\n",
       "      <td>0.000472</td>\n",
       "      <td>0.000360</td>\n",
       "      <td>0.000383</td>\n",
       "      <td>0.056094</td>\n",
       "      <td>...</td>\n",
       "      <td>1.015921</td>\n",
       "      <td>1.299535</td>\n",
       "      <td>1.247401</td>\n",
       "      <td>0.000706</td>\n",
       "      <td>0.033267</td>\n",
       "      <td>0.011194</td>\n",
       "      <td>0.005552</td>\n",
       "      <td>0.993716</td>\n",
       "      <td>1.383678</td>\n",
       "      <td>1.393774</td>\n",
       "    </tr>\n",
       "    <tr>\n",
       "      <th>4</th>\n",
       "      <td>4</td>\n",
       "      <td>1004</td>\n",
       "      <td>2 Weeks: Time 0</td>\n",
       "      <td>Motor #1: Standing</td>\n",
       "      <td>NaN</td>\n",
       "      <td>0.0</td>\n",
       "      <td>0.000317</td>\n",
       "      <td>0.000244</td>\n",
       "      <td>0.000281</td>\n",
       "      <td>0.033473</td>\n",
       "      <td>...</td>\n",
       "      <td>1.289370</td>\n",
       "      <td>1.392917</td>\n",
       "      <td>1.263504</td>\n",
       "      <td>0.000489</td>\n",
       "      <td>0.022742</td>\n",
       "      <td>0.007503</td>\n",
       "      <td>0.004322</td>\n",
       "      <td>1.095023</td>\n",
       "      <td>1.027263</td>\n",
       "      <td>1.426254</td>\n",
       "    </tr>\n",
       "  </tbody>\n",
       "</table>\n",
       "<p>5 rows × 50 columns</p>\n",
       "</div>"
      ],
      "text/plain": [
       "   Unnamed: 0  Subject            Visit                Task  Bradykinesia  \\\n",
       "0           0     1004  2 Weeks: Time 0  Motor #1: Standing           NaN   \n",
       "1           1     1004  2 Weeks: Time 0  Motor #1: Standing           NaN   \n",
       "2           2     1004  2 Weeks: Time 0  Motor #1: Standing           NaN   \n",
       "3           3     1004  2 Weeks: Time 0  Motor #1: Standing           NaN   \n",
       "4           4     1004  2 Weeks: Time 0  Motor #1: Standing           NaN   \n",
       "\n",
       "   Tremor      RMSX      RMSY      RMSZ    rangeX    ...        Sen_X  \\\n",
       "0     0.0  0.000732  0.000535  0.000574  0.079929    ...     0.895181   \n",
       "1     0.0  0.000591  0.000492  0.000475  0.059164    ...     0.952226   \n",
       "2     0.0  0.000557  0.000494  0.000422  0.063106    ...     0.890457   \n",
       "3     0.0  0.000472  0.000360  0.000383  0.056094    ...     1.015921   \n",
       "4     0.0  0.000317  0.000244  0.000281  0.033473    ...     1.289370   \n",
       "\n",
       "      Sen_Y     Sen_Z   RMS_mag  range_mag  mean_mag   var_mag  skew_mag  \\\n",
       "0  1.171897  0.991753  0.001073   0.043022  0.016731  0.008983  0.808057   \n",
       "1  0.906698  1.149938  0.000904   0.051198  0.013692  0.008266  1.536889   \n",
       "2  0.892128  1.325102  0.000856   0.051198  0.012841  0.008026  1.685300   \n",
       "3  1.299535  1.247401  0.000706   0.033267  0.011194  0.005552  0.993716   \n",
       "4  1.392917  1.263504  0.000489   0.022742  0.007503  0.004322  1.095023   \n",
       "\n",
       "   kurt_mag   Sen_mag  \n",
       "0  0.057535  1.120104  \n",
       "1  3.505034  0.986897  \n",
       "2  4.507400  0.992065  \n",
       "3  1.383678  1.393774  \n",
       "4  1.027263  1.426254  \n",
       "\n",
       "[5 rows x 50 columns]"
      ]
     },
     "execution_count": 95,
     "metadata": {},
     "output_type": "execute_result"
    }
   ],
   "source": [
    "print(np.unique(data.Subject))\n",
    "data.head()"
   ]
  },
  {
   "cell_type": "code",
   "execution_count": 96,
   "metadata": {
    "scrolled": true
   },
   "outputs": [
    {
     "name": "stdout",
     "output_type": "stream",
     "text": [
      "Training Random Forest\n"
     ]
    },
    {
     "name": "stderr",
     "output_type": "stream",
     "text": [
      "C:\\Users\\Public\\Documents\\Anaconda\\lib\\site-packages\\sklearn\\metrics\\classification.py:1137: UndefinedMetricWarning: F-score is ill-defined and being set to 0.0 due to no true samples.\n",
      "  'recall', 'true', average, warn_for)\n",
      "C:\\Users\\Public\\Documents\\Anaconda\\lib\\site-packages\\sklearn\\metrics\\ranking.py:444: RuntimeWarning: invalid value encountered in true_divide\n",
      "  recall = tps / tps[-1]\n",
      "C:\\Users\\Public\\Documents\\Anaconda\\lib\\site-packages\\sklearn\\metrics\\ranking.py:94: RuntimeWarning: invalid value encountered in less\n",
      "  if np.any(dx < 0):\n",
      "C:\\Users\\Public\\Documents\\Anaconda\\lib\\site-packages\\sklearn\\metrics\\classification.py:1137: UndefinedMetricWarning: Recall is ill-defined and being set to 0.0 due to no true samples.\n",
      "  'recall', 'true', average, warn_for)\n"
     ]
    },
    {
     "name": "stdout",
     "output_type": "stream",
     "text": [
      "Training Random Forest\n"
     ]
    },
    {
     "name": "stderr",
     "output_type": "stream",
     "text": [
      "C:\\Users\\Public\\Documents\\Anaconda\\lib\\site-packages\\sklearn\\metrics\\classification.py:1137: UndefinedMetricWarning: F-score is ill-defined and being set to 0.0 due to no true samples.\n",
      "  'recall', 'true', average, warn_for)\n",
      "C:\\Users\\Public\\Documents\\Anaconda\\lib\\site-packages\\sklearn\\metrics\\ranking.py:444: RuntimeWarning: invalid value encountered in true_divide\n",
      "  recall = tps / tps[-1]\n",
      "C:\\Users\\Public\\Documents\\Anaconda\\lib\\site-packages\\sklearn\\metrics\\ranking.py:94: RuntimeWarning: invalid value encountered in less\n",
      "  if np.any(dx < 0):\n",
      "C:\\Users\\Public\\Documents\\Anaconda\\lib\\site-packages\\sklearn\\metrics\\classification.py:1137: UndefinedMetricWarning: Recall is ill-defined and being set to 0.0 due to no true samples.\n",
      "  'recall', 'true', average, warn_for)\n"
     ]
    },
    {
     "name": "stdout",
     "output_type": "stream",
     "text": [
      "Training Random Forest\n"
     ]
    },
    {
     "name": "stderr",
     "output_type": "stream",
     "text": [
      "C:\\Users\\Public\\Documents\\Anaconda\\lib\\site-packages\\sklearn\\metrics\\classification.py:1137: UndefinedMetricWarning: F-score is ill-defined and being set to 0.0 due to no true samples.\n",
      "  'recall', 'true', average, warn_for)\n",
      "C:\\Users\\Public\\Documents\\Anaconda\\lib\\site-packages\\sklearn\\metrics\\ranking.py:444: RuntimeWarning: invalid value encountered in true_divide\n",
      "  recall = tps / tps[-1]\n",
      "C:\\Users\\Public\\Documents\\Anaconda\\lib\\site-packages\\sklearn\\metrics\\ranking.py:94: RuntimeWarning: invalid value encountered in less\n",
      "  if np.any(dx < 0):\n",
      "C:\\Users\\Public\\Documents\\Anaconda\\lib\\site-packages\\sklearn\\metrics\\classification.py:1137: UndefinedMetricWarning: Recall is ill-defined and being set to 0.0 due to no true samples.\n",
      "  'recall', 'true', average, warn_for)\n"
     ]
    },
    {
     "name": "stdout",
     "output_type": "stream",
     "text": [
      "Training Random Forest\n"
     ]
    },
    {
     "name": "stderr",
     "output_type": "stream",
     "text": [
      "C:\\Users\\Public\\Documents\\Anaconda\\lib\\site-packages\\sklearn\\metrics\\classification.py:1137: UndefinedMetricWarning: F-score is ill-defined and being set to 0.0 due to no true samples.\n",
      "  'recall', 'true', average, warn_for)\n",
      "C:\\Users\\Public\\Documents\\Anaconda\\lib\\site-packages\\sklearn\\metrics\\ranking.py:444: RuntimeWarning: invalid value encountered in true_divide\n",
      "  recall = tps / tps[-1]\n",
      "C:\\Users\\Public\\Documents\\Anaconda\\lib\\site-packages\\sklearn\\metrics\\ranking.py:94: RuntimeWarning: invalid value encountered in less\n",
      "  if np.any(dx < 0):\n",
      "C:\\Users\\Public\\Documents\\Anaconda\\lib\\site-packages\\sklearn\\metrics\\classification.py:1137: UndefinedMetricWarning: Recall is ill-defined and being set to 0.0 due to no true samples.\n",
      "  'recall', 'true', average, warn_for)\n"
     ]
    },
    {
     "name": "stdout",
     "output_type": "stream",
     "text": [
      "Training Random Forest\n"
     ]
    },
    {
     "name": "stderr",
     "output_type": "stream",
     "text": [
      "C:\\Users\\Public\\Documents\\Anaconda\\lib\\site-packages\\sklearn\\metrics\\classification.py:1137: UndefinedMetricWarning: F-score is ill-defined and being set to 0.0 due to no true samples.\n",
      "  'recall', 'true', average, warn_for)\n",
      "C:\\Users\\Public\\Documents\\Anaconda\\lib\\site-packages\\sklearn\\metrics\\ranking.py:444: RuntimeWarning: invalid value encountered in true_divide\n",
      "  recall = tps / tps[-1]\n",
      "C:\\Users\\Public\\Documents\\Anaconda\\lib\\site-packages\\sklearn\\metrics\\ranking.py:94: RuntimeWarning: invalid value encountered in less\n",
      "  if np.any(dx < 0):\n",
      "C:\\Users\\Public\\Documents\\Anaconda\\lib\\site-packages\\sklearn\\metrics\\classification.py:1137: UndefinedMetricWarning: Recall is ill-defined and being set to 0.0 due to no true samples.\n",
      "  'recall', 'true', average, warn_for)\n"
     ]
    },
    {
     "name": "stdout",
     "output_type": "stream",
     "text": [
      "Training Random Forest\n"
     ]
    },
    {
     "name": "stderr",
     "output_type": "stream",
     "text": [
      "C:\\Users\\Public\\Documents\\Anaconda\\lib\\site-packages\\sklearn\\metrics\\classification.py:1137: UndefinedMetricWarning: F-score is ill-defined and being set to 0.0 due to no true samples.\n",
      "  'recall', 'true', average, warn_for)\n",
      "C:\\Users\\Public\\Documents\\Anaconda\\lib\\site-packages\\sklearn\\metrics\\ranking.py:444: RuntimeWarning: invalid value encountered in true_divide\n",
      "  recall = tps / tps[-1]\n",
      "C:\\Users\\Public\\Documents\\Anaconda\\lib\\site-packages\\sklearn\\metrics\\ranking.py:94: RuntimeWarning: invalid value encountered in less\n",
      "  if np.any(dx < 0):\n",
      "C:\\Users\\Public\\Documents\\Anaconda\\lib\\site-packages\\sklearn\\metrics\\classification.py:1137: UndefinedMetricWarning: Recall is ill-defined and being set to 0.0 due to no true samples.\n",
      "  'recall', 'true', average, warn_for)\n"
     ]
    },
    {
     "name": "stdout",
     "output_type": "stream",
     "text": [
      "Training Random Forest\n"
     ]
    },
    {
     "name": "stderr",
     "output_type": "stream",
     "text": [
      "C:\\Users\\Public\\Documents\\Anaconda\\lib\\site-packages\\sklearn\\metrics\\classification.py:1137: UndefinedMetricWarning: F-score is ill-defined and being set to 0.0 due to no true samples.\n",
      "  'recall', 'true', average, warn_for)\n",
      "C:\\Users\\Public\\Documents\\Anaconda\\lib\\site-packages\\sklearn\\metrics\\ranking.py:444: RuntimeWarning: invalid value encountered in true_divide\n",
      "  recall = tps / tps[-1]\n",
      "C:\\Users\\Public\\Documents\\Anaconda\\lib\\site-packages\\sklearn\\metrics\\ranking.py:94: RuntimeWarning: invalid value encountered in less\n",
      "  if np.any(dx < 0):\n",
      "C:\\Users\\Public\\Documents\\Anaconda\\lib\\site-packages\\sklearn\\metrics\\classification.py:1137: UndefinedMetricWarning: Recall is ill-defined and being set to 0.0 due to no true samples.\n",
      "  'recall', 'true', average, warn_for)\n"
     ]
    },
    {
     "name": "stdout",
     "output_type": "stream",
     "text": [
      "Training Random Forest\n"
     ]
    },
    {
     "name": "stderr",
     "output_type": "stream",
     "text": [
      "C:\\Users\\Public\\Documents\\Anaconda\\lib\\site-packages\\sklearn\\metrics\\classification.py:1137: UndefinedMetricWarning: F-score is ill-defined and being set to 0.0 due to no true samples.\n",
      "  'recall', 'true', average, warn_for)\n",
      "C:\\Users\\Public\\Documents\\Anaconda\\lib\\site-packages\\sklearn\\metrics\\ranking.py:444: RuntimeWarning: invalid value encountered in true_divide\n",
      "  recall = tps / tps[-1]\n",
      "C:\\Users\\Public\\Documents\\Anaconda\\lib\\site-packages\\sklearn\\metrics\\ranking.py:94: RuntimeWarning: invalid value encountered in less\n",
      "  if np.any(dx < 0):\n",
      "C:\\Users\\Public\\Documents\\Anaconda\\lib\\site-packages\\sklearn\\metrics\\classification.py:1137: UndefinedMetricWarning: Recall is ill-defined and being set to 0.0 due to no true samples.\n",
      "  'recall', 'true', average, warn_for)\n"
     ]
    },
    {
     "name": "stdout",
     "output_type": "stream",
     "text": [
      "Training Random Forest\n"
     ]
    },
    {
     "name": "stderr",
     "output_type": "stream",
     "text": [
      "C:\\Users\\Public\\Documents\\Anaconda\\lib\\site-packages\\sklearn\\metrics\\classification.py:1137: UndefinedMetricWarning: F-score is ill-defined and being set to 0.0 due to no true samples.\n",
      "  'recall', 'true', average, warn_for)\n",
      "C:\\Users\\Public\\Documents\\Anaconda\\lib\\site-packages\\sklearn\\metrics\\ranking.py:444: RuntimeWarning: invalid value encountered in true_divide\n",
      "  recall = tps / tps[-1]\n",
      "C:\\Users\\Public\\Documents\\Anaconda\\lib\\site-packages\\sklearn\\metrics\\ranking.py:94: RuntimeWarning: invalid value encountered in less\n",
      "  if np.any(dx < 0):\n",
      "C:\\Users\\Public\\Documents\\Anaconda\\lib\\site-packages\\sklearn\\metrics\\classification.py:1137: UndefinedMetricWarning: Recall is ill-defined and being set to 0.0 due to no true samples.\n",
      "  'recall', 'true', average, warn_for)\n"
     ]
    },
    {
     "name": "stdout",
     "output_type": "stream",
     "text": [
      "Training Random Forest\n"
     ]
    },
    {
     "name": "stderr",
     "output_type": "stream",
     "text": [
      "C:\\Users\\Public\\Documents\\Anaconda\\lib\\site-packages\\sklearn\\metrics\\classification.py:1137: UndefinedMetricWarning: F-score is ill-defined and being set to 0.0 due to no true samples.\n",
      "  'recall', 'true', average, warn_for)\n",
      "C:\\Users\\Public\\Documents\\Anaconda\\lib\\site-packages\\sklearn\\metrics\\ranking.py:444: RuntimeWarning: invalid value encountered in true_divide\n",
      "  recall = tps / tps[-1]\n",
      "C:\\Users\\Public\\Documents\\Anaconda\\lib\\site-packages\\sklearn\\metrics\\ranking.py:94: RuntimeWarning: invalid value encountered in less\n",
      "  if np.any(dx < 0):\n",
      "C:\\Users\\Public\\Documents\\Anaconda\\lib\\site-packages\\sklearn\\metrics\\classification.py:1137: UndefinedMetricWarning: Recall is ill-defined and being set to 0.0 due to no true samples.\n",
      "  'recall', 'true', average, warn_for)\n"
     ]
    },
    {
     "name": "stdout",
     "output_type": "stream",
     "text": [
      "Training Random Forest\n"
     ]
    },
    {
     "name": "stderr",
     "output_type": "stream",
     "text": [
      "C:\\Users\\Public\\Documents\\Anaconda\\lib\\site-packages\\sklearn\\metrics\\classification.py:1137: UndefinedMetricWarning: F-score is ill-defined and being set to 0.0 due to no true samples.\n",
      "  'recall', 'true', average, warn_for)\n",
      "C:\\Users\\Public\\Documents\\Anaconda\\lib\\site-packages\\sklearn\\metrics\\ranking.py:444: RuntimeWarning: invalid value encountered in true_divide\n",
      "  recall = tps / tps[-1]\n",
      "C:\\Users\\Public\\Documents\\Anaconda\\lib\\site-packages\\sklearn\\metrics\\ranking.py:94: RuntimeWarning: invalid value encountered in less\n",
      "  if np.any(dx < 0):\n",
      "C:\\Users\\Public\\Documents\\Anaconda\\lib\\site-packages\\sklearn\\metrics\\classification.py:1137: UndefinedMetricWarning: Recall is ill-defined and being set to 0.0 due to no true samples.\n",
      "  'recall', 'true', average, warn_for)\n"
     ]
    },
    {
     "name": "stdout",
     "output_type": "stream",
     "text": [
      "Training Random Forest\n"
     ]
    },
    {
     "name": "stderr",
     "output_type": "stream",
     "text": [
      "C:\\Users\\Public\\Documents\\Anaconda\\lib\\site-packages\\sklearn\\metrics\\classification.py:1137: UndefinedMetricWarning: F-score is ill-defined and being set to 0.0 due to no true samples.\n",
      "  'recall', 'true', average, warn_for)\n",
      "C:\\Users\\Public\\Documents\\Anaconda\\lib\\site-packages\\sklearn\\metrics\\ranking.py:444: RuntimeWarning: invalid value encountered in true_divide\n",
      "  recall = tps / tps[-1]\n",
      "C:\\Users\\Public\\Documents\\Anaconda\\lib\\site-packages\\sklearn\\metrics\\ranking.py:94: RuntimeWarning: invalid value encountered in less\n",
      "  if np.any(dx < 0):\n",
      "C:\\Users\\Public\\Documents\\Anaconda\\lib\\site-packages\\sklearn\\metrics\\classification.py:1137: UndefinedMetricWarning: Recall is ill-defined and being set to 0.0 due to no true samples.\n",
      "  'recall', 'true', average, warn_for)\n"
     ]
    },
    {
     "name": "stdout",
     "output_type": "stream",
     "text": [
      "Training Random Forest\n"
     ]
    },
    {
     "name": "stderr",
     "output_type": "stream",
     "text": [
      "C:\\Users\\Public\\Documents\\Anaconda\\lib\\site-packages\\sklearn\\metrics\\classification.py:1137: UndefinedMetricWarning: F-score is ill-defined and being set to 0.0 due to no true samples.\n",
      "  'recall', 'true', average, warn_for)\n",
      "C:\\Users\\Public\\Documents\\Anaconda\\lib\\site-packages\\sklearn\\metrics\\ranking.py:444: RuntimeWarning: invalid value encountered in true_divide\n",
      "  recall = tps / tps[-1]\n",
      "C:\\Users\\Public\\Documents\\Anaconda\\lib\\site-packages\\sklearn\\metrics\\ranking.py:94: RuntimeWarning: invalid value encountered in less\n",
      "  if np.any(dx < 0):\n",
      "C:\\Users\\Public\\Documents\\Anaconda\\lib\\site-packages\\sklearn\\metrics\\classification.py:1137: UndefinedMetricWarning: Recall is ill-defined and being set to 0.0 due to no true samples.\n",
      "  'recall', 'true', average, warn_for)\n"
     ]
    },
    {
     "name": "stdout",
     "output_type": "stream",
     "text": [
      "Training Random Forest\n"
     ]
    },
    {
     "name": "stderr",
     "output_type": "stream",
     "text": [
      "C:\\Users\\Public\\Documents\\Anaconda\\lib\\site-packages\\sklearn\\metrics\\classification.py:1137: UndefinedMetricWarning: F-score is ill-defined and being set to 0.0 due to no true samples.\n",
      "  'recall', 'true', average, warn_for)\n",
      "C:\\Users\\Public\\Documents\\Anaconda\\lib\\site-packages\\sklearn\\metrics\\ranking.py:444: RuntimeWarning: invalid value encountered in true_divide\n",
      "  recall = tps / tps[-1]\n",
      "C:\\Users\\Public\\Documents\\Anaconda\\lib\\site-packages\\sklearn\\metrics\\ranking.py:94: RuntimeWarning: invalid value encountered in less\n",
      "  if np.any(dx < 0):\n",
      "C:\\Users\\Public\\Documents\\Anaconda\\lib\\site-packages\\sklearn\\metrics\\classification.py:1137: UndefinedMetricWarning: Recall is ill-defined and being set to 0.0 due to no true samples.\n",
      "  'recall', 'true', average, warn_for)\n"
     ]
    },
    {
     "name": "stdout",
     "output_type": "stream",
     "text": [
      "Training Random Forest\n"
     ]
    },
    {
     "name": "stderr",
     "output_type": "stream",
     "text": [
      "C:\\Users\\Public\\Documents\\Anaconda\\lib\\site-packages\\sklearn\\metrics\\classification.py:1137: UndefinedMetricWarning: F-score is ill-defined and being set to 0.0 due to no true samples.\n",
      "  'recall', 'true', average, warn_for)\n",
      "C:\\Users\\Public\\Documents\\Anaconda\\lib\\site-packages\\sklearn\\metrics\\ranking.py:444: RuntimeWarning: invalid value encountered in true_divide\n",
      "  recall = tps / tps[-1]\n",
      "C:\\Users\\Public\\Documents\\Anaconda\\lib\\site-packages\\sklearn\\metrics\\ranking.py:94: RuntimeWarning: invalid value encountered in less\n",
      "  if np.any(dx < 0):\n",
      "C:\\Users\\Public\\Documents\\Anaconda\\lib\\site-packages\\sklearn\\metrics\\classification.py:1137: UndefinedMetricWarning: Recall is ill-defined and being set to 0.0 due to no true samples.\n",
      "  'recall', 'true', average, warn_for)\n"
     ]
    },
    {
     "name": "stdout",
     "output_type": "stream",
     "text": [
      "Training Random Forest\n"
     ]
    },
    {
     "name": "stderr",
     "output_type": "stream",
     "text": [
      "C:\\Users\\Public\\Documents\\Anaconda\\lib\\site-packages\\sklearn\\metrics\\classification.py:1137: UndefinedMetricWarning: F-score is ill-defined and being set to 0.0 due to no true samples.\n",
      "  'recall', 'true', average, warn_for)\n",
      "C:\\Users\\Public\\Documents\\Anaconda\\lib\\site-packages\\sklearn\\metrics\\ranking.py:444: RuntimeWarning: invalid value encountered in true_divide\n",
      "  recall = tps / tps[-1]\n",
      "C:\\Users\\Public\\Documents\\Anaconda\\lib\\site-packages\\sklearn\\metrics\\ranking.py:94: RuntimeWarning: invalid value encountered in less\n",
      "  if np.any(dx < 0):\n",
      "C:\\Users\\Public\\Documents\\Anaconda\\lib\\site-packages\\sklearn\\metrics\\classification.py:1137: UndefinedMetricWarning: Recall is ill-defined and being set to 0.0 due to no true samples.\n",
      "  'recall', 'true', average, warn_for)\n"
     ]
    },
    {
     "name": "stdout",
     "output_type": "stream",
     "text": [
      "Training Random Forest\n"
     ]
    },
    {
     "name": "stderr",
     "output_type": "stream",
     "text": [
      "C:\\Users\\Public\\Documents\\Anaconda\\lib\\site-packages\\sklearn\\metrics\\classification.py:1137: UndefinedMetricWarning: F-score is ill-defined and being set to 0.0 due to no true samples.\n",
      "  'recall', 'true', average, warn_for)\n",
      "C:\\Users\\Public\\Documents\\Anaconda\\lib\\site-packages\\sklearn\\metrics\\ranking.py:444: RuntimeWarning: invalid value encountered in true_divide\n",
      "  recall = tps / tps[-1]\n",
      "C:\\Users\\Public\\Documents\\Anaconda\\lib\\site-packages\\sklearn\\metrics\\ranking.py:94: RuntimeWarning: invalid value encountered in less\n",
      "  if np.any(dx < 0):\n",
      "C:\\Users\\Public\\Documents\\Anaconda\\lib\\site-packages\\sklearn\\metrics\\classification.py:1137: UndefinedMetricWarning: Recall is ill-defined and being set to 0.0 due to no true samples.\n",
      "  'recall', 'true', average, warn_for)\n"
     ]
    },
    {
     "name": "stdout",
     "output_type": "stream",
     "text": [
      "Training Random Forest\n"
     ]
    },
    {
     "name": "stderr",
     "output_type": "stream",
     "text": [
      "C:\\Users\\Public\\Documents\\Anaconda\\lib\\site-packages\\sklearn\\metrics\\classification.py:1137: UndefinedMetricWarning: F-score is ill-defined and being set to 0.0 due to no true samples.\n",
      "  'recall', 'true', average, warn_for)\n",
      "C:\\Users\\Public\\Documents\\Anaconda\\lib\\site-packages\\sklearn\\metrics\\ranking.py:444: RuntimeWarning: invalid value encountered in true_divide\n",
      "  recall = tps / tps[-1]\n",
      "C:\\Users\\Public\\Documents\\Anaconda\\lib\\site-packages\\sklearn\\metrics\\ranking.py:94: RuntimeWarning: invalid value encountered in less\n",
      "  if np.any(dx < 0):\n",
      "C:\\Users\\Public\\Documents\\Anaconda\\lib\\site-packages\\sklearn\\metrics\\classification.py:1137: UndefinedMetricWarning: Recall is ill-defined and being set to 0.0 due to no true samples.\n",
      "  'recall', 'true', average, warn_for)\n"
     ]
    },
    {
     "name": "stdout",
     "output_type": "stream",
     "text": [
      "Training Random Forest\n"
     ]
    },
    {
     "name": "stderr",
     "output_type": "stream",
     "text": [
      "C:\\Users\\Public\\Documents\\Anaconda\\lib\\site-packages\\sklearn\\metrics\\classification.py:1137: UndefinedMetricWarning: F-score is ill-defined and being set to 0.0 due to no true samples.\n",
      "  'recall', 'true', average, warn_for)\n",
      "C:\\Users\\Public\\Documents\\Anaconda\\lib\\site-packages\\sklearn\\metrics\\ranking.py:444: RuntimeWarning: invalid value encountered in true_divide\n",
      "  recall = tps / tps[-1]\n",
      "C:\\Users\\Public\\Documents\\Anaconda\\lib\\site-packages\\sklearn\\metrics\\ranking.py:94: RuntimeWarning: invalid value encountered in less\n",
      "  if np.any(dx < 0):\n",
      "C:\\Users\\Public\\Documents\\Anaconda\\lib\\site-packages\\sklearn\\metrics\\classification.py:1137: UndefinedMetricWarning: Recall is ill-defined and being set to 0.0 due to no true samples.\n",
      "  'recall', 'true', average, warn_for)\n"
     ]
    },
    {
     "name": "stdout",
     "output_type": "stream",
     "text": [
      "Training Random Forest\n"
     ]
    },
    {
     "name": "stderr",
     "output_type": "stream",
     "text": [
      "C:\\Users\\Public\\Documents\\Anaconda\\lib\\site-packages\\sklearn\\metrics\\classification.py:1137: UndefinedMetricWarning: F-score is ill-defined and being set to 0.0 due to no true samples.\n",
      "  'recall', 'true', average, warn_for)\n",
      "C:\\Users\\Public\\Documents\\Anaconda\\lib\\site-packages\\sklearn\\metrics\\ranking.py:444: RuntimeWarning: invalid value encountered in true_divide\n",
      "  recall = tps / tps[-1]\n",
      "C:\\Users\\Public\\Documents\\Anaconda\\lib\\site-packages\\sklearn\\metrics\\ranking.py:94: RuntimeWarning: invalid value encountered in less\n",
      "  if np.any(dx < 0):\n",
      "C:\\Users\\Public\\Documents\\Anaconda\\lib\\site-packages\\sklearn\\metrics\\classification.py:1137: UndefinedMetricWarning: Recall is ill-defined and being set to 0.0 due to no true samples.\n",
      "  'recall', 'true', average, warn_for)\n"
     ]
    },
    {
     "name": "stdout",
     "output_type": "stream",
     "text": [
      "Training Random Forest\n"
     ]
    },
    {
     "name": "stderr",
     "output_type": "stream",
     "text": [
      "C:\\Users\\Public\\Documents\\Anaconda\\lib\\site-packages\\sklearn\\metrics\\classification.py:1137: UndefinedMetricWarning: F-score is ill-defined and being set to 0.0 due to no true samples.\n",
      "  'recall', 'true', average, warn_for)\n",
      "C:\\Users\\Public\\Documents\\Anaconda\\lib\\site-packages\\sklearn\\metrics\\ranking.py:444: RuntimeWarning: invalid value encountered in true_divide\n",
      "  recall = tps / tps[-1]\n",
      "C:\\Users\\Public\\Documents\\Anaconda\\lib\\site-packages\\sklearn\\metrics\\ranking.py:94: RuntimeWarning: invalid value encountered in less\n",
      "  if np.any(dx < 0):\n",
      "C:\\Users\\Public\\Documents\\Anaconda\\lib\\site-packages\\sklearn\\metrics\\classification.py:1137: UndefinedMetricWarning: Recall is ill-defined and being set to 0.0 due to no true samples.\n",
      "  'recall', 'true', average, warn_for)\n"
     ]
    },
    {
     "name": "stdout",
     "output_type": "stream",
     "text": [
      "Training Random Forest\n"
     ]
    },
    {
     "name": "stderr",
     "output_type": "stream",
     "text": [
      "C:\\Users\\Public\\Documents\\Anaconda\\lib\\site-packages\\sklearn\\metrics\\classification.py:1137: UndefinedMetricWarning: F-score is ill-defined and being set to 0.0 due to no true samples.\n",
      "  'recall', 'true', average, warn_for)\n",
      "C:\\Users\\Public\\Documents\\Anaconda\\lib\\site-packages\\sklearn\\metrics\\ranking.py:444: RuntimeWarning: invalid value encountered in true_divide\n",
      "  recall = tps / tps[-1]\n",
      "C:\\Users\\Public\\Documents\\Anaconda\\lib\\site-packages\\sklearn\\metrics\\ranking.py:94: RuntimeWarning: invalid value encountered in less\n",
      "  if np.any(dx < 0):\n",
      "C:\\Users\\Public\\Documents\\Anaconda\\lib\\site-packages\\sklearn\\metrics\\classification.py:1137: UndefinedMetricWarning: Recall is ill-defined and being set to 0.0 due to no true samples.\n",
      "  'recall', 'true', average, warn_for)\n"
     ]
    },
    {
     "name": "stdout",
     "output_type": "stream",
     "text": [
      "Training Random Forest\n"
     ]
    },
    {
     "name": "stderr",
     "output_type": "stream",
     "text": [
      "C:\\Users\\Public\\Documents\\Anaconda\\lib\\site-packages\\sklearn\\metrics\\classification.py:1137: UndefinedMetricWarning: F-score is ill-defined and being set to 0.0 due to no true samples.\n",
      "  'recall', 'true', average, warn_for)\n",
      "C:\\Users\\Public\\Documents\\Anaconda\\lib\\site-packages\\sklearn\\metrics\\ranking.py:444: RuntimeWarning: invalid value encountered in true_divide\n",
      "  recall = tps / tps[-1]\n",
      "C:\\Users\\Public\\Documents\\Anaconda\\lib\\site-packages\\sklearn\\metrics\\ranking.py:94: RuntimeWarning: invalid value encountered in less\n",
      "  if np.any(dx < 0):\n",
      "C:\\Users\\Public\\Documents\\Anaconda\\lib\\site-packages\\sklearn\\metrics\\classification.py:1137: UndefinedMetricWarning: Recall is ill-defined and being set to 0.0 due to no true samples.\n",
      "  'recall', 'true', average, warn_for)\n"
     ]
    },
    {
     "name": "stdout",
     "output_type": "stream",
     "text": [
      "Training Random Forest\n"
     ]
    },
    {
     "name": "stderr",
     "output_type": "stream",
     "text": [
      "C:\\Users\\Public\\Documents\\Anaconda\\lib\\site-packages\\sklearn\\metrics\\classification.py:1137: UndefinedMetricWarning: F-score is ill-defined and being set to 0.0 due to no true samples.\n",
      "  'recall', 'true', average, warn_for)\n",
      "C:\\Users\\Public\\Documents\\Anaconda\\lib\\site-packages\\sklearn\\metrics\\ranking.py:444: RuntimeWarning: invalid value encountered in true_divide\n",
      "  recall = tps / tps[-1]\n",
      "C:\\Users\\Public\\Documents\\Anaconda\\lib\\site-packages\\sklearn\\metrics\\ranking.py:94: RuntimeWarning: invalid value encountered in less\n",
      "  if np.any(dx < 0):\n",
      "C:\\Users\\Public\\Documents\\Anaconda\\lib\\site-packages\\sklearn\\metrics\\classification.py:1137: UndefinedMetricWarning: Recall is ill-defined and being set to 0.0 due to no true samples.\n",
      "  'recall', 'true', average, warn_for)\n"
     ]
    },
    {
     "name": "stdout",
     "output_type": "stream",
     "text": [
      "Training Random Forest\n"
     ]
    },
    {
     "name": "stderr",
     "output_type": "stream",
     "text": [
      "C:\\Users\\Public\\Documents\\Anaconda\\lib\\site-packages\\sklearn\\metrics\\classification.py:1137: UndefinedMetricWarning: F-score is ill-defined and being set to 0.0 due to no true samples.\n",
      "  'recall', 'true', average, warn_for)\n",
      "C:\\Users\\Public\\Documents\\Anaconda\\lib\\site-packages\\sklearn\\metrics\\ranking.py:444: RuntimeWarning: invalid value encountered in true_divide\n",
      "  recall = tps / tps[-1]\n",
      "C:\\Users\\Public\\Documents\\Anaconda\\lib\\site-packages\\sklearn\\metrics\\ranking.py:94: RuntimeWarning: invalid value encountered in less\n",
      "  if np.any(dx < 0):\n",
      "C:\\Users\\Public\\Documents\\Anaconda\\lib\\site-packages\\sklearn\\metrics\\classification.py:1137: UndefinedMetricWarning: Recall is ill-defined and being set to 0.0 due to no true samples.\n",
      "  'recall', 'true', average, warn_for)\n"
     ]
    },
    {
     "name": "stdout",
     "output_type": "stream",
     "text": [
      "Training Random Forest\n"
     ]
    },
    {
     "name": "stderr",
     "output_type": "stream",
     "text": [
      "C:\\Users\\Public\\Documents\\Anaconda\\lib\\site-packages\\sklearn\\metrics\\classification.py:1137: UndefinedMetricWarning: F-score is ill-defined and being set to 0.0 due to no true samples.\n",
      "  'recall', 'true', average, warn_for)\n",
      "C:\\Users\\Public\\Documents\\Anaconda\\lib\\site-packages\\sklearn\\metrics\\ranking.py:444: RuntimeWarning: invalid value encountered in true_divide\n",
      "  recall = tps / tps[-1]\n",
      "C:\\Users\\Public\\Documents\\Anaconda\\lib\\site-packages\\sklearn\\metrics\\ranking.py:94: RuntimeWarning: invalid value encountered in less\n",
      "  if np.any(dx < 0):\n",
      "C:\\Users\\Public\\Documents\\Anaconda\\lib\\site-packages\\sklearn\\metrics\\classification.py:1137: UndefinedMetricWarning: Recall is ill-defined and being set to 0.0 due to no true samples.\n",
      "  'recall', 'true', average, warn_for)\n"
     ]
    },
    {
     "name": "stdout",
     "output_type": "stream",
     "text": [
      "Training Random Forest\n"
     ]
    },
    {
     "name": "stderr",
     "output_type": "stream",
     "text": [
      "C:\\Users\\Public\\Documents\\Anaconda\\lib\\site-packages\\sklearn\\metrics\\classification.py:1137: UndefinedMetricWarning: F-score is ill-defined and being set to 0.0 due to no true samples.\n",
      "  'recall', 'true', average, warn_for)\n",
      "C:\\Users\\Public\\Documents\\Anaconda\\lib\\site-packages\\sklearn\\metrics\\ranking.py:444: RuntimeWarning: invalid value encountered in true_divide\n",
      "  recall = tps / tps[-1]\n",
      "C:\\Users\\Public\\Documents\\Anaconda\\lib\\site-packages\\sklearn\\metrics\\ranking.py:94: RuntimeWarning: invalid value encountered in less\n",
      "  if np.any(dx < 0):\n",
      "C:\\Users\\Public\\Documents\\Anaconda\\lib\\site-packages\\sklearn\\metrics\\classification.py:1137: UndefinedMetricWarning: Recall is ill-defined and being set to 0.0 due to no true samples.\n",
      "  'recall', 'true', average, warn_for)\n"
     ]
    },
    {
     "name": "stdout",
     "output_type": "stream",
     "text": [
      "Training Random Forest\n"
     ]
    },
    {
     "name": "stderr",
     "output_type": "stream",
     "text": [
      "C:\\Users\\Public\\Documents\\Anaconda\\lib\\site-packages\\sklearn\\metrics\\classification.py:1137: UndefinedMetricWarning: F-score is ill-defined and being set to 0.0 due to no true samples.\n",
      "  'recall', 'true', average, warn_for)\n",
      "C:\\Users\\Public\\Documents\\Anaconda\\lib\\site-packages\\sklearn\\metrics\\ranking.py:444: RuntimeWarning: invalid value encountered in true_divide\n",
      "  recall = tps / tps[-1]\n",
      "C:\\Users\\Public\\Documents\\Anaconda\\lib\\site-packages\\sklearn\\metrics\\ranking.py:94: RuntimeWarning: invalid value encountered in less\n",
      "  if np.any(dx < 0):\n",
      "C:\\Users\\Public\\Documents\\Anaconda\\lib\\site-packages\\sklearn\\metrics\\classification.py:1137: UndefinedMetricWarning: Recall is ill-defined and being set to 0.0 due to no true samples.\n",
      "  'recall', 'true', average, warn_for)\n"
     ]
    },
    {
     "name": "stdout",
     "output_type": "stream",
     "text": [
      "Training Random Forest\n"
     ]
    },
    {
     "name": "stderr",
     "output_type": "stream",
     "text": [
      "C:\\Users\\Public\\Documents\\Anaconda\\lib\\site-packages\\sklearn\\metrics\\classification.py:1137: UndefinedMetricWarning: F-score is ill-defined and being set to 0.0 due to no true samples.\n",
      "  'recall', 'true', average, warn_for)\n",
      "C:\\Users\\Public\\Documents\\Anaconda\\lib\\site-packages\\sklearn\\metrics\\ranking.py:444: RuntimeWarning: invalid value encountered in true_divide\n",
      "  recall = tps / tps[-1]\n",
      "C:\\Users\\Public\\Documents\\Anaconda\\lib\\site-packages\\sklearn\\metrics\\ranking.py:94: RuntimeWarning: invalid value encountered in less\n",
      "  if np.any(dx < 0):\n",
      "C:\\Users\\Public\\Documents\\Anaconda\\lib\\site-packages\\sklearn\\metrics\\classification.py:1137: UndefinedMetricWarning: Recall is ill-defined and being set to 0.0 due to no true samples.\n",
      "  'recall', 'true', average, warn_for)\n"
     ]
    },
    {
     "name": "stdout",
     "output_type": "stream",
     "text": [
      "Training Random Forest\n"
     ]
    },
    {
     "name": "stderr",
     "output_type": "stream",
     "text": [
      "C:\\Users\\Public\\Documents\\Anaconda\\lib\\site-packages\\sklearn\\metrics\\classification.py:1137: UndefinedMetricWarning: F-score is ill-defined and being set to 0.0 due to no true samples.\n",
      "  'recall', 'true', average, warn_for)\n",
      "C:\\Users\\Public\\Documents\\Anaconda\\lib\\site-packages\\sklearn\\metrics\\ranking.py:444: RuntimeWarning: invalid value encountered in true_divide\n",
      "  recall = tps / tps[-1]\n",
      "C:\\Users\\Public\\Documents\\Anaconda\\lib\\site-packages\\sklearn\\metrics\\ranking.py:94: RuntimeWarning: invalid value encountered in less\n",
      "  if np.any(dx < 0):\n",
      "C:\\Users\\Public\\Documents\\Anaconda\\lib\\site-packages\\sklearn\\metrics\\classification.py:1137: UndefinedMetricWarning: Recall is ill-defined and being set to 0.0 due to no true samples.\n",
      "  'recall', 'true', average, warn_for)\n"
     ]
    },
    {
     "name": "stdout",
     "output_type": "stream",
     "text": [
      "Training Random Forest\n"
     ]
    },
    {
     "name": "stderr",
     "output_type": "stream",
     "text": [
      "C:\\Users\\Public\\Documents\\Anaconda\\lib\\site-packages\\sklearn\\metrics\\classification.py:1137: UndefinedMetricWarning: F-score is ill-defined and being set to 0.0 due to no true samples.\n",
      "  'recall', 'true', average, warn_for)\n",
      "C:\\Users\\Public\\Documents\\Anaconda\\lib\\site-packages\\sklearn\\metrics\\ranking.py:444: RuntimeWarning: invalid value encountered in true_divide\n",
      "  recall = tps / tps[-1]\n",
      "C:\\Users\\Public\\Documents\\Anaconda\\lib\\site-packages\\sklearn\\metrics\\ranking.py:94: RuntimeWarning: invalid value encountered in less\n",
      "  if np.any(dx < 0):\n",
      "C:\\Users\\Public\\Documents\\Anaconda\\lib\\site-packages\\sklearn\\metrics\\classification.py:1137: UndefinedMetricWarning: Recall is ill-defined and being set to 0.0 due to no true samples.\n",
      "  'recall', 'true', average, warn_for)\n"
     ]
    },
    {
     "name": "stdout",
     "output_type": "stream",
     "text": [
      "Elapsed time = 15.605 min\n"
     ]
    }
   ],
   "source": [
    "symptom = 'Tremor'\n",
    "t1 = time.time()\n",
    "tremor_res_all = pd.DataFrame()\n",
    "results_tremor = []\n",
    "\n",
    "\n",
    "for comb in combs:\n",
    "    \n",
    "    feat_cols = []\n",
    "    comb_group = ''\n",
    "    \n",
    "    for features_set in comb:\n",
    "        \n",
    "        comb_group += features_set[0]\n",
    "        feat_cols = feat_cols + featdict[features_set]\n",
    "    \n",
    "    data_comb = data[info + feat_cols]\n",
    "\n",
    "    Data = data_comb.copy() #original unmodified dataframe\n",
    "    Data=Data[~Data[symptom].isnull()] #remove nan rows for current symptom\n",
    "    Data=Data.reset_index(drop=True) #reset index\n",
    "\n",
    "    X = Data.iloc[:,5:].as_matrix()\n",
    "    fnames = Data.iloc[:,5:].columns.values\n",
    "\n",
    "    indp = ((Data[symptom]>0))\n",
    "    indp = indp.values\n",
    "    y = indp.astype(int) #target \n",
    "    #print('Rows w %s %d/%d = %.2f'%(symptom,sum(indp),len(indp),(sum(indp)/len(indp))))\n",
    "\n",
    "    models = [RandomForestClassifier(n_estimators=50,random_state=2)]          \n",
    "    model_name = ['Random Forest']\n",
    "    models = list(zip(models,model_name))\n",
    "    groups = Data.Subject.as_matrix()\n",
    "\n",
    "    res,res_group = LOSOCV(Data,X,y,groups,models)\n",
    "    res['Combination'] = comb_group\n",
    "    tremor_res_all = pd.concat((tremor_res_all,res))\n",
    "    results_tremor.append(res_group)\n",
    "\n",
    "tremor_res_all = tremor_res_all.reset_index(drop=True)\n",
    "\n",
    "print('Elapsed time = %.3f min'%((time.time()-t1)/60))   "
   ]
  },
  {
   "cell_type": "code",
   "execution_count": 97,
   "metadata": {},
   "outputs": [
    {
     "name": "stdout",
     "output_type": "stream",
     "text": [
      "f: frequency\n",
      "t: time\n",
      "c: correlation\n",
      "j: jerk\n",
      "m: mag\n"
     ]
    },
    {
     "data": {
      "image/png": "[encoded data removed]",
      "text/plain": [
       "<matplotlib.figure.Figure at 0xba53a58>"
      ]
     },
     "metadata": {},
     "output_type": "display_data"
    },
    {
     "data": {
      "text/plain": [
       "<matplotlib.figure.Figure at 0xba8b518>"
      ]
     },
     "metadata": {},
     "output_type": "display_data"
    }
   ],
   "source": [
    "groups = tremor_res_all['Combination'].values\n",
    "auc_mean = []; auc_std = []\n",
    "aucdf = pd.DataFrame()\n",
    "for i in range(len(results_tremor)):\n",
    "    if len(results_tremor[i]['Random Forest']['auroc']) < 7:\n",
    "        L = len(results_tremor[i]['Random Forest']['auroc'])\n",
    "        results_tremor[i]['Random Forest']['auroc'] += (list(np.nan*np.ones(7-L)))\n",
    "    aucdf[groups[i]] = results_tremor[i]['Random Forest']['auroc']   \n",
    "    tremor_auc = results_tremor[i]['Random Forest']['auroc']\n",
    "    auc_mean.append(np.nanmean(tremor_auc)) #mean across visits\n",
    "    auc_std.append(np.nanstd(tremor_auc))\n",
    "\n",
    "sns.barplot(data=aucdf)\n",
    "ax=plt.xticks(rotation=90)\n",
    "plt.ylim([0,1])\n",
    "plt.title('Effect of Feature Combinations on AUROC: Tremor')\n",
    "plt.figure(figsize=(10,20))\n",
    "print('f: frequency')\n",
    "print('t: time')\n",
    "print('c: correlation')\n",
    "print('j: jerk')\n",
    "print('m: mag')"
   ]
  },
  {
   "cell_type": "code",
   "execution_count": 98,
   "metadata": {},
   "outputs": [
    {
     "data": {
      "text/html": [
       "<div>\n",
       "<style scoped>\n",
       "    .dataframe tbody tr th:only-of-type {\n",
       "        vertical-align: middle;\n",
       "    }\n",
       "\n",
       "    .dataframe tbody tr th {\n",
       "        vertical-align: top;\n",
       "    }\n",
       "\n",
       "    .dataframe thead th {\n",
       "        text-align: right;\n",
       "    }\n",
       "</style>\n",
       "<table border=\"1\" class=\"dataframe\">\n",
       "  <thead>\n",
       "    <tr style=\"text-align: right;\">\n",
       "      <th></th>\n",
       "      <th>auprc</th>\n",
       "      <th>auroc</th>\n",
       "      <th>f1</th>\n",
       "      <th>model</th>\n",
       "      <th>Combination</th>\n",
       "    </tr>\n",
       "  </thead>\n",
       "  <tbody>\n",
       "    <tr>\n",
       "      <th>0</th>\n",
       "      <td>0.380373</td>\n",
       "      <td>0.582907</td>\n",
       "      <td>0.211719</td>\n",
       "      <td>Random Forest</td>\n",
       "      <td>f</td>\n",
       "    </tr>\n",
       "    <tr>\n",
       "      <th>1</th>\n",
       "      <td>0.445054</td>\n",
       "      <td>0.691417</td>\n",
       "      <td>0.306057</td>\n",
       "      <td>Random Forest</td>\n",
       "      <td>t</td>\n",
       "    </tr>\n",
       "    <tr>\n",
       "      <th>2</th>\n",
       "      <td>0.408096</td>\n",
       "      <td>0.585347</td>\n",
       "      <td>0.218027</td>\n",
       "      <td>Random Forest</td>\n",
       "      <td>c</td>\n",
       "    </tr>\n",
       "    <tr>\n",
       "      <th>3</th>\n",
       "      <td>0.425361</td>\n",
       "      <td>0.621830</td>\n",
       "      <td>0.269880</td>\n",
       "      <td>Random Forest</td>\n",
       "      <td>j</td>\n",
       "    </tr>\n",
       "    <tr>\n",
       "      <th>4</th>\n",
       "      <td>0.449448</td>\n",
       "      <td>0.679957</td>\n",
       "      <td>0.326622</td>\n",
       "      <td>Random Forest</td>\n",
       "      <td>m</td>\n",
       "    </tr>\n",
       "    <tr>\n",
       "      <th>5</th>\n",
       "      <td>0.449459</td>\n",
       "      <td>0.692635</td>\n",
       "      <td>0.301146</td>\n",
       "      <td>Random Forest</td>\n",
       "      <td>ft</td>\n",
       "    </tr>\n",
       "    <tr>\n",
       "      <th>6</th>\n",
       "      <td>0.419849</td>\n",
       "      <td>0.612281</td>\n",
       "      <td>0.210630</td>\n",
       "      <td>Random Forest</td>\n",
       "      <td>fc</td>\n",
       "    </tr>\n",
       "    <tr>\n",
       "      <th>7</th>\n",
       "      <td>0.446751</td>\n",
       "      <td>0.668993</td>\n",
       "      <td>0.287246</td>\n",
       "      <td>Random Forest</td>\n",
       "      <td>fj</td>\n",
       "    </tr>\n",
       "    <tr>\n",
       "      <th>8</th>\n",
       "      <td>0.463150</td>\n",
       "      <td>0.689906</td>\n",
       "      <td>0.320863</td>\n",
       "      <td>Random Forest</td>\n",
       "      <td>fm</td>\n",
       "    </tr>\n",
       "    <tr>\n",
       "      <th>9</th>\n",
       "      <td>0.449280</td>\n",
       "      <td>0.693401</td>\n",
       "      <td>0.306876</td>\n",
       "      <td>Random Forest</td>\n",
       "      <td>tc</td>\n",
       "    </tr>\n",
       "    <tr>\n",
       "      <th>10</th>\n",
       "      <td>0.456195</td>\n",
       "      <td>0.687101</td>\n",
       "      <td>0.320201</td>\n",
       "      <td>Random Forest</td>\n",
       "      <td>tj</td>\n",
       "    </tr>\n",
       "    <tr>\n",
       "      <th>11</th>\n",
       "      <td>0.455044</td>\n",
       "      <td>0.696024</td>\n",
       "      <td>0.315510</td>\n",
       "      <td>Random Forest</td>\n",
       "      <td>tm</td>\n",
       "    </tr>\n",
       "    <tr>\n",
       "      <th>12</th>\n",
       "      <td>0.440899</td>\n",
       "      <td>0.645847</td>\n",
       "      <td>0.285990</td>\n",
       "      <td>Random Forest</td>\n",
       "      <td>cj</td>\n",
       "    </tr>\n",
       "    <tr>\n",
       "      <th>13</th>\n",
       "      <td>0.457587</td>\n",
       "      <td>0.679520</td>\n",
       "      <td>0.312137</td>\n",
       "      <td>Random Forest</td>\n",
       "      <td>cm</td>\n",
       "    </tr>\n",
       "    <tr>\n",
       "      <th>14</th>\n",
       "      <td>0.459884</td>\n",
       "      <td>0.687591</td>\n",
       "      <td>0.317796</td>\n",
       "      <td>Random Forest</td>\n",
       "      <td>jm</td>\n",
       "    </tr>\n",
       "    <tr>\n",
       "      <th>15</th>\n",
       "      <td>0.451077</td>\n",
       "      <td>0.688005</td>\n",
       "      <td>0.296030</td>\n",
       "      <td>Random Forest</td>\n",
       "      <td>ftc</td>\n",
       "    </tr>\n",
       "    <tr>\n",
       "      <th>16</th>\n",
       "      <td>0.446455</td>\n",
       "      <td>0.693606</td>\n",
       "      <td>0.300004</td>\n",
       "      <td>Random Forest</td>\n",
       "      <td>ftj</td>\n",
       "    </tr>\n",
       "    <tr>\n",
       "      <th>17</th>\n",
       "      <td>0.457646</td>\n",
       "      <td>0.693150</td>\n",
       "      <td>0.312965</td>\n",
       "      <td>Random Forest</td>\n",
       "      <td>ftm</td>\n",
       "    </tr>\n",
       "    <tr>\n",
       "      <th>18</th>\n",
       "      <td>0.445600</td>\n",
       "      <td>0.654654</td>\n",
       "      <td>0.277827</td>\n",
       "      <td>Random Forest</td>\n",
       "      <td>fcj</td>\n",
       "    </tr>\n",
       "    <tr>\n",
       "      <th>19</th>\n",
       "      <td>0.461205</td>\n",
       "      <td>0.681967</td>\n",
       "      <td>0.303137</td>\n",
       "      <td>Random Forest</td>\n",
       "      <td>fcm</td>\n",
       "    </tr>\n",
       "    <tr>\n",
       "      <th>20</th>\n",
       "      <td>0.461805</td>\n",
       "      <td>0.693349</td>\n",
       "      <td>0.319944</td>\n",
       "      <td>Random Forest</td>\n",
       "      <td>fjm</td>\n",
       "    </tr>\n",
       "    <tr>\n",
       "      <th>21</th>\n",
       "      <td>0.450159</td>\n",
       "      <td>0.688059</td>\n",
       "      <td>0.302077</td>\n",
       "      <td>Random Forest</td>\n",
       "      <td>tcj</td>\n",
       "    </tr>\n",
       "    <tr>\n",
       "      <th>22</th>\n",
       "      <td>0.459777</td>\n",
       "      <td>0.693189</td>\n",
       "      <td>0.313124</td>\n",
       "      <td>Random Forest</td>\n",
       "      <td>tcm</td>\n",
       "    </tr>\n",
       "    <tr>\n",
       "      <th>23</th>\n",
       "      <td>0.457716</td>\n",
       "      <td>0.700486</td>\n",
       "      <td>0.319023</td>\n",
       "      <td>Random Forest</td>\n",
       "      <td>tjm</td>\n",
       "    </tr>\n",
       "    <tr>\n",
       "      <th>24</th>\n",
       "      <td>0.460740</td>\n",
       "      <td>0.687170</td>\n",
       "      <td>0.313727</td>\n",
       "      <td>Random Forest</td>\n",
       "      <td>cjm</td>\n",
       "    </tr>\n",
       "    <tr>\n",
       "      <th>25</th>\n",
       "      <td>0.457102</td>\n",
       "      <td>0.695648</td>\n",
       "      <td>0.304022</td>\n",
       "      <td>Random Forest</td>\n",
       "      <td>ftcj</td>\n",
       "    </tr>\n",
       "    <tr>\n",
       "      <th>26</th>\n",
       "      <td>0.461232</td>\n",
       "      <td>0.697476</td>\n",
       "      <td>0.314464</td>\n",
       "      <td>Random Forest</td>\n",
       "      <td>ftcm</td>\n",
       "    </tr>\n",
       "    <tr>\n",
       "      <th>27</th>\n",
       "      <td>0.458861</td>\n",
       "      <td>0.693615</td>\n",
       "      <td>0.321402</td>\n",
       "      <td>Random Forest</td>\n",
       "      <td>ftjm</td>\n",
       "    </tr>\n",
       "    <tr>\n",
       "      <th>28</th>\n",
       "      <td>0.460912</td>\n",
       "      <td>0.687636</td>\n",
       "      <td>0.298689</td>\n",
       "      <td>Random Forest</td>\n",
       "      <td>fcjm</td>\n",
       "    </tr>\n",
       "    <tr>\n",
       "      <th>29</th>\n",
       "      <td>0.461458</td>\n",
       "      <td>0.692712</td>\n",
       "      <td>0.321426</td>\n",
       "      <td>Random Forest</td>\n",
       "      <td>tcjm</td>\n",
       "    </tr>\n",
       "    <tr>\n",
       "      <th>30</th>\n",
       "      <td>0.464876</td>\n",
       "      <td>0.699048</td>\n",
       "      <td>0.314183</td>\n",
       "      <td>Random Forest</td>\n",
       "      <td>ftcjm</td>\n",
       "    </tr>\n",
       "  </tbody>\n",
       "</table>\n",
       "</div>"
      ],
      "text/plain": [
       "       auprc     auroc        f1          model Combination\n",
       "0   0.380373  0.582907  0.211719  Random Forest           f\n",
       "1   0.445054  0.691417  0.306057  Random Forest           t\n",
       "2   0.408096  0.585347  0.218027  Random Forest           c\n",
       "3   0.425361  0.621830  0.269880  Random Forest           j\n",
       "4   0.449448  0.679957  0.326622  Random Forest           m\n",
       "5   0.449459  0.692635  0.301146  Random Forest          ft\n",
       "6   0.419849  0.612281  0.210630  Random Forest          fc\n",
       "7   0.446751  0.668993  0.287246  Random Forest          fj\n",
       "8   0.463150  0.689906  0.320863  Random Forest          fm\n",
       "9   0.449280  0.693401  0.306876  Random Forest          tc\n",
       "10  0.456195  0.687101  0.320201  Random Forest          tj\n",
       "11  0.455044  0.696024  0.315510  Random Forest          tm\n",
       "12  0.440899  0.645847  0.285990  Random Forest          cj\n",
       "13  0.457587  0.679520  0.312137  Random Forest          cm\n",
       "14  0.459884  0.687591  0.317796  Random Forest          jm\n",
       "15  0.451077  0.688005  0.296030  Random Forest         ftc\n",
       "16  0.446455  0.693606  0.300004  Random Forest         ftj\n",
       "17  0.457646  0.693150  0.312965  Random Forest         ftm\n",
       "18  0.445600  0.654654  0.277827  Random Forest         fcj\n",
       "19  0.461205  0.681967  0.303137  Random Forest         fcm\n",
       "20  0.461805  0.693349  0.319944  Random Forest         fjm\n",
       "21  0.450159  0.688059  0.302077  Random Forest         tcj\n",
       "22  0.459777  0.693189  0.313124  Random Forest         tcm\n",
       "23  0.457716  0.700486  0.319023  Random Forest         tjm\n",
       "24  0.460740  0.687170  0.313727  Random Forest         cjm\n",
       "25  0.457102  0.695648  0.304022  Random Forest        ftcj\n",
       "26  0.461232  0.697476  0.314464  Random Forest        ftcm\n",
       "27  0.458861  0.693615  0.321402  Random Forest        ftjm\n",
       "28  0.460912  0.687636  0.298689  Random Forest        fcjm\n",
       "29  0.461458  0.692712  0.321426  Random Forest        tcjm\n",
       "30  0.464876  0.699048  0.314183  Random Forest       ftcjm"
      ]
     },
     "execution_count": 98,
     "metadata": {},
     "output_type": "execute_result"
    }
   ],
   "source": [
    "tremor_res_all"
   ]
  },
  {
   "cell_type": "code",
   "execution_count": 408,
   "metadata": {},
   "outputs": [
    {
     "name": "stdout",
     "output_type": "stream",
     "text": [
      "t, f\n",
      "Ttest_relResult(statistic=2.9520593570825002, pvalue=0.013160839253705413)\n",
      "t, c\n",
      "Ttest_relResult(statistic=3.973195983935057, pvalue=0.002184108603888074)\n",
      "t, j\n",
      "Ttest_relResult(statistic=2.877180719434898, pvalue=0.01504698367904931)\n",
      "t, m\n",
      "Ttest_relResult(statistic=-0.7037784264782391, pvalue=0.4961986246578832)\n",
      "t, ftcjm\n",
      "Ttest_relResult(statistic=-3.21763211895602, pvalue=0.008193510905407165)\n"
     ]
    }
   ],
   "source": [
    "x = np.array(results_tremor[1]['Random Forest']['auroc'])\n",
    "x = x[~np.isnan(x)]\n",
    "for featgroup in [0,2,3,4,30]:\n",
    "    print('t, %s'%tremor_res_all.iloc[featgroup]['Combination'])\n",
    "    y = np.array(results_tremor[featgroup]['Random Forest']['auroc'])\n",
    "    y = y[~np.isnan(x)]\n",
    "    print(stats.ttest_rel(x,y))"
   ]
  },
  {
   "cell_type": "code",
   "execution_count": 410,
   "metadata": {},
   "outputs": [
    {
     "name": "stdout",
     "output_type": "stream",
     "text": [
      "m, f\n",
      "Ttest_relResult(statistic=3.7997284173761017, pvalue=0.002944666742567513)\n",
      "m, t\n",
      "Ttest_relResult(statistic=0.7037784264782391, pvalue=0.4961986246578832)\n",
      "m, c\n",
      "Ttest_relResult(statistic=3.953191605423282, pvalue=0.0022602895798428326)\n",
      "m, j\n",
      "Ttest_relResult(statistic=4.236326665568461, pvalue=0.0013974739712979468)\n",
      "m, ftcjm\n",
      "Ttest_relResult(statistic=-0.6004541372325061, pvalue=0.5603711286008064)\n"
     ]
    }
   ],
   "source": [
    "x = np.array(results_tremor[4]['Random Forest']['auroc'])\n",
    "x = x[~np.isnan(x)]\n",
    "for featgroup in [0,1,2,3,30]:\n",
    "    print('m, %s'%tremor_res_all.iloc[featgroup]['Combination'])\n",
    "    y = np.array(results_tremor[featgroup]['Random Forest']['auroc'])\n",
    "    y = y[~np.isnan(x)]\n",
    "    print(stats.ttest_rel(x,y))"
   ]
  },
  {
   "cell_type": "markdown",
   "metadata": {},
   "source": [
    "### Bradykinesia"
   ]
  },
  {
   "cell_type": "code",
   "execution_count": 426,
   "metadata": {
    "scrolled": true
   },
   "outputs": [],
   "source": [
    "def fix_feature_names(features):\n",
    "    if features[0][-3:] != 'acc':\n",
    "        featlen = len(features)\n",
    "        for f in range(featlen):\n",
    "            features.append(features[f] + ' gyr')\n",
    "        for f in range(featlen):\n",
    "            features[f] = features[f] + ' acc'"
   ]
  },
  {
   "cell_type": "code",
   "execution_count": 427,
   "metadata": {},
   "outputs": [],
   "source": [
    "featdictsensors = featdict\n",
    "\n",
    "for featgroup in featdictsensors.keys():\n",
    "    fix_feature_names(featdictsensors[featgroup])\n",
    "\n",
    "info = ['Subject','Visit','Task','Bradykinesia','Tremor']\n",
    "data = pd.read_csv('Z:CIS-PD Study\\\\Downsample\\\\Accel+Gyro Data 62.5Hz.csv')"
   ]
  },
  {
   "cell_type": "code",
   "execution_count": 393,
   "metadata": {
    "scrolled": true
   },
   "outputs": [
    {
     "name": "stdout",
     "output_type": "stream",
     "text": [
      "Training Random Forest\n",
      "f1_test=0.587+/-0.214, prec=0.608+/-0.281, rec=0.694+/-0.125, auprc=0.631+/-0.271, auroc=0.632+/-0.066\n",
      "Training Random Forest\n",
      "f1_test=0.619+/-0.221, prec=0.624+/-0.282, rec=0.741+/-0.140, auprc=0.656+/-0.268, auroc=0.684+/-0.092\n",
      "Training Random Forest\n",
      "f1_test=0.595+/-0.230, prec=0.600+/-0.285, rec=0.713+/-0.137, auprc=0.603+/-0.283, auroc=0.605+/-0.091\n",
      "Training Random Forest\n",
      "f1_test=0.588+/-0.209, prec=0.598+/-0.278, rec=0.706+/-0.093, auprc=0.604+/-0.274, auroc=0.607+/-0.089\n",
      "Training Random Forest\n",
      "f1_test=0.597+/-0.216, prec=0.609+/-0.276, rec=0.708+/-0.139, auprc=0.639+/-0.273, auroc=0.642+/-0.078\n",
      "Training Random Forest\n",
      "f1_test=0.623+/-0.221, prec=0.622+/-0.279, rec=0.752+/-0.130, auprc=0.647+/-0.272, auroc=0.675+/-0.092\n",
      "Training Random Forest\n",
      "f1_test=0.602+/-0.224, prec=0.608+/-0.283, rec=0.723+/-0.127, auprc=0.606+/-0.276, auroc=0.618+/-0.084\n",
      "Training Random Forest\n",
      "f1_test=0.590+/-0.220, prec=0.609+/-0.283, rec=0.694+/-0.125, auprc=0.635+/-0.274, auroc=0.639+/-0.067\n",
      "Training Random Forest\n",
      "f1_test=0.610+/-0.222, prec=0.618+/-0.280, rec=0.726+/-0.140, auprc=0.646+/-0.268, auroc=0.656+/-0.078\n",
      "Training Random Forest\n",
      "f1_test=0.619+/-0.225, prec=0.618+/-0.281, rec=0.745+/-0.132, auprc=0.651+/-0.276, auroc=0.674+/-0.097\n",
      "Training Random Forest\n",
      "f1_test=0.621+/-0.222, prec=0.622+/-0.278, rec=0.751+/-0.136, auprc=0.653+/-0.275, auroc=0.676+/-0.092\n",
      "Training Random Forest\n",
      "f1_test=0.620+/-0.222, prec=0.625+/-0.282, rec=0.741+/-0.136, auprc=0.658+/-0.273, auroc=0.688+/-0.089\n",
      "Training Random Forest\n",
      "f1_test=0.596+/-0.227, prec=0.604+/-0.285, rec=0.708+/-0.129, auprc=0.616+/-0.280, auroc=0.621+/-0.093\n",
      "Training Random Forest\n",
      "f1_test=0.614+/-0.224, prec=0.617+/-0.282, rec=0.739+/-0.133, auprc=0.634+/-0.278, auroc=0.651+/-0.096\n",
      "Training Random Forest\n",
      "f1_test=0.603+/-0.213, prec=0.616+/-0.276, rec=0.723+/-0.140, auprc=0.649+/-0.266, auroc=0.659+/-0.079\n",
      "Training Random Forest\n",
      "f1_test=0.618+/-0.230, prec=0.617+/-0.285, rec=0.740+/-0.135, auprc=0.647+/-0.276, auroc=0.666+/-0.101\n",
      "Training Random Forest\n",
      "f1_test=0.628+/-0.225, prec=0.626+/-0.281, rec=0.760+/-0.131, auprc=0.653+/-0.277, auroc=0.676+/-0.086\n",
      "Training Random Forest\n",
      "f1_test=0.621+/-0.224, prec=0.622+/-0.281, rec=0.743+/-0.135, auprc=0.653+/-0.278, auroc=0.678+/-0.086\n",
      "Training Random Forest\n",
      "f1_test=0.604+/-0.222, prec=0.611+/-0.283, rec=0.727+/-0.128, auprc=0.616+/-0.279, auroc=0.628+/-0.080\n",
      "Training Random Forest\n",
      "f1_test=0.608+/-0.228, prec=0.612+/-0.284, rec=0.725+/-0.132, auprc=0.621+/-0.278, auroc=0.635+/-0.086\n",
      "Training Random Forest\n",
      "f1_test=0.608+/-0.222, prec=0.616+/-0.280, rec=0.726+/-0.133, auprc=0.646+/-0.271, auroc=0.655+/-0.077\n",
      "Training Random Forest\n",
      "f1_test=0.618+/-0.225, prec=0.619+/-0.281, rec=0.744+/-0.141, auprc=0.649+/-0.278, auroc=0.669+/-0.096\n",
      "Training Random Forest\n",
      "f1_test=0.612+/-0.225, prec=0.617+/-0.283, rec=0.732+/-0.142, auprc=0.651+/-0.278, auroc=0.675+/-0.094\n",
      "Training Random Forest\n",
      "f1_test=0.628+/-0.221, prec=0.628+/-0.281, rec=0.759+/-0.129, auprc=0.663+/-0.272, auroc=0.692+/-0.082\n",
      "Training Random Forest\n",
      "f1_test=0.605+/-0.229, prec=0.612+/-0.285, rec=0.717+/-0.139, auprc=0.638+/-0.279, auroc=0.648+/-0.091\n",
      "Training Random Forest\n",
      "f1_test=0.620+/-0.227, prec=0.622+/-0.283, rec=0.746+/-0.136, auprc=0.652+/-0.274, auroc=0.673+/-0.095\n",
      "Training Random Forest\n",
      "f1_test=0.624+/-0.226, prec=0.623+/-0.282, rec=0.745+/-0.134, auprc=0.651+/-0.276, auroc=0.672+/-0.098\n",
      "Training Random Forest\n",
      "f1_test=0.627+/-0.220, prec=0.628+/-0.280, rec=0.757+/-0.130, auprc=0.661+/-0.272, auroc=0.688+/-0.083\n",
      "Training Random Forest\n",
      "f1_test=0.612+/-0.222, prec=0.617+/-0.282, rec=0.737+/-0.137, auprc=0.632+/-0.277, auroc=0.646+/-0.092\n",
      "Training Random Forest\n",
      "f1_test=0.623+/-0.224, prec=0.622+/-0.282, rec=0.750+/-0.129, auprc=0.657+/-0.275, auroc=0.682+/-0.093\n",
      "Training Random Forest\n",
      "f1_test=0.621+/-0.223, prec=0.623+/-0.281, rec=0.747+/-0.135, auprc=0.660+/-0.273, auroc=0.682+/-0.083\n",
      "Elapsed time = 22.852 min\n"
     ]
    }
   ],
   "source": [
    "symptom = 'Bradykinesia'\n",
    "t1 = time.time()\n",
    "brady_res_all = pd.DataFrame()\n",
    "results_brady = []\n",
    "\n",
    "\n",
    "for comb in combs:\n",
    "    \n",
    "    feat_cols = []\n",
    "    comb_group = ''\n",
    "    \n",
    "    for features_set in comb:\n",
    "        \n",
    "        comb_group += features_set[0]\n",
    "        feat_cols = feat_cols + featdict[features_set]\n",
    "    \n",
    "    data_comb = data[info + feat_cols]\n",
    "\n",
    "    Data = data_comb.copy() #original unmodified dataframe\n",
    "    Data=Data[~Data[symptom].isnull()] #remove nan rows for current symptom\n",
    "    Data=Data.reset_index(drop=True) #reset index\n",
    "\n",
    "    X = Data.iloc[:,5:].as_matrix()\n",
    "    fnames = Data.iloc[:,5:].columns.values\n",
    "\n",
    "    indp = ((Data[symptom]>0))\n",
    "    indp = indp.values\n",
    "    y = indp.astype(int) #target \n",
    "    #print('Rows w %s %d/%d = %.2f'%(symptom,sum(indp),len(indp),(sum(indp)/len(indp))))\n",
    "\n",
    "    models = [RandomForestClassifier(n_estimators=50,random_state=2)]          \n",
    "    model_name = ['Random Forest']\n",
    "    models = list(zip(models,model_name))\n",
    "    groups = Data.Subject.as_matrix()\n",
    "\n",
    "    res,res_group = LOSOCV(Data,X,y,groups,models)\n",
    "    res['Combination'] = comb_group\n",
    "    brady_res_all = pd.concat((brady_res_all,res))\n",
    "    results_brady.append(res_group)\n",
    "\n",
    "brady_res_all = brady_res_all.reset_index(drop=True)\n",
    "\n",
    "print('Elapsed time = %.3f min'%((time.time()-t1)/60))   "
   ]
  },
  {
   "cell_type": "code",
   "execution_count": 394,
   "metadata": {},
   "outputs": [
    {
     "name": "stdout",
     "output_type": "stream",
     "text": [
      "f: frequency\n",
      "t: time\n",
      "c: correlation\n",
      "j: jerk\n",
      "m: mag\n"
     ]
    },
    {
     "data": {
      "image/png": "[encoded data removed]",
      "text/plain": [
       "<matplotlib.figure.Figure at 0xf8700f0>"
      ]
     },
     "metadata": {},
     "output_type": "display_data"
    },
    {
     "data": {
      "text/plain": [
       "<matplotlib.figure.Figure at 0xf870c88>"
      ]
     },
     "metadata": {},
     "output_type": "display_data"
    }
   ],
   "source": [
    "groups = brady_res_all['Combination'].values\n",
    "auc_mean = []; auc_std = []\n",
    "aucdf = pd.DataFrame()\n",
    "for i in range(len(results_brady)):\n",
    "    if len(results_brady[i]['Random Forest']['auroc']) < 7:\n",
    "        L = len(results_brady[i]['Random Forest']['auroc'])\n",
    "        results_brady[i]['Random Forest']['auroc'] += (list(np.nan*np.ones(7-L)))\n",
    "    aucdf[groups[i]] = results_brady[i]['Random Forest']['auroc']   \n",
    "    brady_auc = results_brady[i]['Random Forest']['auroc']\n",
    "    auc_mean.append(np.nanmean(brady_auc)) #mean across visits\n",
    "    auc_std.append(np.nanstd(brady_auc))\n",
    "\n",
    "sns.barplot(data=aucdf)\n",
    "ax=plt.xticks(rotation=90)\n",
    "plt.ylim([0,1])\n",
    "plt.title('Effect of Feature Combinations on AUROC: Bradykinesia')\n",
    "plt.figure(figsize=(10,20))\n",
    "print('f: frequency')\n",
    "print('t: time')\n",
    "print('c: correlation')\n",
    "print('j: jerk')\n",
    "print('m: mag')"
   ]
  },
  {
   "cell_type": "code",
   "execution_count": 395,
   "metadata": {},
   "outputs": [
    {
     "data": {
      "text/html": [
       "<div>\n",
       "<style scoped>\n",
       "    .dataframe tbody tr th:only-of-type {\n",
       "        vertical-align: middle;\n",
       "    }\n",
       "\n",
       "    .dataframe tbody tr th {\n",
       "        vertical-align: top;\n",
       "    }\n",
       "\n",
       "    .dataframe thead th {\n",
       "        text-align: right;\n",
       "    }\n",
       "</style>\n",
       "<table border=\"1\" class=\"dataframe\">\n",
       "  <thead>\n",
       "    <tr style=\"text-align: right;\">\n",
       "      <th></th>\n",
       "      <th>auprc</th>\n",
       "      <th>auroc</th>\n",
       "      <th>f1</th>\n",
       "      <th>model</th>\n",
       "      <th>Combination</th>\n",
       "    </tr>\n",
       "  </thead>\n",
       "  <tbody>\n",
       "    <tr>\n",
       "      <th>0</th>\n",
       "      <td>0.630701</td>\n",
       "      <td>0.632089</td>\n",
       "      <td>0.586916</td>\n",
       "      <td>Random Forest</td>\n",
       "      <td>f</td>\n",
       "    </tr>\n",
       "    <tr>\n",
       "      <th>1</th>\n",
       "      <td>0.656331</td>\n",
       "      <td>0.684018</td>\n",
       "      <td>0.618779</td>\n",
       "      <td>Random Forest</td>\n",
       "      <td>t</td>\n",
       "    </tr>\n",
       "    <tr>\n",
       "      <th>2</th>\n",
       "      <td>0.603255</td>\n",
       "      <td>0.604636</td>\n",
       "      <td>0.594942</td>\n",
       "      <td>Random Forest</td>\n",
       "      <td>c</td>\n",
       "    </tr>\n",
       "    <tr>\n",
       "      <th>3</th>\n",
       "      <td>0.603737</td>\n",
       "      <td>0.606584</td>\n",
       "      <td>0.588478</td>\n",
       "      <td>Random Forest</td>\n",
       "      <td>j</td>\n",
       "    </tr>\n",
       "    <tr>\n",
       "      <th>4</th>\n",
       "      <td>0.638723</td>\n",
       "      <td>0.642443</td>\n",
       "      <td>0.597445</td>\n",
       "      <td>Random Forest</td>\n",
       "      <td>m</td>\n",
       "    </tr>\n",
       "    <tr>\n",
       "      <th>5</th>\n",
       "      <td>0.647476</td>\n",
       "      <td>0.675406</td>\n",
       "      <td>0.622546</td>\n",
       "      <td>Random Forest</td>\n",
       "      <td>ft</td>\n",
       "    </tr>\n",
       "    <tr>\n",
       "      <th>6</th>\n",
       "      <td>0.606340</td>\n",
       "      <td>0.617514</td>\n",
       "      <td>0.601981</td>\n",
       "      <td>Random Forest</td>\n",
       "      <td>fc</td>\n",
       "    </tr>\n",
       "    <tr>\n",
       "      <th>7</th>\n",
       "      <td>0.634780</td>\n",
       "      <td>0.638861</td>\n",
       "      <td>0.590448</td>\n",
       "      <td>Random Forest</td>\n",
       "      <td>fj</td>\n",
       "    </tr>\n",
       "    <tr>\n",
       "      <th>8</th>\n",
       "      <td>0.646465</td>\n",
       "      <td>0.656462</td>\n",
       "      <td>0.609897</td>\n",
       "      <td>Random Forest</td>\n",
       "      <td>fm</td>\n",
       "    </tr>\n",
       "    <tr>\n",
       "      <th>9</th>\n",
       "      <td>0.651410</td>\n",
       "      <td>0.674001</td>\n",
       "      <td>0.618932</td>\n",
       "      <td>Random Forest</td>\n",
       "      <td>tc</td>\n",
       "    </tr>\n",
       "    <tr>\n",
       "      <th>10</th>\n",
       "      <td>0.653372</td>\n",
       "      <td>0.676055</td>\n",
       "      <td>0.621204</td>\n",
       "      <td>Random Forest</td>\n",
       "      <td>tj</td>\n",
       "    </tr>\n",
       "    <tr>\n",
       "      <th>11</th>\n",
       "      <td>0.657556</td>\n",
       "      <td>0.687855</td>\n",
       "      <td>0.619527</td>\n",
       "      <td>Random Forest</td>\n",
       "      <td>tm</td>\n",
       "    </tr>\n",
       "    <tr>\n",
       "      <th>12</th>\n",
       "      <td>0.616419</td>\n",
       "      <td>0.621030</td>\n",
       "      <td>0.596141</td>\n",
       "      <td>Random Forest</td>\n",
       "      <td>cj</td>\n",
       "    </tr>\n",
       "    <tr>\n",
       "      <th>13</th>\n",
       "      <td>0.634233</td>\n",
       "      <td>0.651232</td>\n",
       "      <td>0.613712</td>\n",
       "      <td>Random Forest</td>\n",
       "      <td>cm</td>\n",
       "    </tr>\n",
       "    <tr>\n",
       "      <th>14</th>\n",
       "      <td>0.649421</td>\n",
       "      <td>0.658655</td>\n",
       "      <td>0.602778</td>\n",
       "      <td>Random Forest</td>\n",
       "      <td>jm</td>\n",
       "    </tr>\n",
       "    <tr>\n",
       "      <th>15</th>\n",
       "      <td>0.647492</td>\n",
       "      <td>0.666358</td>\n",
       "      <td>0.618111</td>\n",
       "      <td>Random Forest</td>\n",
       "      <td>ftc</td>\n",
       "    </tr>\n",
       "    <tr>\n",
       "      <th>16</th>\n",
       "      <td>0.653243</td>\n",
       "      <td>0.675837</td>\n",
       "      <td>0.628193</td>\n",
       "      <td>Random Forest</td>\n",
       "      <td>ftj</td>\n",
       "    </tr>\n",
       "    <tr>\n",
       "      <th>17</th>\n",
       "      <td>0.652899</td>\n",
       "      <td>0.677602</td>\n",
       "      <td>0.620824</td>\n",
       "      <td>Random Forest</td>\n",
       "      <td>ftm</td>\n",
       "    </tr>\n",
       "    <tr>\n",
       "      <th>18</th>\n",
       "      <td>0.616324</td>\n",
       "      <td>0.628197</td>\n",
       "      <td>0.603566</td>\n",
       "      <td>Random Forest</td>\n",
       "      <td>fcj</td>\n",
       "    </tr>\n",
       "    <tr>\n",
       "      <th>19</th>\n",
       "      <td>0.621374</td>\n",
       "      <td>0.634911</td>\n",
       "      <td>0.608294</td>\n",
       "      <td>Random Forest</td>\n",
       "      <td>fcm</td>\n",
       "    </tr>\n",
       "    <tr>\n",
       "      <th>20</th>\n",
       "      <td>0.645756</td>\n",
       "      <td>0.654898</td>\n",
       "      <td>0.607726</td>\n",
       "      <td>Random Forest</td>\n",
       "      <td>fjm</td>\n",
       "    </tr>\n",
       "    <tr>\n",
       "      <th>21</th>\n",
       "      <td>0.649209</td>\n",
       "      <td>0.669298</td>\n",
       "      <td>0.617552</td>\n",
       "      <td>Random Forest</td>\n",
       "      <td>tcj</td>\n",
       "    </tr>\n",
       "    <tr>\n",
       "      <th>22</th>\n",
       "      <td>0.651242</td>\n",
       "      <td>0.674937</td>\n",
       "      <td>0.612034</td>\n",
       "      <td>Random Forest</td>\n",
       "      <td>tcm</td>\n",
       "    </tr>\n",
       "    <tr>\n",
       "      <th>23</th>\n",
       "      <td>0.662842</td>\n",
       "      <td>0.692116</td>\n",
       "      <td>0.628070</td>\n",
       "      <td>Random Forest</td>\n",
       "      <td>tjm</td>\n",
       "    </tr>\n",
       "    <tr>\n",
       "      <th>24</th>\n",
       "      <td>0.638354</td>\n",
       "      <td>0.647942</td>\n",
       "      <td>0.604963</td>\n",
       "      <td>Random Forest</td>\n",
       "      <td>cjm</td>\n",
       "    </tr>\n",
       "    <tr>\n",
       "      <th>25</th>\n",
       "      <td>0.651619</td>\n",
       "      <td>0.673462</td>\n",
       "      <td>0.619736</td>\n",
       "      <td>Random Forest</td>\n",
       "      <td>ftcj</td>\n",
       "    </tr>\n",
       "    <tr>\n",
       "      <th>26</th>\n",
       "      <td>0.650983</td>\n",
       "      <td>0.672055</td>\n",
       "      <td>0.623586</td>\n",
       "      <td>Random Forest</td>\n",
       "      <td>ftcm</td>\n",
       "    </tr>\n",
       "    <tr>\n",
       "      <th>27</th>\n",
       "      <td>0.660976</td>\n",
       "      <td>0.688470</td>\n",
       "      <td>0.626864</td>\n",
       "      <td>Random Forest</td>\n",
       "      <td>ftjm</td>\n",
       "    </tr>\n",
       "    <tr>\n",
       "      <th>28</th>\n",
       "      <td>0.631926</td>\n",
       "      <td>0.645964</td>\n",
       "      <td>0.612164</td>\n",
       "      <td>Random Forest</td>\n",
       "      <td>fcjm</td>\n",
       "    </tr>\n",
       "    <tr>\n",
       "      <th>29</th>\n",
       "      <td>0.657451</td>\n",
       "      <td>0.681978</td>\n",
       "      <td>0.622721</td>\n",
       "      <td>Random Forest</td>\n",
       "      <td>tcjm</td>\n",
       "    </tr>\n",
       "    <tr>\n",
       "      <th>30</th>\n",
       "      <td>0.660394</td>\n",
       "      <td>0.682102</td>\n",
       "      <td>0.621415</td>\n",
       "      <td>Random Forest</td>\n",
       "      <td>ftcjm</td>\n",
       "    </tr>\n",
       "  </tbody>\n",
       "</table>\n",
       "</div>"
      ],
      "text/plain": [
       "       auprc     auroc        f1          model Combination\n",
       "0   0.630701  0.632089  0.586916  Random Forest           f\n",
       "1   0.656331  0.684018  0.618779  Random Forest           t\n",
       "2   0.603255  0.604636  0.594942  Random Forest           c\n",
       "3   0.603737  0.606584  0.588478  Random Forest           j\n",
       "4   0.638723  0.642443  0.597445  Random Forest           m\n",
       "5   0.647476  0.675406  0.622546  Random Forest          ft\n",
       "6   0.606340  0.617514  0.601981  Random Forest          fc\n",
       "7   0.634780  0.638861  0.590448  Random Forest          fj\n",
       "8   0.646465  0.656462  0.609897  Random Forest          fm\n",
       "9   0.651410  0.674001  0.618932  Random Forest          tc\n",
       "10  0.653372  0.676055  0.621204  Random Forest          tj\n",
       "11  0.657556  0.687855  0.619527  Random Forest          tm\n",
       "12  0.616419  0.621030  0.596141  Random Forest          cj\n",
       "13  0.634233  0.651232  0.613712  Random Forest          cm\n",
       "14  0.649421  0.658655  0.602778  Random Forest          jm\n",
       "15  0.647492  0.666358  0.618111  Random Forest         ftc\n",
       "16  0.653243  0.675837  0.628193  Random Forest         ftj\n",
       "17  0.652899  0.677602  0.620824  Random Forest         ftm\n",
       "18  0.616324  0.628197  0.603566  Random Forest         fcj\n",
       "19  0.621374  0.634911  0.608294  Random Forest         fcm\n",
       "20  0.645756  0.654898  0.607726  Random Forest         fjm\n",
       "21  0.649209  0.669298  0.617552  Random Forest         tcj\n",
       "22  0.651242  0.674937  0.612034  Random Forest         tcm\n",
       "23  0.662842  0.692116  0.628070  Random Forest         tjm\n",
       "24  0.638354  0.647942  0.604963  Random Forest         cjm\n",
       "25  0.651619  0.673462  0.619736  Random Forest        ftcj\n",
       "26  0.650983  0.672055  0.623586  Random Forest        ftcm\n",
       "27  0.660976  0.688470  0.626864  Random Forest        ftjm\n",
       "28  0.631926  0.645964  0.612164  Random Forest        fcjm\n",
       "29  0.657451  0.681978  0.622721  Random Forest        tcjm\n",
       "30  0.660394  0.682102  0.621415  Random Forest       ftcjm"
      ]
     },
     "execution_count": 395,
     "metadata": {},
     "output_type": "execute_result"
    }
   ],
   "source": [
    "brady_res_all"
   ]
  },
  {
   "cell_type": "code",
   "execution_count": 399,
   "metadata": {
    "scrolled": true
   },
   "outputs": [
    {
     "name": "stdout",
     "output_type": "stream",
     "text": [
      "t, f\n",
      "Ttest_relResult(statistic=2.6028692494911065, pvalue=0.023103384581561356)\n",
      "t, c\n",
      "Ttest_relResult(statistic=4.613935279434423, pvalue=0.0005964012838987744)\n",
      "t, j\n",
      "Ttest_relResult(statistic=3.715166318015009, pvalue=0.0029528158425049526)\n",
      "t, m\n",
      "Ttest_relResult(statistic=2.4779628117665853, pvalue=0.029066385231013094)\n",
      "t, ftcjm\n",
      "Ttest_relResult(statistic=0.30640699303426594, pvalue=0.7645460305972742)\n"
     ]
    }
   ],
   "source": [
    "x = results_brady[1]['Random Forest']['auroc']\n",
    "for featgroup in [0,2,3,4,30]:\n",
    "    print('t, %s'%brady_res_all.iloc[featgroup]['Combination'])\n",
    "    y = results_brady[featgroup]['Random Forest']['auroc']\n",
    "    print(stats.ttest_rel(x,y))"
   ]
  },
  {
   "cell_type": "markdown",
   "metadata": {},
   "source": [
    "## Multi-Class Classifier"
   ]
  },
  {
   "cell_type": "code",
   "execution_count": 430,
   "metadata": {},
   "outputs": [],
   "source": [
    "featdict = {'freq':['Dom_freq','Pdom_rel','PSD_mean','PSD_std','PSD_skew','PSD_kur'],\n",
    "            'time':['RMSX','RMSY','RMSZ','rangeX','rangeY','rangeZ','meanX','meanY','meanZ','varX','varY','varZ','skewX','skewY','skewZ','kurtX','kurtY','kurtZ','Sen_X','Sen_Y','Sen_Z'],\n",
    "            'corr':['xcorr_peakXZ','xcorr_peakYZ','xcor_peakXY','xcorr_lagXZ','xcorr_lagYZ','xcorr_lagXY'],\n",
    "            'jerk':['jerk_mean','jerk_std','jerk_skew','jerk_kur'],\n",
    "            'mag' :['RMS_mag','range_mag','mean_mag','var_mag','skew_mag','kurt_mag','Sen_mag']}"
   ]
  },
  {
   "cell_type": "code",
   "execution_count": 431,
   "metadata": {},
   "outputs": [
    {
     "data": {
      "text/plain": [
       "[['freq'],\n",
       " ['time'],\n",
       " ['corr'],\n",
       " ['jerk'],\n",
       " ['mag'],\n",
       " ['freq', 'time'],\n",
       " ['freq', 'corr'],\n",
       " ['freq', 'jerk'],\n",
       " ['freq', 'mag'],\n",
       " ['time', 'corr'],\n",
       " ['time', 'jerk'],\n",
       " ['time', 'mag'],\n",
       " ['corr', 'jerk'],\n",
       " ['corr', 'mag'],\n",
       " ['jerk', 'mag'],\n",
       " ['freq', 'time', 'corr'],\n",
       " ['freq', 'time', 'jerk'],\n",
       " ['freq', 'time', 'mag'],\n",
       " ['freq', 'corr', 'jerk'],\n",
       " ['freq', 'corr', 'mag'],\n",
       " ['freq', 'jerk', 'mag'],\n",
       " ['time', 'corr', 'jerk'],\n",
       " ['time', 'corr', 'mag'],\n",
       " ['time', 'jerk', 'mag'],\n",
       " ['corr', 'jerk', 'mag'],\n",
       " ['freq', 'time', 'corr', 'jerk'],\n",
       " ['freq', 'time', 'corr', 'mag'],\n",
       " ['freq', 'time', 'jerk', 'mag'],\n",
       " ['freq', 'corr', 'jerk', 'mag'],\n",
       " ['time', 'corr', 'jerk', 'mag'],\n",
       " ['freq', 'time', 'corr', 'jerk', 'mag']]"
      ]
     },
     "execution_count": 431,
     "metadata": {},
     "output_type": "execute_result"
    }
   ],
   "source": [
    "combs"
   ]
  },
  {
   "cell_type": "markdown",
   "metadata": {},
   "source": [
    "### Tremor"
   ]
  },
  {
   "cell_type": "code",
   "execution_count": 113,
   "metadata": {},
   "outputs": [],
   "source": [
    "data = pd.read_csv('Z:CIS-PD Study\\\\Downsample\\\\Accel Data 62.5Hz.csv')\n",
    "data = data[(data.Subject!=1020) & (data.Subject!=1030)]\n",
    "info = ['Subject','Visit','Task','Bradykinesia','Tremor']"
   ]
  },
  {
   "cell_type": "code",
   "execution_count": 114,
   "metadata": {},
   "outputs": [
    {
     "name": "stdout",
     "output_type": "stream",
     "text": [
      "Training Random Forest\n",
      "Training Random Forest\n",
      "Training Random Forest\n",
      "Training Random Forest\n",
      "Training Random Forest\n",
      "Training Random Forest\n",
      "Training Random Forest\n",
      "Training Random Forest\n",
      "Training Random Forest\n",
      "Training Random Forest\n",
      "Training Random Forest\n",
      "Training Random Forest\n",
      "Training Random Forest\n",
      "Training Random Forest\n",
      "Training Random Forest\n",
      "Training Random Forest\n",
      "Training Random Forest\n",
      "Training Random Forest\n",
      "Training Random Forest\n",
      "Training Random Forest\n",
      "Training Random Forest\n",
      "Training Random Forest\n",
      "Training Random Forest\n",
      "Training Random Forest\n",
      "Training Random Forest\n",
      "Training Random Forest\n",
      "Training Random Forest\n",
      "Training Random Forest\n",
      "Training Random Forest\n",
      "Training Random Forest\n",
      "Training Random Forest\n",
      "Elapsed time = 13.837 min\n"
     ]
    }
   ],
   "source": [
    "symptom = 'Tremor'\n",
    "t1 = time.time()\n",
    "results_tremor = pd.DataFrame()\n",
    "tremor_res_all = pd.DataFrame()\n",
    "\n",
    "for comb in combs:\n",
    "    \n",
    "    feat_cols = []\n",
    "    comb_group = ''\n",
    "    \n",
    "    for features_set in comb:\n",
    "        \n",
    "        comb_group += features_set[0]\n",
    "        feat_cols = feat_cols + featdict[features_set]\n",
    "    \n",
    "    data_comb = data[info + feat_cols]\n",
    "\n",
    "    Data = data_comb.copy() #original unmodified dataframe\n",
    "    Data=Data[~Data[symptom].isnull()] #remove nan rows for current symptom\n",
    "    Data=Data.reset_index(drop=True) #reset index\n",
    "\n",
    "    X = Data.iloc[:,5:].as_matrix()\n",
    "    fnames = Data.iloc[:,5:].columns.values\n",
    "\n",
    "    indp = Data[symptom]\n",
    "    indp = indp.values\n",
    "    y = indp.astype(int) #target \n",
    "    #print('Rows w %s %d/%d = %.2f'%(symptom,sum(indp),len(indp),(sum(indp)/len(indp))))\n",
    "\n",
    "    models = [RandomForestClassifier(n_estimators=50,random_state=2)]          \n",
    "    model_name = ['Random Forest']\n",
    "    models = list(zip(models,model_name))\n",
    "    groups = Data.Subject.as_matrix()\n",
    "\n",
    "    res,res_group = LOSOMultiClass(Data,X,y,groups,models)\n",
    "    res['Combination'] = comb_group\n",
    "    results_tremor = pd.concat((results_tremor,res))\n",
    "    s = pd.DataFrame()\n",
    "    s['Model'] = ['Random Forest'] \n",
    "    s['RMS'] = [np.nanmean(results_tremor[results_tremor.Combination==comb_group]['RMS'])]\n",
    "    s['comb'] = [comb_group]\n",
    "    tremor_res_all = pd.concat([tremor_res_all,s])\n",
    "\n",
    "results_tremor = results_tremor.reset_index(drop=True)\n",
    "\n",
    "print('Elapsed time = %.3f min'%((time.time()-t1)/60))   "
   ]
  },
  {
   "cell_type": "code",
   "execution_count": 115,
   "metadata": {},
   "outputs": [
    {
     "data": {
      "text/html": [
       "<div>\n",
       "<style scoped>\n",
       "    .dataframe tbody tr th:only-of-type {\n",
       "        vertical-align: middle;\n",
       "    }\n",
       "\n",
       "    .dataframe tbody tr th {\n",
       "        vertical-align: top;\n",
       "    }\n",
       "\n",
       "    .dataframe thead th {\n",
       "        text-align: right;\n",
       "    }\n",
       "</style>\n",
       "<table border=\"1\" class=\"dataframe\">\n",
       "  <thead>\n",
       "    <tr style=\"text-align: right;\">\n",
       "      <th></th>\n",
       "      <th>Model</th>\n",
       "      <th>RMS</th>\n",
       "      <th>comb</th>\n",
       "    </tr>\n",
       "  </thead>\n",
       "  <tbody>\n",
       "    <tr>\n",
       "      <th>0</th>\n",
       "      <td>Random Forest</td>\n",
       "      <td>0.132262</td>\n",
       "      <td>f</td>\n",
       "    </tr>\n",
       "    <tr>\n",
       "      <th>0</th>\n",
       "      <td>Random Forest</td>\n",
       "      <td>0.132343</td>\n",
       "      <td>t</td>\n",
       "    </tr>\n",
       "    <tr>\n",
       "      <th>0</th>\n",
       "      <td>Random Forest</td>\n",
       "      <td>0.140276</td>\n",
       "      <td>c</td>\n",
       "    </tr>\n",
       "    <tr>\n",
       "      <th>0</th>\n",
       "      <td>Random Forest</td>\n",
       "      <td>0.160191</td>\n",
       "      <td>j</td>\n",
       "    </tr>\n",
       "    <tr>\n",
       "      <th>0</th>\n",
       "      <td>Random Forest</td>\n",
       "      <td>0.155220</td>\n",
       "      <td>m</td>\n",
       "    </tr>\n",
       "    <tr>\n",
       "      <th>0</th>\n",
       "      <td>Random Forest</td>\n",
       "      <td>0.130387</td>\n",
       "      <td>ft</td>\n",
       "    </tr>\n",
       "    <tr>\n",
       "      <th>0</th>\n",
       "      <td>Random Forest</td>\n",
       "      <td>0.120826</td>\n",
       "      <td>fc</td>\n",
       "    </tr>\n",
       "    <tr>\n",
       "      <th>0</th>\n",
       "      <td>Random Forest</td>\n",
       "      <td>0.141174</td>\n",
       "      <td>fj</td>\n",
       "    </tr>\n",
       "    <tr>\n",
       "      <th>0</th>\n",
       "      <td>Random Forest</td>\n",
       "      <td>0.140041</td>\n",
       "      <td>fm</td>\n",
       "    </tr>\n",
       "    <tr>\n",
       "      <th>0</th>\n",
       "      <td>Random Forest</td>\n",
       "      <td>0.130953</td>\n",
       "      <td>tc</td>\n",
       "    </tr>\n",
       "    <tr>\n",
       "      <th>0</th>\n",
       "      <td>Random Forest</td>\n",
       "      <td>0.134023</td>\n",
       "      <td>tj</td>\n",
       "    </tr>\n",
       "    <tr>\n",
       "      <th>0</th>\n",
       "      <td>Random Forest</td>\n",
       "      <td>0.130090</td>\n",
       "      <td>tm</td>\n",
       "    </tr>\n",
       "    <tr>\n",
       "      <th>0</th>\n",
       "      <td>Random Forest</td>\n",
       "      <td>0.138789</td>\n",
       "      <td>cj</td>\n",
       "    </tr>\n",
       "    <tr>\n",
       "      <th>0</th>\n",
       "      <td>Random Forest</td>\n",
       "      <td>0.133045</td>\n",
       "      <td>cm</td>\n",
       "    </tr>\n",
       "    <tr>\n",
       "      <th>0</th>\n",
       "      <td>Random Forest</td>\n",
       "      <td>0.146867</td>\n",
       "      <td>jm</td>\n",
       "    </tr>\n",
       "    <tr>\n",
       "      <th>0</th>\n",
       "      <td>Random Forest</td>\n",
       "      <td>0.123737</td>\n",
       "      <td>ftc</td>\n",
       "    </tr>\n",
       "    <tr>\n",
       "      <th>0</th>\n",
       "      <td>Random Forest</td>\n",
       "      <td>0.126147</td>\n",
       "      <td>ftj</td>\n",
       "    </tr>\n",
       "    <tr>\n",
       "      <th>0</th>\n",
       "      <td>Random Forest</td>\n",
       "      <td>0.128763</td>\n",
       "      <td>ftm</td>\n",
       "    </tr>\n",
       "    <tr>\n",
       "      <th>0</th>\n",
       "      <td>Random Forest</td>\n",
       "      <td>0.132694</td>\n",
       "      <td>fcj</td>\n",
       "    </tr>\n",
       "    <tr>\n",
       "      <th>0</th>\n",
       "      <td>Random Forest</td>\n",
       "      <td>0.127415</td>\n",
       "      <td>fcm</td>\n",
       "    </tr>\n",
       "    <tr>\n",
       "      <th>0</th>\n",
       "      <td>Random Forest</td>\n",
       "      <td>0.140260</td>\n",
       "      <td>fjm</td>\n",
       "    </tr>\n",
       "    <tr>\n",
       "      <th>0</th>\n",
       "      <td>Random Forest</td>\n",
       "      <td>0.127730</td>\n",
       "      <td>tcj</td>\n",
       "    </tr>\n",
       "    <tr>\n",
       "      <th>0</th>\n",
       "      <td>Random Forest</td>\n",
       "      <td>0.129838</td>\n",
       "      <td>tcm</td>\n",
       "    </tr>\n",
       "    <tr>\n",
       "      <th>0</th>\n",
       "      <td>Random Forest</td>\n",
       "      <td>0.128551</td>\n",
       "      <td>tjm</td>\n",
       "    </tr>\n",
       "    <tr>\n",
       "      <th>0</th>\n",
       "      <td>Random Forest</td>\n",
       "      <td>0.133442</td>\n",
       "      <td>cjm</td>\n",
       "    </tr>\n",
       "    <tr>\n",
       "      <th>0</th>\n",
       "      <td>Random Forest</td>\n",
       "      <td>0.129440</td>\n",
       "      <td>ftcj</td>\n",
       "    </tr>\n",
       "    <tr>\n",
       "      <th>0</th>\n",
       "      <td>Random Forest</td>\n",
       "      <td>0.126826</td>\n",
       "      <td>ftcm</td>\n",
       "    </tr>\n",
       "    <tr>\n",
       "      <th>0</th>\n",
       "      <td>Random Forest</td>\n",
       "      <td>0.126276</td>\n",
       "      <td>ftjm</td>\n",
       "    </tr>\n",
       "    <tr>\n",
       "      <th>0</th>\n",
       "      <td>Random Forest</td>\n",
       "      <td>0.130221</td>\n",
       "      <td>fcjm</td>\n",
       "    </tr>\n",
       "    <tr>\n",
       "      <th>0</th>\n",
       "      <td>Random Forest</td>\n",
       "      <td>0.129180</td>\n",
       "      <td>tcjm</td>\n",
       "    </tr>\n",
       "    <tr>\n",
       "      <th>0</th>\n",
       "      <td>Random Forest</td>\n",
       "      <td>0.128873</td>\n",
       "      <td>ftcjm</td>\n",
       "    </tr>\n",
       "  </tbody>\n",
       "</table>\n",
       "</div>"
      ],
      "text/plain": [
       "           Model       RMS   comb\n",
       "0  Random Forest  0.132262      f\n",
       "0  Random Forest  0.132343      t\n",
       "0  Random Forest  0.140276      c\n",
       "0  Random Forest  0.160191      j\n",
       "0  Random Forest  0.155220      m\n",
       "0  Random Forest  0.130387     ft\n",
       "0  Random Forest  0.120826     fc\n",
       "0  Random Forest  0.141174     fj\n",
       "0  Random Forest  0.140041     fm\n",
       "0  Random Forest  0.130953     tc\n",
       "0  Random Forest  0.134023     tj\n",
       "0  Random Forest  0.130090     tm\n",
       "0  Random Forest  0.138789     cj\n",
       "0  Random Forest  0.133045     cm\n",
       "0  Random Forest  0.146867     jm\n",
       "0  Random Forest  0.123737    ftc\n",
       "0  Random Forest  0.126147    ftj\n",
       "0  Random Forest  0.128763    ftm\n",
       "0  Random Forest  0.132694    fcj\n",
       "0  Random Forest  0.127415    fcm\n",
       "0  Random Forest  0.140260    fjm\n",
       "0  Random Forest  0.127730    tcj\n",
       "0  Random Forest  0.129838    tcm\n",
       "0  Random Forest  0.128551    tjm\n",
       "0  Random Forest  0.133442    cjm\n",
       "0  Random Forest  0.129440   ftcj\n",
       "0  Random Forest  0.126826   ftcm\n",
       "0  Random Forest  0.126276   ftjm\n",
       "0  Random Forest  0.130221   fcjm\n",
       "0  Random Forest  0.129180   tcjm\n",
       "0  Random Forest  0.128873  ftcjm"
      ]
     },
     "execution_count": 115,
     "metadata": {},
     "output_type": "execute_result"
    }
   ],
   "source": [
    "tremor_res_all"
   ]
  },
  {
   "cell_type": "code",
   "execution_count": 483,
   "metadata": {},
   "outputs": [
    {
     "data": {
      "text/html": [
       "<div>\n",
       "<style scoped>\n",
       "    .dataframe tbody tr th:only-of-type {\n",
       "        vertical-align: middle;\n",
       "    }\n",
       "\n",
       "    .dataframe tbody tr th {\n",
       "        vertical-align: top;\n",
       "    }\n",
       "\n",
       "    .dataframe thead th {\n",
       "        text-align: right;\n",
       "    }\n",
       "</style>\n",
       "<table border=\"1\" class=\"dataframe\">\n",
       "  <thead>\n",
       "    <tr style=\"text-align: right;\">\n",
       "      <th></th>\n",
       "      <th>RMS</th>\n",
       "      <th>Model</th>\n",
       "      <th>comb</th>\n",
       "    </tr>\n",
       "  </thead>\n",
       "  <tbody>\n",
       "    <tr>\n",
       "      <th>0</th>\n",
       "      <td>0.127960</td>\n",
       "      <td>Random Forest</td>\n",
       "      <td>f</td>\n",
       "    </tr>\n",
       "    <tr>\n",
       "      <th>0</th>\n",
       "      <td>0.123739</td>\n",
       "      <td>Random Forest</td>\n",
       "      <td>t</td>\n",
       "    </tr>\n",
       "    <tr>\n",
       "      <th>0</th>\n",
       "      <td>0.128937</td>\n",
       "      <td>Random Forest</td>\n",
       "      <td>c</td>\n",
       "    </tr>\n",
       "    <tr>\n",
       "      <th>0</th>\n",
       "      <td>0.150836</td>\n",
       "      <td>Random Forest</td>\n",
       "      <td>j</td>\n",
       "    </tr>\n",
       "    <tr>\n",
       "      <th>0</th>\n",
       "      <td>0.146263</td>\n",
       "      <td>Random Forest</td>\n",
       "      <td>m</td>\n",
       "    </tr>\n",
       "    <tr>\n",
       "      <th>0</th>\n",
       "      <td>0.123283</td>\n",
       "      <td>Random Forest</td>\n",
       "      <td>ft</td>\n",
       "    </tr>\n",
       "    <tr>\n",
       "      <th>0</th>\n",
       "      <td>0.113714</td>\n",
       "      <td>Random Forest</td>\n",
       "      <td>fc</td>\n",
       "    </tr>\n",
       "    <tr>\n",
       "      <th>0</th>\n",
       "      <td>0.132574</td>\n",
       "      <td>Random Forest</td>\n",
       "      <td>fj</td>\n",
       "    </tr>\n",
       "    <tr>\n",
       "      <th>0</th>\n",
       "      <td>0.131184</td>\n",
       "      <td>Random Forest</td>\n",
       "      <td>fm</td>\n",
       "    </tr>\n",
       "    <tr>\n",
       "      <th>0</th>\n",
       "      <td>0.119722</td>\n",
       "      <td>Random Forest</td>\n",
       "      <td>tc</td>\n",
       "    </tr>\n",
       "    <tr>\n",
       "      <th>0</th>\n",
       "      <td>0.124956</td>\n",
       "      <td>Random Forest</td>\n",
       "      <td>tj</td>\n",
       "    </tr>\n",
       "    <tr>\n",
       "      <th>0</th>\n",
       "      <td>0.119867</td>\n",
       "      <td>Random Forest</td>\n",
       "      <td>tm</td>\n",
       "    </tr>\n",
       "    <tr>\n",
       "      <th>0</th>\n",
       "      <td>0.128821</td>\n",
       "      <td>Random Forest</td>\n",
       "      <td>cj</td>\n",
       "    </tr>\n",
       "    <tr>\n",
       "      <th>0</th>\n",
       "      <td>0.124714</td>\n",
       "      <td>Random Forest</td>\n",
       "      <td>cm</td>\n",
       "    </tr>\n",
       "    <tr>\n",
       "      <th>0</th>\n",
       "      <td>0.138270</td>\n",
       "      <td>Random Forest</td>\n",
       "      <td>jm</td>\n",
       "    </tr>\n",
       "    <tr>\n",
       "      <th>0</th>\n",
       "      <td>0.118455</td>\n",
       "      <td>Random Forest</td>\n",
       "      <td>ftc</td>\n",
       "    </tr>\n",
       "    <tr>\n",
       "      <th>0</th>\n",
       "      <td>0.120797</td>\n",
       "      <td>Random Forest</td>\n",
       "      <td>ftj</td>\n",
       "    </tr>\n",
       "    <tr>\n",
       "      <th>0</th>\n",
       "      <td>0.119681</td>\n",
       "      <td>Random Forest</td>\n",
       "      <td>ftm</td>\n",
       "    </tr>\n",
       "    <tr>\n",
       "      <th>0</th>\n",
       "      <td>0.123900</td>\n",
       "      <td>Random Forest</td>\n",
       "      <td>fcj</td>\n",
       "    </tr>\n",
       "    <tr>\n",
       "      <th>0</th>\n",
       "      <td>0.119934</td>\n",
       "      <td>Random Forest</td>\n",
       "      <td>fcm</td>\n",
       "    </tr>\n",
       "    <tr>\n",
       "      <th>0</th>\n",
       "      <td>0.132951</td>\n",
       "      <td>Random Forest</td>\n",
       "      <td>fjm</td>\n",
       "    </tr>\n",
       "    <tr>\n",
       "      <th>0</th>\n",
       "      <td>0.121396</td>\n",
       "      <td>Random Forest</td>\n",
       "      <td>tcj</td>\n",
       "    </tr>\n",
       "    <tr>\n",
       "      <th>0</th>\n",
       "      <td>0.118668</td>\n",
       "      <td>Random Forest</td>\n",
       "      <td>tcm</td>\n",
       "    </tr>\n",
       "    <tr>\n",
       "      <th>0</th>\n",
       "      <td>0.123293</td>\n",
       "      <td>Random Forest</td>\n",
       "      <td>tjm</td>\n",
       "    </tr>\n",
       "    <tr>\n",
       "      <th>0</th>\n",
       "      <td>0.126743</td>\n",
       "      <td>Random Forest</td>\n",
       "      <td>cjm</td>\n",
       "    </tr>\n",
       "    <tr>\n",
       "      <th>0</th>\n",
       "      <td>0.119358</td>\n",
       "      <td>Random Forest</td>\n",
       "      <td>ftcj</td>\n",
       "    </tr>\n",
       "    <tr>\n",
       "      <th>0</th>\n",
       "      <td>0.116877</td>\n",
       "      <td>Random Forest</td>\n",
       "      <td>ftcm</td>\n",
       "    </tr>\n",
       "    <tr>\n",
       "      <th>0</th>\n",
       "      <td>0.119058</td>\n",
       "      <td>Random Forest</td>\n",
       "      <td>ftjm</td>\n",
       "    </tr>\n",
       "    <tr>\n",
       "      <th>0</th>\n",
       "      <td>0.122631</td>\n",
       "      <td>Random Forest</td>\n",
       "      <td>fcjm</td>\n",
       "    </tr>\n",
       "    <tr>\n",
       "      <th>0</th>\n",
       "      <td>0.120751</td>\n",
       "      <td>Random Forest</td>\n",
       "      <td>tcjm</td>\n",
       "    </tr>\n",
       "    <tr>\n",
       "      <th>0</th>\n",
       "      <td>0.114720</td>\n",
       "      <td>Random Forest</td>\n",
       "      <td>ftcjm</td>\n",
       "    </tr>\n",
       "  </tbody>\n",
       "</table>\n",
       "</div>"
      ],
      "text/plain": [
       "        RMS          Model   comb\n",
       "0  0.127960  Random Forest      f\n",
       "0  0.123739  Random Forest      t\n",
       "0  0.128937  Random Forest      c\n",
       "0  0.150836  Random Forest      j\n",
       "0  0.146263  Random Forest      m\n",
       "0  0.123283  Random Forest     ft\n",
       "0  0.113714  Random Forest     fc\n",
       "0  0.132574  Random Forest     fj\n",
       "0  0.131184  Random Forest     fm\n",
       "0  0.119722  Random Forest     tc\n",
       "0  0.124956  Random Forest     tj\n",
       "0  0.119867  Random Forest     tm\n",
       "0  0.128821  Random Forest     cj\n",
       "0  0.124714  Random Forest     cm\n",
       "0  0.138270  Random Forest     jm\n",
       "0  0.118455  Random Forest    ftc\n",
       "0  0.120797  Random Forest    ftj\n",
       "0  0.119681  Random Forest    ftm\n",
       "0  0.123900  Random Forest    fcj\n",
       "0  0.119934  Random Forest    fcm\n",
       "0  0.132951  Random Forest    fjm\n",
       "0  0.121396  Random Forest    tcj\n",
       "0  0.118668  Random Forest    tcm\n",
       "0  0.123293  Random Forest    tjm\n",
       "0  0.126743  Random Forest    cjm\n",
       "0  0.119358  Random Forest   ftcj\n",
       "0  0.116877  Random Forest   ftcm\n",
       "0  0.119058  Random Forest   ftjm\n",
       "0  0.122631  Random Forest   fcjm\n",
       "0  0.120751  Random Forest   tcjm\n",
       "0  0.114720  Random Forest  ftcjm"
      ]
     },
     "execution_count": 483,
     "metadata": {},
     "output_type": "execute_result"
    }
   ],
   "source": [
    "tremor_res_all\n",
    "#t['RMS']= pd.DataFrame(data=[np.nanmean(results_tremor[results_tremor.Combination==comb_group]['RMS'])],columns=['RMS'])"
   ]
  },
  {
   "cell_type": "code",
   "execution_count": 485,
   "metadata": {},
   "outputs": [
    {
     "name": "stdout",
     "output_type": "stream",
     "text": [
      "f: frequency\n",
      "t: time\n",
      "c: correlation\n",
      "j: jerk\n",
      "m: mag\n"
     ]
    },
    {
     "data": {
      "image/png": "[encoded data removed]",
      "text/plain": [
       "<matplotlib.figure.Figure at 0xf645c18>"
      ]
     },
     "metadata": {},
     "output_type": "display_data"
    }
   ],
   "source": [
    "groups = results_tremor['Combination']\n",
    "RMS = results_tremor['RMS']\n",
    "sns.barplot(groups,RMS,ci='sd')\n",
    "ax=plt.xticks(rotation=90)\n",
    "plt.ylim([0,0.20])\n",
    "plt.title('Effect of Sampling Frequency on AUROC: Tremor')\n",
    "plt.savefig('Results/Downsample/MulticlassSensorTremor.png',format='png',dpi=1000)\n",
    "print('f: frequency')\n",
    "print('t: time')\n",
    "print('c: correlation')\n",
    "print('j: jerk')\n",
    "print('m: mag')"
   ]
  },
  {
   "cell_type": "code",
   "execution_count": 71,
   "metadata": {},
   "outputs": [],
   "source": [
    "dataTremor = pd.read_csv('Z:CIS-PD Study\\\\Downsample\\\\Accel Data 62.5Hz.csv')\n",
    "dataTremor = dataTremor[(dataTremor.Subject != 1020) & (dataTremor.Subject != 1030)]\n",
    "dataBrady = pd.read_csv('Z:CIS-PD Study\\\\Downsample\\\\Accel+Gyro Data 62.5Hz.csv')\n",
    "dataBrady = dataBrady[(dataBrady.Subject != 1020) & (dataBrady.Subject != 1030)]\n",
    "datadict = {'Tremor':dataTremor,'Bradykinesia':dataBrady}"
   ]
  },
  {
   "cell_type": "code",
   "execution_count": 72,
   "metadata": {},
   "outputs": [],
   "source": [
    "info = ['Subject','Visit','Task','Bradykinesia','Tremor']\n",
    "\n",
    "featdict = {'freq':['Dom_freq','Pdom_rel','PSD_mean','PSD_std','PSD_skew','PSD_kur'],\n",
    "            'time':['RMSX','RMSY','RMSZ','rangeX','rangeY','rangeZ','meanX','meanY','meanZ','varX','varY','varZ','skewX','skewY','skewZ','kurtX','kurtY','kurtZ','Sen_X','Sen_Y','Sen_Z'],\n",
    "            'corr':['xcorr_peakXZ','xcorr_peakYZ','xcor_peakXY','xcorr_lagXZ','xcorr_lagYZ','xcorr_lagXY'],\n",
    "            'jerk':['jerk_mean','jerk_std','jerk_skew','jerk_kur'],\n",
    "            'mag' :['RMS_mag','range_mag','mean_mag','var_mag','skew_mag','kurt_mag','Sen_mag']}\n",
    "\n",
    "def fix_feature_names(features):\n",
    "    feats = features.copy()\n",
    "    if feats[0][-3:] != 'acc':\n",
    "        featlen = len(feats)\n",
    "        for f in range(featlen):\n",
    "            feats.append(feats[f] + ' gyr')\n",
    "        for f in range(featlen):\n",
    "            feats[f] = feats[f] + ' acc'\n",
    "    return feats\n",
    "\n",
    "featdictsensors = {}\n",
    "\n",
    "for featgroup in featdict.keys():\n",
    "    feats = fix_feature_names(featdict[featgroup])\n",
    "    featdictsensors[featgroup] = feats"
   ]
  },
  {
   "cell_type": "code",
   "execution_count": 73,
   "metadata": {},
   "outputs": [
    {
     "data": {
      "text/plain": [
       "[['freq'],\n",
       " ['time'],\n",
       " ['corr'],\n",
       " ['jerk'],\n",
       " ['mag'],\n",
       " ['freq', 'time'],\n",
       " ['freq', 'corr'],\n",
       " ['freq', 'jerk'],\n",
       " ['freq', 'mag'],\n",
       " ['time', 'corr'],\n",
       " ['time', 'jerk'],\n",
       " ['time', 'mag'],\n",
       " ['corr', 'jerk'],\n",
       " ['corr', 'mag'],\n",
       " ['jerk', 'mag'],\n",
       " ['freq', 'time', 'corr'],\n",
       " ['freq', 'time', 'jerk'],\n",
       " ['freq', 'time', 'mag'],\n",
       " ['freq', 'corr', 'jerk'],\n",
       " ['freq', 'corr', 'mag'],\n",
       " ['freq', 'jerk', 'mag'],\n",
       " ['time', 'corr', 'jerk'],\n",
       " ['time', 'corr', 'mag'],\n",
       " ['time', 'jerk', 'mag'],\n",
       " ['corr', 'jerk', 'mag'],\n",
       " ['freq', 'time', 'corr', 'jerk'],\n",
       " ['freq', 'time', 'corr', 'mag'],\n",
       " ['freq', 'time', 'jerk', 'mag'],\n",
       " ['freq', 'corr', 'jerk', 'mag'],\n",
       " ['time', 'corr', 'jerk', 'mag'],\n",
       " ['freq', 'time', 'corr', 'jerk', 'mag']]"
      ]
     },
     "execution_count": 73,
     "metadata": {},
     "output_type": "execute_result"
    }
   ],
   "source": [
    "lst = featdict.keys()\n",
    "combs = []\n",
    "for i in range(len(lst)):\n",
    "    els = [list(x) for x in combinations(lst, i+1)]\n",
    "    combs.extend(els)\n",
    "\n",
    "combs"
   ]
  },
  {
   "cell_type": "code",
   "execution_count": 106,
   "metadata": {
    "scrolled": true
   },
   "outputs": [
    {
     "name": "stdout",
     "output_type": "stream",
     "text": [
      "Training Random Forest\n"
     ]
    },
    {
     "name": "stderr",
     "output_type": "stream",
     "text": [
      "C:\\Users\\Public\\Documents\\Anaconda\\lib\\site-packages\\sklearn\\metrics\\classification.py:1137: UndefinedMetricWarning: F-score is ill-defined and being set to 0.0 due to no true samples.\n",
      "  'recall', 'true', average, warn_for)\n",
      "C:\\Users\\Public\\Documents\\Anaconda\\lib\\site-packages\\sklearn\\metrics\\ranking.py:444: RuntimeWarning: invalid value encountered in true_divide\n",
      "  recall = tps / tps[-1]\n",
      "C:\\Users\\Public\\Documents\\Anaconda\\lib\\site-packages\\sklearn\\metrics\\ranking.py:94: RuntimeWarning: invalid value encountered in less\n",
      "  if np.any(dx < 0):\n",
      "C:\\Users\\Public\\Documents\\Anaconda\\lib\\site-packages\\sklearn\\metrics\\classification.py:1137: UndefinedMetricWarning: Recall is ill-defined and being set to 0.0 due to no true samples.\n",
      "  'recall', 'true', average, warn_for)\n"
     ]
    },
    {
     "name": "stdout",
     "output_type": "stream",
     "text": [
      "Training Random Forest\n",
      "Training Random Forest\n",
      "Training Random Forest\n"
     ]
    },
    {
     "name": "stderr",
     "output_type": "stream",
     "text": [
      "C:\\Users\\Public\\Documents\\Anaconda\\lib\\site-packages\\sklearn\\metrics\\classification.py:1137: UndefinedMetricWarning: F-score is ill-defined and being set to 0.0 due to no true samples.\n",
      "  'recall', 'true', average, warn_for)\n",
      "C:\\Users\\Public\\Documents\\Anaconda\\lib\\site-packages\\sklearn\\metrics\\ranking.py:444: RuntimeWarning: invalid value encountered in true_divide\n",
      "  recall = tps / tps[-1]\n",
      "C:\\Users\\Public\\Documents\\Anaconda\\lib\\site-packages\\sklearn\\metrics\\ranking.py:94: RuntimeWarning: invalid value encountered in less\n",
      "  if np.any(dx < 0):\n",
      "C:\\Users\\Public\\Documents\\Anaconda\\lib\\site-packages\\sklearn\\metrics\\classification.py:1137: UndefinedMetricWarning: Recall is ill-defined and being set to 0.0 due to no true samples.\n",
      "  'recall', 'true', average, warn_for)\n"
     ]
    },
    {
     "name": "stdout",
     "output_type": "stream",
     "text": [
      "Training Random Forest\n",
      "Training Random Forest\n",
      "Training Random Forest\n"
     ]
    },
    {
     "name": "stderr",
     "output_type": "stream",
     "text": [
      "C:\\Users\\Public\\Documents\\Anaconda\\lib\\site-packages\\sklearn\\metrics\\classification.py:1137: UndefinedMetricWarning: F-score is ill-defined and being set to 0.0 due to no true samples.\n",
      "  'recall', 'true', average, warn_for)\n",
      "C:\\Users\\Public\\Documents\\Anaconda\\lib\\site-packages\\sklearn\\metrics\\ranking.py:444: RuntimeWarning: invalid value encountered in true_divide\n",
      "  recall = tps / tps[-1]\n",
      "C:\\Users\\Public\\Documents\\Anaconda\\lib\\site-packages\\sklearn\\metrics\\ranking.py:94: RuntimeWarning: invalid value encountered in less\n",
      "  if np.any(dx < 0):\n",
      "C:\\Users\\Public\\Documents\\Anaconda\\lib\\site-packages\\sklearn\\metrics\\classification.py:1137: UndefinedMetricWarning: Recall is ill-defined and being set to 0.0 due to no true samples.\n",
      "  'recall', 'true', average, warn_for)\n"
     ]
    },
    {
     "name": "stdout",
     "output_type": "stream",
     "text": [
      "Training Random Forest\n",
      "Training Random Forest\n",
      "Training Random Forest\n"
     ]
    },
    {
     "name": "stderr",
     "output_type": "stream",
     "text": [
      "C:\\Users\\Public\\Documents\\Anaconda\\lib\\site-packages\\sklearn\\metrics\\classification.py:1137: UndefinedMetricWarning: F-score is ill-defined and being set to 0.0 due to no true samples.\n",
      "  'recall', 'true', average, warn_for)\n",
      "C:\\Users\\Public\\Documents\\Anaconda\\lib\\site-packages\\sklearn\\metrics\\ranking.py:444: RuntimeWarning: invalid value encountered in true_divide\n",
      "  recall = tps / tps[-1]\n",
      "C:\\Users\\Public\\Documents\\Anaconda\\lib\\site-packages\\sklearn\\metrics\\ranking.py:94: RuntimeWarning: invalid value encountered in less\n",
      "  if np.any(dx < 0):\n",
      "C:\\Users\\Public\\Documents\\Anaconda\\lib\\site-packages\\sklearn\\metrics\\classification.py:1137: UndefinedMetricWarning: Recall is ill-defined and being set to 0.0 due to no true samples.\n",
      "  'recall', 'true', average, warn_for)\n"
     ]
    },
    {
     "name": "stdout",
     "output_type": "stream",
     "text": [
      "Training Random Forest\n",
      "Training Random Forest\n",
      "Training Random Forest\n"
     ]
    },
    {
     "name": "stderr",
     "output_type": "stream",
     "text": [
      "C:\\Users\\Public\\Documents\\Anaconda\\lib\\site-packages\\sklearn\\metrics\\classification.py:1137: UndefinedMetricWarning: F-score is ill-defined and being set to 0.0 due to no true samples.\n",
      "  'recall', 'true', average, warn_for)\n",
      "C:\\Users\\Public\\Documents\\Anaconda\\lib\\site-packages\\sklearn\\metrics\\ranking.py:444: RuntimeWarning: invalid value encountered in true_divide\n",
      "  recall = tps / tps[-1]\n",
      "C:\\Users\\Public\\Documents\\Anaconda\\lib\\site-packages\\sklearn\\metrics\\ranking.py:94: RuntimeWarning: invalid value encountered in less\n",
      "  if np.any(dx < 0):\n",
      "C:\\Users\\Public\\Documents\\Anaconda\\lib\\site-packages\\sklearn\\metrics\\classification.py:1137: UndefinedMetricWarning: Recall is ill-defined and being set to 0.0 due to no true samples.\n",
      "  'recall', 'true', average, warn_for)\n"
     ]
    },
    {
     "name": "stdout",
     "output_type": "stream",
     "text": [
      "Training Random Forest\n",
      "Training Random Forest\n",
      "Training Random Forest\n"
     ]
    },
    {
     "name": "stderr",
     "output_type": "stream",
     "text": [
      "C:\\Users\\Public\\Documents\\Anaconda\\lib\\site-packages\\sklearn\\metrics\\classification.py:1137: UndefinedMetricWarning: F-score is ill-defined and being set to 0.0 due to no true samples.\n",
      "  'recall', 'true', average, warn_for)\n",
      "C:\\Users\\Public\\Documents\\Anaconda\\lib\\site-packages\\sklearn\\metrics\\ranking.py:444: RuntimeWarning: invalid value encountered in true_divide\n",
      "  recall = tps / tps[-1]\n",
      "C:\\Users\\Public\\Documents\\Anaconda\\lib\\site-packages\\sklearn\\metrics\\ranking.py:94: RuntimeWarning: invalid value encountered in less\n",
      "  if np.any(dx < 0):\n",
      "C:\\Users\\Public\\Documents\\Anaconda\\lib\\site-packages\\sklearn\\metrics\\classification.py:1137: UndefinedMetricWarning: Recall is ill-defined and being set to 0.0 due to no true samples.\n",
      "  'recall', 'true', average, warn_for)\n"
     ]
    },
    {
     "name": "stdout",
     "output_type": "stream",
     "text": [
      "Training Random Forest\n",
      "Training Random Forest\n",
      "Training Random Forest\n"
     ]
    },
    {
     "name": "stderr",
     "output_type": "stream",
     "text": [
      "C:\\Users\\Public\\Documents\\Anaconda\\lib\\site-packages\\sklearn\\metrics\\classification.py:1137: UndefinedMetricWarning: F-score is ill-defined and being set to 0.0 due to no true samples.\n",
      "  'recall', 'true', average, warn_for)\n",
      "C:\\Users\\Public\\Documents\\Anaconda\\lib\\site-packages\\sklearn\\metrics\\ranking.py:444: RuntimeWarning: invalid value encountered in true_divide\n",
      "  recall = tps / tps[-1]\n",
      "C:\\Users\\Public\\Documents\\Anaconda\\lib\\site-packages\\sklearn\\metrics\\ranking.py:94: RuntimeWarning: invalid value encountered in less\n",
      "  if np.any(dx < 0):\n",
      "C:\\Users\\Public\\Documents\\Anaconda\\lib\\site-packages\\sklearn\\metrics\\classification.py:1137: UndefinedMetricWarning: Recall is ill-defined and being set to 0.0 due to no true samples.\n",
      "  'recall', 'true', average, warn_for)\n"
     ]
    },
    {
     "name": "stdout",
     "output_type": "stream",
     "text": [
      "Training Random Forest\n",
      "Training Random Forest\n",
      "Training Random Forest\n"
     ]
    },
    {
     "name": "stderr",
     "output_type": "stream",
     "text": [
      "C:\\Users\\Public\\Documents\\Anaconda\\lib\\site-packages\\sklearn\\metrics\\classification.py:1137: UndefinedMetricWarning: F-score is ill-defined and being set to 0.0 due to no true samples.\n",
      "  'recall', 'true', average, warn_for)\n",
      "C:\\Users\\Public\\Documents\\Anaconda\\lib\\site-packages\\sklearn\\metrics\\ranking.py:444: RuntimeWarning: invalid value encountered in true_divide\n",
      "  recall = tps / tps[-1]\n",
      "C:\\Users\\Public\\Documents\\Anaconda\\lib\\site-packages\\sklearn\\metrics\\ranking.py:94: RuntimeWarning: invalid value encountered in less\n",
      "  if np.any(dx < 0):\n",
      "C:\\Users\\Public\\Documents\\Anaconda\\lib\\site-packages\\sklearn\\metrics\\classification.py:1137: UndefinedMetricWarning: Recall is ill-defined and being set to 0.0 due to no true samples.\n",
      "  'recall', 'true', average, warn_for)\n"
     ]
    },
    {
     "name": "stdout",
     "output_type": "stream",
     "text": [
      "Training Random Forest\n",
      "Training Random Forest\n",
      "Training Random Forest\n"
     ]
    },
    {
     "name": "stderr",
     "output_type": "stream",
     "text": [
      "C:\\Users\\Public\\Documents\\Anaconda\\lib\\site-packages\\sklearn\\metrics\\classification.py:1137: UndefinedMetricWarning: F-score is ill-defined and being set to 0.0 due to no true samples.\n",
      "  'recall', 'true', average, warn_for)\n",
      "C:\\Users\\Public\\Documents\\Anaconda\\lib\\site-packages\\sklearn\\metrics\\ranking.py:444: RuntimeWarning: invalid value encountered in true_divide\n",
      "  recall = tps / tps[-1]\n",
      "C:\\Users\\Public\\Documents\\Anaconda\\lib\\site-packages\\sklearn\\metrics\\ranking.py:94: RuntimeWarning: invalid value encountered in less\n",
      "  if np.any(dx < 0):\n",
      "C:\\Users\\Public\\Documents\\Anaconda\\lib\\site-packages\\sklearn\\metrics\\classification.py:1137: UndefinedMetricWarning: Recall is ill-defined and being set to 0.0 due to no true samples.\n",
      "  'recall', 'true', average, warn_for)\n"
     ]
    },
    {
     "name": "stdout",
     "output_type": "stream",
     "text": [
      "Training Random Forest\n",
      "Training Random Forest\n",
      "Training Random Forest\n"
     ]
    },
    {
     "name": "stderr",
     "output_type": "stream",
     "text": [
      "C:\\Users\\Public\\Documents\\Anaconda\\lib\\site-packages\\sklearn\\metrics\\classification.py:1137: UndefinedMetricWarning: F-score is ill-defined and being set to 0.0 due to no true samples.\n",
      "  'recall', 'true', average, warn_for)\n",
      "C:\\Users\\Public\\Documents\\Anaconda\\lib\\site-packages\\sklearn\\metrics\\ranking.py:444: RuntimeWarning: invalid value encountered in true_divide\n",
      "  recall = tps / tps[-1]\n",
      "C:\\Users\\Public\\Documents\\Anaconda\\lib\\site-packages\\sklearn\\metrics\\ranking.py:94: RuntimeWarning: invalid value encountered in less\n",
      "  if np.any(dx < 0):\n",
      "C:\\Users\\Public\\Documents\\Anaconda\\lib\\site-packages\\sklearn\\metrics\\classification.py:1137: UndefinedMetricWarning: Recall is ill-defined and being set to 0.0 due to no true samples.\n",
      "  'recall', 'true', average, warn_for)\n"
     ]
    },
    {
     "name": "stdout",
     "output_type": "stream",
     "text": [
      "Training Random Forest\n",
      "Training Random Forest\n",
      "Training Random Forest\n"
     ]
    },
    {
     "name": "stderr",
     "output_type": "stream",
     "text": [
      "C:\\Users\\Public\\Documents\\Anaconda\\lib\\site-packages\\sklearn\\metrics\\classification.py:1137: UndefinedMetricWarning: F-score is ill-defined and being set to 0.0 due to no true samples.\n",
      "  'recall', 'true', average, warn_for)\n",
      "C:\\Users\\Public\\Documents\\Anaconda\\lib\\site-packages\\sklearn\\metrics\\ranking.py:444: RuntimeWarning: invalid value encountered in true_divide\n",
      "  recall = tps / tps[-1]\n",
      "C:\\Users\\Public\\Documents\\Anaconda\\lib\\site-packages\\sklearn\\metrics\\ranking.py:94: RuntimeWarning: invalid value encountered in less\n",
      "  if np.any(dx < 0):\n",
      "C:\\Users\\Public\\Documents\\Anaconda\\lib\\site-packages\\sklearn\\metrics\\classification.py:1137: UndefinedMetricWarning: Recall is ill-defined and being set to 0.0 due to no true samples.\n",
      "  'recall', 'true', average, warn_for)\n"
     ]
    },
    {
     "name": "stdout",
     "output_type": "stream",
     "text": [
      "Training Random Forest\n",
      "Training Random Forest\n",
      "Training Random Forest\n"
     ]
    },
    {
     "name": "stderr",
     "output_type": "stream",
     "text": [
      "C:\\Users\\Public\\Documents\\Anaconda\\lib\\site-packages\\sklearn\\metrics\\classification.py:1137: UndefinedMetricWarning: F-score is ill-defined and being set to 0.0 due to no true samples.\n",
      "  'recall', 'true', average, warn_for)\n",
      "C:\\Users\\Public\\Documents\\Anaconda\\lib\\site-packages\\sklearn\\metrics\\ranking.py:444: RuntimeWarning: invalid value encountered in true_divide\n",
      "  recall = tps / tps[-1]\n",
      "C:\\Users\\Public\\Documents\\Anaconda\\lib\\site-packages\\sklearn\\metrics\\ranking.py:94: RuntimeWarning: invalid value encountered in less\n",
      "  if np.any(dx < 0):\n",
      "C:\\Users\\Public\\Documents\\Anaconda\\lib\\site-packages\\sklearn\\metrics\\classification.py:1137: UndefinedMetricWarning: Recall is ill-defined and being set to 0.0 due to no true samples.\n",
      "  'recall', 'true', average, warn_for)\n"
     ]
    },
    {
     "name": "stdout",
     "output_type": "stream",
     "text": [
      "Training Random Forest\n",
      "Training Random Forest\n",
      "Training Random Forest\n"
     ]
    },
    {
     "name": "stderr",
     "output_type": "stream",
     "text": [
      "C:\\Users\\Public\\Documents\\Anaconda\\lib\\site-packages\\sklearn\\metrics\\classification.py:1137: UndefinedMetricWarning: F-score is ill-defined and being set to 0.0 due to no true samples.\n",
      "  'recall', 'true', average, warn_for)\n",
      "C:\\Users\\Public\\Documents\\Anaconda\\lib\\site-packages\\sklearn\\metrics\\ranking.py:444: RuntimeWarning: invalid value encountered in true_divide\n",
      "  recall = tps / tps[-1]\n",
      "C:\\Users\\Public\\Documents\\Anaconda\\lib\\site-packages\\sklearn\\metrics\\ranking.py:94: RuntimeWarning: invalid value encountered in less\n",
      "  if np.any(dx < 0):\n",
      "C:\\Users\\Public\\Documents\\Anaconda\\lib\\site-packages\\sklearn\\metrics\\classification.py:1137: UndefinedMetricWarning: Recall is ill-defined and being set to 0.0 due to no true samples.\n",
      "  'recall', 'true', average, warn_for)\n"
     ]
    },
    {
     "name": "stdout",
     "output_type": "stream",
     "text": [
      "Training Random Forest\n",
      "Training Random Forest\n",
      "Training Random Forest\n"
     ]
    },
    {
     "name": "stderr",
     "output_type": "stream",
     "text": [
      "C:\\Users\\Public\\Documents\\Anaconda\\lib\\site-packages\\sklearn\\metrics\\classification.py:1137: UndefinedMetricWarning: F-score is ill-defined and being set to 0.0 due to no true samples.\n",
      "  'recall', 'true', average, warn_for)\n",
      "C:\\Users\\Public\\Documents\\Anaconda\\lib\\site-packages\\sklearn\\metrics\\ranking.py:444: RuntimeWarning: invalid value encountered in true_divide\n",
      "  recall = tps / tps[-1]\n",
      "C:\\Users\\Public\\Documents\\Anaconda\\lib\\site-packages\\sklearn\\metrics\\ranking.py:94: RuntimeWarning: invalid value encountered in less\n",
      "  if np.any(dx < 0):\n",
      "C:\\Users\\Public\\Documents\\Anaconda\\lib\\site-packages\\sklearn\\metrics\\classification.py:1137: UndefinedMetricWarning: Recall is ill-defined and being set to 0.0 due to no true samples.\n",
      "  'recall', 'true', average, warn_for)\n"
     ]
    },
    {
     "name": "stdout",
     "output_type": "stream",
     "text": [
      "Training Random Forest\n",
      "Training Random Forest\n",
      "Training Random Forest\n"
     ]
    },
    {
     "name": "stderr",
     "output_type": "stream",
     "text": [
      "C:\\Users\\Public\\Documents\\Anaconda\\lib\\site-packages\\sklearn\\metrics\\classification.py:1137: UndefinedMetricWarning: F-score is ill-defined and being set to 0.0 due to no true samples.\n",
      "  'recall', 'true', average, warn_for)\n",
      "C:\\Users\\Public\\Documents\\Anaconda\\lib\\site-packages\\sklearn\\metrics\\ranking.py:444: RuntimeWarning: invalid value encountered in true_divide\n",
      "  recall = tps / tps[-1]\n",
      "C:\\Users\\Public\\Documents\\Anaconda\\lib\\site-packages\\sklearn\\metrics\\ranking.py:94: RuntimeWarning: invalid value encountered in less\n",
      "  if np.any(dx < 0):\n",
      "C:\\Users\\Public\\Documents\\Anaconda\\lib\\site-packages\\sklearn\\metrics\\classification.py:1137: UndefinedMetricWarning: Recall is ill-defined and being set to 0.0 due to no true samples.\n",
      "  'recall', 'true', average, warn_for)\n"
     ]
    },
    {
     "name": "stdout",
     "output_type": "stream",
     "text": [
      "Training Random Forest\n",
      "Training Random Forest\n",
      "Training Random Forest\n"
     ]
    },
    {
     "name": "stderr",
     "output_type": "stream",
     "text": [
      "C:\\Users\\Public\\Documents\\Anaconda\\lib\\site-packages\\sklearn\\metrics\\classification.py:1137: UndefinedMetricWarning: F-score is ill-defined and being set to 0.0 due to no true samples.\n",
      "  'recall', 'true', average, warn_for)\n",
      "C:\\Users\\Public\\Documents\\Anaconda\\lib\\site-packages\\sklearn\\metrics\\ranking.py:444: RuntimeWarning: invalid value encountered in true_divide\n",
      "  recall = tps / tps[-1]\n",
      "C:\\Users\\Public\\Documents\\Anaconda\\lib\\site-packages\\sklearn\\metrics\\ranking.py:94: RuntimeWarning: invalid value encountered in less\n",
      "  if np.any(dx < 0):\n",
      "C:\\Users\\Public\\Documents\\Anaconda\\lib\\site-packages\\sklearn\\metrics\\classification.py:1137: UndefinedMetricWarning: Recall is ill-defined and being set to 0.0 due to no true samples.\n",
      "  'recall', 'true', average, warn_for)\n"
     ]
    },
    {
     "name": "stdout",
     "output_type": "stream",
     "text": [
      "Training Random Forest\n",
      "Training Random Forest\n",
      "Training Random Forest\n"
     ]
    },
    {
     "name": "stderr",
     "output_type": "stream",
     "text": [
      "C:\\Users\\Public\\Documents\\Anaconda\\lib\\site-packages\\sklearn\\metrics\\classification.py:1137: UndefinedMetricWarning: F-score is ill-defined and being set to 0.0 due to no true samples.\n",
      "  'recall', 'true', average, warn_for)\n",
      "C:\\Users\\Public\\Documents\\Anaconda\\lib\\site-packages\\sklearn\\metrics\\ranking.py:444: RuntimeWarning: invalid value encountered in true_divide\n",
      "  recall = tps / tps[-1]\n",
      "C:\\Users\\Public\\Documents\\Anaconda\\lib\\site-packages\\sklearn\\metrics\\ranking.py:94: RuntimeWarning: invalid value encountered in less\n",
      "  if np.any(dx < 0):\n",
      "C:\\Users\\Public\\Documents\\Anaconda\\lib\\site-packages\\sklearn\\metrics\\classification.py:1137: UndefinedMetricWarning: Recall is ill-defined and being set to 0.0 due to no true samples.\n",
      "  'recall', 'true', average, warn_for)\n"
     ]
    },
    {
     "name": "stdout",
     "output_type": "stream",
     "text": [
      "Training Random Forest\n",
      "Training Random Forest\n",
      "Training Random Forest\n"
     ]
    },
    {
     "name": "stderr",
     "output_type": "stream",
     "text": [
      "C:\\Users\\Public\\Documents\\Anaconda\\lib\\site-packages\\sklearn\\metrics\\classification.py:1137: UndefinedMetricWarning: F-score is ill-defined and being set to 0.0 due to no true samples.\n",
      "  'recall', 'true', average, warn_for)\n",
      "C:\\Users\\Public\\Documents\\Anaconda\\lib\\site-packages\\sklearn\\metrics\\ranking.py:444: RuntimeWarning: invalid value encountered in true_divide\n",
      "  recall = tps / tps[-1]\n",
      "C:\\Users\\Public\\Documents\\Anaconda\\lib\\site-packages\\sklearn\\metrics\\ranking.py:94: RuntimeWarning: invalid value encountered in less\n",
      "  if np.any(dx < 0):\n",
      "C:\\Users\\Public\\Documents\\Anaconda\\lib\\site-packages\\sklearn\\metrics\\classification.py:1137: UndefinedMetricWarning: Recall is ill-defined and being set to 0.0 due to no true samples.\n",
      "  'recall', 'true', average, warn_for)\n"
     ]
    },
    {
     "name": "stdout",
     "output_type": "stream",
     "text": [
      "Training Random Forest\n",
      "Training Random Forest\n",
      "Training Random Forest\n"
     ]
    },
    {
     "name": "stderr",
     "output_type": "stream",
     "text": [
      "C:\\Users\\Public\\Documents\\Anaconda\\lib\\site-packages\\sklearn\\metrics\\classification.py:1137: UndefinedMetricWarning: F-score is ill-defined and being set to 0.0 due to no true samples.\n",
      "  'recall', 'true', average, warn_for)\n",
      "C:\\Users\\Public\\Documents\\Anaconda\\lib\\site-packages\\sklearn\\metrics\\ranking.py:444: RuntimeWarning: invalid value encountered in true_divide\n",
      "  recall = tps / tps[-1]\n",
      "C:\\Users\\Public\\Documents\\Anaconda\\lib\\site-packages\\sklearn\\metrics\\ranking.py:94: RuntimeWarning: invalid value encountered in less\n",
      "  if np.any(dx < 0):\n",
      "C:\\Users\\Public\\Documents\\Anaconda\\lib\\site-packages\\sklearn\\metrics\\classification.py:1137: UndefinedMetricWarning: Recall is ill-defined and being set to 0.0 due to no true samples.\n",
      "  'recall', 'true', average, warn_for)\n"
     ]
    },
    {
     "name": "stdout",
     "output_type": "stream",
     "text": [
      "Training Random Forest\n",
      "Training Random Forest\n",
      "Training Random Forest\n"
     ]
    },
    {
     "name": "stderr",
     "output_type": "stream",
     "text": [
      "C:\\Users\\Public\\Documents\\Anaconda\\lib\\site-packages\\sklearn\\metrics\\classification.py:1137: UndefinedMetricWarning: F-score is ill-defined and being set to 0.0 due to no true samples.\n",
      "  'recall', 'true', average, warn_for)\n",
      "C:\\Users\\Public\\Documents\\Anaconda\\lib\\site-packages\\sklearn\\metrics\\ranking.py:444: RuntimeWarning: invalid value encountered in true_divide\n",
      "  recall = tps / tps[-1]\n",
      "C:\\Users\\Public\\Documents\\Anaconda\\lib\\site-packages\\sklearn\\metrics\\ranking.py:94: RuntimeWarning: invalid value encountered in less\n",
      "  if np.any(dx < 0):\n",
      "C:\\Users\\Public\\Documents\\Anaconda\\lib\\site-packages\\sklearn\\metrics\\classification.py:1137: UndefinedMetricWarning: Recall is ill-defined and being set to 0.0 due to no true samples.\n",
      "  'recall', 'true', average, warn_for)\n"
     ]
    },
    {
     "name": "stdout",
     "output_type": "stream",
     "text": [
      "Training Random Forest\n",
      "Training Random Forest\n",
      "Training Random Forest\n"
     ]
    },
    {
     "name": "stderr",
     "output_type": "stream",
     "text": [
      "C:\\Users\\Public\\Documents\\Anaconda\\lib\\site-packages\\sklearn\\metrics\\classification.py:1137: UndefinedMetricWarning: F-score is ill-defined and being set to 0.0 due to no true samples.\n",
      "  'recall', 'true', average, warn_for)\n",
      "C:\\Users\\Public\\Documents\\Anaconda\\lib\\site-packages\\sklearn\\metrics\\ranking.py:444: RuntimeWarning: invalid value encountered in true_divide\n",
      "  recall = tps / tps[-1]\n",
      "C:\\Users\\Public\\Documents\\Anaconda\\lib\\site-packages\\sklearn\\metrics\\ranking.py:94: RuntimeWarning: invalid value encountered in less\n",
      "  if np.any(dx < 0):\n",
      "C:\\Users\\Public\\Documents\\Anaconda\\lib\\site-packages\\sklearn\\metrics\\classification.py:1137: UndefinedMetricWarning: Recall is ill-defined and being set to 0.0 due to no true samples.\n",
      "  'recall', 'true', average, warn_for)\n"
     ]
    },
    {
     "name": "stdout",
     "output_type": "stream",
     "text": [
      "Training Random Forest\n",
      "Training Random Forest\n",
      "Training Random Forest\n"
     ]
    },
    {
     "name": "stderr",
     "output_type": "stream",
     "text": [
      "C:\\Users\\Public\\Documents\\Anaconda\\lib\\site-packages\\sklearn\\metrics\\classification.py:1137: UndefinedMetricWarning: F-score is ill-defined and being set to 0.0 due to no true samples.\n",
      "  'recall', 'true', average, warn_for)\n",
      "C:\\Users\\Public\\Documents\\Anaconda\\lib\\site-packages\\sklearn\\metrics\\ranking.py:444: RuntimeWarning: invalid value encountered in true_divide\n",
      "  recall = tps / tps[-1]\n",
      "C:\\Users\\Public\\Documents\\Anaconda\\lib\\site-packages\\sklearn\\metrics\\ranking.py:94: RuntimeWarning: invalid value encountered in less\n",
      "  if np.any(dx < 0):\n",
      "C:\\Users\\Public\\Documents\\Anaconda\\lib\\site-packages\\sklearn\\metrics\\classification.py:1137: UndefinedMetricWarning: Recall is ill-defined and being set to 0.0 due to no true samples.\n",
      "  'recall', 'true', average, warn_for)\n"
     ]
    },
    {
     "name": "stdout",
     "output_type": "stream",
     "text": [
      "Training Random Forest\n",
      "Training Random Forest\n",
      "Training Random Forest\n"
     ]
    },
    {
     "name": "stderr",
     "output_type": "stream",
     "text": [
      "C:\\Users\\Public\\Documents\\Anaconda\\lib\\site-packages\\sklearn\\metrics\\classification.py:1137: UndefinedMetricWarning: F-score is ill-defined and being set to 0.0 due to no true samples.\n",
      "  'recall', 'true', average, warn_for)\n",
      "C:\\Users\\Public\\Documents\\Anaconda\\lib\\site-packages\\sklearn\\metrics\\ranking.py:444: RuntimeWarning: invalid value encountered in true_divide\n",
      "  recall = tps / tps[-1]\n",
      "C:\\Users\\Public\\Documents\\Anaconda\\lib\\site-packages\\sklearn\\metrics\\ranking.py:94: RuntimeWarning: invalid value encountered in less\n",
      "  if np.any(dx < 0):\n",
      "C:\\Users\\Public\\Documents\\Anaconda\\lib\\site-packages\\sklearn\\metrics\\classification.py:1137: UndefinedMetricWarning: Recall is ill-defined and being set to 0.0 due to no true samples.\n",
      "  'recall', 'true', average, warn_for)\n"
     ]
    },
    {
     "name": "stdout",
     "output_type": "stream",
     "text": [
      "Training Random Forest\n",
      "Training Random Forest\n",
      "Training Random Forest\n"
     ]
    },
    {
     "name": "stderr",
     "output_type": "stream",
     "text": [
      "C:\\Users\\Public\\Documents\\Anaconda\\lib\\site-packages\\sklearn\\metrics\\classification.py:1137: UndefinedMetricWarning: F-score is ill-defined and being set to 0.0 due to no true samples.\n",
      "  'recall', 'true', average, warn_for)\n",
      "C:\\Users\\Public\\Documents\\Anaconda\\lib\\site-packages\\sklearn\\metrics\\ranking.py:444: RuntimeWarning: invalid value encountered in true_divide\n",
      "  recall = tps / tps[-1]\n",
      "C:\\Users\\Public\\Documents\\Anaconda\\lib\\site-packages\\sklearn\\metrics\\ranking.py:94: RuntimeWarning: invalid value encountered in less\n",
      "  if np.any(dx < 0):\n",
      "C:\\Users\\Public\\Documents\\Anaconda\\lib\\site-packages\\sklearn\\metrics\\classification.py:1137: UndefinedMetricWarning: Recall is ill-defined and being set to 0.0 due to no true samples.\n",
      "  'recall', 'true', average, warn_for)\n"
     ]
    },
    {
     "name": "stdout",
     "output_type": "stream",
     "text": [
      "Training Random Forest\n",
      "Training Random Forest\n",
      "Training Random Forest\n"
     ]
    },
    {
     "name": "stderr",
     "output_type": "stream",
     "text": [
      "C:\\Users\\Public\\Documents\\Anaconda\\lib\\site-packages\\sklearn\\metrics\\classification.py:1137: UndefinedMetricWarning: F-score is ill-defined and being set to 0.0 due to no true samples.\n",
      "  'recall', 'true', average, warn_for)\n",
      "C:\\Users\\Public\\Documents\\Anaconda\\lib\\site-packages\\sklearn\\metrics\\ranking.py:444: RuntimeWarning: invalid value encountered in true_divide\n",
      "  recall = tps / tps[-1]\n",
      "C:\\Users\\Public\\Documents\\Anaconda\\lib\\site-packages\\sklearn\\metrics\\ranking.py:94: RuntimeWarning: invalid value encountered in less\n",
      "  if np.any(dx < 0):\n",
      "C:\\Users\\Public\\Documents\\Anaconda\\lib\\site-packages\\sklearn\\metrics\\classification.py:1137: UndefinedMetricWarning: Recall is ill-defined and being set to 0.0 due to no true samples.\n",
      "  'recall', 'true', average, warn_for)\n"
     ]
    },
    {
     "name": "stdout",
     "output_type": "stream",
     "text": [
      "Training Random Forest\n",
      "Training Random Forest\n",
      "Training Random Forest\n"
     ]
    },
    {
     "name": "stderr",
     "output_type": "stream",
     "text": [
      "C:\\Users\\Public\\Documents\\Anaconda\\lib\\site-packages\\sklearn\\metrics\\classification.py:1137: UndefinedMetricWarning: F-score is ill-defined and being set to 0.0 due to no true samples.\n",
      "  'recall', 'true', average, warn_for)\n",
      "C:\\Users\\Public\\Documents\\Anaconda\\lib\\site-packages\\sklearn\\metrics\\ranking.py:444: RuntimeWarning: invalid value encountered in true_divide\n",
      "  recall = tps / tps[-1]\n",
      "C:\\Users\\Public\\Documents\\Anaconda\\lib\\site-packages\\sklearn\\metrics\\ranking.py:94: RuntimeWarning: invalid value encountered in less\n",
      "  if np.any(dx < 0):\n",
      "C:\\Users\\Public\\Documents\\Anaconda\\lib\\site-packages\\sklearn\\metrics\\classification.py:1137: UndefinedMetricWarning: Recall is ill-defined and being set to 0.0 due to no true samples.\n",
      "  'recall', 'true', average, warn_for)\n"
     ]
    },
    {
     "name": "stdout",
     "output_type": "stream",
     "text": [
      "Training Random Forest\n",
      "Training Random Forest\n",
      "Training Random Forest\n"
     ]
    },
    {
     "name": "stderr",
     "output_type": "stream",
     "text": [
      "C:\\Users\\Public\\Documents\\Anaconda\\lib\\site-packages\\sklearn\\metrics\\classification.py:1137: UndefinedMetricWarning: F-score is ill-defined and being set to 0.0 due to no true samples.\n",
      "  'recall', 'true', average, warn_for)\n",
      "C:\\Users\\Public\\Documents\\Anaconda\\lib\\site-packages\\sklearn\\metrics\\ranking.py:444: RuntimeWarning: invalid value encountered in true_divide\n",
      "  recall = tps / tps[-1]\n",
      "C:\\Users\\Public\\Documents\\Anaconda\\lib\\site-packages\\sklearn\\metrics\\ranking.py:94: RuntimeWarning: invalid value encountered in less\n",
      "  if np.any(dx < 0):\n",
      "C:\\Users\\Public\\Documents\\Anaconda\\lib\\site-packages\\sklearn\\metrics\\classification.py:1137: UndefinedMetricWarning: Recall is ill-defined and being set to 0.0 due to no true samples.\n",
      "  'recall', 'true', average, warn_for)\n"
     ]
    },
    {
     "name": "stdout",
     "output_type": "stream",
     "text": [
      "Training Random Forest\n",
      "Training Random Forest\n",
      "Training Random Forest\n"
     ]
    },
    {
     "name": "stderr",
     "output_type": "stream",
     "text": [
      "C:\\Users\\Public\\Documents\\Anaconda\\lib\\site-packages\\sklearn\\metrics\\classification.py:1137: UndefinedMetricWarning: F-score is ill-defined and being set to 0.0 due to no true samples.\n",
      "  'recall', 'true', average, warn_for)\n",
      "C:\\Users\\Public\\Documents\\Anaconda\\lib\\site-packages\\sklearn\\metrics\\ranking.py:444: RuntimeWarning: invalid value encountered in true_divide\n",
      "  recall = tps / tps[-1]\n",
      "C:\\Users\\Public\\Documents\\Anaconda\\lib\\site-packages\\sklearn\\metrics\\ranking.py:94: RuntimeWarning: invalid value encountered in less\n",
      "  if np.any(dx < 0):\n",
      "C:\\Users\\Public\\Documents\\Anaconda\\lib\\site-packages\\sklearn\\metrics\\classification.py:1137: UndefinedMetricWarning: Recall is ill-defined and being set to 0.0 due to no true samples.\n",
      "  'recall', 'true', average, warn_for)\n"
     ]
    },
    {
     "name": "stdout",
     "output_type": "stream",
     "text": [
      "Training Random Forest\n",
      "Training Random Forest\n",
      "Training Random Forest\n"
     ]
    },
    {
     "name": "stderr",
     "output_type": "stream",
     "text": [
      "C:\\Users\\Public\\Documents\\Anaconda\\lib\\site-packages\\sklearn\\metrics\\classification.py:1137: UndefinedMetricWarning: F-score is ill-defined and being set to 0.0 due to no true samples.\n",
      "  'recall', 'true', average, warn_for)\n",
      "C:\\Users\\Public\\Documents\\Anaconda\\lib\\site-packages\\sklearn\\metrics\\ranking.py:444: RuntimeWarning: invalid value encountered in true_divide\n",
      "  recall = tps / tps[-1]\n",
      "C:\\Users\\Public\\Documents\\Anaconda\\lib\\site-packages\\sklearn\\metrics\\ranking.py:94: RuntimeWarning: invalid value encountered in less\n",
      "  if np.any(dx < 0):\n",
      "C:\\Users\\Public\\Documents\\Anaconda\\lib\\site-packages\\sklearn\\metrics\\classification.py:1137: UndefinedMetricWarning: Recall is ill-defined and being set to 0.0 due to no true samples.\n",
      "  'recall', 'true', average, warn_for)\n"
     ]
    },
    {
     "name": "stdout",
     "output_type": "stream",
     "text": [
      "Training Random Forest\n",
      "Training Random Forest\n",
      "Training Random Forest\n"
     ]
    },
    {
     "name": "stderr",
     "output_type": "stream",
     "text": [
      "C:\\Users\\Public\\Documents\\Anaconda\\lib\\site-packages\\sklearn\\metrics\\classification.py:1137: UndefinedMetricWarning: F-score is ill-defined and being set to 0.0 due to no true samples.\n",
      "  'recall', 'true', average, warn_for)\n",
      "C:\\Users\\Public\\Documents\\Anaconda\\lib\\site-packages\\sklearn\\metrics\\ranking.py:444: RuntimeWarning: invalid value encountered in true_divide\n",
      "  recall = tps / tps[-1]\n",
      "C:\\Users\\Public\\Documents\\Anaconda\\lib\\site-packages\\sklearn\\metrics\\ranking.py:94: RuntimeWarning: invalid value encountered in less\n",
      "  if np.any(dx < 0):\n",
      "C:\\Users\\Public\\Documents\\Anaconda\\lib\\site-packages\\sklearn\\metrics\\classification.py:1137: UndefinedMetricWarning: Recall is ill-defined and being set to 0.0 due to no true samples.\n",
      "  'recall', 'true', average, warn_for)\n"
     ]
    },
    {
     "name": "stdout",
     "output_type": "stream",
     "text": [
      "Training Random Forest\n",
      "Training Random Forest\n",
      "Training Random Forest\n"
     ]
    },
    {
     "name": "stderr",
     "output_type": "stream",
     "text": [
      "C:\\Users\\Public\\Documents\\Anaconda\\lib\\site-packages\\sklearn\\metrics\\classification.py:1137: UndefinedMetricWarning: F-score is ill-defined and being set to 0.0 due to no true samples.\n",
      "  'recall', 'true', average, warn_for)\n",
      "C:\\Users\\Public\\Documents\\Anaconda\\lib\\site-packages\\sklearn\\metrics\\ranking.py:444: RuntimeWarning: invalid value encountered in true_divide\n",
      "  recall = tps / tps[-1]\n",
      "C:\\Users\\Public\\Documents\\Anaconda\\lib\\site-packages\\sklearn\\metrics\\ranking.py:94: RuntimeWarning: invalid value encountered in less\n",
      "  if np.any(dx < 0):\n",
      "C:\\Users\\Public\\Documents\\Anaconda\\lib\\site-packages\\sklearn\\metrics\\classification.py:1137: UndefinedMetricWarning: Recall is ill-defined and being set to 0.0 due to no true samples.\n",
      "  'recall', 'true', average, warn_for)\n"
     ]
    },
    {
     "name": "stdout",
     "output_type": "stream",
     "text": [
      "Training Random Forest\n",
      "Training Random Forest\n",
      "Training Random Forest\n",
      "Training Random Forest\n",
      "Training Random Forest\n",
      "Training Random Forest\n",
      "Training Random Forest\n",
      "Training Random Forest\n",
      "Training Random Forest\n",
      "Training Random Forest\n",
      "Training Random Forest\n",
      "Training Random Forest\n",
      "Training Random Forest\n",
      "Training Random Forest\n",
      "Training Random Forest\n",
      "Training Random Forest\n",
      "Training Random Forest\n",
      "Training Random Forest\n",
      "Training Random Forest\n",
      "Training Random Forest\n",
      "Training Random Forest\n",
      "Training Random Forest\n",
      "Training Random Forest\n",
      "Training Random Forest\n",
      "Training Random Forest\n",
      "Training Random Forest\n",
      "Training Random Forest\n",
      "Training Random Forest\n",
      "Training Random Forest\n",
      "Training Random Forest\n",
      "Training Random Forest\n",
      "Training Random Forest\n",
      "Training Random Forest\n",
      "Training Random Forest\n",
      "Training Random Forest\n",
      "Training Random Forest\n",
      "Training Random Forest\n",
      "Training Random Forest\n",
      "Training Random Forest\n",
      "Training Random Forest\n",
      "Training Random Forest\n",
      "Training Random Forest\n",
      "Training Random Forest\n",
      "Training Random Forest\n",
      "Training Random Forest\n",
      "Training Random Forest\n",
      "Training Random Forest\n",
      "Training Random Forest\n",
      "Training Random Forest\n",
      "Training Random Forest\n",
      "Training Random Forest\n",
      "Training Random Forest\n",
      "Training Random Forest\n",
      "Training Random Forest\n",
      "Training Random Forest\n",
      "Training Random Forest\n",
      "Training Random Forest\n",
      "Training Random Forest\n",
      "Training Random Forest\n",
      "Training Random Forest\n",
      "Training Random Forest\n",
      "Training Random Forest\n",
      "Training Random Forest\n",
      "Training Random Forest\n",
      "Training Random Forest\n",
      "Training Random Forest\n",
      "Training Random Forest\n",
      "Training Random Forest\n",
      "Training Random Forest\n",
      "Training Random Forest\n",
      "Training Random Forest\n",
      "Training Random Forest\n",
      "Training Random Forest\n",
      "Training Random Forest\n",
      "Training Random Forest\n",
      "Training Random Forest\n",
      "Training Random Forest\n",
      "Training Random Forest\n",
      "Training Random Forest\n",
      "Training Random Forest\n",
      "Training Random Forest\n",
      "Training Random Forest\n",
      "Training Random Forest\n",
      "Training Random Forest\n",
      "Training Random Forest\n",
      "Training Random Forest\n",
      "Training Random Forest\n",
      "Training Random Forest\n",
      "Training Random Forest\n",
      "Training Random Forest\n",
      "Training Random Forest\n",
      "Training Random Forest\n",
      "Training Random Forest\n",
      "Training Random Forest\n",
      "Training Random Forest\n",
      "Elapsed time = 219.386 min\n"
     ]
    }
   ],
   "source": [
    "t1 = time.time()\n",
    "results = {}\n",
    "\n",
    "for symptom in ['Tremor','Bradykinesia']:\n",
    "    \n",
    "    results[symptom] = {}\n",
    "    \n",
    "    data = datadict[symptom]\n",
    "    \n",
    "    results[symptom]['Binary'] = {}\n",
    "    binary_res_all = pd.DataFrame()\n",
    "    binary_res_groups = []\n",
    "        \n",
    "    results[symptom]['Multiclass'] = {}\n",
    "    multi_res_all = pd.DataFrame()\n",
    "    multi_res_groups = pd.DataFrame()\n",
    "        \n",
    "    results[symptom]['Regressor'] = {}\n",
    "    regress_res_all = pd.DataFrame()\n",
    "    regress_res_groups = pd.DataFrame()\n",
    "    \n",
    "    for comb in combs:\n",
    "\n",
    "        feat_cols = []\n",
    "        comb_group = ''\n",
    "\n",
    "        for features_set in comb:\n",
    "\n",
    "            comb_group += features_set[0]\n",
    "            if symptom == 'Tremor':\n",
    "                feat_cols = feat_cols + featdict[features_set]\n",
    "            else:\n",
    "                feat_cols = feat_cols + featdictsensors[features_set]\n",
    "\n",
    "        data_comb = data[info + feat_cols]\n",
    "\n",
    "        Data = data_comb.copy() #original unmodified dataframe\n",
    "        Data=Data[~Data[symptom].isnull()] #remove nan rows for current symptom\n",
    "        Data=Data.reset_index(drop=True) #reset index\n",
    "\n",
    "        X = Data.iloc[:,5:].as_matrix()\n",
    "        groups = Data.Subject.as_matrix()\n",
    "        fnames = Data.iloc[:,5:].columns.values\n",
    "        \n",
    "        #Binary\n",
    "        \n",
    "        y = ((Data[symptom]>0)).values.astype(int)\n",
    "        \n",
    "        model = [RandomForestClassifier(n_estimators=50,random_state=2)]          \n",
    "        model_name = ['Random Forest']\n",
    "        model = list(zip(model,model_name))\n",
    "        groups = Data.Subject.as_matrix()\n",
    "\n",
    "        res,res_group = LOSOCV(Data,X,y,groups,model)\n",
    "        res['Combination'] = comb_group\n",
    "        binary_res_all = pd.concat((binary_res_all,res))\n",
    "        binary_res_groups.append(res_group)\n",
    "        \n",
    "        results[symptom]['Binary']['res_all'] = binary_res_all.reset_index(drop=True)\n",
    "        results[symptom]['Binary']['res_groups'] = binary_res_groups\n",
    "        \n",
    "        #Multiple Classes\n",
    "        \n",
    "        y = Data[symptom].values.astype(int)\n",
    "\n",
    "        model = [RandomForestClassifier(n_estimators=50,random_state=2)]          \n",
    "        model_name = ['Random Forest']\n",
    "        model = list(zip(model,model_name))\n",
    "        \n",
    "        res,res_group = LOSOMultiClass(Data,X,y,groups,model)\n",
    "        res['Combination'] = comb_group\n",
    "        multi_res_groups = pd.concat((multi_res_groups,res))\n",
    "        R = pd.DataFrame()\n",
    "        R['RMS'] = [np.nanmean(multi_res_groups[multi_res_groups.Combination==comb_group]['RMS'])]\n",
    "        R['Model'] = ['Random Forest']\n",
    "        R['Combination'] = [comb_group]\n",
    "        multi_res_all = pd.concat([multi_res_all,R])\n",
    "        \n",
    "        results[symptom]['Multiclass']['res_all'] = multi_res_all.reset_index(drop=True)\n",
    "        results[symptom]['Multiclass']['res_groups'] = multi_res_groups\n",
    "        \n",
    "        #Regressor\n",
    "        \n",
    "        y = Data[symptom].values.astype(int) #target \n",
    "\n",
    "        model = [RandomForestRegressor(n_estimators=50,random_state=2)]          \n",
    "        model_name = ['Random Forest']\n",
    "        model = list(zip(model,model_name))\n",
    "        \n",
    "        res,res_group = LOSOMultiClass(Data,X,y,groups,model)\n",
    "        res['Combination'] = comb_group\n",
    "        regress_res_groups = pd.concat((regress_res_groups,res))\n",
    "        R = pd.DataFrame()\n",
    "        R['RMS'] = [np.nanmean(regress_res_groups[regress_res_groups.Combination==comb_group]['RMS'])]\n",
    "        R['Model'] = ['Random Forest'] \n",
    "        R['Combination'] = [comb_group]\n",
    "        regress_res_all = pd.concat([regress_res_all,R])\n",
    "        \n",
    "        results[symptom]['Regressor']['res_all'] = regress_res_all.reset_index(drop=True)\n",
    "        results[symptom]['Regressor']['res_groups'] = regress_res_groups\n",
    "\n",
    "print('Elapsed time = %.3f min'%((time.time()-t1)/60))   "
   ]
  },
  {
   "cell_type": "code",
   "execution_count": null,
   "metadata": {},
   "outputs": [],
   "source": []
  }
 ],
 "metadata": {
  "kernelspec": {
   "display_name": "Python 3",
   "language": "python",
   "name": "python3"
  },
  "language_info": {
   "codemirror_mode": {
    "name": "ipython",
    "version": 3
   },
   "file_extension": ".py",
   "mimetype": "text/x-python",
   "name": "python",
   "nbconvert_exporter": "python",
   "pygments_lexer": "ipython3",
   "version": "3.6.4"
  }
 },
 "nbformat": 4,
 "nbformat_minor": 2
}
