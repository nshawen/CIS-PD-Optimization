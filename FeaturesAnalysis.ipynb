{
 "cells": [
  {
   "cell_type": "code",
   "execution_count": 76,
   "metadata": {},
   "outputs": [],
   "source": [
    "import os\n",
    "import platform\n",
    "import numpy as np\n",
    "import pandas as pd\n",
    "import seaborn as sns\n",
    "import matplotlib.pyplot as plt\n",
    "import datetime as dt\n",
    "import time\n",
    "import math\n",
    "import pathlib\n",
    "import pickle\n",
    "from itertools import combinations\n",
    "from scipy.stats import skew, kurtosis, wilcoxon\n",
    "from scipy.signal import butter, welch, filtfilt, resample\n",
    "from scipy import stats\n",
    "\n",
    "from sklearn import metrics, neighbors, linear_model, preprocessing, svm\n",
    "from sklearn.metrics import confusion_matrix, auc, f1_score, roc_curve, roc_auc_score, precision_score, recall_score, precision_recall_curve\n",
    "from sklearn.neighbors import KNeighborsClassifier\n",
    "from sklearn.linear_model import ElasticNetCV, LogisticRegression\n",
    "from sklearn.preprocessing import LabelEncoder, StandardScaler\n",
    "from sklearn.model_selection import train_test_split, LeaveOneGroupOut, KFold, StratifiedKFold,cross_val_score,GridSearchCV\n",
    "from sklearn.ensemble import RandomForestClassifier, RandomForestRegressor\n",
    "from sklearn.svm import SVC\n",
    "from PreprocessFcns import *\n",
    "\n",
    "from mpl_toolkits.mplot3d import Axes3D\n",
    "%matplotlib inline\n",
    "\n",
    "sns.set_context('talk',font_scale=1)"
   ]
  },
  {
   "cell_type": "code",
   "execution_count": 178,
   "metadata": {},
   "outputs": [],
   "source": [
    "def LOSOCV(Data,X,y,groups,models,LOin=0):\n",
    "\n",
    "    subj = LeaveOneGroupOut() \n",
    "    results = pd.DataFrame(data=None,columns=['model','f1','auprc','auroc'])\n",
    "    groupres = {} #results on each group for each model\n",
    "\n",
    "\n",
    "    #train multiple classifiers\n",
    "    for m in models:\n",
    "        acc_all=[]; acc_train=[] \n",
    "        f1_test_all=[]; prec_all=[]; rec_all=[]; spec_all=[]; auprc_all=[]; auroc_train_all=[]; \n",
    "        auroc_all=[]; fpr_all=[]; tpr_all=[]; fi_all=[]\n",
    "\n",
    "        clf = m[0]; model_name = m[1]            \n",
    "        print('Training %s'%model_name)\n",
    "        s = 0\n",
    "        #LOSO CV for current classifier\n",
    "        for train_index, test_index in subj.split(X, y, groups):\n",
    "        #leave one in:\n",
    "            if LOin:\n",
    "                tridx = train_index.copy()\n",
    "                train_index = test_index.copy()\n",
    "                test_index = tridx\n",
    "            Xtr, Xte = X[train_index], X[test_index]\n",
    "            ytr, yte = y[train_index], y[test_index]\n",
    "            if len(np.unique(ytr))<2: #skip if no positive or negative examples are available for training\n",
    "                #print('only 1 class available in train data - skipping')\n",
    "                continue\n",
    "            clf.fit(Xtr,ytr)\n",
    "            ypred = clf.predict(Xte)\n",
    "            yscore = clf.predict_proba(Xte)\n",
    "            yscore = yscore[:,1]\n",
    "            \n",
    "            #accuracy on train set\n",
    "            ypred_train = clf.predict(Xtr)\n",
    "            acc_train.append(sum(ypred_train==ytr)/len(ytr))\n",
    "            auroc_train = roc_auc_score(ytr,clf.predict_proba(Xtr)[:,1])\n",
    "            \n",
    "            #f1-score, prec, recall, specificity, auprc, auroc\n",
    "            f1_test_all.append(f1_score(yte,ypred))\n",
    "            precision, recall, _ = precision_recall_curve(yte,yscore)\n",
    "            auprc = auc(recall,precision)\n",
    "            if len(np.unique(yte))>1:\n",
    "                auroc = roc_auc_score(yte,yscore)\n",
    "            else:\n",
    "                #print('only 1 class in test data - cannot compute roc curve')\n",
    "                auroc = np.nan\n",
    "            spec = sum((ypred==0) & (yte==0))/sum(yte==0)\n",
    "\n",
    "\n",
    "            prec_all.append(precision_score(yte,ypred))\n",
    "            rec_all.append(recall_score(yte,ypred))\n",
    "            auprc_all.append(auprc)\n",
    "            auroc_all.append(auroc)\n",
    "            auroc_train_all.append(auroc_train)\n",
    "            spec_all.append(spec)\n",
    "\n",
    "            fpr=np.linspace(0,1,101); tpr=[]\n",
    "\n",
    "            if len(np.unique(yte))>1:                \n",
    "                nscores = np.sort(np.column_stack((yscore[yte==0],yte[yte==0])),axis=0)\n",
    "                neg_counts = sum(yte==0)\n",
    "                for f in fpr:\n",
    "                    ind = neg_counts-int(neg_counts*f)-1\n",
    "                    t = (nscores[ind])[0]\n",
    "                    if f==1:\n",
    "                        t = 0\n",
    "                    tpr_t = sum(yscore[yte==1]>t) / sum(yte==1)\n",
    "                    tpr.append(tpr_t) \n",
    "\n",
    "            fpr = np.asarray(fpr); tpr = np.asarray(tpr)\n",
    "            fpr_all.append(fpr); tpr_all.append(tpr)\n",
    "            \n",
    "            #store feature importance\n",
    "            if model_name != 'SVM':\n",
    "                fi_all.append(clf.feature_importances_)\n",
    "            \n",
    "            #print('\\nSubj/Visit %d,prec=%.3f,rec=%.3f,Spec=%.3f,auroc_train=%.3f,auroc=%.3f'%(s,precision_score(yte,ypred),recall_score(yte,ypred),spec,auroc_train,auroc))\n",
    "            s+=1\n",
    "\n",
    "        print('f1_test=%.3f+/-%.3f, prec=%.3f+/-%.3f, rec=%.3f+/-%.3f, auprc=%.3f+/-%.3f, auroc=%.3f+/-%.3f'%(\n",
    "        np.nanmean(f1_test_all),np.nanstd(f1_test_all),\n",
    "        np.nanmean(prec_all),np.nanstd(prec_all), np.nanmean(rec_all),np.nanstd(rec_all),\n",
    "        np.nanmean(auprc_all),np.nanstd(auprc_all), np.nanmean(auroc_all),np.nanstd(auroc_all)))\n",
    "        \n",
    "        #group results for each model\n",
    "        groupres[model_name] = {'f1':f1_test_all, 'auprc':auprc_all, 'auroc':auroc_all, 'tpr':tpr_all, 'fpr':fpr_all, \n",
    "                                'rec':rec_all, 'spec':spec_all, 'fi':fi_all}\n",
    "        \n",
    "        #mean across groups for each model\n",
    "        r = pd.DataFrame({'model':model_name, 'f1':np.nanmean(f1_test_all), 'auprc':np.nanmean(auprc_all), \n",
    "                          'auroc':np.nanmean(auroc_all)},index=[0])\n",
    "        results = pd.concat((results,r))\n",
    "        \n",
    "    return results,groupres \n",
    "\n",
    "\n",
    "\n",
    "\n",
    "def LOSOMultiClass(Data,X,y,groups,model,LOin=0):\n",
    "\n",
    "    subj = LeaveOneGroupOut() \n",
    "    results = pd.DataFrame(data=None,columns=['model','RMS'])\n",
    "    groupres = {} #results on each group for each model\n",
    "    \n",
    "    acc_all=[]; acc_train=[] \n",
    "    f1_test_all=[]; prec_all=[]; rec_all=[]; spec_all=[]; auprc_all=[]; auroc_train_all=[]; \n",
    "    auroc_all=[]; fpr_all=[]; tpr_all=[]; fi_all=[]\n",
    "    RMS_all = []\n",
    "    \n",
    "    clf = model[0][0]; model_name = model[0][1]          \n",
    "    print('Training %s'%model_name)\n",
    "    s = 0\n",
    "    #LOSO CV for current classifier\n",
    "    for train_index, test_index in subj.split(X, y, groups):\n",
    "    #leave one in:\n",
    "        if LOin:\n",
    "            tridx = train_index.copy()\n",
    "            train_index = test_index.copy()\n",
    "            test_index = tridx\n",
    "        Xtr, Xte = X[train_index], X[test_index]\n",
    "        ytr, yte = y[train_index], y[test_index]\n",
    "        if len(np.unique(ytr))<2: #skip if no positive or negative examples are available for training\n",
    "            #print('only 1 class available in train data - skipping')\n",
    "            continue\n",
    "        clf.fit(Xtr,ytr)\n",
    "        ypred = clf.predict(Xte)\n",
    "        \n",
    "        RMS=0\n",
    "        for yp,yt in zip(ypred,y):\n",
    "            RMS += ((yp - yt)**2)\n",
    "        RMS = RMS / len(y)\n",
    "        RMS = math.sqrt(RMS)\n",
    "        \n",
    "        RMS_all.append(RMS)\n",
    "        \n",
    "        groupres[model_name] = {'RMS':RMS_all}\n",
    "        \n",
    "        r = pd.DataFrame({'model':model_name, 'RMS':np.nanmean(RMS_all)},index=[0])\n",
    "        results = pd.concat((results,r))\n",
    "        \n",
    "    return results, groupres"
   ]
  },
  {
   "cell_type": "code",
   "execution_count": 145,
   "metadata": {},
   "outputs": [],
   "source": [
    "featdict = {'freq':['Dom_freq','Pdom_rel','PSD_mean','PSD_std','PSD_skew','PSD_kur'],\n",
    "            'time':['RMSX','RMSY','RMSZ','rangeX','rangeY','rangeZ','meanX','meanY','meanZ','varX','varY','varZ','skewX','skewY','skewZ','kurtX','kurtY','kurtZ','Sen_X','Sen_Y','Sen_Z'],\n",
    "            'corr':['xcorr_peakXZ','xcorr_peakYZ','xcor_peakXY','xcorr_lagXZ','xcorr_lagYZ','xcorr_lagXY'],\n",
    "            'jerk':['jerk_mean','jerk_std','jerk_skew','jerk_kur'],\n",
    "            'mag' :['RMS_mag','range_mag','mean_mag','var_mag','skew_mag','kurt_mag','Sen_mag']}"
   ]
  },
  {
   "cell_type": "code",
   "execution_count": 191,
   "metadata": {},
   "outputs": [
    {
     "data": {
      "text/plain": [
       "array([1004, 1016, 1018, 1019, 1024, 1029, 1032, 1038, 1044, 1046, 1049,\n",
       "       1051], dtype=int64)"
      ]
     },
     "execution_count": 191,
     "metadata": {},
     "output_type": "execute_result"
    }
   ],
   "source": [
    "data = pd.read_csv('Z:CIS-PD Study\\\\Downsample\\\\Accel+Gyro Data 62.5Hz.csv',index_col=0)\n",
    "data = data[(data.Subject!=1030) & (data.Subject!=1020)]\n",
    "data.head()\n",
    "np.unique(data.Subject)"
   ]
  },
  {
   "cell_type": "code",
   "execution_count": 140,
   "metadata": {},
   "outputs": [],
   "source": [
    "mag_features_tremor = []\n",
    "xyz_features_tremor = []\n",
    "mag_features_brady = []\n",
    "xyz_features_brady = []\n",
    "info = ['Subject','Visit','Task','Bradykinesia','Tremor']\n",
    "mag_features = featdict['freq'] + featdict['jerk'] + featdict['mag']\n",
    "xyz_features =  featdict['freq'] + featdict['time'] + featdict['jerk'] + featdict['corr']\n",
    "for f in range(len(mag_features)):\n",
    "    mag_features_tremor.append(mag_features[f] + ' acc')\n",
    "    mag_features_brady.append(mag_features[f] + ' acc')\n",
    "for f in range(len(mag_features)):\n",
    "    mag_features_brady.append(mag_features[f] + ' gyr')\n",
    "for f in range(len(xyz_features)):\n",
    "    xyz_features_tremor.append(xyz_features[f] + ' acc')\n",
    "    xyz_features_brady.append(xyz_features[f] + ' acc')\n",
    "for f in range(len(xyz_features)):\n",
    "    xyz_features_brady.append(xyz_features[f] + ' gyr')\n",
    "data_tremor_mag = data[info + mag_features_tremor]\n",
    "data_tremor_xyz = data[info + xyz_features_tremor]\n",
    "data_brady_mag = data[info + mag_features_brady]\n",
    "data_brady_xyz = data[info + xyz_features_brady]"
   ]
  },
  {
   "cell_type": "code",
   "execution_count": 248,
   "metadata": {
    "scrolled": true
   },
   "outputs": [
    {
     "name": "stdout",
     "output_type": "stream",
     "text": [
      "Rows w Tremor 4980/16668 = 0.30\n",
      "Training Random Forest\n"
     ]
    },
    {
     "name": "stderr",
     "output_type": "stream",
     "text": [
      "C:\\Users\\Public\\Documents\\Anaconda\\lib\\site-packages\\sklearn\\metrics\\classification.py:1137: UndefinedMetricWarning: F-score is ill-defined and being set to 0.0 due to no true samples.\n",
      "  'recall', 'true', average, warn_for)\n",
      "C:\\Users\\Public\\Documents\\Anaconda\\lib\\site-packages\\sklearn\\metrics\\ranking.py:444: RuntimeWarning: invalid value encountered in true_divide\n",
      "  recall = tps / tps[-1]\n",
      "C:\\Users\\Public\\Documents\\Anaconda\\lib\\site-packages\\sklearn\\metrics\\ranking.py:94: RuntimeWarning: invalid value encountered in less\n",
      "  if np.any(dx < 0):\n",
      "C:\\Users\\Public\\Documents\\Anaconda\\lib\\site-packages\\sklearn\\metrics\\classification.py:1137: UndefinedMetricWarning: Recall is ill-defined and being set to 0.0 due to no true samples.\n",
      "  'recall', 'true', average, warn_for)\n"
     ]
    },
    {
     "name": "stdout",
     "output_type": "stream",
     "text": [
      "f1_test=0.340+/-0.217, prec=0.478+/-0.297, rec=0.299+/-0.177, auprc=0.482+/-0.264, auroc=0.708+/-0.161\n",
      "Elapsed time = 0.832 min\n"
     ]
    }
   ],
   "source": [
    "t1=time.time()\n",
    "res_all = pd.DataFrame()\n",
    "\n",
    "symptom = 'Tremor'\n",
    "\n",
    "Data = data_tremor_xyz.copy() #original unmodified dataframe\n",
    "Data=Data[~Data[symptom].isnull()] #remove nan rows for current symptom\n",
    "Data=Data.reset_index(drop=True) #reset index\n",
    "\n",
    "X = Data.iloc[:,5:].as_matrix()\n",
    "fnames = Data.iloc[:,5:].columns.values\n",
    "\n",
    "indp = ((Data[symptom]>0))\n",
    "indp = indp.values\n",
    "y = indp.astype(int) #target \n",
    "print('Rows w %s %d/%d = %.2f'%(symptom,sum(indp),len(indp),(sum(indp)/len(indp))))\n",
    "\n",
    "models = [RandomForestClassifier(n_estimators=50,random_state=2)]          \n",
    "model_name = ['Random Forest']\n",
    "models = list(zip(models,model_name))\n",
    "groups = Data.Subject.as_matrix()\n",
    "\n",
    "res,res_group = LOSOCV(Data,X,y,groups,models)\n",
    "res_all = pd.concat((res_all,res))\n",
    "    \n",
    "print('Elapsed time = %.3f min'%((time.time()-t1)/60))    "
   ]
  },
  {
   "cell_type": "code",
   "execution_count": 249,
   "metadata": {},
   "outputs": [
    {
     "data": {
      "text/plain": [
       "Text(0.5,1,'LOSO Tremor XYZ - Mean AUROC = 0.708 +/- 0.161')"
      ]
     },
     "execution_count": 249,
     "metadata": {},
     "output_type": "execute_result"
    },
    {
     "data": {
      "image/png": "[encoded data removed]",
      "text/plain": [
       "<matplotlib.figure.Figure at 0x10284860>"
      ]
     },
     "metadata": {},
     "output_type": "display_data"
    }
   ],
   "source": [
    "results_tremor_xyz = res_group['Random Forest']['auroc']\n",
    "aurocall = res_group['Random Forest']['auroc']\n",
    "sns.barplot(np.unique(groups),aurocall)\n",
    "ax = plt.xticks(rotation=90)\n",
    "plt.ylim([0,1.0])\n",
    "plt.title('LOSO Tremor XYZ - Mean AUROC = %.3f +/- %.3f'%(np.nanmean(aurocall),np.nanstd(aurocall)))"
   ]
  },
  {
   "cell_type": "code",
   "execution_count": 250,
   "metadata": {
    "scrolled": true
   },
   "outputs": [
    {
     "name": "stdout",
     "output_type": "stream",
     "text": [
      "Rows w Tremor 4980/16668 = 0.30\n",
      "Training Random Forest\n"
     ]
    },
    {
     "name": "stderr",
     "output_type": "stream",
     "text": [
      "C:\\Users\\Public\\Documents\\Anaconda\\lib\\site-packages\\sklearn\\metrics\\classification.py:1137: UndefinedMetricWarning: F-score is ill-defined and being set to 0.0 due to no true samples.\n",
      "  'recall', 'true', average, warn_for)\n",
      "C:\\Users\\Public\\Documents\\Anaconda\\lib\\site-packages\\sklearn\\metrics\\ranking.py:444: RuntimeWarning: invalid value encountered in true_divide\n",
      "  recall = tps / tps[-1]\n",
      "C:\\Users\\Public\\Documents\\Anaconda\\lib\\site-packages\\sklearn\\metrics\\ranking.py:94: RuntimeWarning: invalid value encountered in less\n",
      "  if np.any(dx < 0):\n",
      "C:\\Users\\Public\\Documents\\Anaconda\\lib\\site-packages\\sklearn\\metrics\\classification.py:1137: UndefinedMetricWarning: Recall is ill-defined and being set to 0.0 due to no true samples.\n",
      "  'recall', 'true', average, warn_for)\n"
     ]
    },
    {
     "name": "stdout",
     "output_type": "stream",
     "text": [
      "f1_test=0.345+/-0.220, prec=0.477+/-0.298, rec=0.317+/-0.177, auprc=0.486+/-0.268, auroc=0.709+/-0.123\n",
      "Elapsed time = 0.616 min\n"
     ]
    }
   ],
   "source": [
    "t1=time.time()\n",
    "res_all = pd.DataFrame()\n",
    "\n",
    "symptom = 'Tremor'\n",
    "\n",
    "Data = data_tremor_mag.copy() #original unmodified dataframe\n",
    "Data=Data[~Data[symptom].isnull()] #remove nan rows for current symptom\n",
    "Data=Data.reset_index(drop=True) #reset index\n",
    "\n",
    "X = Data.iloc[:,5:].as_matrix()\n",
    "fnames = Data.iloc[:,5:].columns.values\n",
    "\n",
    "indp = ((Data[symptom]>0))\n",
    "indp = indp.values\n",
    "y = indp.astype(int) #target \n",
    "print('Rows w %s %d/%d = %.2f'%(symptom,sum(indp),len(indp),(sum(indp)/len(indp))))\n",
    "\n",
    "models = [RandomForestClassifier(n_estimators=50,random_state=2)]          \n",
    "model_name = ['Random Forest']\n",
    "models = list(zip(models,model_name))\n",
    "groups = Data.Subject.as_matrix()\n",
    "\n",
    "res,res_group = LOSOCV(Data,X,y,groups,models)\n",
    "res_all = pd.concat((res_all,res))\n",
    "    \n",
    "print('Elapsed time = %.3f min'%((time.time()-t1)/60))    "
   ]
  },
  {
   "cell_type": "code",
   "execution_count": 251,
   "metadata": {},
   "outputs": [
    {
     "data": {
      "text/plain": [
       "Text(0.5,1,'LOSO Tremor MAG - Mean AUROC = 0.709 +/- 0.123')"
      ]
     },
     "execution_count": 251,
     "metadata": {},
     "output_type": "execute_result"
    },
    {
     "data": {
      "image/png": "[encoded data removed]",
      "text/plain": [
       "<matplotlib.figure.Figure at 0xf64a470>"
      ]
     },
     "metadata": {},
     "output_type": "display_data"
    }
   ],
   "source": [
    "results_tremor_mag = res_group['Random Forest']['auroc']\n",
    "aurocall = res_group['Random Forest']['auroc']\n",
    "sns.barplot(np.unique(groups),aurocall)\n",
    "ax = plt.xticks(rotation=90)\n",
    "plt.ylim([0,1.0])\n",
    "plt.title('LOSO Tremor MAG - Mean AUROC = %.3f +/- %.3f'%(np.nanmean(aurocall),np.nanstd(aurocall)))"
   ]
  },
  {
   "cell_type": "code",
   "execution_count": 252,
   "metadata": {},
   "outputs": [
    {
     "data": {
      "image/png": "[encoded data removed]",
      "text/plain": [
       "<matplotlib.figure.Figure at 0xf497c18>"
      ]
     },
     "metadata": {},
     "output_type": "display_data"
    }
   ],
   "source": [
    "results = pd.DataFrame({'XYZ':results_tremor_xyz,'Magnitude':results_tremor_mag})\n",
    "\n",
    "figure = plt.figure()\n",
    "figure.set_dpi(100)\n",
    "figure.set_size_inches(6.4,4.8)\n",
    "ax = sns.boxplot(data=results);\n",
    "plt.ylabel('AUROC');\n",
    "plt.ylim(0,1);\n",
    "plt.title('LOSO Tremor');\n",
    "\n",
    "#x1,x2 = 0,1\n",
    "#y, h, col = results['Accelerometer'].max() + 0.02, 0.02, 'k'\n",
    "#plt.plot([x1, x1, x2, x2], [y, y+h, y+h, y], lw=1.5, c=col)\n",
    "#plt.text((x1+x2)*.5, y+h+0.01, \"***\", ha='center', va='bottom', color=col,fontsize=16);"
   ]
  },
  {
   "cell_type": "code",
   "execution_count": 253,
   "metadata": {},
   "outputs": [
    {
     "name": "stderr",
     "output_type": "stream",
     "text": [
      "C:\\Users\\Public\\Documents\\Anaconda\\lib\\site-packages\\scipy\\stats\\_distn_infrastructure.py:879: RuntimeWarning: invalid value encountered in greater\n",
      "  return (self.a < x) & (x < self.b)\n",
      "C:\\Users\\Public\\Documents\\Anaconda\\lib\\site-packages\\scipy\\stats\\_distn_infrastructure.py:879: RuntimeWarning: invalid value encountered in less\n",
      "  return (self.a < x) & (x < self.b)\n",
      "C:\\Users\\Public\\Documents\\Anaconda\\lib\\site-packages\\scipy\\stats\\_distn_infrastructure.py:1821: RuntimeWarning: invalid value encountered in less_equal\n",
      "  cond2 = cond0 & (x <= self.a)\n"
     ]
    },
    {
     "data": {
      "text/plain": [
       "Ttest_relResult(statistic=nan, pvalue=nan)"
      ]
     },
     "execution_count": 253,
     "metadata": {},
     "output_type": "execute_result"
    }
   ],
   "source": [
    "stats.ttest_rel(results['XYZ'],results['Magnitude'])"
   ]
  },
  {
   "cell_type": "code",
   "execution_count": 254,
   "metadata": {},
   "outputs": [
    {
     "name": "stdout",
     "output_type": "stream",
     "text": [
      "Rows w Bradykinesia 7686/13739 = 0.56\n",
      "Training Random Forest\n",
      "f1_test=0.622+/-0.224, prec=0.622+/-0.283, rec=0.747+/-0.133, auprc=0.656+/-0.266, auroc=0.667+/-0.096\n",
      "Elapsed time = 0.947 min\n"
     ]
    }
   ],
   "source": [
    "t1=time.time()\n",
    "res_all = pd.DataFrame()\n",
    "\n",
    "symptom = 'Bradykinesia'\n",
    "\n",
    "Data = data_brady_xyz.copy() #original unmodified dataframe\n",
    "Data=Data[~Data[symptom].isnull()] #remove nan rows for current symptom\n",
    "Data=Data.reset_index(drop=True) #reset index\n",
    "\n",
    "X = Data.iloc[:,5:].as_matrix()\n",
    "fnames = Data.iloc[:,5:].columns.values\n",
    "\n",
    "indp = ((Data[symptom]>0))\n",
    "indp = indp.values\n",
    "y = indp.astype(int) #target \n",
    "print('Rows w %s %d/%d = %.2f'%(symptom,sum(indp),len(indp),(sum(indp)/len(indp))))\n",
    "\n",
    "models = [RandomForestClassifier(n_estimators=50,random_state=2)]          \n",
    "model_name = ['Random Forest']\n",
    "models = list(zip(models,model_name))\n",
    "groups = Data.Subject.as_matrix()\n",
    "\n",
    "res,res_group = LOSOCV(Data,X,y,groups,models)\n",
    "res_all = pd.concat((res_all,res))\n",
    "    \n",
    "print('Elapsed time = %.3f min'%((time.time()-t1)/60))    "
   ]
  },
  {
   "cell_type": "code",
   "execution_count": 255,
   "metadata": {},
   "outputs": [
    {
     "data": {
      "text/plain": [
       "Text(0.5,1,'LOSO Bradykinesia XYZ - Mean AUROC = 0.667 +/- 0.096')"
      ]
     },
     "execution_count": 255,
     "metadata": {},
     "output_type": "execute_result"
    },
    {
     "data": {
      "image/png": "[encoded data removed]",
      "text/plain": [
       "<matplotlib.figure.Figure at 0xf75cf98>"
      ]
     },
     "metadata": {},
     "output_type": "display_data"
    }
   ],
   "source": [
    "results_brady_xyz = res_group['Random Forest']['auroc']\n",
    "aurocall = res_group['Random Forest']['auroc']\n",
    "sns.barplot(np.unique(groups),aurocall)\n",
    "ax = plt.xticks(rotation=90)\n",
    "plt.ylim([0,1.0])\n",
    "plt.title('LOSO Bradykinesia XYZ - Mean AUROC = %.3f +/- %.3f'%(np.nanmean(aurocall),np.nanstd(aurocall)))"
   ]
  },
  {
   "cell_type": "code",
   "execution_count": 256,
   "metadata": {},
   "outputs": [
    {
     "name": "stdout",
     "output_type": "stream",
     "text": [
      "Rows w Bradykinesia 7686/13739 = 0.56\n",
      "Training Random Forest\n",
      "f1_test=0.607+/-0.223, prec=0.617+/-0.282, rec=0.725+/-0.143, auprc=0.648+/-0.272, auroc=0.659+/-0.077\n",
      "Elapsed time = 0.658 min\n"
     ]
    }
   ],
   "source": [
    "t1=time.time()\n",
    "res_all = pd.DataFrame()\n",
    "\n",
    "symptom = 'Bradykinesia'\n",
    "\n",
    "Data = data_brady_mag.copy() #original unmodified dataframe\n",
    "Data=Data[~Data[symptom].isnull()] #remove nan rows for current symptom\n",
    "Data=Data.reset_index(drop=True) #reset index\n",
    "\n",
    "X = Data.iloc[:,5:].as_matrix()\n",
    "fnames = Data.iloc[:,5:].columns.values\n",
    "\n",
    "indp = ((Data[symptom]>0))\n",
    "indp = indp.values\n",
    "y = indp.astype(int) #target \n",
    "print('Rows w %s %d/%d = %.2f'%(symptom,sum(indp),len(indp),(sum(indp)/len(indp))))\n",
    "\n",
    "models = [RandomForestClassifier(n_estimators=50,random_state=2)]          \n",
    "model_name = ['Random Forest']\n",
    "models = list(zip(models,model_name))\n",
    "groups = Data.Subject.as_matrix()\n",
    "\n",
    "res,res_group = LOSOCV(Data,X,y,groups,models)\n",
    "res_all = pd.concat((res_all,res))\n",
    "    \n",
    "print('Elapsed time = %.3f min'%((time.time()-t1)/60))    "
   ]
  },
  {
   "cell_type": "code",
   "execution_count": 257,
   "metadata": {},
   "outputs": [
    {
     "data": {
      "text/plain": [
       "Text(0.5,1,'LOSO Bradykinesia MAG - Mean AUROC = 0.659 +/- 0.077')"
      ]
     },
     "execution_count": 257,
     "metadata": {},
     "output_type": "execute_result"
    },
    {
     "data": {
      "image/png": "[encoded data removed]",
      "text/plain": [
       "<matplotlib.figure.Figure at 0xf6a38d0>"
      ]
     },
     "metadata": {},
     "output_type": "display_data"
    }
   ],
   "source": [
    "results_brady_mag = res_group['Random Forest']['auroc']\n",
    "aurocall = res_group['Random Forest']['auroc']\n",
    "sns.barplot(np.unique(groups),aurocall)\n",
    "ax = plt.xticks(rotation=90)\n",
    "plt.ylim([0,1.0])\n",
    "plt.title('LOSO Bradykinesia MAG - Mean AUROC = %.3f +/- %.3f'%(np.nanmean(aurocall),np.nanstd(aurocall)))"
   ]
  },
  {
   "cell_type": "code",
   "execution_count": 258,
   "metadata": {},
   "outputs": [
    {
     "data": {
      "image/png": "[encoded data removed]",
      "text/plain": [
       "<matplotlib.figure.Figure at 0x1039ec50>"
      ]
     },
     "metadata": {},
     "output_type": "display_data"
    }
   ],
   "source": [
    "results = pd.DataFrame({'XYZ':results_brady_xyz,'Magnitude':results_brady_mag})\n",
    "\n",
    "figure = plt.figure()\n",
    "figure.set_dpi(100)\n",
    "figure.set_size_inches(6.4,4.8)\n",
    "ax = sns.boxplot(data=results);\n",
    "plt.ylabel('AUROC');\n",
    "plt.ylim(0,1);\n",
    "plt.title('LOSO Bradykinesia');\n",
    "\n",
    "#x1,x2 = 0,1\n",
    "#y, h, col = results['Accelerometer'].max() + 0.02, 0.02, 'k'\n",
    "#plt.plot([x1, x1, x2, x2], [y, y+h, y+h, y], lw=1.5, c=col)\n",
    "#plt.text((x1+x2)*.5, y+h+0.01, \"***\", ha='center', va='bottom', color=col,fontsize=16);"
   ]
  },
  {
   "cell_type": "code",
   "execution_count": 259,
   "metadata": {},
   "outputs": [
    {
     "data": {
      "text/plain": [
       "Ttest_relResult(statistic=0.5803583994067892, pvalue=0.572410182328439)"
      ]
     },
     "execution_count": 259,
     "metadata": {},
     "output_type": "execute_result"
    }
   ],
   "source": [
    "stats.ttest_rel(results['XYZ'],results['Magnitude'])"
   ]
  },
  {
   "cell_type": "markdown",
   "metadata": {},
   "source": [
    "# Feature Combinations"
   ]
  },
  {
   "cell_type": "code",
   "execution_count": 286,
   "metadata": {},
   "outputs": [],
   "source": [
    "featdict = {'freq':['Dom_freq','Pdom_rel','PSD_mean','PSD_std','PSD_skew','PSD_kur'],\n",
    "            'time':['RMSX','RMSY','RMSZ','rangeX','rangeY','rangeZ','meanX','meanY','meanZ','varX','varY','varZ','skewX','skewY','skewZ','kurtX','kurtY','kurtZ','Sen_X','Sen_Y','Sen_Z'],\n",
    "            'corr':['xcorr_peakXZ','xcorr_peakYZ','xcor_peakXY','xcorr_lagXZ','xcorr_lagYZ','xcorr_lagXY'],\n",
    "            'jerk':['jerk_mean','jerk_std','jerk_skew','jerk_kur'],\n",
    "            'mag' :['RMS_mag','range_mag','mean_mag','var_mag','skew_mag','kurt_mag','Sen_mag']}"
   ]
  },
  {
   "cell_type": "code",
   "execution_count": 260,
   "metadata": {},
   "outputs": [],
   "source": [
    "lst = ['freq','time','corr','jerk','mag']\n",
    "combs = []\n",
    "for i in range(len(lst)):\n",
    "    j = i + 1\n",
    "    els = [list(x) for x in combinations(lst, j)]\n",
    "    combs.extend(els)"
   ]
  },
  {
   "cell_type": "code",
   "execution_count": 261,
   "metadata": {},
   "outputs": [
    {
     "data": {
      "text/plain": [
       "[['freq'],\n",
       " ['time'],\n",
       " ['corr'],\n",
       " ['jerk'],\n",
       " ['mag'],\n",
       " ['freq', 'time'],\n",
       " ['freq', 'corr'],\n",
       " ['freq', 'jerk'],\n",
       " ['freq', 'mag'],\n",
       " ['time', 'corr'],\n",
       " ['time', 'jerk'],\n",
       " ['time', 'mag'],\n",
       " ['corr', 'jerk'],\n",
       " ['corr', 'mag'],\n",
       " ['jerk', 'mag'],\n",
       " ['freq', 'time', 'corr'],\n",
       " ['freq', 'time', 'jerk'],\n",
       " ['freq', 'time', 'mag'],\n",
       " ['freq', 'corr', 'jerk'],\n",
       " ['freq', 'corr', 'mag'],\n",
       " ['freq', 'jerk', 'mag'],\n",
       " ['time', 'corr', 'jerk'],\n",
       " ['time', 'corr', 'mag'],\n",
       " ['time', 'jerk', 'mag'],\n",
       " ['corr', 'jerk', 'mag'],\n",
       " ['freq', 'time', 'corr', 'jerk'],\n",
       " ['freq', 'time', 'corr', 'mag'],\n",
       " ['freq', 'time', 'jerk', 'mag'],\n",
       " ['freq', 'corr', 'jerk', 'mag'],\n",
       " ['time', 'corr', 'jerk', 'mag'],\n",
       " ['freq', 'time', 'corr', 'jerk', 'mag']]"
      ]
     },
     "execution_count": 261,
     "metadata": {},
     "output_type": "execute_result"
    }
   ],
   "source": [
    "combs"
   ]
  },
  {
   "cell_type": "markdown",
   "metadata": {},
   "source": [
    "## Tremor"
   ]
  },
  {
   "cell_type": "code",
   "execution_count": 262,
   "metadata": {},
   "outputs": [],
   "source": [
    "data = pd.read_csv('Z:CIS-PD Study\\\\Downsample\\\\Accel Data 62.5Hz.csv')\n",
    "info = ['Subject','Visit','Task','Bradykinesia','Tremor']"
   ]
  },
  {
   "cell_type": "code",
   "execution_count": 263,
   "metadata": {},
   "outputs": [
    {
     "data": {
      "text/html": [
       "<div>\n",
       "<style scoped>\n",
       "    .dataframe tbody tr th:only-of-type {\n",
       "        vertical-align: middle;\n",
       "    }\n",
       "\n",
       "    .dataframe tbody tr th {\n",
       "        vertical-align: top;\n",
       "    }\n",
       "\n",
       "    .dataframe thead th {\n",
       "        text-align: right;\n",
       "    }\n",
       "</style>\n",
       "<table border=\"1\" class=\"dataframe\">\n",
       "  <thead>\n",
       "    <tr style=\"text-align: right;\">\n",
       "      <th></th>\n",
       "      <th>Unnamed: 0</th>\n",
       "      <th>Subject</th>\n",
       "      <th>Visit</th>\n",
       "      <th>Task</th>\n",
       "      <th>Bradykinesia</th>\n",
       "      <th>Tremor</th>\n",
       "      <th>RMSX</th>\n",
       "      <th>RMSY</th>\n",
       "      <th>RMSZ</th>\n",
       "      <th>rangeX</th>\n",
       "      <th>...</th>\n",
       "      <th>Sen_X</th>\n",
       "      <th>Sen_Y</th>\n",
       "      <th>Sen_Z</th>\n",
       "      <th>RMS_mag</th>\n",
       "      <th>range_mag</th>\n",
       "      <th>mean_mag</th>\n",
       "      <th>var_mag</th>\n",
       "      <th>skew_mag</th>\n",
       "      <th>kurt_mag</th>\n",
       "      <th>Sen_mag</th>\n",
       "    </tr>\n",
       "  </thead>\n",
       "  <tbody>\n",
       "    <tr>\n",
       "      <th>0</th>\n",
       "      <td>0</td>\n",
       "      <td>1004</td>\n",
       "      <td>2 Weeks: Time 0</td>\n",
       "      <td>Motor #1: Standing</td>\n",
       "      <td>NaN</td>\n",
       "      <td>0.0</td>\n",
       "      <td>0.000732</td>\n",
       "      <td>0.000535</td>\n",
       "      <td>0.000574</td>\n",
       "      <td>0.079929</td>\n",
       "      <td>...</td>\n",
       "      <td>0.895181</td>\n",
       "      <td>1.171897</td>\n",
       "      <td>0.991753</td>\n",
       "      <td>0.001073</td>\n",
       "      <td>0.043022</td>\n",
       "      <td>0.016731</td>\n",
       "      <td>0.008983</td>\n",
       "      <td>0.808057</td>\n",
       "      <td>0.057535</td>\n",
       "      <td>1.120104</td>\n",
       "    </tr>\n",
       "    <tr>\n",
       "      <th>1</th>\n",
       "      <td>1</td>\n",
       "      <td>1004</td>\n",
       "      <td>2 Weeks: Time 0</td>\n",
       "      <td>Motor #1: Standing</td>\n",
       "      <td>NaN</td>\n",
       "      <td>0.0</td>\n",
       "      <td>0.000591</td>\n",
       "      <td>0.000492</td>\n",
       "      <td>0.000475</td>\n",
       "      <td>0.059164</td>\n",
       "      <td>...</td>\n",
       "      <td>0.952226</td>\n",
       "      <td>0.906698</td>\n",
       "      <td>1.149938</td>\n",
       "      <td>0.000904</td>\n",
       "      <td>0.051198</td>\n",
       "      <td>0.013692</td>\n",
       "      <td>0.008266</td>\n",
       "      <td>1.536889</td>\n",
       "      <td>3.505034</td>\n",
       "      <td>0.986897</td>\n",
       "    </tr>\n",
       "    <tr>\n",
       "      <th>2</th>\n",
       "      <td>2</td>\n",
       "      <td>1004</td>\n",
       "      <td>2 Weeks: Time 0</td>\n",
       "      <td>Motor #1: Standing</td>\n",
       "      <td>NaN</td>\n",
       "      <td>0.0</td>\n",
       "      <td>0.000557</td>\n",
       "      <td>0.000494</td>\n",
       "      <td>0.000422</td>\n",
       "      <td>0.063106</td>\n",
       "      <td>...</td>\n",
       "      <td>0.890457</td>\n",
       "      <td>0.892128</td>\n",
       "      <td>1.325102</td>\n",
       "      <td>0.000856</td>\n",
       "      <td>0.051198</td>\n",
       "      <td>0.012841</td>\n",
       "      <td>0.008026</td>\n",
       "      <td>1.685300</td>\n",
       "      <td>4.507400</td>\n",
       "      <td>0.992065</td>\n",
       "    </tr>\n",
       "    <tr>\n",
       "      <th>3</th>\n",
       "      <td>3</td>\n",
       "      <td>1004</td>\n",
       "      <td>2 Weeks: Time 0</td>\n",
       "      <td>Motor #1: Standing</td>\n",
       "      <td>NaN</td>\n",
       "      <td>0.0</td>\n",
       "      <td>0.000472</td>\n",
       "      <td>0.000360</td>\n",
       "      <td>0.000383</td>\n",
       "      <td>0.056094</td>\n",
       "      <td>...</td>\n",
       "      <td>1.015921</td>\n",
       "      <td>1.299535</td>\n",
       "      <td>1.247401</td>\n",
       "      <td>0.000706</td>\n",
       "      <td>0.033267</td>\n",
       "      <td>0.011194</td>\n",
       "      <td>0.005552</td>\n",
       "      <td>0.993716</td>\n",
       "      <td>1.383678</td>\n",
       "      <td>1.393774</td>\n",
       "    </tr>\n",
       "    <tr>\n",
       "      <th>4</th>\n",
       "      <td>4</td>\n",
       "      <td>1004</td>\n",
       "      <td>2 Weeks: Time 0</td>\n",
       "      <td>Motor #1: Standing</td>\n",
       "      <td>NaN</td>\n",
       "      <td>0.0</td>\n",
       "      <td>0.000317</td>\n",
       "      <td>0.000244</td>\n",
       "      <td>0.000281</td>\n",
       "      <td>0.033473</td>\n",
       "      <td>...</td>\n",
       "      <td>1.289370</td>\n",
       "      <td>1.392917</td>\n",
       "      <td>1.263504</td>\n",
       "      <td>0.000489</td>\n",
       "      <td>0.022742</td>\n",
       "      <td>0.007503</td>\n",
       "      <td>0.004322</td>\n",
       "      <td>1.095023</td>\n",
       "      <td>1.027263</td>\n",
       "      <td>1.426254</td>\n",
       "    </tr>\n",
       "  </tbody>\n",
       "</table>\n",
       "<p>5 rows × 50 columns</p>\n",
       "</div>"
      ],
      "text/plain": [
       "   Unnamed: 0  Subject            Visit                Task  Bradykinesia  \\\n",
       "0           0     1004  2 Weeks: Time 0  Motor #1: Standing           NaN   \n",
       "1           1     1004  2 Weeks: Time 0  Motor #1: Standing           NaN   \n",
       "2           2     1004  2 Weeks: Time 0  Motor #1: Standing           NaN   \n",
       "3           3     1004  2 Weeks: Time 0  Motor #1: Standing           NaN   \n",
       "4           4     1004  2 Weeks: Time 0  Motor #1: Standing           NaN   \n",
       "\n",
       "   Tremor      RMSX      RMSY      RMSZ    rangeX    ...        Sen_X  \\\n",
       "0     0.0  0.000732  0.000535  0.000574  0.079929    ...     0.895181   \n",
       "1     0.0  0.000591  0.000492  0.000475  0.059164    ...     0.952226   \n",
       "2     0.0  0.000557  0.000494  0.000422  0.063106    ...     0.890457   \n",
       "3     0.0  0.000472  0.000360  0.000383  0.056094    ...     1.015921   \n",
       "4     0.0  0.000317  0.000244  0.000281  0.033473    ...     1.289370   \n",
       "\n",
       "      Sen_Y     Sen_Z   RMS_mag  range_mag  mean_mag   var_mag  skew_mag  \\\n",
       "0  1.171897  0.991753  0.001073   0.043022  0.016731  0.008983  0.808057   \n",
       "1  0.906698  1.149938  0.000904   0.051198  0.013692  0.008266  1.536889   \n",
       "2  0.892128  1.325102  0.000856   0.051198  0.012841  0.008026  1.685300   \n",
       "3  1.299535  1.247401  0.000706   0.033267  0.011194  0.005552  0.993716   \n",
       "4  1.392917  1.263504  0.000489   0.022742  0.007503  0.004322  1.095023   \n",
       "\n",
       "   kurt_mag   Sen_mag  \n",
       "0  0.057535  1.120104  \n",
       "1  3.505034  0.986897  \n",
       "2  4.507400  0.992065  \n",
       "3  1.383678  1.393774  \n",
       "4  1.027263  1.426254  \n",
       "\n",
       "[5 rows x 50 columns]"
      ]
     },
     "execution_count": 263,
     "metadata": {},
     "output_type": "execute_result"
    }
   ],
   "source": [
    "data.head()"
   ]
  },
  {
   "cell_type": "code",
   "execution_count": 387,
   "metadata": {
    "scrolled": true
   },
   "outputs": [
    {
     "name": "stdout",
     "output_type": "stream",
     "text": [
      "Training Random Forest\n"
     ]
    },
    {
     "name": "stderr",
     "output_type": "stream",
     "text": [
      "C:\\Users\\Public\\Documents\\Anaconda\\lib\\site-packages\\sklearn\\metrics\\classification.py:1137: UndefinedMetricWarning: F-score is ill-defined and being set to 0.0 due to no true samples.\n",
      "  'recall', 'true', average, warn_for)\n",
      "C:\\Users\\Public\\Documents\\Anaconda\\lib\\site-packages\\sklearn\\metrics\\ranking.py:444: RuntimeWarning: invalid value encountered in true_divide\n",
      "  recall = tps / tps[-1]\n",
      "C:\\Users\\Public\\Documents\\Anaconda\\lib\\site-packages\\sklearn\\metrics\\ranking.py:94: RuntimeWarning: invalid value encountered in less\n",
      "  if np.any(dx < 0):\n",
      "C:\\Users\\Public\\Documents\\Anaconda\\lib\\site-packages\\sklearn\\metrics\\classification.py:1137: UndefinedMetricWarning: Recall is ill-defined and being set to 0.0 due to no true samples.\n",
      "  'recall', 'true', average, warn_for)\n"
     ]
    },
    {
     "name": "stdout",
     "output_type": "stream",
     "text": [
      "f1_test=0.248+/-0.134, prec=0.421+/-0.269, rec=0.208+/-0.111, auprc=0.408+/-0.239, auroc=0.619+/-0.098\n",
      "Training Random Forest\n"
     ]
    },
    {
     "name": "stderr",
     "output_type": "stream",
     "text": [
      "C:\\Users\\Public\\Documents\\Anaconda\\lib\\site-packages\\sklearn\\metrics\\classification.py:1137: UndefinedMetricWarning: F-score is ill-defined and being set to 0.0 due to no true samples.\n",
      "  'recall', 'true', average, warn_for)\n",
      "C:\\Users\\Public\\Documents\\Anaconda\\lib\\site-packages\\sklearn\\metrics\\ranking.py:444: RuntimeWarning: invalid value encountered in true_divide\n",
      "  recall = tps / tps[-1]\n",
      "C:\\Users\\Public\\Documents\\Anaconda\\lib\\site-packages\\sklearn\\metrics\\ranking.py:94: RuntimeWarning: invalid value encountered in less\n",
      "  if np.any(dx < 0):\n",
      "C:\\Users\\Public\\Documents\\Anaconda\\lib\\site-packages\\sklearn\\metrics\\classification.py:1137: UndefinedMetricWarning: Recall is ill-defined and being set to 0.0 due to no true samples.\n",
      "  'recall', 'true', average, warn_for)\n"
     ]
    },
    {
     "name": "stdout",
     "output_type": "stream",
     "text": [
      "f1_test=0.357+/-0.229, prec=0.501+/-0.302, rec=0.306+/-0.189, auprc=0.505+/-0.264, auroc=0.708+/-0.150\n",
      "Training Random Forest\n"
     ]
    },
    {
     "name": "stderr",
     "output_type": "stream",
     "text": [
      "C:\\Users\\Public\\Documents\\Anaconda\\lib\\site-packages\\sklearn\\metrics\\classification.py:1137: UndefinedMetricWarning: F-score is ill-defined and being set to 0.0 due to no true samples.\n",
      "  'recall', 'true', average, warn_for)\n",
      "C:\\Users\\Public\\Documents\\Anaconda\\lib\\site-packages\\sklearn\\metrics\\ranking.py:444: RuntimeWarning: invalid value encountered in true_divide\n",
      "  recall = tps / tps[-1]\n",
      "C:\\Users\\Public\\Documents\\Anaconda\\lib\\site-packages\\sklearn\\metrics\\ranking.py:94: RuntimeWarning: invalid value encountered in less\n",
      "  if np.any(dx < 0):\n",
      "C:\\Users\\Public\\Documents\\Anaconda\\lib\\site-packages\\sklearn\\metrics\\classification.py:1137: UndefinedMetricWarning: Recall is ill-defined and being set to 0.0 due to no true samples.\n",
      "  'recall', 'true', average, warn_for)\n"
     ]
    },
    {
     "name": "stdout",
     "output_type": "stream",
     "text": [
      "f1_test=0.275+/-0.172, prec=0.463+/-0.316, rec=0.225+/-0.150, auprc=0.475+/-0.248, auroc=0.644+/-0.156\n",
      "Training Random Forest\n"
     ]
    },
    {
     "name": "stderr",
     "output_type": "stream",
     "text": [
      "C:\\Users\\Public\\Documents\\Anaconda\\lib\\site-packages\\sklearn\\metrics\\classification.py:1137: UndefinedMetricWarning: F-score is ill-defined and being set to 0.0 due to no true samples.\n",
      "  'recall', 'true', average, warn_for)\n",
      "C:\\Users\\Public\\Documents\\Anaconda\\lib\\site-packages\\sklearn\\metrics\\ranking.py:444: RuntimeWarning: invalid value encountered in true_divide\n",
      "  recall = tps / tps[-1]\n",
      "C:\\Users\\Public\\Documents\\Anaconda\\lib\\site-packages\\sklearn\\metrics\\ranking.py:94: RuntimeWarning: invalid value encountered in less\n",
      "  if np.any(dx < 0):\n",
      "C:\\Users\\Public\\Documents\\Anaconda\\lib\\site-packages\\sklearn\\metrics\\classification.py:1137: UndefinedMetricWarning: Recall is ill-defined and being set to 0.0 due to no true samples.\n",
      "  'recall', 'true', average, warn_for)\n"
     ]
    },
    {
     "name": "stdout",
     "output_type": "stream",
     "text": [
      "f1_test=0.288+/-0.186, prec=0.475+/-0.314, rec=0.266+/-0.155, auprc=0.469+/-0.249, auroc=0.645+/-0.138\n",
      "Training Random Forest\n"
     ]
    },
    {
     "name": "stderr",
     "output_type": "stream",
     "text": [
      "C:\\Users\\Public\\Documents\\Anaconda\\lib\\site-packages\\sklearn\\metrics\\classification.py:1137: UndefinedMetricWarning: F-score is ill-defined and being set to 0.0 due to no true samples.\n",
      "  'recall', 'true', average, warn_for)\n",
      "C:\\Users\\Public\\Documents\\Anaconda\\lib\\site-packages\\sklearn\\metrics\\ranking.py:444: RuntimeWarning: invalid value encountered in true_divide\n",
      "  recall = tps / tps[-1]\n",
      "C:\\Users\\Public\\Documents\\Anaconda\\lib\\site-packages\\sklearn\\metrics\\ranking.py:94: RuntimeWarning: invalid value encountered in less\n",
      "  if np.any(dx < 0):\n",
      "C:\\Users\\Public\\Documents\\Anaconda\\lib\\site-packages\\sklearn\\metrics\\classification.py:1137: UndefinedMetricWarning: Recall is ill-defined and being set to 0.0 due to no true samples.\n",
      "  'recall', 'true', average, warn_for)\n"
     ]
    },
    {
     "name": "stdout",
     "output_type": "stream",
     "text": [
      "f1_test=0.362+/-0.196, prec=0.494+/-0.294, rec=0.351+/-0.162, auprc=0.499+/-0.255, auroc=0.716+/-0.122\n",
      "Training Random Forest\n"
     ]
    },
    {
     "name": "stderr",
     "output_type": "stream",
     "text": [
      "C:\\Users\\Public\\Documents\\Anaconda\\lib\\site-packages\\sklearn\\metrics\\classification.py:1137: UndefinedMetricWarning: F-score is ill-defined and being set to 0.0 due to no true samples.\n",
      "  'recall', 'true', average, warn_for)\n",
      "C:\\Users\\Public\\Documents\\Anaconda\\lib\\site-packages\\sklearn\\metrics\\ranking.py:444: RuntimeWarning: invalid value encountered in true_divide\n",
      "  recall = tps / tps[-1]\n",
      "C:\\Users\\Public\\Documents\\Anaconda\\lib\\site-packages\\sklearn\\metrics\\ranking.py:94: RuntimeWarning: invalid value encountered in less\n",
      "  if np.any(dx < 0):\n",
      "C:\\Users\\Public\\Documents\\Anaconda\\lib\\site-packages\\sklearn\\metrics\\classification.py:1137: UndefinedMetricWarning: Recall is ill-defined and being set to 0.0 due to no true samples.\n",
      "  'recall', 'true', average, warn_for)\n"
     ]
    },
    {
     "name": "stdout",
     "output_type": "stream",
     "text": [
      "f1_test=0.355+/-0.225, prec=0.507+/-0.298, rec=0.302+/-0.186, auprc=0.514+/-0.254, auroc=0.720+/-0.141\n",
      "Training Random Forest\n"
     ]
    },
    {
     "name": "stderr",
     "output_type": "stream",
     "text": [
      "C:\\Users\\Public\\Documents\\Anaconda\\lib\\site-packages\\sklearn\\metrics\\classification.py:1137: UndefinedMetricWarning: F-score is ill-defined and being set to 0.0 due to no true samples.\n",
      "  'recall', 'true', average, warn_for)\n",
      "C:\\Users\\Public\\Documents\\Anaconda\\lib\\site-packages\\sklearn\\metrics\\ranking.py:444: RuntimeWarning: invalid value encountered in true_divide\n",
      "  recall = tps / tps[-1]\n",
      "C:\\Users\\Public\\Documents\\Anaconda\\lib\\site-packages\\sklearn\\metrics\\ranking.py:94: RuntimeWarning: invalid value encountered in less\n",
      "  if np.any(dx < 0):\n",
      "C:\\Users\\Public\\Documents\\Anaconda\\lib\\site-packages\\sklearn\\metrics\\classification.py:1137: UndefinedMetricWarning: Recall is ill-defined and being set to 0.0 due to no true samples.\n",
      "  'recall', 'true', average, warn_for)\n"
     ]
    },
    {
     "name": "stdout",
     "output_type": "stream",
     "text": [
      "f1_test=0.277+/-0.184, prec=0.473+/-0.314, rec=0.227+/-0.158, auprc=0.480+/-0.247, auroc=0.649+/-0.166\n",
      "Training Random Forest\n"
     ]
    },
    {
     "name": "stderr",
     "output_type": "stream",
     "text": [
      "C:\\Users\\Public\\Documents\\Anaconda\\lib\\site-packages\\sklearn\\metrics\\classification.py:1137: UndefinedMetricWarning: F-score is ill-defined and being set to 0.0 due to no true samples.\n",
      "  'recall', 'true', average, warn_for)\n",
      "C:\\Users\\Public\\Documents\\Anaconda\\lib\\site-packages\\sklearn\\metrics\\ranking.py:444: RuntimeWarning: invalid value encountered in true_divide\n",
      "  recall = tps / tps[-1]\n",
      "C:\\Users\\Public\\Documents\\Anaconda\\lib\\site-packages\\sklearn\\metrics\\ranking.py:94: RuntimeWarning: invalid value encountered in less\n",
      "  if np.any(dx < 0):\n",
      "C:\\Users\\Public\\Documents\\Anaconda\\lib\\site-packages\\sklearn\\metrics\\classification.py:1137: UndefinedMetricWarning: Recall is ill-defined and being set to 0.0 due to no true samples.\n",
      "  'recall', 'true', average, warn_for)\n"
     ]
    },
    {
     "name": "stdout",
     "output_type": "stream",
     "text": [
      "f1_test=0.335+/-0.223, prec=0.502+/-0.303, rec=0.299+/-0.180, auprc=0.490+/-0.257, auroc=0.696+/-0.129\n",
      "Training Random Forest\n"
     ]
    },
    {
     "name": "stderr",
     "output_type": "stream",
     "text": [
      "C:\\Users\\Public\\Documents\\Anaconda\\lib\\site-packages\\sklearn\\metrics\\classification.py:1137: UndefinedMetricWarning: F-score is ill-defined and being set to 0.0 due to no true samples.\n",
      "  'recall', 'true', average, warn_for)\n",
      "C:\\Users\\Public\\Documents\\Anaconda\\lib\\site-packages\\sklearn\\metrics\\ranking.py:444: RuntimeWarning: invalid value encountered in true_divide\n",
      "  recall = tps / tps[-1]\n",
      "C:\\Users\\Public\\Documents\\Anaconda\\lib\\site-packages\\sklearn\\metrics\\ranking.py:94: RuntimeWarning: invalid value encountered in less\n",
      "  if np.any(dx < 0):\n",
      "C:\\Users\\Public\\Documents\\Anaconda\\lib\\site-packages\\sklearn\\metrics\\classification.py:1137: UndefinedMetricWarning: Recall is ill-defined and being set to 0.0 due to no true samples.\n",
      "  'recall', 'true', average, warn_for)\n"
     ]
    },
    {
     "name": "stdout",
     "output_type": "stream",
     "text": [
      "f1_test=0.364+/-0.203, prec=0.504+/-0.289, rec=0.343+/-0.166, auprc=0.505+/-0.252, auroc=0.723+/-0.120\n",
      "Training Random Forest\n"
     ]
    },
    {
     "name": "stderr",
     "output_type": "stream",
     "text": [
      "C:\\Users\\Public\\Documents\\Anaconda\\lib\\site-packages\\sklearn\\metrics\\classification.py:1137: UndefinedMetricWarning: F-score is ill-defined and being set to 0.0 due to no true samples.\n",
      "  'recall', 'true', average, warn_for)\n",
      "C:\\Users\\Public\\Documents\\Anaconda\\lib\\site-packages\\sklearn\\metrics\\ranking.py:444: RuntimeWarning: invalid value encountered in true_divide\n",
      "  recall = tps / tps[-1]\n",
      "C:\\Users\\Public\\Documents\\Anaconda\\lib\\site-packages\\sklearn\\metrics\\ranking.py:94: RuntimeWarning: invalid value encountered in less\n",
      "  if np.any(dx < 0):\n",
      "C:\\Users\\Public\\Documents\\Anaconda\\lib\\site-packages\\sklearn\\metrics\\classification.py:1137: UndefinedMetricWarning: Recall is ill-defined and being set to 0.0 due to no true samples.\n",
      "  'recall', 'true', average, warn_for)\n"
     ]
    },
    {
     "name": "stdout",
     "output_type": "stream",
     "text": [
      "f1_test=0.364+/-0.235, prec=0.510+/-0.304, rec=0.305+/-0.204, auprc=0.527+/-0.262, auroc=0.712+/-0.157\n",
      "Training Random Forest\n"
     ]
    },
    {
     "name": "stderr",
     "output_type": "stream",
     "text": [
      "C:\\Users\\Public\\Documents\\Anaconda\\lib\\site-packages\\sklearn\\metrics\\classification.py:1137: UndefinedMetricWarning: F-score is ill-defined and being set to 0.0 due to no true samples.\n",
      "  'recall', 'true', average, warn_for)\n",
      "C:\\Users\\Public\\Documents\\Anaconda\\lib\\site-packages\\sklearn\\metrics\\ranking.py:444: RuntimeWarning: invalid value encountered in true_divide\n",
      "  recall = tps / tps[-1]\n",
      "C:\\Users\\Public\\Documents\\Anaconda\\lib\\site-packages\\sklearn\\metrics\\ranking.py:94: RuntimeWarning: invalid value encountered in less\n",
      "  if np.any(dx < 0):\n",
      "C:\\Users\\Public\\Documents\\Anaconda\\lib\\site-packages\\sklearn\\metrics\\classification.py:1137: UndefinedMetricWarning: Recall is ill-defined and being set to 0.0 due to no true samples.\n",
      "  'recall', 'true', average, warn_for)\n"
     ]
    },
    {
     "name": "stdout",
     "output_type": "stream",
     "text": [
      "f1_test=0.369+/-0.244, prec=0.514+/-0.309, rec=0.314+/-0.214, auprc=0.528+/-0.264, auroc=0.724+/-0.150\n",
      "Training Random Forest\n"
     ]
    },
    {
     "name": "stderr",
     "output_type": "stream",
     "text": [
      "C:\\Users\\Public\\Documents\\Anaconda\\lib\\site-packages\\sklearn\\metrics\\classification.py:1137: UndefinedMetricWarning: F-score is ill-defined and being set to 0.0 due to no true samples.\n",
      "  'recall', 'true', average, warn_for)\n",
      "C:\\Users\\Public\\Documents\\Anaconda\\lib\\site-packages\\sklearn\\metrics\\ranking.py:444: RuntimeWarning: invalid value encountered in true_divide\n",
      "  recall = tps / tps[-1]\n",
      "C:\\Users\\Public\\Documents\\Anaconda\\lib\\site-packages\\sklearn\\metrics\\ranking.py:94: RuntimeWarning: invalid value encountered in less\n",
      "  if np.any(dx < 0):\n",
      "C:\\Users\\Public\\Documents\\Anaconda\\lib\\site-packages\\sklearn\\metrics\\classification.py:1137: UndefinedMetricWarning: Recall is ill-defined and being set to 0.0 due to no true samples.\n",
      "  'recall', 'true', average, warn_for)\n"
     ]
    },
    {
     "name": "stdout",
     "output_type": "stream",
     "text": [
      "f1_test=0.362+/-0.223, prec=0.511+/-0.301, rec=0.310+/-0.188, auprc=0.527+/-0.255, auroc=0.722+/-0.138\n",
      "Training Random Forest\n"
     ]
    },
    {
     "name": "stderr",
     "output_type": "stream",
     "text": [
      "C:\\Users\\Public\\Documents\\Anaconda\\lib\\site-packages\\sklearn\\metrics\\classification.py:1137: UndefinedMetricWarning: F-score is ill-defined and being set to 0.0 due to no true samples.\n",
      "  'recall', 'true', average, warn_for)\n",
      "C:\\Users\\Public\\Documents\\Anaconda\\lib\\site-packages\\sklearn\\metrics\\ranking.py:444: RuntimeWarning: invalid value encountered in true_divide\n",
      "  recall = tps / tps[-1]\n",
      "C:\\Users\\Public\\Documents\\Anaconda\\lib\\site-packages\\sklearn\\metrics\\ranking.py:94: RuntimeWarning: invalid value encountered in less\n",
      "  if np.any(dx < 0):\n",
      "C:\\Users\\Public\\Documents\\Anaconda\\lib\\site-packages\\sklearn\\metrics\\classification.py:1137: UndefinedMetricWarning: Recall is ill-defined and being set to 0.0 due to no true samples.\n",
      "  'recall', 'true', average, warn_for)\n"
     ]
    },
    {
     "name": "stdout",
     "output_type": "stream",
     "text": [
      "f1_test=0.366+/-0.238, prec=0.528+/-0.329, rec=0.310+/-0.198, auprc=0.532+/-0.271, auroc=0.695+/-0.180\n",
      "Training Random Forest\n"
     ]
    },
    {
     "name": "stderr",
     "output_type": "stream",
     "text": [
      "C:\\Users\\Public\\Documents\\Anaconda\\lib\\site-packages\\sklearn\\metrics\\classification.py:1137: UndefinedMetricWarning: F-score is ill-defined and being set to 0.0 due to no true samples.\n",
      "  'recall', 'true', average, warn_for)\n",
      "C:\\Users\\Public\\Documents\\Anaconda\\lib\\site-packages\\sklearn\\metrics\\ranking.py:444: RuntimeWarning: invalid value encountered in true_divide\n",
      "  recall = tps / tps[-1]\n",
      "C:\\Users\\Public\\Documents\\Anaconda\\lib\\site-packages\\sklearn\\metrics\\ranking.py:94: RuntimeWarning: invalid value encountered in less\n",
      "  if np.any(dx < 0):\n",
      "C:\\Users\\Public\\Documents\\Anaconda\\lib\\site-packages\\sklearn\\metrics\\classification.py:1137: UndefinedMetricWarning: Recall is ill-defined and being set to 0.0 due to no true samples.\n",
      "  'recall', 'true', average, warn_for)\n"
     ]
    },
    {
     "name": "stdout",
     "output_type": "stream",
     "text": [
      "f1_test=0.365+/-0.220, prec=0.514+/-0.308, rec=0.309+/-0.198, auprc=0.526+/-0.262, auroc=0.709+/-0.154\n",
      "Training Random Forest\n"
     ]
    },
    {
     "name": "stderr",
     "output_type": "stream",
     "text": [
      "C:\\Users\\Public\\Documents\\Anaconda\\lib\\site-packages\\sklearn\\metrics\\classification.py:1137: UndefinedMetricWarning: F-score is ill-defined and being set to 0.0 due to no true samples.\n",
      "  'recall', 'true', average, warn_for)\n",
      "C:\\Users\\Public\\Documents\\Anaconda\\lib\\site-packages\\sklearn\\metrics\\ranking.py:444: RuntimeWarning: invalid value encountered in true_divide\n",
      "  recall = tps / tps[-1]\n",
      "C:\\Users\\Public\\Documents\\Anaconda\\lib\\site-packages\\sklearn\\metrics\\ranking.py:94: RuntimeWarning: invalid value encountered in less\n",
      "  if np.any(dx < 0):\n",
      "C:\\Users\\Public\\Documents\\Anaconda\\lib\\site-packages\\sklearn\\metrics\\classification.py:1137: UndefinedMetricWarning: Recall is ill-defined and being set to 0.0 due to no true samples.\n",
      "  'recall', 'true', average, warn_for)\n"
     ]
    },
    {
     "name": "stdout",
     "output_type": "stream",
     "text": [
      "f1_test=0.372+/-0.232, prec=0.515+/-0.307, rec=0.334+/-0.193, auprc=0.521+/-0.263, auroc=0.732+/-0.124\n",
      "Training Random Forest\n"
     ]
    },
    {
     "name": "stderr",
     "output_type": "stream",
     "text": [
      "C:\\Users\\Public\\Documents\\Anaconda\\lib\\site-packages\\sklearn\\metrics\\classification.py:1137: UndefinedMetricWarning: F-score is ill-defined and being set to 0.0 due to no true samples.\n",
      "  'recall', 'true', average, warn_for)\n",
      "C:\\Users\\Public\\Documents\\Anaconda\\lib\\site-packages\\sklearn\\metrics\\ranking.py:444: RuntimeWarning: invalid value encountered in true_divide\n",
      "  recall = tps / tps[-1]\n",
      "C:\\Users\\Public\\Documents\\Anaconda\\lib\\site-packages\\sklearn\\metrics\\ranking.py:94: RuntimeWarning: invalid value encountered in less\n",
      "  if np.any(dx < 0):\n",
      "C:\\Users\\Public\\Documents\\Anaconda\\lib\\site-packages\\sklearn\\metrics\\classification.py:1137: UndefinedMetricWarning: Recall is ill-defined and being set to 0.0 due to no true samples.\n",
      "  'recall', 'true', average, warn_for)\n"
     ]
    },
    {
     "name": "stdout",
     "output_type": "stream",
     "text": [
      "f1_test=0.357+/-0.234, prec=0.506+/-0.298, rec=0.304+/-0.208, auprc=0.522+/-0.258, auroc=0.716+/-0.155\n",
      "Training Random Forest\n"
     ]
    },
    {
     "name": "stderr",
     "output_type": "stream",
     "text": [
      "C:\\Users\\Public\\Documents\\Anaconda\\lib\\site-packages\\sklearn\\metrics\\classification.py:1137: UndefinedMetricWarning: F-score is ill-defined and being set to 0.0 due to no true samples.\n",
      "  'recall', 'true', average, warn_for)\n",
      "C:\\Users\\Public\\Documents\\Anaconda\\lib\\site-packages\\sklearn\\metrics\\ranking.py:444: RuntimeWarning: invalid value encountered in true_divide\n",
      "  recall = tps / tps[-1]\n",
      "C:\\Users\\Public\\Documents\\Anaconda\\lib\\site-packages\\sklearn\\metrics\\ranking.py:94: RuntimeWarning: invalid value encountered in less\n",
      "  if np.any(dx < 0):\n",
      "C:\\Users\\Public\\Documents\\Anaconda\\lib\\site-packages\\sklearn\\metrics\\classification.py:1137: UndefinedMetricWarning: Recall is ill-defined and being set to 0.0 due to no true samples.\n",
      "  'recall', 'true', average, warn_for)\n"
     ]
    },
    {
     "name": "stdout",
     "output_type": "stream",
     "text": [
      "f1_test=0.357+/-0.240, prec=0.514+/-0.307, rec=0.306+/-0.203, auprc=0.525+/-0.261, auroc=0.722+/-0.146\n",
      "Training Random Forest\n"
     ]
    },
    {
     "name": "stderr",
     "output_type": "stream",
     "text": [
      "C:\\Users\\Public\\Documents\\Anaconda\\lib\\site-packages\\sklearn\\metrics\\classification.py:1137: UndefinedMetricWarning: F-score is ill-defined and being set to 0.0 due to no true samples.\n",
      "  'recall', 'true', average, warn_for)\n",
      "C:\\Users\\Public\\Documents\\Anaconda\\lib\\site-packages\\sklearn\\metrics\\ranking.py:444: RuntimeWarning: invalid value encountered in true_divide\n",
      "  recall = tps / tps[-1]\n",
      "C:\\Users\\Public\\Documents\\Anaconda\\lib\\site-packages\\sklearn\\metrics\\ranking.py:94: RuntimeWarning: invalid value encountered in less\n",
      "  if np.any(dx < 0):\n",
      "C:\\Users\\Public\\Documents\\Anaconda\\lib\\site-packages\\sklearn\\metrics\\classification.py:1137: UndefinedMetricWarning: Recall is ill-defined and being set to 0.0 due to no true samples.\n",
      "  'recall', 'true', average, warn_for)\n"
     ]
    },
    {
     "name": "stdout",
     "output_type": "stream",
     "text": [
      "f1_test=0.363+/-0.231, prec=0.514+/-0.304, rec=0.306+/-0.200, auprc=0.515+/-0.264, auroc=0.713+/-0.145\n",
      "Training Random Forest\n"
     ]
    },
    {
     "name": "stderr",
     "output_type": "stream",
     "text": [
      "C:\\Users\\Public\\Documents\\Anaconda\\lib\\site-packages\\sklearn\\metrics\\classification.py:1137: UndefinedMetricWarning: F-score is ill-defined and being set to 0.0 due to no true samples.\n",
      "  'recall', 'true', average, warn_for)\n",
      "C:\\Users\\Public\\Documents\\Anaconda\\lib\\site-packages\\sklearn\\metrics\\ranking.py:444: RuntimeWarning: invalid value encountered in true_divide\n",
      "  recall = tps / tps[-1]\n",
      "C:\\Users\\Public\\Documents\\Anaconda\\lib\\site-packages\\sklearn\\metrics\\ranking.py:94: RuntimeWarning: invalid value encountered in less\n",
      "  if np.any(dx < 0):\n",
      "C:\\Users\\Public\\Documents\\Anaconda\\lib\\site-packages\\sklearn\\metrics\\classification.py:1137: UndefinedMetricWarning: Recall is ill-defined and being set to 0.0 due to no true samples.\n",
      "  'recall', 'true', average, warn_for)\n"
     ]
    },
    {
     "name": "stdout",
     "output_type": "stream",
     "text": [
      "f1_test=0.347+/-0.230, prec=0.517+/-0.310, rec=0.298+/-0.192, auprc=0.520+/-0.262, auroc=0.703+/-0.164\n",
      "Training Random Forest\n"
     ]
    },
    {
     "name": "stderr",
     "output_type": "stream",
     "text": [
      "C:\\Users\\Public\\Documents\\Anaconda\\lib\\site-packages\\sklearn\\metrics\\classification.py:1137: UndefinedMetricWarning: F-score is ill-defined and being set to 0.0 due to no true samples.\n",
      "  'recall', 'true', average, warn_for)\n",
      "C:\\Users\\Public\\Documents\\Anaconda\\lib\\site-packages\\sklearn\\metrics\\ranking.py:444: RuntimeWarning: invalid value encountered in true_divide\n",
      "  recall = tps / tps[-1]\n",
      "C:\\Users\\Public\\Documents\\Anaconda\\lib\\site-packages\\sklearn\\metrics\\ranking.py:94: RuntimeWarning: invalid value encountered in less\n",
      "  if np.any(dx < 0):\n",
      "C:\\Users\\Public\\Documents\\Anaconda\\lib\\site-packages\\sklearn\\metrics\\classification.py:1137: UndefinedMetricWarning: Recall is ill-defined and being set to 0.0 due to no true samples.\n",
      "  'recall', 'true', average, warn_for)\n"
     ]
    },
    {
     "name": "stdout",
     "output_type": "stream",
     "text": [
      "f1_test=0.356+/-0.220, prec=0.518+/-0.300, rec=0.297+/-0.201, auprc=0.519+/-0.258, auroc=0.721+/-0.138\n",
      "Training Random Forest\n"
     ]
    },
    {
     "name": "stderr",
     "output_type": "stream",
     "text": [
      "C:\\Users\\Public\\Documents\\Anaconda\\lib\\site-packages\\sklearn\\metrics\\classification.py:1137: UndefinedMetricWarning: F-score is ill-defined and being set to 0.0 due to no true samples.\n",
      "  'recall', 'true', average, warn_for)\n",
      "C:\\Users\\Public\\Documents\\Anaconda\\lib\\site-packages\\sklearn\\metrics\\ranking.py:444: RuntimeWarning: invalid value encountered in true_divide\n",
      "  recall = tps / tps[-1]\n",
      "C:\\Users\\Public\\Documents\\Anaconda\\lib\\site-packages\\sklearn\\metrics\\ranking.py:94: RuntimeWarning: invalid value encountered in less\n",
      "  if np.any(dx < 0):\n",
      "C:\\Users\\Public\\Documents\\Anaconda\\lib\\site-packages\\sklearn\\metrics\\classification.py:1137: UndefinedMetricWarning: Recall is ill-defined and being set to 0.0 due to no true samples.\n",
      "  'recall', 'true', average, warn_for)\n"
     ]
    },
    {
     "name": "stdout",
     "output_type": "stream",
     "text": [
      "f1_test=0.364+/-0.225, prec=0.518+/-0.301, rec=0.331+/-0.183, auprc=0.517+/-0.262, auroc=0.731+/-0.118\n",
      "Training Random Forest\n"
     ]
    },
    {
     "name": "stderr",
     "output_type": "stream",
     "text": [
      "C:\\Users\\Public\\Documents\\Anaconda\\lib\\site-packages\\sklearn\\metrics\\classification.py:1137: UndefinedMetricWarning: F-score is ill-defined and being set to 0.0 due to no true samples.\n",
      "  'recall', 'true', average, warn_for)\n",
      "C:\\Users\\Public\\Documents\\Anaconda\\lib\\site-packages\\sklearn\\metrics\\ranking.py:444: RuntimeWarning: invalid value encountered in true_divide\n",
      "  recall = tps / tps[-1]\n",
      "C:\\Users\\Public\\Documents\\Anaconda\\lib\\site-packages\\sklearn\\metrics\\ranking.py:94: RuntimeWarning: invalid value encountered in less\n",
      "  if np.any(dx < 0):\n",
      "C:\\Users\\Public\\Documents\\Anaconda\\lib\\site-packages\\sklearn\\metrics\\classification.py:1137: UndefinedMetricWarning: Recall is ill-defined and being set to 0.0 due to no true samples.\n",
      "  'recall', 'true', average, warn_for)\n"
     ]
    },
    {
     "name": "stdout",
     "output_type": "stream",
     "text": [
      "f1_test=0.376+/-0.244, prec=0.530+/-0.313, rec=0.320+/-0.206, auprc=0.534+/-0.266, auroc=0.724+/-0.149\n",
      "Training Random Forest\n"
     ]
    },
    {
     "name": "stderr",
     "output_type": "stream",
     "text": [
      "C:\\Users\\Public\\Documents\\Anaconda\\lib\\site-packages\\sklearn\\metrics\\classification.py:1137: UndefinedMetricWarning: F-score is ill-defined and being set to 0.0 due to no true samples.\n",
      "  'recall', 'true', average, warn_for)\n",
      "C:\\Users\\Public\\Documents\\Anaconda\\lib\\site-packages\\sklearn\\metrics\\ranking.py:444: RuntimeWarning: invalid value encountered in true_divide\n",
      "  recall = tps / tps[-1]\n",
      "C:\\Users\\Public\\Documents\\Anaconda\\lib\\site-packages\\sklearn\\metrics\\ranking.py:94: RuntimeWarning: invalid value encountered in less\n",
      "  if np.any(dx < 0):\n",
      "C:\\Users\\Public\\Documents\\Anaconda\\lib\\site-packages\\sklearn\\metrics\\classification.py:1137: UndefinedMetricWarning: Recall is ill-defined and being set to 0.0 due to no true samples.\n",
      "  'recall', 'true', average, warn_for)\n"
     ]
    },
    {
     "name": "stdout",
     "output_type": "stream",
     "text": [
      "f1_test=0.376+/-0.234, prec=0.530+/-0.310, rec=0.320+/-0.206, auprc=0.529+/-0.263, auroc=0.724+/-0.142\n",
      "Training Random Forest\n"
     ]
    },
    {
     "name": "stderr",
     "output_type": "stream",
     "text": [
      "C:\\Users\\Public\\Documents\\Anaconda\\lib\\site-packages\\sklearn\\metrics\\classification.py:1137: UndefinedMetricWarning: F-score is ill-defined and being set to 0.0 due to no true samples.\n",
      "  'recall', 'true', average, warn_for)\n",
      "C:\\Users\\Public\\Documents\\Anaconda\\lib\\site-packages\\sklearn\\metrics\\ranking.py:444: RuntimeWarning: invalid value encountered in true_divide\n",
      "  recall = tps / tps[-1]\n",
      "C:\\Users\\Public\\Documents\\Anaconda\\lib\\site-packages\\sklearn\\metrics\\ranking.py:94: RuntimeWarning: invalid value encountered in less\n",
      "  if np.any(dx < 0):\n",
      "C:\\Users\\Public\\Documents\\Anaconda\\lib\\site-packages\\sklearn\\metrics\\classification.py:1137: UndefinedMetricWarning: Recall is ill-defined and being set to 0.0 due to no true samples.\n",
      "  'recall', 'true', average, warn_for)\n"
     ]
    },
    {
     "name": "stdout",
     "output_type": "stream",
     "text": [
      "f1_test=0.373+/-0.243, prec=0.514+/-0.312, rec=0.317+/-0.215, auprc=0.525+/-0.266, auroc=0.725+/-0.143\n",
      "Training Random Forest\n"
     ]
    },
    {
     "name": "stderr",
     "output_type": "stream",
     "text": [
      "C:\\Users\\Public\\Documents\\Anaconda\\lib\\site-packages\\sklearn\\metrics\\classification.py:1137: UndefinedMetricWarning: F-score is ill-defined and being set to 0.0 due to no true samples.\n",
      "  'recall', 'true', average, warn_for)\n",
      "C:\\Users\\Public\\Documents\\Anaconda\\lib\\site-packages\\sklearn\\metrics\\ranking.py:444: RuntimeWarning: invalid value encountered in true_divide\n",
      "  recall = tps / tps[-1]\n",
      "C:\\Users\\Public\\Documents\\Anaconda\\lib\\site-packages\\sklearn\\metrics\\ranking.py:94: RuntimeWarning: invalid value encountered in less\n",
      "  if np.any(dx < 0):\n",
      "C:\\Users\\Public\\Documents\\Anaconda\\lib\\site-packages\\sklearn\\metrics\\classification.py:1137: UndefinedMetricWarning: Recall is ill-defined and being set to 0.0 due to no true samples.\n",
      "  'recall', 'true', average, warn_for)\n"
     ]
    },
    {
     "name": "stdout",
     "output_type": "stream",
     "text": [
      "f1_test=0.372+/-0.236, prec=0.529+/-0.316, rec=0.316+/-0.211, auprc=0.538+/-0.270, auroc=0.724+/-0.152\n",
      "Training Random Forest\n"
     ]
    },
    {
     "name": "stderr",
     "output_type": "stream",
     "text": [
      "C:\\Users\\Public\\Documents\\Anaconda\\lib\\site-packages\\sklearn\\metrics\\classification.py:1137: UndefinedMetricWarning: F-score is ill-defined and being set to 0.0 due to no true samples.\n",
      "  'recall', 'true', average, warn_for)\n",
      "C:\\Users\\Public\\Documents\\Anaconda\\lib\\site-packages\\sklearn\\metrics\\ranking.py:444: RuntimeWarning: invalid value encountered in true_divide\n",
      "  recall = tps / tps[-1]\n",
      "C:\\Users\\Public\\Documents\\Anaconda\\lib\\site-packages\\sklearn\\metrics\\ranking.py:94: RuntimeWarning: invalid value encountered in less\n",
      "  if np.any(dx < 0):\n",
      "C:\\Users\\Public\\Documents\\Anaconda\\lib\\site-packages\\sklearn\\metrics\\classification.py:1137: UndefinedMetricWarning: Recall is ill-defined and being set to 0.0 due to no true samples.\n",
      "  'recall', 'true', average, warn_for)\n"
     ]
    },
    {
     "name": "stdout",
     "output_type": "stream",
     "text": [
      "f1_test=0.365+/-0.244, prec=0.519+/-0.310, rec=0.309+/-0.215, auprc=0.526+/-0.267, auroc=0.712+/-0.161\n",
      "Training Random Forest\n"
     ]
    },
    {
     "name": "stderr",
     "output_type": "stream",
     "text": [
      "C:\\Users\\Public\\Documents\\Anaconda\\lib\\site-packages\\sklearn\\metrics\\classification.py:1137: UndefinedMetricWarning: F-score is ill-defined and being set to 0.0 due to no true samples.\n",
      "  'recall', 'true', average, warn_for)\n",
      "C:\\Users\\Public\\Documents\\Anaconda\\lib\\site-packages\\sklearn\\metrics\\ranking.py:444: RuntimeWarning: invalid value encountered in true_divide\n",
      "  recall = tps / tps[-1]\n",
      "C:\\Users\\Public\\Documents\\Anaconda\\lib\\site-packages\\sklearn\\metrics\\ranking.py:94: RuntimeWarning: invalid value encountered in less\n",
      "  if np.any(dx < 0):\n",
      "C:\\Users\\Public\\Documents\\Anaconda\\lib\\site-packages\\sklearn\\metrics\\classification.py:1137: UndefinedMetricWarning: Recall is ill-defined and being set to 0.0 due to no true samples.\n",
      "  'recall', 'true', average, warn_for)\n"
     ]
    },
    {
     "name": "stdout",
     "output_type": "stream",
     "text": [
      "f1_test=0.375+/-0.234, prec=0.528+/-0.300, rec=0.319+/-0.210, auprc=0.533+/-0.258, auroc=0.723+/-0.142\n",
      "Training Random Forest\n"
     ]
    },
    {
     "name": "stderr",
     "output_type": "stream",
     "text": [
      "C:\\Users\\Public\\Documents\\Anaconda\\lib\\site-packages\\sklearn\\metrics\\classification.py:1137: UndefinedMetricWarning: F-score is ill-defined and being set to 0.0 due to no true samples.\n",
      "  'recall', 'true', average, warn_for)\n",
      "C:\\Users\\Public\\Documents\\Anaconda\\lib\\site-packages\\sklearn\\metrics\\ranking.py:444: RuntimeWarning: invalid value encountered in true_divide\n",
      "  recall = tps / tps[-1]\n",
      "C:\\Users\\Public\\Documents\\Anaconda\\lib\\site-packages\\sklearn\\metrics\\ranking.py:94: RuntimeWarning: invalid value encountered in less\n",
      "  if np.any(dx < 0):\n",
      "C:\\Users\\Public\\Documents\\Anaconda\\lib\\site-packages\\sklearn\\metrics\\classification.py:1137: UndefinedMetricWarning: Recall is ill-defined and being set to 0.0 due to no true samples.\n",
      "  'recall', 'true', average, warn_for)\n"
     ]
    },
    {
     "name": "stdout",
     "output_type": "stream",
     "text": [
      "f1_test=0.366+/-0.237, prec=0.509+/-0.302, rec=0.317+/-0.203, auprc=0.516+/-0.262, auroc=0.724+/-0.139\n",
      "Training Random Forest\n"
     ]
    },
    {
     "name": "stderr",
     "output_type": "stream",
     "text": [
      "C:\\Users\\Public\\Documents\\Anaconda\\lib\\site-packages\\sklearn\\metrics\\classification.py:1137: UndefinedMetricWarning: F-score is ill-defined and being set to 0.0 due to no true samples.\n",
      "  'recall', 'true', average, warn_for)\n",
      "C:\\Users\\Public\\Documents\\Anaconda\\lib\\site-packages\\sklearn\\metrics\\ranking.py:444: RuntimeWarning: invalid value encountered in true_divide\n",
      "  recall = tps / tps[-1]\n",
      "C:\\Users\\Public\\Documents\\Anaconda\\lib\\site-packages\\sklearn\\metrics\\ranking.py:94: RuntimeWarning: invalid value encountered in less\n",
      "  if np.any(dx < 0):\n",
      "C:\\Users\\Public\\Documents\\Anaconda\\lib\\site-packages\\sklearn\\metrics\\classification.py:1137: UndefinedMetricWarning: Recall is ill-defined and being set to 0.0 due to no true samples.\n",
      "  'recall', 'true', average, warn_for)\n"
     ]
    },
    {
     "name": "stdout",
     "output_type": "stream",
     "text": [
      "f1_test=0.369+/-0.235, prec=0.530+/-0.308, rec=0.313+/-0.211, auprc=0.531+/-0.264, auroc=0.727+/-0.140\n",
      "Training Random Forest\n"
     ]
    },
    {
     "name": "stderr",
     "output_type": "stream",
     "text": [
      "C:\\Users\\Public\\Documents\\Anaconda\\lib\\site-packages\\sklearn\\metrics\\classification.py:1137: UndefinedMetricWarning: F-score is ill-defined and being set to 0.0 due to no true samples.\n",
      "  'recall', 'true', average, warn_for)\n",
      "C:\\Users\\Public\\Documents\\Anaconda\\lib\\site-packages\\sklearn\\metrics\\ranking.py:444: RuntimeWarning: invalid value encountered in true_divide\n",
      "  recall = tps / tps[-1]\n",
      "C:\\Users\\Public\\Documents\\Anaconda\\lib\\site-packages\\sklearn\\metrics\\ranking.py:94: RuntimeWarning: invalid value encountered in less\n",
      "  if np.any(dx < 0):\n",
      "C:\\Users\\Public\\Documents\\Anaconda\\lib\\site-packages\\sklearn\\metrics\\classification.py:1137: UndefinedMetricWarning: Recall is ill-defined and being set to 0.0 due to no true samples.\n",
      "  'recall', 'true', average, warn_for)\n"
     ]
    },
    {
     "name": "stdout",
     "output_type": "stream",
     "text": [
      "f1_test=0.383+/-0.247, prec=0.537+/-0.312, rec=0.325+/-0.219, auprc=0.536+/-0.265, auroc=0.732+/-0.146\n",
      "Training Random Forest\n"
     ]
    },
    {
     "name": "stderr",
     "output_type": "stream",
     "text": [
      "C:\\Users\\Public\\Documents\\Anaconda\\lib\\site-packages\\sklearn\\metrics\\classification.py:1137: UndefinedMetricWarning: F-score is ill-defined and being set to 0.0 due to no true samples.\n",
      "  'recall', 'true', average, warn_for)\n",
      "C:\\Users\\Public\\Documents\\Anaconda\\lib\\site-packages\\sklearn\\metrics\\ranking.py:444: RuntimeWarning: invalid value encountered in true_divide\n",
      "  recall = tps / tps[-1]\n",
      "C:\\Users\\Public\\Documents\\Anaconda\\lib\\site-packages\\sklearn\\metrics\\ranking.py:94: RuntimeWarning: invalid value encountered in less\n",
      "  if np.any(dx < 0):\n",
      "C:\\Users\\Public\\Documents\\Anaconda\\lib\\site-packages\\sklearn\\metrics\\classification.py:1137: UndefinedMetricWarning: Recall is ill-defined and being set to 0.0 due to no true samples.\n",
      "  'recall', 'true', average, warn_for)\n"
     ]
    },
    {
     "name": "stdout",
     "output_type": "stream",
     "text": [
      "f1_test=0.360+/-0.239, prec=0.509+/-0.304, rec=0.306+/-0.213, auprc=0.525+/-0.261, auroc=0.721+/-0.144\n",
      "Elapsed time = 25.267 min\n"
     ]
    }
   ],
   "source": [
    "symptom = 'Tremor'\n",
    "t1 = time.time()\n",
    "tremor_res_all = pd.DataFrame()\n",
    "results_tremor = []\n",
    "\n",
    "\n",
    "for comb in combs:\n",
    "    \n",
    "    feat_cols = []\n",
    "    comb_group = ''\n",
    "    \n",
    "    for features_set in comb:\n",
    "        \n",
    "        comb_group += features_set[0]\n",
    "        feat_cols = feat_cols + featdict[features_set]\n",
    "    \n",
    "    data_comb = data[info + feat_cols]\n",
    "\n",
    "    Data = data_comb.copy() #original unmodified dataframe\n",
    "    Data=Data[~Data[symptom].isnull()] #remove nan rows for current symptom\n",
    "    Data=Data.reset_index(drop=True) #reset index\n",
    "\n",
    "    X = Data.iloc[:,5:].as_matrix()\n",
    "    fnames = Data.iloc[:,5:].columns.values\n",
    "\n",
    "    indp = ((Data[symptom]>0))\n",
    "    indp = indp.values\n",
    "    y = indp.astype(int) #target \n",
    "    #print('Rows w %s %d/%d = %.2f'%(symptom,sum(indp),len(indp),(sum(indp)/len(indp))))\n",
    "\n",
    "    models = [RandomForestClassifier(n_estimators=50,random_state=2)]          \n",
    "    model_name = ['Random Forest']\n",
    "    models = list(zip(models,model_name))\n",
    "    groups = Data.Subject.as_matrix()\n",
    "\n",
    "    res,res_group = LOSOCV(Data,X,y,groups,models)\n",
    "    res['Combination'] = comb_group\n",
    "    tremor_res_all = pd.concat((tremor_res_all,res))\n",
    "    results_tremor.append(res_group)\n",
    "\n",
    "tremor_res_all = tremor_res_all.reset_index(drop=True)\n",
    "\n",
    "print('Elapsed time = %.3f min'%((time.time()-t1)/60))   "
   ]
  },
  {
   "cell_type": "code",
   "execution_count": 388,
   "metadata": {},
   "outputs": [
    {
     "name": "stdout",
     "output_type": "stream",
     "text": [
      "f: frequency\n",
      "t: time\n",
      "c: correlation\n",
      "j: jerk\n",
      "m: mag\n"
     ]
    },
    {
     "data": {
      "image/png": "[encoded data removed]",
      "text/plain": [
       "<matplotlib.figure.Figure at 0x10106128>"
      ]
     },
     "metadata": {},
     "output_type": "display_data"
    },
    {
     "data": {
      "text/plain": [
       "<matplotlib.figure.Figure at 0x12552588>"
      ]
     },
     "metadata": {},
     "output_type": "display_data"
    }
   ],
   "source": [
    "groups = tremor_res_all['Combination'].values\n",
    "auc_mean = []; auc_std = []\n",
    "aucdf = pd.DataFrame()\n",
    "for i in range(len(results_tremor)):\n",
    "    if len(results_tremor[i]['Random Forest']['auroc']) < 7:\n",
    "        L = len(results_tremor[i]['Random Forest']['auroc'])\n",
    "        results_tremor[i]['Random Forest']['auroc'] += (list(np.nan*np.ones(7-L)))\n",
    "    aucdf[groups[i]] = results_tremor[i]['Random Forest']['auroc']   \n",
    "    tremor_auc = results_tremor[i]['Random Forest']['auroc']\n",
    "    auc_mean.append(np.nanmean(tremor_auc)) #mean across visits\n",
    "    auc_std.append(np.nanstd(tremor_auc))\n",
    "\n",
    "sns.barplot(data=aucdf)\n",
    "ax=plt.xticks(rotation=90)\n",
    "plt.ylim([0,1])\n",
    "plt.title('Effect of Feature Combinations on AUROC: Tremor')\n",
    "plt.figure(figsize=(10,20))\n",
    "print('f: frequency')\n",
    "print('t: time')\n",
    "print('c: correlation')\n",
    "print('j: jerk')\n",
    "print('m: mag')"
   ]
  },
  {
   "cell_type": "code",
   "execution_count": 389,
   "metadata": {},
   "outputs": [
    {
     "data": {
      "text/html": [
       "<div>\n",
       "<style scoped>\n",
       "    .dataframe tbody tr th:only-of-type {\n",
       "        vertical-align: middle;\n",
       "    }\n",
       "\n",
       "    .dataframe tbody tr th {\n",
       "        vertical-align: top;\n",
       "    }\n",
       "\n",
       "    .dataframe thead th {\n",
       "        text-align: right;\n",
       "    }\n",
       "</style>\n",
       "<table border=\"1\" class=\"dataframe\">\n",
       "  <thead>\n",
       "    <tr style=\"text-align: right;\">\n",
       "      <th></th>\n",
       "      <th>auprc</th>\n",
       "      <th>auroc</th>\n",
       "      <th>f1</th>\n",
       "      <th>model</th>\n",
       "      <th>Combination</th>\n",
       "    </tr>\n",
       "  </thead>\n",
       "  <tbody>\n",
       "    <tr>\n",
       "      <th>0</th>\n",
       "      <td>0.407909</td>\n",
       "      <td>0.618644</td>\n",
       "      <td>0.247864</td>\n",
       "      <td>Random Forest</td>\n",
       "      <td>f</td>\n",
       "    </tr>\n",
       "    <tr>\n",
       "      <th>1</th>\n",
       "      <td>0.504586</td>\n",
       "      <td>0.707797</td>\n",
       "      <td>0.356776</td>\n",
       "      <td>Random Forest</td>\n",
       "      <td>t</td>\n",
       "    </tr>\n",
       "    <tr>\n",
       "      <th>2</th>\n",
       "      <td>0.474927</td>\n",
       "      <td>0.644345</td>\n",
       "      <td>0.274602</td>\n",
       "      <td>Random Forest</td>\n",
       "      <td>c</td>\n",
       "    </tr>\n",
       "    <tr>\n",
       "      <th>3</th>\n",
       "      <td>0.469196</td>\n",
       "      <td>0.644744</td>\n",
       "      <td>0.287824</td>\n",
       "      <td>Random Forest</td>\n",
       "      <td>j</td>\n",
       "    </tr>\n",
       "    <tr>\n",
       "      <th>4</th>\n",
       "      <td>0.499358</td>\n",
       "      <td>0.715707</td>\n",
       "      <td>0.362482</td>\n",
       "      <td>Random Forest</td>\n",
       "      <td>m</td>\n",
       "    </tr>\n",
       "    <tr>\n",
       "      <th>5</th>\n",
       "      <td>0.513666</td>\n",
       "      <td>0.720097</td>\n",
       "      <td>0.355372</td>\n",
       "      <td>Random Forest</td>\n",
       "      <td>ft</td>\n",
       "    </tr>\n",
       "    <tr>\n",
       "      <th>6</th>\n",
       "      <td>0.479633</td>\n",
       "      <td>0.649046</td>\n",
       "      <td>0.277197</td>\n",
       "      <td>Random Forest</td>\n",
       "      <td>fc</td>\n",
       "    </tr>\n",
       "    <tr>\n",
       "      <th>7</th>\n",
       "      <td>0.490147</td>\n",
       "      <td>0.696131</td>\n",
       "      <td>0.334850</td>\n",
       "      <td>Random Forest</td>\n",
       "      <td>fj</td>\n",
       "    </tr>\n",
       "    <tr>\n",
       "      <th>8</th>\n",
       "      <td>0.505131</td>\n",
       "      <td>0.722994</td>\n",
       "      <td>0.364445</td>\n",
       "      <td>Random Forest</td>\n",
       "      <td>fm</td>\n",
       "    </tr>\n",
       "    <tr>\n",
       "      <th>9</th>\n",
       "      <td>0.527234</td>\n",
       "      <td>0.711733</td>\n",
       "      <td>0.363678</td>\n",
       "      <td>Random Forest</td>\n",
       "      <td>tc</td>\n",
       "    </tr>\n",
       "    <tr>\n",
       "      <th>10</th>\n",
       "      <td>0.527912</td>\n",
       "      <td>0.724046</td>\n",
       "      <td>0.369286</td>\n",
       "      <td>Random Forest</td>\n",
       "      <td>tj</td>\n",
       "    </tr>\n",
       "    <tr>\n",
       "      <th>11</th>\n",
       "      <td>0.527491</td>\n",
       "      <td>0.721802</td>\n",
       "      <td>0.362293</td>\n",
       "      <td>Random Forest</td>\n",
       "      <td>tm</td>\n",
       "    </tr>\n",
       "    <tr>\n",
       "      <th>12</th>\n",
       "      <td>0.532181</td>\n",
       "      <td>0.695130</td>\n",
       "      <td>0.366251</td>\n",
       "      <td>Random Forest</td>\n",
       "      <td>cj</td>\n",
       "    </tr>\n",
       "    <tr>\n",
       "      <th>13</th>\n",
       "      <td>0.525503</td>\n",
       "      <td>0.709156</td>\n",
       "      <td>0.365377</td>\n",
       "      <td>Random Forest</td>\n",
       "      <td>cm</td>\n",
       "    </tr>\n",
       "    <tr>\n",
       "      <th>14</th>\n",
       "      <td>0.520887</td>\n",
       "      <td>0.732500</td>\n",
       "      <td>0.372368</td>\n",
       "      <td>Random Forest</td>\n",
       "      <td>jm</td>\n",
       "    </tr>\n",
       "    <tr>\n",
       "      <th>15</th>\n",
       "      <td>0.521853</td>\n",
       "      <td>0.715739</td>\n",
       "      <td>0.357444</td>\n",
       "      <td>Random Forest</td>\n",
       "      <td>ftc</td>\n",
       "    </tr>\n",
       "    <tr>\n",
       "      <th>16</th>\n",
       "      <td>0.525218</td>\n",
       "      <td>0.722354</td>\n",
       "      <td>0.356888</td>\n",
       "      <td>Random Forest</td>\n",
       "      <td>ftj</td>\n",
       "    </tr>\n",
       "    <tr>\n",
       "      <th>17</th>\n",
       "      <td>0.515040</td>\n",
       "      <td>0.712776</td>\n",
       "      <td>0.362530</td>\n",
       "      <td>Random Forest</td>\n",
       "      <td>ftm</td>\n",
       "    </tr>\n",
       "    <tr>\n",
       "      <th>18</th>\n",
       "      <td>0.520004</td>\n",
       "      <td>0.703445</td>\n",
       "      <td>0.347322</td>\n",
       "      <td>Random Forest</td>\n",
       "      <td>fcj</td>\n",
       "    </tr>\n",
       "    <tr>\n",
       "      <th>19</th>\n",
       "      <td>0.519426</td>\n",
       "      <td>0.721330</td>\n",
       "      <td>0.355558</td>\n",
       "      <td>Random Forest</td>\n",
       "      <td>fcm</td>\n",
       "    </tr>\n",
       "    <tr>\n",
       "      <th>20</th>\n",
       "      <td>0.516617</td>\n",
       "      <td>0.730824</td>\n",
       "      <td>0.364349</td>\n",
       "      <td>Random Forest</td>\n",
       "      <td>fjm</td>\n",
       "    </tr>\n",
       "    <tr>\n",
       "      <th>21</th>\n",
       "      <td>0.534452</td>\n",
       "      <td>0.724032</td>\n",
       "      <td>0.375655</td>\n",
       "      <td>Random Forest</td>\n",
       "      <td>tcj</td>\n",
       "    </tr>\n",
       "    <tr>\n",
       "      <th>22</th>\n",
       "      <td>0.528856</td>\n",
       "      <td>0.724398</td>\n",
       "      <td>0.376416</td>\n",
       "      <td>Random Forest</td>\n",
       "      <td>tcm</td>\n",
       "    </tr>\n",
       "    <tr>\n",
       "      <th>23</th>\n",
       "      <td>0.525063</td>\n",
       "      <td>0.724604</td>\n",
       "      <td>0.372603</td>\n",
       "      <td>Random Forest</td>\n",
       "      <td>tjm</td>\n",
       "    </tr>\n",
       "    <tr>\n",
       "      <th>24</th>\n",
       "      <td>0.537661</td>\n",
       "      <td>0.723702</td>\n",
       "      <td>0.372499</td>\n",
       "      <td>Random Forest</td>\n",
       "      <td>cjm</td>\n",
       "    </tr>\n",
       "    <tr>\n",
       "      <th>25</th>\n",
       "      <td>0.525694</td>\n",
       "      <td>0.712372</td>\n",
       "      <td>0.364653</td>\n",
       "      <td>Random Forest</td>\n",
       "      <td>ftcj</td>\n",
       "    </tr>\n",
       "    <tr>\n",
       "      <th>26</th>\n",
       "      <td>0.532603</td>\n",
       "      <td>0.723117</td>\n",
       "      <td>0.375349</td>\n",
       "      <td>Random Forest</td>\n",
       "      <td>ftcm</td>\n",
       "    </tr>\n",
       "    <tr>\n",
       "      <th>27</th>\n",
       "      <td>0.516378</td>\n",
       "      <td>0.724354</td>\n",
       "      <td>0.365781</td>\n",
       "      <td>Random Forest</td>\n",
       "      <td>ftjm</td>\n",
       "    </tr>\n",
       "    <tr>\n",
       "      <th>28</th>\n",
       "      <td>0.531472</td>\n",
       "      <td>0.726939</td>\n",
       "      <td>0.369109</td>\n",
       "      <td>Random Forest</td>\n",
       "      <td>fcjm</td>\n",
       "    </tr>\n",
       "    <tr>\n",
       "      <th>29</th>\n",
       "      <td>0.535823</td>\n",
       "      <td>0.732313</td>\n",
       "      <td>0.382585</td>\n",
       "      <td>Random Forest</td>\n",
       "      <td>tcjm</td>\n",
       "    </tr>\n",
       "    <tr>\n",
       "      <th>30</th>\n",
       "      <td>0.525225</td>\n",
       "      <td>0.721377</td>\n",
       "      <td>0.360011</td>\n",
       "      <td>Random Forest</td>\n",
       "      <td>ftcjm</td>\n",
       "    </tr>\n",
       "  </tbody>\n",
       "</table>\n",
       "</div>"
      ],
      "text/plain": [
       "       auprc     auroc        f1          model Combination\n",
       "0   0.407909  0.618644  0.247864  Random Forest           f\n",
       "1   0.504586  0.707797  0.356776  Random Forest           t\n",
       "2   0.474927  0.644345  0.274602  Random Forest           c\n",
       "3   0.469196  0.644744  0.287824  Random Forest           j\n",
       "4   0.499358  0.715707  0.362482  Random Forest           m\n",
       "5   0.513666  0.720097  0.355372  Random Forest          ft\n",
       "6   0.479633  0.649046  0.277197  Random Forest          fc\n",
       "7   0.490147  0.696131  0.334850  Random Forest          fj\n",
       "8   0.505131  0.722994  0.364445  Random Forest          fm\n",
       "9   0.527234  0.711733  0.363678  Random Forest          tc\n",
       "10  0.527912  0.724046  0.369286  Random Forest          tj\n",
       "11  0.527491  0.721802  0.362293  Random Forest          tm\n",
       "12  0.532181  0.695130  0.366251  Random Forest          cj\n",
       "13  0.525503  0.709156  0.365377  Random Forest          cm\n",
       "14  0.520887  0.732500  0.372368  Random Forest          jm\n",
       "15  0.521853  0.715739  0.357444  Random Forest         ftc\n",
       "16  0.525218  0.722354  0.356888  Random Forest         ftj\n",
       "17  0.515040  0.712776  0.362530  Random Forest         ftm\n",
       "18  0.520004  0.703445  0.347322  Random Forest         fcj\n",
       "19  0.519426  0.721330  0.355558  Random Forest         fcm\n",
       "20  0.516617  0.730824  0.364349  Random Forest         fjm\n",
       "21  0.534452  0.724032  0.375655  Random Forest         tcj\n",
       "22  0.528856  0.724398  0.376416  Random Forest         tcm\n",
       "23  0.525063  0.724604  0.372603  Random Forest         tjm\n",
       "24  0.537661  0.723702  0.372499  Random Forest         cjm\n",
       "25  0.525694  0.712372  0.364653  Random Forest        ftcj\n",
       "26  0.532603  0.723117  0.375349  Random Forest        ftcm\n",
       "27  0.516378  0.724354  0.365781  Random Forest        ftjm\n",
       "28  0.531472  0.726939  0.369109  Random Forest        fcjm\n",
       "29  0.535823  0.732313  0.382585  Random Forest        tcjm\n",
       "30  0.525225  0.721377  0.360011  Random Forest       ftcjm"
      ]
     },
     "execution_count": 389,
     "metadata": {},
     "output_type": "execute_result"
    }
   ],
   "source": [
    "tremor_res_all"
   ]
  },
  {
   "cell_type": "code",
   "execution_count": 407,
   "metadata": {},
   "outputs": [
    {
     "data": {
      "text/plain": [
       "array([0.68705906, 0.72402392, 0.75870264, 0.74647926, 0.66777001,\n",
       "       0.67884642, 0.83661884, 0.87316622, 0.83799784, 0.35146525,\n",
       "       0.88637507, 0.59265802])"
      ]
     },
     "execution_count": 407,
     "metadata": {},
     "output_type": "execute_result"
    }
   ],
   "source": [
    "x = results_tremor[5]['Random Forest']['auroc']\n",
    "x = np.array(x)\n",
    "x = x[~np.isnan(x)]\n",
    "x\n",
    "#print(~np.isnan(x))"
   ]
  },
  {
   "cell_type": "code",
   "execution_count": 390,
   "metadata": {},
   "outputs": [
    {
     "name": "stdout",
     "output_type": "stream",
     "text": [
      "t, f\n",
      "Ttest_relResult(statistic=2.9520593570825002, pvalue=0.013160839253705413)\n",
      "t, c\n",
      "Ttest_relResult(statistic=3.973195983935057, pvalue=0.002184108603888074)\n",
      "t, j\n",
      "Ttest_relResult(statistic=2.877180719434898, pvalue=0.01504698367904931)\n",
      "t, m\n",
      "Ttest_relResult(statistic=-0.7037784264782391, pvalue=0.4961986246578832)\n",
      "t, ftcjm\n",
      "Ttest_relResult(statistic=-3.21763211895602, pvalue=0.008193510905407165)\n"
     ]
    }
   ],
   "source": [
    "x = results_tremor[1]['Random Forest']['auroc']\n",
    "x.remove(np.nan)\n",
    "for featgroup in [0,2,3,4,30]:\n",
    "    print('t, %s'%tremor_res_all.iloc[featgroup]['Combination'])\n",
    "    y = results_tremor[featgroup]['Random Forest']['auroc']\n",
    "    y.remove(np.nan)\n",
    "    print(stats.ttest_rel(x,y))"
   ]
  },
  {
   "cell_type": "markdown",
   "metadata": {},
   "source": [
    "## Bradykinesia"
   ]
  },
  {
   "cell_type": "code",
   "execution_count": 391,
   "metadata": {
    "scrolled": true
   },
   "outputs": [],
   "source": [
    "def fix_feature_names(features):\n",
    "    if features[0][-3:] != 'acc':\n",
    "        featlen = len(features)\n",
    "        for f in range(featlen):\n",
    "            features.append(features[f] + ' gyr')\n",
    "        for f in range(featlen):\n",
    "            features[f] = features[f] + ' acc'"
   ]
  },
  {
   "cell_type": "code",
   "execution_count": 392,
   "metadata": {},
   "outputs": [],
   "source": [
    "featdictsensors = featdict\n",
    "\n",
    "for featgroup in featdictsensors.keys():\n",
    "    fix_feature_names(featdictsensors[featgroup])\n",
    "\n",
    "info = ['Subject','Visit','Task','Bradykinesia','Tremor']\n",
    "data = pd.read_csv('Z:CIS-PD Study\\\\Downsample\\\\Accel+Gyro Data 62.5Hz.csv')"
   ]
  },
  {
   "cell_type": "code",
   "execution_count": 393,
   "metadata": {
    "scrolled": true
   },
   "outputs": [
    {
     "name": "stdout",
     "output_type": "stream",
     "text": [
      "Training Random Forest\n",
      "f1_test=0.587+/-0.214, prec=0.608+/-0.281, rec=0.694+/-0.125, auprc=0.631+/-0.271, auroc=0.632+/-0.066\n",
      "Training Random Forest\n",
      "f1_test=0.619+/-0.221, prec=0.624+/-0.282, rec=0.741+/-0.140, auprc=0.656+/-0.268, auroc=0.684+/-0.092\n",
      "Training Random Forest\n",
      "f1_test=0.595+/-0.230, prec=0.600+/-0.285, rec=0.713+/-0.137, auprc=0.603+/-0.283, auroc=0.605+/-0.091\n",
      "Training Random Forest\n",
      "f1_test=0.588+/-0.209, prec=0.598+/-0.278, rec=0.706+/-0.093, auprc=0.604+/-0.274, auroc=0.607+/-0.089\n",
      "Training Random Forest\n",
      "f1_test=0.597+/-0.216, prec=0.609+/-0.276, rec=0.708+/-0.139, auprc=0.639+/-0.273, auroc=0.642+/-0.078\n",
      "Training Random Forest\n",
      "f1_test=0.623+/-0.221, prec=0.622+/-0.279, rec=0.752+/-0.130, auprc=0.647+/-0.272, auroc=0.675+/-0.092\n",
      "Training Random Forest\n",
      "f1_test=0.602+/-0.224, prec=0.608+/-0.283, rec=0.723+/-0.127, auprc=0.606+/-0.276, auroc=0.618+/-0.084\n",
      "Training Random Forest\n",
      "f1_test=0.590+/-0.220, prec=0.609+/-0.283, rec=0.694+/-0.125, auprc=0.635+/-0.274, auroc=0.639+/-0.067\n",
      "Training Random Forest\n",
      "f1_test=0.610+/-0.222, prec=0.618+/-0.280, rec=0.726+/-0.140, auprc=0.646+/-0.268, auroc=0.656+/-0.078\n",
      "Training Random Forest\n",
      "f1_test=0.619+/-0.225, prec=0.618+/-0.281, rec=0.745+/-0.132, auprc=0.651+/-0.276, auroc=0.674+/-0.097\n",
      "Training Random Forest\n",
      "f1_test=0.621+/-0.222, prec=0.622+/-0.278, rec=0.751+/-0.136, auprc=0.653+/-0.275, auroc=0.676+/-0.092\n",
      "Training Random Forest\n",
      "f1_test=0.620+/-0.222, prec=0.625+/-0.282, rec=0.741+/-0.136, auprc=0.658+/-0.273, auroc=0.688+/-0.089\n",
      "Training Random Forest\n",
      "f1_test=0.596+/-0.227, prec=0.604+/-0.285, rec=0.708+/-0.129, auprc=0.616+/-0.280, auroc=0.621+/-0.093\n",
      "Training Random Forest\n",
      "f1_test=0.614+/-0.224, prec=0.617+/-0.282, rec=0.739+/-0.133, auprc=0.634+/-0.278, auroc=0.651+/-0.096\n",
      "Training Random Forest\n",
      "f1_test=0.603+/-0.213, prec=0.616+/-0.276, rec=0.723+/-0.140, auprc=0.649+/-0.266, auroc=0.659+/-0.079\n",
      "Training Random Forest\n",
      "f1_test=0.618+/-0.230, prec=0.617+/-0.285, rec=0.740+/-0.135, auprc=0.647+/-0.276, auroc=0.666+/-0.101\n",
      "Training Random Forest\n",
      "f1_test=0.628+/-0.225, prec=0.626+/-0.281, rec=0.760+/-0.131, auprc=0.653+/-0.277, auroc=0.676+/-0.086\n",
      "Training Random Forest\n",
      "f1_test=0.621+/-0.224, prec=0.622+/-0.281, rec=0.743+/-0.135, auprc=0.653+/-0.278, auroc=0.678+/-0.086\n",
      "Training Random Forest\n",
      "f1_test=0.604+/-0.222, prec=0.611+/-0.283, rec=0.727+/-0.128, auprc=0.616+/-0.279, auroc=0.628+/-0.080\n",
      "Training Random Forest\n",
      "f1_test=0.608+/-0.228, prec=0.612+/-0.284, rec=0.725+/-0.132, auprc=0.621+/-0.278, auroc=0.635+/-0.086\n",
      "Training Random Forest\n",
      "f1_test=0.608+/-0.222, prec=0.616+/-0.280, rec=0.726+/-0.133, auprc=0.646+/-0.271, auroc=0.655+/-0.077\n",
      "Training Random Forest\n",
      "f1_test=0.618+/-0.225, prec=0.619+/-0.281, rec=0.744+/-0.141, auprc=0.649+/-0.278, auroc=0.669+/-0.096\n",
      "Training Random Forest\n",
      "f1_test=0.612+/-0.225, prec=0.617+/-0.283, rec=0.732+/-0.142, auprc=0.651+/-0.278, auroc=0.675+/-0.094\n",
      "Training Random Forest\n",
      "f1_test=0.628+/-0.221, prec=0.628+/-0.281, rec=0.759+/-0.129, auprc=0.663+/-0.272, auroc=0.692+/-0.082\n",
      "Training Random Forest\n",
      "f1_test=0.605+/-0.229, prec=0.612+/-0.285, rec=0.717+/-0.139, auprc=0.638+/-0.279, auroc=0.648+/-0.091\n",
      "Training Random Forest\n",
      "f1_test=0.620+/-0.227, prec=0.622+/-0.283, rec=0.746+/-0.136, auprc=0.652+/-0.274, auroc=0.673+/-0.095\n",
      "Training Random Forest\n",
      "f1_test=0.624+/-0.226, prec=0.623+/-0.282, rec=0.745+/-0.134, auprc=0.651+/-0.276, auroc=0.672+/-0.098\n",
      "Training Random Forest\n",
      "f1_test=0.627+/-0.220, prec=0.628+/-0.280, rec=0.757+/-0.130, auprc=0.661+/-0.272, auroc=0.688+/-0.083\n",
      "Training Random Forest\n",
      "f1_test=0.612+/-0.222, prec=0.617+/-0.282, rec=0.737+/-0.137, auprc=0.632+/-0.277, auroc=0.646+/-0.092\n",
      "Training Random Forest\n",
      "f1_test=0.623+/-0.224, prec=0.622+/-0.282, rec=0.750+/-0.129, auprc=0.657+/-0.275, auroc=0.682+/-0.093\n",
      "Training Random Forest\n",
      "f1_test=0.621+/-0.223, prec=0.623+/-0.281, rec=0.747+/-0.135, auprc=0.660+/-0.273, auroc=0.682+/-0.083\n",
      "Elapsed time = 22.852 min\n"
     ]
    }
   ],
   "source": [
    "symptom = 'Bradykinesia'\n",
    "t1 = time.time()\n",
    "brady_res_all = pd.DataFrame()\n",
    "results_brady = []\n",
    "\n",
    "\n",
    "for comb in combs:\n",
    "    \n",
    "    feat_cols = []\n",
    "    comb_group = ''\n",
    "    \n",
    "    for features_set in comb:\n",
    "        \n",
    "        comb_group += features_set[0]\n",
    "        feat_cols = feat_cols + featdict[features_set]\n",
    "    \n",
    "    data_comb = data[info + feat_cols]\n",
    "\n",
    "    Data = data_comb.copy() #original unmodified dataframe\n",
    "    Data=Data[~Data[symptom].isnull()] #remove nan rows for current symptom\n",
    "    Data=Data.reset_index(drop=True) #reset index\n",
    "\n",
    "    X = Data.iloc[:,5:].as_matrix()\n",
    "    fnames = Data.iloc[:,5:].columns.values\n",
    "\n",
    "    indp = ((Data[symptom]>0))\n",
    "    indp = indp.values\n",
    "    y = indp.astype(int) #target \n",
    "    #print('Rows w %s %d/%d = %.2f'%(symptom,sum(indp),len(indp),(sum(indp)/len(indp))))\n",
    "\n",
    "    models = [RandomForestClassifier(n_estimators=50,random_state=2)]          \n",
    "    model_name = ['Random Forest']\n",
    "    models = list(zip(models,model_name))\n",
    "    groups = Data.Subject.as_matrix()\n",
    "\n",
    "    res,res_group = LOSOCV(Data,X,y,groups,models)\n",
    "    res['Combination'] = comb_group\n",
    "    brady_res_all = pd.concat((brady_res_all,res))\n",
    "    results_brady.append(res_group)\n",
    "\n",
    "brady_res_all = brady_res_all.reset_index(drop=True)\n",
    "\n",
    "print('Elapsed time = %.3f min'%((time.time()-t1)/60))   "
   ]
  },
  {
   "cell_type": "code",
   "execution_count": 394,
   "metadata": {},
   "outputs": [
    {
     "name": "stdout",
     "output_type": "stream",
     "text": [
      "f: frequency\n",
      "t: time\n",
      "c: correlation\n",
      "j: jerk\n",
      "m: mag\n"
     ]
    },
    {
     "data": {
      "image/png": "[encoded data removed]",
      "text/plain": [
       "<matplotlib.figure.Figure at 0xf8700f0>"
      ]
     },
     "metadata": {},
     "output_type": "display_data"
    },
    {
     "data": {
      "text/plain": [
       "<matplotlib.figure.Figure at 0xf870c88>"
      ]
     },
     "metadata": {},
     "output_type": "display_data"
    }
   ],
   "source": [
    "groups = brady_res_all['Combination'].values\n",
    "auc_mean = []; auc_std = []\n",
    "aucdf = pd.DataFrame()\n",
    "for i in range(len(results_brady)):\n",
    "    if len(results_brady[i]['Random Forest']['auroc']) < 7:\n",
    "        L = len(results_brady[i]['Random Forest']['auroc'])\n",
    "        results_brady[i]['Random Forest']['auroc'] += (list(np.nan*np.ones(7-L)))\n",
    "    aucdf[groups[i]] = results_brady[i]['Random Forest']['auroc']   \n",
    "    brady_auc = results_brady[i]['Random Forest']['auroc']\n",
    "    auc_mean.append(np.nanmean(brady_auc)) #mean across visits\n",
    "    auc_std.append(np.nanstd(brady_auc))\n",
    "\n",
    "sns.barplot(data=aucdf)\n",
    "ax=plt.xticks(rotation=90)\n",
    "plt.ylim([0,1])\n",
    "plt.title('Effect of Feature Combinations on AUROC: Tremor')\n",
    "plt.figure(figsize=(10,20))\n",
    "print('f: frequency')\n",
    "print('t: time')\n",
    "print('c: correlation')\n",
    "print('j: jerk')\n",
    "print('m: mag')"
   ]
  },
  {
   "cell_type": "code",
   "execution_count": 395,
   "metadata": {},
   "outputs": [
    {
     "data": {
      "text/html": [
       "<div>\n",
       "<style scoped>\n",
       "    .dataframe tbody tr th:only-of-type {\n",
       "        vertical-align: middle;\n",
       "    }\n",
       "\n",
       "    .dataframe tbody tr th {\n",
       "        vertical-align: top;\n",
       "    }\n",
       "\n",
       "    .dataframe thead th {\n",
       "        text-align: right;\n",
       "    }\n",
       "</style>\n",
       "<table border=\"1\" class=\"dataframe\">\n",
       "  <thead>\n",
       "    <tr style=\"text-align: right;\">\n",
       "      <th></th>\n",
       "      <th>auprc</th>\n",
       "      <th>auroc</th>\n",
       "      <th>f1</th>\n",
       "      <th>model</th>\n",
       "      <th>Combination</th>\n",
       "    </tr>\n",
       "  </thead>\n",
       "  <tbody>\n",
       "    <tr>\n",
       "      <th>0</th>\n",
       "      <td>0.630701</td>\n",
       "      <td>0.632089</td>\n",
       "      <td>0.586916</td>\n",
       "      <td>Random Forest</td>\n",
       "      <td>f</td>\n",
       "    </tr>\n",
       "    <tr>\n",
       "      <th>1</th>\n",
       "      <td>0.656331</td>\n",
       "      <td>0.684018</td>\n",
       "      <td>0.618779</td>\n",
       "      <td>Random Forest</td>\n",
       "      <td>t</td>\n",
       "    </tr>\n",
       "    <tr>\n",
       "      <th>2</th>\n",
       "      <td>0.603255</td>\n",
       "      <td>0.604636</td>\n",
       "      <td>0.594942</td>\n",
       "      <td>Random Forest</td>\n",
       "      <td>c</td>\n",
       "    </tr>\n",
       "    <tr>\n",
       "      <th>3</th>\n",
       "      <td>0.603737</td>\n",
       "      <td>0.606584</td>\n",
       "      <td>0.588478</td>\n",
       "      <td>Random Forest</td>\n",
       "      <td>j</td>\n",
       "    </tr>\n",
       "    <tr>\n",
       "      <th>4</th>\n",
       "      <td>0.638723</td>\n",
       "      <td>0.642443</td>\n",
       "      <td>0.597445</td>\n",
       "      <td>Random Forest</td>\n",
       "      <td>m</td>\n",
       "    </tr>\n",
       "    <tr>\n",
       "      <th>5</th>\n",
       "      <td>0.647476</td>\n",
       "      <td>0.675406</td>\n",
       "      <td>0.622546</td>\n",
       "      <td>Random Forest</td>\n",
       "      <td>ft</td>\n",
       "    </tr>\n",
       "    <tr>\n",
       "      <th>6</th>\n",
       "      <td>0.606340</td>\n",
       "      <td>0.617514</td>\n",
       "      <td>0.601981</td>\n",
       "      <td>Random Forest</td>\n",
       "      <td>fc</td>\n",
       "    </tr>\n",
       "    <tr>\n",
       "      <th>7</th>\n",
       "      <td>0.634780</td>\n",
       "      <td>0.638861</td>\n",
       "      <td>0.590448</td>\n",
       "      <td>Random Forest</td>\n",
       "      <td>fj</td>\n",
       "    </tr>\n",
       "    <tr>\n",
       "      <th>8</th>\n",
       "      <td>0.646465</td>\n",
       "      <td>0.656462</td>\n",
       "      <td>0.609897</td>\n",
       "      <td>Random Forest</td>\n",
       "      <td>fm</td>\n",
       "    </tr>\n",
       "    <tr>\n",
       "      <th>9</th>\n",
       "      <td>0.651410</td>\n",
       "      <td>0.674001</td>\n",
       "      <td>0.618932</td>\n",
       "      <td>Random Forest</td>\n",
       "      <td>tc</td>\n",
       "    </tr>\n",
       "    <tr>\n",
       "      <th>10</th>\n",
       "      <td>0.653372</td>\n",
       "      <td>0.676055</td>\n",
       "      <td>0.621204</td>\n",
       "      <td>Random Forest</td>\n",
       "      <td>tj</td>\n",
       "    </tr>\n",
       "    <tr>\n",
       "      <th>11</th>\n",
       "      <td>0.657556</td>\n",
       "      <td>0.687855</td>\n",
       "      <td>0.619527</td>\n",
       "      <td>Random Forest</td>\n",
       "      <td>tm</td>\n",
       "    </tr>\n",
       "    <tr>\n",
       "      <th>12</th>\n",
       "      <td>0.616419</td>\n",
       "      <td>0.621030</td>\n",
       "      <td>0.596141</td>\n",
       "      <td>Random Forest</td>\n",
       "      <td>cj</td>\n",
       "    </tr>\n",
       "    <tr>\n",
       "      <th>13</th>\n",
       "      <td>0.634233</td>\n",
       "      <td>0.651232</td>\n",
       "      <td>0.613712</td>\n",
       "      <td>Random Forest</td>\n",
       "      <td>cm</td>\n",
       "    </tr>\n",
       "    <tr>\n",
       "      <th>14</th>\n",
       "      <td>0.649421</td>\n",
       "      <td>0.658655</td>\n",
       "      <td>0.602778</td>\n",
       "      <td>Random Forest</td>\n",
       "      <td>jm</td>\n",
       "    </tr>\n",
       "    <tr>\n",
       "      <th>15</th>\n",
       "      <td>0.647492</td>\n",
       "      <td>0.666358</td>\n",
       "      <td>0.618111</td>\n",
       "      <td>Random Forest</td>\n",
       "      <td>ftc</td>\n",
       "    </tr>\n",
       "    <tr>\n",
       "      <th>16</th>\n",
       "      <td>0.653243</td>\n",
       "      <td>0.675837</td>\n",
       "      <td>0.628193</td>\n",
       "      <td>Random Forest</td>\n",
       "      <td>ftj</td>\n",
       "    </tr>\n",
       "    <tr>\n",
       "      <th>17</th>\n",
       "      <td>0.652899</td>\n",
       "      <td>0.677602</td>\n",
       "      <td>0.620824</td>\n",
       "      <td>Random Forest</td>\n",
       "      <td>ftm</td>\n",
       "    </tr>\n",
       "    <tr>\n",
       "      <th>18</th>\n",
       "      <td>0.616324</td>\n",
       "      <td>0.628197</td>\n",
       "      <td>0.603566</td>\n",
       "      <td>Random Forest</td>\n",
       "      <td>fcj</td>\n",
       "    </tr>\n",
       "    <tr>\n",
       "      <th>19</th>\n",
       "      <td>0.621374</td>\n",
       "      <td>0.634911</td>\n",
       "      <td>0.608294</td>\n",
       "      <td>Random Forest</td>\n",
       "      <td>fcm</td>\n",
       "    </tr>\n",
       "    <tr>\n",
       "      <th>20</th>\n",
       "      <td>0.645756</td>\n",
       "      <td>0.654898</td>\n",
       "      <td>0.607726</td>\n",
       "      <td>Random Forest</td>\n",
       "      <td>fjm</td>\n",
       "    </tr>\n",
       "    <tr>\n",
       "      <th>21</th>\n",
       "      <td>0.649209</td>\n",
       "      <td>0.669298</td>\n",
       "      <td>0.617552</td>\n",
       "      <td>Random Forest</td>\n",
       "      <td>tcj</td>\n",
       "    </tr>\n",
       "    <tr>\n",
       "      <th>22</th>\n",
       "      <td>0.651242</td>\n",
       "      <td>0.674937</td>\n",
       "      <td>0.612034</td>\n",
       "      <td>Random Forest</td>\n",
       "      <td>tcm</td>\n",
       "    </tr>\n",
       "    <tr>\n",
       "      <th>23</th>\n",
       "      <td>0.662842</td>\n",
       "      <td>0.692116</td>\n",
       "      <td>0.628070</td>\n",
       "      <td>Random Forest</td>\n",
       "      <td>tjm</td>\n",
       "    </tr>\n",
       "    <tr>\n",
       "      <th>24</th>\n",
       "      <td>0.638354</td>\n",
       "      <td>0.647942</td>\n",
       "      <td>0.604963</td>\n",
       "      <td>Random Forest</td>\n",
       "      <td>cjm</td>\n",
       "    </tr>\n",
       "    <tr>\n",
       "      <th>25</th>\n",
       "      <td>0.651619</td>\n",
       "      <td>0.673462</td>\n",
       "      <td>0.619736</td>\n",
       "      <td>Random Forest</td>\n",
       "      <td>ftcj</td>\n",
       "    </tr>\n",
       "    <tr>\n",
       "      <th>26</th>\n",
       "      <td>0.650983</td>\n",
       "      <td>0.672055</td>\n",
       "      <td>0.623586</td>\n",
       "      <td>Random Forest</td>\n",
       "      <td>ftcm</td>\n",
       "    </tr>\n",
       "    <tr>\n",
       "      <th>27</th>\n",
       "      <td>0.660976</td>\n",
       "      <td>0.688470</td>\n",
       "      <td>0.626864</td>\n",
       "      <td>Random Forest</td>\n",
       "      <td>ftjm</td>\n",
       "    </tr>\n",
       "    <tr>\n",
       "      <th>28</th>\n",
       "      <td>0.631926</td>\n",
       "      <td>0.645964</td>\n",
       "      <td>0.612164</td>\n",
       "      <td>Random Forest</td>\n",
       "      <td>fcjm</td>\n",
       "    </tr>\n",
       "    <tr>\n",
       "      <th>29</th>\n",
       "      <td>0.657451</td>\n",
       "      <td>0.681978</td>\n",
       "      <td>0.622721</td>\n",
       "      <td>Random Forest</td>\n",
       "      <td>tcjm</td>\n",
       "    </tr>\n",
       "    <tr>\n",
       "      <th>30</th>\n",
       "      <td>0.660394</td>\n",
       "      <td>0.682102</td>\n",
       "      <td>0.621415</td>\n",
       "      <td>Random Forest</td>\n",
       "      <td>ftcjm</td>\n",
       "    </tr>\n",
       "  </tbody>\n",
       "</table>\n",
       "</div>"
      ],
      "text/plain": [
       "       auprc     auroc        f1          model Combination\n",
       "0   0.630701  0.632089  0.586916  Random Forest           f\n",
       "1   0.656331  0.684018  0.618779  Random Forest           t\n",
       "2   0.603255  0.604636  0.594942  Random Forest           c\n",
       "3   0.603737  0.606584  0.588478  Random Forest           j\n",
       "4   0.638723  0.642443  0.597445  Random Forest           m\n",
       "5   0.647476  0.675406  0.622546  Random Forest          ft\n",
       "6   0.606340  0.617514  0.601981  Random Forest          fc\n",
       "7   0.634780  0.638861  0.590448  Random Forest          fj\n",
       "8   0.646465  0.656462  0.609897  Random Forest          fm\n",
       "9   0.651410  0.674001  0.618932  Random Forest          tc\n",
       "10  0.653372  0.676055  0.621204  Random Forest          tj\n",
       "11  0.657556  0.687855  0.619527  Random Forest          tm\n",
       "12  0.616419  0.621030  0.596141  Random Forest          cj\n",
       "13  0.634233  0.651232  0.613712  Random Forest          cm\n",
       "14  0.649421  0.658655  0.602778  Random Forest          jm\n",
       "15  0.647492  0.666358  0.618111  Random Forest         ftc\n",
       "16  0.653243  0.675837  0.628193  Random Forest         ftj\n",
       "17  0.652899  0.677602  0.620824  Random Forest         ftm\n",
       "18  0.616324  0.628197  0.603566  Random Forest         fcj\n",
       "19  0.621374  0.634911  0.608294  Random Forest         fcm\n",
       "20  0.645756  0.654898  0.607726  Random Forest         fjm\n",
       "21  0.649209  0.669298  0.617552  Random Forest         tcj\n",
       "22  0.651242  0.674937  0.612034  Random Forest         tcm\n",
       "23  0.662842  0.692116  0.628070  Random Forest         tjm\n",
       "24  0.638354  0.647942  0.604963  Random Forest         cjm\n",
       "25  0.651619  0.673462  0.619736  Random Forest        ftcj\n",
       "26  0.650983  0.672055  0.623586  Random Forest        ftcm\n",
       "27  0.660976  0.688470  0.626864  Random Forest        ftjm\n",
       "28  0.631926  0.645964  0.612164  Random Forest        fcjm\n",
       "29  0.657451  0.681978  0.622721  Random Forest        tcjm\n",
       "30  0.660394  0.682102  0.621415  Random Forest       ftcjm"
      ]
     },
     "execution_count": 395,
     "metadata": {},
     "output_type": "execute_result"
    }
   ],
   "source": [
    "brady_res_all"
   ]
  },
  {
   "cell_type": "code",
   "execution_count": 399,
   "metadata": {},
   "outputs": [
    {
     "name": "stdout",
     "output_type": "stream",
     "text": [
      "t, f\n",
      "Ttest_relResult(statistic=2.6028692494911065, pvalue=0.023103384581561356)\n",
      "t, c\n",
      "Ttest_relResult(statistic=4.613935279434423, pvalue=0.0005964012838987744)\n",
      "t, j\n",
      "Ttest_relResult(statistic=3.715166318015009, pvalue=0.0029528158425049526)\n",
      "t, m\n",
      "Ttest_relResult(statistic=2.4779628117665853, pvalue=0.029066385231013094)\n",
      "t, ftcjm\n",
      "Ttest_relResult(statistic=0.30640699303426594, pvalue=0.7645460305972742)\n"
     ]
    }
   ],
   "source": [
    "x = results_brady[1]['Random Forest']['auroc']\n",
    "for featgroup in [0,2,3,4,30]:\n",
    "    print('t, %s'%brady_res_all.iloc[featgroup]['Combination'])\n",
    "    y = results_brady[featgroup]['Random Forest']['auroc']\n",
    "    print(stats.ttest_rel(x,y))"
   ]
  },
  {
   "cell_type": "code",
   "execution_count": null,
   "metadata": {},
   "outputs": [],
   "source": []
  }
 ],
 "metadata": {
  "kernelspec": {
   "display_name": "Python 3",
   "language": "python",
   "name": "python3"
  }
 },
 "nbformat": 4,
 "nbformat_minor": 2
}
