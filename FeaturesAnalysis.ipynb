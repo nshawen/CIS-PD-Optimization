{
 "cells": [
  {
   "cell_type": "code",
   "execution_count": 1,
   "metadata": {},
   "outputs": [],
   "source": [
    "import os\n",
    "import platform\n",
    "import numpy as np\n",
    "import pandas as pd\n",
    "import seaborn as sns\n",
    "import matplotlib.pyplot as plt\n",
    "import datetime as dt\n",
    "import time\n",
    "import math\n",
    "import pathlib\n",
    "import pickle\n",
    "from itertools import combinations\n",
    "from scipy.stats import skew, kurtosis, wilcoxon\n",
    "from scipy.signal import butter, welch, filtfilt, resample\n",
    "from scipy import stats\n",
    "\n",
    "from sklearn import metrics, neighbors, linear_model, preprocessing, svm\n",
    "from sklearn.metrics import confusion_matrix, auc, f1_score, roc_curve, roc_auc_score, precision_score, recall_score, precision_recall_curve\n",
    "from sklearn.neighbors import KNeighborsClassifier\n",
    "from sklearn.linear_model import ElasticNetCV, LogisticRegression\n",
    "from sklearn.preprocessing import LabelEncoder, StandardScaler\n",
    "from sklearn.model_selection import train_test_split, LeaveOneGroupOut, KFold, StratifiedKFold,cross_val_score,GridSearchCV\n",
    "from sklearn.ensemble import RandomForestClassifier, RandomForestRegressor\n",
    "from sklearn.svm import SVC\n",
    "from PreprocessFcns import *\n",
    "\n",
    "from mpl_toolkits.mplot3d import Axes3D\n",
    "%matplotlib inline\n",
    "\n",
    "sns.set_context('talk',font_scale=1)"
   ]
  },
  {
   "cell_type": "code",
   "execution_count": 52,
   "metadata": {},
   "outputs": [],
   "source": [
    "def LOSOCV(Data,X,y,groups,models,LOin=0):\n",
    "\n",
    "    subj = LeaveOneGroupOut() \n",
    "    results = pd.DataFrame(data=None,columns=['model','f1','auprc','auroc'])\n",
    "    groupres = {} #results on each group for each model\n",
    "\n",
    "\n",
    "    #train multiple classifiers\n",
    "    for m in models:\n",
    "        acc_all=[]; acc_train=[] \n",
    "        f1_test_all=[]; prec_all=[]; rec_all=[]; spec_all=[]; auprc_all=[]; auroc_train_all=[]; \n",
    "        auroc_all=[]; fpr_all=[]; tpr_all=[]; fi_all=[]\n",
    "\n",
    "        clf = m[0]; model_name = m[1]            \n",
    "        print('Training %s'%model_name)\n",
    "        s = 0\n",
    "        #LOSO CV for current classifier\n",
    "        for train_index, test_index in subj.split(X, y, groups):\n",
    "        #leave one in:\n",
    "            if LOin:\n",
    "                tridx = train_index.copy()\n",
    "                train_index = test_index.copy()\n",
    "                test_index = tridx\n",
    "            Xtr, Xte = X[train_index], X[test_index]\n",
    "            ytr, yte = y[train_index], y[test_index]\n",
    "            if len(np.unique(ytr))<2: #skip if no positive or negative examples are available for training\n",
    "                #print('only 1 class available in train data - skipping')\n",
    "                continue\n",
    "            clf.fit(Xtr,ytr)\n",
    "            ypred = clf.predict(Xte)\n",
    "            yscore = clf.predict_proba(Xte)\n",
    "            yscore = yscore[:,1]\n",
    "            \n",
    "            #accuracy on train set\n",
    "            ypred_train = clf.predict(Xtr)\n",
    "            acc_train.append(sum(ypred_train==ytr)/len(ytr))\n",
    "            auroc_train = roc_auc_score(ytr,clf.predict_proba(Xtr)[:,1])\n",
    "            \n",
    "            #f1-score, prec, recall, specificity, auprc, auroc\n",
    "            f1_test_all.append(f1_score(yte,ypred))\n",
    "            precision, recall, _ = precision_recall_curve(yte,yscore)\n",
    "            auprc = auc(recall,precision)\n",
    "            if len(np.unique(yte))>1:\n",
    "                auroc = roc_auc_score(yte,yscore)\n",
    "            else:\n",
    "                #print('only 1 class in test data - cannot compute roc curve')\n",
    "                auroc = np.nan\n",
    "            spec = sum((ypred==0) & (yte==0))/sum(yte==0)\n",
    "\n",
    "\n",
    "            prec_all.append(precision_score(yte,ypred))\n",
    "            rec_all.append(recall_score(yte,ypred))\n",
    "            auprc_all.append(auprc)\n",
    "            auroc_all.append(auroc)\n",
    "            auroc_train_all.append(auroc_train)\n",
    "            spec_all.append(spec)\n",
    "\n",
    "            fpr=np.linspace(0,1,101); tpr=[]\n",
    "\n",
    "            if len(np.unique(yte))>1:                \n",
    "                nscores = np.sort(np.column_stack((yscore[yte==0],yte[yte==0])),axis=0)\n",
    "                neg_counts = sum(yte==0)\n",
    "                for f in fpr:\n",
    "                    ind = neg_counts-int(neg_counts*f)-1\n",
    "                    t = (nscores[ind])[0]\n",
    "                    if f==1:\n",
    "                        t = 0\n",
    "                    tpr_t = sum(yscore[yte==1]>t) / sum(yte==1)\n",
    "                    tpr.append(tpr_t) \n",
    "\n",
    "            fpr = np.asarray(fpr); tpr = np.asarray(tpr)\n",
    "            fpr_all.append(fpr); tpr_all.append(tpr)\n",
    "            \n",
    "            #store feature importance\n",
    "            if model_name != 'SVM':\n",
    "                fi_all.append(clf.feature_importances_)\n",
    "            \n",
    "            #print('\\nSubj/Visit %d,prec=%.3f,rec=%.3f,Spec=%.3f,auroc_train=%.3f,auroc=%.3f'%(s,precision_score(yte,ypred),recall_score(yte,ypred),spec,auroc_train,auroc))\n",
    "            s+=1\n",
    "\n",
    "        #print('f1_test=%.3f+/-%.3f, prec=%.3f+/-%.3f, rec=%.3f+/-%.3f, auprc=%.3f+/-%.3f, auroc=%.3f+/-%.3f'%(\n",
    "        #np.nanmean(f1_test_all),np.nanstd(f1_test_all),\n",
    "        #np.nanmean(prec_all),np.nanstd(prec_all), np.nanmean(rec_all),np.nanstd(rec_all),\n",
    "        #np.nanmean(auprc_all),np.nanstd(auprc_all), np.nanmean(auroc_all),np.nanstd(auroc_all)))\n",
    "        \n",
    "        #group results for each model\n",
    "        groupres[model_name] = {'f1':f1_test_all, 'auprc':auprc_all, 'auroc':auroc_all, 'tpr':tpr_all, 'fpr':fpr_all, \n",
    "                                'rec':rec_all, 'spec':spec_all, 'fi':fi_all}\n",
    "        \n",
    "        #mean across groups for each model\n",
    "        r = pd.DataFrame({'model':model_name, 'f1':np.nanmean(f1_test_all), 'auprc':np.nanmean(auprc_all), \n",
    "                          'auroc':np.nanmean(auroc_all)},index=[0])\n",
    "        results = pd.concat((results,r))\n",
    "        \n",
    "    return results,groupres \n",
    "\n",
    "\n",
    "\n",
    "\n",
    "def LOSOMultiClass(Data,X,y,groups,model,LOin=0):\n",
    "\n",
    "    subj = LeaveOneGroupOut() \n",
    "    results = pd.DataFrame(data=None,columns=['model','RMS'])\n",
    "    groupres = {} #results on each group for each model\n",
    "    \n",
    "    acc_all=[]; acc_train=[] \n",
    "    f1_test_all=[]; prec_all=[]; rec_all=[]; spec_all=[]; auprc_all=[]; auroc_train_all=[]; \n",
    "    auroc_all=[]; fpr_all=[]; tpr_all=[]; fi_all=[]\n",
    "    RMS_all = []\n",
    "    \n",
    "    clf = model[0][0]; model_name = model[0][1]          \n",
    "    print('Training %s'%model_name)\n",
    "    s = 0\n",
    "    #LOSO CV for current classifier\n",
    "    for train_index, test_index in subj.split(X, y, groups):\n",
    "    #leave one in:\n",
    "        if LOin:\n",
    "            tridx = train_index.copy()\n",
    "            train_index = test_index.copy()\n",
    "            test_index = tridx\n",
    "        Xtr, Xte = X[train_index], X[test_index]\n",
    "        ytr, yte = y[train_index], y[test_index]\n",
    "        if len(np.unique(ytr))<2: #skip if no positive or negative examples are available for training\n",
    "            #print('only 1 class available in train data - skipping')\n",
    "            continue\n",
    "        clf.fit(Xtr,ytr)\n",
    "        ypred = clf.predict(Xte)\n",
    "        \n",
    "        RMS=0\n",
    "        for yp,yt in zip(ypred,y):\n",
    "            RMS += ((yp - yt)**2)\n",
    "        RMS = RMS / len(y)\n",
    "        RMS = math.sqrt(RMS)\n",
    "        \n",
    "        RMS_all.append(RMS)\n",
    "        \n",
    "        groupres[model_name] = {'RMS':RMS_all}\n",
    "        \n",
    "        r = pd.DataFrame({'model':model_name, 'RMS':np.nanmean(RMS_all)},index=[0])\n",
    "        results = pd.concat((results,r))\n",
    "        \n",
    "    return results, groupres"
   ]
  },
  {
   "cell_type": "code",
   "execution_count": 72,
   "metadata": {},
   "outputs": [],
   "source": [
    "info = ['Subject','Visit','Task','Bradykinesia','Tremor']\n",
    "\n",
    "featdict = {'freq':['Dom_freq','Pdom_rel','PSD_mean','PSD_std','PSD_skew','PSD_kur'],\n",
    "            'time':['RMSX','RMSY','RMSZ','rangeX','rangeY','rangeZ','meanX','meanY','meanZ','varX','varY','varZ','skewX','skewY','skewZ','kurtX','kurtY','kurtZ','Sen_X','Sen_Y','Sen_Z'],\n",
    "            'corr':['xcorr_peakXZ','xcorr_peakYZ','xcor_peakXY','xcorr_lagXZ','xcorr_lagYZ','xcorr_lagXY'],\n",
    "            'jerk':['jerk_mean','jerk_std','jerk_skew','jerk_kur'],\n",
    "            'mag' :['RMS_mag','range_mag','mean_mag','var_mag','skew_mag','kurt_mag','Sen_mag']}\n",
    "\n",
    "def fix_feature_names(features):\n",
    "    feats = features.copy()\n",
    "    if feats[0][-3:] != 'acc':\n",
    "        featlen = len(feats)\n",
    "        for f in range(featlen):\n",
    "            feats.append(feats[f] + ' gyr')\n",
    "        for f in range(featlen):\n",
    "            feats[f] = feats[f] + ' acc'\n",
    "    return feats\n",
    "\n",
    "featdictsensors = {}\n",
    "\n",
    "for featgroup in featdict.keys():\n",
    "    feats = fix_feature_names(featdict[featgroup])\n",
    "    featdictsensors[featgroup] = feats"
   ]
  },
  {
   "cell_type": "code",
   "execution_count": 73,
   "metadata": {},
   "outputs": [
    {
     "data": {
      "text/plain": [
       "[['freq'],\n",
       " ['time'],\n",
       " ['corr'],\n",
       " ['jerk'],\n",
       " ['mag'],\n",
       " ['freq', 'time'],\n",
       " ['freq', 'corr'],\n",
       " ['freq', 'jerk'],\n",
       " ['freq', 'mag'],\n",
       " ['time', 'corr'],\n",
       " ['time', 'jerk'],\n",
       " ['time', 'mag'],\n",
       " ['corr', 'jerk'],\n",
       " ['corr', 'mag'],\n",
       " ['jerk', 'mag'],\n",
       " ['freq', 'time', 'corr'],\n",
       " ['freq', 'time', 'jerk'],\n",
       " ['freq', 'time', 'mag'],\n",
       " ['freq', 'corr', 'jerk'],\n",
       " ['freq', 'corr', 'mag'],\n",
       " ['freq', 'jerk', 'mag'],\n",
       " ['time', 'corr', 'jerk'],\n",
       " ['time', 'corr', 'mag'],\n",
       " ['time', 'jerk', 'mag'],\n",
       " ['corr', 'jerk', 'mag'],\n",
       " ['freq', 'time', 'corr', 'jerk'],\n",
       " ['freq', 'time', 'corr', 'mag'],\n",
       " ['freq', 'time', 'jerk', 'mag'],\n",
       " ['freq', 'corr', 'jerk', 'mag'],\n",
       " ['time', 'corr', 'jerk', 'mag'],\n",
       " ['freq', 'time', 'corr', 'jerk', 'mag']]"
      ]
     },
     "execution_count": 73,
     "metadata": {},
     "output_type": "execute_result"
    }
   ],
   "source": [
    "lst = featdict.keys()\n",
    "combs = []\n",
    "for i in range(len(lst)):\n",
    "    els = [list(x) for x in combinations(lst, i+1)]\n",
    "    combs.extend(els)\n",
    "\n",
    "combs"
   ]
  },
  {
   "cell_type": "code",
   "execution_count": 106,
   "metadata": {
    "scrolled": true
   },
   "outputs": [
    {
     "name": "stdout",
     "output_type": "stream",
     "text": [
      "Training Random Forest\n"
     ]
    },
    {
     "name": "stderr",
     "output_type": "stream",
     "text": [
      "C:\\Users\\Public\\Documents\\Anaconda\\lib\\site-packages\\sklearn\\metrics\\classification.py:1137: UndefinedMetricWarning: F-score is ill-defined and being set to 0.0 due to no true samples.\n",
      "  'recall', 'true', average, warn_for)\n",
      "C:\\Users\\Public\\Documents\\Anaconda\\lib\\site-packages\\sklearn\\metrics\\ranking.py:444: RuntimeWarning: invalid value encountered in true_divide\n",
      "  recall = tps / tps[-1]\n",
      "C:\\Users\\Public\\Documents\\Anaconda\\lib\\site-packages\\sklearn\\metrics\\ranking.py:94: RuntimeWarning: invalid value encountered in less\n",
      "  if np.any(dx < 0):\n",
      "C:\\Users\\Public\\Documents\\Anaconda\\lib\\site-packages\\sklearn\\metrics\\classification.py:1137: UndefinedMetricWarning: Recall is ill-defined and being set to 0.0 due to no true samples.\n",
      "  'recall', 'true', average, warn_for)\n"
     ]
    },
    {
     "name": "stdout",
     "output_type": "stream",
     "text": [
      "Training Random Forest\n",
      "Training Random Forest\n",
      "Training Random Forest\n"
     ]
    },
    {
     "name": "stderr",
     "output_type": "stream",
     "text": [
      "C:\\Users\\Public\\Documents\\Anaconda\\lib\\site-packages\\sklearn\\metrics\\classification.py:1137: UndefinedMetricWarning: F-score is ill-defined and being set to 0.0 due to no true samples.\n",
      "  'recall', 'true', average, warn_for)\n",
      "C:\\Users\\Public\\Documents\\Anaconda\\lib\\site-packages\\sklearn\\metrics\\ranking.py:444: RuntimeWarning: invalid value encountered in true_divide\n",
      "  recall = tps / tps[-1]\n",
      "C:\\Users\\Public\\Documents\\Anaconda\\lib\\site-packages\\sklearn\\metrics\\ranking.py:94: RuntimeWarning: invalid value encountered in less\n",
      "  if np.any(dx < 0):\n",
      "C:\\Users\\Public\\Documents\\Anaconda\\lib\\site-packages\\sklearn\\metrics\\classification.py:1137: UndefinedMetricWarning: Recall is ill-defined and being set to 0.0 due to no true samples.\n",
      "  'recall', 'true', average, warn_for)\n"
     ]
    },
    {
     "name": "stdout",
     "output_type": "stream",
     "text": [
      "Training Random Forest\n",
      "Training Random Forest\n",
      "Training Random Forest\n"
     ]
    },
    {
     "name": "stderr",
     "output_type": "stream",
     "text": [
      "C:\\Users\\Public\\Documents\\Anaconda\\lib\\site-packages\\sklearn\\metrics\\classification.py:1137: UndefinedMetricWarning: F-score is ill-defined and being set to 0.0 due to no true samples.\n",
      "  'recall', 'true', average, warn_for)\n",
      "C:\\Users\\Public\\Documents\\Anaconda\\lib\\site-packages\\sklearn\\metrics\\ranking.py:444: RuntimeWarning: invalid value encountered in true_divide\n",
      "  recall = tps / tps[-1]\n",
      "C:\\Users\\Public\\Documents\\Anaconda\\lib\\site-packages\\sklearn\\metrics\\ranking.py:94: RuntimeWarning: invalid value encountered in less\n",
      "  if np.any(dx < 0):\n",
      "C:\\Users\\Public\\Documents\\Anaconda\\lib\\site-packages\\sklearn\\metrics\\classification.py:1137: UndefinedMetricWarning: Recall is ill-defined and being set to 0.0 due to no true samples.\n",
      "  'recall', 'true', average, warn_for)\n"
     ]
    },
    {
     "name": "stdout",
     "output_type": "stream",
     "text": [
      "Training Random Forest\n",
      "Training Random Forest\n",
      "Training Random Forest\n"
     ]
    },
    {
     "name": "stderr",
     "output_type": "stream",
     "text": [
      "C:\\Users\\Public\\Documents\\Anaconda\\lib\\site-packages\\sklearn\\metrics\\classification.py:1137: UndefinedMetricWarning: F-score is ill-defined and being set to 0.0 due to no true samples.\n",
      "  'recall', 'true', average, warn_for)\n",
      "C:\\Users\\Public\\Documents\\Anaconda\\lib\\site-packages\\sklearn\\metrics\\ranking.py:444: RuntimeWarning: invalid value encountered in true_divide\n",
      "  recall = tps / tps[-1]\n",
      "C:\\Users\\Public\\Documents\\Anaconda\\lib\\site-packages\\sklearn\\metrics\\ranking.py:94: RuntimeWarning: invalid value encountered in less\n",
      "  if np.any(dx < 0):\n",
      "C:\\Users\\Public\\Documents\\Anaconda\\lib\\site-packages\\sklearn\\metrics\\classification.py:1137: UndefinedMetricWarning: Recall is ill-defined and being set to 0.0 due to no true samples.\n",
      "  'recall', 'true', average, warn_for)\n"
     ]
    },
    {
     "name": "stdout",
     "output_type": "stream",
     "text": [
      "Training Random Forest\n",
      "Training Random Forest\n",
      "Training Random Forest\n"
     ]
    },
    {
     "name": "stderr",
     "output_type": "stream",
     "text": [
      "C:\\Users\\Public\\Documents\\Anaconda\\lib\\site-packages\\sklearn\\metrics\\classification.py:1137: UndefinedMetricWarning: F-score is ill-defined and being set to 0.0 due to no true samples.\n",
      "  'recall', 'true', average, warn_for)\n",
      "C:\\Users\\Public\\Documents\\Anaconda\\lib\\site-packages\\sklearn\\metrics\\ranking.py:444: RuntimeWarning: invalid value encountered in true_divide\n",
      "  recall = tps / tps[-1]\n",
      "C:\\Users\\Public\\Documents\\Anaconda\\lib\\site-packages\\sklearn\\metrics\\ranking.py:94: RuntimeWarning: invalid value encountered in less\n",
      "  if np.any(dx < 0):\n",
      "C:\\Users\\Public\\Documents\\Anaconda\\lib\\site-packages\\sklearn\\metrics\\classification.py:1137: UndefinedMetricWarning: Recall is ill-defined and being set to 0.0 due to no true samples.\n",
      "  'recall', 'true', average, warn_for)\n"
     ]
    },
    {
     "name": "stdout",
     "output_type": "stream",
     "text": [
      "Training Random Forest\n",
      "Training Random Forest\n",
      "Training Random Forest\n"
     ]
    },
    {
     "name": "stderr",
     "output_type": "stream",
     "text": [
      "C:\\Users\\Public\\Documents\\Anaconda\\lib\\site-packages\\sklearn\\metrics\\classification.py:1137: UndefinedMetricWarning: F-score is ill-defined and being set to 0.0 due to no true samples.\n",
      "  'recall', 'true', average, warn_for)\n",
      "C:\\Users\\Public\\Documents\\Anaconda\\lib\\site-packages\\sklearn\\metrics\\ranking.py:444: RuntimeWarning: invalid value encountered in true_divide\n",
      "  recall = tps / tps[-1]\n",
      "C:\\Users\\Public\\Documents\\Anaconda\\lib\\site-packages\\sklearn\\metrics\\ranking.py:94: RuntimeWarning: invalid value encountered in less\n",
      "  if np.any(dx < 0):\n",
      "C:\\Users\\Public\\Documents\\Anaconda\\lib\\site-packages\\sklearn\\metrics\\classification.py:1137: UndefinedMetricWarning: Recall is ill-defined and being set to 0.0 due to no true samples.\n",
      "  'recall', 'true', average, warn_for)\n"
     ]
    },
    {
     "name": "stdout",
     "output_type": "stream",
     "text": [
      "Training Random Forest\n",
      "Training Random Forest\n",
      "Training Random Forest\n"
     ]
    },
    {
     "name": "stderr",
     "output_type": "stream",
     "text": [
      "C:\\Users\\Public\\Documents\\Anaconda\\lib\\site-packages\\sklearn\\metrics\\classification.py:1137: UndefinedMetricWarning: F-score is ill-defined and being set to 0.0 due to no true samples.\n",
      "  'recall', 'true', average, warn_for)\n",
      "C:\\Users\\Public\\Documents\\Anaconda\\lib\\site-packages\\sklearn\\metrics\\ranking.py:444: RuntimeWarning: invalid value encountered in true_divide\n",
      "  recall = tps / tps[-1]\n",
      "C:\\Users\\Public\\Documents\\Anaconda\\lib\\site-packages\\sklearn\\metrics\\ranking.py:94: RuntimeWarning: invalid value encountered in less\n",
      "  if np.any(dx < 0):\n",
      "C:\\Users\\Public\\Documents\\Anaconda\\lib\\site-packages\\sklearn\\metrics\\classification.py:1137: UndefinedMetricWarning: Recall is ill-defined and being set to 0.0 due to no true samples.\n",
      "  'recall', 'true', average, warn_for)\n"
     ]
    },
    {
     "name": "stdout",
     "output_type": "stream",
     "text": [
      "Training Random Forest\n",
      "Training Random Forest\n",
      "Training Random Forest\n"
     ]
    },
    {
     "name": "stderr",
     "output_type": "stream",
     "text": [
      "C:\\Users\\Public\\Documents\\Anaconda\\lib\\site-packages\\sklearn\\metrics\\classification.py:1137: UndefinedMetricWarning: F-score is ill-defined and being set to 0.0 due to no true samples.\n",
      "  'recall', 'true', average, warn_for)\n",
      "C:\\Users\\Public\\Documents\\Anaconda\\lib\\site-packages\\sklearn\\metrics\\ranking.py:444: RuntimeWarning: invalid value encountered in true_divide\n",
      "  recall = tps / tps[-1]\n",
      "C:\\Users\\Public\\Documents\\Anaconda\\lib\\site-packages\\sklearn\\metrics\\ranking.py:94: RuntimeWarning: invalid value encountered in less\n",
      "  if np.any(dx < 0):\n",
      "C:\\Users\\Public\\Documents\\Anaconda\\lib\\site-packages\\sklearn\\metrics\\classification.py:1137: UndefinedMetricWarning: Recall is ill-defined and being set to 0.0 due to no true samples.\n",
      "  'recall', 'true', average, warn_for)\n"
     ]
    },
    {
     "name": "stdout",
     "output_type": "stream",
     "text": [
      "Training Random Forest\n",
      "Training Random Forest\n",
      "Training Random Forest\n"
     ]
    },
    {
     "name": "stderr",
     "output_type": "stream",
     "text": [
      "C:\\Users\\Public\\Documents\\Anaconda\\lib\\site-packages\\sklearn\\metrics\\classification.py:1137: UndefinedMetricWarning: F-score is ill-defined and being set to 0.0 due to no true samples.\n",
      "  'recall', 'true', average, warn_for)\n",
      "C:\\Users\\Public\\Documents\\Anaconda\\lib\\site-packages\\sklearn\\metrics\\ranking.py:444: RuntimeWarning: invalid value encountered in true_divide\n",
      "  recall = tps / tps[-1]\n",
      "C:\\Users\\Public\\Documents\\Anaconda\\lib\\site-packages\\sklearn\\metrics\\ranking.py:94: RuntimeWarning: invalid value encountered in less\n",
      "  if np.any(dx < 0):\n",
      "C:\\Users\\Public\\Documents\\Anaconda\\lib\\site-packages\\sklearn\\metrics\\classification.py:1137: UndefinedMetricWarning: Recall is ill-defined and being set to 0.0 due to no true samples.\n",
      "  'recall', 'true', average, warn_for)\n"
     ]
    },
    {
     "name": "stdout",
     "output_type": "stream",
     "text": [
      "Training Random Forest\n",
      "Training Random Forest\n",
      "Training Random Forest\n"
     ]
    },
    {
     "name": "stderr",
     "output_type": "stream",
     "text": [
      "C:\\Users\\Public\\Documents\\Anaconda\\lib\\site-packages\\sklearn\\metrics\\classification.py:1137: UndefinedMetricWarning: F-score is ill-defined and being set to 0.0 due to no true samples.\n",
      "  'recall', 'true', average, warn_for)\n",
      "C:\\Users\\Public\\Documents\\Anaconda\\lib\\site-packages\\sklearn\\metrics\\ranking.py:444: RuntimeWarning: invalid value encountered in true_divide\n",
      "  recall = tps / tps[-1]\n",
      "C:\\Users\\Public\\Documents\\Anaconda\\lib\\site-packages\\sklearn\\metrics\\ranking.py:94: RuntimeWarning: invalid value encountered in less\n",
      "  if np.any(dx < 0):\n",
      "C:\\Users\\Public\\Documents\\Anaconda\\lib\\site-packages\\sklearn\\metrics\\classification.py:1137: UndefinedMetricWarning: Recall is ill-defined and being set to 0.0 due to no true samples.\n",
      "  'recall', 'true', average, warn_for)\n"
     ]
    },
    {
     "name": "stdout",
     "output_type": "stream",
     "text": [
      "Training Random Forest\n",
      "Training Random Forest\n",
      "Training Random Forest\n"
     ]
    },
    {
     "name": "stderr",
     "output_type": "stream",
     "text": [
      "C:\\Users\\Public\\Documents\\Anaconda\\lib\\site-packages\\sklearn\\metrics\\classification.py:1137: UndefinedMetricWarning: F-score is ill-defined and being set to 0.0 due to no true samples.\n",
      "  'recall', 'true', average, warn_for)\n",
      "C:\\Users\\Public\\Documents\\Anaconda\\lib\\site-packages\\sklearn\\metrics\\ranking.py:444: RuntimeWarning: invalid value encountered in true_divide\n",
      "  recall = tps / tps[-1]\n",
      "C:\\Users\\Public\\Documents\\Anaconda\\lib\\site-packages\\sklearn\\metrics\\ranking.py:94: RuntimeWarning: invalid value encountered in less\n",
      "  if np.any(dx < 0):\n",
      "C:\\Users\\Public\\Documents\\Anaconda\\lib\\site-packages\\sklearn\\metrics\\classification.py:1137: UndefinedMetricWarning: Recall is ill-defined and being set to 0.0 due to no true samples.\n",
      "  'recall', 'true', average, warn_for)\n"
     ]
    },
    {
     "name": "stdout",
     "output_type": "stream",
     "text": [
      "Training Random Forest\n",
      "Training Random Forest\n",
      "Training Random Forest\n"
     ]
    },
    {
     "name": "stderr",
     "output_type": "stream",
     "text": [
      "C:\\Users\\Public\\Documents\\Anaconda\\lib\\site-packages\\sklearn\\metrics\\classification.py:1137: UndefinedMetricWarning: F-score is ill-defined and being set to 0.0 due to no true samples.\n",
      "  'recall', 'true', average, warn_for)\n",
      "C:\\Users\\Public\\Documents\\Anaconda\\lib\\site-packages\\sklearn\\metrics\\ranking.py:444: RuntimeWarning: invalid value encountered in true_divide\n",
      "  recall = tps / tps[-1]\n",
      "C:\\Users\\Public\\Documents\\Anaconda\\lib\\site-packages\\sklearn\\metrics\\ranking.py:94: RuntimeWarning: invalid value encountered in less\n",
      "  if np.any(dx < 0):\n",
      "C:\\Users\\Public\\Documents\\Anaconda\\lib\\site-packages\\sklearn\\metrics\\classification.py:1137: UndefinedMetricWarning: Recall is ill-defined and being set to 0.0 due to no true samples.\n",
      "  'recall', 'true', average, warn_for)\n"
     ]
    },
    {
     "name": "stdout",
     "output_type": "stream",
     "text": [
      "Training Random Forest\n",
      "Training Random Forest\n",
      "Training Random Forest\n"
     ]
    },
    {
     "name": "stderr",
     "output_type": "stream",
     "text": [
      "C:\\Users\\Public\\Documents\\Anaconda\\lib\\site-packages\\sklearn\\metrics\\classification.py:1137: UndefinedMetricWarning: F-score is ill-defined and being set to 0.0 due to no true samples.\n",
      "  'recall', 'true', average, warn_for)\n",
      "C:\\Users\\Public\\Documents\\Anaconda\\lib\\site-packages\\sklearn\\metrics\\ranking.py:444: RuntimeWarning: invalid value encountered in true_divide\n",
      "  recall = tps / tps[-1]\n",
      "C:\\Users\\Public\\Documents\\Anaconda\\lib\\site-packages\\sklearn\\metrics\\ranking.py:94: RuntimeWarning: invalid value encountered in less\n",
      "  if np.any(dx < 0):\n",
      "C:\\Users\\Public\\Documents\\Anaconda\\lib\\site-packages\\sklearn\\metrics\\classification.py:1137: UndefinedMetricWarning: Recall is ill-defined and being set to 0.0 due to no true samples.\n",
      "  'recall', 'true', average, warn_for)\n"
     ]
    },
    {
     "name": "stdout",
     "output_type": "stream",
     "text": [
      "Training Random Forest\n",
      "Training Random Forest\n",
      "Training Random Forest\n"
     ]
    },
    {
     "name": "stderr",
     "output_type": "stream",
     "text": [
      "C:\\Users\\Public\\Documents\\Anaconda\\lib\\site-packages\\sklearn\\metrics\\classification.py:1137: UndefinedMetricWarning: F-score is ill-defined and being set to 0.0 due to no true samples.\n",
      "  'recall', 'true', average, warn_for)\n",
      "C:\\Users\\Public\\Documents\\Anaconda\\lib\\site-packages\\sklearn\\metrics\\ranking.py:444: RuntimeWarning: invalid value encountered in true_divide\n",
      "  recall = tps / tps[-1]\n",
      "C:\\Users\\Public\\Documents\\Anaconda\\lib\\site-packages\\sklearn\\metrics\\ranking.py:94: RuntimeWarning: invalid value encountered in less\n",
      "  if np.any(dx < 0):\n",
      "C:\\Users\\Public\\Documents\\Anaconda\\lib\\site-packages\\sklearn\\metrics\\classification.py:1137: UndefinedMetricWarning: Recall is ill-defined and being set to 0.0 due to no true samples.\n",
      "  'recall', 'true', average, warn_for)\n"
     ]
    },
    {
     "name": "stdout",
     "output_type": "stream",
     "text": [
      "Training Random Forest\n",
      "Training Random Forest\n",
      "Training Random Forest\n"
     ]
    },
    {
     "name": "stderr",
     "output_type": "stream",
     "text": [
      "C:\\Users\\Public\\Documents\\Anaconda\\lib\\site-packages\\sklearn\\metrics\\classification.py:1137: UndefinedMetricWarning: F-score is ill-defined and being set to 0.0 due to no true samples.\n",
      "  'recall', 'true', average, warn_for)\n",
      "C:\\Users\\Public\\Documents\\Anaconda\\lib\\site-packages\\sklearn\\metrics\\ranking.py:444: RuntimeWarning: invalid value encountered in true_divide\n",
      "  recall = tps / tps[-1]\n",
      "C:\\Users\\Public\\Documents\\Anaconda\\lib\\site-packages\\sklearn\\metrics\\ranking.py:94: RuntimeWarning: invalid value encountered in less\n",
      "  if np.any(dx < 0):\n",
      "C:\\Users\\Public\\Documents\\Anaconda\\lib\\site-packages\\sklearn\\metrics\\classification.py:1137: UndefinedMetricWarning: Recall is ill-defined and being set to 0.0 due to no true samples.\n",
      "  'recall', 'true', average, warn_for)\n"
     ]
    },
    {
     "name": "stdout",
     "output_type": "stream",
     "text": [
      "Training Random Forest\n",
      "Training Random Forest\n",
      "Training Random Forest\n"
     ]
    },
    {
     "name": "stderr",
     "output_type": "stream",
     "text": [
      "C:\\Users\\Public\\Documents\\Anaconda\\lib\\site-packages\\sklearn\\metrics\\classification.py:1137: UndefinedMetricWarning: F-score is ill-defined and being set to 0.0 due to no true samples.\n",
      "  'recall', 'true', average, warn_for)\n",
      "C:\\Users\\Public\\Documents\\Anaconda\\lib\\site-packages\\sklearn\\metrics\\ranking.py:444: RuntimeWarning: invalid value encountered in true_divide\n",
      "  recall = tps / tps[-1]\n",
      "C:\\Users\\Public\\Documents\\Anaconda\\lib\\site-packages\\sklearn\\metrics\\ranking.py:94: RuntimeWarning: invalid value encountered in less\n",
      "  if np.any(dx < 0):\n",
      "C:\\Users\\Public\\Documents\\Anaconda\\lib\\site-packages\\sklearn\\metrics\\classification.py:1137: UndefinedMetricWarning: Recall is ill-defined and being set to 0.0 due to no true samples.\n",
      "  'recall', 'true', average, warn_for)\n"
     ]
    },
    {
     "name": "stdout",
     "output_type": "stream",
     "text": [
      "Training Random Forest\n",
      "Training Random Forest\n",
      "Training Random Forest\n"
     ]
    },
    {
     "name": "stderr",
     "output_type": "stream",
     "text": [
      "C:\\Users\\Public\\Documents\\Anaconda\\lib\\site-packages\\sklearn\\metrics\\classification.py:1137: UndefinedMetricWarning: F-score is ill-defined and being set to 0.0 due to no true samples.\n",
      "  'recall', 'true', average, warn_for)\n",
      "C:\\Users\\Public\\Documents\\Anaconda\\lib\\site-packages\\sklearn\\metrics\\ranking.py:444: RuntimeWarning: invalid value encountered in true_divide\n",
      "  recall = tps / tps[-1]\n",
      "C:\\Users\\Public\\Documents\\Anaconda\\lib\\site-packages\\sklearn\\metrics\\ranking.py:94: RuntimeWarning: invalid value encountered in less\n",
      "  if np.any(dx < 0):\n",
      "C:\\Users\\Public\\Documents\\Anaconda\\lib\\site-packages\\sklearn\\metrics\\classification.py:1137: UndefinedMetricWarning: Recall is ill-defined and being set to 0.0 due to no true samples.\n",
      "  'recall', 'true', average, warn_for)\n"
     ]
    },
    {
     "name": "stdout",
     "output_type": "stream",
     "text": [
      "Training Random Forest\n",
      "Training Random Forest\n",
      "Training Random Forest\n"
     ]
    },
    {
     "name": "stderr",
     "output_type": "stream",
     "text": [
      "C:\\Users\\Public\\Documents\\Anaconda\\lib\\site-packages\\sklearn\\metrics\\classification.py:1137: UndefinedMetricWarning: F-score is ill-defined and being set to 0.0 due to no true samples.\n",
      "  'recall', 'true', average, warn_for)\n",
      "C:\\Users\\Public\\Documents\\Anaconda\\lib\\site-packages\\sklearn\\metrics\\ranking.py:444: RuntimeWarning: invalid value encountered in true_divide\n",
      "  recall = tps / tps[-1]\n",
      "C:\\Users\\Public\\Documents\\Anaconda\\lib\\site-packages\\sklearn\\metrics\\ranking.py:94: RuntimeWarning: invalid value encountered in less\n",
      "  if np.any(dx < 0):\n",
      "C:\\Users\\Public\\Documents\\Anaconda\\lib\\site-packages\\sklearn\\metrics\\classification.py:1137: UndefinedMetricWarning: Recall is ill-defined and being set to 0.0 due to no true samples.\n",
      "  'recall', 'true', average, warn_for)\n"
     ]
    },
    {
     "name": "stdout",
     "output_type": "stream",
     "text": [
      "Training Random Forest\n",
      "Training Random Forest\n",
      "Training Random Forest\n"
     ]
    },
    {
     "name": "stderr",
     "output_type": "stream",
     "text": [
      "C:\\Users\\Public\\Documents\\Anaconda\\lib\\site-packages\\sklearn\\metrics\\classification.py:1137: UndefinedMetricWarning: F-score is ill-defined and being set to 0.0 due to no true samples.\n",
      "  'recall', 'true', average, warn_for)\n",
      "C:\\Users\\Public\\Documents\\Anaconda\\lib\\site-packages\\sklearn\\metrics\\ranking.py:444: RuntimeWarning: invalid value encountered in true_divide\n",
      "  recall = tps / tps[-1]\n",
      "C:\\Users\\Public\\Documents\\Anaconda\\lib\\site-packages\\sklearn\\metrics\\ranking.py:94: RuntimeWarning: invalid value encountered in less\n",
      "  if np.any(dx < 0):\n",
      "C:\\Users\\Public\\Documents\\Anaconda\\lib\\site-packages\\sklearn\\metrics\\classification.py:1137: UndefinedMetricWarning: Recall is ill-defined and being set to 0.0 due to no true samples.\n",
      "  'recall', 'true', average, warn_for)\n"
     ]
    },
    {
     "name": "stdout",
     "output_type": "stream",
     "text": [
      "Training Random Forest\n",
      "Training Random Forest\n",
      "Training Random Forest\n"
     ]
    },
    {
     "name": "stderr",
     "output_type": "stream",
     "text": [
      "C:\\Users\\Public\\Documents\\Anaconda\\lib\\site-packages\\sklearn\\metrics\\classification.py:1137: UndefinedMetricWarning: F-score is ill-defined and being set to 0.0 due to no true samples.\n",
      "  'recall', 'true', average, warn_for)\n",
      "C:\\Users\\Public\\Documents\\Anaconda\\lib\\site-packages\\sklearn\\metrics\\ranking.py:444: RuntimeWarning: invalid value encountered in true_divide\n",
      "  recall = tps / tps[-1]\n",
      "C:\\Users\\Public\\Documents\\Anaconda\\lib\\site-packages\\sklearn\\metrics\\ranking.py:94: RuntimeWarning: invalid value encountered in less\n",
      "  if np.any(dx < 0):\n",
      "C:\\Users\\Public\\Documents\\Anaconda\\lib\\site-packages\\sklearn\\metrics\\classification.py:1137: UndefinedMetricWarning: Recall is ill-defined and being set to 0.0 due to no true samples.\n",
      "  'recall', 'true', average, warn_for)\n"
     ]
    },
    {
     "name": "stdout",
     "output_type": "stream",
     "text": [
      "Training Random Forest\n",
      "Training Random Forest\n",
      "Training Random Forest\n"
     ]
    },
    {
     "name": "stderr",
     "output_type": "stream",
     "text": [
      "C:\\Users\\Public\\Documents\\Anaconda\\lib\\site-packages\\sklearn\\metrics\\classification.py:1137: UndefinedMetricWarning: F-score is ill-defined and being set to 0.0 due to no true samples.\n",
      "  'recall', 'true', average, warn_for)\n",
      "C:\\Users\\Public\\Documents\\Anaconda\\lib\\site-packages\\sklearn\\metrics\\ranking.py:444: RuntimeWarning: invalid value encountered in true_divide\n",
      "  recall = tps / tps[-1]\n",
      "C:\\Users\\Public\\Documents\\Anaconda\\lib\\site-packages\\sklearn\\metrics\\ranking.py:94: RuntimeWarning: invalid value encountered in less\n",
      "  if np.any(dx < 0):\n",
      "C:\\Users\\Public\\Documents\\Anaconda\\lib\\site-packages\\sklearn\\metrics\\classification.py:1137: UndefinedMetricWarning: Recall is ill-defined and being set to 0.0 due to no true samples.\n",
      "  'recall', 'true', average, warn_for)\n"
     ]
    },
    {
     "name": "stdout",
     "output_type": "stream",
     "text": [
      "Training Random Forest\n",
      "Training Random Forest\n",
      "Training Random Forest\n"
     ]
    },
    {
     "name": "stderr",
     "output_type": "stream",
     "text": [
      "C:\\Users\\Public\\Documents\\Anaconda\\lib\\site-packages\\sklearn\\metrics\\classification.py:1137: UndefinedMetricWarning: F-score is ill-defined and being set to 0.0 due to no true samples.\n",
      "  'recall', 'true', average, warn_for)\n",
      "C:\\Users\\Public\\Documents\\Anaconda\\lib\\site-packages\\sklearn\\metrics\\ranking.py:444: RuntimeWarning: invalid value encountered in true_divide\n",
      "  recall = tps / tps[-1]\n",
      "C:\\Users\\Public\\Documents\\Anaconda\\lib\\site-packages\\sklearn\\metrics\\ranking.py:94: RuntimeWarning: invalid value encountered in less\n",
      "  if np.any(dx < 0):\n",
      "C:\\Users\\Public\\Documents\\Anaconda\\lib\\site-packages\\sklearn\\metrics\\classification.py:1137: UndefinedMetricWarning: Recall is ill-defined and being set to 0.0 due to no true samples.\n",
      "  'recall', 'true', average, warn_for)\n"
     ]
    },
    {
     "name": "stdout",
     "output_type": "stream",
     "text": [
      "Training Random Forest\n",
      "Training Random Forest\n",
      "Training Random Forest\n"
     ]
    },
    {
     "name": "stderr",
     "output_type": "stream",
     "text": [
      "C:\\Users\\Public\\Documents\\Anaconda\\lib\\site-packages\\sklearn\\metrics\\classification.py:1137: UndefinedMetricWarning: F-score is ill-defined and being set to 0.0 due to no true samples.\n",
      "  'recall', 'true', average, warn_for)\n",
      "C:\\Users\\Public\\Documents\\Anaconda\\lib\\site-packages\\sklearn\\metrics\\ranking.py:444: RuntimeWarning: invalid value encountered in true_divide\n",
      "  recall = tps / tps[-1]\n",
      "C:\\Users\\Public\\Documents\\Anaconda\\lib\\site-packages\\sklearn\\metrics\\ranking.py:94: RuntimeWarning: invalid value encountered in less\n",
      "  if np.any(dx < 0):\n",
      "C:\\Users\\Public\\Documents\\Anaconda\\lib\\site-packages\\sklearn\\metrics\\classification.py:1137: UndefinedMetricWarning: Recall is ill-defined and being set to 0.0 due to no true samples.\n",
      "  'recall', 'true', average, warn_for)\n"
     ]
    },
    {
     "name": "stdout",
     "output_type": "stream",
     "text": [
      "Training Random Forest\n",
      "Training Random Forest\n",
      "Training Random Forest\n"
     ]
    },
    {
     "name": "stderr",
     "output_type": "stream",
     "text": [
      "C:\\Users\\Public\\Documents\\Anaconda\\lib\\site-packages\\sklearn\\metrics\\classification.py:1137: UndefinedMetricWarning: F-score is ill-defined and being set to 0.0 due to no true samples.\n",
      "  'recall', 'true', average, warn_for)\n",
      "C:\\Users\\Public\\Documents\\Anaconda\\lib\\site-packages\\sklearn\\metrics\\ranking.py:444: RuntimeWarning: invalid value encountered in true_divide\n",
      "  recall = tps / tps[-1]\n",
      "C:\\Users\\Public\\Documents\\Anaconda\\lib\\site-packages\\sklearn\\metrics\\ranking.py:94: RuntimeWarning: invalid value encountered in less\n",
      "  if np.any(dx < 0):\n",
      "C:\\Users\\Public\\Documents\\Anaconda\\lib\\site-packages\\sklearn\\metrics\\classification.py:1137: UndefinedMetricWarning: Recall is ill-defined and being set to 0.0 due to no true samples.\n",
      "  'recall', 'true', average, warn_for)\n"
     ]
    },
    {
     "name": "stdout",
     "output_type": "stream",
     "text": [
      "Training Random Forest\n",
      "Training Random Forest\n",
      "Training Random Forest\n"
     ]
    },
    {
     "name": "stderr",
     "output_type": "stream",
     "text": [
      "C:\\Users\\Public\\Documents\\Anaconda\\lib\\site-packages\\sklearn\\metrics\\classification.py:1137: UndefinedMetricWarning: F-score is ill-defined and being set to 0.0 due to no true samples.\n",
      "  'recall', 'true', average, warn_for)\n",
      "C:\\Users\\Public\\Documents\\Anaconda\\lib\\site-packages\\sklearn\\metrics\\ranking.py:444: RuntimeWarning: invalid value encountered in true_divide\n",
      "  recall = tps / tps[-1]\n",
      "C:\\Users\\Public\\Documents\\Anaconda\\lib\\site-packages\\sklearn\\metrics\\ranking.py:94: RuntimeWarning: invalid value encountered in less\n",
      "  if np.any(dx < 0):\n",
      "C:\\Users\\Public\\Documents\\Anaconda\\lib\\site-packages\\sklearn\\metrics\\classification.py:1137: UndefinedMetricWarning: Recall is ill-defined and being set to 0.0 due to no true samples.\n",
      "  'recall', 'true', average, warn_for)\n"
     ]
    },
    {
     "name": "stdout",
     "output_type": "stream",
     "text": [
      "Training Random Forest\n",
      "Training Random Forest\n",
      "Training Random Forest\n"
     ]
    },
    {
     "name": "stderr",
     "output_type": "stream",
     "text": [
      "C:\\Users\\Public\\Documents\\Anaconda\\lib\\site-packages\\sklearn\\metrics\\classification.py:1137: UndefinedMetricWarning: F-score is ill-defined and being set to 0.0 due to no true samples.\n",
      "  'recall', 'true', average, warn_for)\n",
      "C:\\Users\\Public\\Documents\\Anaconda\\lib\\site-packages\\sklearn\\metrics\\ranking.py:444: RuntimeWarning: invalid value encountered in true_divide\n",
      "  recall = tps / tps[-1]\n",
      "C:\\Users\\Public\\Documents\\Anaconda\\lib\\site-packages\\sklearn\\metrics\\ranking.py:94: RuntimeWarning: invalid value encountered in less\n",
      "  if np.any(dx < 0):\n",
      "C:\\Users\\Public\\Documents\\Anaconda\\lib\\site-packages\\sklearn\\metrics\\classification.py:1137: UndefinedMetricWarning: Recall is ill-defined and being set to 0.0 due to no true samples.\n",
      "  'recall', 'true', average, warn_for)\n"
     ]
    },
    {
     "name": "stdout",
     "output_type": "stream",
     "text": [
      "Training Random Forest\n",
      "Training Random Forest\n",
      "Training Random Forest\n"
     ]
    },
    {
     "name": "stderr",
     "output_type": "stream",
     "text": [
      "C:\\Users\\Public\\Documents\\Anaconda\\lib\\site-packages\\sklearn\\metrics\\classification.py:1137: UndefinedMetricWarning: F-score is ill-defined and being set to 0.0 due to no true samples.\n",
      "  'recall', 'true', average, warn_for)\n",
      "C:\\Users\\Public\\Documents\\Anaconda\\lib\\site-packages\\sklearn\\metrics\\ranking.py:444: RuntimeWarning: invalid value encountered in true_divide\n",
      "  recall = tps / tps[-1]\n",
      "C:\\Users\\Public\\Documents\\Anaconda\\lib\\site-packages\\sklearn\\metrics\\ranking.py:94: RuntimeWarning: invalid value encountered in less\n",
      "  if np.any(dx < 0):\n",
      "C:\\Users\\Public\\Documents\\Anaconda\\lib\\site-packages\\sklearn\\metrics\\classification.py:1137: UndefinedMetricWarning: Recall is ill-defined and being set to 0.0 due to no true samples.\n",
      "  'recall', 'true', average, warn_for)\n"
     ]
    },
    {
     "name": "stdout",
     "output_type": "stream",
     "text": [
      "Training Random Forest\n",
      "Training Random Forest\n",
      "Training Random Forest\n"
     ]
    },
    {
     "name": "stderr",
     "output_type": "stream",
     "text": [
      "C:\\Users\\Public\\Documents\\Anaconda\\lib\\site-packages\\sklearn\\metrics\\classification.py:1137: UndefinedMetricWarning: F-score is ill-defined and being set to 0.0 due to no true samples.\n",
      "  'recall', 'true', average, warn_for)\n",
      "C:\\Users\\Public\\Documents\\Anaconda\\lib\\site-packages\\sklearn\\metrics\\ranking.py:444: RuntimeWarning: invalid value encountered in true_divide\n",
      "  recall = tps / tps[-1]\n",
      "C:\\Users\\Public\\Documents\\Anaconda\\lib\\site-packages\\sklearn\\metrics\\ranking.py:94: RuntimeWarning: invalid value encountered in less\n",
      "  if np.any(dx < 0):\n",
      "C:\\Users\\Public\\Documents\\Anaconda\\lib\\site-packages\\sklearn\\metrics\\classification.py:1137: UndefinedMetricWarning: Recall is ill-defined and being set to 0.0 due to no true samples.\n",
      "  'recall', 'true', average, warn_for)\n"
     ]
    },
    {
     "name": "stdout",
     "output_type": "stream",
     "text": [
      "Training Random Forest\n",
      "Training Random Forest\n",
      "Training Random Forest\n"
     ]
    },
    {
     "name": "stderr",
     "output_type": "stream",
     "text": [
      "C:\\Users\\Public\\Documents\\Anaconda\\lib\\site-packages\\sklearn\\metrics\\classification.py:1137: UndefinedMetricWarning: F-score is ill-defined and being set to 0.0 due to no true samples.\n",
      "  'recall', 'true', average, warn_for)\n",
      "C:\\Users\\Public\\Documents\\Anaconda\\lib\\site-packages\\sklearn\\metrics\\ranking.py:444: RuntimeWarning: invalid value encountered in true_divide\n",
      "  recall = tps / tps[-1]\n",
      "C:\\Users\\Public\\Documents\\Anaconda\\lib\\site-packages\\sklearn\\metrics\\ranking.py:94: RuntimeWarning: invalid value encountered in less\n",
      "  if np.any(dx < 0):\n",
      "C:\\Users\\Public\\Documents\\Anaconda\\lib\\site-packages\\sklearn\\metrics\\classification.py:1137: UndefinedMetricWarning: Recall is ill-defined and being set to 0.0 due to no true samples.\n",
      "  'recall', 'true', average, warn_for)\n"
     ]
    },
    {
     "name": "stdout",
     "output_type": "stream",
     "text": [
      "Training Random Forest\n",
      "Training Random Forest\n",
      "Training Random Forest\n"
     ]
    },
    {
     "name": "stderr",
     "output_type": "stream",
     "text": [
      "C:\\Users\\Public\\Documents\\Anaconda\\lib\\site-packages\\sklearn\\metrics\\classification.py:1137: UndefinedMetricWarning: F-score is ill-defined and being set to 0.0 due to no true samples.\n",
      "  'recall', 'true', average, warn_for)\n",
      "C:\\Users\\Public\\Documents\\Anaconda\\lib\\site-packages\\sklearn\\metrics\\ranking.py:444: RuntimeWarning: invalid value encountered in true_divide\n",
      "  recall = tps / tps[-1]\n",
      "C:\\Users\\Public\\Documents\\Anaconda\\lib\\site-packages\\sklearn\\metrics\\ranking.py:94: RuntimeWarning: invalid value encountered in less\n",
      "  if np.any(dx < 0):\n",
      "C:\\Users\\Public\\Documents\\Anaconda\\lib\\site-packages\\sklearn\\metrics\\classification.py:1137: UndefinedMetricWarning: Recall is ill-defined and being set to 0.0 due to no true samples.\n",
      "  'recall', 'true', average, warn_for)\n"
     ]
    },
    {
     "name": "stdout",
     "output_type": "stream",
     "text": [
      "Training Random Forest\n",
      "Training Random Forest\n",
      "Training Random Forest\n"
     ]
    },
    {
     "name": "stderr",
     "output_type": "stream",
     "text": [
      "C:\\Users\\Public\\Documents\\Anaconda\\lib\\site-packages\\sklearn\\metrics\\classification.py:1137: UndefinedMetricWarning: F-score is ill-defined and being set to 0.0 due to no true samples.\n",
      "  'recall', 'true', average, warn_for)\n",
      "C:\\Users\\Public\\Documents\\Anaconda\\lib\\site-packages\\sklearn\\metrics\\ranking.py:444: RuntimeWarning: invalid value encountered in true_divide\n",
      "  recall = tps / tps[-1]\n",
      "C:\\Users\\Public\\Documents\\Anaconda\\lib\\site-packages\\sklearn\\metrics\\ranking.py:94: RuntimeWarning: invalid value encountered in less\n",
      "  if np.any(dx < 0):\n",
      "C:\\Users\\Public\\Documents\\Anaconda\\lib\\site-packages\\sklearn\\metrics\\classification.py:1137: UndefinedMetricWarning: Recall is ill-defined and being set to 0.0 due to no true samples.\n",
      "  'recall', 'true', average, warn_for)\n"
     ]
    },
    {
     "name": "stdout",
     "output_type": "stream",
     "text": [
      "Training Random Forest\n",
      "Training Random Forest\n",
      "Training Random Forest\n",
      "Training Random Forest\n",
      "Training Random Forest\n",
      "Training Random Forest\n",
      "Training Random Forest\n",
      "Training Random Forest\n",
      "Training Random Forest\n",
      "Training Random Forest\n",
      "Training Random Forest\n",
      "Training Random Forest\n",
      "Training Random Forest\n",
      "Training Random Forest\n",
      "Training Random Forest\n",
      "Training Random Forest\n",
      "Training Random Forest\n",
      "Training Random Forest\n",
      "Training Random Forest\n",
      "Training Random Forest\n",
      "Training Random Forest\n",
      "Training Random Forest\n",
      "Training Random Forest\n",
      "Training Random Forest\n",
      "Training Random Forest\n",
      "Training Random Forest\n",
      "Training Random Forest\n",
      "Training Random Forest\n",
      "Training Random Forest\n",
      "Training Random Forest\n",
      "Training Random Forest\n",
      "Training Random Forest\n",
      "Training Random Forest\n",
      "Training Random Forest\n",
      "Training Random Forest\n",
      "Training Random Forest\n",
      "Training Random Forest\n",
      "Training Random Forest\n",
      "Training Random Forest\n",
      "Training Random Forest\n",
      "Training Random Forest\n",
      "Training Random Forest\n",
      "Training Random Forest\n",
      "Training Random Forest\n",
      "Training Random Forest\n",
      "Training Random Forest\n",
      "Training Random Forest\n",
      "Training Random Forest\n",
      "Training Random Forest\n",
      "Training Random Forest\n",
      "Training Random Forest\n",
      "Training Random Forest\n",
      "Training Random Forest\n",
      "Training Random Forest\n",
      "Training Random Forest\n",
      "Training Random Forest\n",
      "Training Random Forest\n",
      "Training Random Forest\n",
      "Training Random Forest\n",
      "Training Random Forest\n",
      "Training Random Forest\n",
      "Training Random Forest\n",
      "Training Random Forest\n",
      "Training Random Forest\n",
      "Training Random Forest\n",
      "Training Random Forest\n",
      "Training Random Forest\n",
      "Training Random Forest\n",
      "Training Random Forest\n",
      "Training Random Forest\n",
      "Training Random Forest\n",
      "Training Random Forest\n",
      "Training Random Forest\n",
      "Training Random Forest\n",
      "Training Random Forest\n",
      "Training Random Forest\n",
      "Training Random Forest\n",
      "Training Random Forest\n",
      "Training Random Forest\n",
      "Training Random Forest\n",
      "Training Random Forest\n",
      "Training Random Forest\n",
      "Training Random Forest\n",
      "Training Random Forest\n",
      "Training Random Forest\n",
      "Training Random Forest\n",
      "Training Random Forest\n",
      "Training Random Forest\n",
      "Training Random Forest\n",
      "Training Random Forest\n",
      "Training Random Forest\n",
      "Training Random Forest\n",
      "Training Random Forest\n",
      "Training Random Forest\n",
      "Training Random Forest\n",
      "Elapsed time = 219.386 min\n"
     ]
    }
   ],
   "source": [
    "t1 = time.time()\n",
    "results = {}\n",
    "\n",
    "for symptom in ['Tremor','Bradykinesia']:\n",
    "    \n",
    "    results[symptom] = {}\n",
    "    \n",
    "    data = datadict[symptom]\n",
    "    \n",
    "    results[symptom]['Binary'] = {}\n",
    "    binary_res_all = pd.DataFrame()\n",
    "    binary_res_groups = []\n",
    "        \n",
    "    results[symptom]['Multiclass'] = {}\n",
    "    multi_res_all = pd.DataFrame()\n",
    "    multi_res_groups = pd.DataFrame()\n",
    "        \n",
    "    results[symptom]['Regressor'] = {}\n",
    "    regress_res_all = pd.DataFrame()\n",
    "    regress_res_groups = pd.DataFrame()\n",
    "    \n",
    "    for comb in combs:\n",
    "\n",
    "        feat_cols = []\n",
    "        comb_group = ''\n",
    "\n",
    "        for features_set in comb:\n",
    "\n",
    "            comb_group += features_set[0]\n",
    "            if symptom == 'Tremor':\n",
    "                feat_cols = feat_cols + featdict[features_set]\n",
    "            else:\n",
    "                feat_cols = feat_cols + featdictsensors[features_set]\n",
    "\n",
    "        data_comb = data[info + feat_cols]\n",
    "\n",
    "        Data = data_comb.copy() #original unmodified dataframe\n",
    "        Data=Data[~Data[symptom].isnull()] #remove nan rows for current symptom\n",
    "        Data=Data.reset_index(drop=True) #reset index\n",
    "\n",
    "        X = Data.iloc[:,5:].as_matrix()\n",
    "        groups = Data.Subject.as_matrix()\n",
    "        fnames = Data.iloc[:,5:].columns.values\n",
    "        \n",
    "        #Binary\n",
    "        \n",
    "        y = ((Data[symptom]>0)).values.astype(int)\n",
    "        \n",
    "        model = [RandomForestClassifier(n_estimators=50,random_state=2)]          \n",
    "        model_name = ['Random Forest']\n",
    "        model = list(zip(model,model_name))\n",
    "        groups = Data.Subject.as_matrix()\n",
    "\n",
    "        res,res_group = LOSOCV(Data,X,y,groups,model)\n",
    "        res['Combination'] = comb_group\n",
    "        binary_res_all = pd.concat((binary_res_all,res))\n",
    "        binary_res_groups.append(res_group)\n",
    "        \n",
    "        results[symptom]['Binary']['res_all'] = binary_res_all.reset_index(drop=True)\n",
    "        results[symptom]['Binary']['res_groups'] = binary_res_groups\n",
    "        \n",
    "        #Multiple Classes\n",
    "        \n",
    "        y = Data[symptom].values.astype(int)\n",
    "\n",
    "        model = [RandomForestClassifier(n_estimators=50,random_state=2)]          \n",
    "        model_name = ['Random Forest']\n",
    "        model = list(zip(model,model_name))\n",
    "        \n",
    "        res,res_group = LOSOMultiClass(Data,X,y,groups,model)\n",
    "        res['Combination'] = comb_group\n",
    "        multi_res_groups = pd.concat((multi_res_groups,res))\n",
    "        R = pd.DataFrame()\n",
    "        R['RMS'] = [np.nanmean(multi_res_groups[multi_res_groups.Combination==comb_group]['RMS'])]\n",
    "        R['Model'] = ['Random Forest']\n",
    "        R['Combination'] = [comb_group]\n",
    "        multi_res_all = pd.concat([multi_res_all,R])\n",
    "        \n",
    "        results[symptom]['Multiclass']['res_all'] = multi_res_all.reset_index(drop=True)\n",
    "        results[symptom]['Multiclass']['res_groups'] = multi_res_groups\n",
    "        \n",
    "        #Regressor\n",
    "        \n",
    "        y = Data[symptom].values.astype(int) #target \n",
    "\n",
    "        model = [RandomForestRegressor(n_estimators=50,random_state=2)]          \n",
    "        model_name = ['Random Forest']\n",
    "        model = list(zip(model,model_name))\n",
    "        \n",
    "        res,res_group = LOSOMultiClass(Data,X,y,groups,model)\n",
    "        res['Combination'] = comb_group\n",
    "        regress_res_groups = pd.concat((regress_res_groups,res))\n",
    "        R = pd.DataFrame()\n",
    "        R['RMS'] = [np.nanmean(regress_res_groups[regress_res_groups.Combination==comb_group]['RMS'])]\n",
    "        R['Model'] = ['Random Forest'] \n",
    "        R['Combination'] = [comb_group]\n",
    "        regress_res_all = pd.concat([regress_res_all,R])\n",
    "        \n",
    "        results[symptom]['Regressor']['res_all'] = regress_res_all.reset_index(drop=True)\n",
    "        results[symptom]['Regressor']['res_groups'] = regress_res_groups\n",
    "\n",
    "print('Elapsed time = %.3f min'%((time.time()-t1)/60))   "
   ]
  },
  {
   "cell_type": "code",
   "execution_count": 140,
   "metadata": {
    "scrolled": true
   },
   "outputs": [
    {
     "data": {
      "text/html": [
       "<div>\n",
       "<style scoped>\n",
       "    .dataframe tbody tr th:only-of-type {\n",
       "        vertical-align: middle;\n",
       "    }\n",
       "\n",
       "    .dataframe tbody tr th {\n",
       "        vertical-align: top;\n",
       "    }\n",
       "\n",
       "    .dataframe thead th {\n",
       "        text-align: right;\n",
       "    }\n",
       "</style>\n",
       "<table border=\"1\" class=\"dataframe\">\n",
       "  <thead>\n",
       "    <tr style=\"text-align: right;\">\n",
       "      <th></th>\n",
       "      <th>auprc</th>\n",
       "      <th>auroc</th>\n",
       "      <th>f1</th>\n",
       "      <th>model</th>\n",
       "      <th>Combination</th>\n",
       "    </tr>\n",
       "  </thead>\n",
       "  <tbody>\n",
       "    <tr>\n",
       "      <th>0</th>\n",
       "      <td>0.380373</td>\n",
       "      <td>0.582907</td>\n",
       "      <td>0.211719</td>\n",
       "      <td>Random Forest</td>\n",
       "      <td>f</td>\n",
       "    </tr>\n",
       "    <tr>\n",
       "      <th>1</th>\n",
       "      <td>0.445054</td>\n",
       "      <td>0.691417</td>\n",
       "      <td>0.306057</td>\n",
       "      <td>Random Forest</td>\n",
       "      <td>t</td>\n",
       "    </tr>\n",
       "    <tr>\n",
       "      <th>2</th>\n",
       "      <td>0.408096</td>\n",
       "      <td>0.585347</td>\n",
       "      <td>0.218027</td>\n",
       "      <td>Random Forest</td>\n",
       "      <td>c</td>\n",
       "    </tr>\n",
       "    <tr>\n",
       "      <th>3</th>\n",
       "      <td>0.425361</td>\n",
       "      <td>0.621830</td>\n",
       "      <td>0.269880</td>\n",
       "      <td>Random Forest</td>\n",
       "      <td>j</td>\n",
       "    </tr>\n",
       "    <tr>\n",
       "      <th>4</th>\n",
       "      <td>0.449448</td>\n",
       "      <td>0.679957</td>\n",
       "      <td>0.326622</td>\n",
       "      <td>Random Forest</td>\n",
       "      <td>m</td>\n",
       "    </tr>\n",
       "    <tr>\n",
       "      <th>5</th>\n",
       "      <td>0.449459</td>\n",
       "      <td>0.692635</td>\n",
       "      <td>0.301146</td>\n",
       "      <td>Random Forest</td>\n",
       "      <td>ft</td>\n",
       "    </tr>\n",
       "    <tr>\n",
       "      <th>6</th>\n",
       "      <td>0.419849</td>\n",
       "      <td>0.612281</td>\n",
       "      <td>0.210630</td>\n",
       "      <td>Random Forest</td>\n",
       "      <td>fc</td>\n",
       "    </tr>\n",
       "    <tr>\n",
       "      <th>7</th>\n",
       "      <td>0.446751</td>\n",
       "      <td>0.668993</td>\n",
       "      <td>0.287246</td>\n",
       "      <td>Random Forest</td>\n",
       "      <td>fj</td>\n",
       "    </tr>\n",
       "    <tr>\n",
       "      <th>8</th>\n",
       "      <td>0.463150</td>\n",
       "      <td>0.689906</td>\n",
       "      <td>0.320863</td>\n",
       "      <td>Random Forest</td>\n",
       "      <td>fm</td>\n",
       "    </tr>\n",
       "    <tr>\n",
       "      <th>9</th>\n",
       "      <td>0.449280</td>\n",
       "      <td>0.693401</td>\n",
       "      <td>0.306876</td>\n",
       "      <td>Random Forest</td>\n",
       "      <td>tc</td>\n",
       "    </tr>\n",
       "    <tr>\n",
       "      <th>10</th>\n",
       "      <td>0.456195</td>\n",
       "      <td>0.687101</td>\n",
       "      <td>0.320201</td>\n",
       "      <td>Random Forest</td>\n",
       "      <td>tj</td>\n",
       "    </tr>\n",
       "    <tr>\n",
       "      <th>11</th>\n",
       "      <td>0.455044</td>\n",
       "      <td>0.696024</td>\n",
       "      <td>0.315510</td>\n",
       "      <td>Random Forest</td>\n",
       "      <td>tm</td>\n",
       "    </tr>\n",
       "    <tr>\n",
       "      <th>12</th>\n",
       "      <td>0.440899</td>\n",
       "      <td>0.645847</td>\n",
       "      <td>0.285990</td>\n",
       "      <td>Random Forest</td>\n",
       "      <td>cj</td>\n",
       "    </tr>\n",
       "    <tr>\n",
       "      <th>13</th>\n",
       "      <td>0.457587</td>\n",
       "      <td>0.679520</td>\n",
       "      <td>0.312137</td>\n",
       "      <td>Random Forest</td>\n",
       "      <td>cm</td>\n",
       "    </tr>\n",
       "    <tr>\n",
       "      <th>14</th>\n",
       "      <td>0.459884</td>\n",
       "      <td>0.687591</td>\n",
       "      <td>0.317796</td>\n",
       "      <td>Random Forest</td>\n",
       "      <td>jm</td>\n",
       "    </tr>\n",
       "    <tr>\n",
       "      <th>15</th>\n",
       "      <td>0.451077</td>\n",
       "      <td>0.688005</td>\n",
       "      <td>0.296030</td>\n",
       "      <td>Random Forest</td>\n",
       "      <td>ftc</td>\n",
       "    </tr>\n",
       "    <tr>\n",
       "      <th>16</th>\n",
       "      <td>0.446455</td>\n",
       "      <td>0.693606</td>\n",
       "      <td>0.300004</td>\n",
       "      <td>Random Forest</td>\n",
       "      <td>ftj</td>\n",
       "    </tr>\n",
       "    <tr>\n",
       "      <th>17</th>\n",
       "      <td>0.457646</td>\n",
       "      <td>0.693150</td>\n",
       "      <td>0.312965</td>\n",
       "      <td>Random Forest</td>\n",
       "      <td>ftm</td>\n",
       "    </tr>\n",
       "    <tr>\n",
       "      <th>18</th>\n",
       "      <td>0.445600</td>\n",
       "      <td>0.654654</td>\n",
       "      <td>0.277827</td>\n",
       "      <td>Random Forest</td>\n",
       "      <td>fcj</td>\n",
       "    </tr>\n",
       "    <tr>\n",
       "      <th>19</th>\n",
       "      <td>0.461205</td>\n",
       "      <td>0.681967</td>\n",
       "      <td>0.303137</td>\n",
       "      <td>Random Forest</td>\n",
       "      <td>fcm</td>\n",
       "    </tr>\n",
       "    <tr>\n",
       "      <th>20</th>\n",
       "      <td>0.461805</td>\n",
       "      <td>0.693349</td>\n",
       "      <td>0.319944</td>\n",
       "      <td>Random Forest</td>\n",
       "      <td>fjm</td>\n",
       "    </tr>\n",
       "    <tr>\n",
       "      <th>21</th>\n",
       "      <td>0.450159</td>\n",
       "      <td>0.688059</td>\n",
       "      <td>0.302077</td>\n",
       "      <td>Random Forest</td>\n",
       "      <td>tcj</td>\n",
       "    </tr>\n",
       "    <tr>\n",
       "      <th>22</th>\n",
       "      <td>0.459777</td>\n",
       "      <td>0.693189</td>\n",
       "      <td>0.313124</td>\n",
       "      <td>Random Forest</td>\n",
       "      <td>tcm</td>\n",
       "    </tr>\n",
       "    <tr>\n",
       "      <th>23</th>\n",
       "      <td>0.457716</td>\n",
       "      <td>0.700486</td>\n",
       "      <td>0.319023</td>\n",
       "      <td>Random Forest</td>\n",
       "      <td>tjm</td>\n",
       "    </tr>\n",
       "    <tr>\n",
       "      <th>24</th>\n",
       "      <td>0.460740</td>\n",
       "      <td>0.687170</td>\n",
       "      <td>0.313727</td>\n",
       "      <td>Random Forest</td>\n",
       "      <td>cjm</td>\n",
       "    </tr>\n",
       "    <tr>\n",
       "      <th>25</th>\n",
       "      <td>0.457102</td>\n",
       "      <td>0.695648</td>\n",
       "      <td>0.304022</td>\n",
       "      <td>Random Forest</td>\n",
       "      <td>ftcj</td>\n",
       "    </tr>\n",
       "    <tr>\n",
       "      <th>26</th>\n",
       "      <td>0.461232</td>\n",
       "      <td>0.697476</td>\n",
       "      <td>0.314464</td>\n",
       "      <td>Random Forest</td>\n",
       "      <td>ftcm</td>\n",
       "    </tr>\n",
       "    <tr>\n",
       "      <th>27</th>\n",
       "      <td>0.458861</td>\n",
       "      <td>0.693615</td>\n",
       "      <td>0.321402</td>\n",
       "      <td>Random Forest</td>\n",
       "      <td>ftjm</td>\n",
       "    </tr>\n",
       "    <tr>\n",
       "      <th>28</th>\n",
       "      <td>0.460912</td>\n",
       "      <td>0.687636</td>\n",
       "      <td>0.298689</td>\n",
       "      <td>Random Forest</td>\n",
       "      <td>fcjm</td>\n",
       "    </tr>\n",
       "    <tr>\n",
       "      <th>29</th>\n",
       "      <td>0.461458</td>\n",
       "      <td>0.692712</td>\n",
       "      <td>0.321426</td>\n",
       "      <td>Random Forest</td>\n",
       "      <td>tcjm</td>\n",
       "    </tr>\n",
       "    <tr>\n",
       "      <th>30</th>\n",
       "      <td>0.464876</td>\n",
       "      <td>0.699048</td>\n",
       "      <td>0.314183</td>\n",
       "      <td>Random Forest</td>\n",
       "      <td>ftcjm</td>\n",
       "    </tr>\n",
       "  </tbody>\n",
       "</table>\n",
       "</div>"
      ],
      "text/plain": [
       "       auprc     auroc        f1          model Combination\n",
       "0   0.380373  0.582907  0.211719  Random Forest           f\n",
       "1   0.445054  0.691417  0.306057  Random Forest           t\n",
       "2   0.408096  0.585347  0.218027  Random Forest           c\n",
       "3   0.425361  0.621830  0.269880  Random Forest           j\n",
       "4   0.449448  0.679957  0.326622  Random Forest           m\n",
       "5   0.449459  0.692635  0.301146  Random Forest          ft\n",
       "6   0.419849  0.612281  0.210630  Random Forest          fc\n",
       "7   0.446751  0.668993  0.287246  Random Forest          fj\n",
       "8   0.463150  0.689906  0.320863  Random Forest          fm\n",
       "9   0.449280  0.693401  0.306876  Random Forest          tc\n",
       "10  0.456195  0.687101  0.320201  Random Forest          tj\n",
       "11  0.455044  0.696024  0.315510  Random Forest          tm\n",
       "12  0.440899  0.645847  0.285990  Random Forest          cj\n",
       "13  0.457587  0.679520  0.312137  Random Forest          cm\n",
       "14  0.459884  0.687591  0.317796  Random Forest          jm\n",
       "15  0.451077  0.688005  0.296030  Random Forest         ftc\n",
       "16  0.446455  0.693606  0.300004  Random Forest         ftj\n",
       "17  0.457646  0.693150  0.312965  Random Forest         ftm\n",
       "18  0.445600  0.654654  0.277827  Random Forest         fcj\n",
       "19  0.461205  0.681967  0.303137  Random Forest         fcm\n",
       "20  0.461805  0.693349  0.319944  Random Forest         fjm\n",
       "21  0.450159  0.688059  0.302077  Random Forest         tcj\n",
       "22  0.459777  0.693189  0.313124  Random Forest         tcm\n",
       "23  0.457716  0.700486  0.319023  Random Forest         tjm\n",
       "24  0.460740  0.687170  0.313727  Random Forest         cjm\n",
       "25  0.457102  0.695648  0.304022  Random Forest        ftcj\n",
       "26  0.461232  0.697476  0.314464  Random Forest        ftcm\n",
       "27  0.458861  0.693615  0.321402  Random Forest        ftjm\n",
       "28  0.460912  0.687636  0.298689  Random Forest        fcjm\n",
       "29  0.461458  0.692712  0.321426  Random Forest        tcjm\n",
       "30  0.464876  0.699048  0.314183  Random Forest       ftcjm"
      ]
     },
     "execution_count": 140,
     "metadata": {},
     "output_type": "execute_result"
    }
   ],
   "source": [
    "results['Tremor']['Binary']['res_all']"
   ]
  },
  {
   "cell_type": "code",
   "execution_count": 206,
   "metadata": {},
   "outputs": [],
   "source": [
    "def barplotFeatures(results,symptom,classifier):\n",
    "    if 'RMS' in results[symptom][classifier]['res_groups']:\n",
    "        groups = results[symptom][classifier]['res_groups']['Combination']\n",
    "        RMS = results[symptom][classifier]['res_groups']['RMS']\n",
    "        sns.barplot(groups,RMS,ci='sd')\n",
    "        plt.ylabel('RMS')\n",
    "        m = results[symptom][classifier]['res_all']['RMS'].max()\n",
    "        m = math.ceil((m+.01)*20)/20\n",
    "        plt.ylim([0,m])\n",
    "    else:\n",
    "        groups = results[symptom][classifier]['res_all']['Combination'].values\n",
    "        aucdf = pd.DataFrame()\n",
    "        data = results[symptom][classifier]['res_groups']\n",
    "        for i in range(len(data)):\n",
    "            aucdf[groups[i]] = data[i]['Random Forest']['auroc']\n",
    "        sns.barplot(data=aucdf)\n",
    "        plt.ylabel('AUROC')\n",
    "        plt.ylim([0,1])\n",
    "        \n",
    "    ax = plt.xticks(rotation=90)\n",
    "    plt.xlabel('Feature Sets')\n",
    "    plt.title('Effect of Feature Combinations on %s Model Performance: %s'%(classifier,symptom))\n",
    "    print('f: frequency')\n",
    "    print('t: time')\n",
    "    print('c: correlation')\n",
    "    print('j: jerk')\n",
    "    print('m: mag')\n",
    "    print(results[symptom][classifier]['res_all'])"
   ]
  },
  {
   "cell_type": "code",
   "execution_count": 207,
   "metadata": {},
   "outputs": [
    {
     "name": "stdout",
     "output_type": "stream",
     "text": [
      "f: frequency\n",
      "t: time\n",
      "c: correlation\n",
      "j: jerk\n",
      "m: mag\n",
      "       auprc     auroc        f1          model Combination\n",
      "0   0.380373  0.582907  0.211719  Random Forest           f\n",
      "1   0.445054  0.691417  0.306057  Random Forest           t\n",
      "2   0.408096  0.585347  0.218027  Random Forest           c\n",
      "3   0.425361  0.621830  0.269880  Random Forest           j\n",
      "4   0.449448  0.679957  0.326622  Random Forest           m\n",
      "5   0.449459  0.692635  0.301146  Random Forest          ft\n",
      "6   0.419849  0.612281  0.210630  Random Forest          fc\n",
      "7   0.446751  0.668993  0.287246  Random Forest          fj\n",
      "8   0.463150  0.689906  0.320863  Random Forest          fm\n",
      "9   0.449280  0.693401  0.306876  Random Forest          tc\n",
      "10  0.456195  0.687101  0.320201  Random Forest          tj\n",
      "11  0.455044  0.696024  0.315510  Random Forest          tm\n",
      "12  0.440899  0.645847  0.285990  Random Forest          cj\n",
      "13  0.457587  0.679520  0.312137  Random Forest          cm\n",
      "14  0.459884  0.687591  0.317796  Random Forest          jm\n",
      "15  0.451077  0.688005  0.296030  Random Forest         ftc\n",
      "16  0.446455  0.693606  0.300004  Random Forest         ftj\n",
      "17  0.457646  0.693150  0.312965  Random Forest         ftm\n",
      "18  0.445600  0.654654  0.277827  Random Forest         fcj\n",
      "19  0.461205  0.681967  0.303137  Random Forest         fcm\n",
      "20  0.461805  0.693349  0.319944  Random Forest         fjm\n",
      "21  0.450159  0.688059  0.302077  Random Forest         tcj\n",
      "22  0.459777  0.693189  0.313124  Random Forest         tcm\n",
      "23  0.457716  0.700486  0.319023  Random Forest         tjm\n",
      "24  0.460740  0.687170  0.313727  Random Forest         cjm\n",
      "25  0.457102  0.695648  0.304022  Random Forest        ftcj\n",
      "26  0.461232  0.697476  0.314464  Random Forest        ftcm\n",
      "27  0.458861  0.693615  0.321402  Random Forest        ftjm\n",
      "28  0.460912  0.687636  0.298689  Random Forest        fcjm\n",
      "29  0.461458  0.692712  0.321426  Random Forest        tcjm\n",
      "30  0.464876  0.699048  0.314183  Random Forest       ftcjm\n"
     ]
    },
    {
     "data": {
      "image/png": "[encoded data removed]",
      "text/plain": [
       "<matplotlib.figure.Figure at 0xbde69b0>"
      ]
     },
     "metadata": {},
     "output_type": "display_data"
    }
   ],
   "source": [
    "barplotFeatures(results,'Tremor','Binary')"
   ]
  },
  {
   "cell_type": "code",
   "execution_count": 208,
   "metadata": {},
   "outputs": [
    {
     "name": "stdout",
     "output_type": "stream",
     "text": [
      "f: frequency\n",
      "t: time\n",
      "c: correlation\n",
      "j: jerk\n",
      "m: mag\n",
      "         RMS          Model Combination\n",
      "0   0.132262  Random Forest           f\n",
      "1   0.132343  Random Forest           t\n",
      "2   0.140276  Random Forest           c\n",
      "3   0.160191  Random Forest           j\n",
      "4   0.155220  Random Forest           m\n",
      "5   0.130387  Random Forest          ft\n",
      "6   0.120826  Random Forest          fc\n",
      "7   0.141174  Random Forest          fj\n",
      "8   0.140041  Random Forest          fm\n",
      "9   0.130953  Random Forest          tc\n",
      "10  0.134023  Random Forest          tj\n",
      "11  0.130090  Random Forest          tm\n",
      "12  0.138789  Random Forest          cj\n",
      "13  0.133045  Random Forest          cm\n",
      "14  0.146867  Random Forest          jm\n",
      "15  0.123737  Random Forest         ftc\n",
      "16  0.126147  Random Forest         ftj\n",
      "17  0.128763  Random Forest         ftm\n",
      "18  0.132694  Random Forest         fcj\n",
      "19  0.127415  Random Forest         fcm\n",
      "20  0.140260  Random Forest         fjm\n",
      "21  0.127730  Random Forest         tcj\n",
      "22  0.129838  Random Forest         tcm\n",
      "23  0.128551  Random Forest         tjm\n",
      "24  0.133442  Random Forest         cjm\n",
      "25  0.129440  Random Forest        ftcj\n",
      "26  0.126826  Random Forest        ftcm\n",
      "27  0.126276  Random Forest        ftjm\n",
      "28  0.130221  Random Forest        fcjm\n",
      "29  0.129180  Random Forest        tcjm\n",
      "30  0.128873  Random Forest       ftcjm\n"
     ]
    },
    {
     "data": {
      "image/png": "[encoded data removed]",
      "text/plain": [
       "<matplotlib.figure.Figure at 0xbcce240>"
      ]
     },
     "metadata": {},
     "output_type": "display_data"
    }
   ],
   "source": [
    "barplotFeatures(results,'Tremor','Multiclass')"
   ]
  },
  {
   "cell_type": "code",
   "execution_count": 209,
   "metadata": {},
   "outputs": [
    {
     "name": "stdout",
     "output_type": "stream",
     "text": [
      "f: frequency\n",
      "t: time\n",
      "c: correlation\n",
      "j: jerk\n",
      "m: mag\n",
      "         RMS          Model Combination\n",
      "0   0.161300  Random Forest           f\n",
      "1   0.152223  Random Forest           t\n",
      "2   0.164593  Random Forest           c\n",
      "3   0.169234  Random Forest           j\n",
      "4   0.157459  Random Forest           m\n",
      "5   0.150708  Random Forest          ft\n",
      "6   0.157694  Random Forest          fc\n",
      "7   0.155785  Random Forest          fj\n",
      "8   0.152982  Random Forest          fm\n",
      "9   0.149493  Random Forest          tc\n",
      "10  0.152316  Random Forest          tj\n",
      "11  0.149851  Random Forest          tm\n",
      "12  0.161259  Random Forest          cj\n",
      "13  0.151436  Random Forest          cm\n",
      "14  0.155945  Random Forest          jm\n",
      "15  0.149709  Random Forest         ftc\n",
      "16  0.151786  Random Forest         ftj\n",
      "17  0.149322  Random Forest         ftm\n",
      "18  0.155842  Random Forest         fcj\n",
      "19  0.148386  Random Forest         fcm\n",
      "20  0.153987  Random Forest         fjm\n",
      "21  0.152584  Random Forest         tcj\n",
      "22  0.148390  Random Forest         tcm\n",
      "23  0.149934  Random Forest         tjm\n",
      "24  0.152374  Random Forest         cjm\n",
      "25  0.152312  Random Forest        ftcj\n",
      "26  0.147574  Random Forest        ftcm\n",
      "27  0.148892  Random Forest        ftjm\n",
      "28  0.151893  Random Forest        fcjm\n",
      "29  0.149242  Random Forest        tcjm\n",
      "30  0.148436  Random Forest       ftcjm\n"
     ]
    },
    {
     "data": {
      "image/png": "[encoded data removed]",
      "text/plain": [
       "<matplotlib.figure.Figure at 0xdad8c50>"
      ]
     },
     "metadata": {},
     "output_type": "display_data"
    }
   ],
   "source": [
    "barplotFeatures(results,'Tremor','Regressor')"
   ]
  },
  {
   "cell_type": "code",
   "execution_count": 210,
   "metadata": {},
   "outputs": [
    {
     "name": "stdout",
     "output_type": "stream",
     "text": [
      "f: frequency\n",
      "t: time\n",
      "c: correlation\n",
      "j: jerk\n",
      "m: mag\n",
      "       auprc     auroc        f1          model Combination\n",
      "0   0.603197  0.615423  0.559836  Random Forest           f\n",
      "1   0.624214  0.656212  0.591120  Random Forest           t\n",
      "2   0.584742  0.594530  0.570069  Random Forest           c\n",
      "3   0.590291  0.602419  0.562636  Random Forest           j\n",
      "4   0.617108  0.633711  0.581003  Random Forest           m\n",
      "5   0.628300  0.660750  0.600917  Random Forest          ft\n",
      "6   0.593407  0.617879  0.584734  Random Forest          fc\n",
      "7   0.607454  0.620010  0.571772  Random Forest          fj\n",
      "8   0.620511  0.640737  0.591195  Random Forest          fm\n",
      "9   0.613780  0.639980  0.591399  Random Forest          tc\n",
      "10  0.628167  0.661990  0.597743  Random Forest          tj\n",
      "11  0.628051  0.662268  0.597488  Random Forest          tm\n",
      "12  0.594531  0.610510  0.576319  Random Forest          cj\n",
      "13  0.607987  0.628990  0.585348  Random Forest          cm\n",
      "14  0.621202  0.640050  0.577723  Random Forest          jm\n",
      "15  0.621789  0.654640  0.597697  Random Forest         ftc\n",
      "16  0.626458  0.662844  0.598207  Random Forest         ftj\n",
      "17  0.631242  0.665560  0.599652  Random Forest         ftm\n",
      "18  0.595638  0.615281  0.585015  Random Forest         fcj\n",
      "19  0.608714  0.633604  0.587894  Random Forest         fcm\n",
      "20  0.623333  0.642610  0.585007  Random Forest         fjm\n",
      "21  0.626932  0.655994  0.602433  Random Forest         tcj\n",
      "22  0.619490  0.651057  0.594017  Random Forest         tcm\n",
      "23  0.625599  0.660187  0.597477  Random Forest         tjm\n",
      "24  0.611837  0.633851  0.586871  Random Forest         cjm\n",
      "25  0.624290  0.655219  0.603767  Random Forest        ftcj\n",
      "26  0.625985  0.658382  0.597084  Random Forest        ftcm\n",
      "27  0.626776  0.661696  0.600489  Random Forest        ftjm\n",
      "28  0.615807  0.638617  0.590063  Random Forest        fcjm\n",
      "29  0.617828  0.647349  0.594612  Random Forest        tcjm\n",
      "30  0.623198  0.653115  0.591803  Random Forest       ftcjm\n"
     ]
    },
    {
     "data": {
      "image/png": "[encoded data removed]",
      "text/plain": [
       "<matplotlib.figure.Figure at 0xd742588>"
      ]
     },
     "metadata": {},
     "output_type": "display_data"
    }
   ],
   "source": [
    "barplotFeatures(results,'Bradykinesia','Binary')"
   ]
  },
  {
   "cell_type": "code",
   "execution_count": 211,
   "metadata": {},
   "outputs": [
    {
     "name": "stdout",
     "output_type": "stream",
     "text": [
      "f: frequency\n",
      "t: time\n",
      "c: correlation\n",
      "j: jerk\n",
      "m: mag\n",
      "         RMS          Model Combination\n",
      "0   0.242331  Random Forest           f\n",
      "1   0.234761  Random Forest           t\n",
      "2   0.239149  Random Forest           c\n",
      "3   0.234867  Random Forest           j\n",
      "4   0.248444  Random Forest           m\n",
      "5   0.235572  Random Forest          ft\n",
      "6   0.237229  Random Forest          fc\n",
      "7   0.232609  Random Forest          fj\n",
      "8   0.238514  Random Forest          fm\n",
      "9   0.235885  Random Forest          tc\n",
      "10  0.234261  Random Forest          tj\n",
      "11  0.241144  Random Forest          tm\n",
      "12  0.236403  Random Forest          cj\n",
      "13  0.239712  Random Forest          cm\n",
      "14  0.240383  Random Forest          jm\n",
      "15  0.232879  Random Forest         ftc\n",
      "16  0.233771  Random Forest         ftj\n",
      "17  0.238296  Random Forest         ftm\n",
      "18  0.231718  Random Forest         fcj\n",
      "19  0.240135  Random Forest         fcm\n",
      "20  0.236638  Random Forest         fjm\n",
      "21  0.233323  Random Forest         tcj\n",
      "22  0.239282  Random Forest         tcm\n",
      "23  0.234856  Random Forest         tjm\n",
      "24  0.234671  Random Forest         cjm\n",
      "25  0.237273  Random Forest        ftcj\n",
      "26  0.241465  Random Forest        ftcm\n",
      "27  0.236682  Random Forest        ftjm\n",
      "28  0.236333  Random Forest        fcjm\n",
      "29  0.237454  Random Forest        tcjm\n",
      "30  0.237046  Random Forest       ftcjm\n"
     ]
    },
    {
     "data": {
      "image/png": "[encoded data removed]",
      "text/plain": [
       "<matplotlib.figure.Figure at 0xbb0df28>"
      ]
     },
     "metadata": {},
     "output_type": "display_data"
    }
   ],
   "source": [
    "barplotFeatures(results,'Bradykinesia','Multiclass')"
   ]
  },
  {
   "cell_type": "code",
   "execution_count": 212,
   "metadata": {},
   "outputs": [
    {
     "name": "stdout",
     "output_type": "stream",
     "text": [
      "f: frequency\n",
      "t: time\n",
      "c: correlation\n",
      "j: jerk\n",
      "m: mag\n",
      "         RMS          Model Combination\n",
      "0   0.218505  Random Forest           f\n",
      "1   0.221535  Random Forest           t\n",
      "2   0.223343  Random Forest           c\n",
      "3   0.219182  Random Forest           j\n",
      "4   0.223097  Random Forest           m\n",
      "5   0.220076  Random Forest          ft\n",
      "6   0.221364  Random Forest          fc\n",
      "7   0.216409  Random Forest          fj\n",
      "8   0.220756  Random Forest          fm\n",
      "9   0.221030  Random Forest          tc\n",
      "10  0.220472  Random Forest          tj\n",
      "11  0.223815  Random Forest          tm\n",
      "12  0.221273  Random Forest          cj\n",
      "13  0.221257  Random Forest          cm\n",
      "14  0.219128  Random Forest          jm\n",
      "15  0.220862  Random Forest         ftc\n",
      "16  0.219907  Random Forest         ftj\n",
      "17  0.222728  Random Forest         ftm\n",
      "18  0.221068  Random Forest         fcj\n",
      "19  0.220228  Random Forest         fcm\n",
      "20  0.218673  Random Forest         fjm\n",
      "21  0.221509  Random Forest         tcj\n",
      "22  0.222918  Random Forest         tcm\n",
      "23  0.223670  Random Forest         tjm\n",
      "24  0.220820  Random Forest         cjm\n",
      "25  0.221152  Random Forest        ftcj\n",
      "26  0.222430  Random Forest        ftcm\n",
      "27  0.223749  Random Forest        ftjm\n",
      "28  0.220744  Random Forest        fcjm\n",
      "29  0.222651  Random Forest        tcjm\n",
      "30  0.222127  Random Forest       ftcjm\n"
     ]
    },
    {
     "data": {
      "image/png": "[encoded data removed]",
      "text/plain": [
       "<matplotlib.figure.Figure at 0xd86fb38>"
      ]
     },
     "metadata": {},
     "output_type": "display_data"
    }
   ],
   "source": [
    "barplotFeatures(results,'Bradykinesia','Regressor')"
   ]
  },
  {
   "cell_type": "code",
   "execution_count": null,
   "metadata": {},
   "outputs": [],
   "source": []
  }
 ],
 "metadata": {
  "kernelspec": {
   "display_name": "Python 3",
   "language": "python",
   "name": "python3"
  },
  "language_info": {
   "codemirror_mode": {
    "name": "ipython",
    "version": 3
   },
   "file_extension": ".py",
   "mimetype": "text/x-python",
   "name": "python",
   "nbconvert_exporter": "python",
   "pygments_lexer": "ipython3",
   "version": "3.6.4"
  }
 },
 "nbformat": 4,
 "nbformat_minor": 2
}
