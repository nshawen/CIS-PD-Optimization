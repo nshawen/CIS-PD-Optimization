{
 "cells": [
  {
   "cell_type": "code",
   "execution_count": 1,
   "metadata": {
    "collapsed": true
   },
   "outputs": [],
   "source": [
    "import os\n",
    "import numpy as np\n",
    "import pandas as pd\n",
    "import seaborn as sns\n",
    "import matplotlib.pyplot as plt\n",
    "import datetime as dt\n",
    "import time\n",
    "import pathlib\n",
    "import pickle\n",
    "from statistics import mode\n",
    "from itertools import product\n",
    "from scipy.stats import skew, kurtosis\n",
    "from scipy.signal import butter, welch, filtfilt, resample\n",
    "\n",
    "from sklearn.metrics import confusion_matrix, auc, f1_score, roc_curve, roc_auc_score, precision_score, recall_score, precision_recall_curve\n",
    "#from sklearn.neighbors import KNeighborsClassifier\n",
    "#from sklearn.linear_model import ElasticNetCV, LogisticRegression\n",
    "from sklearn.preprocessing import LabelEncoder, StandardScaler\n",
    "from sklearn.model_selection import train_test_split, LeaveOneGroupOut, KFold, StratifiedKFold,cross_val_score,GridSearchCV\n",
    "from sklearn.ensemble import RandomForestClassifier, RandomForestRegressor\n",
    "\n",
    "from PreprocessFcns import *\n",
    "\n",
    "%matplotlib inline\n",
    "\n",
    "sns.set_context('talk',font_scale=1)"
   ]
  },
  {
   "cell_type": "code",
   "execution_count": 2,
   "metadata": {
    "collapsed": true
   },
   "outputs": [],
   "source": [
    "def LOSOCV(Data,X,y,groups,models,LOin=0):\n",
    "\n",
    "    subj = LeaveOneGroupOut() \n",
    "    results = pd.DataFrame(data=None,columns=['model','f1','auprc','auroc'])\n",
    "    groupres = {} #results on each group for each model\n",
    "\n",
    "\n",
    "    #train multiple classifiers\n",
    "    for m in models:\n",
    "        acc_all=[]; acc_train=[] \n",
    "        f1_test_all=[]; prec_all=[]; rec_all=[]; spec_all=[]; auprc_all=[]; auroc_train_all=[]; \n",
    "        auroc_all=[]; fpr_all=[]; tpr_all=[]; fi_all=[]\n",
    "\n",
    "        clf = m[0]; model_name = m[1]            \n",
    "        print('Training %s'%model_name)\n",
    "        s = 0\n",
    "        #LOSO CV for current classifier\n",
    "        for train_index, test_index in subj.split(X, y, groups):\n",
    "        #leave one in:\n",
    "            if LOin:\n",
    "                tridx = train_index.copy()\n",
    "                train_index = test_index.copy()\n",
    "                test_index = tridx\n",
    "            Xtr, Xte = X[train_index], X[test_index]\n",
    "            ytr, yte = y[train_index], y[test_index]\n",
    "            if len(np.unique(ytr))<2: #skip if no positive or negative examples are available for training\n",
    "                print('only 1 class available in train data - skipping')\n",
    "                continue\n",
    "            clf.fit(Xtr,ytr)\n",
    "            ypred = clf.predict(Xte)\n",
    "            yscore = clf.predict_proba(Xte)\n",
    "            yscore = yscore[:,1]\n",
    "            \n",
    "            #accuracy on train set\n",
    "            ypred_train = clf.predict(Xtr)\n",
    "            acc_train.append(sum(ypred_train==ytr)/len(ytr))\n",
    "            \n",
    "            ######\n",
    "            \n",
    "            auroc_train = roc_auc_score(ytr,clf.predict_proba(Xtr)[:,1])\n",
    "            \n",
    "            #f1-score, prec, recall, specificity, auprc, auroc\n",
    "            f1_test_all.append(f1_score(yte,ypred))\n",
    "            precision, recall, _ = precision_recall_curve(yte,yscore)\n",
    "            auprc = auc(recall,precision)\n",
    "            if len(np.unique(yte))>1:\n",
    "                auroc = roc_auc_score(yte,yscore)\n",
    "            else:\n",
    "                print('only 1 class in test data - cannot compute roc curve')\n",
    "                auroc = np.nan\n",
    "            spec = sum((ypred==0) & (yte==0))/sum(yte==0)\n",
    "\n",
    "\n",
    "            prec_all.append(precision_score(yte,ypred))\n",
    "            rec_all.append(recall_score(yte,ypred))\n",
    "            auprc_all.append(auprc)\n",
    "            auroc_all.append(auroc)\n",
    "            auroc_train_all.append(auroc_train)\n",
    "            spec_all.append(spec)\n",
    "\n",
    "            fpr=np.linspace(0,1,101); tpr=[]\n",
    "\n",
    "            if len(np.unique(yte))>1:                \n",
    "                nscores = np.sort(np.column_stack((yscore[yte==0],yte[yte==0])),axis=0)\n",
    "                neg_counts = sum(yte==0)\n",
    "                for f in fpr:\n",
    "                    ind = neg_counts-int(neg_counts*f)-1\n",
    "                    t = (nscores[ind])[0]\n",
    "                    if f==1:\n",
    "                        t = 0\n",
    "                    tpr_t = sum(yscore[yte==1]>t) / sum(yte==1)\n",
    "                    tpr.append(tpr_t) \n",
    "\n",
    "            fpr = np.asarray(fpr); tpr = np.asarray(tpr)\n",
    "            fpr_all.append(fpr); tpr_all.append(tpr)\n",
    "            \n",
    "            #store feature importance\n",
    "            if model_name != 'SVM':\n",
    "                fi_all.append(clf.feature_importances_)\n",
    "            \n",
    "            print('\\nSubj/Visit %d,prec=%.3f,rec=%.3f,Spec=%.3f,auroc_train=%.3f,auroc=%.3f'%(s,precision_score(yte,ypred),recall_score(yte,ypred),spec,auroc_train,auroc))\n",
    "            s+=1\n",
    "\n",
    "        print('f1_test=%.3f+/-%.3f, prec=%.3f+/-%.3f, rec=%.3f+/-%.3f, auprc=%.3f+/-%.3f, auroc=%.3f+/-%.3f'%(\n",
    "        np.nanmean(f1_test_all),np.nanstd(f1_test_all),\n",
    "        np.nanmean(prec_all),np.nanstd(prec_all), np.nanmean(rec_all),np.nanstd(rec_all),\n",
    "        np.nanmean(auprc_all),np.nanstd(auprc_all), np.nanmean(auroc_all),np.nanstd(auroc_all)))\n",
    "        \n",
    "        #group results for each model\n",
    "        groupres[model_name] = {'f1':f1_test_all, 'auprc':auprc_all, 'auroc':auroc_all, 'tpr':tpr_all, 'fpr':fpr_all, \n",
    "                                'rec':rec_all, 'spec':spec_all, 'fi':fi_all}\n",
    "        \n",
    "        #mean across groups for each model\n",
    "        r = pd.DataFrame({'model':model_name, 'f1':np.nanmean(f1_test_all), 'auprc':np.nanmean(auprc_all), 'auroc':np.nanmean(auroc_all)}\n",
    "                        ,index=[0])\n",
    "        results = pd.concat((results,r))\n",
    "        \n",
    "    return results,groupres\n",
    "\n",
    "def plot_roc(tpr_all,fpr,roc_auc,ax=None,plotname=None,col=None):\n",
    "    #plot mean ROC across subjects (need to add shaded conf interval)\n",
    "    tprmu = np.mean(np.asarray(tpr_all),axis=0)\n",
    "    tpr=np.asarray(tpr_all)\n",
    "    fpr=np.reshape(fpr,(1,-1))\n",
    "    tprmu=np.reshape(tprmu,(1,-1))\n",
    "    label=pd.Series(data = ['%s - AUC = %0.3f' % (plotname,roc_auc)]*len(fpr))\n",
    "    if plotname=='Threshold':\n",
    "        ls = '-'\n",
    "    else:\n",
    "        ls='-'\n",
    "    if ax == None:\n",
    "        ax = sns.tsplot(data=tpr,time=fpr,ci=95,condition=label,legend=True,color=col,lw=3,linestyle=ls)\n",
    "    else:\n",
    "        sns.tsplot(data=tpr,time=fpr,ci=95,condition=label, legend=True,ax=ax,color=col,lw=3,linestyle=ls)\n",
    "             \n",
    "    lw = 3\n",
    "    \n",
    "    ax.plot([0, 1], [0, 1], color='navy', lw=lw, linestyle='--')\n",
    "    ax.set_xlim([-0.05, 1.0])\n",
    "    ax.set_ylim([0.0, 1.05])\n",
    "    ax.set_xlabel('False Positive Rate',fontsize=16)\n",
    "    ax.set_ylabel('True Positive Rate',fontsize=16)\n",
    "    ax.legend(loc='lower right')\n",
    "    \n",
    "    return ax"
   ]
  },
  {
   "cell_type": "markdown",
   "metadata": {},
   "source": [
    "# Accelerometer and EMG comparisons"
   ]
  },
  {
   "cell_type": "code",
   "execution_count": 3,
   "metadata": {
    "collapsed": true
   },
   "outputs": [],
   "source": [
    "Data_accel = pd.read_hdf('Z:\\CIS-PD Study\\FeatureMatrix\\Features_AllLocs_HP.h5')\n",
    "Data_EMG = pd.read_csv('Z:CIS-PD Study\\MotorTasks EMG Data.csv',index_col=0).iloc[:,6:]\n",
    "\n",
    "Datafull = pd.DataFrame\n",
    "Data_accel = Data_accel.reset_index(drop=True)\n",
    "Data_EMG = Data_EMG.reset_index(drop=True)\n",
    "Datafull = pd.concat((Data_accel.iloc[:,:6],Data_EMG,Data_accel.iloc[:,13]),axis=1)"
   ]
  },
  {
   "cell_type": "code",
   "execution_count": 4,
   "metadata": {},
   "outputs": [
    {
     "data": {
      "text/html": [
       "<div>\n",
       "<style scoped>\n",
       "    .dataframe tbody tr th:only-of-type {\n",
       "        vertical-align: middle;\n",
       "    }\n",
       "\n",
       "    .dataframe tbody tr th {\n",
       "        vertical-align: top;\n",
       "    }\n",
       "\n",
       "    .dataframe thead th {\n",
       "        text-align: right;\n",
       "    }\n",
       "</style>\n",
       "<table border=\"1\" class=\"dataframe\">\n",
       "  <thead>\n",
       "    <tr style=\"text-align: right;\">\n",
       "      <th></th>\n",
       "      <th>Subject</th>\n",
       "      <th>Visit</th>\n",
       "      <th>Side</th>\n",
       "      <th>Task</th>\n",
       "      <th>Tremor</th>\n",
       "      <th>Bradykinesia</th>\n",
       "      <th>RMS0</th>\n",
       "      <th>mean0</th>\n",
       "      <th>var0</th>\n",
       "      <th>skew0</th>\n",
       "      <th>...</th>\n",
       "      <th>MAV9</th>\n",
       "      <th>RMS10</th>\n",
       "      <th>mean10</th>\n",
       "      <th>var10</th>\n",
       "      <th>skew10</th>\n",
       "      <th>kurt10</th>\n",
       "      <th>binen10</th>\n",
       "      <th>energy10</th>\n",
       "      <th>MAV10</th>\n",
       "      <th>flexor_digitorum__accel</th>\n",
       "    </tr>\n",
       "  </thead>\n",
       "  <tbody>\n",
       "    <tr>\n",
       "      <th>0</th>\n",
       "      <td>1004</td>\n",
       "      <td>2 Weeks: Time 0</td>\n",
       "      <td>left</td>\n",
       "      <td>Motor #2: Walking</td>\n",
       "      <td>0.0</td>\n",
       "      <td>1.0</td>\n",
       "      <td>NaN</td>\n",
       "      <td>NaN</td>\n",
       "      <td>NaN</td>\n",
       "      <td>NaN</td>\n",
       "      <td>...</td>\n",
       "      <td>NaN</td>\n",
       "      <td>NaN</td>\n",
       "      <td>NaN</td>\n",
       "      <td>NaN</td>\n",
       "      <td>NaN</td>\n",
       "      <td>NaN</td>\n",
       "      <td>NaN</td>\n",
       "      <td>NaN</td>\n",
       "      <td>NaN</td>\n",
       "      <td>[0.0122164607654984, 0.00664163061640281, 0.00...</td>\n",
       "    </tr>\n",
       "    <tr>\n",
       "      <th>1</th>\n",
       "      <td>1004</td>\n",
       "      <td>2 Weeks: Time 0</td>\n",
       "      <td>left</td>\n",
       "      <td>Motor #2: Walking</td>\n",
       "      <td>0.0</td>\n",
       "      <td>1.0</td>\n",
       "      <td>NaN</td>\n",
       "      <td>NaN</td>\n",
       "      <td>NaN</td>\n",
       "      <td>NaN</td>\n",
       "      <td>...</td>\n",
       "      <td>NaN</td>\n",
       "      <td>NaN</td>\n",
       "      <td>NaN</td>\n",
       "      <td>NaN</td>\n",
       "      <td>NaN</td>\n",
       "      <td>NaN</td>\n",
       "      <td>NaN</td>\n",
       "      <td>NaN</td>\n",
       "      <td>NaN</td>\n",
       "      <td>[0.010626645669058962, 0.006257554464780335, 0...</td>\n",
       "    </tr>\n",
       "    <tr>\n",
       "      <th>2</th>\n",
       "      <td>1004</td>\n",
       "      <td>2 Weeks: Time 0</td>\n",
       "      <td>left</td>\n",
       "      <td>Motor #2: Walking</td>\n",
       "      <td>0.0</td>\n",
       "      <td>1.0</td>\n",
       "      <td>NaN</td>\n",
       "      <td>NaN</td>\n",
       "      <td>NaN</td>\n",
       "      <td>NaN</td>\n",
       "      <td>...</td>\n",
       "      <td>NaN</td>\n",
       "      <td>NaN</td>\n",
       "      <td>NaN</td>\n",
       "      <td>NaN</td>\n",
       "      <td>NaN</td>\n",
       "      <td>NaN</td>\n",
       "      <td>NaN</td>\n",
       "      <td>NaN</td>\n",
       "      <td>NaN</td>\n",
       "      <td>[0.009801355639564385, 0.00597036114953965, 0....</td>\n",
       "    </tr>\n",
       "    <tr>\n",
       "      <th>3</th>\n",
       "      <td>1004</td>\n",
       "      <td>2 Weeks: Time 0</td>\n",
       "      <td>left</td>\n",
       "      <td>Motor #2: Walking</td>\n",
       "      <td>0.0</td>\n",
       "      <td>1.0</td>\n",
       "      <td>0.000058</td>\n",
       "      <td>0.000129</td>\n",
       "      <td>0.000009</td>\n",
       "      <td>0.399398</td>\n",
       "      <td>...</td>\n",
       "      <td>0.000002</td>\n",
       "      <td>1.818105e-08</td>\n",
       "      <td>4.014991e-09</td>\n",
       "      <td>9.088620e-07</td>\n",
       "      <td>-0.036244</td>\n",
       "      <td>1.759811</td>\n",
       "      <td>2.024107</td>\n",
       "      <td>2.064290e-09</td>\n",
       "      <td>6.495575e-07</td>\n",
       "      <td>[0.012370743231278975, 0.006549813970182376, 0...</td>\n",
       "    </tr>\n",
       "    <tr>\n",
       "      <th>4</th>\n",
       "      <td>1004</td>\n",
       "      <td>2 Weeks: Time 0</td>\n",
       "      <td>left</td>\n",
       "      <td>Motor #2: Walking</td>\n",
       "      <td>0.0</td>\n",
       "      <td>1.0</td>\n",
       "      <td>NaN</td>\n",
       "      <td>NaN</td>\n",
       "      <td>NaN</td>\n",
       "      <td>NaN</td>\n",
       "      <td>...</td>\n",
       "      <td>NaN</td>\n",
       "      <td>NaN</td>\n",
       "      <td>NaN</td>\n",
       "      <td>NaN</td>\n",
       "      <td>NaN</td>\n",
       "      <td>NaN</td>\n",
       "      <td>NaN</td>\n",
       "      <td>NaN</td>\n",
       "      <td>NaN</td>\n",
       "      <td>[0.011069607558498772, 0.006669541371605966, 0...</td>\n",
       "    </tr>\n",
       "  </tbody>\n",
       "</table>\n",
       "<p>5 rows × 95 columns</p>\n",
       "</div>"
      ],
      "text/plain": [
       "   Subject            Visit  Side               Task  Tremor  Bradykinesia  \\\n",
       "0     1004  2 Weeks: Time 0  left  Motor #2: Walking     0.0           1.0   \n",
       "1     1004  2 Weeks: Time 0  left  Motor #2: Walking     0.0           1.0   \n",
       "2     1004  2 Weeks: Time 0  left  Motor #2: Walking     0.0           1.0   \n",
       "3     1004  2 Weeks: Time 0  left  Motor #2: Walking     0.0           1.0   \n",
       "4     1004  2 Weeks: Time 0  left  Motor #2: Walking     0.0           1.0   \n",
       "\n",
       "       RMS0     mean0      var0     skew0  ...      MAV9         RMS10  \\\n",
       "0       NaN       NaN       NaN       NaN  ...       NaN           NaN   \n",
       "1       NaN       NaN       NaN       NaN  ...       NaN           NaN   \n",
       "2       NaN       NaN       NaN       NaN  ...       NaN           NaN   \n",
       "3  0.000058  0.000129  0.000009  0.399398  ...  0.000002  1.818105e-08   \n",
       "4       NaN       NaN       NaN       NaN  ...       NaN           NaN   \n",
       "\n",
       "         mean10         var10    skew10    kurt10   binen10      energy10  \\\n",
       "0           NaN           NaN       NaN       NaN       NaN           NaN   \n",
       "1           NaN           NaN       NaN       NaN       NaN           NaN   \n",
       "2           NaN           NaN       NaN       NaN       NaN           NaN   \n",
       "3  4.014991e-09  9.088620e-07 -0.036244  1.759811  2.024107  2.064290e-09   \n",
       "4           NaN           NaN       NaN       NaN       NaN           NaN   \n",
       "\n",
       "          MAV10                            flexor_digitorum__accel  \n",
       "0           NaN  [0.0122164607654984, 0.00664163061640281, 0.00...  \n",
       "1           NaN  [0.010626645669058962, 0.006257554464780335, 0...  \n",
       "2           NaN  [0.009801355639564385, 0.00597036114953965, 0....  \n",
       "3  6.495575e-07  [0.012370743231278975, 0.006549813970182376, 0...  \n",
       "4           NaN  [0.011069607558498772, 0.006669541371605966, 0...  \n",
       "\n",
       "[5 rows x 95 columns]"
      ]
     },
     "execution_count": 4,
     "metadata": {},
     "output_type": "execute_result"
    }
   ],
   "source": [
    "Datafull.head()"
   ]
  },
  {
   "cell_type": "code",
   "execution_count": 5,
   "metadata": {},
   "outputs": [
    {
     "name": "stdout",
     "output_type": "stream",
     "text": [
      "flexor_digitorum__accel,discarded 6358 rows\n",
      "Tremor,discarded 3384 rows\n",
      "energy0,discarded 18271 rows\n"
     ]
    }
   ],
   "source": [
    "s = 'flexor_digitorum__accel'\n",
    "print('%s,discarded %d rows'%(s,sum(Datafull[s].apply(type) == float)))\n",
    "Datafull = Datafull[Datafull[s].apply(type) != float]\n",
    "\n",
    "s = 'Tremor'\n",
    "print('%s,discarded %d rows'%(s,sum(np.isnan(Datafull[s]))))\n",
    "Datafull = Datafull[~np.isnan(Datafull[s])]\n",
    "\n",
    "s = Data_EMG.columns.values[6]\n",
    "print('%s,discarded %d rows'%(s,sum(np.isnan(Datafull[s]))))\n",
    "Datafull = Datafull[~np.isnan(Datafull[s])]"
   ]
  },
  {
   "cell_type": "code",
   "execution_count": 6,
   "metadata": {
    "collapsed": true
   },
   "outputs": [],
   "source": [
    "def feature_unpack_forearm(Datafull):\n",
    "    #unpack features\n",
    "    colnames_accel =['RMSX', 'RMSY', 'RMSZ', 'rangeX', 'rangeY', 'rangeZ', 'meanX',\n",
    "           'meanY', 'meanZ', 'varX', 'varY', 'varZ', 'skewX', 'skewY', 'skewZ',\n",
    "           'kurtX', 'kurtY', 'kurtZ', 'xcor_peakXY', 'xcorr_peakXZ',\n",
    "           'xcorr_peakYZ', 'xcorr_lagXY', 'xcorr_lagXZ', 'xcorr_lagYZ', 'Dom_freq',\n",
    "           'Pdom_rel', 'PSD_mean', 'PSD_std', 'PSD_skew', 'PSD_kur', 'jerk_mean',\n",
    "           'jerk_std', 'jerk_skew', 'jerk_kur', 'Sen_X', 'Sen_Y', 'Sen_Z']\n",
    "    colnames_accel =[i+' accel' for i in colnames_accel]\n",
    "\n",
    "    sensor = 'flexor_digitorum__accel'\n",
    "    \n",
    "    Datafinal = pd.DataFrame()\n",
    "    \n",
    "    for i in range(len(Datafull)):\n",
    "        F = Datafull[sensor].iloc[i]\n",
    "        F = pd.DataFrame(data=F.reshape(-1,1).T,index=[i],columns=colnames_accel)\n",
    "        Datafinal = pd.concat((Datafinal,F))\n",
    "    Datafinal=Datafinal.reset_index(drop=True)\n",
    "    Datafull=Datafull.reset_index(drop=True)\n",
    "    Datafinal = pd.concat((Datafull.iloc[:,:94],Datafinal),axis=1)\n",
    "\n",
    "    return Datafinal"
   ]
  },
  {
   "cell_type": "code",
   "execution_count": 7,
   "metadata": {
    "collapsed": true
   },
   "outputs": [],
   "source": [
    "Datafull = feature_unpack_forearm(Datafull)"
   ]
  },
  {
   "cell_type": "code",
   "execution_count": 8,
   "metadata": {},
   "outputs": [
    {
     "data": {
      "text/html": [
       "<div>\n",
       "<style scoped>\n",
       "    .dataframe tbody tr th:only-of-type {\n",
       "        vertical-align: middle;\n",
       "    }\n",
       "\n",
       "    .dataframe tbody tr th {\n",
       "        vertical-align: top;\n",
       "    }\n",
       "\n",
       "    .dataframe thead th {\n",
       "        text-align: right;\n",
       "    }\n",
       "</style>\n",
       "<table border=\"1\" class=\"dataframe\">\n",
       "  <thead>\n",
       "    <tr style=\"text-align: right;\">\n",
       "      <th></th>\n",
       "      <th>Subject</th>\n",
       "      <th>Visit</th>\n",
       "      <th>Side</th>\n",
       "      <th>Task</th>\n",
       "      <th>Tremor</th>\n",
       "      <th>Bradykinesia</th>\n",
       "      <th>RMS0</th>\n",
       "      <th>mean0</th>\n",
       "      <th>var0</th>\n",
       "      <th>skew0</th>\n",
       "      <th>...</th>\n",
       "      <th>PSD_std accel</th>\n",
       "      <th>PSD_skew accel</th>\n",
       "      <th>PSD_kur accel</th>\n",
       "      <th>jerk_mean accel</th>\n",
       "      <th>jerk_std accel</th>\n",
       "      <th>jerk_skew accel</th>\n",
       "      <th>jerk_kur accel</th>\n",
       "      <th>Sen_X accel</th>\n",
       "      <th>Sen_Y accel</th>\n",
       "      <th>Sen_Z accel</th>\n",
       "    </tr>\n",
       "  </thead>\n",
       "  <tbody>\n",
       "    <tr>\n",
       "      <th>0</th>\n",
       "      <td>1004</td>\n",
       "      <td>2 Weeks: Time 0</td>\n",
       "      <td>left</td>\n",
       "      <td>Motor #2: Walking</td>\n",
       "      <td>0.0</td>\n",
       "      <td>1.0</td>\n",
       "      <td>0.000058</td>\n",
       "      <td>0.000129</td>\n",
       "      <td>0.000009</td>\n",
       "      <td>0.399398</td>\n",
       "      <td>...</td>\n",
       "      <td>0.001444</td>\n",
       "      <td>2.382094</td>\n",
       "      <td>5.333100</td>\n",
       "      <td>0.000575</td>\n",
       "      <td>0.054457</td>\n",
       "      <td>0.551808</td>\n",
       "      <td>1.459770</td>\n",
       "      <td>0.574293</td>\n",
       "      <td>0.741461</td>\n",
       "      <td>0.783992</td>\n",
       "    </tr>\n",
       "    <tr>\n",
       "      <th>1</th>\n",
       "      <td>1004</td>\n",
       "      <td>4 Weeks</td>\n",
       "      <td>left</td>\n",
       "      <td>Motor #2: Walking</td>\n",
       "      <td>0.0</td>\n",
       "      <td>0.0</td>\n",
       "      <td>0.000056</td>\n",
       "      <td>0.000124</td>\n",
       "      <td>0.000011</td>\n",
       "      <td>-0.347647</td>\n",
       "      <td>...</td>\n",
       "      <td>0.002467</td>\n",
       "      <td>3.798906</td>\n",
       "      <td>15.633740</td>\n",
       "      <td>-0.000238</td>\n",
       "      <td>0.057850</td>\n",
       "      <td>0.941721</td>\n",
       "      <td>3.168144</td>\n",
       "      <td>0.644744</td>\n",
       "      <td>0.786910</td>\n",
       "      <td>0.878338</td>\n",
       "    </tr>\n",
       "    <tr>\n",
       "      <th>2</th>\n",
       "      <td>1004</td>\n",
       "      <td>4 Weeks</td>\n",
       "      <td>left</td>\n",
       "      <td>Motor #2: Walking</td>\n",
       "      <td>0.0</td>\n",
       "      <td>0.0</td>\n",
       "      <td>0.000060</td>\n",
       "      <td>0.000134</td>\n",
       "      <td>0.000014</td>\n",
       "      <td>0.958786</td>\n",
       "      <td>...</td>\n",
       "      <td>0.001858</td>\n",
       "      <td>3.593627</td>\n",
       "      <td>13.813865</td>\n",
       "      <td>0.002097</td>\n",
       "      <td>0.046613</td>\n",
       "      <td>0.998875</td>\n",
       "      <td>3.229052</td>\n",
       "      <td>0.650181</td>\n",
       "      <td>0.715376</td>\n",
       "      <td>0.908934</td>\n",
       "    </tr>\n",
       "    <tr>\n",
       "      <th>3</th>\n",
       "      <td>1004</td>\n",
       "      <td>4 Weeks</td>\n",
       "      <td>left</td>\n",
       "      <td>Motor #2: Walking</td>\n",
       "      <td>0.0</td>\n",
       "      <td>0.0</td>\n",
       "      <td>0.000057</td>\n",
       "      <td>0.000126</td>\n",
       "      <td>0.000012</td>\n",
       "      <td>0.254498</td>\n",
       "      <td>...</td>\n",
       "      <td>0.002840</td>\n",
       "      <td>1.330189</td>\n",
       "      <td>0.418690</td>\n",
       "      <td>0.000635</td>\n",
       "      <td>0.057558</td>\n",
       "      <td>-0.139625</td>\n",
       "      <td>1.690948</td>\n",
       "      <td>0.622565</td>\n",
       "      <td>0.677374</td>\n",
       "      <td>0.750162</td>\n",
       "    </tr>\n",
       "    <tr>\n",
       "      <th>4</th>\n",
       "      <td>1004</td>\n",
       "      <td>4 Weeks</td>\n",
       "      <td>left</td>\n",
       "      <td>Motor #2: Walking</td>\n",
       "      <td>0.0</td>\n",
       "      <td>0.0</td>\n",
       "      <td>0.000053</td>\n",
       "      <td>0.000117</td>\n",
       "      <td>0.000013</td>\n",
       "      <td>0.216862</td>\n",
       "      <td>...</td>\n",
       "      <td>0.005875</td>\n",
       "      <td>1.849822</td>\n",
       "      <td>2.488761</td>\n",
       "      <td>-0.002750</td>\n",
       "      <td>0.065912</td>\n",
       "      <td>0.191875</td>\n",
       "      <td>2.691909</td>\n",
       "      <td>0.652863</td>\n",
       "      <td>0.642245</td>\n",
       "      <td>0.760753</td>\n",
       "    </tr>\n",
       "  </tbody>\n",
       "</table>\n",
       "<p>5 rows × 131 columns</p>\n",
       "</div>"
      ],
      "text/plain": [
       "   Subject            Visit  Side               Task  Tremor  Bradykinesia  \\\n",
       "0     1004  2 Weeks: Time 0  left  Motor #2: Walking     0.0           1.0   \n",
       "1     1004          4 Weeks  left  Motor #2: Walking     0.0           0.0   \n",
       "2     1004          4 Weeks  left  Motor #2: Walking     0.0           0.0   \n",
       "3     1004          4 Weeks  left  Motor #2: Walking     0.0           0.0   \n",
       "4     1004          4 Weeks  left  Motor #2: Walking     0.0           0.0   \n",
       "\n",
       "       RMS0     mean0      var0     skew0  ...  PSD_std accel  PSD_skew accel  \\\n",
       "0  0.000058  0.000129  0.000009  0.399398  ...       0.001444        2.382094   \n",
       "1  0.000056  0.000124  0.000011 -0.347647  ...       0.002467        3.798906   \n",
       "2  0.000060  0.000134  0.000014  0.958786  ...       0.001858        3.593627   \n",
       "3  0.000057  0.000126  0.000012  0.254498  ...       0.002840        1.330189   \n",
       "4  0.000053  0.000117  0.000013  0.216862  ...       0.005875        1.849822   \n",
       "\n",
       "   PSD_kur accel  jerk_mean accel  jerk_std accel  jerk_skew accel  \\\n",
       "0       5.333100         0.000575        0.054457         0.551808   \n",
       "1      15.633740        -0.000238        0.057850         0.941721   \n",
       "2      13.813865         0.002097        0.046613         0.998875   \n",
       "3       0.418690         0.000635        0.057558        -0.139625   \n",
       "4       2.488761        -0.002750        0.065912         0.191875   \n",
       "\n",
       "   jerk_kur accel  Sen_X accel  Sen_Y accel  Sen_Z accel  \n",
       "0        1.459770     0.574293     0.741461     0.783992  \n",
       "1        3.168144     0.644744     0.786910     0.878338  \n",
       "2        3.229052     0.650181     0.715376     0.908934  \n",
       "3        1.690948     0.622565     0.677374     0.750162  \n",
       "4        2.691909     0.652863     0.642245     0.760753  \n",
       "\n",
       "[5 rows x 131 columns]"
      ]
     },
     "execution_count": 8,
     "metadata": {},
     "output_type": "execute_result"
    }
   ],
   "source": [
    "Datafull.head()"
   ]
  },
  {
   "cell_type": "markdown",
   "metadata": {},
   "source": [
    "## Leave One Subject Out"
   ]
  },
  {
   "cell_type": "markdown",
   "metadata": {},
   "source": [
    "### Tremor"
   ]
  },
  {
   "cell_type": "code",
   "execution_count": 9,
   "metadata": {
    "scrolled": true
   },
   "outputs": [
    {
     "name": "stderr",
     "output_type": "stream",
     "text": [
      "C:\\Users\\nshawen\\AppData\\Local\\Continuum\\anaconda3\\lib\\site-packages\\ipykernel_launcher.py:12: FutureWarning: Method .as_matrix will be removed in a future version. Use .values instead.\n",
      "  if sys.path[0] == '':\n",
      "C:\\Users\\nshawen\\AppData\\Local\\Continuum\\anaconda3\\lib\\site-packages\\ipykernel_launcher.py:23: FutureWarning: Method .as_matrix will be removed in a future version. Use .values instead.\n"
     ]
    },
    {
     "name": "stdout",
     "output_type": "stream",
     "text": [
      "Rows w Tremor 4087/19605 = 0.21\n",
      "Training Random Forest\n",
      "\n",
      "Subj/Visit 0,prec=0.000,rec=0.000,Spec=0.991,auroc_train=1.000,auroc=0.589\n",
      "\n",
      "Subj/Visit 1,prec=0.200,rec=0.001,Spec=0.996,auroc_train=1.000,auroc=0.581\n",
      "\n",
      "Subj/Visit 2,prec=0.000,rec=0.000,Spec=0.998,auroc_train=1.000,auroc=0.524\n",
      "\n",
      "Subj/Visit 3,prec=0.000,rec=0.000,Spec=0.994,auroc_train=1.000,auroc=0.451\n",
      "\n",
      "Subj/Visit 4,prec=1.000,rec=0.029,Spec=1.000,auroc_train=1.000,auroc=0.582\n",
      "\n",
      "Subj/Visit 5,prec=0.167,rec=0.005,Spec=0.993,auroc_train=1.000,auroc=0.583\n",
      "\n",
      "Subj/Visit 6,prec=0.333,rec=0.005,Spec=0.995,auroc_train=1.000,auroc=0.544\n",
      "\n",
      "Subj/Visit 7,prec=0.000,rec=0.000,Spec=0.994,auroc_train=1.000,auroc=0.453\n",
      "\n",
      "Subj/Visit 8,prec=0.077,rec=0.021,Spec=0.990,auroc_train=1.000,auroc=0.557\n",
      "\n",
      "Subj/Visit 9,prec=0.259,rec=0.019,Spec=0.962,auroc_train=1.000,auroc=0.543\n",
      "\n",
      "Subj/Visit 10,prec=0.000,rec=0.000,Spec=0.992,auroc_train=1.000,auroc=0.442\n",
      "\n",
      "Subj/Visit 11,prec=0.333,rec=0.010,Spec=0.994,auroc_train=1.000,auroc=0.508\n",
      "\n",
      "Subj/Visit 12,prec=0.000,rec=0.000,Spec=0.944,auroc_train=1.000,auroc=0.351\n",
      "\n",
      "Subj/Visit 13,prec=0.143,rec=0.002,Spec=0.992,auroc_train=1.000,auroc=0.470\n",
      "\n",
      "Subj/Visit 14,prec=0.000,rec=0.000,Spec=0.993,auroc_train=1.000,auroc=0.305\n",
      "\n",
      "Subj/Visit 15,prec=0.133,rec=0.020,Spec=0.988,auroc_train=1.000,auroc=0.478\n"
     ]
    },
    {
     "name": "stderr",
     "output_type": "stream",
     "text": [
      "C:\\Users\\nshawen\\AppData\\Local\\Continuum\\anaconda3\\lib\\site-packages\\sklearn\\metrics\\classification.py:1137: UndefinedMetricWarning: F-score is ill-defined and being set to 0.0 due to no true samples.\n",
      "  'recall', 'true', average, warn_for)\n",
      "C:\\Users\\nshawen\\AppData\\Local\\Continuum\\anaconda3\\lib\\site-packages\\sklearn\\metrics\\ranking.py:444: RuntimeWarning: invalid value encountered in true_divide\n",
      "  recall = tps / tps[-1]\n",
      "C:\\Users\\nshawen\\AppData\\Local\\Continuum\\anaconda3\\lib\\site-packages\\sklearn\\metrics\\ranking.py:94: RuntimeWarning: invalid value encountered in less\n",
      "  if np.any(dx < 0):\n",
      "C:\\Users\\nshawen\\AppData\\Local\\Continuum\\anaconda3\\lib\\site-packages\\sklearn\\metrics\\classification.py:1137: UndefinedMetricWarning: Recall is ill-defined and being set to 0.0 due to no true samples.\n",
      "  'recall', 'true', average, warn_for)\n"
     ]
    },
    {
     "name": "stdout",
     "output_type": "stream",
     "text": [
      "only 1 class in test data - cannot compute roc curve\n",
      "\n",
      "Subj/Visit 16,prec=0.000,rec=0.000,Spec=0.998,auroc_train=1.000,auroc=nan\n",
      "\n",
      "Subj/Visit 17,prec=0.000,rec=0.000,Spec=0.989,auroc_train=1.000,auroc=0.378\n",
      "\n",
      "Subj/Visit 18,prec=0.857,rec=0.023,Spec=0.986,auroc_train=1.000,auroc=0.548\n",
      "\n",
      "Subj/Visit 19,prec=1.000,rec=0.002,Spec=1.000,auroc_train=1.000,auroc=0.450\n",
      "f1_test=0.013+/-0.017, prec=0.225+/-0.326, rec=0.007+/-0.009, auprc=0.243+/-0.248, auroc=0.492+/-0.081\n",
      "Elapsed time = 3.279 min\n"
     ]
    }
   ],
   "source": [
    "#LOSO EMG Tremor\n",
    "\n",
    "t1=time.time()\n",
    "res_all = pd.DataFrame()\n",
    "\n",
    "symptom = 'Tremor'\n",
    "\n",
    "Data = Datafull.copy() #original unmodified dataframe\n",
    "Data=Data[~Data[symptom].isnull()] #remove nan rows for current symptom\n",
    "Data=Data.reset_index(drop=True) #reset index\n",
    "\n",
    "X = Data.iloc[:,6:94].as_matrix()\n",
    "fnames = Data.iloc[:,6:94].columns.values\n",
    "\n",
    "indp = ((Data[symptom]>0))\n",
    "indp = indp.values\n",
    "y = indp.astype(int) #target \n",
    "print('Rows w %s %d/%d = %.2f'%(symptom,sum(indp),len(indp),(sum(indp)/len(indp))))\n",
    "\n",
    "models = [RandomForestClassifier(n_estimators=50,random_state=2)]          \n",
    "model_name = ['Random Forest']\n",
    "models = list(zip(models,model_name))\n",
    "groups = Data.Subject.as_matrix()\n",
    "\n",
    "res,res_group = LOSOCV(Data,X,y,groups,models)\n",
    "res_all = pd.concat((res_all,res))\n",
    "    \n",
    "print('Elapsed time = %.3f min'%((time.time()-t1)/60))    "
   ]
  },
  {
   "cell_type": "code",
   "execution_count": 10,
   "metadata": {},
   "outputs": [
    {
     "data": {
      "image/png": "[encoded data removed]",
      "text/plain": [
       "<matplotlib.figure.Figure at 0xc6e7da0>"
      ]
     },
     "metadata": {},
     "output_type": "display_data"
    }
   ],
   "source": [
    "results = res_group['Random Forest']['auroc']\n",
    "np.save('Results/resultsTremorLOSOEMG.npy',results)\n",
    "aurocall = res_group['Random Forest']['auroc']\n",
    "sns.barplot(np.unique(groups),aurocall)\n",
    "ax = plt.xticks(rotation=90)\n",
    "plt.ylim([0.25,0.65])\n",
    "plt.title('LOSO EMG - Mean AUROC = %.3f +/- %.3f'%(np.nanmean(aurocall),np.nanstd(aurocall)))\n",
    "plt.savefig('Results/resultsTremorLOSOEMG.png',format='png',dpi=1000)"
   ]
  },
  {
   "cell_type": "code",
   "execution_count": 11,
   "metadata": {
    "scrolled": true
   },
   "outputs": [
    {
     "name": "stderr",
     "output_type": "stream",
     "text": [
      "C:\\Users\\nshawen\\AppData\\Local\\Continuum\\anaconda3\\lib\\site-packages\\ipykernel_launcher.py:12: FutureWarning: Method .as_matrix will be removed in a future version. Use .values instead.\n",
      "  if sys.path[0] == '':\n",
      "C:\\Users\\nshawen\\AppData\\Local\\Continuum\\anaconda3\\lib\\site-packages\\ipykernel_launcher.py:23: FutureWarning: Method .as_matrix will be removed in a future version. Use .values instead.\n"
     ]
    },
    {
     "name": "stdout",
     "output_type": "stream",
     "text": [
      "Rows w Tremor 4087/19605 = 0.21\n",
      "Training Random Forest\n",
      "\n",
      "Subj/Visit 0,prec=0.286,rec=0.130,Spec=0.957,auroc_train=1.000,auroc=0.783\n",
      "\n",
      "Subj/Visit 1,prec=0.814,rec=0.058,Spec=0.988,auroc_train=1.000,auroc=0.715\n",
      "\n",
      "Subj/Visit 2,prec=0.618,rec=0.300,Spec=0.986,auroc_train=1.000,auroc=0.868\n",
      "\n",
      "Subj/Visit 3,prec=0.195,rec=0.140,Spec=0.973,auroc_train=1.000,auroc=0.674\n",
      "\n",
      "Subj/Visit 4,prec=0.778,rec=0.400,Spec=0.964,auroc_train=1.000,auroc=0.818\n",
      "\n",
      "Subj/Visit 5,prec=0.392,rec=0.105,Spec=0.954,auroc_train=1.000,auroc=0.667\n",
      "\n",
      "Subj/Visit 6,prec=0.570,rec=0.206,Spec=0.928,auroc_train=1.000,auroc=0.707\n",
      "\n",
      "Subj/Visit 7,prec=0.556,rec=0.510,Spec=0.980,auroc_train=1.000,auroc=0.939\n",
      "\n",
      "Subj/Visit 8,prec=0.553,rec=0.542,Spec=0.983,auroc_train=1.000,auroc=0.892\n",
      "\n",
      "Subj/Visit 9,prec=0.781,rec=0.202,Spec=0.960,auroc_train=1.000,auroc=0.751\n",
      "\n",
      "Subj/Visit 10,prec=0.611,rec=0.489,Spec=0.980,auroc_train=1.000,auroc=0.942\n",
      "\n",
      "Subj/Visit 11,prec=0.810,rec=0.054,Spec=0.996,auroc_train=1.000,auroc=0.716\n",
      "\n",
      "Subj/Visit 12,prec=0.100,rec=0.167,Spec=0.987,auroc_train=1.000,auroc=0.971\n",
      "\n",
      "Subj/Visit 13,prec=0.735,rec=0.243,Spec=0.945,auroc_train=1.000,auroc=0.768\n",
      "\n",
      "Subj/Visit 14,prec=0.094,rec=0.600,Spec=0.967,auroc_train=1.000,auroc=0.890\n",
      "\n",
      "Subj/Visit 15,prec=0.129,rec=0.133,Spec=0.919,auroc_train=1.000,auroc=0.603\n"
     ]
    },
    {
     "name": "stderr",
     "output_type": "stream",
     "text": [
      "C:\\Users\\nshawen\\AppData\\Local\\Continuum\\anaconda3\\lib\\site-packages\\sklearn\\metrics\\classification.py:1137: UndefinedMetricWarning: F-score is ill-defined and being set to 0.0 due to no true samples.\n",
      "  'recall', 'true', average, warn_for)\n",
      "C:\\Users\\nshawen\\AppData\\Local\\Continuum\\anaconda3\\lib\\site-packages\\sklearn\\metrics\\ranking.py:444: RuntimeWarning: invalid value encountered in true_divide\n",
      "  recall = tps / tps[-1]\n",
      "C:\\Users\\nshawen\\AppData\\Local\\Continuum\\anaconda3\\lib\\site-packages\\sklearn\\metrics\\ranking.py:94: RuntimeWarning: invalid value encountered in less\n",
      "  if np.any(dx < 0):\n",
      "C:\\Users\\nshawen\\AppData\\Local\\Continuum\\anaconda3\\lib\\site-packages\\sklearn\\metrics\\classification.py:1137: UndefinedMetricWarning: Recall is ill-defined and being set to 0.0 due to no true samples.\n",
      "  'recall', 'true', average, warn_for)\n"
     ]
    },
    {
     "name": "stdout",
     "output_type": "stream",
     "text": [
      "only 1 class in test data - cannot compute roc curve\n",
      "\n",
      "Subj/Visit 16,prec=0.000,rec=0.000,Spec=0.968,auroc_train=1.000,auroc=nan\n",
      "\n",
      "Subj/Visit 17,prec=0.143,rec=0.714,Spec=0.973,auroc_train=1.000,auroc=0.975\n",
      "\n",
      "Subj/Visit 18,prec=0.945,rec=0.161,Spec=0.965,auroc_train=1.000,auroc=0.684\n",
      "\n",
      "Subj/Visit 19,prec=0.958,rec=0.219,Spec=0.961,auroc_train=1.000,auroc=0.682\n",
      "f1_test=0.277+/-0.164, prec=0.503+/-0.303, rec=0.269+/-0.198, auprc=0.455+/-0.242, auroc=0.792+/-0.114\n",
      "Elapsed time = 2.088 min\n"
     ]
    }
   ],
   "source": [
    "#LOSO Accelerometer Tremor\n",
    "\n",
    "t1=time.time()\n",
    "res_all = pd.DataFrame()\n",
    "\n",
    "symptom = 'Tremor'\n",
    "\n",
    "Data = Datafull.copy() #original unmodified dataframe\n",
    "Data=Data[~Data[symptom].isnull()] #remove nan rows for current symptom\n",
    "Data=Data.reset_index(drop=True) #reset index\n",
    "\n",
    "X = Data.iloc[:,94:].as_matrix()\n",
    "fnames = Data.iloc[:,94:].columns.values\n",
    "\n",
    "indp = ((Data[symptom]>0))\n",
    "indp = indp.values\n",
    "y = indp.astype(int) #target \n",
    "print('Rows w %s %d/%d = %.2f'%(symptom,sum(indp),len(indp),(sum(indp)/len(indp))))\n",
    "\n",
    "models = [RandomForestClassifier(n_estimators=50,random_state=2)]          \n",
    "model_name = ['Random Forest']\n",
    "models = list(zip(models,model_name))\n",
    "groups = Data.Subject.as_matrix()\n",
    "\n",
    "res,res_group = LOSOCV(Data,X,y,groups,models)\n",
    "res_all = pd.concat((res_all,res))\n",
    "    \n",
    "print('Elapsed time = %.3f min'%((time.time()-t1)/60))    "
   ]
  },
  {
   "cell_type": "code",
   "execution_count": 12,
   "metadata": {},
   "outputs": [
    {
     "data": {
      "image/png": "[encoded data removed]",
      "text/plain": [
       "<matplotlib.figure.Figure at 0xc6e7f28>"
      ]
     },
     "metadata": {},
     "output_type": "display_data"
    }
   ],
   "source": [
    "results = res_group['Random Forest']['auroc']\n",
    "np.save('Results/resultsTremorLOSOAccel.npy',results)\n",
    "aurocall = res_group['Random Forest']['auroc']\n",
    "sns.barplot(np.unique(groups),aurocall)\n",
    "ax = plt.xticks(rotation=90)\n",
    "plt.ylim([0.55,1.0])\n",
    "plt.title('LOSO Accel - Mean AUROC = %.3f +/- %.3f'%(np.nanmean(aurocall),np.nanstd(aurocall)))\n",
    "plt.savefig('Results/resultsTremorLOSOAccel.png',format='png',dpi=1000)"
   ]
  },
  {
   "cell_type": "code",
   "execution_count": 13,
   "metadata": {
    "scrolled": true
   },
   "outputs": [
    {
     "name": "stderr",
     "output_type": "stream",
     "text": [
      "C:\\Users\\nshawen\\AppData\\Local\\Continuum\\anaconda3\\lib\\site-packages\\ipykernel_launcher.py:12: FutureWarning: Method .as_matrix will be removed in a future version. Use .values instead.\n",
      "  if sys.path[0] == '':\n",
      "C:\\Users\\nshawen\\AppData\\Local\\Continuum\\anaconda3\\lib\\site-packages\\ipykernel_launcher.py:23: FutureWarning: Method .as_matrix will be removed in a future version. Use .values instead.\n"
     ]
    },
    {
     "name": "stdout",
     "output_type": "stream",
     "text": [
      "Rows w Tremor 4087/19605 = 0.21\n",
      "Training Random Forest\n",
      "\n",
      "Subj/Visit 0,prec=0.378,rec=0.185,Spec=0.960,auroc_train=1.000,auroc=0.785\n",
      "\n",
      "Subj/Visit 1,prec=0.724,rec=0.025,Spec=0.992,auroc_train=1.000,auroc=0.661\n",
      "\n",
      "Subj/Visit 2,prec=0.556,rec=0.143,Spec=0.991,auroc_train=1.000,auroc=0.851\n",
      "\n",
      "Subj/Visit 3,prec=0.059,rec=0.018,Spec=0.987,auroc_train=1.000,auroc=0.638\n",
      "\n",
      "Subj/Visit 4,prec=0.875,rec=0.200,Spec=0.991,auroc_train=1.000,auroc=0.807\n",
      "\n",
      "Subj/Visit 5,prec=0.353,rec=0.063,Spec=0.967,auroc_train=1.000,auroc=0.663\n",
      "\n",
      "Subj/Visit 6,prec=0.610,rec=0.172,Spec=0.949,auroc_train=1.000,auroc=0.687\n",
      "\n",
      "Subj/Visit 7,prec=0.528,rec=0.388,Spec=0.983,auroc_train=1.000,auroc=0.908\n",
      "\n",
      "Subj/Visit 8,prec=0.370,rec=0.354,Spec=0.976,auroc_train=1.000,auroc=0.919\n",
      "\n",
      "Subj/Visit 9,prec=0.644,rec=0.102,Spec=0.960,auroc_train=1.000,auroc=0.691\n",
      "\n",
      "Subj/Visit 10,prec=0.462,rec=0.267,Spec=0.980,auroc_train=1.000,auroc=0.910\n",
      "\n",
      "Subj/Visit 11,prec=0.720,rec=0.058,Spec=0.993,auroc_train=1.000,auroc=0.671\n",
      "\n",
      "Subj/Visit 12,prec=0.060,rec=0.500,Spec=0.932,auroc_train=1.000,auroc=0.908\n",
      "\n",
      "Subj/Visit 13,prec=0.815,rec=0.119,Spec=0.983,auroc_train=1.000,auroc=0.729\n",
      "\n",
      "Subj/Visit 14,prec=0.000,rec=0.000,Spec=0.979,auroc_train=1.000,auroc=0.844\n",
      "\n",
      "Subj/Visit 15,prec=0.125,rec=0.061,Spec=0.962,auroc_train=1.000,auroc=0.564\n"
     ]
    },
    {
     "name": "stderr",
     "output_type": "stream",
     "text": [
      "C:\\Users\\nshawen\\AppData\\Local\\Continuum\\anaconda3\\lib\\site-packages\\sklearn\\metrics\\classification.py:1137: UndefinedMetricWarning: F-score is ill-defined and being set to 0.0 due to no true samples.\n",
      "  'recall', 'true', average, warn_for)\n",
      "C:\\Users\\nshawen\\AppData\\Local\\Continuum\\anaconda3\\lib\\site-packages\\sklearn\\metrics\\ranking.py:444: RuntimeWarning: invalid value encountered in true_divide\n",
      "  recall = tps / tps[-1]\n",
      "C:\\Users\\nshawen\\AppData\\Local\\Continuum\\anaconda3\\lib\\site-packages\\sklearn\\metrics\\ranking.py:94: RuntimeWarning: invalid value encountered in less\n",
      "  if np.any(dx < 0):\n",
      "C:\\Users\\nshawen\\AppData\\Local\\Continuum\\anaconda3\\lib\\site-packages\\sklearn\\metrics\\classification.py:1137: UndefinedMetricWarning: Recall is ill-defined and being set to 0.0 due to no true samples.\n",
      "  'recall', 'true', average, warn_for)\n"
     ]
    },
    {
     "name": "stdout",
     "output_type": "stream",
     "text": [
      "only 1 class in test data - cannot compute roc curve\n",
      "\n",
      "Subj/Visit 16,prec=0.000,rec=0.000,Spec=0.988,auroc_train=1.000,auroc=nan\n",
      "\n",
      "Subj/Visit 17,prec=0.043,rec=0.286,Spec=0.960,auroc_train=1.000,auroc=0.913\n",
      "\n",
      "Subj/Visit 18,prec=0.958,rec=0.128,Spec=0.979,auroc_train=1.000,auroc=0.699\n",
      "\n",
      "Subj/Visit 19,prec=0.923,rec=0.116,Spec=0.961,auroc_train=1.000,auroc=0.636\n",
      "f1_test=0.179+/-0.125, prec=0.460+/-0.318, rec=0.159+/-0.135, auprc=0.398+/-0.257, auroc=0.762+/-0.113\n",
      "Elapsed time = 3.625 min\n"
     ]
    }
   ],
   "source": [
    "#LOSO Combined EMG and Accelerometer Tremor\n",
    "\n",
    "t1=time.time()\n",
    "res_all = pd.DataFrame()\n",
    "\n",
    "symptom = 'Tremor'\n",
    "\n",
    "Data = Datafull.copy() #original unmodified dataframe\n",
    "Data=Data[~Data[symptom].isnull()] #remove nan rows for current symptom\n",
    "Data=Data.reset_index(drop=True) #reset index\n",
    "\n",
    "X = Data.iloc[:,6:].as_matrix()\n",
    "fnames = Data.iloc[:,6:].columns.values\n",
    "\n",
    "indp = ((Data[symptom]>0))\n",
    "indp = indp.values\n",
    "y = indp.astype(int) #target \n",
    "print('Rows w %s %d/%d = %.2f'%(symptom,sum(indp),len(indp),(sum(indp)/len(indp))))\n",
    "\n",
    "models = [RandomForestClassifier(n_estimators=50,random_state=2)]          \n",
    "model_name = ['Random Forest']\n",
    "models = list(zip(models,model_name))\n",
    "groups = Data.Subject.as_matrix()\n",
    "\n",
    "res,res_group = LOSOCV(Data,X,y,groups,models)\n",
    "res_all = pd.concat((res_all,res))\n",
    "    \n",
    "print('Elapsed time = %.3f min'%((time.time()-t1)/60))    "
   ]
  },
  {
   "cell_type": "code",
   "execution_count": 14,
   "metadata": {},
   "outputs": [
    {
     "data": {
      "image/png": "[encoded data removed]",
      "text/plain": [
       "<matplotlib.figure.Figure at 0xc6e7c50>"
      ]
     },
     "metadata": {},
     "output_type": "display_data"
    }
   ],
   "source": [
    "results = res_group['Random Forest']['auroc']\n",
    "np.save('Results/resultsTremorLOSOCombined.npy',results)\n",
    "aurocall = res_group['Random Forest']['auroc']\n",
    "sns.barplot(np.unique(groups),aurocall)\n",
    "ax = plt.xticks(rotation=90)\n",
    "plt.ylim([0.5,0.95])\n",
    "plt.title('LOSO Combined - Mean AUROC = %.3f +/- %.3f'%(np.nanmean(aurocall),np.nanstd(aurocall)))\n",
    "plt.savefig('Results/resultsTremorLOSOCombined.png',format='png',dpi=1000)"
   ]
  },
  {
   "cell_type": "code",
   "execution_count": 15,
   "metadata": {},
   "outputs": [
    {
     "data": {
      "image/png": "[encoded data removed]",
      "text/plain": [
       "<matplotlib.figure.Figure at 0x163648d0>"
      ]
     },
     "metadata": {},
     "output_type": "display_data"
    }
   ],
   "source": [
    "resultsEMG = np.load('Results/resultsTremorLOSOEMG.npy')\n",
    "resultsAccel = np.load('Results/resultsTremorLOSOAccel.npy')\n",
    "resultsCombined = np.load('Results/resultsTremorLOSOCombined.npy')\n",
    "results = pd.DataFrame({'EMG':resultsEMG,'Accelerometer':resultsAccel,'Combined':resultsCombined})\n",
    "\n",
    "figure = plt.figure()\n",
    "figure.set_dpi(100)\n",
    "figure.set_size_inches(6.4,4.8)\n",
    "ax = sns.boxplot(data=results);\n",
    "plt.ylabel('AUROC');\n",
    "plt.ylim(0.3,1.1);\n",
    "plt.title('Tremor LOSO');\n",
    "\n",
    "#x1,x2 = 0,1\n",
    "#y, h, col = results['Accelerometer'].max() + 0.02, 0.02, 'k'\n",
    "#plt.plot([x1, x1, x2, x2], [y, y+h, y+h, y], lw=1.5, c=col)\n",
    "#plt.text((x1+x2)*.5, y+h+0.01, \"***\", ha='center', va='bottom', color=col,fontsize=16);\n",
    "\n",
    "plt.savefig('Results/Tremor Comparison Boxplot LOSO.png',format='png',dpi=1000)"
   ]
  },
  {
   "cell_type": "markdown",
   "metadata": {},
   "source": [
    "### Bradykinesia"
   ]
  },
  {
   "cell_type": "code",
   "execution_count": 16,
   "metadata": {
    "scrolled": true
   },
   "outputs": [
    {
     "name": "stderr",
     "output_type": "stream",
     "text": [
      "C:\\Users\\nshawen\\AppData\\Local\\Continuum\\anaconda3\\lib\\site-packages\\ipykernel_launcher.py:12: FutureWarning: Method .as_matrix will be removed in a future version. Use .values instead.\n",
      "  if sys.path[0] == '':\n",
      "C:\\Users\\nshawen\\AppData\\Local\\Continuum\\anaconda3\\lib\\site-packages\\ipykernel_launcher.py:23: FutureWarning: Method .as_matrix will be removed in a future version. Use .values instead.\n"
     ]
    },
    {
     "name": "stdout",
     "output_type": "stream",
     "text": [
      "Rows w Bradykinesia 8127/15532 = 0.52\n",
      "Training Random Forest\n",
      "\n",
      "Subj/Visit 0,prec=0.337,rec=0.515,Spec=0.467,auroc_train=1.000,auroc=0.522\n",
      "\n",
      "Subj/Visit 1,prec=0.937,rec=0.488,Spec=0.531,auroc_train=1.000,auroc=0.516\n",
      "\n",
      "Subj/Visit 2,prec=0.633,rec=0.528,Spec=0.637,auroc_train=1.000,auroc=0.622\n",
      "\n",
      "Subj/Visit 3,prec=0.360,rec=0.689,Spec=0.316,auroc_train=1.000,auroc=0.496\n",
      "\n",
      "Subj/Visit 4,prec=0.553,rec=0.636,Spec=0.333,auroc_train=1.000,auroc=0.482\n",
      "\n",
      "Subj/Visit 5,prec=0.693,rec=0.664,Spec=0.576,auroc_train=1.000,auroc=0.630\n",
      "\n",
      "Subj/Visit 6,prec=0.646,rec=0.623,Spec=0.453,auroc_train=1.000,auroc=0.565\n",
      "\n",
      "Subj/Visit 7,prec=0.484,rec=0.582,Spec=0.346,auroc_train=1.000,auroc=0.423\n",
      "\n",
      "Subj/Visit 8,prec=0.883,rec=0.340,Spec=0.626,auroc_train=1.000,auroc=0.481\n",
      "\n",
      "Subj/Visit 9,prec=0.350,rec=0.455,Spec=0.590,auroc_train=1.000,auroc=0.547\n",
      "\n",
      "Subj/Visit 10,prec=0.422,rec=0.516,Spec=0.497,auroc_train=1.000,auroc=0.503\n",
      "\n",
      "Subj/Visit 11,prec=0.435,rec=0.694,Spec=0.348,auroc_train=1.000,auroc=0.515\n",
      "\n",
      "Subj/Visit 12,prec=0.111,rec=0.508,Spec=0.447,auroc_train=1.000,auroc=0.486\n",
      "\n",
      "Subj/Visit 13,prec=0.495,rec=0.821,Spec=0.215,auroc_train=1.000,auroc=0.492\n",
      "\n",
      "Subj/Visit 14,prec=0.136,rec=0.588,Spec=0.300,auroc_train=1.000,auroc=0.453\n",
      "\n",
      "Subj/Visit 15,prec=0.662,rec=0.632,Spec=0.486,auroc_train=1.000,auroc=0.568\n",
      "\n",
      "Subj/Visit 16,prec=0.284,rec=0.680,Spec=0.437,auroc_train=1.000,auroc=0.558\n",
      "\n",
      "Subj/Visit 17,prec=0.505,rec=0.642,Spec=0.421,auroc_train=1.000,auroc=0.531\n",
      "\n",
      "Subj/Visit 18,prec=0.362,rec=0.419,Spec=0.492,auroc_train=1.000,auroc=0.445\n",
      "\n",
      "Subj/Visit 19,prec=0.853,rec=0.499,Spec=0.552,auroc_train=1.000,auroc=0.540\n",
      "f1_test=0.503+/-0.135, prec=0.507+/-0.223, rec=0.576+/-0.110, auprc=0.511+/-0.217, auroc=0.519+/-0.052\n",
      "Elapsed time = 2.466 min\n"
     ]
    }
   ],
   "source": [
    "#LOSO EMG Bradykinesia\n",
    "\n",
    "t1=time.time()\n",
    "res_all = pd.DataFrame()\n",
    "\n",
    "symptom = 'Bradykinesia'\n",
    "\n",
    "Data = Datafull.copy() #original unmodified dataframe\n",
    "Data=Data[~Data[symptom].isnull()] #remove nan rows for current symptom\n",
    "Data=Data.reset_index(drop=True) #reset index\n",
    "\n",
    "X = Data.iloc[:,6:94].as_matrix()\n",
    "fnames = Data.iloc[:,6:94].columns.values\n",
    "\n",
    "indp = ((Data[symptom]>0))\n",
    "indp = indp.values\n",
    "y = indp.astype(int) #target \n",
    "print('Rows w %s %d/%d = %.2f'%(symptom,sum(indp),len(indp),(sum(indp)/len(indp))))\n",
    "\n",
    "models = [RandomForestClassifier(n_estimators=50,random_state=2)]          \n",
    "model_name = ['Random Forest']\n",
    "models = list(zip(models,model_name))\n",
    "groups = Data.Subject.as_matrix()\n",
    "\n",
    "res,res_group = LOSOCV(Data,X,y,groups,models)\n",
    "res_all = pd.concat((res_all,res))\n",
    "    \n",
    "print('Elapsed time = %.3f min'%((time.time()-t1)/60))    "
   ]
  },
  {
   "cell_type": "code",
   "execution_count": 17,
   "metadata": {},
   "outputs": [
    {
     "data": {
      "image/png": "[encoded data removed]",
      "text/plain": [
       "<matplotlib.figure.Figure at 0x17b927b8>"
      ]
     },
     "metadata": {},
     "output_type": "display_data"
    }
   ],
   "source": [
    "results = res_group['Random Forest']['auroc']\n",
    "np.save('Results/resultsBradykinesiaLOSOEMG.npy',results)\n",
    "aurocall = res_group['Random Forest']['auroc']\n",
    "sns.barplot(np.unique(groups),aurocall)\n",
    "ax = plt.xticks(rotation=90)\n",
    "plt.ylim([0.25,0.65])\n",
    "plt.title('LOSO EMG - Mean AUROC = %.3f +/- %.3f'%(np.nanmean(aurocall),np.nanstd(aurocall)))\n",
    "plt.savefig('Results/resultsBradykinesiaLOSOEMG.png',format='png',dpi=1000)"
   ]
  },
  {
   "cell_type": "code",
   "execution_count": 18,
   "metadata": {
    "scrolled": true
   },
   "outputs": [
    {
     "name": "stderr",
     "output_type": "stream",
     "text": [
      "C:\\Users\\nshawen\\AppData\\Local\\Continuum\\anaconda3\\lib\\site-packages\\ipykernel_launcher.py:12: FutureWarning: Method .as_matrix will be removed in a future version. Use .values instead.\n",
      "  if sys.path[0] == '':\n",
      "C:\\Users\\nshawen\\AppData\\Local\\Continuum\\anaconda3\\lib\\site-packages\\ipykernel_launcher.py:23: FutureWarning: Method .as_matrix will be removed in a future version. Use .values instead.\n"
     ]
    },
    {
     "name": "stdout",
     "output_type": "stream",
     "text": [
      "Rows w Bradykinesia 8127/15532 = 0.52\n",
      "Training Random Forest\n",
      "\n",
      "Subj/Visit 0,prec=0.342,rec=0.476,Spec=0.517,auroc_train=1.000,auroc=0.513\n",
      "\n",
      "Subj/Visit 1,prec=0.979,rec=0.694,Spec=0.786,auroc_train=1.000,auroc=0.807\n",
      "\n",
      "Subj/Visit 2,prec=0.685,rec=0.803,Spec=0.562,auroc_train=1.000,auroc=0.733\n",
      "\n",
      "Subj/Visit 3,prec=0.454,rec=0.813,Spec=0.454,auroc_train=1.000,auroc=0.706\n",
      "\n",
      "Subj/Visit 4,prec=0.727,rec=0.606,Spec=0.706,auroc_train=1.000,auroc=0.653\n",
      "\n",
      "Subj/Visit 5,prec=0.743,rec=0.568,Spec=0.717,auroc_train=1.000,auroc=0.716\n",
      "\n",
      "Subj/Visit 6,prec=0.694,rec=0.787,Spec=0.444,auroc_train=1.000,auroc=0.640\n",
      "\n",
      "Subj/Visit 7,prec=0.716,rec=0.723,Spec=0.697,auroc_train=1.000,auroc=0.795\n",
      "\n",
      "Subj/Visit 8,prec=0.949,rec=0.587,Spec=0.738,auroc_train=1.000,auroc=0.712\n",
      "\n",
      "Subj/Visit 9,prec=0.339,rec=0.355,Spec=0.664,auroc_train=1.000,auroc=0.533\n",
      "\n",
      "Subj/Visit 10,prec=0.494,rec=0.500,Spec=0.635,auroc_train=1.000,auroc=0.618\n",
      "\n",
      "Subj/Visit 11,prec=0.566,rec=0.612,Spec=0.660,auroc_train=1.000,auroc=0.680\n",
      "\n",
      "Subj/Visit 12,prec=0.250,rec=0.769,Spec=0.686,auroc_train=1.000,auroc=0.791\n",
      "\n",
      "Subj/Visit 13,prec=0.546,rec=0.665,Spec=0.482,auroc_train=1.000,auroc=0.615\n",
      "\n",
      "Subj/Visit 14,prec=0.183,rec=0.696,Spec=0.417,auroc_train=1.000,auroc=0.567\n",
      "\n",
      "Subj/Visit 15,prec=0.767,rec=0.729,Spec=0.646,auroc_train=1.000,auroc=0.744\n",
      "\n",
      "Subj/Visit 16,prec=0.322,rec=0.657,Spec=0.546,auroc_train=1.000,auroc=0.658\n",
      "\n",
      "Subj/Visit 17,prec=0.661,rec=0.631,Spec=0.703,auroc_train=1.000,auroc=0.696\n",
      "\n",
      "Subj/Visit 18,prec=0.504,rec=0.629,Spec=0.574,auroc_train=1.000,auroc=0.645\n",
      "\n",
      "Subj/Visit 19,prec=0.890,rec=0.534,Spec=0.655,auroc_train=1.000,auroc=0.627\n",
      "f1_test=0.589+/-0.148, prec=0.591+/-0.224, rec=0.642+/-0.115, auprc=0.605+/-0.217, auroc=0.672+/-0.080\n",
      "Elapsed time = 1.817 min\n"
     ]
    }
   ],
   "source": [
    "#LOSO Accelerometer Bradykinesia\n",
    "\n",
    "t1=time.time()\n",
    "res_all = pd.DataFrame()\n",
    "\n",
    "symptom = 'Bradykinesia'\n",
    "\n",
    "Data = Datafull.copy() #original unmodified dataframe\n",
    "Data=Data[~Data[symptom].isnull()] #remove nan rows for current symptom\n",
    "Data=Data.reset_index(drop=True) #reset index\n",
    "\n",
    "X = Data.iloc[:,94:].as_matrix()\n",
    "fnames = Data.iloc[:,94:].columns.values\n",
    "\n",
    "indp = ((Data[symptom]>0))\n",
    "indp = indp.values\n",
    "y = indp.astype(int) #target \n",
    "print('Rows w %s %d/%d = %.2f'%(symptom,sum(indp),len(indp),(sum(indp)/len(indp))))\n",
    "\n",
    "models = [RandomForestClassifier(n_estimators=50,random_state=2)]          \n",
    "model_name = ['Random Forest']\n",
    "models = list(zip(models,model_name))\n",
    "groups = Data.Subject.as_matrix()\n",
    "\n",
    "res,res_group = LOSOCV(Data,X,y,groups,models)\n",
    "res_all = pd.concat((res_all,res))\n",
    "    \n",
    "print('Elapsed time = %.3f min'%((time.time()-t1)/60))    "
   ]
  },
  {
   "cell_type": "code",
   "execution_count": 19,
   "metadata": {},
   "outputs": [
    {
     "data": {
      "image/png": "[encoded data removed]",
      "text/plain": [
       "<matplotlib.figure.Figure at 0x1800e6d8>"
      ]
     },
     "metadata": {},
     "output_type": "display_data"
    }
   ],
   "source": [
    "results = res_group['Random Forest']['auroc']\n",
    "np.save('Results/resultsBradykinesiaLOSOAccel.npy',results)\n",
    "aurocall = res_group['Random Forest']['auroc']\n",
    "sns.barplot(np.unique(groups),aurocall)\n",
    "ax = plt.xticks(rotation=90)\n",
    "plt.ylim([0.45,0.85])\n",
    "plt.title('LOSO Accel - Mean AUROC = %.3f +/- %.3f'%(np.nanmean(aurocall),np.nanstd(aurocall)))\n",
    "plt.savefig('Results/resultsBradykinesiaLOSOAccel.png',format='png',dpi=1000)"
   ]
  },
  {
   "cell_type": "code",
   "execution_count": 20,
   "metadata": {
    "scrolled": true
   },
   "outputs": [
    {
     "name": "stderr",
     "output_type": "stream",
     "text": [
      "C:\\Users\\nshawen\\AppData\\Local\\Continuum\\anaconda3\\lib\\site-packages\\ipykernel_launcher.py:12: FutureWarning: Method .as_matrix will be removed in a future version. Use .values instead.\n",
      "  if sys.path[0] == '':\n",
      "C:\\Users\\nshawen\\AppData\\Local\\Continuum\\anaconda3\\lib\\site-packages\\ipykernel_launcher.py:23: FutureWarning: Method .as_matrix will be removed in a future version. Use .values instead.\n"
     ]
    },
    {
     "name": "stdout",
     "output_type": "stream",
     "text": [
      "Rows w Bradykinesia 8127/15532 = 0.52\n",
      "Training Random Forest\n",
      "\n",
      "Subj/Visit 0,prec=0.390,rec=0.624,Spec=0.485,auroc_train=1.000,auroc=0.531\n",
      "\n",
      "Subj/Visit 1,prec=0.984,rec=0.741,Spec=0.827,auroc_train=1.000,auroc=0.882\n",
      "\n",
      "Subj/Visit 2,prec=0.687,rec=0.747,Spec=0.597,auroc_train=1.000,auroc=0.754\n",
      "\n",
      "Subj/Visit 3,prec=0.441,rec=0.761,Spec=0.460,auroc_train=1.000,auroc=0.664\n",
      "\n",
      "Subj/Visit 4,prec=0.789,rec=0.682,Spec=0.765,auroc_train=1.000,auroc=0.726\n",
      "\n",
      "Subj/Visit 5,prec=0.703,rec=0.576,Spec=0.651,auroc_train=1.000,auroc=0.679\n",
      "\n",
      "Subj/Visit 6,prec=0.693,rec=0.772,Spec=0.450,auroc_train=1.000,auroc=0.643\n",
      "\n",
      "Subj/Visit 7,prec=0.744,rec=0.819,Spec=0.702,auroc_train=1.000,auroc=0.806\n",
      "\n",
      "Subj/Visit 8,prec=0.962,rec=0.401,Spec=0.869,auroc_train=1.000,auroc=0.719\n",
      "\n",
      "Subj/Visit 9,prec=0.373,rec=0.374,Spec=0.694,auroc_train=1.000,auroc=0.594\n",
      "\n",
      "Subj/Visit 10,prec=0.451,rec=0.556,Spec=0.517,auroc_train=1.000,auroc=0.594\n",
      "\n",
      "Subj/Visit 11,prec=0.535,rec=0.698,Spec=0.560,auroc_train=1.000,auroc=0.666\n",
      "\n",
      "Subj/Visit 12,prec=0.160,rec=0.585,Spec=0.583,auroc_train=1.000,auroc=0.659\n",
      "\n",
      "Subj/Visit 13,prec=0.517,rec=0.731,Spec=0.361,auroc_train=1.000,auroc=0.560\n",
      "\n",
      "Subj/Visit 14,prec=0.174,rec=0.686,Spec=0.388,auroc_train=1.000,auroc=0.564\n",
      "\n",
      "Subj/Visit 15,prec=0.766,rec=0.726,Spec=0.646,auroc_train=1.000,auroc=0.760\n",
      "\n",
      "Subj/Visit 16,prec=0.340,rec=0.680,Spec=0.567,auroc_train=1.000,auroc=0.680\n",
      "\n",
      "Subj/Visit 17,prec=0.637,rec=0.624,Spec=0.674,auroc_train=1.000,auroc=0.679\n",
      "\n",
      "Subj/Visit 18,prec=0.496,rec=0.552,Spec=0.613,auroc_train=1.000,auroc=0.638\n",
      "\n",
      "Subj/Visit 19,prec=0.889,rec=0.495,Spec=0.678,auroc_train=1.000,auroc=0.613\n",
      "f1_test=0.582+/-0.157, prec=0.586+/-0.232, rec=0.641+/-0.119, auprc=0.606+/-0.223, auroc=0.671+/-0.085\n",
      "Elapsed time = 2.797 min\n"
     ]
    }
   ],
   "source": [
    "#LOSO Combined EMG and Accelerometer Bradykinesia\n",
    "\n",
    "t1=time.time()\n",
    "res_all = pd.DataFrame()\n",
    "\n",
    "symptom = 'Bradykinesia'\n",
    "\n",
    "Data = Datafull.copy() #original unmodified dataframe\n",
    "Data=Data[~Data[symptom].isnull()] #remove nan rows for current symptom\n",
    "Data=Data.reset_index(drop=True) #reset index\n",
    "\n",
    "X = Data.iloc[:,6:].as_matrix()\n",
    "fnames = Data.iloc[:,6:].columns.values\n",
    "\n",
    "indp = ((Data[symptom]>0))\n",
    "indp = indp.values\n",
    "y = indp.astype(int) #target \n",
    "print('Rows w %s %d/%d = %.2f'%(symptom,sum(indp),len(indp),(sum(indp)/len(indp))))\n",
    "\n",
    "models = [RandomForestClassifier(n_estimators=50,random_state=2)]          \n",
    "model_name = ['Random Forest']\n",
    "models = list(zip(models,model_name))\n",
    "groups = Data.Subject.as_matrix()\n",
    "\n",
    "res,res_group = LOSOCV(Data,X,y,groups,models)\n",
    "res_all = pd.concat((res_all,res))\n",
    "    \n",
    "print('Elapsed time = %.3f min'%((time.time()-t1)/60))    "
   ]
  },
  {
   "cell_type": "code",
   "execution_count": 21,
   "metadata": {},
   "outputs": [
    {
     "data": {
      "image/png": "[encoded data removed]",
      "text/plain": [
       "<matplotlib.figure.Figure at 0x180f1be0>"
      ]
     },
     "metadata": {},
     "output_type": "display_data"
    }
   ],
   "source": [
    "results = res_group['Random Forest']['auroc']\n",
    "np.save('Results/resultsBradykinesiaLOSOCombined.npy',results)\n",
    "aurocall = res_group['Random Forest']['auroc']\n",
    "sns.barplot(np.unique(groups),aurocall)\n",
    "ax = plt.xticks(rotation=90)\n",
    "plt.ylim([0.5,0.95])\n",
    "plt.title('LOSO Combined - Mean AUROC = %.3f +/- %.3f'%(np.nanmean(aurocall),np.nanstd(aurocall)))\n",
    "plt.savefig('Results/resultsBradykinesiaLOSOCombined.png',format='png',dpi=1000)"
   ]
  },
  {
   "cell_type": "code",
   "execution_count": 22,
   "metadata": {},
   "outputs": [
    {
     "data": {
      "image/png": "[encoded data removed]",
      "text/plain": [
       "<matplotlib.figure.Figure at 0xc75acc0>"
      ]
     },
     "metadata": {},
     "output_type": "display_data"
    }
   ],
   "source": [
    "resultsEMG = np.load('Results/resultsBradykinesiaLOSOEMG.npy')\n",
    "resultsAccel = np.load('Results/resultsBradykinesiaLOSOAccel.npy')\n",
    "resultsCombined = np.load('Results/resultsBradykinesiaLOSOCombined.npy')\n",
    "results = pd.DataFrame({'EMG':resultsEMG,'Accelerometer':resultsAccel,'Combined':resultsCombined})\n",
    "\n",
    "figure = plt.figure()\n",
    "figure.set_dpi(100)\n",
    "figure.set_size_inches(6.4,4.8)\n",
    "ax = sns.boxplot(data=results);\n",
    "plt.ylabel('AUROC');\n",
    "plt.ylim(0.3,1.1);\n",
    "plt.title('Bradykinesia LOSO');\n",
    "\n",
    "#x1,x2 = 0,1\n",
    "#y, h, col = results['Accelerometer'].max() + 0.02, 0.02, 'k'\n",
    "#plt.plot([x1, x1, x2, x2], [y, y+h, y+h, y], lw=1.5, c=col)\n",
    "#plt.text((x1+x2)*.5, y+h+0.01, \"***\", ha='center', va='bottom', color=col,fontsize=16);\n",
    "\n",
    "plt.savefig('Results/Bradykinesia Comparison Boxplot LOSO.png',format='png',dpi=1000)"
   ]
  },
  {
   "cell_type": "markdown",
   "metadata": {},
   "source": [
    "## Leave One Visit Out"
   ]
  },
  {
   "cell_type": "markdown",
   "metadata": {},
   "source": [
    "### Tremor"
   ]
  },
  {
   "cell_type": "code",
   "execution_count": 23,
   "metadata": {},
   "outputs": [
    {
     "name": "stdout",
     "output_type": "stream",
     "text": [
      "Subject 1004\n",
      "Training Random Forest\n"
     ]
    },
    {
     "name": "stderr",
     "output_type": "stream",
     "text": [
      "C:\\Users\\nshawen\\AppData\\Local\\Continuum\\anaconda3\\lib\\site-packages\\sklearn\\metrics\\classification.py:1135: UndefinedMetricWarning: F-score is ill-defined and being set to 0.0 due to no predicted samples.\n",
      "  'precision', 'predicted', average, warn_for)\n",
      "C:\\Users\\nshawen\\AppData\\Local\\Continuum\\anaconda3\\lib\\site-packages\\sklearn\\metrics\\classification.py:1135: UndefinedMetricWarning: Precision is ill-defined and being set to 0.0 due to no predicted samples.\n",
      "  'precision', 'predicted', average, warn_for)\n"
     ]
    },
    {
     "name": "stdout",
     "output_type": "stream",
     "text": [
      "\n",
      "Subj/Visit 0,prec=0.000,rec=0.000,Spec=1.000,auroc_train=1.000,auroc=0.501\n"
     ]
    },
    {
     "name": "stderr",
     "output_type": "stream",
     "text": [
      "C:\\Users\\nshawen\\AppData\\Local\\Continuum\\anaconda3\\lib\\site-packages\\sklearn\\metrics\\classification.py:1137: UndefinedMetricWarning: F-score is ill-defined and being set to 0.0 due to no true samples.\n",
      "  'recall', 'true', average, warn_for)\n",
      "C:\\Users\\nshawen\\AppData\\Local\\Continuum\\anaconda3\\lib\\site-packages\\sklearn\\metrics\\ranking.py:444: RuntimeWarning: invalid value encountered in true_divide\n",
      "  recall = tps / tps[-1]\n",
      "C:\\Users\\nshawen\\AppData\\Local\\Continuum\\anaconda3\\lib\\site-packages\\sklearn\\metrics\\ranking.py:94: RuntimeWarning: invalid value encountered in less\n",
      "  if np.any(dx < 0):\n",
      "C:\\Users\\nshawen\\AppData\\Local\\Continuum\\anaconda3\\lib\\site-packages\\sklearn\\metrics\\classification.py:1137: UndefinedMetricWarning: Recall is ill-defined and being set to 0.0 due to no true samples.\n",
      "  'recall', 'true', average, warn_for)\n"
     ]
    },
    {
     "name": "stdout",
     "output_type": "stream",
     "text": [
      "only 1 class in test data - cannot compute roc curve\n",
      "\n",
      "Subj/Visit 1,prec=0.000,rec=0.000,Spec=0.992,auroc_train=1.000,auroc=nan\n"
     ]
    },
    {
     "name": "stderr",
     "output_type": "stream",
     "text": [
      "C:\\Users\\nshawen\\AppData\\Local\\Continuum\\anaconda3\\lib\\site-packages\\sklearn\\metrics\\ranking.py:444: RuntimeWarning: invalid value encountered in true_divide\n",
      "  recall = tps / tps[-1]\n",
      "C:\\Users\\nshawen\\AppData\\Local\\Continuum\\anaconda3\\lib\\site-packages\\sklearn\\metrics\\ranking.py:94: RuntimeWarning: invalid value encountered in less\n",
      "  if np.any(dx < 0):\n"
     ]
    },
    {
     "name": "stdout",
     "output_type": "stream",
     "text": [
      "only 1 class in test data - cannot compute roc curve\n",
      "\n",
      "Subj/Visit 2,prec=0.000,rec=0.000,Spec=1.000,auroc_train=1.000,auroc=nan\n",
      "\n",
      "Subj/Visit 3,prec=0.000,rec=0.000,Spec=0.989,auroc_train=1.000,auroc=0.386\n"
     ]
    },
    {
     "name": "stderr",
     "output_type": "stream",
     "text": [
      "C:\\Users\\nshawen\\AppData\\Local\\Continuum\\anaconda3\\lib\\site-packages\\sklearn\\metrics\\ranking.py:444: RuntimeWarning: invalid value encountered in true_divide\n",
      "  recall = tps / tps[-1]\n",
      "C:\\Users\\nshawen\\AppData\\Local\\Continuum\\anaconda3\\lib\\site-packages\\sklearn\\metrics\\ranking.py:94: RuntimeWarning: invalid value encountered in less\n",
      "  if np.any(dx < 0):\n"
     ]
    },
    {
     "name": "stdout",
     "output_type": "stream",
     "text": [
      "only 1 class in test data - cannot compute roc curve\n",
      "\n",
      "Subj/Visit 4,prec=0.000,rec=0.000,Spec=1.000,auroc_train=1.000,auroc=nan\n"
     ]
    },
    {
     "name": "stderr",
     "output_type": "stream",
     "text": [
      "C:\\Users\\nshawen\\AppData\\Local\\Continuum\\anaconda3\\lib\\site-packages\\sklearn\\metrics\\ranking.py:444: RuntimeWarning: invalid value encountered in true_divide\n",
      "  recall = tps / tps[-1]\n",
      "C:\\Users\\nshawen\\AppData\\Local\\Continuum\\anaconda3\\lib\\site-packages\\sklearn\\metrics\\ranking.py:94: RuntimeWarning: invalid value encountered in less\n",
      "  if np.any(dx < 0):\n"
     ]
    },
    {
     "name": "stdout",
     "output_type": "stream",
     "text": [
      "only 1 class in test data - cannot compute roc curve\n",
      "\n",
      "Subj/Visit 5,prec=0.000,rec=0.000,Spec=1.000,auroc_train=1.000,auroc=nan\n",
      "\n",
      "Subj/Visit 6,prec=0.000,rec=0.000,Spec=0.981,auroc_train=1.000,auroc=0.588\n",
      "f1_test=0.000+/-0.000, prec=0.000+/-0.000, rec=0.000+/-0.000, auprc=0.298+/-0.301, auroc=0.492+/-0.083\n",
      "Subject 1016\n",
      "Training Random Forest\n",
      "\n",
      "Subj/Visit 0,prec=0.779,rec=0.779,Spec=0.782,auroc_train=1.000,auroc=0.844\n",
      "\n",
      "Subj/Visit 1,prec=0.813,rec=0.719,Spec=0.777,auroc_train=1.000,auroc=0.819\n",
      "\n",
      "Subj/Visit 2,prec=0.793,rec=0.681,Spec=0.814,auroc_train=1.000,auroc=0.801\n",
      "\n",
      "Subj/Visit 3,prec=0.840,rec=0.734,Spec=0.833,auroc_train=1.000,auroc=0.865\n",
      "\n",
      "Subj/Visit 4,prec=0.841,rec=0.799,Spec=0.809,auroc_train=1.000,auroc=0.872\n",
      "\n",
      "Subj/Visit 5,prec=0.786,rec=0.523,Spec=0.798,auroc_train=1.000,auroc=0.784\n"
     ]
    },
    {
     "name": "stderr",
     "output_type": "stream",
     "text": [
      "C:\\Users\\nshawen\\AppData\\Local\\Continuum\\anaconda3\\lib\\site-packages\\sklearn\\metrics\\classification.py:1137: UndefinedMetricWarning: F-score is ill-defined and being set to 0.0 due to no true samples.\n",
      "  'recall', 'true', average, warn_for)\n",
      "C:\\Users\\nshawen\\AppData\\Local\\Continuum\\anaconda3\\lib\\site-packages\\sklearn\\metrics\\ranking.py:444: RuntimeWarning: invalid value encountered in true_divide\n",
      "  recall = tps / tps[-1]\n",
      "C:\\Users\\nshawen\\AppData\\Local\\Continuum\\anaconda3\\lib\\site-packages\\sklearn\\metrics\\ranking.py:94: RuntimeWarning: invalid value encountered in less\n",
      "  if np.any(dx < 0):\n",
      "C:\\Users\\nshawen\\AppData\\Local\\Continuum\\anaconda3\\lib\\site-packages\\sklearn\\metrics\\classification.py:1137: UndefinedMetricWarning: Recall is ill-defined and being set to 0.0 due to no true samples.\n",
      "  'recall', 'true', average, warn_for)\n"
     ]
    },
    {
     "name": "stdout",
     "output_type": "stream",
     "text": [
      "only 1 class in test data - cannot compute roc curve\n",
      "\n",
      "Subj/Visit 6,prec=0.000,rec=0.000,Spec=0.472,auroc_train=1.000,auroc=nan\n",
      "f1_test=0.644+/-0.269, prec=0.693+/-0.284, rec=0.605+/-0.261, auprc=0.815+/-0.040, auroc=0.831+/-0.032\n",
      "Subject 1018\n",
      "Training Random Forest\n"
     ]
    },
    {
     "name": "stderr",
     "output_type": "stream",
     "text": [
      "C:\\Users\\nshawen\\AppData\\Local\\Continuum\\anaconda3\\lib\\site-packages\\sklearn\\metrics\\classification.py:1135: UndefinedMetricWarning: F-score is ill-defined and being set to 0.0 due to no predicted samples.\n",
      "  'precision', 'predicted', average, warn_for)\n",
      "C:\\Users\\nshawen\\AppData\\Local\\Continuum\\anaconda3\\lib\\site-packages\\sklearn\\metrics\\classification.py:1135: UndefinedMetricWarning: Precision is ill-defined and being set to 0.0 due to no predicted samples.\n",
      "  'precision', 'predicted', average, warn_for)\n"
     ]
    },
    {
     "name": "stdout",
     "output_type": "stream",
     "text": [
      "\n",
      "Subj/Visit 0,prec=0.000,rec=0.000,Spec=1.000,auroc_train=1.000,auroc=0.550\n"
     ]
    },
    {
     "name": "stderr",
     "output_type": "stream",
     "text": [
      "C:\\Users\\nshawen\\AppData\\Local\\Continuum\\anaconda3\\lib\\site-packages\\sklearn\\metrics\\classification.py:1135: UndefinedMetricWarning: F-score is ill-defined and being set to 0.0 due to no predicted samples.\n",
      "  'precision', 'predicted', average, warn_for)\n",
      "C:\\Users\\nshawen\\AppData\\Local\\Continuum\\anaconda3\\lib\\site-packages\\sklearn\\metrics\\classification.py:1135: UndefinedMetricWarning: Precision is ill-defined and being set to 0.0 due to no predicted samples.\n",
      "  'precision', 'predicted', average, warn_for)\n"
     ]
    },
    {
     "name": "stdout",
     "output_type": "stream",
     "text": [
      "\n",
      "Subj/Visit 1,prec=0.000,rec=0.000,Spec=1.000,auroc_train=1.000,auroc=0.593\n"
     ]
    },
    {
     "name": "stderr",
     "output_type": "stream",
     "text": [
      "C:\\Users\\nshawen\\AppData\\Local\\Continuum\\anaconda3\\lib\\site-packages\\sklearn\\metrics\\classification.py:1135: UndefinedMetricWarning: F-score is ill-defined and being set to 0.0 due to no predicted samples.\n",
      "  'precision', 'predicted', average, warn_for)\n",
      "C:\\Users\\nshawen\\AppData\\Local\\Continuum\\anaconda3\\lib\\site-packages\\sklearn\\metrics\\classification.py:1135: UndefinedMetricWarning: Precision is ill-defined and being set to 0.0 due to no predicted samples.\n",
      "  'precision', 'predicted', average, warn_for)\n"
     ]
    },
    {
     "name": "stdout",
     "output_type": "stream",
     "text": [
      "\n",
      "Subj/Visit 2,prec=0.000,rec=0.000,Spec=1.000,auroc_train=1.000,auroc=0.471\n"
     ]
    },
    {
     "name": "stderr",
     "output_type": "stream",
     "text": [
      "C:\\Users\\nshawen\\AppData\\Local\\Continuum\\anaconda3\\lib\\site-packages\\sklearn\\metrics\\classification.py:1135: UndefinedMetricWarning: F-score is ill-defined and being set to 0.0 due to no predicted samples.\n",
      "  'precision', 'predicted', average, warn_for)\n",
      "C:\\Users\\nshawen\\AppData\\Local\\Continuum\\anaconda3\\lib\\site-packages\\sklearn\\metrics\\classification.py:1135: UndefinedMetricWarning: Precision is ill-defined and being set to 0.0 due to no predicted samples.\n",
      "  'precision', 'predicted', average, warn_for)\n"
     ]
    },
    {
     "name": "stdout",
     "output_type": "stream",
     "text": [
      "\n",
      "Subj/Visit 3,prec=0.000,rec=0.000,Spec=1.000,auroc_train=1.000,auroc=0.577\n"
     ]
    },
    {
     "name": "stderr",
     "output_type": "stream",
     "text": [
      "C:\\Users\\nshawen\\AppData\\Local\\Continuum\\anaconda3\\lib\\site-packages\\sklearn\\metrics\\classification.py:1135: UndefinedMetricWarning: F-score is ill-defined and being set to 0.0 due to no predicted samples.\n",
      "  'precision', 'predicted', average, warn_for)\n",
      "C:\\Users\\nshawen\\AppData\\Local\\Continuum\\anaconda3\\lib\\site-packages\\sklearn\\metrics\\classification.py:1135: UndefinedMetricWarning: Precision is ill-defined and being set to 0.0 due to no predicted samples.\n",
      "  'precision', 'predicted', average, warn_for)\n"
     ]
    },
    {
     "name": "stdout",
     "output_type": "stream",
     "text": [
      "\n",
      "Subj/Visit 4,prec=0.000,rec=0.000,Spec=1.000,auroc_train=1.000,auroc=0.729\n"
     ]
    },
    {
     "name": "stderr",
     "output_type": "stream",
     "text": [
      "C:\\Users\\nshawen\\AppData\\Local\\Continuum\\anaconda3\\lib\\site-packages\\sklearn\\metrics\\classification.py:1135: UndefinedMetricWarning: F-score is ill-defined and being set to 0.0 due to no predicted samples.\n",
      "  'precision', 'predicted', average, warn_for)\n",
      "C:\\Users\\nshawen\\AppData\\Local\\Continuum\\anaconda3\\lib\\site-packages\\sklearn\\metrics\\classification.py:1135: UndefinedMetricWarning: Precision is ill-defined and being set to 0.0 due to no predicted samples.\n",
      "  'precision', 'predicted', average, warn_for)\n"
     ]
    },
    {
     "name": "stdout",
     "output_type": "stream",
     "text": [
      "\n",
      "Subj/Visit 5,prec=0.000,rec=0.000,Spec=1.000,auroc_train=1.000,auroc=0.794\n"
     ]
    },
    {
     "name": "stderr",
     "output_type": "stream",
     "text": [
      "C:\\Users\\nshawen\\AppData\\Local\\Continuum\\anaconda3\\lib\\site-packages\\sklearn\\metrics\\classification.py:1135: UndefinedMetricWarning: F-score is ill-defined and being set to 0.0 due to no predicted samples.\n",
      "  'precision', 'predicted', average, warn_for)\n",
      "C:\\Users\\nshawen\\AppData\\Local\\Continuum\\anaconda3\\lib\\site-packages\\sklearn\\metrics\\classification.py:1135: UndefinedMetricWarning: Precision is ill-defined and being set to 0.0 due to no predicted samples.\n",
      "  'precision', 'predicted', average, warn_for)\n"
     ]
    },
    {
     "name": "stdout",
     "output_type": "stream",
     "text": [
      "\n",
      "Subj/Visit 6,prec=0.000,rec=0.000,Spec=1.000,auroc_train=1.000,auroc=0.408\n",
      "f1_test=0.000+/-0.000, prec=0.000+/-0.000, rec=0.000+/-0.000, auprc=0.091+/-0.047, auroc=0.589+/-0.125\n",
      "Subject 1019\n",
      "Training Random Forest\n",
      "\n",
      "Subj/Visit 0,prec=0.000,rec=0.000,Spec=0.994,auroc_train=1.000,auroc=0.516\n"
     ]
    },
    {
     "name": "stderr",
     "output_type": "stream",
     "text": [
      "C:\\Users\\nshawen\\AppData\\Local\\Continuum\\anaconda3\\lib\\site-packages\\sklearn\\metrics\\classification.py:1135: UndefinedMetricWarning: F-score is ill-defined and being set to 0.0 due to no predicted samples.\n",
      "  'precision', 'predicted', average, warn_for)\n",
      "C:\\Users\\nshawen\\AppData\\Local\\Continuum\\anaconda3\\lib\\site-packages\\sklearn\\metrics\\classification.py:1135: UndefinedMetricWarning: Precision is ill-defined and being set to 0.0 due to no predicted samples.\n",
      "  'precision', 'predicted', average, warn_for)\n"
     ]
    },
    {
     "name": "stdout",
     "output_type": "stream",
     "text": [
      "\n",
      "Subj/Visit 1,prec=0.000,rec=0.000,Spec=1.000,auroc_train=1.000,auroc=0.756\n"
     ]
    },
    {
     "name": "stderr",
     "output_type": "stream",
     "text": [
      "C:\\Users\\nshawen\\AppData\\Local\\Continuum\\anaconda3\\lib\\site-packages\\sklearn\\metrics\\classification.py:1135: UndefinedMetricWarning: F-score is ill-defined and being set to 0.0 due to no predicted samples.\n",
      "  'precision', 'predicted', average, warn_for)\n",
      "C:\\Users\\nshawen\\AppData\\Local\\Continuum\\anaconda3\\lib\\site-packages\\sklearn\\metrics\\classification.py:1135: UndefinedMetricWarning: Precision is ill-defined and being set to 0.0 due to no predicted samples.\n",
      "  'precision', 'predicted', average, warn_for)\n"
     ]
    },
    {
     "name": "stdout",
     "output_type": "stream",
     "text": [
      "\n",
      "Subj/Visit 2,prec=0.000,rec=0.000,Spec=1.000,auroc_train=1.000,auroc=0.924\n"
     ]
    },
    {
     "name": "stderr",
     "output_type": "stream",
     "text": [
      "C:\\Users\\nshawen\\AppData\\Local\\Continuum\\anaconda3\\lib\\site-packages\\sklearn\\metrics\\classification.py:1135: UndefinedMetricWarning: F-score is ill-defined and being set to 0.0 due to no predicted samples.\n",
      "  'precision', 'predicted', average, warn_for)\n",
      "C:\\Users\\nshawen\\AppData\\Local\\Continuum\\anaconda3\\lib\\site-packages\\sklearn\\metrics\\classification.py:1135: UndefinedMetricWarning: Precision is ill-defined and being set to 0.0 due to no predicted samples.\n",
      "  'precision', 'predicted', average, warn_for)\n"
     ]
    },
    {
     "name": "stdout",
     "output_type": "stream",
     "text": [
      "\n",
      "Subj/Visit 3,prec=0.000,rec=0.000,Spec=1.000,auroc_train=1.000,auroc=0.885\n"
     ]
    },
    {
     "name": "stderr",
     "output_type": "stream",
     "text": [
      "C:\\Users\\nshawen\\AppData\\Local\\Continuum\\anaconda3\\lib\\site-packages\\sklearn\\metrics\\classification.py:1135: UndefinedMetricWarning: F-score is ill-defined and being set to 0.0 due to no predicted samples.\n",
      "  'precision', 'predicted', average, warn_for)\n",
      "C:\\Users\\nshawen\\AppData\\Local\\Continuum\\anaconda3\\lib\\site-packages\\sklearn\\metrics\\classification.py:1135: UndefinedMetricWarning: Precision is ill-defined and being set to 0.0 due to no predicted samples.\n",
      "  'precision', 'predicted', average, warn_for)\n"
     ]
    },
    {
     "name": "stdout",
     "output_type": "stream",
     "text": [
      "\n",
      "Subj/Visit 4,prec=0.000,rec=0.000,Spec=1.000,auroc_train=1.000,auroc=0.712\n"
     ]
    },
    {
     "name": "stderr",
     "output_type": "stream",
     "text": [
      "C:\\Users\\nshawen\\AppData\\Local\\Continuum\\anaconda3\\lib\\site-packages\\sklearn\\metrics\\classification.py:1135: UndefinedMetricWarning: F-score is ill-defined and being set to 0.0 due to no predicted samples.\n",
      "  'precision', 'predicted', average, warn_for)\n",
      "C:\\Users\\nshawen\\AppData\\Local\\Continuum\\anaconda3\\lib\\site-packages\\sklearn\\metrics\\classification.py:1135: UndefinedMetricWarning: Precision is ill-defined and being set to 0.0 due to no predicted samples.\n",
      "  'precision', 'predicted', average, warn_for)\n"
     ]
    },
    {
     "name": "stdout",
     "output_type": "stream",
     "text": [
      "\n",
      "Subj/Visit 5,prec=0.000,rec=0.000,Spec=1.000,auroc_train=1.000,auroc=0.612\n"
     ]
    },
    {
     "name": "stderr",
     "output_type": "stream",
     "text": [
      "C:\\Users\\nshawen\\AppData\\Local\\Continuum\\anaconda3\\lib\\site-packages\\sklearn\\metrics\\classification.py:1135: UndefinedMetricWarning: F-score is ill-defined and being set to 0.0 due to no predicted samples.\n",
      "  'precision', 'predicted', average, warn_for)\n",
      "C:\\Users\\nshawen\\AppData\\Local\\Continuum\\anaconda3\\lib\\site-packages\\sklearn\\metrics\\classification.py:1135: UndefinedMetricWarning: Precision is ill-defined and being set to 0.0 due to no predicted samples.\n",
      "  'precision', 'predicted', average, warn_for)\n"
     ]
    },
    {
     "name": "stdout",
     "output_type": "stream",
     "text": [
      "\n",
      "Subj/Visit 6,prec=0.000,rec=0.000,Spec=1.000,auroc_train=1.000,auroc=0.589\n",
      "f1_test=0.000+/-0.000, prec=0.000+/-0.000, rec=0.000+/-0.000, auprc=0.077+/-0.043, auroc=0.713+/-0.141\n",
      "Subject 1020\n",
      "Subject 1024\n",
      "Training Random Forest\n",
      "\n",
      "Subj/Visit 0,prec=0.857,rec=0.176,Spec=0.978,auroc_train=1.000,auroc=0.664\n",
      "\n",
      "Subj/Visit 1,prec=0.286,rec=0.200,Spec=0.951,auroc_train=1.000,auroc=0.522\n",
      "\n",
      "Subj/Visit 2,prec=0.095,rec=0.333,Spec=0.842,auroc_train=1.000,auroc=0.669\n",
      "\n",
      "Subj/Visit 3,prec=0.571,rec=0.057,Spec=0.941,auroc_train=1.000,auroc=0.734\n",
      "\n",
      "Subj/Visit 4,prec=0.273,rec=0.231,Spec=0.920,auroc_train=1.000,auroc=0.813\n"
     ]
    },
    {
     "name": "stderr",
     "output_type": "stream",
     "text": [
      "C:\\Users\\nshawen\\AppData\\Local\\Continuum\\anaconda3\\lib\\site-packages\\sklearn\\metrics\\classification.py:1137: UndefinedMetricWarning: F-score is ill-defined and being set to 0.0 due to no true samples.\n",
      "  'recall', 'true', average, warn_for)\n",
      "C:\\Users\\nshawen\\AppData\\Local\\Continuum\\anaconda3\\lib\\site-packages\\sklearn\\metrics\\ranking.py:444: RuntimeWarning: invalid value encountered in true_divide\n",
      "  recall = tps / tps[-1]\n",
      "C:\\Users\\nshawen\\AppData\\Local\\Continuum\\anaconda3\\lib\\site-packages\\sklearn\\metrics\\ranking.py:94: RuntimeWarning: invalid value encountered in less\n",
      "  if np.any(dx < 0):\n",
      "C:\\Users\\nshawen\\AppData\\Local\\Continuum\\anaconda3\\lib\\site-packages\\sklearn\\metrics\\classification.py:1137: UndefinedMetricWarning: Recall is ill-defined and being set to 0.0 due to no true samples.\n",
      "  'recall', 'true', average, warn_for)\n"
     ]
    },
    {
     "name": "stdout",
     "output_type": "stream",
     "text": [
      "only 1 class in test data - cannot compute roc curve\n",
      "\n",
      "Subj/Visit 5,prec=0.000,rec=0.000,Spec=0.845,auroc_train=1.000,auroc=nan\n",
      "\n",
      "Subj/Visit 6,prec=0.583,rec=0.292,Spec=0.950,auroc_train=1.000,auroc=0.867\n",
      "f1_test=0.203+/-0.119, prec=0.381+/-0.281, rec=0.184+/-0.111, auprc=0.406+/-0.253, auroc=0.712+/-0.112\n",
      "Subject 1029\n",
      "Training Random Forest\n",
      "\n",
      "Subj/Visit 0,prec=1.000,rec=0.125,Spec=1.000,auroc_train=1.000,auroc=0.719\n",
      "\n",
      "Subj/Visit 1,prec=0.062,rec=0.118,Spec=0.784,auroc_train=1.000,auroc=0.389\n",
      "\n",
      "Subj/Visit 2,prec=0.051,rec=0.143,Spec=0.798,auroc_train=1.000,auroc=0.471\n",
      "\n",
      "Subj/Visit 3,prec=0.560,rec=0.184,Spec=0.855,auroc_train=1.000,auroc=0.511\n",
      "\n",
      "Subj/Visit 4,prec=0.393,rec=0.324,Spec=0.874,auroc_train=1.000,auroc=0.650\n",
      "\n",
      "Subj/Visit 5,prec=0.211,rec=0.121,Spec=0.871,auroc_train=1.000,auroc=0.601\n",
      "\n",
      "Subj/Visit 6,prec=0.524,rec=0.126,Spec=0.902,auroc_train=1.000,auroc=0.584\n",
      "f1_test=0.196+/-0.094, prec=0.400+/-0.310, rec=0.163+/-0.069, auprc=0.387+/-0.256, auroc=0.561+/-0.104\n",
      "Subject 1030\n",
      "Training Random Forest\n"
     ]
    },
    {
     "name": "stderr",
     "output_type": "stream",
     "text": [
      "C:\\Users\\nshawen\\AppData\\Local\\Continuum\\anaconda3\\lib\\site-packages\\sklearn\\metrics\\classification.py:1135: UndefinedMetricWarning: F-score is ill-defined and being set to 0.0 due to no predicted samples.\n",
      "  'precision', 'predicted', average, warn_for)\n",
      "C:\\Users\\nshawen\\AppData\\Local\\Continuum\\anaconda3\\lib\\site-packages\\sklearn\\metrics\\classification.py:1135: UndefinedMetricWarning: Precision is ill-defined and being set to 0.0 due to no predicted samples.\n",
      "  'precision', 'predicted', average, warn_for)\n"
     ]
    },
    {
     "name": "stdout",
     "output_type": "stream",
     "text": [
      "\n",
      "Subj/Visit 0,prec=0.000,rec=0.000,Spec=1.000,auroc_train=1.000,auroc=0.802\n"
     ]
    },
    {
     "name": "stderr",
     "output_type": "stream",
     "text": [
      "C:\\Users\\nshawen\\AppData\\Local\\Continuum\\anaconda3\\lib\\site-packages\\sklearn\\metrics\\classification.py:1135: UndefinedMetricWarning: F-score is ill-defined and being set to 0.0 due to no predicted samples.\n",
      "  'precision', 'predicted', average, warn_for)\n",
      "C:\\Users\\nshawen\\AppData\\Local\\Continuum\\anaconda3\\lib\\site-packages\\sklearn\\metrics\\classification.py:1135: UndefinedMetricWarning: Precision is ill-defined and being set to 0.0 due to no predicted samples.\n",
      "  'precision', 'predicted', average, warn_for)\n"
     ]
    },
    {
     "name": "stdout",
     "output_type": "stream",
     "text": [
      "\n",
      "Subj/Visit 1,prec=0.000,rec=0.000,Spec=1.000,auroc_train=1.000,auroc=0.691\n"
     ]
    },
    {
     "name": "stderr",
     "output_type": "stream",
     "text": [
      "C:\\Users\\nshawen\\AppData\\Local\\Continuum\\anaconda3\\lib\\site-packages\\sklearn\\metrics\\classification.py:1135: UndefinedMetricWarning: F-score is ill-defined and being set to 0.0 due to no predicted samples.\n",
      "  'precision', 'predicted', average, warn_for)\n",
      "C:\\Users\\nshawen\\AppData\\Local\\Continuum\\anaconda3\\lib\\site-packages\\sklearn\\metrics\\classification.py:1135: UndefinedMetricWarning: Precision is ill-defined and being set to 0.0 due to no predicted samples.\n",
      "  'precision', 'predicted', average, warn_for)\n"
     ]
    },
    {
     "name": "stdout",
     "output_type": "stream",
     "text": [
      "\n",
      "Subj/Visit 2,prec=0.000,rec=0.000,Spec=1.000,auroc_train=1.000,auroc=0.567\n"
     ]
    },
    {
     "name": "stderr",
     "output_type": "stream",
     "text": [
      "C:\\Users\\nshawen\\AppData\\Local\\Continuum\\anaconda3\\lib\\site-packages\\sklearn\\metrics\\classification.py:1135: UndefinedMetricWarning: F-score is ill-defined and being set to 0.0 due to no predicted samples.\n",
      "  'precision', 'predicted', average, warn_for)\n",
      "C:\\Users\\nshawen\\AppData\\Local\\Continuum\\anaconda3\\lib\\site-packages\\sklearn\\metrics\\classification.py:1135: UndefinedMetricWarning: Precision is ill-defined and being set to 0.0 due to no predicted samples.\n",
      "  'precision', 'predicted', average, warn_for)\n"
     ]
    },
    {
     "name": "stdout",
     "output_type": "stream",
     "text": [
      "\n",
      "Subj/Visit 3,prec=0.000,rec=0.000,Spec=1.000,auroc_train=1.000,auroc=0.879\n"
     ]
    },
    {
     "name": "stderr",
     "output_type": "stream",
     "text": [
      "C:\\Users\\nshawen\\AppData\\Local\\Continuum\\anaconda3\\lib\\site-packages\\sklearn\\metrics\\classification.py:1135: UndefinedMetricWarning: F-score is ill-defined and being set to 0.0 due to no predicted samples.\n",
      "  'precision', 'predicted', average, warn_for)\n",
      "C:\\Users\\nshawen\\AppData\\Local\\Continuum\\anaconda3\\lib\\site-packages\\sklearn\\metrics\\classification.py:1135: UndefinedMetricWarning: Precision is ill-defined and being set to 0.0 due to no predicted samples.\n",
      "  'precision', 'predicted', average, warn_for)\n"
     ]
    },
    {
     "name": "stdout",
     "output_type": "stream",
     "text": [
      "\n",
      "Subj/Visit 4,prec=0.000,rec=0.000,Spec=1.000,auroc_train=1.000,auroc=0.586\n"
     ]
    },
    {
     "name": "stderr",
     "output_type": "stream",
     "text": [
      "C:\\Users\\nshawen\\AppData\\Local\\Continuum\\anaconda3\\lib\\site-packages\\sklearn\\metrics\\classification.py:1135: UndefinedMetricWarning: F-score is ill-defined and being set to 0.0 due to no predicted samples.\n",
      "  'precision', 'predicted', average, warn_for)\n",
      "C:\\Users\\nshawen\\AppData\\Local\\Continuum\\anaconda3\\lib\\site-packages\\sklearn\\metrics\\classification.py:1135: UndefinedMetricWarning: Precision is ill-defined and being set to 0.0 due to no predicted samples.\n",
      "  'precision', 'predicted', average, warn_for)\n"
     ]
    },
    {
     "name": "stdout",
     "output_type": "stream",
     "text": [
      "\n",
      "Subj/Visit 5,prec=0.000,rec=0.000,Spec=1.000,auroc_train=1.000,auroc=0.236\n"
     ]
    },
    {
     "name": "stderr",
     "output_type": "stream",
     "text": [
      "C:\\Users\\nshawen\\AppData\\Local\\Continuum\\anaconda3\\lib\\site-packages\\sklearn\\metrics\\classification.py:1135: UndefinedMetricWarning: F-score is ill-defined and being set to 0.0 due to no predicted samples.\n",
      "  'precision', 'predicted', average, warn_for)\n",
      "C:\\Users\\nshawen\\AppData\\Local\\Continuum\\anaconda3\\lib\\site-packages\\sklearn\\metrics\\classification.py:1135: UndefinedMetricWarning: Precision is ill-defined and being set to 0.0 due to no predicted samples.\n",
      "  'precision', 'predicted', average, warn_for)\n"
     ]
    },
    {
     "name": "stdout",
     "output_type": "stream",
     "text": [
      "\n",
      "Subj/Visit 6,prec=0.000,rec=0.000,Spec=1.000,auroc_train=1.000,auroc=0.607\n",
      "f1_test=0.000+/-0.000, prec=0.000+/-0.000, rec=0.000+/-0.000, auprc=0.079+/-0.041, auroc=0.624+/-0.191\n",
      "Subject 1032\n",
      "Training Random Forest\n"
     ]
    },
    {
     "name": "stderr",
     "output_type": "stream",
     "text": [
      "C:\\Users\\nshawen\\AppData\\Local\\Continuum\\anaconda3\\lib\\site-packages\\sklearn\\metrics\\classification.py:1135: UndefinedMetricWarning: F-score is ill-defined and being set to 0.0 due to no predicted samples.\n",
      "  'precision', 'predicted', average, warn_for)\n",
      "C:\\Users\\nshawen\\AppData\\Local\\Continuum\\anaconda3\\lib\\site-packages\\sklearn\\metrics\\classification.py:1135: UndefinedMetricWarning: Precision is ill-defined and being set to 0.0 due to no predicted samples.\n",
      "  'precision', 'predicted', average, warn_for)\n"
     ]
    },
    {
     "name": "stdout",
     "output_type": "stream",
     "text": [
      "\n",
      "Subj/Visit 0,prec=0.000,rec=0.000,Spec=1.000,auroc_train=1.000,auroc=0.578\n",
      "\n",
      "Subj/Visit 1,prec=0.000,rec=0.000,Spec=0.993,auroc_train=1.000,auroc=0.690\n"
     ]
    },
    {
     "name": "stderr",
     "output_type": "stream",
     "text": [
      "C:\\Users\\nshawen\\AppData\\Local\\Continuum\\anaconda3\\lib\\site-packages\\sklearn\\metrics\\classification.py:1135: UndefinedMetricWarning: F-score is ill-defined and being set to 0.0 due to no predicted samples.\n",
      "  'precision', 'predicted', average, warn_for)\n",
      "C:\\Users\\nshawen\\AppData\\Local\\Continuum\\anaconda3\\lib\\site-packages\\sklearn\\metrics\\classification.py:1135: UndefinedMetricWarning: Precision is ill-defined and being set to 0.0 due to no predicted samples.\n",
      "  'precision', 'predicted', average, warn_for)\n"
     ]
    },
    {
     "name": "stdout",
     "output_type": "stream",
     "text": [
      "\n",
      "Subj/Visit 2,prec=0.000,rec=0.000,Spec=1.000,auroc_train=1.000,auroc=0.792\n"
     ]
    },
    {
     "name": "stderr",
     "output_type": "stream",
     "text": [
      "C:\\Users\\nshawen\\AppData\\Local\\Continuum\\anaconda3\\lib\\site-packages\\sklearn\\metrics\\classification.py:1135: UndefinedMetricWarning: F-score is ill-defined and being set to 0.0 due to no predicted samples.\n",
      "  'precision', 'predicted', average, warn_for)\n",
      "C:\\Users\\nshawen\\AppData\\Local\\Continuum\\anaconda3\\lib\\site-packages\\sklearn\\metrics\\classification.py:1135: UndefinedMetricWarning: Precision is ill-defined and being set to 0.0 due to no predicted samples.\n",
      "  'precision', 'predicted', average, warn_for)\n"
     ]
    },
    {
     "name": "stdout",
     "output_type": "stream",
     "text": [
      "\n",
      "Subj/Visit 3,prec=0.000,rec=0.000,Spec=1.000,auroc_train=1.000,auroc=0.279\n"
     ]
    },
    {
     "name": "stderr",
     "output_type": "stream",
     "text": [
      "C:\\Users\\nshawen\\AppData\\Local\\Continuum\\anaconda3\\lib\\site-packages\\sklearn\\metrics\\classification.py:1135: UndefinedMetricWarning: F-score is ill-defined and being set to 0.0 due to no predicted samples.\n",
      "  'precision', 'predicted', average, warn_for)\n",
      "C:\\Users\\nshawen\\AppData\\Local\\Continuum\\anaconda3\\lib\\site-packages\\sklearn\\metrics\\classification.py:1135: UndefinedMetricWarning: Precision is ill-defined and being set to 0.0 due to no predicted samples.\n",
      "  'precision', 'predicted', average, warn_for)\n"
     ]
    },
    {
     "name": "stdout",
     "output_type": "stream",
     "text": [
      "\n",
      "Subj/Visit 4,prec=0.000,rec=0.000,Spec=1.000,auroc_train=1.000,auroc=0.476\n"
     ]
    },
    {
     "name": "stderr",
     "output_type": "stream",
     "text": [
      "C:\\Users\\nshawen\\AppData\\Local\\Continuum\\anaconda3\\lib\\site-packages\\sklearn\\metrics\\classification.py:1135: UndefinedMetricWarning: F-score is ill-defined and being set to 0.0 due to no predicted samples.\n",
      "  'precision', 'predicted', average, warn_for)\n",
      "C:\\Users\\nshawen\\AppData\\Local\\Continuum\\anaconda3\\lib\\site-packages\\sklearn\\metrics\\classification.py:1135: UndefinedMetricWarning: Precision is ill-defined and being set to 0.0 due to no predicted samples.\n",
      "  'precision', 'predicted', average, warn_for)\n"
     ]
    },
    {
     "name": "stdout",
     "output_type": "stream",
     "text": [
      "\n",
      "Subj/Visit 5,prec=0.000,rec=0.000,Spec=1.000,auroc_train=1.000,auroc=0.937\n",
      "\n",
      "Subj/Visit 6,prec=0.000,rec=0.000,Spec=0.996,auroc_train=1.000,auroc=0.513\n",
      "f1_test=0.000+/-0.000, prec=0.000+/-0.000, rec=0.000+/-0.000, auprc=0.058+/-0.047, auroc=0.609+/-0.201\n",
      "Subject 1038\n",
      "Training Random Forest\n",
      "\n",
      "Subj/Visit 0,prec=0.889,rec=0.571,Spec=0.929,auroc_train=1.000,auroc=0.743\n",
      "\n",
      "Subj/Visit 1,prec=0.702,rec=0.702,Spec=0.857,auroc_train=1.000,auroc=0.728\n",
      "\n",
      "Subj/Visit 2,prec=0.674,rec=0.689,Spec=0.808,auroc_train=1.000,auroc=0.745\n",
      "\n",
      "Subj/Visit 3,prec=0.618,rec=0.472,Spec=0.672,auroc_train=1.000,auroc=0.567\n",
      "\n",
      "Subj/Visit 4,prec=0.727,rec=0.615,Spec=0.845,auroc_train=1.000,auroc=0.731\n",
      "\n",
      "Subj/Visit 5,prec=0.892,rec=0.717,Spec=0.950,auroc_train=1.000,auroc=0.894\n",
      "\n",
      "Subj/Visit 6,prec=0.651,rec=0.538,Spec=0.800,auroc_train=1.000,auroc=0.648\n",
      "f1_test=0.667+/-0.077, prec=0.736+/-0.103, rec=0.615+/-0.086, auprc=0.694+/-0.105, auroc=0.722+/-0.093\n",
      "Subject 1044\n",
      "Training Random Forest\n"
     ]
    },
    {
     "name": "stderr",
     "output_type": "stream",
     "text": [
      "C:\\Users\\nshawen\\AppData\\Local\\Continuum\\anaconda3\\lib\\site-packages\\sklearn\\metrics\\classification.py:1135: UndefinedMetricWarning: F-score is ill-defined and being set to 0.0 due to no predicted samples.\n",
      "  'precision', 'predicted', average, warn_for)\n",
      "C:\\Users\\nshawen\\AppData\\Local\\Continuum\\anaconda3\\lib\\site-packages\\sklearn\\metrics\\classification.py:1135: UndefinedMetricWarning: Precision is ill-defined and being set to 0.0 due to no predicted samples.\n",
      "  'precision', 'predicted', average, warn_for)\n"
     ]
    },
    {
     "name": "stdout",
     "output_type": "stream",
     "text": [
      "\n",
      "Subj/Visit 0,prec=0.000,rec=0.000,Spec=1.000,auroc_train=1.000,auroc=0.622\n"
     ]
    },
    {
     "name": "stderr",
     "output_type": "stream",
     "text": [
      "C:\\Users\\nshawen\\AppData\\Local\\Continuum\\anaconda3\\lib\\site-packages\\sklearn\\metrics\\classification.py:1135: UndefinedMetricWarning: F-score is ill-defined and being set to 0.0 due to no predicted samples.\n",
      "  'precision', 'predicted', average, warn_for)\n",
      "C:\\Users\\nshawen\\AppData\\Local\\Continuum\\anaconda3\\lib\\site-packages\\sklearn\\metrics\\classification.py:1135: UndefinedMetricWarning: Precision is ill-defined and being set to 0.0 due to no predicted samples.\n",
      "  'precision', 'predicted', average, warn_for)\n"
     ]
    },
    {
     "name": "stdout",
     "output_type": "stream",
     "text": [
      "\n",
      "Subj/Visit 1,prec=0.000,rec=0.000,Spec=1.000,auroc_train=1.000,auroc=0.667\n"
     ]
    },
    {
     "name": "stderr",
     "output_type": "stream",
     "text": [
      "C:\\Users\\nshawen\\AppData\\Local\\Continuum\\anaconda3\\lib\\site-packages\\sklearn\\metrics\\classification.py:1135: UndefinedMetricWarning: F-score is ill-defined and being set to 0.0 due to no predicted samples.\n",
      "  'precision', 'predicted', average, warn_for)\n",
      "C:\\Users\\nshawen\\AppData\\Local\\Continuum\\anaconda3\\lib\\site-packages\\sklearn\\metrics\\classification.py:1135: UndefinedMetricWarning: Precision is ill-defined and being set to 0.0 due to no predicted samples.\n",
      "  'precision', 'predicted', average, warn_for)\n"
     ]
    },
    {
     "name": "stdout",
     "output_type": "stream",
     "text": [
      "\n",
      "Subj/Visit 2,prec=0.000,rec=0.000,Spec=1.000,auroc_train=1.000,auroc=0.789\n"
     ]
    },
    {
     "name": "stderr",
     "output_type": "stream",
     "text": [
      "C:\\Users\\nshawen\\AppData\\Local\\Continuum\\anaconda3\\lib\\site-packages\\sklearn\\metrics\\classification.py:1135: UndefinedMetricWarning: F-score is ill-defined and being set to 0.0 due to no predicted samples.\n",
      "  'precision', 'predicted', average, warn_for)\n",
      "C:\\Users\\nshawen\\AppData\\Local\\Continuum\\anaconda3\\lib\\site-packages\\sklearn\\metrics\\classification.py:1135: UndefinedMetricWarning: Precision is ill-defined and being set to 0.0 due to no predicted samples.\n",
      "  'precision', 'predicted', average, warn_for)\n"
     ]
    },
    {
     "name": "stdout",
     "output_type": "stream",
     "text": [
      "\n",
      "Subj/Visit 3,prec=0.000,rec=0.000,Spec=1.000,auroc_train=1.000,auroc=0.455\n"
     ]
    },
    {
     "name": "stderr",
     "output_type": "stream",
     "text": [
      "C:\\Users\\nshawen\\AppData\\Local\\Continuum\\anaconda3\\lib\\site-packages\\sklearn\\metrics\\classification.py:1135: UndefinedMetricWarning: F-score is ill-defined and being set to 0.0 due to no predicted samples.\n",
      "  'precision', 'predicted', average, warn_for)\n",
      "C:\\Users\\nshawen\\AppData\\Local\\Continuum\\anaconda3\\lib\\site-packages\\sklearn\\metrics\\classification.py:1135: UndefinedMetricWarning: Precision is ill-defined and being set to 0.0 due to no predicted samples.\n",
      "  'precision', 'predicted', average, warn_for)\n"
     ]
    },
    {
     "name": "stdout",
     "output_type": "stream",
     "text": [
      "\n",
      "Subj/Visit 4,prec=0.000,rec=0.000,Spec=1.000,auroc_train=1.000,auroc=0.655\n"
     ]
    },
    {
     "name": "stderr",
     "output_type": "stream",
     "text": [
      "C:\\Users\\nshawen\\AppData\\Local\\Continuum\\anaconda3\\lib\\site-packages\\sklearn\\metrics\\classification.py:1135: UndefinedMetricWarning: F-score is ill-defined and being set to 0.0 due to no predicted samples.\n",
      "  'precision', 'predicted', average, warn_for)\n",
      "C:\\Users\\nshawen\\AppData\\Local\\Continuum\\anaconda3\\lib\\site-packages\\sklearn\\metrics\\classification.py:1135: UndefinedMetricWarning: Precision is ill-defined and being set to 0.0 due to no predicted samples.\n",
      "  'precision', 'predicted', average, warn_for)\n"
     ]
    },
    {
     "name": "stdout",
     "output_type": "stream",
     "text": [
      "\n",
      "Subj/Visit 5,prec=0.000,rec=0.000,Spec=1.000,auroc_train=1.000,auroc=0.636\n"
     ]
    },
    {
     "name": "stderr",
     "output_type": "stream",
     "text": [
      "C:\\Users\\nshawen\\AppData\\Local\\Continuum\\anaconda3\\lib\\site-packages\\sklearn\\metrics\\classification.py:1135: UndefinedMetricWarning: F-score is ill-defined and being set to 0.0 due to no predicted samples.\n",
      "  'precision', 'predicted', average, warn_for)\n",
      "C:\\Users\\nshawen\\AppData\\Local\\Continuum\\anaconda3\\lib\\site-packages\\sklearn\\metrics\\classification.py:1135: UndefinedMetricWarning: Precision is ill-defined and being set to 0.0 due to no predicted samples.\n",
      "  'precision', 'predicted', average, warn_for)\n"
     ]
    },
    {
     "name": "stdout",
     "output_type": "stream",
     "text": [
      "\n",
      "Subj/Visit 6,prec=0.000,rec=0.000,Spec=1.000,auroc_train=1.000,auroc=0.679\n",
      "f1_test=0.000+/-0.000, prec=0.000+/-0.000, rec=0.000+/-0.000, auprc=0.091+/-0.018, auroc=0.643+/-0.092\n",
      "Subject 1046\n",
      "Training Random Forest\n",
      "\n",
      "Subj/Visit 0,prec=0.100,rec=0.040,Spec=0.944,auroc_train=1.000,auroc=0.614\n",
      "\n",
      "Subj/Visit 1,prec=0.533,rec=0.163,Spec=0.956,auroc_train=1.000,auroc=0.771\n",
      "\n",
      "Subj/Visit 2,prec=0.333,rec=0.219,Spec=0.905,auroc_train=1.000,auroc=0.714\n",
      "\n",
      "Subj/Visit 3,prec=0.368,rec=0.219,Spec=0.915,auroc_train=1.000,auroc=0.686\n",
      "\n",
      "Subj/Visit 4,prec=0.750,rec=0.259,Spec=0.966,auroc_train=1.000,auroc=0.839\n",
      "\n",
      "Subj/Visit 5,prec=0.778,rec=0.230,Spec=0.974,auroc_train=1.000,auroc=0.799\n",
      "\n",
      "Subj/Visit 6,prec=0.615,rec=0.143,Spec=0.962,auroc_train=1.000,auroc=0.691\n",
      "f1_test=0.260+/-0.098, prec=0.497+/-0.226, rec=0.182+/-0.069, auprc=0.425+/-0.158, auroc=0.730+/-0.071\n",
      "Subject 1047\n",
      "Training Random Forest\n",
      "\n",
      "Subj/Visit 0,prec=0.000,rec=0.000,Spec=1.000,auroc_train=1.000,auroc=0.447\n"
     ]
    },
    {
     "name": "stderr",
     "output_type": "stream",
     "text": [
      "C:\\Users\\nshawen\\AppData\\Local\\Continuum\\anaconda3\\lib\\site-packages\\sklearn\\metrics\\classification.py:1135: UndefinedMetricWarning: F-score is ill-defined and being set to 0.0 due to no predicted samples.\n",
      "  'precision', 'predicted', average, warn_for)\n",
      "C:\\Users\\nshawen\\AppData\\Local\\Continuum\\anaconda3\\lib\\site-packages\\sklearn\\metrics\\classification.py:1135: UndefinedMetricWarning: Precision is ill-defined and being set to 0.0 due to no predicted samples.\n",
      "  'precision', 'predicted', average, warn_for)\n",
      "C:\\Users\\nshawen\\AppData\\Local\\Continuum\\anaconda3\\lib\\site-packages\\sklearn\\metrics\\ranking.py:444: RuntimeWarning: invalid value encountered in true_divide\n",
      "  recall = tps / tps[-1]\n",
      "C:\\Users\\nshawen\\AppData\\Local\\Continuum\\anaconda3\\lib\\site-packages\\sklearn\\metrics\\ranking.py:94: RuntimeWarning: invalid value encountered in less\n",
      "  if np.any(dx < 0):\n"
     ]
    },
    {
     "name": "stdout",
     "output_type": "stream",
     "text": [
      "only 1 class in test data - cannot compute roc curve\n",
      "\n",
      "Subj/Visit 1,prec=0.000,rec=0.000,Spec=1.000,auroc_train=1.000,auroc=nan\n",
      "only 1 class in test data - cannot compute roc curve\n",
      "\n",
      "Subj/Visit 2,prec=0.000,rec=0.000,Spec=1.000,auroc_train=1.000,auroc=nan\n"
     ]
    },
    {
     "name": "stderr",
     "output_type": "stream",
     "text": [
      "C:\\Users\\nshawen\\AppData\\Local\\Continuum\\anaconda3\\lib\\site-packages\\sklearn\\metrics\\ranking.py:444: RuntimeWarning: invalid value encountered in true_divide\n",
      "  recall = tps / tps[-1]\n",
      "C:\\Users\\nshawen\\AppData\\Local\\Continuum\\anaconda3\\lib\\site-packages\\sklearn\\metrics\\ranking.py:94: RuntimeWarning: invalid value encountered in less\n",
      "  if np.any(dx < 0):\n",
      "C:\\Users\\nshawen\\AppData\\Local\\Continuum\\anaconda3\\lib\\site-packages\\sklearn\\metrics\\classification.py:1135: UndefinedMetricWarning: F-score is ill-defined and being set to 0.0 due to no predicted samples.\n",
      "  'precision', 'predicted', average, warn_for)\n",
      "C:\\Users\\nshawen\\AppData\\Local\\Continuum\\anaconda3\\lib\\site-packages\\sklearn\\metrics\\classification.py:1135: UndefinedMetricWarning: Precision is ill-defined and being set to 0.0 due to no predicted samples.\n",
      "  'precision', 'predicted', average, warn_for)\n"
     ]
    },
    {
     "name": "stdout",
     "output_type": "stream",
     "text": [
      "\n",
      "Subj/Visit 3,prec=0.000,rec=0.000,Spec=1.000,auroc_train=1.000,auroc=0.453\n",
      "only 1 class in test data - cannot compute roc curve\n",
      "\n",
      "Subj/Visit 4,prec=0.000,rec=0.000,Spec=1.000,auroc_train=1.000,auroc=nan\n"
     ]
    },
    {
     "name": "stderr",
     "output_type": "stream",
     "text": [
      "C:\\Users\\nshawen\\AppData\\Local\\Continuum\\anaconda3\\lib\\site-packages\\sklearn\\metrics\\ranking.py:444: RuntimeWarning: invalid value encountered in true_divide\n",
      "  recall = tps / tps[-1]\n",
      "C:\\Users\\nshawen\\AppData\\Local\\Continuum\\anaconda3\\lib\\site-packages\\sklearn\\metrics\\ranking.py:94: RuntimeWarning: invalid value encountered in less\n",
      "  if np.any(dx < 0):\n",
      "C:\\Users\\nshawen\\AppData\\Local\\Continuum\\anaconda3\\lib\\site-packages\\sklearn\\metrics\\ranking.py:444: RuntimeWarning: invalid value encountered in true_divide\n",
      "  recall = tps / tps[-1]\n",
      "C:\\Users\\nshawen\\AppData\\Local\\Continuum\\anaconda3\\lib\\site-packages\\sklearn\\metrics\\ranking.py:94: RuntimeWarning: invalid value encountered in less\n",
      "  if np.any(dx < 0):\n"
     ]
    },
    {
     "name": "stdout",
     "output_type": "stream",
     "text": [
      "only 1 class in test data - cannot compute roc curve\n",
      "\n",
      "Subj/Visit 5,prec=0.000,rec=0.000,Spec=1.000,auroc_train=1.000,auroc=nan\n",
      "f1_test=0.000+/-0.000, prec=0.000+/-0.000, rec=0.000+/-0.000, auprc=0.012+/-0.008, auroc=0.450+/-0.003\n",
      "Subject 1049\n",
      "Training Random Forest\n",
      "\n",
      "Subj/Visit 0,prec=0.435,rec=0.307,Spec=0.693,auroc_train=1.000,auroc=0.460\n",
      "\n",
      "Subj/Visit 1,prec=0.595,rec=0.379,Spec=0.691,auroc_train=1.000,auroc=0.564\n",
      "\n",
      "Subj/Visit 2,prec=0.789,rec=0.273,Spec=0.818,auroc_train=1.000,auroc=0.519\n",
      "\n",
      "Subj/Visit 3,prec=0.255,rec=0.500,Spec=0.752,auroc_train=1.000,auroc=0.658\n",
      "\n",
      "Subj/Visit 4,prec=0.300,rec=0.281,Spec=0.864,auroc_train=1.000,auroc=0.657\n",
      "\n",
      "Subj/Visit 5,prec=0.367,rec=0.159,Spec=0.846,auroc_train=1.000,auroc=0.582\n",
      "\n",
      "Subj/Visit 6,prec=0.489,rec=0.211,Spec=0.718,auroc_train=1.000,auroc=0.518\n",
      "f1_test=0.339+/-0.074, prec=0.462+/-0.171, rec=0.301+/-0.104, auprc=0.457+/-0.173, auroc=0.565+/-0.069\n",
      "Subject 1051\n",
      "Training Random Forest\n",
      "only 1 class in test data - cannot compute roc curve\n",
      "\n",
      "Subj/Visit 0,prec=0.000,rec=0.000,Spec=1.000,auroc_train=1.000,auroc=nan\n"
     ]
    },
    {
     "name": "stderr",
     "output_type": "stream",
     "text": [
      "C:\\Users\\nshawen\\AppData\\Local\\Continuum\\anaconda3\\lib\\site-packages\\sklearn\\metrics\\ranking.py:444: RuntimeWarning: invalid value encountered in true_divide\n",
      "  recall = tps / tps[-1]\n",
      "C:\\Users\\nshawen\\AppData\\Local\\Continuum\\anaconda3\\lib\\site-packages\\sklearn\\metrics\\ranking.py:94: RuntimeWarning: invalid value encountered in less\n",
      "  if np.any(dx < 0):\n",
      "C:\\Users\\nshawen\\AppData\\Local\\Continuum\\anaconda3\\lib\\site-packages\\sklearn\\metrics\\ranking.py:444: RuntimeWarning: invalid value encountered in true_divide\n",
      "  recall = tps / tps[-1]\n",
      "C:\\Users\\nshawen\\AppData\\Local\\Continuum\\anaconda3\\lib\\site-packages\\sklearn\\metrics\\ranking.py:94: RuntimeWarning: invalid value encountered in less\n",
      "  if np.any(dx < 0):\n"
     ]
    },
    {
     "name": "stdout",
     "output_type": "stream",
     "text": [
      "only 1 class in test data - cannot compute roc curve\n",
      "\n",
      "Subj/Visit 1,prec=0.000,rec=0.000,Spec=1.000,auroc_train=1.000,auroc=nan\n",
      "only 1 class in test data - cannot compute roc curve\n",
      "\n",
      "Subj/Visit 2,prec=0.000,rec=0.000,Spec=1.000,auroc_train=1.000,auroc=nan\n"
     ]
    },
    {
     "name": "stderr",
     "output_type": "stream",
     "text": [
      "C:\\Users\\nshawen\\AppData\\Local\\Continuum\\anaconda3\\lib\\site-packages\\sklearn\\metrics\\ranking.py:444: RuntimeWarning: invalid value encountered in true_divide\n",
      "  recall = tps / tps[-1]\n",
      "C:\\Users\\nshawen\\AppData\\Local\\Continuum\\anaconda3\\lib\\site-packages\\sklearn\\metrics\\ranking.py:94: RuntimeWarning: invalid value encountered in less\n",
      "  if np.any(dx < 0):\n",
      "C:\\Users\\nshawen\\AppData\\Local\\Continuum\\anaconda3\\lib\\site-packages\\sklearn\\metrics\\ranking.py:444: RuntimeWarning: invalid value encountered in true_divide\n",
      "  recall = tps / tps[-1]\n",
      "C:\\Users\\nshawen\\AppData\\Local\\Continuum\\anaconda3\\lib\\site-packages\\sklearn\\metrics\\ranking.py:94: RuntimeWarning: invalid value encountered in less\n",
      "  if np.any(dx < 0):\n"
     ]
    },
    {
     "name": "stdout",
     "output_type": "stream",
     "text": [
      "only 1 class in test data - cannot compute roc curve\n",
      "\n",
      "Subj/Visit 3,prec=0.000,rec=0.000,Spec=1.000,auroc_train=1.000,auroc=nan\n",
      "only 1 class in test data - cannot compute roc curve\n",
      "\n",
      "Subj/Visit 4,prec=0.000,rec=0.000,Spec=1.000,auroc_train=1.000,auroc=nan\n"
     ]
    },
    {
     "name": "stderr",
     "output_type": "stream",
     "text": [
      "C:\\Users\\nshawen\\AppData\\Local\\Continuum\\anaconda3\\lib\\site-packages\\sklearn\\metrics\\ranking.py:444: RuntimeWarning: invalid value encountered in true_divide\n",
      "  recall = tps / tps[-1]\n",
      "C:\\Users\\nshawen\\AppData\\Local\\Continuum\\anaconda3\\lib\\site-packages\\sklearn\\metrics\\ranking.py:94: RuntimeWarning: invalid value encountered in less\n",
      "  if np.any(dx < 0):\n",
      "C:\\Users\\nshawen\\AppData\\Local\\Continuum\\anaconda3\\lib\\site-packages\\sklearn\\metrics\\ranking.py:444: RuntimeWarning: invalid value encountered in true_divide\n",
      "  recall = tps / tps[-1]\n",
      "C:\\Users\\nshawen\\AppData\\Local\\Continuum\\anaconda3\\lib\\site-packages\\sklearn\\metrics\\ranking.py:94: RuntimeWarning: invalid value encountered in less\n",
      "  if np.any(dx < 0):\n",
      "C:\\Users\\nshawen\\AppData\\Local\\Continuum\\anaconda3\\lib\\site-packages\\ipykernel_launcher.py:87: RuntimeWarning: Mean of empty slice\n"
     ]
    },
    {
     "name": "stdout",
     "output_type": "stream",
     "text": [
      "only 1 class in test data - cannot compute roc curve\n",
      "\n",
      "Subj/Visit 5,prec=0.000,rec=0.000,Spec=1.000,auroc_train=1.000,auroc=nan\n",
      "only 1 class available in train data - skipping\n",
      "f1_test=0.000+/-0.000, prec=0.000+/-0.000, rec=0.000+/-0.000, auprc=nan+/-nan, auroc=nan+/-nan\n",
      "Subject 1052\n",
      "Training Random Forest\n"
     ]
    },
    {
     "name": "stderr",
     "output_type": "stream",
     "text": [
      "C:\\Users\\nshawen\\AppData\\Local\\Continuum\\anaconda3\\lib\\site-packages\\numpy\\lib\\nanfunctions.py:1434: RuntimeWarning: Degrees of freedom <= 0 for slice.\n",
      "  keepdims=keepdims)\n",
      "C:\\Users\\nshawen\\AppData\\Local\\Continuum\\anaconda3\\lib\\site-packages\\ipykernel_launcher.py:94: RuntimeWarning: Mean of empty slice\n",
      "C:\\Users\\nshawen\\AppData\\Local\\Continuum\\anaconda3\\lib\\site-packages\\sklearn\\metrics\\classification.py:1135: UndefinedMetricWarning: F-score is ill-defined and being set to 0.0 due to no predicted samples.\n",
      "  'precision', 'predicted', average, warn_for)\n",
      "C:\\Users\\nshawen\\AppData\\Local\\Continuum\\anaconda3\\lib\\site-packages\\sklearn\\metrics\\classification.py:1135: UndefinedMetricWarning: Precision is ill-defined and being set to 0.0 due to no predicted samples.\n",
      "  'precision', 'predicted', average, warn_for)\n"
     ]
    },
    {
     "name": "stdout",
     "output_type": "stream",
     "text": [
      "\n",
      "Subj/Visit 0,prec=0.000,rec=0.000,Spec=1.000,auroc_train=1.000,auroc=0.517\n"
     ]
    },
    {
     "name": "stderr",
     "output_type": "stream",
     "text": [
      "C:\\Users\\nshawen\\AppData\\Local\\Continuum\\anaconda3\\lib\\site-packages\\sklearn\\metrics\\classification.py:1137: UndefinedMetricWarning: F-score is ill-defined and being set to 0.0 due to no true samples.\n",
      "  'recall', 'true', average, warn_for)\n",
      "C:\\Users\\nshawen\\AppData\\Local\\Continuum\\anaconda3\\lib\\site-packages\\sklearn\\metrics\\ranking.py:444: RuntimeWarning: invalid value encountered in true_divide\n",
      "  recall = tps / tps[-1]\n",
      "C:\\Users\\nshawen\\AppData\\Local\\Continuum\\anaconda3\\lib\\site-packages\\sklearn\\metrics\\ranking.py:94: RuntimeWarning: invalid value encountered in less\n",
      "  if np.any(dx < 0):\n",
      "C:\\Users\\nshawen\\AppData\\Local\\Continuum\\anaconda3\\lib\\site-packages\\sklearn\\metrics\\classification.py:1137: UndefinedMetricWarning: Recall is ill-defined and being set to 0.0 due to no true samples.\n",
      "  'recall', 'true', average, warn_for)\n"
     ]
    },
    {
     "name": "stdout",
     "output_type": "stream",
     "text": [
      "only 1 class in test data - cannot compute roc curve\n",
      "\n",
      "Subj/Visit 1,prec=0.000,rec=0.000,Spec=0.990,auroc_train=1.000,auroc=nan\n"
     ]
    },
    {
     "name": "stderr",
     "output_type": "stream",
     "text": [
      "C:\\Users\\nshawen\\AppData\\Local\\Continuum\\anaconda3\\lib\\site-packages\\sklearn\\metrics\\classification.py:1137: UndefinedMetricWarning: F-score is ill-defined and being set to 0.0 due to no true samples.\n",
      "  'recall', 'true', average, warn_for)\n",
      "C:\\Users\\nshawen\\AppData\\Local\\Continuum\\anaconda3\\lib\\site-packages\\sklearn\\metrics\\ranking.py:444: RuntimeWarning: invalid value encountered in true_divide\n",
      "  recall = tps / tps[-1]\n",
      "C:\\Users\\nshawen\\AppData\\Local\\Continuum\\anaconda3\\lib\\site-packages\\sklearn\\metrics\\ranking.py:94: RuntimeWarning: invalid value encountered in less\n",
      "  if np.any(dx < 0):\n",
      "C:\\Users\\nshawen\\AppData\\Local\\Continuum\\anaconda3\\lib\\site-packages\\sklearn\\metrics\\classification.py:1137: UndefinedMetricWarning: Recall is ill-defined and being set to 0.0 due to no true samples.\n",
      "  'recall', 'true', average, warn_for)\n"
     ]
    },
    {
     "name": "stdout",
     "output_type": "stream",
     "text": [
      "only 1 class in test data - cannot compute roc curve\n",
      "\n",
      "Subj/Visit 2,prec=0.000,rec=0.000,Spec=0.994,auroc_train=1.000,auroc=nan\n",
      "\n",
      "Subj/Visit 3,prec=0.500,rec=0.037,Spec=0.994,auroc_train=1.000,auroc=0.432\n"
     ]
    },
    {
     "name": "stderr",
     "output_type": "stream",
     "text": [
      "C:\\Users\\nshawen\\AppData\\Local\\Continuum\\anaconda3\\lib\\site-packages\\sklearn\\metrics\\classification.py:1137: UndefinedMetricWarning: F-score is ill-defined and being set to 0.0 due to no true samples.\n",
      "  'recall', 'true', average, warn_for)\n",
      "C:\\Users\\nshawen\\AppData\\Local\\Continuum\\anaconda3\\lib\\site-packages\\sklearn\\metrics\\ranking.py:444: RuntimeWarning: invalid value encountered in true_divide\n",
      "  recall = tps / tps[-1]\n",
      "C:\\Users\\nshawen\\AppData\\Local\\Continuum\\anaconda3\\lib\\site-packages\\sklearn\\metrics\\ranking.py:94: RuntimeWarning: invalid value encountered in less\n",
      "  if np.any(dx < 0):\n",
      "C:\\Users\\nshawen\\AppData\\Local\\Continuum\\anaconda3\\lib\\site-packages\\sklearn\\metrics\\classification.py:1137: UndefinedMetricWarning: Recall is ill-defined and being set to 0.0 due to no true samples.\n",
      "  'recall', 'true', average, warn_for)\n"
     ]
    },
    {
     "name": "stdout",
     "output_type": "stream",
     "text": [
      "only 1 class in test data - cannot compute roc curve\n",
      "\n",
      "Subj/Visit 4,prec=0.000,rec=0.000,Spec=0.994,auroc_train=1.000,auroc=nan\n"
     ]
    },
    {
     "name": "stderr",
     "output_type": "stream",
     "text": [
      "C:\\Users\\nshawen\\AppData\\Local\\Continuum\\anaconda3\\lib\\site-packages\\sklearn\\metrics\\ranking.py:444: RuntimeWarning: invalid value encountered in true_divide\n",
      "  recall = tps / tps[-1]\n",
      "C:\\Users\\nshawen\\AppData\\Local\\Continuum\\anaconda3\\lib\\site-packages\\sklearn\\metrics\\ranking.py:94: RuntimeWarning: invalid value encountered in less\n",
      "  if np.any(dx < 0):\n",
      "C:\\Users\\nshawen\\AppData\\Local\\Continuum\\anaconda3\\lib\\site-packages\\ipykernel_launcher.py:85: RuntimeWarning: Mean of empty slice\n",
      "C:\\Users\\nshawen\\AppData\\Local\\Continuum\\anaconda3\\lib\\site-packages\\numpy\\lib\\nanfunctions.py:1434: RuntimeWarning: Degrees of freedom <= 0 for slice.\n",
      "  keepdims=keepdims)\n",
      "C:\\Users\\nshawen\\AppData\\Local\\Continuum\\anaconda3\\lib\\site-packages\\ipykernel_launcher.py:86: RuntimeWarning: Mean of empty slice\n",
      "C:\\Users\\nshawen\\AppData\\Local\\Continuum\\anaconda3\\lib\\site-packages\\ipykernel_launcher.py:87: RuntimeWarning: Mean of empty slice\n",
      "C:\\Users\\nshawen\\AppData\\Local\\Continuum\\anaconda3\\lib\\site-packages\\ipykernel_launcher.py:94: RuntimeWarning: Mean of empty slice\n",
      "C:\\Users\\nshawen\\AppData\\Local\\Continuum\\anaconda3\\lib\\site-packages\\sklearn\\metrics\\ranking.py:444: RuntimeWarning: invalid value encountered in true_divide\n",
      "  recall = tps / tps[-1]\n",
      "C:\\Users\\nshawen\\AppData\\Local\\Continuum\\anaconda3\\lib\\site-packages\\sklearn\\metrics\\ranking.py:94: RuntimeWarning: invalid value encountered in less\n",
      "  if np.any(dx < 0):\n"
     ]
    },
    {
     "name": "stdout",
     "output_type": "stream",
     "text": [
      "only 1 class in test data - cannot compute roc curve\n",
      "\n",
      "Subj/Visit 5,prec=0.000,rec=0.000,Spec=1.000,auroc_train=1.000,auroc=nan\n",
      "f1_test=0.011+/-0.026, prec=0.083+/-0.186, rec=0.006+/-0.014, auprc=0.295+/-0.098, auroc=0.474+/-0.043\n",
      "Subject 1053\n",
      "Training Random Forest\n",
      "only 1 class available in train data - skipping\n",
      "only 1 class available in train data - skipping\n",
      "only 1 class available in train data - skipping\n",
      "only 1 class available in train data - skipping\n",
      "only 1 class available in train data - skipping\n",
      "only 1 class available in train data - skipping\n",
      "f1_test=nan+/-nan, prec=nan+/-nan, rec=nan+/-nan, auprc=nan+/-nan, auroc=nan+/-nan\n",
      "Subject 1054\n",
      "Training Random Forest\n",
      "only 1 class available in train data - skipping\n",
      "only 1 class in test data - cannot compute roc curve\n",
      "\n",
      "Subj/Visit 0,prec=0.000,rec=0.000,Spec=1.000,auroc_train=1.000,auroc=nan\n"
     ]
    },
    {
     "name": "stderr",
     "output_type": "stream",
     "text": [
      "C:\\Users\\nshawen\\AppData\\Local\\Continuum\\anaconda3\\lib\\site-packages\\sklearn\\metrics\\ranking.py:444: RuntimeWarning: invalid value encountered in true_divide\n",
      "  recall = tps / tps[-1]\n",
      "C:\\Users\\nshawen\\AppData\\Local\\Continuum\\anaconda3\\lib\\site-packages\\sklearn\\metrics\\ranking.py:94: RuntimeWarning: invalid value encountered in less\n",
      "  if np.any(dx < 0):\n",
      "C:\\Users\\nshawen\\AppData\\Local\\Continuum\\anaconda3\\lib\\site-packages\\sklearn\\metrics\\ranking.py:444: RuntimeWarning: invalid value encountered in true_divide\n",
      "  recall = tps / tps[-1]\n",
      "C:\\Users\\nshawen\\AppData\\Local\\Continuum\\anaconda3\\lib\\site-packages\\sklearn\\metrics\\ranking.py:94: RuntimeWarning: invalid value encountered in less\n",
      "  if np.any(dx < 0):\n"
     ]
    },
    {
     "name": "stdout",
     "output_type": "stream",
     "text": [
      "only 1 class in test data - cannot compute roc curve\n",
      "\n",
      "Subj/Visit 1,prec=0.000,rec=0.000,Spec=1.000,auroc_train=1.000,auroc=nan\n",
      "only 1 class in test data - cannot compute roc curve\n",
      "\n",
      "Subj/Visit 2,prec=0.000,rec=0.000,Spec=1.000,auroc_train=1.000,auroc=nan\n"
     ]
    },
    {
     "name": "stderr",
     "output_type": "stream",
     "text": [
      "C:\\Users\\nshawen\\AppData\\Local\\Continuum\\anaconda3\\lib\\site-packages\\sklearn\\metrics\\ranking.py:444: RuntimeWarning: invalid value encountered in true_divide\n",
      "  recall = tps / tps[-1]\n",
      "C:\\Users\\nshawen\\AppData\\Local\\Continuum\\anaconda3\\lib\\site-packages\\sklearn\\metrics\\ranking.py:94: RuntimeWarning: invalid value encountered in less\n",
      "  if np.any(dx < 0):\n",
      "C:\\Users\\nshawen\\AppData\\Local\\Continuum\\anaconda3\\lib\\site-packages\\sklearn\\metrics\\ranking.py:444: RuntimeWarning: invalid value encountered in true_divide\n",
      "  recall = tps / tps[-1]\n",
      "C:\\Users\\nshawen\\AppData\\Local\\Continuum\\anaconda3\\lib\\site-packages\\sklearn\\metrics\\ranking.py:94: RuntimeWarning: invalid value encountered in less\n",
      "  if np.any(dx < 0):\n",
      "C:\\Users\\nshawen\\AppData\\Local\\Continuum\\anaconda3\\lib\\site-packages\\ipykernel_launcher.py:87: RuntimeWarning: Mean of empty slice\n",
      "C:\\Users\\nshawen\\AppData\\Local\\Continuum\\anaconda3\\lib\\site-packages\\numpy\\lib\\nanfunctions.py:1434: RuntimeWarning: Degrees of freedom <= 0 for slice.\n",
      "  keepdims=keepdims)\n",
      "C:\\Users\\nshawen\\AppData\\Local\\Continuum\\anaconda3\\lib\\site-packages\\ipykernel_launcher.py:94: RuntimeWarning: Mean of empty slice\n"
     ]
    },
    {
     "name": "stdout",
     "output_type": "stream",
     "text": [
      "only 1 class in test data - cannot compute roc curve\n",
      "\n",
      "Subj/Visit 3,prec=0.000,rec=0.000,Spec=1.000,auroc_train=1.000,auroc=nan\n",
      "only 1 class in test data - cannot compute roc curve\n",
      "\n",
      "Subj/Visit 4,prec=0.000,rec=0.000,Spec=1.000,auroc_train=1.000,auroc=nan\n",
      "f1_test=0.000+/-0.000, prec=0.000+/-0.000, rec=0.000+/-0.000, auprc=nan+/-nan, auroc=nan+/-nan\n",
      "Subject 1055\n",
      "Training Random Forest\n",
      "\n",
      "Subj/Visit 0,prec=0.925,rec=0.943,Spec=0.000,auroc_train=1.000,auroc=0.176\n",
      "\n",
      "Subj/Visit 1,prec=0.664,rec=0.924,Spec=0.000,auroc_train=1.000,auroc=0.276\n",
      "\n",
      "Subj/Visit 2,prec=0.544,rec=0.974,Spec=0.000,auroc_train=1.000,auroc=0.258\n",
      "\n",
      "Subj/Visit 3,prec=0.886,rec=0.969,Spec=0.000,auroc_train=1.000,auroc=0.431\n",
      "\n",
      "Subj/Visit 4,prec=0.753,rec=0.986,Spec=0.000,auroc_train=1.000,auroc=0.336\n",
      "\n",
      "Subj/Visit 5,prec=0.978,rec=0.840,Spec=0.000,auroc_train=1.000,auroc=0.274\n",
      "f1_test=0.848+/-0.086, prec=0.792+/-0.153, rec=0.939+/-0.049, auprc=0.721+/-0.196, auroc=0.292+/-0.078\n",
      "Subject 1056\n",
      "Training Random Forest\n",
      "\n",
      "Subj/Visit 0,prec=0.902,rec=0.982,Spec=0.000,auroc_train=1.000,auroc=0.583\n",
      "\n",
      "Subj/Visit 1,prec=0.300,rec=1.000,Spec=0.000,auroc_train=1.000,auroc=0.521\n",
      "\n",
      "Subj/Visit 2,prec=0.350,rec=1.000,Spec=0.000,auroc_train=1.000,auroc=0.470\n",
      "\n",
      "Subj/Visit 3,prec=0.982,rec=0.965,Spec=0.000,auroc_train=1.000,auroc=0.657\n",
      "only 1 class in test data - cannot compute roc curve\n",
      "\n",
      "Subj/Visit 4,prec=1.000,rec=0.923,Spec=nan,auroc_train=1.000,auroc=nan\n"
     ]
    },
    {
     "name": "stderr",
     "output_type": "stream",
     "text": [
      "C:\\Users\\nshawen\\AppData\\Local\\Continuum\\anaconda3\\lib\\site-packages\\ipykernel_launcher.py:51: RuntimeWarning: invalid value encountered in long_scalars\n"
     ]
    },
    {
     "name": "stdout",
     "output_type": "stream",
     "text": [
      "\n",
      "Subj/Visit 5,prec=0.917,rec=0.982,Spec=0.091,auroc_train=1.000,auroc=0.598\n",
      "f1_test=0.800+/-0.220, prec=0.742+/-0.297, rec=0.975+/-0.026, auprc=0.743+/-0.317, auroc=0.566+/-0.065\n"
     ]
    }
   ],
   "source": [
    "#LOVO EMG Tremor\n",
    "\n",
    "symptom = 'Tremor'\n",
    "le = LabelEncoder()\n",
    "res_all = pd.DataFrame(data=None,index=None)\n",
    "#train on all sessions, predict on left out session for each patient\n",
    "res_visit_all = [] #data from each subject \n",
    "\n",
    "#remove nan rows for current symptom\n",
    "Data = Datafull.copy() #original unmodified dataframe\n",
    "Data=Data[~Data[symptom].isnull()]\n",
    "Data=Data.reset_index(drop=True) #reset index\n",
    "\n",
    "for s in Data.Subject.unique():\n",
    "    print('Subject %s'%s)\n",
    "    ds = Data.loc[Data.Subject==s]\n",
    "    indp = (ds[symptom]>0).values\n",
    "    y = indp.astype(int) #target \n",
    "    X = ds.iloc[:,6:94]\n",
    "    X_std = StandardScaler().fit_transform(X) #standardize input data\n",
    "    models = [RandomForestClassifier(n_estimators=50,random_state=2)]#,XGBClassifier()]\n",
    "    model_name = ['Random Forest']#,'XGB']\n",
    "    models = list(zip(models,model_name))\n",
    "    groups = le.fit_transform(ds.Visit)\n",
    "    if len(np.unique(groups))<2:\n",
    "        continue\n",
    "    res,res_group = LOSOCV(ds,X_std,y,groups,models)\n",
    "    res.index = res.index+s\n",
    "    res_all=pd.concat((res_all,res))\n",
    "    res_visit_all.append(res_group)"
   ]
  },
  {
   "cell_type": "code",
   "execution_count": 24,
   "metadata": {},
   "outputs": [
    {
     "name": "stderr",
     "output_type": "stream",
     "text": [
      "C:\\Users\\nshawen\\AppData\\Local\\Continuum\\anaconda3\\lib\\site-packages\\ipykernel_launcher.py:15: RuntimeWarning: Mean of empty slice\n",
      "  from ipykernel import kernelapp as app\n",
      "C:\\Users\\nshawen\\AppData\\Local\\Continuum\\anaconda3\\lib\\site-packages\\numpy\\lib\\nanfunctions.py:1434: RuntimeWarning: Degrees of freedom <= 0 for slice.\n",
      "  keepdims=keepdims)\n"
     ]
    },
    {
     "data": {
      "image/png": "[encoded data removed]",
      "text/plain": [
       "<matplotlib.figure.Figure at 0x16357860>"
      ]
     },
     "metadata": {},
     "output_type": "display_data"
    }
   ],
   "source": [
    "results = res_all.auroc.values\n",
    "np.save('Results/resultsTremorLOVOEMG.npy',results)\n",
    "\n",
    "#compute mean and std auc\n",
    "subjs=Data.Subject.unique()\n",
    "auc_mean = []; auc_std = []\n",
    "aucdf = pd.DataFrame()\n",
    "for i in range(len(res_visit_all)):\n",
    "\n",
    "    if len(res_visit_all[i]['Random Forest']['auroc']) < 7:\n",
    "        L = len(res_visit_all[i]['Random Forest']['auroc'])\n",
    "        res_visit_all[i]['Random Forest']['auroc'] += (list(np.nan*np.ones(7-L)))\n",
    "    aucdf[subjs[i]] = res_visit_all[i]['Random Forest']['auroc']   \n",
    "    tremor_auc = res_visit_all[i]['Random Forest']['auroc']\n",
    "    auc_mean.append(np.nanmean(tremor_auc)) #mean across visits\n",
    "    auc_std.append(np.nanstd(tremor_auc))\n",
    "    \n",
    "sns.barplot(data=aucdf)\n",
    "ax=plt.xticks(rotation=90)\n",
    "plt.title('LOVO EMG - Mean AUROC = %.3f +/- %.3f'%(np.nanmean(res_all.auroc),np.nanstd(res_all.auroc)))\n",
    "plt.ylim([0.2,0.9])\n",
    "\n",
    "plt.savefig('Results/resultsTremorLOVOEMG.png',format='png',dpi=1000)"
   ]
  },
  {
   "cell_type": "code",
   "execution_count": 25,
   "metadata": {},
   "outputs": [
    {
     "name": "stdout",
     "output_type": "stream",
     "text": [
      "Subject 1004\n",
      "Training Random Forest\n",
      "\n",
      "Subj/Visit 0,prec=0.000,rec=0.000,Spec=1.000,auroc_train=1.000,auroc=0.655\n"
     ]
    },
    {
     "name": "stderr",
     "output_type": "stream",
     "text": [
      "C:\\Users\\nshawen\\AppData\\Local\\Continuum\\anaconda3\\lib\\site-packages\\sklearn\\metrics\\classification.py:1135: UndefinedMetricWarning: F-score is ill-defined and being set to 0.0 due to no predicted samples.\n",
      "  'precision', 'predicted', average, warn_for)\n",
      "C:\\Users\\nshawen\\AppData\\Local\\Continuum\\anaconda3\\lib\\site-packages\\sklearn\\metrics\\classification.py:1135: UndefinedMetricWarning: Precision is ill-defined and being set to 0.0 due to no predicted samples.\n",
      "  'precision', 'predicted', average, warn_for)\n",
      "C:\\Users\\nshawen\\AppData\\Local\\Continuum\\anaconda3\\lib\\site-packages\\sklearn\\metrics\\ranking.py:444: RuntimeWarning: invalid value encountered in true_divide\n",
      "  recall = tps / tps[-1]\n",
      "C:\\Users\\nshawen\\AppData\\Local\\Continuum\\anaconda3\\lib\\site-packages\\sklearn\\metrics\\ranking.py:94: RuntimeWarning: invalid value encountered in less\n",
      "  if np.any(dx < 0):\n",
      "C:\\Users\\nshawen\\AppData\\Local\\Continuum\\anaconda3\\lib\\site-packages\\sklearn\\metrics\\ranking.py:444: RuntimeWarning: invalid value encountered in true_divide\n",
      "  recall = tps / tps[-1]\n",
      "C:\\Users\\nshawen\\AppData\\Local\\Continuum\\anaconda3\\lib\\site-packages\\sklearn\\metrics\\ranking.py:94: RuntimeWarning: invalid value encountered in less\n",
      "  if np.any(dx < 0):\n"
     ]
    },
    {
     "name": "stdout",
     "output_type": "stream",
     "text": [
      "only 1 class in test data - cannot compute roc curve\n",
      "\n",
      "Subj/Visit 1,prec=0.000,rec=0.000,Spec=1.000,auroc_train=1.000,auroc=nan\n",
      "only 1 class in test data - cannot compute roc curve\n",
      "\n",
      "Subj/Visit 2,prec=0.000,rec=0.000,Spec=1.000,auroc_train=1.000,auroc=nan\n",
      "\n",
      "Subj/Visit 3,prec=1.000,rec=0.444,Spec=1.000,auroc_train=1.000,auroc=0.949\n",
      "only 1 class in test data - cannot compute roc curve\n",
      "\n",
      "Subj/Visit 4,prec=0.000,rec=0.000,Spec=1.000,auroc_train=1.000,auroc=nan\n"
     ]
    },
    {
     "name": "stderr",
     "output_type": "stream",
     "text": [
      "C:\\Users\\nshawen\\AppData\\Local\\Continuum\\anaconda3\\lib\\site-packages\\sklearn\\metrics\\ranking.py:444: RuntimeWarning: invalid value encountered in true_divide\n",
      "  recall = tps / tps[-1]\n",
      "C:\\Users\\nshawen\\AppData\\Local\\Continuum\\anaconda3\\lib\\site-packages\\sklearn\\metrics\\ranking.py:94: RuntimeWarning: invalid value encountered in less\n",
      "  if np.any(dx < 0):\n",
      "C:\\Users\\nshawen\\AppData\\Local\\Continuum\\anaconda3\\lib\\site-packages\\sklearn\\metrics\\ranking.py:444: RuntimeWarning: invalid value encountered in true_divide\n",
      "  recall = tps / tps[-1]\n",
      "C:\\Users\\nshawen\\AppData\\Local\\Continuum\\anaconda3\\lib\\site-packages\\sklearn\\metrics\\ranking.py:94: RuntimeWarning: invalid value encountered in less\n",
      "  if np.any(dx < 0):\n"
     ]
    },
    {
     "name": "stdout",
     "output_type": "stream",
     "text": [
      "only 1 class in test data - cannot compute roc curve\n",
      "\n",
      "Subj/Visit 5,prec=0.000,rec=0.000,Spec=1.000,auroc_train=1.000,auroc=nan\n",
      "\n",
      "Subj/Visit 6,prec=0.000,rec=0.000,Spec=0.972,auroc_train=1.000,auroc=0.837\n",
      "f1_test=0.088+/-0.215, prec=0.143+/-0.350, rec=0.063+/-0.156, auprc=0.614+/-0.290, auroc=0.814+/-0.121\n",
      "Subject 1016\n",
      "Training Random Forest\n",
      "\n",
      "Subj/Visit 0,prec=0.819,rec=0.779,Spec=0.831,auroc_train=1.000,auroc=0.878\n",
      "\n",
      "Subj/Visit 1,prec=0.881,rec=0.849,Spec=0.845,auroc_train=1.000,auroc=0.916\n",
      "\n",
      "Subj/Visit 2,prec=0.859,rec=0.815,Spec=0.860,auroc_train=1.000,auroc=0.913\n",
      "\n",
      "Subj/Visit 3,prec=0.897,rec=0.727,Spec=0.900,auroc_train=1.000,auroc=0.917\n",
      "\n",
      "Subj/Visit 4,prec=0.862,rec=0.899,Spec=0.818,auroc_train=1.000,auroc=0.916\n",
      "\n",
      "Subj/Visit 5,prec=0.904,rec=0.852,Spec=0.872,auroc_train=1.000,auroc=0.922\n"
     ]
    },
    {
     "name": "stderr",
     "output_type": "stream",
     "text": [
      "C:\\Users\\nshawen\\AppData\\Local\\Continuum\\anaconda3\\lib\\site-packages\\sklearn\\metrics\\classification.py:1137: UndefinedMetricWarning: F-score is ill-defined and being set to 0.0 due to no true samples.\n",
      "  'recall', 'true', average, warn_for)\n",
      "C:\\Users\\nshawen\\AppData\\Local\\Continuum\\anaconda3\\lib\\site-packages\\sklearn\\metrics\\ranking.py:444: RuntimeWarning: invalid value encountered in true_divide\n",
      "  recall = tps / tps[-1]\n",
      "C:\\Users\\nshawen\\AppData\\Local\\Continuum\\anaconda3\\lib\\site-packages\\sklearn\\metrics\\ranking.py:94: RuntimeWarning: invalid value encountered in less\n",
      "  if np.any(dx < 0):\n",
      "C:\\Users\\nshawen\\AppData\\Local\\Continuum\\anaconda3\\lib\\site-packages\\sklearn\\metrics\\classification.py:1137: UndefinedMetricWarning: Recall is ill-defined and being set to 0.0 due to no true samples.\n",
      "  'recall', 'true', average, warn_for)\n"
     ]
    },
    {
     "name": "stdout",
     "output_type": "stream",
     "text": [
      "only 1 class in test data - cannot compute roc curve\n",
      "\n",
      "Subj/Visit 6,prec=0.000,rec=0.000,Spec=0.465,auroc_train=1.000,auroc=nan\n",
      "f1_test=0.723+/-0.297, prec=0.746+/-0.306, rec=0.703+/-0.292, auprc=0.911+/-0.019, auroc=0.910+/-0.015\n",
      "Subject 1018\n",
      "Training Random Forest\n",
      "\n",
      "Subj/Visit 0,prec=1.000,rec=0.250,Spec=1.000,auroc_train=1.000,auroc=0.798\n",
      "\n",
      "Subj/Visit 1,prec=1.000,rec=1.000,Spec=1.000,auroc_train=1.000,auroc=1.000\n",
      "\n",
      "Subj/Visit 2,prec=1.000,rec=1.000,Spec=1.000,auroc_train=1.000,auroc=1.000\n",
      "\n",
      "Subj/Visit 3,prec=1.000,rec=0.375,Spec=1.000,auroc_train=1.000,auroc=0.909\n",
      "\n",
      "Subj/Visit 4,prec=1.000,rec=0.250,Spec=1.000,auroc_train=1.000,auroc=0.773\n",
      "\n",
      "Subj/Visit 5,prec=1.000,rec=1.000,Spec=1.000,auroc_train=1.000,auroc=1.000\n",
      "\n",
      "Subj/Visit 6,prec=1.000,rec=0.889,Spec=1.000,auroc_train=1.000,auroc=1.000\n",
      "f1_test=0.755+/-0.270, prec=1.000+/-0.000, rec=0.681+/-0.341, auprc=0.800+/-0.242, auroc=0.926+/-0.094\n",
      "Subject 1019\n",
      "Training Random Forest\n"
     ]
    },
    {
     "name": "stderr",
     "output_type": "stream",
     "text": [
      "C:\\Users\\nshawen\\AppData\\Local\\Continuum\\anaconda3\\lib\\site-packages\\sklearn\\metrics\\classification.py:1135: UndefinedMetricWarning: F-score is ill-defined and being set to 0.0 due to no predicted samples.\n",
      "  'precision', 'predicted', average, warn_for)\n",
      "C:\\Users\\nshawen\\AppData\\Local\\Continuum\\anaconda3\\lib\\site-packages\\sklearn\\metrics\\classification.py:1135: UndefinedMetricWarning: Precision is ill-defined and being set to 0.0 due to no predicted samples.\n",
      "  'precision', 'predicted', average, warn_for)\n"
     ]
    },
    {
     "name": "stdout",
     "output_type": "stream",
     "text": [
      "\n",
      "Subj/Visit 0,prec=0.000,rec=0.000,Spec=1.000,auroc_train=1.000,auroc=0.479\n",
      "\n",
      "Subj/Visit 1,prec=1.000,rec=0.667,Spec=1.000,auroc_train=1.000,auroc=1.000\n",
      "\n",
      "Subj/Visit 2,prec=1.000,rec=1.000,Spec=1.000,auroc_train=1.000,auroc=1.000\n",
      "\n",
      "Subj/Visit 3,prec=0.000,rec=0.000,Spec=0.972,auroc_train=1.000,auroc=0.865\n",
      "\n",
      "Subj/Visit 4,prec=0.000,rec=0.000,Spec=0.995,auroc_train=1.000,auroc=0.978\n",
      "\n",
      "Subj/Visit 5,prec=1.000,rec=0.500,Spec=1.000,auroc_train=1.000,auroc=1.000\n",
      "\n",
      "Subj/Visit 6,prec=1.000,rec=0.100,Spec=1.000,auroc_train=1.000,auroc=0.687\n",
      "f1_test=0.378+/-0.399, prec=0.571+/-0.495, rec=0.324+/-0.372, auprc=0.572+/-0.387, auroc=0.858+/-0.188\n",
      "Subject 1020\n",
      "Subject 1024\n",
      "Training Random Forest\n",
      "\n",
      "Subj/Visit 0,prec=1.000,rec=0.029,Spec=1.000,auroc_train=1.000,auroc=0.856\n",
      "\n",
      "Subj/Visit 1,prec=0.286,rec=0.200,Spec=0.951,auroc_train=1.000,auroc=0.712\n",
      "\n",
      "Subj/Visit 2,prec=0.067,rec=0.167,Spec=0.883,auroc_train=1.000,auroc=0.778\n",
      "\n",
      "Subj/Visit 3,prec=0.889,rec=0.114,Spec=0.980,auroc_train=1.000,auroc=0.705\n",
      "\n",
      "Subj/Visit 4,prec=0.222,rec=0.154,Spec=0.930,auroc_train=1.000,auroc=0.747\n",
      "only 1 class in test data - cannot compute roc curve\n",
      "\n",
      "Subj/Visit 5,prec=0.000,rec=0.000,Spec=0.971,auroc_train=1.000,auroc=nan\n"
     ]
    },
    {
     "name": "stderr",
     "output_type": "stream",
     "text": [
      "C:\\Users\\nshawen\\AppData\\Local\\Continuum\\anaconda3\\lib\\site-packages\\sklearn\\metrics\\classification.py:1137: UndefinedMetricWarning: F-score is ill-defined and being set to 0.0 due to no true samples.\n",
      "  'recall', 'true', average, warn_for)\n",
      "C:\\Users\\nshawen\\AppData\\Local\\Continuum\\anaconda3\\lib\\site-packages\\sklearn\\metrics\\ranking.py:444: RuntimeWarning: invalid value encountered in true_divide\n",
      "  recall = tps / tps[-1]\n",
      "C:\\Users\\nshawen\\AppData\\Local\\Continuum\\anaconda3\\lib\\site-packages\\sklearn\\metrics\\ranking.py:94: RuntimeWarning: invalid value encountered in less\n",
      "  if np.any(dx < 0):\n",
      "C:\\Users\\nshawen\\AppData\\Local\\Continuum\\anaconda3\\lib\\site-packages\\sklearn\\metrics\\classification.py:1137: UndefinedMetricWarning: Recall is ill-defined and being set to 0.0 due to no true samples.\n",
      "  'recall', 'true', average, warn_for)\n"
     ]
    },
    {
     "name": "stdout",
     "output_type": "stream",
     "text": [
      "\n",
      "Subj/Visit 6,prec=0.500,rec=0.125,Spec=0.970,auroc_train=1.000,auroc=0.777\n",
      "f1_test=0.139+/-0.082, prec=0.423+/-0.363, rec=0.113+/-0.068, auprc=0.403+/-0.288, auroc=0.762+/-0.051\n",
      "Subject 1029\n",
      "Training Random Forest\n",
      "\n",
      "Subj/Visit 0,prec=0.967,rec=0.259,Spec=0.981,auroc_train=1.000,auroc=0.860\n",
      "\n",
      "Subj/Visit 1,prec=0.350,rec=0.824,Spec=0.813,auroc_train=1.000,auroc=0.849\n",
      "\n",
      "Subj/Visit 2,prec=0.101,rec=0.714,Spec=0.514,auroc_train=1.000,auroc=0.622\n",
      "\n",
      "Subj/Visit 3,prec=0.850,rec=0.224,Spec=0.961,auroc_train=1.000,auroc=0.720\n",
      "\n",
      "Subj/Visit 4,prec=0.606,rec=0.588,Spec=0.904,auroc_train=1.000,auroc=0.889\n",
      "\n",
      "Subj/Visit 5,prec=0.536,rec=0.455,Spec=0.888,auroc_train=1.000,auroc=0.786\n",
      "\n",
      "Subj/Visit 6,prec=0.625,rec=0.172,Spec=0.912,auroc_train=1.000,auroc=0.670\n",
      "f1_test=0.399+/-0.133, prec=0.576+/-0.270, rec=0.462+/-0.237, auprc=0.585+/-0.227, auroc=0.771+/-0.095\n",
      "Subject 1030\n",
      "Training Random Forest\n",
      "\n",
      "Subj/Visit 0,prec=1.000,rec=0.800,Spec=1.000,auroc_train=1.000,auroc=0.995\n",
      "\n",
      "Subj/Visit 1,prec=0.000,rec=0.000,Spec=1.000,auroc_train=1.000,auroc=0.807\n"
     ]
    },
    {
     "name": "stderr",
     "output_type": "stream",
     "text": [
      "C:\\Users\\nshawen\\AppData\\Local\\Continuum\\anaconda3\\lib\\site-packages\\sklearn\\metrics\\classification.py:1135: UndefinedMetricWarning: F-score is ill-defined and being set to 0.0 due to no predicted samples.\n",
      "  'precision', 'predicted', average, warn_for)\n",
      "C:\\Users\\nshawen\\AppData\\Local\\Continuum\\anaconda3\\lib\\site-packages\\sklearn\\metrics\\classification.py:1135: UndefinedMetricWarning: Precision is ill-defined and being set to 0.0 due to no predicted samples.\n",
      "  'precision', 'predicted', average, warn_for)\n"
     ]
    },
    {
     "name": "stdout",
     "output_type": "stream",
     "text": [
      "\n",
      "Subj/Visit 2,prec=1.000,rec=0.167,Spec=1.000,auroc_train=1.000,auroc=1.000\n",
      "\n",
      "Subj/Visit 3,prec=1.000,rec=1.000,Spec=1.000,auroc_train=1.000,auroc=1.000\n",
      "\n",
      "Subj/Visit 4,prec=1.000,rec=0.300,Spec=1.000,auroc_train=1.000,auroc=0.990\n",
      "\n",
      "Subj/Visit 5,prec=1.000,rec=1.000,Spec=1.000,auroc_train=1.000,auroc=1.000\n",
      "\n",
      "Subj/Visit 6,prec=0.600,rec=1.000,Spec=0.968,auroc_train=1.000,auroc=0.985\n",
      "f1_test=0.627+/-0.358, prec=0.800+/-0.355, rec=0.610+/-0.407, auprc=0.875+/-0.176, auroc=0.968+/-0.066\n",
      "Subject 1032\n",
      "Training Random Forest\n",
      "\n",
      "Subj/Visit 0,prec=0.500,rec=0.250,Spec=0.988,auroc_train=1.000,auroc=0.831\n",
      "\n",
      "Subj/Visit 1,prec=1.000,rec=0.500,Spec=1.000,auroc_train=1.000,auroc=0.875\n",
      "\n",
      "Subj/Visit 2,prec=1.000,rec=1.000,Spec=1.000,auroc_train=1.000,auroc=1.000\n",
      "\n",
      "Subj/Visit 3,prec=1.000,rec=0.214,Spec=1.000,auroc_train=1.000,auroc=0.525\n",
      "\n",
      "Subj/Visit 4,prec=0.286,rec=1.000,Spec=0.970,auroc_train=1.000,auroc=0.999\n",
      "\n",
      "Subj/Visit 5,prec=1.000,rec=1.000,Spec=1.000,auroc_train=1.000,auroc=1.000\n",
      "\n",
      "Subj/Visit 6,prec=0.000,rec=0.000,Spec=0.996,auroc_train=1.000,auroc=0.976\n",
      "f1_test=0.542+/-0.342, prec=0.684+/-0.389, rec=0.566+/-0.399, auprc=0.610+/-0.370, auroc=0.886+/-0.161\n",
      "Subject 1038\n",
      "Training Random Forest\n",
      "\n",
      "Subj/Visit 0,prec=0.788,rec=0.743,Spec=0.800,auroc_train=1.000,auroc=0.884\n",
      "\n",
      "Subj/Visit 1,prec=0.522,rec=0.745,Spec=0.673,auroc_train=1.000,auroc=0.732\n",
      "\n",
      "Subj/Visit 2,prec=0.561,rec=0.711,Spec=0.679,auroc_train=1.000,auroc=0.806\n",
      "\n",
      "Subj/Visit 3,prec=0.941,rec=0.667,Spec=0.953,auroc_train=1.000,auroc=0.864\n",
      "\n",
      "Subj/Visit 4,prec=0.920,rec=0.590,Spec=0.966,auroc_train=1.000,auroc=0.940\n",
      "\n",
      "Subj/Visit 5,prec=0.735,rec=0.783,Spec=0.838,auroc_train=1.000,auroc=0.881\n",
      "\n",
      "Subj/Visit 6,prec=0.882,rec=0.577,Spec=0.947,auroc_train=1.000,auroc=0.845\n",
      "f1_test=0.709+/-0.062, prec=0.764+/-0.156, rec=0.688+/-0.074, auprc=0.792+/-0.119, auroc=0.850+/-0.061\n",
      "Subject 1044\n",
      "Training Random Forest\n",
      "\n",
      "Subj/Visit 0,prec=1.000,rec=0.600,Spec=1.000,auroc_train=1.000,auroc=1.000\n",
      "\n",
      "Subj/Visit 1,prec=1.000,rec=0.875,Spec=1.000,auroc_train=1.000,auroc=1.000\n",
      "\n",
      "Subj/Visit 2,prec=1.000,rec=1.000,Spec=1.000,auroc_train=1.000,auroc=1.000\n",
      "\n",
      "Subj/Visit 3,prec=1.000,rec=0.600,Spec=1.000,auroc_train=1.000,auroc=1.000\n",
      "\n",
      "Subj/Visit 4,prec=1.000,rec=0.625,Spec=1.000,auroc_train=1.000,auroc=1.000\n",
      "\n",
      "Subj/Visit 5,prec=1.000,rec=0.833,Spec=1.000,auroc_train=1.000,auroc=1.000\n",
      "\n",
      "Subj/Visit 6,prec=0.333,rec=0.750,Spec=0.939,auroc_train=1.000,auroc=0.944\n",
      "f1_test=0.796+/-0.165, prec=0.905+/-0.233, rec=0.755+/-0.144, auprc=0.889+/-0.273, auroc=0.992+/-0.019\n",
      "Subject 1046\n",
      "Training Random Forest\n",
      "\n",
      "Subj/Visit 0,prec=0.571,rec=0.480,Spec=0.944,auroc_train=1.000,auroc=0.916\n",
      "\n",
      "Subj/Visit 1,prec=0.918,rec=0.918,Spec=0.975,auroc_train=1.000,auroc=0.994\n",
      "\n",
      "Subj/Visit 2,prec=0.763,rec=0.906,Spec=0.939,auroc_train=1.000,auroc=0.974\n",
      "\n",
      "Subj/Visit 3,prec=0.958,rec=0.719,Spec=0.993,auroc_train=1.000,auroc=0.958\n",
      "\n",
      "Subj/Visit 4,prec=0.961,rec=0.845,Spec=0.986,auroc_train=1.000,auroc=0.981\n",
      "\n",
      "Subj/Visit 5,prec=0.956,rec=0.705,Spec=0.987,auroc_train=1.000,auroc=0.965\n",
      "\n",
      "Subj/Visit 6,prec=1.000,rec=0.571,Spec=1.000,auroc_train=1.000,auroc=0.915\n",
      "f1_test=0.790+/-0.124, prec=0.875+/-0.143, rec=0.735+/-0.155, auprc=0.887+/-0.117, auroc=0.958+/-0.029\n",
      "Subject 1047\n",
      "Training Random Forest\n",
      "\n",
      "Subj/Visit 0,prec=0.000,rec=0.000,Spec=1.000,auroc_train=1.000,auroc=0.961\n"
     ]
    },
    {
     "name": "stderr",
     "output_type": "stream",
     "text": [
      "C:\\Users\\nshawen\\AppData\\Local\\Continuum\\anaconda3\\lib\\site-packages\\sklearn\\metrics\\classification.py:1135: UndefinedMetricWarning: F-score is ill-defined and being set to 0.0 due to no predicted samples.\n",
      "  'precision', 'predicted', average, warn_for)\n",
      "C:\\Users\\nshawen\\AppData\\Local\\Continuum\\anaconda3\\lib\\site-packages\\sklearn\\metrics\\classification.py:1135: UndefinedMetricWarning: Precision is ill-defined and being set to 0.0 due to no predicted samples.\n",
      "  'precision', 'predicted', average, warn_for)\n",
      "C:\\Users\\nshawen\\AppData\\Local\\Continuum\\anaconda3\\lib\\site-packages\\sklearn\\metrics\\ranking.py:444: RuntimeWarning: invalid value encountered in true_divide\n",
      "  recall = tps / tps[-1]\n",
      "C:\\Users\\nshawen\\AppData\\Local\\Continuum\\anaconda3\\lib\\site-packages\\sklearn\\metrics\\ranking.py:94: RuntimeWarning: invalid value encountered in less\n",
      "  if np.any(dx < 0):\n"
     ]
    },
    {
     "name": "stdout",
     "output_type": "stream",
     "text": [
      "only 1 class in test data - cannot compute roc curve\n",
      "\n",
      "Subj/Visit 1,prec=0.000,rec=0.000,Spec=1.000,auroc_train=1.000,auroc=nan\n",
      "only 1 class in test data - cannot compute roc curve\n",
      "\n",
      "Subj/Visit 2,prec=0.000,rec=0.000,Spec=1.000,auroc_train=1.000,auroc=nan\n"
     ]
    },
    {
     "name": "stderr",
     "output_type": "stream",
     "text": [
      "C:\\Users\\nshawen\\AppData\\Local\\Continuum\\anaconda3\\lib\\site-packages\\sklearn\\metrics\\ranking.py:444: RuntimeWarning: invalid value encountered in true_divide\n",
      "  recall = tps / tps[-1]\n",
      "C:\\Users\\nshawen\\AppData\\Local\\Continuum\\anaconda3\\lib\\site-packages\\sklearn\\metrics\\ranking.py:94: RuntimeWarning: invalid value encountered in less\n",
      "  if np.any(dx < 0):\n",
      "C:\\Users\\nshawen\\AppData\\Local\\Continuum\\anaconda3\\lib\\site-packages\\sklearn\\metrics\\classification.py:1135: UndefinedMetricWarning: F-score is ill-defined and being set to 0.0 due to no predicted samples.\n",
      "  'precision', 'predicted', average, warn_for)\n",
      "C:\\Users\\nshawen\\AppData\\Local\\Continuum\\anaconda3\\lib\\site-packages\\sklearn\\metrics\\classification.py:1135: UndefinedMetricWarning: Precision is ill-defined and being set to 0.0 due to no predicted samples.\n",
      "  'precision', 'predicted', average, warn_for)\n"
     ]
    },
    {
     "name": "stdout",
     "output_type": "stream",
     "text": [
      "\n",
      "Subj/Visit 3,prec=0.000,rec=0.000,Spec=1.000,auroc_train=1.000,auroc=0.983\n",
      "only 1 class in test data - cannot compute roc curve\n",
      "\n",
      "Subj/Visit 4,prec=0.000,rec=0.000,Spec=1.000,auroc_train=1.000,auroc=nan\n",
      "only 1 class in test data - cannot compute roc curve"
     ]
    },
    {
     "name": "stderr",
     "output_type": "stream",
     "text": [
      "C:\\Users\\nshawen\\AppData\\Local\\Continuum\\anaconda3\\lib\\site-packages\\sklearn\\metrics\\ranking.py:444: RuntimeWarning: invalid value encountered in true_divide\n",
      "  recall = tps / tps[-1]\n",
      "C:\\Users\\nshawen\\AppData\\Local\\Continuum\\anaconda3\\lib\\site-packages\\sklearn\\metrics\\ranking.py:94: RuntimeWarning: invalid value encountered in less\n",
      "  if np.any(dx < 0):\n",
      "C:\\Users\\nshawen\\AppData\\Local\\Continuum\\anaconda3\\lib\\site-packages\\sklearn\\metrics\\ranking.py:444: RuntimeWarning: invalid value encountered in true_divide\n",
      "  recall = tps / tps[-1]\n",
      "C:\\Users\\nshawen\\AppData\\Local\\Continuum\\anaconda3\\lib\\site-packages\\sklearn\\metrics\\ranking.py:94: RuntimeWarning: invalid value encountered in less\n",
      "  if np.any(dx < 0):\n"
     ]
    },
    {
     "name": "stdout",
     "output_type": "stream",
     "text": [
      "\n",
      "\n",
      "Subj/Visit 5,prec=0.000,rec=0.000,Spec=1.000,auroc_train=1.000,auroc=nan\n",
      "f1_test=0.000+/-0.000, prec=0.000+/-0.000, rec=0.000+/-0.000, auprc=0.428+/-0.365, auroc=0.972+/-0.011\n",
      "Subject 1049\n",
      "Training Random Forest\n",
      "\n",
      "Subj/Visit 0,prec=0.750,rec=0.682,Spec=0.825,auroc_train=1.000,auroc=0.844\n",
      "\n",
      "Subj/Visit 1,prec=1.000,rec=0.621,Spec=1.000,auroc_train=1.000,auroc=0.921\n",
      "\n",
      "Subj/Visit 2,prec=1.000,rec=0.582,Spec=1.000,auroc_train=1.000,auroc=0.948\n",
      "\n",
      "Subj/Visit 3,prec=0.483,rec=0.538,Spec=0.902,auroc_train=1.000,auroc=0.794\n",
      "\n",
      "Subj/Visit 4,prec=0.614,rec=0.844,Spec=0.890,auroc_train=1.000,auroc=0.936\n",
      "\n",
      "Subj/Visit 5,prec=0.704,rec=0.551,Spec=0.870,auroc_train=1.000,auroc=0.824\n",
      "\n",
      "Subj/Visit 6,prec=0.798,rec=0.615,Spec=0.800,auroc_train=1.000,auroc=0.804\n",
      "f1_test=0.678+/-0.081, prec=0.764+/-0.176, rec=0.633+/-0.097, auprc=0.795+/-0.161, auroc=0.867+/-0.061\n",
      "Subject 1051\n",
      "Training Random Forest\n",
      "only 1 class in test data - cannot compute roc curve\n",
      "\n",
      "Subj/Visit 0,prec=0.000,rec=0.000,Spec=1.000,auroc_train=1.000,auroc=nan\n"
     ]
    },
    {
     "name": "stderr",
     "output_type": "stream",
     "text": [
      "C:\\Users\\nshawen\\AppData\\Local\\Continuum\\anaconda3\\lib\\site-packages\\sklearn\\metrics\\ranking.py:444: RuntimeWarning: invalid value encountered in true_divide\n",
      "  recall = tps / tps[-1]\n",
      "C:\\Users\\nshawen\\AppData\\Local\\Continuum\\anaconda3\\lib\\site-packages\\sklearn\\metrics\\ranking.py:94: RuntimeWarning: invalid value encountered in less\n",
      "  if np.any(dx < 0):\n",
      "C:\\Users\\nshawen\\AppData\\Local\\Continuum\\anaconda3\\lib\\site-packages\\sklearn\\metrics\\ranking.py:444: RuntimeWarning: invalid value encountered in true_divide\n",
      "  recall = tps / tps[-1]\n",
      "C:\\Users\\nshawen\\AppData\\Local\\Continuum\\anaconda3\\lib\\site-packages\\sklearn\\metrics\\ranking.py:94: RuntimeWarning: invalid value encountered in less\n",
      "  if np.any(dx < 0):\n"
     ]
    },
    {
     "name": "stdout",
     "output_type": "stream",
     "text": [
      "only 1 class in test data - cannot compute roc curve\n",
      "\n",
      "Subj/Visit 1,prec=0.000,rec=0.000,Spec=1.000,auroc_train=1.000,auroc=nan\n",
      "only 1 class in test data - cannot compute roc curve\n",
      "\n",
      "Subj/Visit 2,prec=0.000,rec=0.000,Spec=1.000,auroc_train=1.000,auroc=nan\n"
     ]
    },
    {
     "name": "stderr",
     "output_type": "stream",
     "text": [
      "C:\\Users\\nshawen\\AppData\\Local\\Continuum\\anaconda3\\lib\\site-packages\\sklearn\\metrics\\ranking.py:444: RuntimeWarning: invalid value encountered in true_divide\n",
      "  recall = tps / tps[-1]\n",
      "C:\\Users\\nshawen\\AppData\\Local\\Continuum\\anaconda3\\lib\\site-packages\\sklearn\\metrics\\ranking.py:94: RuntimeWarning: invalid value encountered in less\n",
      "  if np.any(dx < 0):\n",
      "C:\\Users\\nshawen\\AppData\\Local\\Continuum\\anaconda3\\lib\\site-packages\\sklearn\\metrics\\ranking.py:444: RuntimeWarning: invalid value encountered in true_divide\n",
      "  recall = tps / tps[-1]\n",
      "C:\\Users\\nshawen\\AppData\\Local\\Continuum\\anaconda3\\lib\\site-packages\\sklearn\\metrics\\ranking.py:94: RuntimeWarning: invalid value encountered in less\n",
      "  if np.any(dx < 0):\n"
     ]
    },
    {
     "name": "stdout",
     "output_type": "stream",
     "text": [
      "only 1 class in test data - cannot compute roc curve\n",
      "\n",
      "Subj/Visit 3,prec=0.000,rec=0.000,Spec=1.000,auroc_train=1.000,auroc=nan\n",
      "only 1 class in test data - cannot compute roc curve\n",
      "\n",
      "Subj/Visit 4,prec=0.000,rec=0.000,Spec=1.000,auroc_train=1.000,auroc=nan\n"
     ]
    },
    {
     "name": "stderr",
     "output_type": "stream",
     "text": [
      "C:\\Users\\nshawen\\AppData\\Local\\Continuum\\anaconda3\\lib\\site-packages\\sklearn\\metrics\\ranking.py:444: RuntimeWarning: invalid value encountered in true_divide\n",
      "  recall = tps / tps[-1]\n",
      "C:\\Users\\nshawen\\AppData\\Local\\Continuum\\anaconda3\\lib\\site-packages\\sklearn\\metrics\\ranking.py:94: RuntimeWarning: invalid value encountered in less\n",
      "  if np.any(dx < 0):\n",
      "C:\\Users\\nshawen\\AppData\\Local\\Continuum\\anaconda3\\lib\\site-packages\\sklearn\\metrics\\ranking.py:444: RuntimeWarning: invalid value encountered in true_divide\n",
      "  recall = tps / tps[-1]\n",
      "C:\\Users\\nshawen\\AppData\\Local\\Continuum\\anaconda3\\lib\\site-packages\\sklearn\\metrics\\ranking.py:94: RuntimeWarning: invalid value encountered in less\n",
      "  if np.any(dx < 0):\n",
      "C:\\Users\\nshawen\\AppData\\Local\\Continuum\\anaconda3\\lib\\site-packages\\ipykernel_launcher.py:87: RuntimeWarning: Mean of empty slice\n",
      "C:\\Users\\nshawen\\AppData\\Local\\Continuum\\anaconda3\\lib\\site-packages\\numpy\\lib\\nanfunctions.py:1434: RuntimeWarning: Degrees of freedom <= 0 for slice.\n",
      "  keepdims=keepdims)\n",
      "C:\\Users\\nshawen\\AppData\\Local\\Continuum\\anaconda3\\lib\\site-packages\\ipykernel_launcher.py:94: RuntimeWarning: Mean of empty slice\n"
     ]
    },
    {
     "name": "stdout",
     "output_type": "stream",
     "text": [
      "only 1 class in test data - cannot compute roc curve\n",
      "\n",
      "Subj/Visit 5,prec=0.000,rec=0.000,Spec=1.000,auroc_train=1.000,auroc=nan\n",
      "only 1 class available in train data - skipping\n",
      "f1_test=0.000+/-0.000, prec=0.000+/-0.000, rec=0.000+/-0.000, auprc=nan+/-nan, auroc=nan+/-nan\n",
      "Subject 1052\n",
      "Training Random Forest\n",
      "\n",
      "Subj/Visit 0,prec=1.000,rec=0.014,Spec=1.000,auroc_train=1.000,auroc=0.671\n"
     ]
    },
    {
     "name": "stderr",
     "output_type": "stream",
     "text": [
      "C:\\Users\\nshawen\\AppData\\Local\\Continuum\\anaconda3\\lib\\site-packages\\sklearn\\metrics\\classification.py:1137: UndefinedMetricWarning: F-score is ill-defined and being set to 0.0 due to no true samples.\n",
      "  'recall', 'true', average, warn_for)\n",
      "C:\\Users\\nshawen\\AppData\\Local\\Continuum\\anaconda3\\lib\\site-packages\\sklearn\\metrics\\ranking.py:444: RuntimeWarning: invalid value encountered in true_divide\n",
      "  recall = tps / tps[-1]\n",
      "C:\\Users\\nshawen\\AppData\\Local\\Continuum\\anaconda3\\lib\\site-packages\\sklearn\\metrics\\ranking.py:94: RuntimeWarning: invalid value encountered in less\n",
      "  if np.any(dx < 0):\n",
      "C:\\Users\\nshawen\\AppData\\Local\\Continuum\\anaconda3\\lib\\site-packages\\sklearn\\metrics\\classification.py:1137: UndefinedMetricWarning: Recall is ill-defined and being set to 0.0 due to no true samples.\n",
      "  'recall', 'true', average, warn_for)\n"
     ]
    },
    {
     "name": "stdout",
     "output_type": "stream",
     "text": [
      "only 1 class in test data - cannot compute roc curve\n",
      "\n",
      "Subj/Visit 1,prec=0.000,rec=0.000,Spec=0.990,auroc_train=1.000,auroc=nan\n"
     ]
    },
    {
     "name": "stderr",
     "output_type": "stream",
     "text": [
      "C:\\Users\\nshawen\\AppData\\Local\\Continuum\\anaconda3\\lib\\site-packages\\sklearn\\metrics\\classification.py:1137: UndefinedMetricWarning: F-score is ill-defined and being set to 0.0 due to no true samples.\n",
      "  'recall', 'true', average, warn_for)\n",
      "C:\\Users\\nshawen\\AppData\\Local\\Continuum\\anaconda3\\lib\\site-packages\\sklearn\\metrics\\ranking.py:444: RuntimeWarning: invalid value encountered in true_divide\n",
      "  recall = tps / tps[-1]\n",
      "C:\\Users\\nshawen\\AppData\\Local\\Continuum\\anaconda3\\lib\\site-packages\\sklearn\\metrics\\ranking.py:94: RuntimeWarning: invalid value encountered in less\n",
      "  if np.any(dx < 0):\n",
      "C:\\Users\\nshawen\\AppData\\Local\\Continuum\\anaconda3\\lib\\site-packages\\sklearn\\metrics\\classification.py:1137: UndefinedMetricWarning: Recall is ill-defined and being set to 0.0 due to no true samples.\n",
      "  'recall', 'true', average, warn_for)\n",
      "C:\\Users\\nshawen\\AppData\\Local\\Continuum\\anaconda3\\lib\\site-packages\\sklearn\\metrics\\classification.py:1135: UndefinedMetricWarning: F-score is ill-defined and being set to 0.0 due to no predicted samples.\n",
      "  'precision', 'predicted', average, warn_for)\n"
     ]
    },
    {
     "name": "stdout",
     "output_type": "stream",
     "text": [
      "only 1 class in test data - cannot compute roc curve\n",
      "\n",
      "Subj/Visit 2,prec=0.000,rec=0.000,Spec=0.994,auroc_train=1.000,auroc=nan\n"
     ]
    },
    {
     "name": "stderr",
     "output_type": "stream",
     "text": [
      "C:\\Users\\nshawen\\AppData\\Local\\Continuum\\anaconda3\\lib\\site-packages\\sklearn\\metrics\\classification.py:1135: UndefinedMetricWarning: Precision is ill-defined and being set to 0.0 due to no predicted samples.\n",
      "  'precision', 'predicted', average, warn_for)\n"
     ]
    },
    {
     "name": "stdout",
     "output_type": "stream",
     "text": [
      "\n",
      "Subj/Visit 3,prec=0.000,rec=0.000,Spec=1.000,auroc_train=1.000,auroc=0.745\n"
     ]
    },
    {
     "name": "stderr",
     "output_type": "stream",
     "text": [
      "C:\\Users\\nshawen\\AppData\\Local\\Continuum\\anaconda3\\lib\\site-packages\\sklearn\\metrics\\ranking.py:444: RuntimeWarning: invalid value encountered in true_divide\n",
      "  recall = tps / tps[-1]\n",
      "C:\\Users\\nshawen\\AppData\\Local\\Continuum\\anaconda3\\lib\\site-packages\\sklearn\\metrics\\ranking.py:94: RuntimeWarning: invalid value encountered in less\n",
      "  if np.any(dx < 0):\n"
     ]
    },
    {
     "name": "stdout",
     "output_type": "stream",
     "text": [
      "only 1 class in test data - cannot compute roc curve\n",
      "\n",
      "Subj/Visit 4,prec=0.000,rec=0.000,Spec=1.000,auroc_train=1.000,auroc=nan\n"
     ]
    },
    {
     "name": "stderr",
     "output_type": "stream",
     "text": [
      "C:\\Users\\nshawen\\AppData\\Local\\Continuum\\anaconda3\\lib\\site-packages\\sklearn\\metrics\\ranking.py:444: RuntimeWarning: invalid value encountered in true_divide\n",
      "  recall = tps / tps[-1]\n",
      "C:\\Users\\nshawen\\AppData\\Local\\Continuum\\anaconda3\\lib\\site-packages\\sklearn\\metrics\\ranking.py:94: RuntimeWarning: invalid value encountered in less\n",
      "  if np.any(dx < 0):\n",
      "C:\\Users\\nshawen\\AppData\\Local\\Continuum\\anaconda3\\lib\\site-packages\\ipykernel_launcher.py:85: RuntimeWarning: Mean of empty slice\n",
      "C:\\Users\\nshawen\\AppData\\Local\\Continuum\\anaconda3\\lib\\site-packages\\numpy\\lib\\nanfunctions.py:1434: RuntimeWarning: Degrees of freedom <= 0 for slice.\n",
      "  keepdims=keepdims)\n",
      "C:\\Users\\nshawen\\AppData\\Local\\Continuum\\anaconda3\\lib\\site-packages\\ipykernel_launcher.py:86: RuntimeWarning: Mean of empty slice\n",
      "C:\\Users\\nshawen\\AppData\\Local\\Continuum\\anaconda3\\lib\\site-packages\\ipykernel_launcher.py:87: RuntimeWarning: Mean of empty slice\n",
      "C:\\Users\\nshawen\\AppData\\Local\\Continuum\\anaconda3\\lib\\site-packages\\ipykernel_launcher.py:94: RuntimeWarning: Mean of empty slice\n",
      "C:\\Users\\nshawen\\AppData\\Local\\Continuum\\anaconda3\\lib\\site-packages\\sklearn\\metrics\\ranking.py:444: RuntimeWarning: invalid value encountered in true_divide\n",
      "  recall = tps / tps[-1]\n",
      "C:\\Users\\nshawen\\AppData\\Local\\Continuum\\anaconda3\\lib\\site-packages\\sklearn\\metrics\\ranking.py:94: RuntimeWarning: invalid value encountered in less\n",
      "  if np.any(dx < 0):\n"
     ]
    },
    {
     "name": "stdout",
     "output_type": "stream",
     "text": [
      "only 1 class in test data - cannot compute roc curve\n",
      "\n",
      "Subj/Visit 5,prec=0.000,rec=0.000,Spec=1.000,auroc_train=1.000,auroc=nan\n",
      "f1_test=0.005+/-0.010, prec=0.167+/-0.373, rec=0.002+/-0.005, auprc=0.361+/-0.097, auroc=0.708+/-0.037\n",
      "Subject 1053\n",
      "Training Random Forest\n",
      "only 1 class available in train data - skipping\n",
      "only 1 class available in train data - skipping\n",
      "only 1 class available in train data - skipping\n",
      "only 1 class available in train data - skipping\n",
      "only 1 class available in train data - skipping\n",
      "only 1 class available in train data - skipping\n",
      "f1_test=nan+/-nan, prec=nan+/-nan, rec=nan+/-nan, auprc=nan+/-nan, auroc=nan+/-nan\n",
      "Subject 1054\n",
      "Training Random Forest\n",
      "only 1 class available in train data - skipping\n",
      "only 1 class in test data - cannot compute roc curve\n",
      "\n",
      "Subj/Visit 0,prec=0.000,rec=0.000,Spec=1.000,auroc_train=1.000,auroc=nan\n"
     ]
    },
    {
     "name": "stderr",
     "output_type": "stream",
     "text": [
      "C:\\Users\\nshawen\\AppData\\Local\\Continuum\\anaconda3\\lib\\site-packages\\sklearn\\metrics\\ranking.py:444: RuntimeWarning: invalid value encountered in true_divide\n",
      "  recall = tps / tps[-1]\n",
      "C:\\Users\\nshawen\\AppData\\Local\\Continuum\\anaconda3\\lib\\site-packages\\sklearn\\metrics\\ranking.py:94: RuntimeWarning: invalid value encountered in less\n",
      "  if np.any(dx < 0):\n",
      "C:\\Users\\nshawen\\AppData\\Local\\Continuum\\anaconda3\\lib\\site-packages\\sklearn\\metrics\\ranking.py:444: RuntimeWarning: invalid value encountered in true_divide\n",
      "  recall = tps / tps[-1]\n",
      "C:\\Users\\nshawen\\AppData\\Local\\Continuum\\anaconda3\\lib\\site-packages\\sklearn\\metrics\\ranking.py:94: RuntimeWarning: invalid value encountered in less\n",
      "  if np.any(dx < 0):\n"
     ]
    },
    {
     "name": "stdout",
     "output_type": "stream",
     "text": [
      "only 1 class in test data - cannot compute roc curve\n",
      "\n",
      "Subj/Visit 1,prec=0.000,rec=0.000,Spec=1.000,auroc_train=1.000,auroc=nan\n",
      "only 1 class in test data - cannot compute roc curve\n",
      "\n",
      "Subj/Visit 2,prec=0.000,rec=0.000,Spec=1.000,auroc_train=1.000,auroc=nan\n"
     ]
    },
    {
     "name": "stderr",
     "output_type": "stream",
     "text": [
      "C:\\Users\\nshawen\\AppData\\Local\\Continuum\\anaconda3\\lib\\site-packages\\sklearn\\metrics\\ranking.py:444: RuntimeWarning: invalid value encountered in true_divide\n",
      "  recall = tps / tps[-1]\n",
      "C:\\Users\\nshawen\\AppData\\Local\\Continuum\\anaconda3\\lib\\site-packages\\sklearn\\metrics\\ranking.py:94: RuntimeWarning: invalid value encountered in less\n",
      "  if np.any(dx < 0):\n",
      "C:\\Users\\nshawen\\AppData\\Local\\Continuum\\anaconda3\\lib\\site-packages\\sklearn\\metrics\\ranking.py:444: RuntimeWarning: invalid value encountered in true_divide\n",
      "  recall = tps / tps[-1]\n",
      "C:\\Users\\nshawen\\AppData\\Local\\Continuum\\anaconda3\\lib\\site-packages\\sklearn\\metrics\\ranking.py:94: RuntimeWarning: invalid value encountered in less\n",
      "  if np.any(dx < 0):\n",
      "C:\\Users\\nshawen\\AppData\\Local\\Continuum\\anaconda3\\lib\\site-packages\\ipykernel_launcher.py:87: RuntimeWarning: Mean of empty slice\n",
      "C:\\Users\\nshawen\\AppData\\Local\\Continuum\\anaconda3\\lib\\site-packages\\numpy\\lib\\nanfunctions.py:1434: RuntimeWarning: Degrees of freedom <= 0 for slice.\n",
      "  keepdims=keepdims)\n",
      "C:\\Users\\nshawen\\AppData\\Local\\Continuum\\anaconda3\\lib\\site-packages\\ipykernel_launcher.py:94: RuntimeWarning: Mean of empty slice\n"
     ]
    },
    {
     "name": "stdout",
     "output_type": "stream",
     "text": [
      "only 1 class in test data - cannot compute roc curve\n",
      "\n",
      "Subj/Visit 3,prec=0.000,rec=0.000,Spec=1.000,auroc_train=1.000,auroc=nan\n",
      "only 1 class in test data - cannot compute roc curve\n",
      "\n",
      "Subj/Visit 4,prec=0.000,rec=0.000,Spec=1.000,auroc_train=1.000,auroc=nan\n",
      "f1_test=0.000+/-0.000, prec=0.000+/-0.000, rec=0.000+/-0.000, auprc=nan+/-nan, auroc=nan+/-nan\n",
      "Subject 1055\n",
      "Training Random Forest\n",
      "\n",
      "Subj/Visit 0,prec=0.937,rec=0.990,Spec=0.125,auroc_train=1.000,auroc=0.772\n",
      "\n",
      "Subj/Visit 1,prec=0.695,rec=0.924,Spec=0.135,auroc_train=1.000,auroc=0.525\n",
      "\n",
      "Subj/Visit 2,prec=0.543,rec=0.921,Spec=0.048,auroc_train=1.000,auroc=0.606\n",
      "\n",
      "Subj/Visit 3,prec=0.908,rec=0.927,Spec=0.250,auroc_train=1.000,auroc=0.818\n",
      "\n",
      "Subj/Visit 4,prec=0.795,rec=0.986,Spec=0.217,auroc_train=1.000,auroc=0.826\n",
      "\n",
      "Subj/Visit 5,prec=0.978,rec=0.830,Spec=0.000,auroc_train=1.000,auroc=0.767\n",
      "f1_test=0.856+/-0.093, prec=0.809+/-0.152, rec=0.930+/-0.053, auprc=0.884+/-0.125, auroc=0.719+/-0.113\n",
      "Subject 1056\n",
      "Training Random Forest\n",
      "\n",
      "Subj/Visit 0,prec=0.915,rec=0.866,Spec=0.250,auroc_train=1.000,auroc=0.672\n",
      "\n",
      "Subj/Visit 1,prec=0.303,rec=1.000,Spec=0.013,auroc_train=1.000,auroc=0.630\n",
      "\n",
      "Subj/Visit 2,prec=0.344,rec=0.786,Spec=0.192,auroc_train=1.000,auroc=0.558\n",
      "\n",
      "Subj/Visit 3,prec=0.983,rec=0.991,Spec=0.000,auroc_train=1.000,auroc=0.959\n",
      "only 1 class in test data - cannot compute roc curve\n",
      "\n",
      "Subj/Visit 4,prec=1.000,rec=0.985,Spec=nan,auroc_train=1.000,auroc=nan\n"
     ]
    },
    {
     "name": "stderr",
     "output_type": "stream",
     "text": [
      "C:\\Users\\nshawen\\AppData\\Local\\Continuum\\anaconda3\\lib\\site-packages\\ipykernel_launcher.py:51: RuntimeWarning: invalid value encountered in long_scalars\n"
     ]
    },
    {
     "name": "stdout",
     "output_type": "stream",
     "text": [
      "\n",
      "Subj/Visit 5,prec=0.903,rec=0.911,Spec=0.000,auroc_train=1.000,auroc=0.497\n",
      "f1_test=0.786+/-0.226, prec=0.741+/-0.298, rec=0.923+/-0.078, auprc=0.803+/-0.240, auroc=0.663+/-0.160\n"
     ]
    }
   ],
   "source": [
    "#LOVO Accelerometer Tremor\n",
    "\n",
    "symptom = 'Tremor'\n",
    "le = LabelEncoder()\n",
    "res_all = pd.DataFrame(data=None,index=None)\n",
    "#train on all sessions, predict on left out session for each patient\n",
    "res_visit_all = [] #data from each subject \n",
    "\n",
    "#remove nan rows for current symptom\n",
    "Data = Datafull.copy() #original unmodified dataframe\n",
    "Data=Data[~Data[symptom].isnull()]\n",
    "Data=Data.reset_index(drop=True) #reset index\n",
    "\n",
    "for s in Data.Subject.unique():\n",
    "    print('Subject %s'%s)\n",
    "    ds = Data.loc[Data.Subject==s]\n",
    "    indp = (ds[symptom]>0).values\n",
    "    y = indp.astype(int) #target \n",
    "    X = ds.iloc[:,94:]\n",
    "    X_std = StandardScaler().fit_transform(X) #standardize input data\n",
    "    models = [RandomForestClassifier(n_estimators=50,random_state=2)]#,XGBClassifier()]\n",
    "    model_name = ['Random Forest']#,'XGB']\n",
    "    models = list(zip(models,model_name))\n",
    "    groups = le.fit_transform(ds.Visit)\n",
    "    if len(np.unique(groups))<2:\n",
    "        continue\n",
    "    res,res_group = LOSOCV(ds,X_std,y,groups,models)\n",
    "    res.index = res.index+s\n",
    "    res_all=pd.concat((res_all,res))\n",
    "    res_visit_all.append(res_group)"
   ]
  },
  {
   "cell_type": "code",
   "execution_count": 26,
   "metadata": {},
   "outputs": [
    {
     "name": "stderr",
     "output_type": "stream",
     "text": [
      "C:\\Users\\nshawen\\AppData\\Local\\Continuum\\anaconda3\\lib\\site-packages\\ipykernel_launcher.py:15: RuntimeWarning: Mean of empty slice\n",
      "  from ipykernel import kernelapp as app\n",
      "C:\\Users\\nshawen\\AppData\\Local\\Continuum\\anaconda3\\lib\\site-packages\\numpy\\lib\\nanfunctions.py:1434: RuntimeWarning: Degrees of freedom <= 0 for slice.\n",
      "  keepdims=keepdims)\n"
     ]
    },
    {
     "data": {
      "image/png": "[encoded data removed]",
      "text/plain": [
       "<matplotlib.figure.Figure at 0x1774a898>"
      ]
     },
     "metadata": {},
     "output_type": "display_data"
    }
   ],
   "source": [
    "results = res_all.auroc.values\n",
    "np.save('Results/resultsTremorLOVOAccel.npy',results)\n",
    "\n",
    "#compute mean and std auc\n",
    "subjs=Data.Subject.unique()\n",
    "auc_mean = []; auc_std = []\n",
    "aucdf = pd.DataFrame()\n",
    "for i in range(len(res_visit_all)):\n",
    "\n",
    "    if len(res_visit_all[i]['Random Forest']['auroc']) < 7:\n",
    "        L = len(res_visit_all[i]['Random Forest']['auroc'])\n",
    "        res_visit_all[i]['Random Forest']['auroc'] += (list(np.nan*np.ones(7-L)))\n",
    "    aucdf[subjs[i]] = res_visit_all[i]['Random Forest']['auroc']   \n",
    "    tremor_auc = res_visit_all[i]['Random Forest']['auroc']\n",
    "    auc_mean.append(np.nanmean(tremor_auc)) #mean across visits\n",
    "    auc_std.append(np.nanstd(tremor_auc))\n",
    "    \n",
    "sns.barplot(data=aucdf)\n",
    "ax=plt.xticks(rotation=90)\n",
    "plt.title('LOVO Accel - Mean AUROC = %.3f +/- %.3f'%(np.nanmean(res_all.auroc),np.nanstd(res_all.auroc)))\n",
    "plt.ylim([0.5,1.1])\n",
    "\n",
    "plt.savefig('Results/resultsTremorLOVOAccel.png',format='png',dpi=1000)"
   ]
  },
  {
   "cell_type": "code",
   "execution_count": 27,
   "metadata": {},
   "outputs": [
    {
     "name": "stdout",
     "output_type": "stream",
     "text": [
      "Subject 1004\n",
      "Training Random Forest\n"
     ]
    },
    {
     "name": "stderr",
     "output_type": "stream",
     "text": [
      "C:\\Users\\nshawen\\AppData\\Local\\Continuum\\anaconda3\\lib\\site-packages\\sklearn\\metrics\\classification.py:1135: UndefinedMetricWarning: F-score is ill-defined and being set to 0.0 due to no predicted samples.\n",
      "  'precision', 'predicted', average, warn_for)\n",
      "C:\\Users\\nshawen\\AppData\\Local\\Continuum\\anaconda3\\lib\\site-packages\\sklearn\\metrics\\classification.py:1135: UndefinedMetricWarning: Precision is ill-defined and being set to 0.0 due to no predicted samples.\n",
      "  'precision', 'predicted', average, warn_for)\n"
     ]
    },
    {
     "name": "stdout",
     "output_type": "stream",
     "text": [
      "\n",
      "Subj/Visit 0,prec=0.000,rec=0.000,Spec=1.000,auroc_train=1.000,auroc=0.684\n"
     ]
    },
    {
     "name": "stderr",
     "output_type": "stream",
     "text": [
      "C:\\Users\\nshawen\\AppData\\Local\\Continuum\\anaconda3\\lib\\site-packages\\sklearn\\metrics\\ranking.py:444: RuntimeWarning: invalid value encountered in true_divide\n",
      "  recall = tps / tps[-1]\n",
      "C:\\Users\\nshawen\\AppData\\Local\\Continuum\\anaconda3\\lib\\site-packages\\sklearn\\metrics\\ranking.py:94: RuntimeWarning: invalid value encountered in less\n",
      "  if np.any(dx < 0):\n"
     ]
    },
    {
     "name": "stdout",
     "output_type": "stream",
     "text": [
      "only 1 class in test data - cannot compute roc curve\n",
      "\n",
      "Subj/Visit 1,prec=0.000,rec=0.000,Spec=1.000,auroc_train=1.000,auroc=nan\n"
     ]
    },
    {
     "name": "stderr",
     "output_type": "stream",
     "text": [
      "C:\\Users\\nshawen\\AppData\\Local\\Continuum\\anaconda3\\lib\\site-packages\\sklearn\\metrics\\ranking.py:444: RuntimeWarning: invalid value encountered in true_divide\n",
      "  recall = tps / tps[-1]\n",
      "C:\\Users\\nshawen\\AppData\\Local\\Continuum\\anaconda3\\lib\\site-packages\\sklearn\\metrics\\ranking.py:94: RuntimeWarning: invalid value encountered in less\n",
      "  if np.any(dx < 0):\n"
     ]
    },
    {
     "name": "stdout",
     "output_type": "stream",
     "text": [
      "only 1 class in test data - cannot compute roc curve\n",
      "\n",
      "Subj/Visit 2,prec=0.000,rec=0.000,Spec=1.000,auroc_train=1.000,auroc=nan\n"
     ]
    },
    {
     "name": "stderr",
     "output_type": "stream",
     "text": [
      "C:\\Users\\nshawen\\AppData\\Local\\Continuum\\anaconda3\\lib\\site-packages\\sklearn\\metrics\\classification.py:1135: UndefinedMetricWarning: F-score is ill-defined and being set to 0.0 due to no predicted samples.\n",
      "  'precision', 'predicted', average, warn_for)\n",
      "C:\\Users\\nshawen\\AppData\\Local\\Continuum\\anaconda3\\lib\\site-packages\\sklearn\\metrics\\classification.py:1135: UndefinedMetricWarning: Precision is ill-defined and being set to 0.0 due to no predicted samples.\n",
      "  'precision', 'predicted', average, warn_for)\n"
     ]
    },
    {
     "name": "stdout",
     "output_type": "stream",
     "text": [
      "\n",
      "Subj/Visit 3,prec=0.000,rec=0.000,Spec=1.000,auroc_train=1.000,auroc=0.850\n"
     ]
    },
    {
     "name": "stderr",
     "output_type": "stream",
     "text": [
      "C:\\Users\\nshawen\\AppData\\Local\\Continuum\\anaconda3\\lib\\site-packages\\sklearn\\metrics\\ranking.py:444: RuntimeWarning: invalid value encountered in true_divide\n",
      "  recall = tps / tps[-1]\n",
      "C:\\Users\\nshawen\\AppData\\Local\\Continuum\\anaconda3\\lib\\site-packages\\sklearn\\metrics\\ranking.py:94: RuntimeWarning: invalid value encountered in less\n",
      "  if np.any(dx < 0):\n"
     ]
    },
    {
     "name": "stdout",
     "output_type": "stream",
     "text": [
      "only 1 class in test data - cannot compute roc curve\n",
      "\n",
      "Subj/Visit 4,prec=0.000,rec=0.000,Spec=1.000,auroc_train=1.000,auroc=nan\n"
     ]
    },
    {
     "name": "stderr",
     "output_type": "stream",
     "text": [
      "C:\\Users\\nshawen\\AppData\\Local\\Continuum\\anaconda3\\lib\\site-packages\\sklearn\\metrics\\ranking.py:444: RuntimeWarning: invalid value encountered in true_divide\n",
      "  recall = tps / tps[-1]\n",
      "C:\\Users\\nshawen\\AppData\\Local\\Continuum\\anaconda3\\lib\\site-packages\\sklearn\\metrics\\ranking.py:94: RuntimeWarning: invalid value encountered in less\n",
      "  if np.any(dx < 0):\n"
     ]
    },
    {
     "name": "stdout",
     "output_type": "stream",
     "text": [
      "only 1 class in test data - cannot compute roc curve\n",
      "\n",
      "Subj/Visit 5,prec=0.000,rec=0.000,Spec=1.000,auroc_train=1.000,auroc=nan\n",
      "\n",
      "Subj/Visit 6,prec=0.000,rec=0.000,Spec=0.972,auroc_train=1.000,auroc=0.713\n",
      "f1_test=0.000+/-0.000, prec=0.000+/-0.000, rec=0.000+/-0.000, auprc=0.431+/-0.301, auroc=0.749+/-0.072\n",
      "Subject 1016\n",
      "Training Random Forest\n",
      "\n",
      "Subj/Visit 0,prec=0.802,rec=0.762,Spec=0.815,auroc_train=1.000,auroc=0.865\n",
      "\n",
      "Subj/Visit 1,prec=0.912,rec=0.820,Spec=0.893,auroc_train=1.000,auroc=0.936\n",
      "\n",
      "Subj/Visit 2,prec=0.900,rec=0.800,Spec=0.907,auroc_train=1.000,auroc=0.918\n",
      "\n",
      "Subj/Visit 3,prec=0.903,rec=0.783,Spec=0.900,auroc_train=1.000,auroc=0.934\n",
      "\n",
      "Subj/Visit 4,prec=0.899,rec=0.892,Spec=0.873,auroc_train=1.000,auroc=0.947\n",
      "\n",
      "Subj/Visit 5,prec=0.929,rec=0.755,Spec=0.917,auroc_train=1.000,auroc=0.904\n"
     ]
    },
    {
     "name": "stderr",
     "output_type": "stream",
     "text": [
      "C:\\Users\\nshawen\\AppData\\Local\\Continuum\\anaconda3\\lib\\site-packages\\sklearn\\metrics\\classification.py:1137: UndefinedMetricWarning: F-score is ill-defined and being set to 0.0 due to no true samples.\n",
      "  'recall', 'true', average, warn_for)\n",
      "C:\\Users\\nshawen\\AppData\\Local\\Continuum\\anaconda3\\lib\\site-packages\\sklearn\\metrics\\ranking.py:444: RuntimeWarning: invalid value encountered in true_divide\n",
      "  recall = tps / tps[-1]\n",
      "C:\\Users\\nshawen\\AppData\\Local\\Continuum\\anaconda3\\lib\\site-packages\\sklearn\\metrics\\ranking.py:94: RuntimeWarning: invalid value encountered in less\n",
      "  if np.any(dx < 0):\n",
      "C:\\Users\\nshawen\\AppData\\Local\\Continuum\\anaconda3\\lib\\site-packages\\sklearn\\metrics\\classification.py:1137: UndefinedMetricWarning: Recall is ill-defined and being set to 0.0 due to no true samples.\n",
      "  'recall', 'true', average, warn_for)\n"
     ]
    },
    {
     "name": "stdout",
     "output_type": "stream",
     "text": [
      "only 1 class in test data - cannot compute roc curve\n",
      "\n",
      "Subj/Visit 6,prec=0.000,rec=0.000,Spec=0.496,auroc_train=1.000,auroc=nan\n",
      "f1_test=0.723+/-0.297, prec=0.763+/-0.314, rec=0.688+/-0.284, auprc=0.920+/-0.031, auroc=0.917+/-0.027\n",
      "Subject 1018\n",
      "Training Random Forest\n"
     ]
    },
    {
     "name": "stderr",
     "output_type": "stream",
     "text": [
      "C:\\Users\\nshawen\\AppData\\Local\\Continuum\\anaconda3\\lib\\site-packages\\sklearn\\metrics\\classification.py:1135: UndefinedMetricWarning: F-score is ill-defined and being set to 0.0 due to no predicted samples.\n",
      "  'precision', 'predicted', average, warn_for)\n",
      "C:\\Users\\nshawen\\AppData\\Local\\Continuum\\anaconda3\\lib\\site-packages\\sklearn\\metrics\\classification.py:1135: UndefinedMetricWarning: Precision is ill-defined and being set to 0.0 due to no predicted samples.\n",
      "  'precision', 'predicted', average, warn_for)\n"
     ]
    },
    {
     "name": "stdout",
     "output_type": "stream",
     "text": [
      "\n",
      "Subj/Visit 0,prec=0.000,rec=0.000,Spec=1.000,auroc_train=1.000,auroc=0.860\n",
      "\n",
      "Subj/Visit 1,prec=1.000,rec=1.000,Spec=1.000,auroc_train=1.000,auroc=1.000\n",
      "\n",
      "Subj/Visit 2,prec=1.000,rec=0.429,Spec=1.000,auroc_train=1.000,auroc=0.999\n",
      "\n",
      "Subj/Visit 3,prec=1.000,rec=0.312,Spec=1.000,auroc_train=1.000,auroc=0.878\n",
      "\n",
      "Subj/Visit 4,prec=1.000,rec=0.250,Spec=1.000,auroc_train=1.000,auroc=0.719\n",
      "\n",
      "Subj/Visit 5,prec=1.000,rec=1.000,Spec=1.000,auroc_train=1.000,auroc=1.000\n",
      "\n",
      "Subj/Visit 6,prec=1.000,rec=0.556,Spec=1.000,auroc_train=1.000,auroc=1.000\n",
      "f1_test=0.599+/-0.327, prec=0.857+/-0.350, rec=0.507+/-0.350, auprc=0.793+/-0.245, auroc=0.922+/-0.101\n",
      "Subject 1019\n",
      "Training Random Forest\n"
     ]
    },
    {
     "name": "stderr",
     "output_type": "stream",
     "text": [
      "C:\\Users\\nshawen\\AppData\\Local\\Continuum\\anaconda3\\lib\\site-packages\\sklearn\\metrics\\classification.py:1135: UndefinedMetricWarning: F-score is ill-defined and being set to 0.0 due to no predicted samples.\n",
      "  'precision', 'predicted', average, warn_for)\n",
      "C:\\Users\\nshawen\\AppData\\Local\\Continuum\\anaconda3\\lib\\site-packages\\sklearn\\metrics\\classification.py:1135: UndefinedMetricWarning: Precision is ill-defined and being set to 0.0 due to no predicted samples.\n",
      "  'precision', 'predicted', average, warn_for)\n"
     ]
    },
    {
     "name": "stdout",
     "output_type": "stream",
     "text": [
      "\n",
      "Subj/Visit 0,prec=0.000,rec=0.000,Spec=1.000,auroc_train=1.000,auroc=0.549\n",
      "\n",
      "Subj/Visit 1,prec=1.000,rec=1.000,Spec=1.000,auroc_train=1.000,auroc=1.000\n",
      "\n",
      "Subj/Visit 2,prec=0.500,rec=1.000,Spec=0.994,auroc_train=1.000,auroc=0.994\n",
      "\n",
      "Subj/Visit 3,prec=0.000,rec=0.000,Spec=0.977,auroc_train=1.000,auroc=0.932\n"
     ]
    },
    {
     "name": "stderr",
     "output_type": "stream",
     "text": [
      "C:\\Users\\nshawen\\AppData\\Local\\Continuum\\anaconda3\\lib\\site-packages\\sklearn\\metrics\\classification.py:1135: UndefinedMetricWarning: F-score is ill-defined and being set to 0.0 due to no predicted samples.\n",
      "  'precision', 'predicted', average, warn_for)\n",
      "C:\\Users\\nshawen\\AppData\\Local\\Continuum\\anaconda3\\lib\\site-packages\\sklearn\\metrics\\classification.py:1135: UndefinedMetricWarning: Precision is ill-defined and being set to 0.0 due to no predicted samples.\n",
      "  'precision', 'predicted', average, warn_for)\n"
     ]
    },
    {
     "name": "stdout",
     "output_type": "stream",
     "text": [
      "\n",
      "Subj/Visit 4,prec=0.000,rec=0.000,Spec=1.000,auroc_train=1.000,auroc=0.995\n"
     ]
    },
    {
     "name": "stderr",
     "output_type": "stream",
     "text": [
      "C:\\Users\\nshawen\\AppData\\Local\\Continuum\\anaconda3\\lib\\site-packages\\sklearn\\metrics\\classification.py:1135: UndefinedMetricWarning: F-score is ill-defined and being set to 0.0 due to no predicted samples.\n",
      "  'precision', 'predicted', average, warn_for)\n",
      "C:\\Users\\nshawen\\AppData\\Local\\Continuum\\anaconda3\\lib\\site-packages\\sklearn\\metrics\\classification.py:1135: UndefinedMetricWarning: Precision is ill-defined and being set to 0.0 due to no predicted samples.\n",
      "  'precision', 'predicted', average, warn_for)\n"
     ]
    },
    {
     "name": "stdout",
     "output_type": "stream",
     "text": [
      "\n",
      "Subj/Visit 5,prec=0.000,rec=0.000,Spec=1.000,auroc_train=1.000,auroc=0.940\n",
      "\n",
      "Subj/Visit 6,prec=1.000,rec=0.100,Spec=1.000,auroc_train=1.000,auroc=0.730\n",
      "f1_test=0.264+/-0.376, prec=0.357+/-0.440, rec=0.300+/-0.444, auprc=0.453+/-0.322, auroc=0.877+/-0.160\n",
      "Subject 1020\n",
      "Subject 1024\n",
      "Training Random Forest\n",
      "\n",
      "Subj/Visit 0,prec=0.692,rec=0.132,Spec=0.957,auroc_train=1.000,auroc=0.714\n",
      "\n",
      "Subj/Visit 1,prec=0.000,rec=0.000,Spec=0.981,auroc_train=1.000,auroc=0.450\n",
      "\n",
      "Subj/Visit 2,prec=0.037,rec=0.167,Spec=0.783,auroc_train=1.000,auroc=0.704\n",
      "\n",
      "Subj/Visit 3,prec=1.000,rec=0.086,Spec=1.000,auroc_train=1.000,auroc=0.763\n",
      "\n",
      "Subj/Visit 4,prec=0.500,rec=0.462,Spec=0.940,auroc_train=1.000,auroc=0.916\n"
     ]
    },
    {
     "name": "stderr",
     "output_type": "stream",
     "text": [
      "C:\\Users\\nshawen\\AppData\\Local\\Continuum\\anaconda3\\lib\\site-packages\\sklearn\\metrics\\classification.py:1137: UndefinedMetricWarning: F-score is ill-defined and being set to 0.0 due to no true samples.\n",
      "  'recall', 'true', average, warn_for)\n",
      "C:\\Users\\nshawen\\AppData\\Local\\Continuum\\anaconda3\\lib\\site-packages\\sklearn\\metrics\\ranking.py:444: RuntimeWarning: invalid value encountered in true_divide\n",
      "  recall = tps / tps[-1]\n",
      "C:\\Users\\nshawen\\AppData\\Local\\Continuum\\anaconda3\\lib\\site-packages\\sklearn\\metrics\\ranking.py:94: RuntimeWarning: invalid value encountered in less\n",
      "  if np.any(dx < 0):\n",
      "C:\\Users\\nshawen\\AppData\\Local\\Continuum\\anaconda3\\lib\\site-packages\\sklearn\\metrics\\classification.py:1137: UndefinedMetricWarning: Recall is ill-defined and being set to 0.0 due to no true samples.\n",
      "  'recall', 'true', average, warn_for)\n"
     ]
    },
    {
     "name": "stdout",
     "output_type": "stream",
     "text": [
      "only 1 class in test data - cannot compute roc curve\n",
      "\n",
      "Subj/Visit 5,prec=0.000,rec=0.000,Spec=0.922,auroc_train=1.000,auroc=nan\n",
      "\n",
      "Subj/Visit 6,prec=0.833,rec=0.208,Spec=0.990,auroc_train=1.000,auroc=0.898\n",
      "f1_test=0.179+/-0.167, prec=0.438+/-0.394, rec=0.151+/-0.146, auprc=0.466+/-0.300, auroc=0.741+/-0.154\n",
      "Subject 1029\n",
      "Training Random Forest\n",
      "\n",
      "Subj/Visit 0,prec=1.000,rec=0.295,Spec=1.000,auroc_train=1.000,auroc=0.839\n",
      "\n",
      "Subj/Visit 1,prec=0.273,rec=0.529,Spec=0.827,auroc_train=1.000,auroc=0.775\n",
      "\n",
      "Subj/Visit 2,prec=0.123,rec=0.571,Spec=0.689,auroc_train=1.000,auroc=0.628\n",
      "\n",
      "Subj/Visit 3,prec=0.839,rec=0.342,Spec=0.934,auroc_train=1.000,auroc=0.731\n",
      "\n",
      "Subj/Visit 4,prec=0.636,rec=0.618,Spec=0.911,auroc_train=1.000,auroc=0.906\n",
      "\n",
      "Subj/Visit 5,prec=0.385,rec=0.152,Spec=0.931,auroc_train=1.000,auroc=0.696\n",
      "\n",
      "Subj/Visit 6,prec=0.722,rec=0.149,Spec=0.951,auroc_train=1.000,auroc=0.660\n",
      "f1_test=0.371+/-0.148, prec=0.568+/-0.295, rec=0.379+/-0.181, auprc=0.534+/-0.285, auroc=0.748+/-0.092\n",
      "Subject 1030\n",
      "Training Random Forest\n",
      "\n",
      "Subj/Visit 0,prec=1.000,rec=0.500,Spec=1.000,auroc_train=1.000,auroc=0.995\n",
      "\n",
      "Subj/Visit 1,prec=0.000,rec=0.000,Spec=0.993,auroc_train=1.000,auroc=0.642\n"
     ]
    },
    {
     "name": "stderr",
     "output_type": "stream",
     "text": [
      "C:\\Users\\nshawen\\AppData\\Local\\Continuum\\anaconda3\\lib\\site-packages\\sklearn\\metrics\\classification.py:1135: UndefinedMetricWarning: F-score is ill-defined and being set to 0.0 due to no predicted samples.\n",
      "  'precision', 'predicted', average, warn_for)\n",
      "C:\\Users\\nshawen\\AppData\\Local\\Continuum\\anaconda3\\lib\\site-packages\\sklearn\\metrics\\classification.py:1135: UndefinedMetricWarning: Precision is ill-defined and being set to 0.0 due to no predicted samples.\n",
      "  'precision', 'predicted', average, warn_for)\n"
     ]
    },
    {
     "name": "stdout",
     "output_type": "stream",
     "text": [
      "\n",
      "Subj/Visit 2,prec=0.000,rec=0.000,Spec=1.000,auroc_train=1.000,auroc=0.994\n",
      "\n",
      "Subj/Visit 3,prec=1.000,rec=1.000,Spec=1.000,auroc_train=1.000,auroc=1.000\n",
      "\n",
      "Subj/Visit 4,prec=1.000,rec=0.100,Spec=1.000,auroc_train=1.000,auroc=0.980\n"
     ]
    },
    {
     "name": "stderr",
     "output_type": "stream",
     "text": [
      "C:\\Users\\nshawen\\AppData\\Local\\Continuum\\anaconda3\\lib\\site-packages\\sklearn\\metrics\\classification.py:1135: UndefinedMetricWarning: F-score is ill-defined and being set to 0.0 due to no predicted samples.\n",
      "  'precision', 'predicted', average, warn_for)\n",
      "C:\\Users\\nshawen\\AppData\\Local\\Continuum\\anaconda3\\lib\\site-packages\\sklearn\\metrics\\classification.py:1135: UndefinedMetricWarning: Precision is ill-defined and being set to 0.0 due to no predicted samples.\n",
      "  'precision', 'predicted', average, warn_for)\n"
     ]
    },
    {
     "name": "stdout",
     "output_type": "stream",
     "text": [
      "\n",
      "Subj/Visit 5,prec=0.000,rec=0.000,Spec=1.000,auroc_train=1.000,auroc=0.981\n",
      "\n",
      "Subj/Visit 6,prec=0.000,rec=0.000,Spec=0.984,auroc_train=1.000,auroc=0.971\n",
      "f1_test=0.264+/-0.376, prec=0.429+/-0.495, rec=0.229+/-0.357, auprc=0.627+/-0.358, auroc=0.938+/-0.121\n",
      "Subject 1032\n",
      "Training Random Forest\n",
      "\n",
      "Subj/Visit 0,prec=0.000,rec=0.000,Spec=0.994,auroc_train=1.000,auroc=0.859\n",
      "\n",
      "Subj/Visit 1,prec=1.000,rec=0.417,Spec=1.000,auroc_train=1.000,auroc=0.890\n",
      "\n",
      "Subj/Visit 2,prec=1.000,rec=0.600,Spec=1.000,auroc_train=1.000,auroc=0.994\n"
     ]
    },
    {
     "name": "stderr",
     "output_type": "stream",
     "text": [
      "C:\\Users\\nshawen\\AppData\\Local\\Continuum\\anaconda3\\lib\\site-packages\\sklearn\\metrics\\classification.py:1135: UndefinedMetricWarning: F-score is ill-defined and being set to 0.0 due to no predicted samples.\n",
      "  'precision', 'predicted', average, warn_for)\n",
      "C:\\Users\\nshawen\\AppData\\Local\\Continuum\\anaconda3\\lib\\site-packages\\sklearn\\metrics\\classification.py:1135: UndefinedMetricWarning: Precision is ill-defined and being set to 0.0 due to no predicted samples.\n",
      "  'precision', 'predicted', average, warn_for)\n"
     ]
    },
    {
     "name": "stdout",
     "output_type": "stream",
     "text": [
      "\n",
      "Subj/Visit 3,prec=0.000,rec=0.000,Spec=1.000,auroc_train=1.000,auroc=0.500\n",
      "\n",
      "Subj/Visit 4,prec=0.286,rec=1.000,Spec=0.970,auroc_train=1.000,auroc=0.999\n",
      "\n",
      "Subj/Visit 5,prec=1.000,rec=1.000,Spec=1.000,auroc_train=1.000,auroc=1.000\n",
      "\n",
      "Subj/Visit 6,prec=0.000,rec=0.000,Spec=0.996,auroc_train=1.000,auroc=0.960\n",
      "f1_test=0.398+/-0.378, prec=0.469+/-0.469, rec=0.431+/-0.420, auprc=0.588+/-0.359, auroc=0.886+/-0.166\n",
      "Subject 1038\n",
      "Training Random Forest\n",
      "\n",
      "Subj/Visit 0,prec=0.830,rec=0.629,Spec=0.871,auroc_train=1.000,auroc=0.872\n",
      "\n",
      "Subj/Visit 1,prec=0.630,rec=0.723,Spec=0.796,auroc_train=1.000,auroc=0.802\n",
      "\n",
      "Subj/Visit 2,prec=0.585,rec=0.689,Spec=0.718,auroc_train=1.000,auroc=0.809\n",
      "\n",
      "Subj/Visit 3,prec=0.804,rec=0.569,Spec=0.844,auroc_train=1.000,auroc=0.728\n",
      "\n",
      "Subj/Visit 4,prec=0.852,rec=0.590,Spec=0.931,auroc_train=1.000,auroc=0.898\n",
      "\n",
      "Subj/Visit 5,prec=0.648,rec=0.761,Spec=0.762,auroc_train=1.000,auroc=0.892\n",
      "\n",
      "Subj/Visit 6,prec=0.705,rec=0.596,Spec=0.827,auroc_train=1.000,auroc=0.798\n",
      "f1_test=0.676+/-0.028, prec=0.722+/-0.099, rec=0.651+/-0.068, auprc=0.769+/-0.073, auroc=0.828+/-0.057\n",
      "Subject 1044\n",
      "Training Random Forest\n",
      "\n",
      "Subj/Visit 0,prec=1.000,rec=0.400,Spec=1.000,auroc_train=1.000,auroc=0.998\n",
      "\n",
      "Subj/Visit 1,prec=1.000,rec=0.750,Spec=1.000,auroc_train=1.000,auroc=0.997\n",
      "\n",
      "Subj/Visit 2,prec=1.000,rec=0.750,Spec=1.000,auroc_train=1.000,auroc=1.000\n",
      "\n",
      "Subj/Visit 3,prec=1.000,rec=0.300,Spec=1.000,auroc_train=1.000,auroc=0.996\n",
      "\n",
      "Subj/Visit 4,prec=1.000,rec=0.625,Spec=1.000,auroc_train=1.000,auroc=0.996\n",
      "\n",
      "Subj/Visit 5,prec=1.000,rec=0.500,Spec=1.000,auroc_train=1.000,auroc=1.000\n",
      "\n",
      "Subj/Visit 6,prec=0.250,rec=0.500,Spec=0.939,auroc_train=1.000,auroc=0.941\n",
      "f1_test=0.645+/-0.186, prec=0.893+/-0.262, rec=0.546+/-0.158, auprc=0.867+/-0.265, auroc=0.990+/-0.020\n",
      "Subject 1046\n",
      "Training Random Forest\n",
      "\n",
      "Subj/Visit 0,prec=0.579,rec=0.440,Spec=0.950,auroc_train=1.000,auroc=0.905\n",
      "\n",
      "Subj/Visit 1,prec=0.975,rec=0.796,Spec=0.994,auroc_train=1.000,auroc=0.993\n",
      "\n",
      "Subj/Visit 2,prec=0.784,rec=0.906,Spec=0.946,auroc_train=1.000,auroc=0.969\n",
      "\n",
      "Subj/Visit 3,prec=0.741,rec=0.625,Spec=0.950,auroc_train=1.000,auroc=0.962\n",
      "\n",
      "Subj/Visit 4,prec=0.955,rec=0.724,Spec=0.986,auroc_train=1.000,auroc=0.979\n",
      "\n",
      "Subj/Visit 5,prec=1.000,rec=0.541,Spec=1.000,auroc_train=1.000,auroc=0.974\n",
      "\n",
      "Subj/Visit 6,prec=0.871,rec=0.482,Spec=0.970,auroc_train=1.000,auroc=0.894\n",
      "f1_test=0.720+/-0.125, prec=0.843+/-0.141, rec=0.645+/-0.159, auprc=0.844+/-0.161, auroc=0.954+/-0.035\n",
      "Subject 1047\n",
      "Training Random Forest\n",
      "\n",
      "Subj/Visit 0,prec=0.000,rec=0.000,Spec=1.000,auroc_train=1.000,auroc=0.890\n"
     ]
    },
    {
     "name": "stderr",
     "output_type": "stream",
     "text": [
      "C:\\Users\\nshawen\\AppData\\Local\\Continuum\\anaconda3\\lib\\site-packages\\sklearn\\metrics\\classification.py:1135: UndefinedMetricWarning: F-score is ill-defined and being set to 0.0 due to no predicted samples.\n",
      "  'precision', 'predicted', average, warn_for)\n",
      "C:\\Users\\nshawen\\AppData\\Local\\Continuum\\anaconda3\\lib\\site-packages\\sklearn\\metrics\\classification.py:1135: UndefinedMetricWarning: Precision is ill-defined and being set to 0.0 due to no predicted samples.\n",
      "  'precision', 'predicted', average, warn_for)\n",
      "C:\\Users\\nshawen\\AppData\\Local\\Continuum\\anaconda3\\lib\\site-packages\\sklearn\\metrics\\ranking.py:444: RuntimeWarning: invalid value encountered in true_divide\n",
      "  recall = tps / tps[-1]\n",
      "C:\\Users\\nshawen\\AppData\\Local\\Continuum\\anaconda3\\lib\\site-packages\\sklearn\\metrics\\ranking.py:94: RuntimeWarning: invalid value encountered in less\n",
      "  if np.any(dx < 0):\n"
     ]
    },
    {
     "name": "stdout",
     "output_type": "stream",
     "text": [
      "only 1 class in test data - cannot compute roc curve\n",
      "\n",
      "Subj/Visit 1,prec=0.000,rec=0.000,Spec=1.000,auroc_train=1.000,auroc=nan\n",
      "only 1 class in test data - cannot compute roc curve\n",
      "\n",
      "Subj/Visit 2,prec=0.000,rec=0.000,Spec=1.000,auroc_train=1.000,auroc=nan\n"
     ]
    },
    {
     "name": "stderr",
     "output_type": "stream",
     "text": [
      "C:\\Users\\nshawen\\AppData\\Local\\Continuum\\anaconda3\\lib\\site-packages\\sklearn\\metrics\\ranking.py:444: RuntimeWarning: invalid value encountered in true_divide\n",
      "  recall = tps / tps[-1]\n",
      "C:\\Users\\nshawen\\AppData\\Local\\Continuum\\anaconda3\\lib\\site-packages\\sklearn\\metrics\\ranking.py:94: RuntimeWarning: invalid value encountered in less\n",
      "  if np.any(dx < 0):\n",
      "C:\\Users\\nshawen\\AppData\\Local\\Continuum\\anaconda3\\lib\\site-packages\\sklearn\\metrics\\classification.py:1135: UndefinedMetricWarning: F-score is ill-defined and being set to 0.0 due to no predicted samples.\n",
      "  'precision', 'predicted', average, warn_for)\n",
      "C:\\Users\\nshawen\\AppData\\Local\\Continuum\\anaconda3\\lib\\site-packages\\sklearn\\metrics\\classification.py:1135: UndefinedMetricWarning: Precision is ill-defined and being set to 0.0 due to no predicted samples.\n",
      "  'precision', 'predicted', average, warn_for)\n"
     ]
    },
    {
     "name": "stdout",
     "output_type": "stream",
     "text": [
      "\n",
      "Subj/Visit 3,prec=0.000,rec=0.000,Spec=1.000,auroc_train=1.000,auroc=0.979\n",
      "only 1 class in test data - cannot compute roc curve\n",
      "\n",
      "Subj/Visit 4,prec=0.000,rec=0.000,Spec=1.000,auroc_train=1.000,auroc=nan\n"
     ]
    },
    {
     "name": "stderr",
     "output_type": "stream",
     "text": [
      "C:\\Users\\nshawen\\AppData\\Local\\Continuum\\anaconda3\\lib\\site-packages\\sklearn\\metrics\\ranking.py:444: RuntimeWarning: invalid value encountered in true_divide\n",
      "  recall = tps / tps[-1]\n",
      "C:\\Users\\nshawen\\AppData\\Local\\Continuum\\anaconda3\\lib\\site-packages\\sklearn\\metrics\\ranking.py:94: RuntimeWarning: invalid value encountered in less\n",
      "  if np.any(dx < 0):\n",
      "C:\\Users\\nshawen\\AppData\\Local\\Continuum\\anaconda3\\lib\\site-packages\\sklearn\\metrics\\ranking.py:444: RuntimeWarning: invalid value encountered in true_divide\n",
      "  recall = tps / tps[-1]\n",
      "C:\\Users\\nshawen\\AppData\\Local\\Continuum\\anaconda3\\lib\\site-packages\\sklearn\\metrics\\ranking.py:94: RuntimeWarning: invalid value encountered in less\n",
      "  if np.any(dx < 0):\n"
     ]
    },
    {
     "name": "stdout",
     "output_type": "stream",
     "text": [
      "only 1 class in test data - cannot compute roc curve\n",
      "\n",
      "Subj/Visit 5,prec=0.000,rec=0.000,Spec=1.000,auroc_train=1.000,auroc=nan\n",
      "f1_test=0.000+/-0.000, prec=0.000+/-0.000, rec=0.000+/-0.000, auprc=0.150+/-0.128, auroc=0.934+/-0.044\n",
      "Subject 1049\n",
      "Training Random Forest\n",
      "\n",
      "Subj/Visit 0,prec=0.807,rec=0.523,Spec=0.904,auroc_train=1.000,auroc=0.750\n",
      "\n",
      "Subj/Visit 1,prec=0.951,rec=0.591,Spec=0.964,auroc_train=1.000,auroc=0.847\n",
      "\n",
      "Subj/Visit 2,prec=0.974,rec=0.673,Spec=0.955,auroc_train=1.000,auroc=0.936\n",
      "\n",
      "Subj/Visit 3,prec=0.522,rec=0.462,Spec=0.928,auroc_train=1.000,auroc=0.809\n",
      "\n",
      "Subj/Visit 4,prec=0.533,rec=0.500,Spec=0.909,auroc_train=1.000,auroc=0.826\n",
      "\n",
      "Subj/Visit 5,prec=0.821,rec=0.464,Spec=0.943,auroc_train=1.000,auroc=0.776\n",
      "\n",
      "Subj/Visit 6,prec=0.810,rec=0.468,Spec=0.859,auroc_train=1.000,auroc=0.769\n",
      "f1_test=0.622+/-0.102, prec=0.774+/-0.168, rec=0.526+/-0.074, auprc=0.749+/-0.152, auroc=0.816+/-0.058\n",
      "Subject 1051\n",
      "Training Random Forest\n",
      "only 1 class in test data - cannot compute roc curve\n",
      "\n",
      "Subj/Visit 0,prec=0.000,rec=0.000,Spec=1.000,auroc_train=1.000,auroc=nan\n"
     ]
    },
    {
     "name": "stderr",
     "output_type": "stream",
     "text": [
      "C:\\Users\\nshawen\\AppData\\Local\\Continuum\\anaconda3\\lib\\site-packages\\sklearn\\metrics\\ranking.py:444: RuntimeWarning: invalid value encountered in true_divide\n",
      "  recall = tps / tps[-1]\n",
      "C:\\Users\\nshawen\\AppData\\Local\\Continuum\\anaconda3\\lib\\site-packages\\sklearn\\metrics\\ranking.py:94: RuntimeWarning: invalid value encountered in less\n",
      "  if np.any(dx < 0):\n",
      "C:\\Users\\nshawen\\AppData\\Local\\Continuum\\anaconda3\\lib\\site-packages\\sklearn\\metrics\\ranking.py:444: RuntimeWarning: invalid value encountered in true_divide\n",
      "  recall = tps / tps[-1]\n",
      "C:\\Users\\nshawen\\AppData\\Local\\Continuum\\anaconda3\\lib\\site-packages\\sklearn\\metrics\\ranking.py:94: RuntimeWarning: invalid value encountered in less\n",
      "  if np.any(dx < 0):\n"
     ]
    },
    {
     "name": "stdout",
     "output_type": "stream",
     "text": [
      "only 1 class in test data - cannot compute roc curve\n",
      "\n",
      "Subj/Visit 1,prec=0.000,rec=0.000,Spec=1.000,auroc_train=1.000,auroc=nan\n",
      "only 1 class in test data - cannot compute roc curve\n",
      "\n",
      "Subj/Visit 2,prec=0.000,rec=0.000,Spec=1.000,auroc_train=1.000,auroc=nan\n"
     ]
    },
    {
     "name": "stderr",
     "output_type": "stream",
     "text": [
      "C:\\Users\\nshawen\\AppData\\Local\\Continuum\\anaconda3\\lib\\site-packages\\sklearn\\metrics\\ranking.py:444: RuntimeWarning: invalid value encountered in true_divide\n",
      "  recall = tps / tps[-1]\n",
      "C:\\Users\\nshawen\\AppData\\Local\\Continuum\\anaconda3\\lib\\site-packages\\sklearn\\metrics\\ranking.py:94: RuntimeWarning: invalid value encountered in less\n",
      "  if np.any(dx < 0):\n",
      "C:\\Users\\nshawen\\AppData\\Local\\Continuum\\anaconda3\\lib\\site-packages\\sklearn\\metrics\\ranking.py:444: RuntimeWarning: invalid value encountered in true_divide\n",
      "  recall = tps / tps[-1]\n",
      "C:\\Users\\nshawen\\AppData\\Local\\Continuum\\anaconda3\\lib\\site-packages\\sklearn\\metrics\\ranking.py:94: RuntimeWarning: invalid value encountered in less\n",
      "  if np.any(dx < 0):\n"
     ]
    },
    {
     "name": "stdout",
     "output_type": "stream",
     "text": [
      "only 1 class in test data - cannot compute roc curve\n",
      "\n",
      "Subj/Visit 3,prec=0.000,rec=0.000,Spec=1.000,auroc_train=1.000,auroc=nan\n",
      "only 1 class in test data - cannot compute roc curve\n",
      "\n",
      "Subj/Visit 4,prec=0.000,rec=0.000,Spec=1.000,auroc_train=1.000,auroc=nan\n"
     ]
    },
    {
     "name": "stderr",
     "output_type": "stream",
     "text": [
      "C:\\Users\\nshawen\\AppData\\Local\\Continuum\\anaconda3\\lib\\site-packages\\sklearn\\metrics\\ranking.py:444: RuntimeWarning: invalid value encountered in true_divide\n",
      "  recall = tps / tps[-1]\n",
      "C:\\Users\\nshawen\\AppData\\Local\\Continuum\\anaconda3\\lib\\site-packages\\sklearn\\metrics\\ranking.py:94: RuntimeWarning: invalid value encountered in less\n",
      "  if np.any(dx < 0):\n",
      "C:\\Users\\nshawen\\AppData\\Local\\Continuum\\anaconda3\\lib\\site-packages\\sklearn\\metrics\\ranking.py:444: RuntimeWarning: invalid value encountered in true_divide\n",
      "  recall = tps / tps[-1]\n",
      "C:\\Users\\nshawen\\AppData\\Local\\Continuum\\anaconda3\\lib\\site-packages\\sklearn\\metrics\\ranking.py:94: RuntimeWarning: invalid value encountered in less\n",
      "  if np.any(dx < 0):\n",
      "C:\\Users\\nshawen\\AppData\\Local\\Continuum\\anaconda3\\lib\\site-packages\\ipykernel_launcher.py:87: RuntimeWarning: Mean of empty slice\n",
      "C:\\Users\\nshawen\\AppData\\Local\\Continuum\\anaconda3\\lib\\site-packages\\numpy\\lib\\nanfunctions.py:1434: RuntimeWarning: Degrees of freedom <= 0 for slice.\n",
      "  keepdims=keepdims)\n",
      "C:\\Users\\nshawen\\AppData\\Local\\Continuum\\anaconda3\\lib\\site-packages\\ipykernel_launcher.py:94: RuntimeWarning: Mean of empty slice\n"
     ]
    },
    {
     "name": "stdout",
     "output_type": "stream",
     "text": [
      "only 1 class in test data - cannot compute roc curve\n",
      "\n",
      "Subj/Visit 5,prec=0.000,rec=0.000,Spec=1.000,auroc_train=1.000,auroc=nan\n",
      "only 1 class available in train data - skipping\n",
      "f1_test=0.000+/-0.000, prec=0.000+/-0.000, rec=0.000+/-0.000, auprc=nan+/-nan, auroc=nan+/-nan\n",
      "Subject 1052\n",
      "Training Random Forest\n"
     ]
    },
    {
     "name": "stderr",
     "output_type": "stream",
     "text": [
      "C:\\Users\\nshawen\\AppData\\Local\\Continuum\\anaconda3\\lib\\site-packages\\sklearn\\metrics\\classification.py:1135: UndefinedMetricWarning: F-score is ill-defined and being set to 0.0 due to no predicted samples.\n",
      "  'precision', 'predicted', average, warn_for)\n",
      "C:\\Users\\nshawen\\AppData\\Local\\Continuum\\anaconda3\\lib\\site-packages\\sklearn\\metrics\\classification.py:1135: UndefinedMetricWarning: Precision is ill-defined and being set to 0.0 due to no predicted samples.\n",
      "  'precision', 'predicted', average, warn_for)\n"
     ]
    },
    {
     "name": "stdout",
     "output_type": "stream",
     "text": [
      "\n",
      "Subj/Visit 0,prec=0.000,rec=0.000,Spec=1.000,auroc_train=1.000,auroc=0.674\n"
     ]
    },
    {
     "name": "stderr",
     "output_type": "stream",
     "text": [
      "C:\\Users\\nshawen\\AppData\\Local\\Continuum\\anaconda3\\lib\\site-packages\\sklearn\\metrics\\ranking.py:444: RuntimeWarning: invalid value encountered in true_divide\n",
      "  recall = tps / tps[-1]\n",
      "C:\\Users\\nshawen\\AppData\\Local\\Continuum\\anaconda3\\lib\\site-packages\\sklearn\\metrics\\ranking.py:94: RuntimeWarning: invalid value encountered in less\n",
      "  if np.any(dx < 0):\n"
     ]
    },
    {
     "name": "stdout",
     "output_type": "stream",
     "text": [
      "only 1 class in test data - cannot compute roc curve\n",
      "\n",
      "Subj/Visit 1,prec=0.000,rec=0.000,Spec=1.000,auroc_train=1.000,auroc=nan\n"
     ]
    },
    {
     "name": "stderr",
     "output_type": "stream",
     "text": [
      "C:\\Users\\nshawen\\AppData\\Local\\Continuum\\anaconda3\\lib\\site-packages\\sklearn\\metrics\\ranking.py:444: RuntimeWarning: invalid value encountered in true_divide\n",
      "  recall = tps / tps[-1]\n",
      "C:\\Users\\nshawen\\AppData\\Local\\Continuum\\anaconda3\\lib\\site-packages\\sklearn\\metrics\\ranking.py:94: RuntimeWarning: invalid value encountered in less\n",
      "  if np.any(dx < 0):\n"
     ]
    },
    {
     "name": "stdout",
     "output_type": "stream",
     "text": [
      "only 1 class in test data - cannot compute roc curve\n",
      "\n",
      "Subj/Visit 2,prec=0.000,rec=0.000,Spec=1.000,auroc_train=1.000,auroc=nan\n",
      "\n",
      "Subj/Visit 3,prec=1.000,rec=0.148,Spec=1.000,auroc_train=1.000,auroc=0.573\n"
     ]
    },
    {
     "name": "stderr",
     "output_type": "stream",
     "text": [
      "C:\\Users\\nshawen\\AppData\\Local\\Continuum\\anaconda3\\lib\\site-packages\\sklearn\\metrics\\ranking.py:444: RuntimeWarning: invalid value encountered in true_divide\n",
      "  recall = tps / tps[-1]\n",
      "C:\\Users\\nshawen\\AppData\\Local\\Continuum\\anaconda3\\lib\\site-packages\\sklearn\\metrics\\ranking.py:94: RuntimeWarning: invalid value encountered in less\n",
      "  if np.any(dx < 0):\n"
     ]
    },
    {
     "name": "stdout",
     "output_type": "stream",
     "text": [
      "only 1 class in test data - cannot compute roc curve\n",
      "\n",
      "Subj/Visit 4,prec=0.000,rec=0.000,Spec=1.000,auroc_train=1.000,auroc=nan\n"
     ]
    },
    {
     "name": "stderr",
     "output_type": "stream",
     "text": [
      "C:\\Users\\nshawen\\AppData\\Local\\Continuum\\anaconda3\\lib\\site-packages\\sklearn\\metrics\\ranking.py:444: RuntimeWarning: invalid value encountered in true_divide\n",
      "  recall = tps / tps[-1]\n",
      "C:\\Users\\nshawen\\AppData\\Local\\Continuum\\anaconda3\\lib\\site-packages\\sklearn\\metrics\\ranking.py:94: RuntimeWarning: invalid value encountered in less\n",
      "  if np.any(dx < 0):\n",
      "C:\\Users\\nshawen\\AppData\\Local\\Continuum\\anaconda3\\lib\\site-packages\\ipykernel_launcher.py:85: RuntimeWarning: Mean of empty slice\n",
      "C:\\Users\\nshawen\\AppData\\Local\\Continuum\\anaconda3\\lib\\site-packages\\numpy\\lib\\nanfunctions.py:1434: RuntimeWarning: Degrees of freedom <= 0 for slice.\n",
      "  keepdims=keepdims)\n",
      "C:\\Users\\nshawen\\AppData\\Local\\Continuum\\anaconda3\\lib\\site-packages\\ipykernel_launcher.py:86: RuntimeWarning: Mean of empty slice\n",
      "C:\\Users\\nshawen\\AppData\\Local\\Continuum\\anaconda3\\lib\\site-packages\\ipykernel_launcher.py:87: RuntimeWarning: Mean of empty slice\n",
      "C:\\Users\\nshawen\\AppData\\Local\\Continuum\\anaconda3\\lib\\site-packages\\ipykernel_launcher.py:94: RuntimeWarning: Mean of empty slice\n",
      "C:\\Users\\nshawen\\AppData\\Local\\Continuum\\anaconda3\\lib\\site-packages\\sklearn\\metrics\\ranking.py:444: RuntimeWarning: invalid value encountered in true_divide\n",
      "  recall = tps / tps[-1]\n",
      "C:\\Users\\nshawen\\AppData\\Local\\Continuum\\anaconda3\\lib\\site-packages\\sklearn\\metrics\\ranking.py:94: RuntimeWarning: invalid value encountered in less\n",
      "  if np.any(dx < 0):\n"
     ]
    },
    {
     "name": "stdout",
     "output_type": "stream",
     "text": [
      "only 1 class in test data - cannot compute roc curve\n",
      "\n",
      "Subj/Visit 5,prec=0.000,rec=0.000,Spec=1.000,auroc_train=1.000,auroc=nan\n",
      "f1_test=0.043+/-0.096, prec=0.167+/-0.373, rec=0.025+/-0.055, auprc=0.406+/-0.099, auroc=0.624+/-0.051\n",
      "Subject 1053\n",
      "Training Random Forest\n",
      "only 1 class available in train data - skipping\n",
      "only 1 class available in train data - skipping\n",
      "only 1 class available in train data - skipping\n",
      "only 1 class available in train data - skipping\n",
      "only 1 class available in train data - skipping\n",
      "only 1 class available in train data - skipping\n",
      "f1_test=nan+/-nan, prec=nan+/-nan, rec=nan+/-nan, auprc=nan+/-nan, auroc=nan+/-nan\n",
      "Subject 1054\n",
      "Training Random Forest\n",
      "only 1 class available in train data - skipping\n",
      "only 1 class in test data - cannot compute roc curve\n",
      "\n",
      "Subj/Visit 0,prec=0.000,rec=0.000,Spec=1.000,auroc_train=1.000,auroc=nan\n",
      "only 1 class in test data - cannot compute roc curve\n",
      "\n",
      "Subj/Visit 1,prec=0.000,rec=0.000,Spec=1.000,auroc_train=1.000,auroc=nan\n"
     ]
    },
    {
     "name": "stderr",
     "output_type": "stream",
     "text": [
      "C:\\Users\\nshawen\\AppData\\Local\\Continuum\\anaconda3\\lib\\site-packages\\sklearn\\metrics\\ranking.py:444: RuntimeWarning: invalid value encountered in true_divide\n",
      "  recall = tps / tps[-1]\n",
      "C:\\Users\\nshawen\\AppData\\Local\\Continuum\\anaconda3\\lib\\site-packages\\sklearn\\metrics\\ranking.py:94: RuntimeWarning: invalid value encountered in less\n",
      "  if np.any(dx < 0):\n",
      "C:\\Users\\nshawen\\AppData\\Local\\Continuum\\anaconda3\\lib\\site-packages\\sklearn\\metrics\\ranking.py:444: RuntimeWarning: invalid value encountered in true_divide\n",
      "  recall = tps / tps[-1]\n",
      "C:\\Users\\nshawen\\AppData\\Local\\Continuum\\anaconda3\\lib\\site-packages\\sklearn\\metrics\\ranking.py:94: RuntimeWarning: invalid value encountered in less\n",
      "  if np.any(dx < 0):\n"
     ]
    },
    {
     "name": "stdout",
     "output_type": "stream",
     "text": [
      "only 1 class in test data - cannot compute roc curve\n",
      "\n",
      "Subj/Visit 2,prec=0.000,rec=0.000,Spec=1.000,auroc_train=1.000,auroc=nan\n",
      "only 1 class in test data - cannot compute roc curve\n",
      "\n",
      "Subj/Visit 3,prec=0.000,rec=0.000,Spec=1.000,auroc_train=1.000,auroc=nan\n"
     ]
    },
    {
     "name": "stderr",
     "output_type": "stream",
     "text": [
      "C:\\Users\\nshawen\\AppData\\Local\\Continuum\\anaconda3\\lib\\site-packages\\sklearn\\metrics\\ranking.py:444: RuntimeWarning: invalid value encountered in true_divide\n",
      "  recall = tps / tps[-1]\n",
      "C:\\Users\\nshawen\\AppData\\Local\\Continuum\\anaconda3\\lib\\site-packages\\sklearn\\metrics\\ranking.py:94: RuntimeWarning: invalid value encountered in less\n",
      "  if np.any(dx < 0):\n",
      "C:\\Users\\nshawen\\AppData\\Local\\Continuum\\anaconda3\\lib\\site-packages\\sklearn\\metrics\\ranking.py:444: RuntimeWarning: invalid value encountered in true_divide\n",
      "  recall = tps / tps[-1]\n",
      "C:\\Users\\nshawen\\AppData\\Local\\Continuum\\anaconda3\\lib\\site-packages\\sklearn\\metrics\\ranking.py:94: RuntimeWarning: invalid value encountered in less\n",
      "  if np.any(dx < 0):\n",
      "C:\\Users\\nshawen\\AppData\\Local\\Continuum\\anaconda3\\lib\\site-packages\\ipykernel_launcher.py:87: RuntimeWarning: Mean of empty slice\n",
      "C:\\Users\\nshawen\\AppData\\Local\\Continuum\\anaconda3\\lib\\site-packages\\numpy\\lib\\nanfunctions.py:1434: RuntimeWarning: Degrees of freedom <= 0 for slice.\n",
      "  keepdims=keepdims)\n",
      "C:\\Users\\nshawen\\AppData\\Local\\Continuum\\anaconda3\\lib\\site-packages\\ipykernel_launcher.py:94: RuntimeWarning: Mean of empty slice\n"
     ]
    },
    {
     "name": "stdout",
     "output_type": "stream",
     "text": [
      "only 1 class in test data - cannot compute roc curve\n",
      "\n",
      "Subj/Visit 4,prec=0.000,rec=0.000,Spec=1.000,auroc_train=1.000,auroc=nan\n",
      "f1_test=0.000+/-0.000, prec=0.000+/-0.000, rec=0.000+/-0.000, auprc=nan+/-nan, auroc=nan+/-nan\n",
      "Subject 1055\n",
      "Training Random Forest\n",
      "\n",
      "Subj/Visit 0,prec=0.929,rec=1.000,Spec=0.000,auroc_train=1.000,auroc=0.555\n",
      "\n",
      "Subj/Visit 1,prec=0.650,rec=0.823,Spec=0.054,auroc_train=1.000,auroc=0.352\n",
      "\n",
      "Subj/Visit 2,prec=0.548,rec=0.895,Spec=0.097,auroc_train=1.000,auroc=0.524\n",
      "\n",
      "Subj/Visit 3,prec=0.955,rec=0.875,Spec=0.667,auroc_train=1.000,auroc=0.896\n",
      "\n",
      "Subj/Visit 4,prec=0.775,rec=0.972,Spec=0.130,auroc_train=1.000,auroc=0.831\n",
      "\n",
      "Subj/Visit 5,prec=0.979,rec=0.896,Spec=0.000,auroc_train=1.000,auroc=0.741\n",
      "f1_test=0.847+/-0.107, prec=0.806+/-0.163, rec=0.910+/-0.059, auprc=0.842+/-0.173, auroc=0.650+/-0.189\n",
      "Subject 1056\n",
      "Training Random Forest\n",
      "\n",
      "Subj/Visit 0,prec=0.901,rec=0.893,Spec=0.083,auroc_train=1.000,auroc=0.532\n",
      "\n",
      "Subj/Visit 1,prec=0.300,rec=1.000,Spec=0.000,auroc_train=1.000,auroc=0.603\n",
      "\n",
      "Subj/Visit 2,prec=0.351,rec=0.929,Spec=0.077,auroc_train=1.000,auroc=0.412\n",
      "\n",
      "Subj/Visit 3,prec=0.983,rec=0.983,Spec=0.000,auroc_train=1.000,auroc=0.839\n",
      "only 1 class in test data - cannot compute roc curve"
     ]
    },
    {
     "name": "stderr",
     "output_type": "stream",
     "text": [
      "C:\\Users\\nshawen\\AppData\\Local\\Continuum\\anaconda3\\lib\\site-packages\\ipykernel_launcher.py:51: RuntimeWarning: invalid value encountered in long_scalars\n"
     ]
    },
    {
     "name": "stdout",
     "output_type": "stream",
     "text": [
      "\n",
      "\n",
      "Subj/Visit 4,prec=1.000,rec=0.985,Spec=nan,auroc_train=1.000,auroc=nan\n",
      "\n",
      "Subj/Visit 5,prec=0.909,rec=0.982,Spec=0.000,auroc_train=1.000,auroc=0.318\n",
      "f1_test=0.798+/-0.223, prec=0.741+/-0.296, rec=0.962+/-0.038, auprc=0.766+/-0.259, auroc=0.541+/-0.178\n"
     ]
    }
   ],
   "source": [
    "#LOVO Combined Tremor\n",
    "\n",
    "symptom = 'Tremor'\n",
    "le = LabelEncoder()\n",
    "res_all = pd.DataFrame(data=None,index=None)\n",
    "#train on all sessions, predict on left out session for each patient\n",
    "res_visit_all = [] #data from each subject \n",
    "\n",
    "#remove nan rows for current symptom\n",
    "Data = Datafull.copy() #original unmodified dataframe\n",
    "Data=Data[~Data[symptom].isnull()]\n",
    "Data=Data.reset_index(drop=True) #reset index\n",
    "\n",
    "for s in Data.Subject.unique():\n",
    "    print('Subject %s'%s)\n",
    "    ds = Data.loc[Data.Subject==s]\n",
    "    indp = (ds[symptom]>0).values\n",
    "    y = indp.astype(int) #target \n",
    "    X = ds.iloc[:,6:]\n",
    "    X_std = StandardScaler().fit_transform(X) #standardize input data\n",
    "    models = [RandomForestClassifier(n_estimators=50,random_state=2)]#,XGBClassifier()]\n",
    "    model_name = ['Random Forest']#,'XGB']\n",
    "    models = list(zip(models,model_name))\n",
    "    groups = le.fit_transform(ds.Visit)\n",
    "    if len(np.unique(groups))<2:\n",
    "        continue\n",
    "    res,res_group = LOSOCV(ds,X_std,y,groups,models)\n",
    "    res.index = res.index+s\n",
    "    res_all=pd.concat((res_all,res))\n",
    "    res_visit_all.append(res_group)"
   ]
  },
  {
   "cell_type": "code",
   "execution_count": 28,
   "metadata": {},
   "outputs": [
    {
     "name": "stderr",
     "output_type": "stream",
     "text": [
      "C:\\Users\\nshawen\\AppData\\Local\\Continuum\\anaconda3\\lib\\site-packages\\ipykernel_launcher.py:15: RuntimeWarning: Mean of empty slice\n",
      "  from ipykernel import kernelapp as app\n",
      "C:\\Users\\nshawen\\AppData\\Local\\Continuum\\anaconda3\\lib\\site-packages\\numpy\\lib\\nanfunctions.py:1434: RuntimeWarning: Degrees of freedom <= 0 for slice.\n",
      "  keepdims=keepdims)\n"
     ]
    },
    {
     "data": {
      "image/png": "[encoded data removed]",
      "text/plain": [
       "<matplotlib.figure.Figure at 0x574b3668>"
      ]
     },
     "metadata": {},
     "output_type": "display_data"
    }
   ],
   "source": [
    "results = res_all.auroc.values\n",
    "np.save('Results/resultsTremorLOVOCombined.npy',results)\n",
    "\n",
    "#compute mean and std auc\n",
    "subjs=Data.Subject.unique()\n",
    "auc_mean = []; auc_std = []\n",
    "aucdf = pd.DataFrame()\n",
    "for i in range(len(res_visit_all)):\n",
    "\n",
    "    if len(res_visit_all[i]['Random Forest']['auroc']) < 7:\n",
    "        L = len(res_visit_all[i]['Random Forest']['auroc'])\n",
    "        res_visit_all[i]['Random Forest']['auroc'] += (list(np.nan*np.ones(7-L)))\n",
    "    aucdf[subjs[i]] = res_visit_all[i]['Random Forest']['auroc']   \n",
    "    tremor_auc = res_visit_all[i]['Random Forest']['auroc']\n",
    "    auc_mean.append(np.nanmean(tremor_auc)) #mean across visits\n",
    "    auc_std.append(np.nanstd(tremor_auc))\n",
    "    \n",
    "sns.barplot(data=aucdf)\n",
    "ax=plt.xticks(rotation=90)\n",
    "plt.title('LOVO Combined - Mean AUROC = %.3f +/- %.3f'%(np.nanmean(res_all.auroc),np.nanstd(res_all.auroc)))\n",
    "plt.ylim([0.3,1.1])\n",
    "\n",
    "plt.savefig('Results/resultsTremorLOVOCombined.png',format='png',dpi=1000)"
   ]
  },
  {
   "cell_type": "code",
   "execution_count": 29,
   "metadata": {},
   "outputs": [
    {
     "data": {
      "image/png": "[encoded data removed]",
      "text/plain": [
       "<matplotlib.figure.Figure at 0x16340320>"
      ]
     },
     "metadata": {},
     "output_type": "display_data"
    }
   ],
   "source": [
    "resultsEMG = np.load('Results/resultsTremorLOVOEMG.npy')\n",
    "resultsAccel = np.load('Results/resultsTremorLOVOAccel.npy')\n",
    "resultsCombined = np.load('Results/resultsTremorLOVOCombined.npy')\n",
    "results = pd.DataFrame({'EMG':resultsEMG,'Accelerometer':resultsAccel,'Combined':resultsCombined})\n",
    "\n",
    "figure = plt.figure()\n",
    "figure.set_dpi(100)\n",
    "figure.set_size_inches(6.4,4.8)\n",
    "ax = sns.boxplot(data=results);\n",
    "plt.ylabel('AUROC');\n",
    "plt.ylim(0.2,1.1);\n",
    "plt.title('Tremor LOVO');\n",
    "\n",
    "#x1,x2 = 0,1\n",
    "#y, h, col = results['Accelerometer'].max() + 0.02, 0.02, 'k'\n",
    "#plt.plot([x1, x1, x2, x2], [y, y+h, y+h, y], lw=1.5, c=col)\n",
    "#plt.text((x1+x2)*.5, y+h+0.01, \"***\", ha='center', va='bottom', color=col,fontsize=16);\n",
    "\n",
    "plt.savefig('Results/Tremor Comparison Boxplot LOVO.png',format='png',dpi=1000)"
   ]
  },
  {
   "cell_type": "markdown",
   "metadata": {},
   "source": [
    "### Bradykinesia"
   ]
  },
  {
   "cell_type": "code",
   "execution_count": 30,
   "metadata": {
    "scrolled": true
   },
   "outputs": [
    {
     "name": "stdout",
     "output_type": "stream",
     "text": [
      "Subject 1004\n",
      "Training Random Forest\n",
      "\n",
      "Subj/Visit 0,prec=0.909,rec=0.120,Spec=0.933,auroc_train=1.000,auroc=0.564\n",
      "\n",
      "Subj/Visit 1,prec=0.100,rec=0.091,Spec=0.793,auroc_train=1.000,auroc=0.386\n",
      "\n",
      "Subj/Visit 2,prec=0.231,rec=0.333,Spec=0.868,auroc_train=1.000,auroc=0.639\n",
      "\n",
      "Subj/Visit 3,prec=0.350,rec=0.175,Spec=0.755,auroc_train=1.000,auroc=0.398\n",
      "\n",
      "Subj/Visit 4,prec=0.333,rec=0.188,Spec=0.912,auroc_train=1.000,auroc=0.577\n",
      "\n",
      "Subj/Visit 5,prec=0.111,rec=0.036,Spec=0.890,auroc_train=1.000,auroc=0.680\n",
      "\n",
      "Subj/Visit 6,prec=0.077,rec=0.065,Spec=0.619,auroc_train=1.000,auroc=0.332\n",
      "f1_test=0.168+/-0.085, prec=0.302+/-0.269, rec=0.144+/-0.093, auprc=0.365+/-0.220, auroc=0.511+/-0.127\n",
      "Subject 1016\n",
      "Training Random Forest\n",
      "\n",
      "Subj/Visit 0,prec=0.961,rec=0.985,Spec=0.000,auroc_train=1.000,auroc=0.300\n",
      "\n",
      "Subj/Visit 1,prec=0.927,rec=1.000,Spec=0.000,auroc_train=1.000,auroc=0.749\n",
      "\n",
      "Subj/Visit 2,prec=0.912,rec=1.000,Spec=0.000,auroc_train=1.000,auroc=0.766\n",
      "\n",
      "Subj/Visit 3,prec=0.981,rec=0.963,Spec=0.000,auroc_train=1.000,auroc=0.815\n",
      "\n",
      "Subj/Visit 4,prec=0.889,rec=1.000,Spec=0.115,auroc_train=1.000,auroc=0.696\n",
      "\n",
      "Subj/Visit 5,prec=0.916,rec=1.000,Spec=0.000,auroc_train=1.000,auroc=0.770\n",
      "\n",
      "Subj/Visit 6,prec=0.971,rec=0.995,Spec=0.143,auroc_train=1.000,auroc=0.668\n",
      "f1_test=0.963+/-0.013, prec=0.937+/-0.032, rec=0.992+/-0.013, auprc=0.970+/-0.016, auroc=0.681+/-0.162\n",
      "Subject 1018\n",
      "Training Random Forest\n",
      "\n",
      "Subj/Visit 0,prec=0.578,rec=0.627,Spec=0.481,auroc_train=1.000,auroc=0.553\n",
      "\n",
      "Subj/Visit 1,prec=0.635,rec=0.690,Spec=0.549,auroc_train=1.000,auroc=0.673\n",
      "\n",
      "Subj/Visit 2,prec=0.576,rec=0.667,Spec=0.509,auroc_train=1.000,auroc=0.676\n",
      "\n",
      "Subj/Visit 3,prec=0.692,rec=0.655,Spec=0.636,auroc_train=1.000,auroc=0.696\n",
      "\n",
      "Subj/Visit 4,prec=0.804,rec=0.603,Spec=0.737,auroc_train=1.000,auroc=0.777\n",
      "\n",
      "Subj/Visit 5,prec=0.646,rec=0.785,Spec=0.481,auroc_train=1.000,auroc=0.700\n",
      "\n",
      "Subj/Visit 6,prec=0.591,rec=0.531,Spec=0.647,auroc_train=1.000,auroc=0.603\n",
      "f1_test=0.644+/-0.049, prec=0.646+/-0.075, rec=0.651+/-0.073, auprc=0.722+/-0.092, auroc=0.668+/-0.067\n",
      "Subject 1019\n",
      "Training Random Forest\n",
      "\n",
      "Subj/Visit 0,prec=0.179,rec=0.101,Spec=0.673,auroc_train=1.000,auroc=0.367\n",
      "\n",
      "Subj/Visit 1,prec=0.548,rec=0.378,Spec=0.860,auroc_train=1.000,auroc=0.759\n",
      "\n",
      "Subj/Visit 2,prec=0.429,rec=0.720,Spec=0.784,auroc_train=1.000,auroc=0.815\n",
      "\n",
      "Subj/Visit 3,prec=0.475,rec=0.268,Spec=0.747,auroc_train=1.000,auroc=0.563\n",
      "\n",
      "Subj/Visit 4,prec=0.739,rec=0.262,Spec=0.937,auroc_train=1.000,auroc=0.704\n",
      "\n",
      "Subj/Visit 5,prec=0.579,rec=0.431,Spec=0.843,auroc_train=1.000,auroc=0.683\n",
      "\n",
      "Subj/Visit 6,prec=0.690,rec=0.370,Spec=0.901,auroc_train=1.000,auroc=0.716\n",
      "f1_test=0.403+/-0.127, prec=0.520+/-0.172, rec=0.361+/-0.177, auprc=0.496+/-0.108, auroc=0.658+/-0.139\n",
      "Subject 1020\n",
      "Subject 1024\n",
      "Training Random Forest\n",
      "\n",
      "Subj/Visit 0,prec=1.000,rec=0.657,Spec=1.000,auroc_train=1.000,auroc=0.832\n",
      "\n",
      "Subj/Visit 1,prec=0.673,rec=0.733,Spec=0.667,auroc_train=1.000,auroc=0.756\n",
      "\n",
      "Subj/Visit 2,prec=0.452,rec=1.000,Spec=0.424,auroc_train=1.000,auroc=0.768\n",
      "\n",
      "Subj/Visit 3,prec=0.831,rec=0.730,Spec=0.476,auroc_train=1.000,auroc=0.623\n",
      "\n",
      "Subj/Visit 4,prec=0.500,rec=0.944,Spec=0.358,auroc_train=1.000,auroc=0.771\n",
      "\n",
      "Subj/Visit 5,prec=0.796,rec=0.782,Spec=0.703,auroc_train=1.000,auroc=0.811\n",
      "\n",
      "Subj/Visit 6,prec=0.662,rec=0.980,Spec=0.405,auroc_train=1.000,auroc=0.686\n",
      "f1_test=0.732+/-0.067, prec=0.702+/-0.177, rec=0.832+/-0.129, auprc=0.729+/-0.145, auroc=0.750+/-0.067\n",
      "Subject 1029\n",
      "Training Random Forest\n",
      "\n",
      "Subj/Visit 0,prec=0.949,rec=0.655,Spec=0.636,auroc_train=1.000,auroc=0.710\n",
      "\n",
      "Subj/Visit 1,prec=0.588,rec=0.870,Spec=0.421,auroc_train=1.000,auroc=0.715\n",
      "\n",
      "Subj/Visit 2,prec=0.465,rec=0.815,Spec=0.265,auroc_train=1.000,auroc=0.587\n",
      "\n",
      "Subj/Visit 3,prec=0.575,rec=0.792,Spec=0.436,auroc_train=1.000,auroc=0.710\n",
      "\n",
      "Subj/Visit 4,prec=0.653,rec=0.816,Spec=0.340,auroc_train=1.000,auroc=0.656\n",
      "\n",
      "Subj/Visit 5,prec=0.628,rec=0.907,Spec=0.431,auroc_train=1.000,auroc=0.703\n",
      "\n",
      "Subj/Visit 6,prec=0.837,rec=0.621,Spec=0.417,auroc_train=1.000,auroc=0.493\n",
      "f1_test=0.702+/-0.055, prec=0.671+/-0.154, rec=0.782+/-0.099, auprc=0.731+/-0.135, auroc=0.654+/-0.078\n",
      "Subject 1030\n",
      "Training Random Forest\n",
      "\n",
      "Subj/Visit 0,prec=0.816,rec=0.494,Spec=0.795,auroc_train=1.000,auroc=0.726\n",
      "\n",
      "Subj/Visit 1,prec=0.724,rec=0.627,Spec=0.692,auroc_train=1.000,auroc=0.701\n",
      "\n",
      "Subj/Visit 2,prec=0.469,rec=0.698,Spec=0.514,auroc_train=1.000,auroc=0.714\n",
      "\n",
      "Subj/Visit 3,prec=0.767,rec=0.730,Spec=0.702,auroc_train=1.000,auroc=0.764\n",
      "\n",
      "Subj/Visit 4,prec=0.651,rec=0.719,Spec=0.600,auroc_train=1.000,auroc=0.757\n",
      "\n",
      "Subj/Visit 5,prec=0.600,rec=0.789,Spec=0.649,auroc_train=1.000,auroc=0.780\n",
      "\n",
      "Subj/Visit 6,prec=0.340,rec=0.354,Spec=0.353,auroc_train=1.000,auroc=0.243\n",
      "f1_test=0.615+/-0.122, prec=0.624+/-0.157, rec=0.630+/-0.143, auprc=0.711+/-0.159, auroc=0.669+/-0.176\n",
      "Subject 1032\n",
      "Training Random Forest\n",
      "\n",
      "Subj/Visit 0,prec=0.993,rec=0.986,Spec=0.000,auroc_train=1.000,auroc=0.676\n",
      "\n",
      "Subj/Visit 1,prec=0.906,rec=1.000,Spec=0.000,auroc_train=1.000,auroc=0.549\n",
      "\n",
      "Subj/Visit 2,prec=0.829,rec=1.000,Spec=0.000,auroc_train=1.000,auroc=0.788\n",
      "\n",
      "Subj/Visit 3,prec=0.943,rec=0.971,Spec=0.000,auroc_train=1.000,auroc=0.581\n",
      "\n",
      "Subj/Visit 4,prec=0.922,rec=1.000,Spec=0.000,auroc_train=1.000,auroc=0.369\n",
      "\n",
      "Subj/Visit 5,prec=0.930,rec=0.930,Spec=0.000,auroc_train=1.000,auroc=0.448\n",
      "\n",
      "Subj/Visit 6,prec=0.771,rec=0.987,Spec=0.000,auroc_train=1.000,auroc=0.527\n",
      "f1_test=0.937+/-0.038, prec=0.899+/-0.069, rec=0.982+/-0.023, auprc=0.926+/-0.059, auroc=0.563+/-0.129\n",
      "Subject 1038\n",
      "Training Random Forest\n",
      "\n",
      "Subj/Visit 0,prec=0.350,rec=0.241,Spec=0.800,auroc_train=1.000,auroc=0.486\n",
      "\n",
      "Subj/Visit 1,prec=0.842,rec=0.333,Spec=0.954,auroc_train=1.000,auroc=0.689\n",
      "\n",
      "Subj/Visit 2,prec=0.933,rec=0.286,Spec=0.974,auroc_train=1.000,auroc=0.631\n",
      "\n",
      "Subj/Visit 3,prec=0.368,rec=0.467,Spec=0.842,auroc_train=1.000,auroc=0.821\n",
      "\n",
      "Subj/Visit 4,prec=0.545,rec=0.375,Spec=0.911,auroc_train=1.000,auroc=0.695\n",
      "\n",
      "Subj/Visit 5,prec=0.435,rec=0.323,Spec=0.797,auroc_train=1.000,auroc=0.697\n",
      "\n",
      "Subj/Visit 6,prec=0.000,rec=0.000,Spec=0.652,auroc_train=1.000,auroc=0.269\n",
      "f1_test=0.347+/-0.153, prec=0.496+/-0.293, rec=0.289+/-0.135, auprc=0.490+/-0.182, auroc=0.612+/-0.168\n",
      "Subject 1044\n",
      "Training Random Forest\n",
      "\n",
      "Subj/Visit 0,prec=0.647,rec=0.306,Spec=0.824,auroc_train=1.000,auroc=0.656\n",
      "\n",
      "Subj/Visit 1,prec=0.609,rec=0.636,Spec=0.836,auroc_train=1.000,auroc=0.714\n",
      "\n",
      "Subj/Visit 2,prec=0.692,rec=0.462,Spec=0.852,auroc_train=1.000,auroc=0.763\n",
      "\n",
      "Subj/Visit 3,prec=0.565,rec=0.232,Spec=0.811,auroc_train=1.000,auroc=0.525\n",
      "\n",
      "Subj/Visit 4,prec=0.438,rec=0.500,Spec=0.710,auroc_train=1.000,auroc=0.710\n",
      "\n",
      "Subj/Visit 5,prec=0.636,rec=0.519,Spec=0.800,auroc_train=1.000,auroc=0.688\n",
      "\n",
      "Subj/Visit 6,prec=0.424,rec=0.350,Spec=0.620,auroc_train=1.000,auroc=0.514\n",
      "f1_test=0.477+/-0.100, prec=0.573+/-0.097, rec=0.429+/-0.129, auprc=0.616+/-0.067, auroc=0.653+/-0.089\n",
      "Subject 1046\n",
      "Training Random Forest\n",
      "\n",
      "Subj/Visit 0,prec=0.515,rec=0.315,Spec=0.820,auroc_train=1.000,auroc=0.685\n",
      "\n",
      "Subj/Visit 1,prec=0.453,rec=0.471,Spec=0.752,auroc_train=1.000,auroc=0.644\n",
      "\n",
      "Subj/Visit 2,prec=0.558,rec=0.558,Spec=0.742,auroc_train=1.000,auroc=0.654\n",
      "\n",
      "Subj/Visit 3,prec=0.725,rec=0.537,Spec=0.872,auroc_train=1.000,auroc=0.774\n",
      "\n",
      "Subj/Visit 4,prec=0.667,rec=0.323,Spec=0.789,auroc_train=1.000,auroc=0.616\n",
      "\n",
      "Subj/Visit 5,prec=0.756,rec=0.365,Spec=0.890,auroc_train=1.000,auroc=0.634\n",
      "\n",
      "Subj/Visit 6,prec=0.630,rec=0.446,Spec=0.798,auroc_train=1.000,auroc=0.592\n",
      "f1_test=0.497+/-0.071, prec=0.615+/-0.103, rec=0.431+/-0.092, auprc=0.586+/-0.085, auroc=0.657+/-0.055\n",
      "Subject 1047\n",
      "Training Random Forest\n"
     ]
    },
    {
     "name": "stderr",
     "output_type": "stream",
     "text": [
      "C:\\Users\\nshawen\\AppData\\Local\\Continuum\\anaconda3\\lib\\site-packages\\sklearn\\metrics\\classification.py:1135: UndefinedMetricWarning: F-score is ill-defined and being set to 0.0 due to no predicted samples.\n",
      "  'precision', 'predicted', average, warn_for)\n",
      "C:\\Users\\nshawen\\AppData\\Local\\Continuum\\anaconda3\\lib\\site-packages\\sklearn\\metrics\\classification.py:1135: UndefinedMetricWarning: Precision is ill-defined and being set to 0.0 due to no predicted samples.\n",
      "  'precision', 'predicted', average, warn_for)\n"
     ]
    },
    {
     "name": "stdout",
     "output_type": "stream",
     "text": [
      "\n",
      "Subj/Visit 0,prec=0.000,rec=0.000,Spec=1.000,auroc_train=1.000,auroc=0.685\n",
      "only 1 class in test data - cannot compute roc curve\n",
      "\n",
      "Subj/Visit 1,prec=0.000,rec=0.000,Spec=0.954,auroc_train=1.000,auroc=nan\n"
     ]
    },
    {
     "name": "stderr",
     "output_type": "stream",
     "text": [
      "C:\\Users\\nshawen\\AppData\\Local\\Continuum\\anaconda3\\lib\\site-packages\\sklearn\\metrics\\classification.py:1137: UndefinedMetricWarning: F-score is ill-defined and being set to 0.0 due to no true samples.\n",
      "  'recall', 'true', average, warn_for)\n",
      "C:\\Users\\nshawen\\AppData\\Local\\Continuum\\anaconda3\\lib\\site-packages\\sklearn\\metrics\\ranking.py:444: RuntimeWarning: invalid value encountered in true_divide\n",
      "  recall = tps / tps[-1]\n",
      "C:\\Users\\nshawen\\AppData\\Local\\Continuum\\anaconda3\\lib\\site-packages\\sklearn\\metrics\\ranking.py:94: RuntimeWarning: invalid value encountered in less\n",
      "  if np.any(dx < 0):\n",
      "C:\\Users\\nshawen\\AppData\\Local\\Continuum\\anaconda3\\lib\\site-packages\\sklearn\\metrics\\classification.py:1137: UndefinedMetricWarning: Recall is ill-defined and being set to 0.0 due to no true samples.\n",
      "  'recall', 'true', average, warn_for)\n",
      "C:\\Users\\nshawen\\AppData\\Local\\Continuum\\anaconda3\\lib\\site-packages\\sklearn\\metrics\\classification.py:1137: UndefinedMetricWarning: F-score is ill-defined and being set to 0.0 due to no true samples.\n",
      "  'recall', 'true', average, warn_for)\n",
      "C:\\Users\\nshawen\\AppData\\Local\\Continuum\\anaconda3\\lib\\site-packages\\sklearn\\metrics\\ranking.py:444: RuntimeWarning: invalid value encountered in true_divide\n",
      "  recall = tps / tps[-1]\n",
      "C:\\Users\\nshawen\\AppData\\Local\\Continuum\\anaconda3\\lib\\site-packages\\sklearn\\metrics\\ranking.py:94: RuntimeWarning: invalid value encountered in less\n",
      "  if np.any(dx < 0):\n",
      "C:\\Users\\nshawen\\AppData\\Local\\Continuum\\anaconda3\\lib\\site-packages\\sklearn\\metrics\\classification.py:1137: UndefinedMetricWarning: Recall is ill-defined and being set to 0.0 due to no true samples.\n",
      "  'recall', 'true', average, warn_for)\n"
     ]
    },
    {
     "name": "stdout",
     "output_type": "stream",
     "text": [
      "only 1 class in test data - cannot compute roc curve\n",
      "\n",
      "Subj/Visit 2,prec=0.000,rec=0.000,Spec=0.980,auroc_train=1.000,auroc=nan\n",
      "\n",
      "Subj/Visit 3,prec=0.000,rec=0.000,Spec=1.000,auroc_train=1.000,auroc=0.599\n"
     ]
    },
    {
     "name": "stderr",
     "output_type": "stream",
     "text": [
      "C:\\Users\\nshawen\\AppData\\Local\\Continuum\\anaconda3\\lib\\site-packages\\sklearn\\metrics\\classification.py:1135: UndefinedMetricWarning: F-score is ill-defined and being set to 0.0 due to no predicted samples.\n",
      "  'precision', 'predicted', average, warn_for)\n",
      "C:\\Users\\nshawen\\AppData\\Local\\Continuum\\anaconda3\\lib\\site-packages\\sklearn\\metrics\\classification.py:1135: UndefinedMetricWarning: Precision is ill-defined and being set to 0.0 due to no predicted samples.\n",
      "  'precision', 'predicted', average, warn_for)\n",
      "C:\\Users\\nshawen\\AppData\\Local\\Continuum\\anaconda3\\lib\\site-packages\\sklearn\\metrics\\classification.py:1137: UndefinedMetricWarning: F-score is ill-defined and being set to 0.0 due to no true samples.\n",
      "  'recall', 'true', average, warn_for)\n",
      "C:\\Users\\nshawen\\AppData\\Local\\Continuum\\anaconda3\\lib\\site-packages\\sklearn\\metrics\\ranking.py:444: RuntimeWarning: invalid value encountered in true_divide\n",
      "  recall = tps / tps[-1]\n",
      "C:\\Users\\nshawen\\AppData\\Local\\Continuum\\anaconda3\\lib\\site-packages\\sklearn\\metrics\\ranking.py:94: RuntimeWarning: invalid value encountered in less\n",
      "  if np.any(dx < 0):\n",
      "C:\\Users\\nshawen\\AppData\\Local\\Continuum\\anaconda3\\lib\\site-packages\\sklearn\\metrics\\classification.py:1137: UndefinedMetricWarning: Recall is ill-defined and being set to 0.0 due to no true samples.\n",
      "  'recall', 'true', average, warn_for)\n",
      "C:\\Users\\nshawen\\AppData\\Local\\Continuum\\anaconda3\\lib\\site-packages\\sklearn\\metrics\\ranking.py:444: RuntimeWarning: invalid value encountered in true_divide\n",
      "  recall = tps / tps[-1]\n",
      "C:\\Users\\nshawen\\AppData\\Local\\Continuum\\anaconda3\\lib\\site-packages\\sklearn\\metrics\\ranking.py:94: RuntimeWarning: invalid value encountered in less\n",
      "  if np.any(dx < 0):\n"
     ]
    },
    {
     "name": "stdout",
     "output_type": "stream",
     "text": [
      "only 1 class in test data - cannot compute roc curve\n",
      "\n",
      "Subj/Visit 4,prec=0.000,rec=0.000,Spec=0.971,auroc_train=1.000,auroc=nan\n",
      "only 1 class in test data - cannot compute roc curve\n",
      "\n",
      "Subj/Visit 5,prec=0.000,rec=0.000,Spec=1.000,auroc_train=1.000,auroc=nan\n",
      "f1_test=0.000+/-0.000, prec=0.000+/-0.000, rec=0.000+/-0.000, auprc=0.464+/-0.010, auroc=0.642+/-0.043\n",
      "Subject 1049\n",
      "Training Random Forest\n",
      "\n",
      "Subj/Visit 0,prec=0.239,rec=0.423,Spec=0.402,auroc_train=1.000,auroc=0.406\n",
      "\n",
      "Subj/Visit 1,prec=0.906,rec=0.707,Spec=0.500,auroc_train=1.000,auroc=0.680\n",
      "\n",
      "Subj/Visit 2,prec=0.857,rec=0.387,Spec=0.333,auroc_train=1.000,auroc=0.367\n",
      "\n",
      "Subj/Visit 3,prec=0.424,rec=0.622,Spec=0.604,auroc_train=1.000,auroc=0.707\n",
      "\n",
      "Subj/Visit 4,prec=0.585,rec=0.544,Spec=0.758,auroc_train=1.000,auroc=0.706\n",
      "\n",
      "Subj/Visit 5,prec=0.711,rec=0.651,Spec=0.728,auroc_train=1.000,auroc=0.783\n",
      "\n",
      "Subj/Visit 6,prec=0.513,rec=0.513,Spec=0.565,auroc_train=1.000,auroc=0.533\n",
      "f1_test=0.556+/-0.141, prec=0.605+/-0.221, rec=0.550+/-0.110, auprc=0.614+/-0.234, auroc=0.598+/-0.151\n",
      "Subject 1051\n",
      "Training Random Forest\n",
      "\n",
      "Subj/Visit 0,prec=0.765,rec=0.342,Spec=0.929,auroc_train=1.000,auroc=0.649\n"
     ]
    },
    {
     "name": "stderr",
     "output_type": "stream",
     "text": [
      "C:\\Users\\nshawen\\AppData\\Local\\Continuum\\anaconda3\\lib\\site-packages\\sklearn\\metrics\\classification.py:1135: UndefinedMetricWarning: F-score is ill-defined and being set to 0.0 due to no predicted samples.\n",
      "  'precision', 'predicted', average, warn_for)\n",
      "C:\\Users\\nshawen\\AppData\\Local\\Continuum\\anaconda3\\lib\\site-packages\\sklearn\\metrics\\classification.py:1135: UndefinedMetricWarning: Precision is ill-defined and being set to 0.0 due to no predicted samples.\n",
      "  'precision', 'predicted', average, warn_for)\n"
     ]
    },
    {
     "name": "stdout",
     "output_type": "stream",
     "text": [
      "\n",
      "Subj/Visit 1,prec=0.000,rec=0.000,Spec=1.000,auroc_train=1.000,auroc=0.253\n"
     ]
    },
    {
     "name": "stderr",
     "output_type": "stream",
     "text": [
      "C:\\Users\\nshawen\\AppData\\Local\\Continuum\\anaconda3\\lib\\site-packages\\sklearn\\metrics\\classification.py:1135: UndefinedMetricWarning: F-score is ill-defined and being set to 0.0 due to no predicted samples.\n",
      "  'precision', 'predicted', average, warn_for)\n",
      "C:\\Users\\nshawen\\AppData\\Local\\Continuum\\anaconda3\\lib\\site-packages\\sklearn\\metrics\\classification.py:1135: UndefinedMetricWarning: Precision is ill-defined and being set to 0.0 due to no predicted samples.\n",
      "  'precision', 'predicted', average, warn_for)\n"
     ]
    },
    {
     "name": "stdout",
     "output_type": "stream",
     "text": [
      "\n",
      "Subj/Visit 2,prec=0.000,rec=0.000,Spec=1.000,auroc_train=1.000,auroc=0.765\n",
      "\n",
      "Subj/Visit 3,prec=1.000,rec=0.268,Spec=1.000,auroc_train=1.000,auroc=0.719\n",
      "\n",
      "Subj/Visit 4,prec=0.000,rec=0.000,Spec=0.927,auroc_train=1.000,auroc=0.606\n",
      "\n",
      "Subj/Visit 5,prec=0.000,rec=0.000,Spec=0.989,auroc_train=1.000,auroc=0.554\n"
     ]
    },
    {
     "name": "stderr",
     "output_type": "stream",
     "text": [
      "C:\\Users\\nshawen\\AppData\\Local\\Continuum\\anaconda3\\lib\\site-packages\\sklearn\\metrics\\classification.py:1135: UndefinedMetricWarning: F-score is ill-defined and being set to 0.0 due to no predicted samples.\n",
      "  'precision', 'predicted', average, warn_for)\n",
      "C:\\Users\\nshawen\\AppData\\Local\\Continuum\\anaconda3\\lib\\site-packages\\sklearn\\metrics\\classification.py:1135: UndefinedMetricWarning: Precision is ill-defined and being set to 0.0 due to no predicted samples.\n",
      "  'precision', 'predicted', average, warn_for)\n"
     ]
    },
    {
     "name": "stdout",
     "output_type": "stream",
     "text": [
      "\n",
      "Subj/Visit 6,prec=0.000,rec=0.000,Spec=1.000,auroc_train=1.000,auroc=0.699\n",
      "f1_test=0.128+/-0.203, prec=0.252+/-0.404, rec=0.087+/-0.139, auprc=0.264+/-0.262, auroc=0.606+/-0.159\n",
      "Subject 1052\n",
      "Training Random Forest\n",
      "\n",
      "Subj/Visit 0,prec=0.850,rec=0.555,Spec=0.514,auroc_train=1.000,auroc=0.572\n",
      "\n",
      "Subj/Visit 1,prec=0.704,rec=0.871,Spec=0.528,auroc_train=1.000,auroc=0.769\n",
      "\n",
      "Subj/Visit 2,prec=0.432,rec=0.964,Spec=0.253,auroc_train=1.000,auroc=0.676\n",
      "\n",
      "Subj/Visit 3,prec=0.843,rec=0.719,Spec=0.591,auroc_train=1.000,auroc=0.698\n",
      "\n",
      "Subj/Visit 4,prec=0.492,rec=0.924,Spec=0.232,auroc_train=1.000,auroc=0.669\n",
      "\n",
      "Subj/Visit 5,prec=0.675,rec=0.817,Spec=0.369,auroc_train=1.000,auroc=0.691\n",
      "f1_test=0.701+/-0.069, prec=0.666+/-0.159, rec=0.808+/-0.138, auprc=0.735+/-0.140, auroc=0.679+/-0.058\n",
      "Subject 1053\n",
      "Training Random Forest\n",
      "\n",
      "Subj/Visit 0,prec=0.947,rec=0.281,Spec=0.985,auroc_train=1.000,auroc=0.730\n",
      "\n",
      "Subj/Visit 1,prec=0.643,rec=0.692,Spec=0.948,auroc_train=1.000,auroc=0.975\n",
      "\n",
      "Subj/Visit 2,prec=0.440,rec=0.917,Spec=0.863,auroc_train=1.000,auroc=0.966\n",
      "\n",
      "Subj/Visit 3,prec=0.933,rec=0.304,Spec=0.986,auroc_train=1.000,auroc=0.742\n",
      "\n",
      "Subj/Visit 4,prec=0.545,rec=1.000,Spec=0.914,auroc_train=1.000,auroc=0.994\n",
      "\n",
      "Subj/Visit 5,prec=0.917,rec=0.393,Spec=0.988,auroc_train=1.000,auroc=0.817\n",
      "f1_test=0.568+/-0.100, prec=0.738+/-0.204, rec=0.598+/-0.289, auprc=0.814+/-0.088, auroc=0.871+/-0.111\n",
      "Subject 1054\n",
      "Training Random Forest\n",
      "\n",
      "Subj/Visit 0,prec=0.933,rec=0.286,Spec=0.727,auroc_train=1.000,auroc=0.605\n",
      "\n",
      "Subj/Visit 1,prec=0.284,rec=0.658,Spec=0.500,auroc_train=1.000,auroc=0.630\n",
      "\n",
      "Subj/Visit 2,prec=0.367,rec=0.562,Spec=0.640,auroc_train=1.000,auroc=0.628\n",
      "\n",
      "Subj/Visit 3,prec=0.923,rec=0.263,Spec=0.842,auroc_train=1.000,auroc=0.568\n",
      "\n",
      "Subj/Visit 4,prec=0.273,rec=0.480,Spec=0.333,auroc_train=1.000,auroc=0.434\n",
      "\n",
      "Subj/Visit 5,prec=0.265,rec=0.844,Spec=0.453,auroc_train=1.000,auroc=0.711\n",
      "f1_test=0.406+/-0.032, prec=0.508+/-0.299, rec=0.515+/-0.203, auprc=0.524+/-0.289, auroc=0.596+/-0.084\n",
      "Subject 1055\n",
      "Training Random Forest\n",
      "\n",
      "Subj/Visit 0,prec=0.667,rec=0.179,Spec=0.684,auroc_train=1.000,auroc=0.524\n",
      "\n",
      "Subj/Visit 1,prec=0.457,rec=1.000,Spec=0.716,auroc_train=1.000,auroc=0.937\n",
      "\n",
      "Subj/Visit 2,prec=0.340,rec=0.516,Spec=0.617,auroc_train=1.000,auroc=0.591\n",
      "\n",
      "Subj/Visit 3,prec=0.760,rec=0.380,Spec=0.800,auroc_train=1.000,auroc=0.687\n",
      "\n",
      "Subj/Visit 4,prec=0.688,rec=0.344,Spec=0.875,auroc_train=1.000,auroc=0.695\n",
      "\n",
      "Subj/Visit 5,prec=0.161,rec=0.357,Spec=0.618,auroc_train=1.000,auroc=0.502\n",
      "f1_test=0.418+/-0.135, prec=0.512+/-0.213, rec=0.463+/-0.260, auprc=0.577+/-0.228, auroc=0.656+/-0.145\n",
      "Subject 1056\n",
      "Training Random Forest\n",
      "\n",
      "Subj/Visit 0,prec=0.745,rec=0.921,Spec=0.143,auroc_train=1.000,auroc=0.458\n",
      "\n",
      "Subj/Visit 1,prec=0.758,rec=1.000,Spec=0.000,auroc_train=1.000,auroc=0.578\n",
      "\n",
      "Subj/Visit 2,prec=0.576,rec=1.000,Spec=0.000,auroc_train=1.000,auroc=0.543\n",
      "\n",
      "Subj/Visit 3,prec=0.911,rec=0.989,Spec=0.000,auroc_train=1.000,auroc=0.510\n",
      "only 1 class in test data - cannot compute roc curve\n",
      "\n",
      "Subj/Visit 4,prec=1.000,rec=0.981,Spec=nan,auroc_train=1.000,auroc=nan\n"
     ]
    },
    {
     "name": "stderr",
     "output_type": "stream",
     "text": [
      "C:\\Users\\nshawen\\AppData\\Local\\Continuum\\anaconda3\\lib\\site-packages\\ipykernel_launcher.py:51: RuntimeWarning: invalid value encountered in long_scalars\n"
     ]
    },
    {
     "name": "stdout",
     "output_type": "stream",
     "text": [
      "\n",
      "Subj/Visit 5,prec=0.875,rec=1.000,Spec=0.000,auroc_train=1.000,auroc=0.470\n",
      "f1_test=0.881+/-0.087, prec=0.811+/-0.137, rec=0.982+/-0.028, auprc=0.820+/-0.126, auroc=0.512+/-0.045\n"
     ]
    }
   ],
   "source": [
    "#LOVO EMG Bradykinesia\n",
    "\n",
    "symptom = 'Bradykinesia'\n",
    "le = LabelEncoder()\n",
    "res_all = pd.DataFrame(data=None,index=None)\n",
    "#train on all sessions, predict on left out session for each patient\n",
    "res_visit_all = [] #data from each subject \n",
    "\n",
    "#remove nan rows for current symptom\n",
    "Data = Datafull.copy() #original unmodified dataframe\n",
    "Data=Data[~Data[symptom].isnull()]\n",
    "Data=Data.reset_index(drop=True) #reset index\n",
    "\n",
    "for s in Data.Subject.unique():\n",
    "    print('Subject %s'%s)\n",
    "    ds = Data.loc[Data.Subject==s]\n",
    "    indp = (ds[symptom]>0).values\n",
    "    y = indp.astype(int) #target \n",
    "    X = ds.iloc[:,6:94]\n",
    "    X_std = StandardScaler().fit_transform(X) #standardize input data\n",
    "    models = [RandomForestClassifier(n_estimators=50,random_state=2)]#,XGBClassifier()]\n",
    "    model_name = ['Random Forest']#,'XGB']\n",
    "    models = list(zip(models,model_name))\n",
    "    groups = le.fit_transform(ds.Visit)\n",
    "    if len(np.unique(groups))<2:\n",
    "        continue\n",
    "    res,res_group = LOSOCV(ds,X_std,y,groups,models)\n",
    "    res.index = res.index+s\n",
    "    res_all=pd.concat((res_all,res))\n",
    "    res_visit_all.append(res_group)"
   ]
  },
  {
   "cell_type": "code",
   "execution_count": 31,
   "metadata": {},
   "outputs": [
    {
     "data": {
      "image/png": "[encoded data removed]",
      "text/plain": [
       "<matplotlib.figure.Figure at 0x1ab147f0>"
      ]
     },
     "metadata": {},
     "output_type": "display_data"
    }
   ],
   "source": [
    "results = res_all.auroc.values\n",
    "np.save('Results/resultsBradykinesiaLOVOEMG.npy',results)\n",
    "\n",
    "#compute mean and std auc\n",
    "subjs=Data.Subject.unique()\n",
    "auc_mean = []; auc_std = []\n",
    "aucdf = pd.DataFrame()\n",
    "for i in range(len(res_visit_all)):\n",
    "\n",
    "    if len(res_visit_all[i]['Random Forest']['auroc']) < 7:\n",
    "        L = len(res_visit_all[i]['Random Forest']['auroc'])\n",
    "        res_visit_all[i]['Random Forest']['auroc'] += (list(np.nan*np.ones(7-L)))\n",
    "    aucdf[subjs[i]] = res_visit_all[i]['Random Forest']['auroc']   \n",
    "    brady_auc = res_visit_all[i]['Random Forest']['auroc']\n",
    "    auc_mean.append(np.nanmean(brady_auc)) #mean across visits\n",
    "    auc_std.append(np.nanstd(brady_auc))\n",
    "    \n",
    "sns.barplot(data=aucdf)\n",
    "ax=plt.xticks(rotation=90)\n",
    "plt.title('LOVO EMG - Mean AUROC = %.3f +/- %.3f'%(np.nanmean(res_all.auroc),np.nanstd(res_all.auroc)))\n",
    "plt.ylim([0.3,1.0])\n",
    "\n",
    "plt.savefig('Results/resultsBradykinesiaLOVOEMG.png',format='png',dpi=1000)"
   ]
  },
  {
   "cell_type": "code",
   "execution_count": 32,
   "metadata": {
    "scrolled": true
   },
   "outputs": [
    {
     "name": "stdout",
     "output_type": "stream",
     "text": [
      "Subject 1004\n",
      "Training Random Forest\n",
      "\n",
      "Subj/Visit 0,prec=0.846,rec=0.530,Spec=0.467,auroc_train=1.000,auroc=0.460\n",
      "\n",
      "Subj/Visit 1,prec=0.222,rec=0.182,Spec=0.839,auroc_train=1.000,auroc=0.513\n",
      "\n",
      "Subj/Visit 2,prec=0.615,rec=0.889,Spec=0.934,auroc_train=1.000,auroc=0.958\n",
      "\n",
      "Subj/Visit 3,prec=0.897,rec=0.650,Spec=0.943,auroc_train=1.000,auroc=0.902\n",
      "\n",
      "Subj/Visit 4,prec=0.500,rec=0.688,Spec=0.838,auroc_train=1.000,auroc=0.830\n",
      "\n",
      "Subj/Visit 5,prec=0.760,rec=0.679,Spec=0.918,auroc_train=1.000,auroc=0.885\n",
      "\n",
      "Subj/Visit 6,prec=0.536,rec=0.484,Spec=0.794,auroc_train=1.000,auroc=0.758\n",
      "f1_test=0.591+/-0.179, prec=0.625+/-0.216, rec=0.586+/-0.204, auprc=0.623+/-0.228, auroc=0.758+/-0.182\n",
      "Subject 1016\n",
      "Training Random Forest\n",
      "\n",
      "Subj/Visit 0,prec=0.985,rec=0.970,Spec=0.625,auroc_train=1.000,auroc=0.960\n",
      "\n",
      "Subj/Visit 1,prec=0.990,rec=1.000,Spec=0.867,auroc_train=1.000,auroc=0.985\n",
      "\n",
      "Subj/Visit 2,prec=0.965,rec=0.990,Spec=0.632,auroc_train=1.000,auroc=0.982\n",
      "\n",
      "Subj/Visit 3,prec=1.000,rec=0.958,Spec=1.000,auroc_train=1.000,auroc=0.963\n",
      "\n",
      "Subj/Visit 4,prec=0.920,rec=1.000,Spec=0.385,auroc_train=1.000,auroc=0.760\n",
      "\n",
      "Subj/Visit 5,prec=0.981,rec=0.981,Spec=0.789,auroc_train=1.000,auroc=0.988\n",
      "\n",
      "Subj/Visit 6,prec=0.995,rec=0.980,Spec=0.857,auroc_train=1.000,auroc=0.995\n",
      "f1_test=0.979+/-0.010, prec=0.977+/-0.025, rec=0.983+/-0.014, auprc=0.994+/-0.012, auroc=0.947+/-0.078\n",
      "Subject 1018\n",
      "Training Random Forest\n",
      "\n",
      "Subj/Visit 0,prec=0.611,rec=0.746,Spec=0.462,auroc_train=1.000,auroc=0.631\n",
      "\n",
      "Subj/Visit 1,prec=0.844,rec=0.931,Spec=0.804,auroc_train=1.000,auroc=0.924\n",
      "\n",
      "Subj/Visit 2,prec=0.833,rec=0.789,Spec=0.842,auroc_train=1.000,auroc=0.898\n",
      "\n",
      "Subj/Visit 3,prec=1.000,rec=0.945,Spec=1.000,auroc_train=1.000,auroc=0.985\n",
      "\n",
      "Subj/Visit 4,prec=0.864,rec=0.838,Spec=0.763,auroc_train=1.000,auroc=0.904\n",
      "\n",
      "Subj/Visit 5,prec=0.771,rec=0.831,Spec=0.704,auroc_train=1.000,auroc=0.898\n",
      "\n",
      "Subj/Visit 6,prec=0.559,rec=0.673,Spec=0.490,auroc_train=1.000,auroc=0.631\n",
      "f1_test=0.800+/-0.114, prec=0.783+/-0.141, rec=0.822+/-0.090, auprc=0.845+/-0.149, auroc=0.839+/-0.134\n",
      "Subject 1019\n",
      "Training Random Forest\n",
      "\n",
      "Subj/Visit 0,prec=0.696,rec=0.232,Spec=0.929,auroc_train=1.000,auroc=0.718\n",
      "\n",
      "Subj/Visit 1,prec=0.923,rec=0.800,Spec=0.970,auroc_train=1.000,auroc=0.984\n",
      "\n",
      "Subj/Visit 2,prec=0.556,rec=1.000,Spec=0.820,auroc_train=1.000,auroc=0.973\n",
      "\n",
      "Subj/Visit 3,prec=0.875,rec=0.493,Spec=0.940,auroc_train=1.000,auroc=0.811\n",
      "\n",
      "Subj/Visit 4,prec=1.000,rec=0.631,Spec=1.000,auroc_train=1.000,auroc=0.875\n",
      "\n",
      "Subj/Visit 5,prec=0.896,rec=0.843,Spec=0.951,auroc_train=1.000,auroc=0.978\n",
      "\n",
      "Subj/Visit 6,prec=0.875,rec=0.778,Spec=0.934,auroc_train=1.000,auroc=0.924\n",
      "f1_test=0.717+/-0.169, prec=0.831+/-0.141, rec=0.682+/-0.236, auprc=0.873+/-0.099, auroc=0.895+/-0.093\n",
      "Subject 1020\n",
      "Subject 1024\n",
      "Training Random Forest\n",
      "\n",
      "Subj/Visit 0,prec=0.938,rec=0.758,Spec=0.444,auroc_train=1.000,auroc=0.667\n",
      "\n",
      "Subj/Visit 1,prec=0.706,rec=0.800,Spec=0.688,auroc_train=1.000,auroc=0.823\n",
      "\n",
      "Subj/Visit 2,prec=0.520,rec=0.929,Spec=0.593,auroc_train=1.000,auroc=0.846\n",
      "\n",
      "Subj/Visit 3,prec=0.763,rec=0.784,Spec=0.143,auroc_train=1.000,auroc=0.382\n",
      "\n",
      "Subj/Visit 4,prec=0.694,rec=0.944,Spec=0.717,auroc_train=1.000,auroc=0.889\n",
      "\n",
      "Subj/Visit 5,prec=0.886,rec=0.709,Spec=0.865,auroc_train=1.000,auroc=0.896\n",
      "\n",
      "Subj/Visit 6,prec=0.520,rec=0.520,Spec=0.429,auroc_train=1.000,auroc=0.455\n",
      "f1_test=0.734+/-0.100, prec=0.718+/-0.150, rec=0.778+/-0.132, auprc=0.755+/-0.136, auroc=0.708+/-0.197\n",
      "Subject 1029\n",
      "Training Random Forest\n",
      "\n",
      "Subj/Visit 0,prec=0.988,rec=0.726,Spec=0.909,auroc_train=1.000,auroc=0.926\n",
      "\n",
      "Subj/Visit 1,prec=0.662,rec=0.870,Spec=0.579,auroc_train=1.000,auroc=0.848\n",
      "\n",
      "Subj/Visit 2,prec=0.544,rec=0.754,Spec=0.506,auroc_train=1.000,auroc=0.666\n",
      "\n",
      "Subj/Visit 3,prec=0.580,rec=0.755,Spec=0.473,auroc_train=1.000,auroc=0.609\n",
      "\n",
      "Subj/Visit 4,prec=0.820,rec=0.961,Spec=0.680,auroc_train=1.000,auroc=0.896\n",
      "\n",
      "Subj/Visit 5,prec=0.671,rec=0.944,Spec=0.510,auroc_train=1.000,auroc=0.884\n",
      "\n",
      "Subj/Visit 6,prec=0.889,rec=0.621,Spec=0.625,auroc_train=1.000,auroc=0.759\n",
      "f1_test=0.754+/-0.084, prec=0.736+/-0.153, rec=0.804+/-0.115, auprc=0.811+/-0.168, auroc=0.798+/-0.114\n",
      "Subject 1030\n",
      "Training Random Forest\n",
      "\n",
      "Subj/Visit 0,prec=0.907,rec=0.840,Spec=0.841,auroc_train=1.000,auroc=0.950\n",
      "\n",
      "Subj/Visit 1,prec=0.864,rec=0.851,Spec=0.827,auroc_train=1.000,auroc=0.934\n",
      "\n",
      "Subj/Visit 2,prec=0.667,rec=0.884,Spec=0.729,auroc_train=1.000,auroc=0.898\n",
      "\n",
      "Subj/Visit 3,prec=0.883,rec=0.841,Spec=0.851,auroc_train=1.000,auroc=0.948\n",
      "\n",
      "Subj/Visit 4,prec=0.779,rec=0.930,Spec=0.727,auroc_train=1.000,auroc=0.957\n",
      "\n",
      "Subj/Visit 5,prec=0.694,rec=0.895,Spec=0.737,auroc_train=1.000,auroc=0.871\n",
      "\n",
      "Subj/Visit 6,prec=0.870,rec=0.979,Spec=0.863,auroc_train=1.000,auroc=0.966\n",
      "f1_test=0.843+/-0.051, prec=0.809+/-0.090, rec=0.888+/-0.048, auprc=0.921+/-0.065, auroc=0.932+/-0.032\n",
      "Subject 1032\n",
      "Training Random Forest\n",
      "\n",
      "Subj/Visit 0,prec=1.000,rec=0.986,Spec=1.000,auroc_train=1.000,auroc=1.000\n",
      "\n",
      "Subj/Visit 1,prec=0.927,rec=0.983,Spec=0.250,auroc_train=1.000,auroc=0.890\n",
      "\n",
      "Subj/Visit 2,prec=0.846,rec=0.991,Spec=0.125,auroc_train=1.000,auroc=0.686\n",
      "\n",
      "Subj/Visit 3,prec=0.986,rec=0.993,Spec=0.750,auroc_train=1.000,auroc=0.959\n",
      "\n",
      "Subj/Visit 4,prec=0.915,rec=0.907,Spec=0.000,auroc_train=1.000,auroc=0.728\n",
      "\n",
      "Subj/Visit 5,prec=0.942,rec=0.983,Spec=0.125,auroc_train=1.000,auroc=0.643\n",
      "\n",
      "Subj/Visit 6,prec=0.775,rec=0.920,Spec=0.091,auroc_train=1.000,auroc=0.613\n",
      "f1_test=0.937+/-0.049, prec=0.913+/-0.073, rec=0.966+/-0.034, auprc=0.954+/-0.049, auroc=0.788+/-0.147\n",
      "Subject 1038\n",
      "Training Random Forest\n",
      "\n",
      "Subj/Visit 0,prec=0.692,rec=0.310,Spec=0.938,auroc_train=1.000,auroc=0.805\n",
      "\n",
      "Subj/Visit 1,prec=0.941,rec=0.667,Spec=0.969,auroc_train=1.000,auroc=0.875\n",
      "\n",
      "Subj/Visit 2,prec=1.000,rec=0.633,Spec=1.000,auroc_train=1.000,auroc=0.932\n",
      "\n",
      "Subj/Visit 3,prec=0.357,rec=0.333,Spec=0.882,auroc_train=1.000,auroc=0.865\n",
      "\n",
      "Subj/Visit 4,prec=0.824,rec=0.875,Spec=0.946,auroc_train=1.000,auroc=0.946\n",
      "\n",
      "Subj/Visit 5,prec=0.957,rec=0.710,Spec=0.984,auroc_train=1.000,auroc=0.939\n",
      "\n",
      "Subj/Visit 6,prec=0.050,rec=0.043,Spec=0.725,auroc_train=1.000,auroc=0.262\n",
      "f1_test=0.577+/-0.285, prec=0.689+/-0.331, rec=0.510+/-0.268, auprc=0.707+/-0.267, auroc=0.804+/-0.226\n",
      "Subject 1044\n",
      "Training Random Forest\n",
      "\n",
      "Subj/Visit 0,prec=0.889,rec=0.889,Spec=0.882,auroc_train=1.000,auroc=0.926\n",
      "\n",
      "Subj/Visit 1,prec=0.810,rec=0.773,Spec=0.927,auroc_train=1.000,auroc=0.903\n",
      "\n",
      "Subj/Visit 2,prec=0.871,rec=0.692,Spec=0.926,auroc_train=1.000,auroc=0.880\n",
      "\n",
      "Subj/Visit 3,prec=0.871,rec=0.482,Spec=0.925,auroc_train=1.000,auroc=0.874\n",
      "\n",
      "Subj/Visit 4,prec=0.800,rec=0.714,Spec=0.919,auroc_train=1.000,auroc=0.939\n",
      "\n",
      "Subj/Visit 5,prec=0.800,rec=0.889,Spec=0.850,auroc_train=1.000,auroc=0.944\n",
      "\n",
      "Subj/Visit 6,prec=0.929,rec=0.650,Spec=0.960,auroc_train=1.000,auroc=0.907\n",
      "f1_test=0.776+/-0.078, prec=0.853+/-0.047, rec=0.727+/-0.132, auprc=0.889+/-0.040, auroc=0.911+/-0.025\n",
      "Subject 1046\n",
      "Training Random Forest\n",
      "\n",
      "Subj/Visit 0,prec=0.833,rec=0.648,Spec=0.921,auroc_train=1.000,auroc=0.896\n",
      "\n",
      "Subj/Visit 1,prec=0.725,rec=0.980,Spec=0.838,auroc_train=1.000,auroc=0.973\n",
      "\n",
      "Subj/Visit 2,prec=0.843,rec=0.827,Spec=0.910,auroc_train=1.000,auroc=0.970\n",
      "\n",
      "Subj/Visit 3,prec=0.886,rec=0.722,Spec=0.942,auroc_train=1.000,auroc=0.871\n",
      "\n",
      "Subj/Visit 4,prec=0.945,rec=0.742,Spec=0.944,auroc_train=1.000,auroc=0.939\n",
      "\n",
      "Subj/Visit 5,prec=0.800,rec=0.706,Spec=0.835,auroc_train=1.000,auroc=0.857\n",
      "\n",
      "Subj/Visit 6,prec=0.863,rec=0.677,Spec=0.917,auroc_train=1.000,auroc=0.882\n",
      "f1_test=0.790+/-0.041, prec=0.842+/-0.064, rec=0.757+/-0.105, auprc=0.899+/-0.047, auroc=0.913+/-0.044\n",
      "Subject 1047\n",
      "Training Random Forest\n",
      "\n",
      "Subj/Visit 0,prec=1.000,rec=0.394,Spec=1.000,auroc_train=1.000,auroc=0.898\n"
     ]
    },
    {
     "name": "stderr",
     "output_type": "stream",
     "text": [
      "C:\\Users\\nshawen\\AppData\\Local\\Continuum\\anaconda3\\lib\\site-packages\\sklearn\\metrics\\ranking.py:444: RuntimeWarning: invalid value encountered in true_divide\n",
      "  recall = tps / tps[-1]\n",
      "C:\\Users\\nshawen\\AppData\\Local\\Continuum\\anaconda3\\lib\\site-packages\\sklearn\\metrics\\ranking.py:94: RuntimeWarning: invalid value encountered in less\n",
      "  if np.any(dx < 0):\n",
      "C:\\Users\\nshawen\\AppData\\Local\\Continuum\\anaconda3\\lib\\site-packages\\sklearn\\metrics\\ranking.py:444: RuntimeWarning: invalid value encountered in true_divide\n",
      "  recall = tps / tps[-1]\n",
      "C:\\Users\\nshawen\\AppData\\Local\\Continuum\\anaconda3\\lib\\site-packages\\sklearn\\metrics\\ranking.py:94: RuntimeWarning: invalid value encountered in less\n",
      "  if np.any(dx < 0):\n"
     ]
    },
    {
     "name": "stdout",
     "output_type": "stream",
     "text": [
      "only 1 class in test data - cannot compute roc curve\n",
      "\n",
      "Subj/Visit 1,prec=0.000,rec=0.000,Spec=1.000,auroc_train=1.000,auroc=nan\n",
      "only 1 class in test data - cannot compute roc curve\n",
      "\n",
      "Subj/Visit 2,prec=0.000,rec=0.000,Spec=1.000,auroc_train=1.000,auroc=nan\n",
      "\n",
      "Subj/Visit 3,prec=1.000,rec=0.375,Spec=1.000,auroc_train=1.000,auroc=0.905\n",
      "only 1 class in test data - cannot compute roc curve\n",
      "\n",
      "Subj/Visit 4,prec=0.000,rec=0.000,Spec=1.000,auroc_train=1.000,auroc=nan\n"
     ]
    },
    {
     "name": "stderr",
     "output_type": "stream",
     "text": [
      "C:\\Users\\nshawen\\AppData\\Local\\Continuum\\anaconda3\\lib\\site-packages\\sklearn\\metrics\\ranking.py:444: RuntimeWarning: invalid value encountered in true_divide\n",
      "  recall = tps / tps[-1]\n",
      "C:\\Users\\nshawen\\AppData\\Local\\Continuum\\anaconda3\\lib\\site-packages\\sklearn\\metrics\\ranking.py:94: RuntimeWarning: invalid value encountered in less\n",
      "  if np.any(dx < 0):\n",
      "C:\\Users\\nshawen\\AppData\\Local\\Continuum\\anaconda3\\lib\\site-packages\\sklearn\\metrics\\ranking.py:444: RuntimeWarning: invalid value encountered in true_divide\n",
      "  recall = tps / tps[-1]\n",
      "C:\\Users\\nshawen\\AppData\\Local\\Continuum\\anaconda3\\lib\\site-packages\\sklearn\\metrics\\ranking.py:94: RuntimeWarning: invalid value encountered in less\n",
      "  if np.any(dx < 0):\n"
     ]
    },
    {
     "name": "stdout",
     "output_type": "stream",
     "text": [
      "only 1 class in test data - cannot compute roc curve\n",
      "\n",
      "Subj/Visit 5,prec=0.000,rec=0.000,Spec=1.000,auroc_train=1.000,auroc=nan\n",
      "f1_test=0.185+/-0.262, prec=0.333+/-0.471, rec=0.128+/-0.181, auprc=0.857+/-0.021, auroc=0.902+/-0.003\n",
      "Subject 1049\n",
      "Training Random Forest\n",
      "\n",
      "Subj/Visit 0,prec=0.545,rec=0.692,Spec=0.744,auroc_train=1.000,auroc=0.806\n",
      "\n",
      "Subj/Visit 1,prec=1.000,rec=0.634,Spec=1.000,auroc_train=1.000,auroc=0.932\n",
      "\n",
      "Subj/Visit 2,prec=0.979,rec=0.758,Spec=0.833,auroc_train=1.000,auroc=0.833\n",
      "\n",
      "Subj/Visit 3,prec=0.721,rec=0.689,Spec=0.875,auroc_train=1.000,auroc=0.844\n",
      "\n",
      "Subj/Visit 4,prec=0.712,rec=0.737,Spec=0.813,auroc_train=1.000,auroc=0.832\n",
      "\n",
      "Subj/Visit 5,prec=0.877,rec=0.602,Spec=0.914,auroc_train=1.000,auroc=0.850\n",
      "\n",
      "Subj/Visit 6,prec=0.623,rec=0.632,Spec=0.659,auroc_train=1.000,auroc=0.720\n",
      "f1_test=0.716+/-0.078, prec=0.780+/-0.163, rec=0.678+/-0.053, auprc=0.821+/-0.122, auroc=0.831+/-0.058\n",
      "Subject 1051\n",
      "Training Random Forest\n",
      "\n",
      "Subj/Visit 0,prec=1.000,rec=0.132,Spec=1.000,auroc_train=1.000,auroc=0.809\n",
      "\n",
      "Subj/Visit 1,prec=0.500,rec=1.000,Spec=0.979,auroc_train=1.000,auroc=1.000\n",
      "\n",
      "Subj/Visit 2,prec=0.333,rec=0.750,Spec=0.908,auroc_train=1.000,auroc=0.950\n",
      "\n",
      "Subj/Visit 3,prec=1.000,rec=0.049,Spec=1.000,auroc_train=1.000,auroc=0.722\n",
      "\n",
      "Subj/Visit 4,prec=1.000,rec=0.667,Spec=1.000,auroc_train=1.000,auroc=0.998\n",
      "\n",
      "Subj/Visit 5,prec=0.375,rec=1.000,Spec=0.946,auroc_train=1.000,auroc=0.966\n",
      "\n",
      "Subj/Visit 6,prec=0.250,rec=0.091,Spec=0.952,auroc_train=1.000,auroc=0.639\n",
      "f1_test=0.419+/-0.253, prec=0.637+/-0.322, rec=0.527+/-0.395, auprc=0.671+/-0.245, auroc=0.869+/-0.135\n",
      "Subject 1052\n",
      "Training Random Forest\n",
      "\n",
      "Subj/Visit 0,prec=0.942,rec=0.838,Spec=0.743,auroc_train=1.000,auroc=0.894\n",
      "\n",
      "Subj/Visit 1,prec=0.841,rec=0.968,Spec=0.764,auroc_train=1.000,auroc=0.943\n",
      "\n",
      "Subj/Visit 2,prec=0.650,rec=0.929,Spec=0.705,auroc_train=1.000,auroc=0.893\n",
      "\n",
      "Subj/Visit 3,prec=0.894,rec=0.874,Spec=0.682,auroc_train=1.000,auroc=0.795\n",
      "\n",
      "Subj/Visit 4,prec=0.566,rec=0.848,Spec=0.476,auroc_train=1.000,auroc=0.705\n",
      "\n",
      "Subj/Visit 5,prec=0.895,rec=0.904,Spec=0.831,auroc_train=1.000,auroc=0.945\n",
      "f1_test=0.836+/-0.084, prec=0.798+/-0.140, rec=0.893+/-0.045, auprc=0.873+/-0.116, auroc=0.863+/-0.086\n",
      "Subject 1053\n",
      "Training Random Forest\n",
      "\n",
      "Subj/Visit 0,prec=0.700,rec=0.219,Spec=0.912,auroc_train=1.000,auroc=0.720\n",
      "\n",
      "Subj/Visit 1,prec=0.448,rec=1.000,Spec=0.833,auroc_train=1.000,auroc=0.981\n",
      "\n",
      "Subj/Visit 2,prec=0.750,rec=1.000,Spec=0.961,auroc_train=1.000,auroc=0.999\n",
      "\n",
      "Subj/Visit 3,prec=0.929,rec=0.565,Spec=0.971,auroc_train=1.000,auroc=0.929\n",
      "\n",
      "Subj/Visit 4,prec=0.600,rec=1.000,Spec=0.931,auroc_train=1.000,auroc=0.997\n",
      "\n",
      "Subj/Visit 5,prec=0.864,rec=0.679,Spec=0.963,auroc_train=1.000,auroc=0.976\n",
      "f1_test=0.670+/-0.167, prec=0.715+/-0.160, rec=0.744+/-0.291, auprc=0.883+/-0.111, auroc=0.934+/-0.098\n",
      "Subject 1054\n",
      "Training Random Forest\n",
      "\n",
      "Subj/Visit 0,prec=1.000,rec=0.544,Spec=1.000,auroc_train=1.000,auroc=0.979\n",
      "\n",
      "Subj/Visit 1,prec=0.465,rec=0.868,Spec=0.698,auroc_train=1.000,auroc=0.877\n",
      "\n",
      "Subj/Visit 2,prec=0.566,rec=0.938,Spec=0.733,auroc_train=1.000,auroc=0.929\n",
      "\n",
      "Subj/Visit 3,prec=0.857,rec=0.307,Spec=0.632,auroc_train=1.000,auroc=0.427\n",
      "\n",
      "Subj/Visit 4,prec=0.600,rec=0.780,Spec=0.729,auroc_train=1.000,auroc=0.804\n",
      "\n",
      "Subj/Visit 5,prec=0.432,rec=1.000,Spec=0.693,auroc_train=1.000,auroc=0.964\n",
      "f1_test=0.625+/-0.088, prec=0.653+/-0.207, rec=0.739+/-0.242, auprc=0.842+/-0.097, auroc=0.830+/-0.189\n",
      "Subject 1055\n",
      "Training Random Forest\n",
      "\n",
      "Subj/Visit 0,prec=0.902,rec=0.552,Spec=0.789,auroc_train=1.000,auroc=0.713\n",
      "\n",
      "Subj/Visit 1,prec=0.385,rec=0.938,Spec=0.642,auroc_train=1.000,auroc=0.815\n",
      "\n",
      "Subj/Visit 2,prec=0.405,rec=0.484,Spec=0.728,auroc_train=1.000,auroc=0.726\n",
      "\n",
      "Subj/Visit 3,prec=0.821,rec=0.460,Spec=0.833,auroc_train=1.000,auroc=0.764\n",
      "\n",
      "Subj/Visit 4,prec=1.000,rec=0.625,Spec=1.000,auroc_train=1.000,auroc=0.998\n",
      "\n",
      "Subj/Visit 5,prec=0.324,rec=0.857,Spec=0.632,auroc_train=1.000,auroc=0.790\n",
      "f1_test=0.584+/-0.115, prec=0.640+/-0.274, rec=0.653+/-0.182, auprc=0.641+/-0.278, auroc=0.801+/-0.095\n",
      "Subject 1056\n",
      "Training Random Forest\n",
      "\n",
      "Subj/Visit 0,prec=0.752,rec=1.000,Spec=0.107,auroc_train=1.000,auroc=0.855\n",
      "\n",
      "Subj/Visit 1,prec=0.821,rec=0.958,Spec=0.348,auroc_train=1.000,auroc=0.720\n",
      "\n",
      "Subj/Visit 2,prec=0.630,rec=0.895,Spec=0.286,auroc_train=1.000,auroc=0.679\n",
      "\n",
      "Subj/Visit 3,prec=0.967,rec=0.957,Spec=0.667,auroc_train=1.000,auroc=0.958\n",
      "only 1 class in test data - cannot compute roc curve\n",
      "\n",
      "Subj/Visit 4,prec=1.000,rec=0.971,Spec=nan,auroc_train=1.000,auroc=nan\n",
      "\n",
      "Subj/Visit 5,prec=0.918,rec=0.989,Spec=0.385,auroc_train=1.000,auroc=0.965\n",
      "f1_test=0.897+/-0.083, prec=0.848+/-0.129, rec=0.962+/-0.034, auprc=0.922+/-0.095, auroc=0.835+/-0.118\n"
     ]
    },
    {
     "name": "stderr",
     "output_type": "stream",
     "text": [
      "C:\\Users\\nshawen\\AppData\\Local\\Continuum\\anaconda3\\lib\\site-packages\\ipykernel_launcher.py:51: RuntimeWarning: invalid value encountered in long_scalars\n"
     ]
    }
   ],
   "source": [
    "#LOVO Accelerometer Bradykinesia\n",
    "\n",
    "symptom = 'Bradykinesia'\n",
    "le = LabelEncoder()\n",
    "res_all = pd.DataFrame(data=None,index=None)\n",
    "#train on all sessions, predict on left out session for each patient\n",
    "res_visit_all = [] #data from each subject \n",
    "\n",
    "#remove nan rows for current symptom\n",
    "Data = Datafull.copy() #original unmodified dataframe\n",
    "Data=Data[~Data[symptom].isnull()]\n",
    "Data=Data.reset_index(drop=True) #reset index\n",
    "\n",
    "for s in Data.Subject.unique():\n",
    "    print('Subject %s'%s)\n",
    "    ds = Data.loc[Data.Subject==s]\n",
    "    indp = (ds[symptom]>0).values\n",
    "    y = indp.astype(int) #target \n",
    "    X = ds.iloc[:,94:]\n",
    "    X_std = StandardScaler().fit_transform(X) #standardize input data\n",
    "    models = [RandomForestClassifier(n_estimators=50,random_state=2)]#,XGBClassifier()]\n",
    "    model_name = ['Random Forest']#,'XGB']\n",
    "    models = list(zip(models,model_name))\n",
    "    groups = le.fit_transform(ds.Visit)\n",
    "    if len(np.unique(groups))<2:\n",
    "        continue\n",
    "    res,res_group = LOSOCV(ds,X_std,y,groups,models)\n",
    "    res.index = res.index+s\n",
    "    res_all=pd.concat((res_all,res))\n",
    "    res_visit_all.append(res_group)"
   ]
  },
  {
   "cell_type": "code",
   "execution_count": 33,
   "metadata": {},
   "outputs": [
    {
     "data": {
      "image/png": "[encoded data removed]",
      "text/plain": [
       "<matplotlib.figure.Figure at 0x19473780>"
      ]
     },
     "metadata": {},
     "output_type": "display_data"
    }
   ],
   "source": [
    "results = res_all.auroc.values\n",
    "np.save('Results/resultsBradykinesiaLOVOAccel.npy',results)\n",
    "\n",
    "#compute mean and std auc\n",
    "subjs=Data.Subject.unique()\n",
    "auc_mean = []; auc_std = []\n",
    "aucdf = pd.DataFrame()\n",
    "for i in range(len(res_visit_all)):\n",
    "\n",
    "    if len(res_visit_all[i]['Random Forest']['auroc']) < 7:\n",
    "        L = len(res_visit_all[i]['Random Forest']['auroc'])\n",
    "        res_visit_all[i]['Random Forest']['auroc'] += (list(np.nan*np.ones(7-L)))\n",
    "    aucdf[subjs[i]] = res_visit_all[i]['Random Forest']['auroc']   \n",
    "    brady_auc = res_visit_all[i]['Random Forest']['auroc']\n",
    "    auc_mean.append(np.nanmean(brady_auc)) #mean across visits\n",
    "    auc_std.append(np.nanstd(brady_auc))\n",
    "    \n",
    "sns.barplot(data=aucdf)\n",
    "ax=plt.xticks(rotation=90)\n",
    "plt.title('LOVO Accel - Mean AUROC = %.3f +/- %.3f'%(np.nanmean(res_all.auroc),np.nanstd(res_all.auroc)))\n",
    "plt.ylim([0.5,1.1])\n",
    "\n",
    "plt.savefig('Results/resultsBradykinesiaLOVOAccel.png',format='png',dpi=1000)"
   ]
  },
  {
   "cell_type": "code",
   "execution_count": 34,
   "metadata": {
    "scrolled": true
   },
   "outputs": [
    {
     "name": "stdout",
     "output_type": "stream",
     "text": [
      "Subject 1004\n",
      "Training Random Forest\n",
      "\n",
      "Subj/Visit 0,prec=1.000,rec=0.265,Spec=1.000,auroc_train=1.000,auroc=0.719\n",
      "\n",
      "Subj/Visit 1,prec=0.222,rec=0.091,Spec=0.920,auroc_train=1.000,auroc=0.467\n",
      "\n",
      "Subj/Visit 2,prec=0.643,rec=1.000,Spec=0.934,auroc_train=1.000,auroc=0.997\n",
      "\n",
      "Subj/Visit 3,prec=0.920,rec=0.575,Spec=0.962,auroc_train=1.000,auroc=0.913\n",
      "\n",
      "Subj/Visit 4,prec=0.545,rec=0.750,Spec=0.853,auroc_train=1.000,auroc=0.878\n",
      "\n",
      "Subj/Visit 5,prec=0.760,rec=0.679,Spec=0.918,auroc_train=1.000,auroc=0.884\n",
      "\n",
      "Subj/Visit 6,prec=0.500,rec=0.452,Spec=0.778,auroc_train=1.000,auroc=0.735\n",
      "f1_test=0.552+/-0.212, prec=0.656+/-0.246, rec=0.544+/-0.283, auprc=0.681+/-0.262, auroc=0.799+/-0.163\n",
      "Subject 1016\n",
      "Training Random Forest\n",
      "\n",
      "Subj/Visit 0,prec=0.985,rec=0.980,Spec=0.625,auroc_train=1.000,auroc=0.955\n",
      "\n",
      "Subj/Visit 1,prec=0.964,rec=1.000,Spec=0.533,auroc_train=1.000,auroc=0.991\n",
      "\n",
      "Subj/Visit 2,prec=0.951,rec=0.995,Spec=0.474,auroc_train=1.000,auroc=0.990\n",
      "\n",
      "Subj/Visit 3,prec=1.000,rec=0.926,Spec=1.000,auroc_train=1.000,auroc=0.959\n",
      "\n",
      "Subj/Visit 4,prec=0.915,rec=0.995,Spec=0.346,auroc_train=1.000,auroc=0.755\n",
      "\n",
      "Subj/Visit 5,prec=0.990,rec=0.990,Spec=0.895,auroc_train=1.000,auroc=0.997\n",
      "\n",
      "Subj/Visit 6,prec=1.000,rec=0.980,Spec=1.000,auroc_train=1.000,auroc=1.000\n",
      "f1_test=0.976+/-0.013, prec=0.972+/-0.029, rec=0.981+/-0.023, auprc=0.994+/-0.012, auroc=0.950+/-0.081\n",
      "Subject 1018\n",
      "Training Random Forest\n",
      "\n",
      "Subj/Visit 0,prec=0.657,rec=0.746,Spec=0.558,auroc_train=1.000,auroc=0.677\n",
      "\n",
      "Subj/Visit 1,prec=0.794,rec=0.862,Spec=0.745,auroc_train=1.000,auroc=0.903\n",
      "\n",
      "Subj/Visit 2,prec=0.889,rec=0.842,Spec=0.895,auroc_train=1.000,auroc=0.911\n",
      "\n",
      "Subj/Visit 3,prec=0.936,rec=0.800,Spec=0.932,auroc_train=1.000,auroc=0.945\n",
      "\n",
      "Subj/Visit 4,prec=0.875,rec=0.926,Spec=0.763,auroc_train=1.000,auroc=0.933\n",
      "\n",
      "Subj/Visit 5,prec=0.724,rec=0.846,Spec=0.611,auroc_train=1.000,auroc=0.802\n",
      "\n",
      "Subj/Visit 6,prec=0.627,rec=0.755,Spec=0.569,auroc_train=1.000,auroc=0.746\n",
      "f1_test=0.803+/-0.078, prec=0.786+/-0.111, rec=0.825+/-0.059, auprc=0.852+/-0.115, auroc=0.845+/-0.097\n",
      "Subject 1019\n",
      "Training Random Forest\n",
      "\n",
      "Subj/Visit 0,prec=0.600,rec=0.217,Spec=0.898,auroc_train=1.000,auroc=0.646\n",
      "\n",
      "Subj/Visit 1,prec=0.976,rec=0.889,Spec=0.990,auroc_train=1.000,auroc=0.992\n",
      "\n",
      "Subj/Visit 2,prec=0.571,rec=0.960,Spec=0.838,auroc_train=1.000,auroc=0.979\n",
      "\n",
      "Subj/Visit 3,prec=1.000,rec=0.394,Spec=1.000,auroc_train=1.000,auroc=0.764\n",
      "\n",
      "Subj/Visit 4,prec=1.000,rec=0.492,Spec=1.000,auroc_train=1.000,auroc=0.864\n",
      "\n",
      "Subj/Visit 5,prec=0.907,rec=0.765,Spec=0.961,auroc_train=1.000,auroc=0.898\n",
      "\n",
      "Subj/Visit 6,prec=0.744,rec=0.537,Spec=0.890,auroc_train=1.000,auroc=0.859\n",
      "f1_test=0.664+/-0.182, prec=0.828+/-0.174, rec=0.608+/-0.252, auprc=0.838+/-0.118, auroc=0.857+/-0.112\n",
      "Subject 1020\n",
      "Subject 1024\n",
      "Training Random Forest\n",
      "\n",
      "Subj/Visit 0,prec=0.975,rec=0.798,Spec=0.778,auroc_train=1.000,auroc=0.851\n",
      "\n",
      "Subj/Visit 1,prec=0.625,rec=0.556,Spec=0.688,auroc_train=1.000,auroc=0.731\n",
      "\n",
      "Subj/Visit 2,prec=0.551,rec=0.964,Spec=0.627,auroc_train=1.000,auroc=0.884\n",
      "\n",
      "Subj/Visit 3,prec=0.750,rec=0.811,Spec=0.048,auroc_train=1.000,auroc=0.398\n",
      "\n",
      "Subj/Visit 4,prec=0.660,rec=0.972,Spec=0.660,auroc_train=1.000,auroc=0.875\n",
      "\n",
      "Subj/Visit 5,prec=0.891,rec=0.745,Spec=0.865,auroc_train=1.000,auroc=0.906\n",
      "\n",
      "Subj/Visit 6,prec=0.552,rec=0.640,Spec=0.381,auroc_train=1.000,auroc=0.574\n",
      "f1_test=0.734+/-0.103, prec=0.715+/-0.153, rec=0.784+/-0.143, auprc=0.775+/-0.127, auroc=0.746+/-0.178\n",
      "Subject 1029\n",
      "Training Random Forest\n",
      "\n",
      "Subj/Visit 0,prec=0.988,rec=0.699,Spec=0.909,auroc_train=1.000,auroc=0.811\n",
      "\n",
      "Subj/Visit 1,prec=0.762,rec=0.889,Spec=0.737,auroc_train=1.000,auroc=0.907\n",
      "\n",
      "Subj/Visit 2,prec=0.544,rec=0.754,Spec=0.506,auroc_train=1.000,auroc=0.675\n",
      "\n",
      "Subj/Visit 3,prec=0.603,rec=0.830,Spec=0.473,auroc_train=1.000,auroc=0.698\n",
      "\n",
      "Subj/Visit 4,prec=0.798,rec=0.987,Spec=0.620,auroc_train=1.000,auroc=0.856\n",
      "\n",
      "Subj/Visit 5,prec=0.635,rec=1.000,Spec=0.392,auroc_train=1.000,auroc=0.830\n",
      "\n",
      "Subj/Visit 6,prec=0.906,rec=0.664,Spec=0.667,auroc_train=1.000,auroc=0.698\n",
      "f1_test=0.771+/-0.077, prec=0.748+/-0.151, rec=0.832+/-0.124, auprc=0.809+/-0.127, auroc=0.782+/-0.084\n",
      "Subject 1030\n",
      "Training Random Forest\n",
      "\n",
      "Subj/Visit 0,prec=0.900,rec=0.889,Spec=0.818,auroc_train=1.000,auroc=0.926\n",
      "\n",
      "Subj/Visit 1,prec=0.924,rec=0.910,Spec=0.904,auroc_train=1.000,auroc=0.963\n",
      "\n",
      "Subj/Visit 2,prec=0.714,rec=0.930,Spec=0.771,auroc_train=1.000,auroc=0.909\n",
      "\n",
      "Subj/Visit 3,prec=0.937,rec=0.937,Spec=0.915,auroc_train=1.000,auroc=0.971\n",
      "\n",
      "Subj/Visit 4,prec=0.818,rec=0.947,Spec=0.782,auroc_train=1.000,auroc=0.969\n",
      "\n",
      "Subj/Visit 5,prec=0.700,rec=0.921,Spec=0.737,auroc_train=1.000,auroc=0.884\n",
      "\n",
      "Subj/Visit 6,prec=0.822,rec=0.771,Spec=0.843,auroc_train=1.000,auroc=0.852\n",
      "f1_test=0.861+/-0.056, prec=0.831+/-0.089, rec=0.901+/-0.056, auprc=0.916+/-0.061, auroc=0.925+/-0.043\n",
      "Subject 1032\n",
      "Training Random Forest\n",
      "\n",
      "Subj/Visit 0,prec=1.000,rec=0.978,Spec=1.000,auroc_train=1.000,auroc=0.986\n",
      "\n",
      "Subj/Visit 1,prec=0.905,rec=0.983,Spec=0.000,auroc_train=1.000,auroc=0.755\n",
      "\n",
      "Subj/Visit 2,prec=0.853,rec=1.000,Spec=0.167,auroc_train=1.000,auroc=0.674\n",
      "\n",
      "Subj/Visit 3,prec=0.944,rec=0.993,Spec=0.000,auroc_train=1.000,auroc=0.927\n",
      "\n",
      "Subj/Visit 4,prec=0.923,rec=0.915,Spec=0.100,auroc_train=1.000,auroc=0.583\n",
      "\n",
      "Subj/Visit 5,prec=0.942,rec=0.983,Spec=0.125,auroc_train=1.000,auroc=0.630\n",
      "\n",
      "Subj/Visit 6,prec=0.778,rec=0.960,Spec=0.068,auroc_train=1.000,auroc=0.639\n",
      "f1_test=0.937+/-0.039, prec=0.906+/-0.067, rec=0.973+/-0.026, auprc=0.948+/-0.046, auroc=0.742+/-0.145\n",
      "Subject 1038\n",
      "Training Random Forest\n",
      "\n",
      "Subj/Visit 0,prec=0.692,rec=0.310,Spec=0.938,auroc_train=1.000,auroc=0.740\n",
      "\n",
      "Subj/Visit 1,prec=0.867,rec=0.542,Spec=0.938,auroc_train=1.000,auroc=0.872\n",
      "\n",
      "Subj/Visit 2,prec=0.958,rec=0.469,Spec=0.974,auroc_train=1.000,auroc=0.831\n",
      "\n",
      "Subj/Visit 3,prec=0.571,rec=0.533,Spec=0.921,auroc_train=1.000,auroc=0.886\n",
      "\n",
      "Subj/Visit 4,prec=0.727,rec=0.500,Spec=0.946,auroc_train=1.000,auroc=0.934\n",
      "\n",
      "Subj/Visit 5,prec=0.842,rec=0.516,Spec=0.953,auroc_train=1.000,auroc=0.875\n",
      "\n",
      "Subj/Visit 6,prec=0.067,rec=0.043,Spec=0.797,auroc_train=1.000,auroc=0.238\n",
      "f1_test=0.509+/-0.200, prec=0.675+/-0.275, rec=0.416+/-0.169, auprc=0.684+/-0.229, auroc=0.768+/-0.223\n",
      "Subject 1044\n",
      "Training Random Forest\n",
      "\n",
      "Subj/Visit 0,prec=0.773,rec=0.472,Spec=0.853,auroc_train=1.000,auroc=0.773\n",
      "\n",
      "Subj/Visit 1,prec=0.750,rec=0.682,Spec=0.909,auroc_train=1.000,auroc=0.860\n",
      "\n",
      "Subj/Visit 2,prec=0.929,rec=0.667,Spec=0.963,auroc_train=1.000,auroc=0.923\n",
      "\n",
      "Subj/Visit 3,prec=0.875,rec=0.375,Spec=0.943,auroc_train=1.000,auroc=0.785\n",
      "\n",
      "Subj/Visit 4,prec=0.690,rec=0.714,Spec=0.855,auroc_train=1.000,auroc=0.894\n",
      "\n",
      "Subj/Visit 5,prec=0.800,rec=0.741,Spec=0.875,auroc_train=1.000,auroc=0.891\n",
      "\n",
      "Subj/Visit 6,prec=0.568,rec=0.525,Spec=0.680,auroc_train=1.000,auroc=0.643\n",
      "f1_test=0.660+/-0.098, prec=0.769+/-0.110, rec=0.597+/-0.129, auprc=0.776+/-0.093, auroc=0.824+/-0.091\n",
      "Subject 1046\n",
      "Training Random Forest\n",
      "\n",
      "Subj/Visit 0,prec=0.838,rec=0.574,Spec=0.933,auroc_train=1.000,auroc=0.899\n",
      "\n",
      "Subj/Visit 1,prec=0.705,rec=0.843,Spec=0.846,auroc_train=1.000,auroc=0.945\n",
      "\n",
      "Subj/Visit 2,prec=0.870,rec=0.769,Spec=0.933,auroc_train=1.000,auroc=0.960\n",
      "\n",
      "Subj/Visit 3,prec=0.875,rec=0.778,Spec=0.930,auroc_train=1.000,auroc=0.885\n",
      "\n",
      "Subj/Visit 4,prec=0.941,rec=0.688,Spec=0.944,auroc_train=1.000,auroc=0.932\n",
      "\n",
      "Subj/Visit 5,prec=0.812,rec=0.659,Spec=0.857,auroc_train=1.000,auroc=0.847\n",
      "\n",
      "Subj/Visit 6,prec=0.822,rec=0.569,Spec=0.905,auroc_train=1.000,auroc=0.829\n",
      "f1_test=0.755+/-0.058, prec=0.837+/-0.067, rec=0.697+/-0.097, auprc=0.887+/-0.049, auroc=0.900+/-0.046\n",
      "Subject 1047\n",
      "Training Random Forest\n",
      "\n",
      "Subj/Visit 0,prec=1.000,rec=0.152,Spec=1.000,auroc_train=1.000,auroc=0.849"
     ]
    },
    {
     "name": "stderr",
     "output_type": "stream",
     "text": [
      "C:\\Users\\nshawen\\AppData\\Local\\Continuum\\anaconda3\\lib\\site-packages\\sklearn\\metrics\\ranking.py:444: RuntimeWarning: invalid value encountered in true_divide\n",
      "  recall = tps / tps[-1]\n",
      "C:\\Users\\nshawen\\AppData\\Local\\Continuum\\anaconda3\\lib\\site-packages\\sklearn\\metrics\\ranking.py:94: RuntimeWarning: invalid value encountered in less\n",
      "  if np.any(dx < 0):\n",
      "C:\\Users\\nshawen\\AppData\\Local\\Continuum\\anaconda3\\lib\\site-packages\\sklearn\\metrics\\ranking.py:444: RuntimeWarning: invalid value encountered in true_divide\n",
      "  recall = tps / tps[-1]\n",
      "C:\\Users\\nshawen\\AppData\\Local\\Continuum\\anaconda3\\lib\\site-packages\\sklearn\\metrics\\ranking.py:94: RuntimeWarning: invalid value encountered in less\n",
      "  if np.any(dx < 0):\n"
     ]
    },
    {
     "name": "stdout",
     "output_type": "stream",
     "text": [
      "\n",
      "only 1 class in test data - cannot compute roc curve\n",
      "\n",
      "Subj/Visit 1,prec=0.000,rec=0.000,Spec=1.000,auroc_train=1.000,auroc=nan\n",
      "only 1 class in test data - cannot compute roc curve\n",
      "\n",
      "Subj/Visit 2,prec=0.000,rec=0.000,Spec=1.000,auroc_train=1.000,auroc=nan\n",
      "\n",
      "Subj/Visit 3,prec=1.000,rec=0.156,Spec=1.000,auroc_train=1.000,auroc=0.883\n",
      "only 1 class in test data - cannot compute roc curve\n",
      "\n",
      "Subj/Visit 4,prec=0.000,rec=0.000,Spec=1.000,auroc_train=1.000,auroc=nan\n"
     ]
    },
    {
     "name": "stderr",
     "output_type": "stream",
     "text": [
      "C:\\Users\\nshawen\\AppData\\Local\\Continuum\\anaconda3\\lib\\site-packages\\sklearn\\metrics\\ranking.py:444: RuntimeWarning: invalid value encountered in true_divide\n",
      "  recall = tps / tps[-1]\n",
      "C:\\Users\\nshawen\\AppData\\Local\\Continuum\\anaconda3\\lib\\site-packages\\sklearn\\metrics\\ranking.py:94: RuntimeWarning: invalid value encountered in less\n",
      "  if np.any(dx < 0):\n",
      "C:\\Users\\nshawen\\AppData\\Local\\Continuum\\anaconda3\\lib\\site-packages\\sklearn\\metrics\\ranking.py:444: RuntimeWarning: invalid value encountered in true_divide\n",
      "  recall = tps / tps[-1]\n",
      "C:\\Users\\nshawen\\AppData\\Local\\Continuum\\anaconda3\\lib\\site-packages\\sklearn\\metrics\\ranking.py:94: RuntimeWarning: invalid value encountered in less\n",
      "  if np.any(dx < 0):\n"
     ]
    },
    {
     "name": "stdout",
     "output_type": "stream",
     "text": [
      "only 1 class in test data - cannot compute roc curve\n",
      "\n",
      "Subj/Visit 5,prec=0.000,rec=0.000,Spec=1.000,auroc_train=1.000,auroc=nan\n",
      "f1_test=0.089+/-0.126, prec=0.333+/-0.471, rec=0.051+/-0.073, auprc=0.811+/-0.014, auroc=0.866+/-0.017\n",
      "Subject 1049\n",
      "Training Random Forest\n",
      "\n",
      "Subj/Visit 0,prec=0.292,rec=0.500,Spec=0.462,auroc_train=1.000,auroc=0.511\n",
      "\n",
      "Subj/Visit 1,prec=0.968,rec=0.744,Spec=0.833,auroc_train=1.000,auroc=0.915\n",
      "\n",
      "Subj/Visit 2,prec=0.886,rec=0.629,Spec=0.167,auroc_train=1.000,auroc=0.362\n",
      "\n",
      "Subj/Visit 3,prec=0.510,rec=0.578,Spec=0.740,auroc_train=1.000,auroc=0.738\n",
      "\n",
      "Subj/Visit 4,prec=0.596,rec=0.491,Spec=0.791,auroc_train=1.000,auroc=0.715\n",
      "\n",
      "Subj/Visit 5,prec=0.833,rec=0.723,Spec=0.852,auroc_train=1.000,auroc=0.892\n",
      "\n",
      "Subj/Visit 6,prec=0.533,rec=0.526,Spec=0.588,auroc_train=1.000,auroc=0.525\n",
      "f1_test=0.619+/-0.156, prec=0.660+/-0.225, rec=0.599+/-0.096, auprc=0.676+/-0.230, auroc=0.665+/-0.192\n",
      "Subject 1051\n",
      "Training Random Forest\n",
      "\n",
      "Subj/Visit 0,prec=0.875,rec=0.368,Spec=0.964,auroc_train=1.000,auroc=0.787\n",
      "\n",
      "Subj/Visit 1,prec=1.000,rec=0.500,Spec=1.000,auroc_train=1.000,auroc=0.995\n",
      "\n",
      "Subj/Visit 2,prec=1.000,rec=0.250,Spec=1.000,auroc_train=1.000,auroc=0.913\n",
      "\n",
      "Subj/Visit 3,prec=1.000,rec=0.146,Spec=1.000,auroc_train=1.000,auroc=0.804\n",
      "\n",
      "Subj/Visit 4,prec=0.167,rec=0.333,Spec=0.955,auroc_train=1.000,auroc=0.936\n",
      "\n",
      "Subj/Visit 5,prec=0.000,rec=0.000,Spec=0.989,auroc_train=1.000,auroc=0.964\n",
      "\n",
      "Subj/Visit 6,prec=0.000,rec=0.000,Spec=0.968,auroc_train=1.000,auroc=0.739\n",
      "f1_test=0.295+/-0.233, prec=0.577+/-0.457, rec=0.228+/-0.176, auprc=0.493+/-0.260, auroc=0.877+/-0.092\n",
      "Subject 1052\n",
      "Training Random Forest\n",
      "\n",
      "Subj/Visit 0,prec=0.944,rec=0.873,Spec=0.743,auroc_train=1.000,auroc=0.904\n",
      "\n",
      "Subj/Visit 1,prec=0.877,rec=1.000,Spec=0.819,auroc_train=1.000,auroc=0.957\n",
      "\n",
      "Subj/Visit 2,prec=0.667,rec=0.929,Spec=0.726,auroc_train=1.000,auroc=0.884\n",
      "\n",
      "Subj/Visit 3,prec=0.904,rec=0.904,Spec=0.705,auroc_train=1.000,auroc=0.829\n",
      "\n",
      "Subj/Visit 4,prec=0.576,rec=0.864,Spec=0.488,auroc_train=1.000,auroc=0.735\n",
      "\n",
      "Subj/Visit 5,prec=0.908,rec=0.856,Spec=0.862,auroc_train=1.000,auroc=0.920\n",
      "f1_test=0.849+/-0.087, prec=0.813+/-0.139, rec=0.904+/-0.050, auprc=0.867+/-0.126, auroc=0.872+/-0.072\n",
      "Subject 1053\n",
      "Training Random Forest\n",
      "\n",
      "Subj/Visit 0,prec=0.808,rec=0.328,Spec=0.926,auroc_train=1.000,auroc=0.724\n",
      "\n",
      "Subj/Visit 1,prec=0.565,rec=1.000,Spec=0.896,auroc_train=1.000,auroc=0.976\n",
      "\n",
      "Subj/Visit 2,prec=0.688,rec=0.917,Spec=0.951,auroc_train=1.000,auroc=0.995\n",
      "\n",
      "Subj/Visit 3,prec=0.963,rec=0.565,Spec=0.986,auroc_train=1.000,auroc=0.937\n",
      "\n",
      "Subj/Visit 4,prec=0.600,rec=1.000,Spec=0.931,auroc_train=1.000,auroc=1.000\n",
      "\n",
      "Subj/Visit 5,prec=1.000,rec=0.464,Spec=1.000,auroc_train=1.000,auroc=0.938\n",
      "f1_test=0.679+/-0.105, prec=0.771+/-0.168, rec=0.712+/-0.270, auprc=0.870+/-0.101, auroc=0.928+/-0.095\n",
      "Subject 1054\n",
      "Training Random Forest\n",
      "\n",
      "Subj/Visit 0,prec=0.990,rec=0.667,Spec=0.909,auroc_train=1.000,auroc=0.929\n",
      "\n",
      "Subj/Visit 1,prec=0.486,rec=0.921,Spec=0.706,auroc_train=1.000,auroc=0.892\n",
      "\n",
      "Subj/Visit 2,prec=0.545,rec=0.938,Spec=0.709,auroc_train=1.000,auroc=0.936\n",
      "\n",
      "Subj/Visit 3,prec=0.841,rec=0.387,Spec=0.474,auroc_train=1.000,auroc=0.348\n",
      "\n",
      "Subj/Visit 4,prec=0.486,rec=0.720,Spec=0.604,auroc_train=1.000,auroc=0.732\n",
      "\n",
      "Subj/Visit 5,prec=0.390,rec=1.000,Spec=0.635,auroc_train=1.000,auroc=0.958\n",
      "f1_test=0.632+/-0.090, prec=0.623+/-0.216, rec=0.772+/-0.210, auprc=0.816+/-0.118, auroc=0.799+/-0.215\n",
      "Subject 1055\n",
      "Training Random Forest\n",
      "\n",
      "Subj/Visit 0,prec=0.788,rec=0.388,Spec=0.632,auroc_train=1.000,auroc=0.604\n",
      "\n",
      "Subj/Visit 1,prec=0.457,rec=1.000,Spec=0.716,auroc_train=1.000,auroc=0.850\n",
      "\n",
      "Subj/Visit 2,prec=0.326,rec=0.452,Spec=0.642,auroc_train=1.000,auroc=0.641\n",
      "\n",
      "Subj/Visit 3,prec=0.762,rec=0.320,Spec=0.833,auroc_train=1.000,auroc=0.753\n",
      "\n",
      "Subj/Visit 4,prec=0.882,rec=0.469,Spec=0.950,auroc_train=1.000,auroc=0.865\n",
      "\n",
      "Subj/Visit 5,prec=0.229,rec=0.571,Spec=0.603,auroc_train=1.000,auroc=0.655\n",
      "f1_test=0.486+/-0.112, prec=0.574+/-0.249, rec=0.533+/-0.222, auprc=0.562+/-0.251, auroc=0.728+/-0.102\n",
      "Subject 1056\n",
      "Training Random Forest\n",
      "\n",
      "Subj/Visit 0,prec=0.745,rec=1.000,Spec=0.071,auroc_train=1.000,auroc=0.717\n",
      "\n",
      "Subj/Visit 1,prec=0.775,rec=0.958,Spec=0.130,auroc_train=1.000,auroc=0.727\n",
      "\n",
      "Subj/Visit 2,prec=0.576,rec=1.000,Spec=0.000,auroc_train=1.000,auroc=0.680\n",
      "\n",
      "Subj/Visit 3,prec=0.948,rec=0.989,Spec=0.444,auroc_train=1.000,auroc=0.932\n",
      "only 1 class in test data - cannot compute roc curve\n",
      "\n",
      "Subj/Visit 4,prec=1.000,rec=0.971,Spec=nan,auroc_train=1.000,auroc=nan\n"
     ]
    },
    {
     "name": "stderr",
     "output_type": "stream",
     "text": [
      "C:\\Users\\nshawen\\AppData\\Local\\Continuum\\anaconda3\\lib\\site-packages\\ipykernel_launcher.py:51: RuntimeWarning: invalid value encountered in long_scalars\n"
     ]
    },
    {
     "name": "stdout",
     "output_type": "stream",
     "text": [
      "\n",
      "Subj/Visit 5,prec=0.928,rec=0.989,Spec=0.462,auroc_train=1.000,auroc=0.982\n",
      "f1_test=0.892+/-0.089, prec=0.829+/-0.146, rec=0.985+/-0.015, auprc=0.909+/-0.100, auroc=0.808+/-0.124\n"
     ]
    }
   ],
   "source": [
    "#LOVO Combined Bradykinesia\n",
    "\n",
    "symptom = 'Bradykinesia'\n",
    "le = LabelEncoder()\n",
    "res_all = pd.DataFrame(data=None,index=None)\n",
    "#train on all sessions, predict on left out session for each patient\n",
    "res_visit_all = [] #data from each subject \n",
    "\n",
    "#remove nan rows for current symptom\n",
    "Data = Datafull.copy() #original unmodified dataframe\n",
    "Data=Data[~Data[symptom].isnull()]\n",
    "Data=Data.reset_index(drop=True) #reset index\n",
    "\n",
    "for s in Data.Subject.unique():\n",
    "    print('Subject %s'%s)\n",
    "    ds = Data.loc[Data.Subject==s]\n",
    "    indp = (ds[symptom]>0).values\n",
    "    y = indp.astype(int) #target \n",
    "    X = ds.iloc[:,6:]\n",
    "    X_std = StandardScaler().fit_transform(X) #standardize input data\n",
    "    models = [RandomForestClassifier(n_estimators=50,random_state=2)]#,XGBClassifier()]\n",
    "    model_name = ['Random Forest']#,'XGB']\n",
    "    models = list(zip(models,model_name))\n",
    "    groups = le.fit_transform(ds.Visit)\n",
    "    if len(np.unique(groups))<2:\n",
    "        continue\n",
    "    res,res_group = LOSOCV(ds,X_std,y,groups,models)\n",
    "    res.index = res.index+s\n",
    "    res_all=pd.concat((res_all,res))\n",
    "    res_visit_all.append(res_group)"
   ]
  },
  {
   "cell_type": "code",
   "execution_count": 35,
   "metadata": {},
   "outputs": [
    {
     "data": {
      "image/png": "[encoded data removed]",
      "text/plain": [
       "<matplotlib.figure.Figure at 0x17757cc0>"
      ]
     },
     "metadata": {},
     "output_type": "display_data"
    }
   ],
   "source": [
    "results = res_all.auroc.values\n",
    "np.save('Results/resultsBradykinesiaLOVOCombined.npy',results)\n",
    "\n",
    "#compute mean and std auc\n",
    "subjs=Data.Subject.unique()\n",
    "auc_mean = []; auc_std = []\n",
    "aucdf = pd.DataFrame()\n",
    "for i in range(len(res_visit_all)):\n",
    "\n",
    "    if len(res_visit_all[i]['Random Forest']['auroc']) < 7:\n",
    "        L = len(res_visit_all[i]['Random Forest']['auroc'])\n",
    "        res_visit_all[i]['Random Forest']['auroc'] += (list(np.nan*np.ones(7-L)))\n",
    "    aucdf[subjs[i]] = res_visit_all[i]['Random Forest']['auroc']   \n",
    "    brady_auc = res_visit_all[i]['Random Forest']['auroc']\n",
    "    auc_mean.append(np.nanmean(brady_auc)) #mean across visits\n",
    "    auc_std.append(np.nanstd(brady_auc))\n",
    "    \n",
    "sns.barplot(data=aucdf)\n",
    "ax=plt.xticks(rotation=90)\n",
    "plt.title('LOVO Combined - Mean AUROC = %.3f +/- %.3f'%(np.nanmean(res_all.auroc),np.nanstd(res_all.auroc)))\n",
    "plt.ylim([0.45,1.1])\n",
    "\n",
    "plt.savefig('Results/resultsBradykinesiaLOVOCombined.png',format='png',dpi=1000)"
   ]
  },
  {
   "cell_type": "code",
   "execution_count": 36,
   "metadata": {},
   "outputs": [
    {
     "data": {
      "image/png": "[encoded data removed]",
      "text/plain": [
       "<matplotlib.figure.Figure at 0xc77bda0>"
      ]
     },
     "metadata": {},
     "output_type": "display_data"
    }
   ],
   "source": [
    "resultsEMG = np.load('Results/resultsBradykinesiaLOVOEMG.npy')\n",
    "resultsAccel = np.load('Results/resultsBradykinesiaLOVOAccel.npy')\n",
    "resultsCombined = np.load('Results/resultsBradykinesiaLOVOCombined.npy')\n",
    "results = pd.DataFrame({'EMG':resultsEMG,'Accelerometer':resultsAccel,'Combined':resultsCombined})\n",
    "\n",
    "figure = plt.figure()\n",
    "figure.set_dpi(100)\n",
    "figure.set_size_inches(6.4,4.8)\n",
    "ax = sns.boxplot(data=results);\n",
    "plt.ylabel('AUROC');\n",
    "plt.ylim(0.4,1.1);\n",
    "plt.title('Bradykinesia LOVO');\n",
    "\n",
    "#x1,x2 = 0,1\n",
    "#y, h, col = results['Accelerometer'].max() + 0.02, 0.02, 'k'\n",
    "#plt.plot([x1, x1, x2, x2], [y, y+h, y+h, y], lw=1.5, c=col)\n",
    "#plt.text((x1+x2)*.5, y+h+0.01, \"***\", ha='center', va='bottom', color=col,fontsize=16);\n",
    "\n",
    "plt.savefig('Results/Bradykinesia Comparison Boxplot LOVO.png',format='png',dpi=1000)"
   ]
  },
  {
   "cell_type": "markdown",
   "metadata": {},
   "source": [
    "# Accelerometer and Gyroscope Comparisons"
   ]
  },
  {
   "cell_type": "markdown",
   "metadata": {},
   "source": [
    "## Tremor"
   ]
  },
  {
   "cell_type": "code",
   "execution_count": 37,
   "metadata": {
    "collapsed": true,
    "scrolled": true
   },
   "outputs": [],
   "source": [
    "filename = 'Features_AllLocsHP_Hand.pkl'\n",
    "features_path = r'Z:\\CIS-PD Study\\FeatureMatrix'\n",
    "Dataorig = pickle.load(open(os.path.join(features_path,filename),'rb'))\n",
    "Dataorig = Dataorig.reset_index(drop=True)"
   ]
  },
  {
   "cell_type": "code",
   "execution_count": 38,
   "metadata": {
    "scrolled": true
   },
   "outputs": [
    {
     "name": "stderr",
     "output_type": "stream",
     "text": [
      "C:\\Users\\nshawen\\AppData\\Local\\Continuum\\anaconda3\\lib\\site-packages\\ipykernel_launcher.py:12: FutureWarning: Method .as_matrix will be removed in a future version. Use .values instead.\n",
      "  if sys.path[0] == '':\n"
     ]
    },
    {
     "name": "stdout",
     "output_type": "stream",
     "text": [
      "Rows w Tremor 8937/38675 = 0.23\n",
      "Training Random Forest\n"
     ]
    },
    {
     "name": "stderr",
     "output_type": "stream",
     "text": [
      "C:\\Users\\nshawen\\AppData\\Local\\Continuum\\anaconda3\\lib\\site-packages\\ipykernel_launcher.py:23: FutureWarning: Method .as_matrix will be removed in a future version. Use .values instead.\n"
     ]
    },
    {
     "name": "stdout",
     "output_type": "stream",
     "text": [
      "\n",
      "Subj/Visit 0,prec=0.201,rec=0.202,Spec=0.913,auroc_train=1.000,auroc=0.752\n",
      "\n",
      "Subj/Visit 1,prec=0.635,rec=0.073,Spec=0.965,auroc_train=1.000,auroc=0.761\n",
      "\n",
      "Subj/Visit 2,prec=0.491,rec=0.289,Spec=0.969,auroc_train=1.000,auroc=0.815\n",
      "\n",
      "Subj/Visit 3,prec=0.133,rec=0.366,Spec=0.890,auroc_train=1.000,auroc=0.691\n",
      "\n",
      "Subj/Visit 4,prec=0.540,rec=0.466,Spec=0.892,auroc_train=1.000,auroc=0.791\n",
      "\n",
      "Subj/Visit 5,prec=0.388,rec=0.105,Spec=0.942,auroc_train=1.000,auroc=0.677\n",
      "\n",
      "Subj/Visit 6,prec=0.623,rec=0.275,Spec=0.890,auroc_train=1.000,auroc=0.720\n",
      "\n",
      "Subj/Visit 7,prec=0.600,rec=0.415,Spec=0.982,auroc_train=1.000,auroc=0.892\n",
      "\n",
      "Subj/Visit 8,prec=0.500,rec=0.279,Spec=0.989,auroc_train=1.000,auroc=0.899\n",
      "\n",
      "Subj/Visit 9,prec=0.948,rec=0.270,Spec=0.981,auroc_train=1.000,auroc=0.775\n",
      "\n",
      "Subj/Visit 10,prec=0.271,rec=0.575,Spec=0.941,auroc_train=1.000,auroc=0.917\n",
      "\n",
      "Subj/Visit 11,prec=0.255,rec=0.065,Spec=0.952,auroc_train=1.000,auroc=0.562\n",
      "\n",
      "Subj/Visit 12,prec=0.000,rec=0.000,Spec=0.977,auroc_train=1.000,auroc=0.718\n",
      "\n",
      "Subj/Visit 13,prec=0.751,rec=0.550,Spec=0.863,auroc_train=1.000,auroc=0.813\n",
      "\n",
      "Subj/Visit 14,prec=0.000,rec=0.000,Spec=0.965,auroc_train=1.000,auroc=0.714\n",
      "\n",
      "Subj/Visit 15,prec=0.176,rec=0.169,Spec=0.940,auroc_train=1.000,auroc=0.681\n"
     ]
    },
    {
     "name": "stderr",
     "output_type": "stream",
     "text": [
      "C:\\Users\\nshawen\\AppData\\Local\\Continuum\\anaconda3\\lib\\site-packages\\sklearn\\metrics\\classification.py:1137: UndefinedMetricWarning: F-score is ill-defined and being set to 0.0 due to no true samples.\n",
      "  'recall', 'true', average, warn_for)\n",
      "C:\\Users\\nshawen\\AppData\\Local\\Continuum\\anaconda3\\lib\\site-packages\\sklearn\\metrics\\ranking.py:444: RuntimeWarning: invalid value encountered in true_divide\n",
      "  recall = tps / tps[-1]\n",
      "C:\\Users\\nshawen\\AppData\\Local\\Continuum\\anaconda3\\lib\\site-packages\\sklearn\\metrics\\ranking.py:94: RuntimeWarning: invalid value encountered in less\n",
      "  if np.any(dx < 0):\n",
      "C:\\Users\\nshawen\\AppData\\Local\\Continuum\\anaconda3\\lib\\site-packages\\sklearn\\metrics\\classification.py:1137: UndefinedMetricWarning: Recall is ill-defined and being set to 0.0 due to no true samples.\n",
      "  'recall', 'true', average, warn_for)\n"
     ]
    },
    {
     "name": "stdout",
     "output_type": "stream",
     "text": [
      "only 1 class in test data - cannot compute roc curve\n",
      "\n",
      "Subj/Visit 16,prec=0.000,rec=0.000,Spec=0.975,auroc_train=1.000,auroc=nan\n",
      "\n",
      "Subj/Visit 17,prec=0.000,rec=0.000,Spec=0.956,auroc_train=1.000,auroc=0.766\n",
      "\n",
      "Subj/Visit 18,prec=0.907,rec=0.098,Spec=0.956,auroc_train=1.000,auroc=0.572\n",
      "\n",
      "Subj/Visit 19,prec=0.937,rec=0.271,Spec=0.946,auroc_train=1.000,auroc=0.710\n",
      "f1_test=0.254+/-0.186, prec=0.418+/-0.315, rec=0.223+/-0.179, auprc=0.412+/-0.290, auroc=0.749+/-0.094\n",
      "Elapsed time = 4.611 min\n"
     ]
    }
   ],
   "source": [
    "#LOSO Accelerometer Tremor\n",
    "\n",
    "t1=time.time()\n",
    "res_all = pd.DataFrame()\n",
    "\n",
    "symptom = 'Tremor'\n",
    "\n",
    "Data = Dataorig.copy() #original unmodified dataframe\n",
    "Data=Data[~Data[symptom].isnull()] #remove nan rows for current symptom\n",
    "Data=Data.reset_index(drop=True) #reset index\n",
    "\n",
    "X = Data.iloc[:,7:44].as_matrix()\n",
    "fnames = Data.iloc[:,7:44].columns.values\n",
    "\n",
    "indp = ((Data[symptom]>0))\n",
    "indp = indp.values\n",
    "y = indp.astype(int) #target \n",
    "print('Rows w %s %d/%d = %.2f'%(symptom,sum(indp),len(indp),(sum(indp)/len(indp))))\n",
    "\n",
    "models = [RandomForestClassifier(n_estimators=50,random_state=2)]          \n",
    "model_name = ['Random Forest']\n",
    "models = list(zip(models,model_name))\n",
    "groups = Data.Subject.as_matrix()\n",
    "\n",
    "res,res_group = LOSOCV(Data,X,y,groups,models)\n",
    "res_all = pd.concat((res_all,res))\n",
    "    \n",
    "print('Elapsed time = %.3f min'%((time.time()-t1)/60))    "
   ]
  },
  {
   "cell_type": "code",
   "execution_count": 39,
   "metadata": {},
   "outputs": [
    {
     "data": {
      "image/png": "[encoded data removed]",
      "text/plain": [
       "<matplotlib.figure.Figure at 0x1a8fac88>"
      ]
     },
     "metadata": {},
     "output_type": "display_data"
    }
   ],
   "source": [
    "results = res_group['Random Forest']['auroc']\n",
    "np.save('Results/resultsTremorLOSOAccel_Hand.npy',results)\n",
    "aurocall = res_group['Random Forest']['auroc']\n",
    "sns.barplot(np.unique(groups),aurocall)\n",
    "ax = plt.xticks(rotation=90)\n",
    "plt.ylim([0.5,1.0])\n",
    "plt.title('LOSO Accel - Mean AUROC = %.3f +/- %.3f'%(np.nanmean(aurocall),np.nanstd(aurocall)))\n",
    "plt.savefig('Results/resultsTremorLOSOAccel_Hand.png',format='png',dpi=1000)"
   ]
  },
  {
   "cell_type": "code",
   "execution_count": 40,
   "metadata": {
    "scrolled": true
   },
   "outputs": [
    {
     "name": "stderr",
     "output_type": "stream",
     "text": [
      "C:\\Users\\nshawen\\AppData\\Local\\Continuum\\anaconda3\\lib\\site-packages\\ipykernel_launcher.py:12: FutureWarning: Method .as_matrix will be removed in a future version. Use .values instead.\n",
      "  if sys.path[0] == '':\n"
     ]
    },
    {
     "name": "stdout",
     "output_type": "stream",
     "text": [
      "Rows w Tremor 8937/38675 = 0.23\n",
      "Training Random Forest\n"
     ]
    },
    {
     "name": "stderr",
     "output_type": "stream",
     "text": [
      "C:\\Users\\nshawen\\AppData\\Local\\Continuum\\anaconda3\\lib\\site-packages\\ipykernel_launcher.py:23: FutureWarning: Method .as_matrix will be removed in a future version. Use .values instead.\n"
     ]
    },
    {
     "name": "stdout",
     "output_type": "stream",
     "text": [
      "\n",
      "Subj/Visit 0,prec=0.424,rec=0.383,Spec=0.944,auroc_train=1.000,auroc=0.799\n",
      "\n",
      "Subj/Visit 1,prec=0.810,rec=0.094,Spec=0.982,auroc_train=1.000,auroc=0.759\n",
      "\n",
      "Subj/Visit 2,prec=0.598,rec=0.310,Spec=0.979,auroc_train=1.000,auroc=0.800\n",
      "\n",
      "Subj/Visit 3,prec=0.152,rec=0.312,Spec=0.920,auroc_train=1.000,auroc=0.715\n",
      "\n",
      "Subj/Visit 4,prec=0.532,rec=0.431,Spec=0.896,auroc_train=1.000,auroc=0.796\n",
      "\n",
      "Subj/Visit 5,prec=0.587,rec=0.096,Spec=0.976,auroc_train=1.000,auroc=0.667\n",
      "\n",
      "Subj/Visit 6,prec=0.677,rec=0.358,Spec=0.887,auroc_train=1.000,auroc=0.749\n",
      "\n",
      "Subj/Visit 7,prec=0.639,rec=0.317,Spec=0.988,auroc_train=1.000,auroc=0.909\n",
      "\n",
      "Subj/Visit 8,prec=0.673,rec=0.356,Spec=0.993,auroc_train=1.000,auroc=0.887\n",
      "\n",
      "Subj/Visit 9,prec=0.941,rec=0.312,Spec=0.976,auroc_train=1.000,auroc=0.786\n",
      "\n",
      "Subj/Visit 10,prec=0.205,rec=0.300,Spec=0.956,auroc_train=1.000,auroc=0.869\n",
      "\n",
      "Subj/Visit 11,prec=0.618,rec=0.299,Spec=0.953,auroc_train=1.000,auroc=0.726\n",
      "\n",
      "Subj/Visit 12,prec=0.000,rec=0.000,Spec=0.985,auroc_train=1.000,auroc=0.482\n",
      "\n",
      "Subj/Visit 13,prec=0.700,rec=0.514,Spec=0.835,auroc_train=1.000,auroc=0.774\n",
      "\n",
      "Subj/Visit 14,prec=0.069,rec=0.833,Spec=0.965,auroc_train=1.000,auroc=0.964\n",
      "\n",
      "Subj/Visit 15,prec=0.161,rec=0.185,Spec=0.927,auroc_train=1.000,auroc=0.716\n"
     ]
    },
    {
     "name": "stderr",
     "output_type": "stream",
     "text": [
      "C:\\Users\\nshawen\\AppData\\Local\\Continuum\\anaconda3\\lib\\site-packages\\sklearn\\metrics\\classification.py:1137: UndefinedMetricWarning: F-score is ill-defined and being set to 0.0 due to no true samples.\n",
      "  'recall', 'true', average, warn_for)\n",
      "C:\\Users\\nshawen\\AppData\\Local\\Continuum\\anaconda3\\lib\\site-packages\\sklearn\\metrics\\ranking.py:444: RuntimeWarning: invalid value encountered in true_divide\n",
      "  recall = tps / tps[-1]\n",
      "C:\\Users\\nshawen\\AppData\\Local\\Continuum\\anaconda3\\lib\\site-packages\\sklearn\\metrics\\ranking.py:94: RuntimeWarning: invalid value encountered in less\n",
      "  if np.any(dx < 0):\n",
      "C:\\Users\\nshawen\\AppData\\Local\\Continuum\\anaconda3\\lib\\site-packages\\sklearn\\metrics\\classification.py:1137: UndefinedMetricWarning: Recall is ill-defined and being set to 0.0 due to no true samples.\n",
      "  'recall', 'true', average, warn_for)\n"
     ]
    },
    {
     "name": "stdout",
     "output_type": "stream",
     "text": [
      "only 1 class in test data - cannot compute roc curve\n",
      "\n",
      "Subj/Visit 16,prec=0.000,rec=0.000,Spec=0.967,auroc_train=1.000,auroc=nan\n",
      "\n",
      "Subj/Visit 17,prec=0.033,rec=0.167,Spec=0.966,auroc_train=1.000,auroc=0.898\n",
      "\n",
      "Subj/Visit 18,prec=0.927,rec=0.186,Spec=0.936,auroc_train=1.000,auroc=0.640\n",
      "\n",
      "Subj/Visit 19,prec=0.903,rec=0.352,Spec=0.887,auroc_train=1.000,auroc=0.703\n",
      "f1_test=0.303+/-0.177, prec=0.482+/-0.317, rec=0.290+/-0.183, auprc=0.454+/-0.267, auroc=0.770+/-0.108\n",
      "Elapsed time = 4.645 min\n"
     ]
    }
   ],
   "source": [
    "#LOSO Gyroscope Tremor\n",
    "\n",
    "t1=time.time()\n",
    "res_all = pd.DataFrame()\n",
    "\n",
    "symptom = 'Tremor'\n",
    "\n",
    "Data = Dataorig.copy() #original unmodified dataframe\n",
    "Data=Data[~Data[symptom].isnull()] #remove nan rows for current symptom\n",
    "Data=Data.reset_index(drop=True) #reset index\n",
    "\n",
    "X = Data.iloc[:,44:].as_matrix()\n",
    "fnames = Data.iloc[:,44:].columns.values\n",
    "\n",
    "indp = ((Data[symptom]>0))\n",
    "indp = indp.values\n",
    "y = indp.astype(int) #target \n",
    "print('Rows w %s %d/%d = %.2f'%(symptom,sum(indp),len(indp),(sum(indp)/len(indp))))\n",
    "\n",
    "models = [RandomForestClassifier(n_estimators=50,random_state=2)]          \n",
    "model_name = ['Random Forest']\n",
    "models = list(zip(models,model_name))\n",
    "groups = Data.Subject.as_matrix()\n",
    "\n",
    "res,res_group = LOSOCV(Data,X,y,groups,models)\n",
    "res_all = pd.concat((res_all,res))\n",
    "    \n",
    "print('Elapsed time = %.3f min'%((time.time()-t1)/60))    "
   ]
  },
  {
   "cell_type": "code",
   "execution_count": 41,
   "metadata": {},
   "outputs": [
    {
     "data": {
      "image/png": "[encoded data removed]",
      "text/plain": [
       "<matplotlib.figure.Figure at 0x16364b70>"
      ]
     },
     "metadata": {},
     "output_type": "display_data"
    }
   ],
   "source": [
    "results = res_group['Random Forest']['auroc']\n",
    "np.save('Results/resultsTremorLOSOGyro_Hand.npy',results)\n",
    "aurocall = res_group['Random Forest']['auroc']\n",
    "sns.barplot(np.unique(groups),aurocall)\n",
    "ax = plt.xticks(rotation=90)\n",
    "plt.ylim([0.4,1.0])\n",
    "plt.title('LOSO Gyro - Mean AUROC = %.3f +/- %.3f'%(np.nanmean(aurocall),np.nanstd(aurocall)))\n",
    "plt.savefig('Results/resultsTremorLOSOGyro_Hand.png',format='png',dpi=1000)"
   ]
  },
  {
   "cell_type": "code",
   "execution_count": 42,
   "metadata": {
    "scrolled": true
   },
   "outputs": [
    {
     "name": "stderr",
     "output_type": "stream",
     "text": [
      "C:\\Users\\nshawen\\AppData\\Local\\Continuum\\anaconda3\\lib\\site-packages\\ipykernel_launcher.py:12: FutureWarning: Method .as_matrix will be removed in a future version. Use .values instead.\n",
      "  if sys.path[0] == '':\n"
     ]
    },
    {
     "name": "stdout",
     "output_type": "stream",
     "text": [
      "Rows w Tremor 8937/38675 = 0.23\n",
      "Training Random Forest\n",
      "\n",
      "Subj/Visit 0,prec=0.420,rec=0.394,Spec=0.941,auroc_train=1.000,auroc=0.814\n",
      "\n",
      "Subj/Visit 1,prec=0.712,rec=0.084,Spec=0.972,auroc_train=1.000,auroc=0.765\n",
      "\n",
      "Subj/Visit 2,prec=0.554,rec=0.246,Spec=0.980,auroc_train=1.000,auroc=0.810\n",
      "\n",
      "Subj/Visit 3,prec=0.124,rec=0.269,Spec=0.913,auroc_train=1.000,auroc=0.714\n",
      "\n",
      "Subj/Visit 4,prec=0.605,rec=0.448,Spec=0.920,auroc_train=1.000,auroc=0.784\n",
      "\n",
      "Subj/Visit 5,prec=0.486,rec=0.091,Spec=0.966,auroc_train=1.000,auroc=0.682\n",
      "\n",
      "Subj/Visit 6,prec=0.664,rec=0.358,Spec=0.880,auroc_train=1.000,auroc=0.741\n",
      "\n",
      "Subj/Visit 7,prec=0.743,rec=0.423,Spec=0.991,auroc_train=1.000,auroc=0.903\n",
      "\n",
      "Subj/Visit 8,prec=0.667,rec=0.346,Spec=0.993,auroc_train=1.000,auroc=0.884\n",
      "\n",
      "Subj/Visit 9,prec=0.947,rec=0.307,Spec=0.979,auroc_train=1.000,auroc=0.780\n",
      "\n",
      "Subj/Visit 10,prec=0.288,rec=0.525,Spec=0.951,auroc_train=1.000,auroc=0.940\n",
      "\n",
      "Subj/Visit 11,prec=0.462,rec=0.140,Spec=0.958,auroc_train=1.000,auroc=0.656\n",
      "\n",
      "Subj/Visit 12,prec=0.000,rec=0.000,Spec=0.989,auroc_train=1.000,auroc=0.641\n",
      "\n",
      "Subj/Visit 13,prec=0.729,rec=0.537,Spec=0.850,auroc_train=1.000,auroc=0.804\n",
      "\n",
      "Subj/Visit 14,prec=0.000,rec=0.000,Spec=0.967,auroc_train=1.000,auroc=0.833\n",
      "\n",
      "Subj/Visit 15,prec=0.182,rec=0.145,Spec=0.950,auroc_train=1.000,auroc=0.722\n"
     ]
    },
    {
     "name": "stderr",
     "output_type": "stream",
     "text": [
      "C:\\Users\\nshawen\\AppData\\Local\\Continuum\\anaconda3\\lib\\site-packages\\ipykernel_launcher.py:23: FutureWarning: Method .as_matrix will be removed in a future version. Use .values instead.\n",
      "C:\\Users\\nshawen\\AppData\\Local\\Continuum\\anaconda3\\lib\\site-packages\\sklearn\\metrics\\classification.py:1137: UndefinedMetricWarning: F-score is ill-defined and being set to 0.0 due to no true samples.\n",
      "  'recall', 'true', average, warn_for)\n",
      "C:\\Users\\nshawen\\AppData\\Local\\Continuum\\anaconda3\\lib\\site-packages\\sklearn\\metrics\\ranking.py:444: RuntimeWarning: invalid value encountered in true_divide\n",
      "  recall = tps / tps[-1]\n",
      "C:\\Users\\nshawen\\AppData\\Local\\Continuum\\anaconda3\\lib\\site-packages\\sklearn\\metrics\\ranking.py:94: RuntimeWarning: invalid value encountered in less\n",
      "  if np.any(dx < 0):\n",
      "C:\\Users\\nshawen\\AppData\\Local\\Continuum\\anaconda3\\lib\\site-packages\\sklearn\\metrics\\classification.py:1137: UndefinedMetricWarning: Recall is ill-defined and being set to 0.0 due to no true samples.\n",
      "  'recall', 'true', average, warn_for)\n"
     ]
    },
    {
     "name": "stdout",
     "output_type": "stream",
     "text": [
      "only 1 class in test data - cannot compute roc curve\n",
      "\n",
      "Subj/Visit 16,prec=0.000,rec=0.000,Spec=0.980,auroc_train=1.000,auroc=nan\n",
      "\n",
      "Subj/Visit 17,prec=0.031,rec=0.167,Spec=0.964,auroc_train=1.000,auroc=0.915\n",
      "\n",
      "Subj/Visit 18,prec=0.947,rec=0.151,Spec=0.963,auroc_train=1.000,auroc=0.600\n",
      "\n",
      "Subj/Visit 19,prec=0.929,rec=0.320,Spec=0.927,auroc_train=1.000,auroc=0.721\n",
      "f1_test=0.291+/-0.194, prec=0.474+/-0.321, rec=0.248+/-0.167, auprc=0.441+/-0.283, auroc=0.774+/-0.093\n",
      "Elapsed time = 5.992 min\n"
     ]
    }
   ],
   "source": [
    "#LOSO Combined Tremor\n",
    "\n",
    "t1=time.time()\n",
    "res_all = pd.DataFrame()\n",
    "\n",
    "symptom = 'Tremor'\n",
    "\n",
    "Data = Dataorig.copy() #original unmodified dataframe\n",
    "Data=Data[~Data[symptom].isnull()] #remove nan rows for current symptom\n",
    "Data=Data.reset_index(drop=True) #reset index\n",
    "\n",
    "X = Data.iloc[:,7:].as_matrix()\n",
    "fnames = Data.iloc[:,7:].columns.values\n",
    "\n",
    "indp = ((Data[symptom]>0))\n",
    "indp = indp.values\n",
    "y = indp.astype(int) #target \n",
    "print('Rows w %s %d/%d = %.2f'%(symptom,sum(indp),len(indp),(sum(indp)/len(indp))))\n",
    "\n",
    "models = [RandomForestClassifier(n_estimators=50,random_state=2)]          \n",
    "model_name = ['Random Forest']\n",
    "models = list(zip(models,model_name))\n",
    "groups = Data.Subject.as_matrix()\n",
    "\n",
    "res,res_group = LOSOCV(Data,X,y,groups,models)\n",
    "res_all = pd.concat((res_all,res))\n",
    "    \n",
    "print('Elapsed time = %.3f min'%((time.time()-t1)/60))    "
   ]
  },
  {
   "cell_type": "code",
   "execution_count": 43,
   "metadata": {},
   "outputs": [
    {
     "data": {
      "image/png": "[encoded data removed]",
      "text/plain": [
       "<matplotlib.figure.Figure at 0x18101a58>"
      ]
     },
     "metadata": {},
     "output_type": "display_data"
    }
   ],
   "source": [
    "results = res_group['Random Forest']['auroc']\n",
    "np.save('Results/resultsTremorLOSOCombined_Hand.npy',results)\n",
    "aurocall = res_group['Random Forest']['auroc']\n",
    "sns.barplot(np.unique(groups),aurocall)\n",
    "ax = plt.xticks(rotation=90)\n",
    "plt.ylim([0.60,1.0])\n",
    "plt.title('LOSO Combined - Mean AUROC = %.3f +/- %.3f'%(np.nanmean(aurocall),np.nanstd(aurocall)))\n",
    "plt.savefig('Results/resultsTremorLOSOCombined_Hand.png',format='png',dpi=1000)"
   ]
  },
  {
   "cell_type": "code",
   "execution_count": 44,
   "metadata": {},
   "outputs": [
    {
     "data": {
      "image/png": "[encoded data removed]",
      "text/plain": [
       "<matplotlib.figure.Figure at 0x18249cf8>"
      ]
     },
     "metadata": {},
     "output_type": "display_data"
    }
   ],
   "source": [
    "resultsAccel = np.load('Results/resultsTremorLOSOAccel_Hand.npy')\n",
    "resultsGyro = np.load('Results/resultsTremorLOSOGyro_Hand.npy')\n",
    "resultsCombined = np.load('Results/resultsTremorLOSOCombined_Hand.npy')\n",
    "results = pd.DataFrame({'Accelerometer':resultsAccel,'Gyroscope':resultsGyro,'Combined':resultsCombined})\n",
    "\n",
    "figure = plt.figure()\n",
    "figure.set_dpi(100)\n",
    "figure.set_size_inches(6.4,4.8)\n",
    "ax = sns.boxplot(data=results);\n",
    "plt.ylabel('AUROC');\n",
    "plt.ylim(0.3,1.1);\n",
    "plt.title('Tremor LOSO');\n",
    "\n",
    "#x1,x2 = 0,1\n",
    "#y, h, col = results['Accelerometer'].max() + 0.02, 0.02, 'k'\n",
    "#plt.plot([x1, x1, x2, x2], [y, y+h, y+h, y], lw=1.5, c=col)\n",
    "#plt.text((x1+x2)*.5, y+h+0.01, \"***\", ha='center', va='bottom', color=col,fontsize=16);\n",
    "\n",
    "plt.savefig('Results/Tremor Comparison Boxplot LOSO Hand.png',format='png',dpi=1000)"
   ]
  },
  {
   "cell_type": "markdown",
   "metadata": {},
   "source": [
    "## Bradykinesia"
   ]
  },
  {
   "cell_type": "code",
   "execution_count": 45,
   "metadata": {
    "collapsed": true,
    "scrolled": true
   },
   "outputs": [],
   "source": [
    "filename = 'Features_AllLocsHP+LP_Hand.pkl'\n",
    "features_path = r'Z:\\CIS-PD Study\\FeatureMatrix'\n",
    "Dataorig = pickle.load(open(os.path.join(features_path,filename),'rb'))\n",
    "Dataorig = Dataorig.reset_index(drop=True)"
   ]
  },
  {
   "cell_type": "code",
   "execution_count": 46,
   "metadata": {
    "scrolled": true
   },
   "outputs": [
    {
     "name": "stderr",
     "output_type": "stream",
     "text": [
      "C:\\Users\\nshawen\\AppData\\Local\\Continuum\\anaconda3\\lib\\site-packages\\ipykernel_launcher.py:12: FutureWarning: Method .as_matrix will be removed in a future version. Use .values instead.\n",
      "  if sys.path[0] == '':\n",
      "C:\\Users\\nshawen\\AppData\\Local\\Continuum\\anaconda3\\lib\\site-packages\\ipykernel_launcher.py:23: FutureWarning: Method .as_matrix will be removed in a future version. Use .values instead.\n"
     ]
    },
    {
     "name": "stdout",
     "output_type": "stream",
     "text": [
      "Rows w Bradykinesia 16682/32592 = 0.51\n",
      "Training Random Forest\n",
      "\n",
      "Subj/Visit 0,prec=0.499,rec=0.593,Spec=0.703,auroc_train=1.000,auroc=0.710\n",
      "\n",
      "Subj/Visit 1,prec=0.955,rec=0.711,Spec=0.639,auroc_train=1.000,auroc=0.758\n",
      "\n",
      "Subj/Visit 2,prec=0.688,rec=0.698,Spec=0.582,auroc_train=1.000,auroc=0.707\n",
      "\n",
      "Subj/Visit 3,prec=0.449,rec=0.904,Spec=0.557,auroc_train=1.000,auroc=0.795\n",
      "\n",
      "Subj/Visit 4,prec=0.552,rec=0.741,Spec=0.440,auroc_train=1.000,auroc=0.628\n",
      "\n",
      "Subj/Visit 5,prec=0.748,rec=0.565,Spec=0.681,auroc_train=1.000,auroc=0.673\n",
      "\n",
      "Subj/Visit 6,prec=0.661,rec=0.585,Spec=0.570,auroc_train=1.000,auroc=0.579\n",
      "\n",
      "Subj/Visit 7,prec=0.616,rec=0.734,Spec=0.573,auroc_train=1.000,auroc=0.734\n",
      "\n",
      "Subj/Visit 8,prec=0.941,rec=0.709,Spec=0.728,auroc_train=1.000,auroc=0.794\n",
      "\n",
      "Subj/Visit 9,prec=0.367,rec=0.659,Spec=0.559,auroc_train=1.000,auroc=0.663\n",
      "\n",
      "Subj/Visit 10,prec=0.648,rec=0.800,Spec=0.576,auroc_train=1.000,auroc=0.756\n",
      "\n",
      "Subj/Visit 11,prec=0.617,rec=0.679,Spec=0.696,auroc_train=1.000,auroc=0.755\n",
      "\n",
      "Subj/Visit 12,prec=0.225,rec=0.830,Spec=0.641,auroc_train=1.000,auroc=0.808\n",
      "\n",
      "Subj/Visit 13,prec=0.550,rec=0.573,Spec=0.450,auroc_train=1.000,auroc=0.515\n",
      "\n",
      "Subj/Visit 14,prec=0.219,rec=0.636,Spec=0.565,auroc_train=1.000,auroc=0.639\n",
      "\n",
      "Subj/Visit 15,prec=0.777,rec=0.575,Spec=0.794,auroc_train=1.000,auroc=0.790\n",
      "\n",
      "Subj/Visit 16,prec=0.288,rec=0.684,Spec=0.554,auroc_train=1.000,auroc=0.652\n",
      "\n",
      "Subj/Visit 17,prec=0.710,rec=0.697,Spec=0.692,auroc_train=1.000,auroc=0.749\n",
      "\n",
      "Subj/Visit 18,prec=0.640,rec=0.544,Spec=0.691,auroc_train=1.000,auroc=0.695\n",
      "\n",
      "Subj/Visit 19,prec=0.931,rec=0.492,Spec=0.669,auroc_train=1.000,auroc=0.606\n",
      "f1_test=0.605+/-0.129, prec=0.604+/-0.213, rec=0.670+/-0.101, auprc=0.641+/-0.195, auroc=0.700+/-0.078\n",
      "Elapsed time = 4.163 min\n"
     ]
    }
   ],
   "source": [
    "#LOSO Accelerometer Bradykinesia\n",
    "\n",
    "t1=time.time()\n",
    "res_all = pd.DataFrame()\n",
    "\n",
    "symptom = 'Bradykinesia'\n",
    "\n",
    "Data = Dataorig.copy() #original unmodified dataframe\n",
    "Data=Data[~Data[symptom].isnull()] #remove nan rows for current symptom\n",
    "Data=Data.reset_index(drop=True) #reset index\n",
    "\n",
    "X = Data.iloc[:,7:44].as_matrix()\n",
    "fnames = Data.iloc[:,7:44].columns.values\n",
    "\n",
    "indp = ((Data[symptom]>0))\n",
    "indp = indp.values\n",
    "y = indp.astype(int) #target \n",
    "print('Rows w %s %d/%d = %.2f'%(symptom,sum(indp),len(indp),(sum(indp)/len(indp))))\n",
    "\n",
    "models = [RandomForestClassifier(n_estimators=50,random_state=2)]          \n",
    "model_name = ['Random Forest']\n",
    "models = list(zip(models,model_name))\n",
    "groups = Data.Subject.as_matrix()\n",
    "\n",
    "res,res_group = LOSOCV(Data,X,y,groups,models)\n",
    "res_all = pd.concat((res_all,res))\n",
    "    \n",
    "print('Elapsed time = %.3f min'%((time.time()-t1)/60))    "
   ]
  },
  {
   "cell_type": "code",
   "execution_count": 47,
   "metadata": {},
   "outputs": [
    {
     "data": {
      "image/png": "[encoded data removed]",
      "text/plain": [
       "<matplotlib.figure.Figure at 0x18c5e390>"
      ]
     },
     "metadata": {},
     "output_type": "display_data"
    }
   ],
   "source": [
    "results = res_group['Random Forest']['auroc']\n",
    "np.save('Results/resultsBradykinesiaLOSOAccel_Hand.npy',results)\n",
    "aurocall = res_group['Random Forest']['auroc']\n",
    "sns.barplot(np.unique(groups),aurocall)\n",
    "ax = plt.xticks(rotation=90)\n",
    "plt.ylim([0.5,1.0])\n",
    "plt.title('LOSO Accel - Mean AUROC = %.3f +/- %.3f'%(np.nanmean(aurocall),np.nanstd(aurocall)))\n",
    "plt.savefig('Results/resultsBradykinesiaLOSOAccel_Hand.png',format='png',dpi=1000)"
   ]
  },
  {
   "cell_type": "code",
   "execution_count": 48,
   "metadata": {
    "scrolled": true
   },
   "outputs": [
    {
     "name": "stderr",
     "output_type": "stream",
     "text": [
      "C:\\Users\\nshawen\\AppData\\Local\\Continuum\\anaconda3\\lib\\site-packages\\ipykernel_launcher.py:12: FutureWarning: Method .as_matrix will be removed in a future version. Use .values instead.\n",
      "  if sys.path[0] == '':\n"
     ]
    },
    {
     "name": "stdout",
     "output_type": "stream",
     "text": [
      "Rows w Tremor 8937/38675 = 0.23\n",
      "Training Random Forest\n"
     ]
    },
    {
     "name": "stderr",
     "output_type": "stream",
     "text": [
      "C:\\Users\\nshawen\\AppData\\Local\\Continuum\\anaconda3\\lib\\site-packages\\ipykernel_launcher.py:23: FutureWarning: Method .as_matrix will be removed in a future version. Use .values instead.\n"
     ]
    },
    {
     "name": "stdout",
     "output_type": "stream",
     "text": [
      "\n",
      "Subj/Visit 0,prec=0.424,rec=0.383,Spec=0.944,auroc_train=1.000,auroc=0.799\n",
      "\n",
      "Subj/Visit 1,prec=0.810,rec=0.094,Spec=0.982,auroc_train=1.000,auroc=0.759\n",
      "\n",
      "Subj/Visit 2,prec=0.598,rec=0.310,Spec=0.979,auroc_train=1.000,auroc=0.800\n",
      "\n",
      "Subj/Visit 3,prec=0.152,rec=0.312,Spec=0.920,auroc_train=1.000,auroc=0.715\n",
      "\n",
      "Subj/Visit 4,prec=0.532,rec=0.431,Spec=0.896,auroc_train=1.000,auroc=0.796\n",
      "\n",
      "Subj/Visit 5,prec=0.587,rec=0.096,Spec=0.976,auroc_train=1.000,auroc=0.667\n",
      "\n",
      "Subj/Visit 6,prec=0.677,rec=0.358,Spec=0.887,auroc_train=1.000,auroc=0.749\n",
      "\n",
      "Subj/Visit 7,prec=0.639,rec=0.317,Spec=0.988,auroc_train=1.000,auroc=0.909\n",
      "\n",
      "Subj/Visit 8,prec=0.673,rec=0.356,Spec=0.993,auroc_train=1.000,auroc=0.887\n",
      "\n",
      "Subj/Visit 9,prec=0.941,rec=0.312,Spec=0.976,auroc_train=1.000,auroc=0.786\n",
      "\n",
      "Subj/Visit 10,prec=0.205,rec=0.300,Spec=0.956,auroc_train=1.000,auroc=0.869\n",
      "\n",
      "Subj/Visit 11,prec=0.618,rec=0.299,Spec=0.953,auroc_train=1.000,auroc=0.726\n",
      "\n",
      "Subj/Visit 12,prec=0.000,rec=0.000,Spec=0.985,auroc_train=1.000,auroc=0.482\n",
      "\n",
      "Subj/Visit 13,prec=0.700,rec=0.514,Spec=0.835,auroc_train=1.000,auroc=0.774\n",
      "\n",
      "Subj/Visit 14,prec=0.069,rec=0.833,Spec=0.965,auroc_train=1.000,auroc=0.964\n",
      "\n",
      "Subj/Visit 15,prec=0.161,rec=0.185,Spec=0.927,auroc_train=1.000,auroc=0.716\n"
     ]
    },
    {
     "name": "stderr",
     "output_type": "stream",
     "text": [
      "C:\\Users\\nshawen\\AppData\\Local\\Continuum\\anaconda3\\lib\\site-packages\\sklearn\\metrics\\classification.py:1137: UndefinedMetricWarning: F-score is ill-defined and being set to 0.0 due to no true samples.\n",
      "  'recall', 'true', average, warn_for)\n",
      "C:\\Users\\nshawen\\AppData\\Local\\Continuum\\anaconda3\\lib\\site-packages\\sklearn\\metrics\\ranking.py:444: RuntimeWarning: invalid value encountered in true_divide\n",
      "  recall = tps / tps[-1]\n",
      "C:\\Users\\nshawen\\AppData\\Local\\Continuum\\anaconda3\\lib\\site-packages\\sklearn\\metrics\\ranking.py:94: RuntimeWarning: invalid value encountered in less\n",
      "  if np.any(dx < 0):\n",
      "C:\\Users\\nshawen\\AppData\\Local\\Continuum\\anaconda3\\lib\\site-packages\\sklearn\\metrics\\classification.py:1137: UndefinedMetricWarning: Recall is ill-defined and being set to 0.0 due to no true samples.\n",
      "  'recall', 'true', average, warn_for)\n"
     ]
    },
    {
     "name": "stdout",
     "output_type": "stream",
     "text": [
      "only 1 class in test data - cannot compute roc curve\n",
      "\n",
      "Subj/Visit 16,prec=0.000,rec=0.000,Spec=0.967,auroc_train=1.000,auroc=nan\n",
      "\n",
      "Subj/Visit 17,prec=0.033,rec=0.167,Spec=0.966,auroc_train=1.000,auroc=0.898\n",
      "\n",
      "Subj/Visit 18,prec=0.927,rec=0.186,Spec=0.936,auroc_train=1.000,auroc=0.640\n",
      "\n",
      "Subj/Visit 19,prec=0.903,rec=0.352,Spec=0.887,auroc_train=1.000,auroc=0.703\n",
      "f1_test=0.303+/-0.177, prec=0.482+/-0.317, rec=0.290+/-0.183, auprc=0.454+/-0.267, auroc=0.770+/-0.108\n",
      "Elapsed time = 4.625 min\n"
     ]
    }
   ],
   "source": [
    "#LOSO Gyroscope Bradykinesia\n",
    "\n",
    "t1=time.time()\n",
    "res_all = pd.DataFrame()\n",
    "\n",
    "symptom = 'Tremor'\n",
    "\n",
    "Data = Dataorig.copy() #original unmodified dataframe\n",
    "Data=Data[~Data[symptom].isnull()] #remove nan rows for current symptom\n",
    "Data=Data.reset_index(drop=True) #reset index\n",
    "\n",
    "X = Data.iloc[:,44:].as_matrix()\n",
    "fnames = Data.iloc[:,44:].columns.values\n",
    "\n",
    "indp = ((Data[symptom]>0))\n",
    "indp = indp.values\n",
    "y = indp.astype(int) #target \n",
    "print('Rows w %s %d/%d = %.2f'%(symptom,sum(indp),len(indp),(sum(indp)/len(indp))))\n",
    "\n",
    "models = [RandomForestClassifier(n_estimators=50,random_state=2)]          \n",
    "model_name = ['Random Forest']\n",
    "models = list(zip(models,model_name))\n",
    "groups = Data.Subject.as_matrix()\n",
    "\n",
    "res,res_group = LOSOCV(Data,X,y,groups,models)\n",
    "res_all = pd.concat((res_all,res))\n",
    "    \n",
    "print('Elapsed time = %.3f min'%((time.time()-t1)/60))    "
   ]
  },
  {
   "cell_type": "code",
   "execution_count": 49,
   "metadata": {},
   "outputs": [
    {
     "data": {
      "image/png": "[encoded data removed]",
      "text/plain": [
       "<matplotlib.figure.Figure at 0x18c54588>"
      ]
     },
     "metadata": {},
     "output_type": "display_data"
    }
   ],
   "source": [
    "results = res_group['Random Forest']['auroc']\n",
    "np.save('Results/resultsBradykinesiaLOSOGyro_Hand.npy',results)\n",
    "aurocall = res_group['Random Forest']['auroc']\n",
    "sns.barplot(np.unique(groups),aurocall)\n",
    "ax = plt.xticks(rotation=90)\n",
    "plt.ylim([0.4,1.0])\n",
    "plt.title('LOSO Gyro - Mean AUROC = %.3f +/- %.3f'%(np.nanmean(aurocall),np.nanstd(aurocall)))\n",
    "plt.savefig('Results/resultsBradykinesiaLOSOGyro_Hand.png',format='png',dpi=1000)"
   ]
  },
  {
   "cell_type": "code",
   "execution_count": 50,
   "metadata": {
    "scrolled": true
   },
   "outputs": [
    {
     "name": "stderr",
     "output_type": "stream",
     "text": [
      "C:\\Users\\nshawen\\AppData\\Local\\Continuum\\anaconda3\\lib\\site-packages\\ipykernel_launcher.py:12: FutureWarning: Method .as_matrix will be removed in a future version. Use .values instead.\n",
      "  if sys.path[0] == '':\n"
     ]
    },
    {
     "name": "stdout",
     "output_type": "stream",
     "text": [
      "Rows w Tremor 8937/38675 = 0.23\n",
      "Training Random Forest\n"
     ]
    },
    {
     "name": "stderr",
     "output_type": "stream",
     "text": [
      "C:\\Users\\nshawen\\AppData\\Local\\Continuum\\anaconda3\\lib\\site-packages\\ipykernel_launcher.py:23: FutureWarning: Method .as_matrix will be removed in a future version. Use .values instead.\n"
     ]
    },
    {
     "name": "stdout",
     "output_type": "stream",
     "text": [
      "\n",
      "Subj/Visit 0,prec=0.445,rec=0.388,Spec=0.948,auroc_train=1.000,auroc=0.821\n",
      "\n",
      "Subj/Visit 1,prec=0.771,rec=0.108,Spec=0.973,auroc_train=1.000,auroc=0.801\n",
      "\n",
      "Subj/Visit 2,prec=0.674,rec=0.332,Spec=0.984,auroc_train=1.000,auroc=0.818\n",
      "\n",
      "Subj/Visit 3,prec=0.178,rec=0.333,Spec=0.929,auroc_train=1.000,auroc=0.722\n",
      "\n",
      "Subj/Visit 4,prec=0.481,rec=0.431,Spec=0.873,auroc_train=1.000,auroc=0.788\n",
      "\n",
      "Subj/Visit 5,prec=0.690,rec=0.087,Spec=0.986,auroc_train=1.000,auroc=0.682\n",
      "\n",
      "Subj/Visit 6,prec=0.699,rec=0.380,Spec=0.891,auroc_train=1.000,auroc=0.760\n",
      "\n",
      "Subj/Visit 7,prec=0.847,rec=0.407,Spec=0.995,auroc_train=1.000,auroc=0.919\n",
      "\n",
      "Subj/Visit 8,prec=0.547,rec=0.337,Spec=0.989,auroc_train=1.000,auroc=0.903\n",
      "\n",
      "Subj/Visit 9,prec=0.948,rec=0.314,Spec=0.979,auroc_train=1.000,auroc=0.802\n",
      "\n",
      "Subj/Visit 10,prec=0.266,rec=0.362,Spec=0.962,auroc_train=1.000,auroc=0.920\n",
      "\n",
      "Subj/Visit 11,prec=0.748,rec=0.317,Spec=0.973,auroc_train=1.000,auroc=0.728\n",
      "\n",
      "Subj/Visit 12,prec=0.000,rec=0.000,Spec=0.987,auroc_train=1.000,auroc=0.793\n",
      "\n",
      "Subj/Visit 13,prec=0.719,rec=0.561,Spec=0.835,auroc_train=1.000,auroc=0.796\n",
      "\n",
      "Subj/Visit 14,prec=0.018,rec=0.167,Spec=0.971,auroc_train=1.000,auroc=0.866\n",
      "\n",
      "Subj/Visit 15,prec=0.208,rec=0.169,Spec=0.951,auroc_train=1.000,auroc=0.759\n"
     ]
    },
    {
     "name": "stderr",
     "output_type": "stream",
     "text": [
      "C:\\Users\\nshawen\\AppData\\Local\\Continuum\\anaconda3\\lib\\site-packages\\sklearn\\metrics\\classification.py:1137: UndefinedMetricWarning: F-score is ill-defined and being set to 0.0 due to no true samples.\n",
      "  'recall', 'true', average, warn_for)\n",
      "C:\\Users\\nshawen\\AppData\\Local\\Continuum\\anaconda3\\lib\\site-packages\\sklearn\\metrics\\ranking.py:444: RuntimeWarning: invalid value encountered in true_divide\n",
      "  recall = tps / tps[-1]\n",
      "C:\\Users\\nshawen\\AppData\\Local\\Continuum\\anaconda3\\lib\\site-packages\\sklearn\\metrics\\ranking.py:94: RuntimeWarning: invalid value encountered in less\n",
      "  if np.any(dx < 0):\n",
      "C:\\Users\\nshawen\\AppData\\Local\\Continuum\\anaconda3\\lib\\site-packages\\sklearn\\metrics\\classification.py:1137: UndefinedMetricWarning: Recall is ill-defined and being set to 0.0 due to no true samples.\n",
      "  'recall', 'true', average, warn_for)\n"
     ]
    },
    {
     "name": "stdout",
     "output_type": "stream",
     "text": [
      "only 1 class in test data - cannot compute roc curve\n",
      "\n",
      "Subj/Visit 16,prec=0.000,rec=0.000,Spec=0.977,auroc_train=1.000,auroc=nan\n",
      "\n",
      "Subj/Visit 17,prec=0.000,rec=0.000,Spec=0.974,auroc_train=1.000,auroc=0.885\n",
      "\n",
      "Subj/Visit 18,prec=0.968,rec=0.162,Spec=0.976,auroc_train=1.000,auroc=0.639\n",
      "\n",
      "Subj/Visit 19,prec=0.910,rec=0.348,Spec=0.897,auroc_train=1.000,auroc=0.730\n",
      "f1_test=0.310+/-0.195, prec=0.506+/-0.334, rec=0.260+/-0.157, auprc=0.468+/-0.284, auroc=0.796+/-0.076\n",
      "Elapsed time = 6.145 min\n"
     ]
    }
   ],
   "source": [
    "#LOSO Combined Bradykinesia\n",
    "\n",
    "t1=time.time()\n",
    "res_all = pd.DataFrame()\n",
    "\n",
    "symptom = 'Tremor'\n",
    "\n",
    "Data = Dataorig.copy() #original unmodified dataframe\n",
    "Data=Data[~Data[symptom].isnull()] #remove nan rows for current symptom\n",
    "Data=Data.reset_index(drop=True) #reset index\n",
    "\n",
    "X = Data.iloc[:,7:].as_matrix()\n",
    "fnames = Data.iloc[:,7:].columns.values\n",
    "\n",
    "indp = ((Data[symptom]>0))\n",
    "indp = indp.values\n",
    "y = indp.astype(int) #target \n",
    "print('Rows w %s %d/%d = %.2f'%(symptom,sum(indp),len(indp),(sum(indp)/len(indp))))\n",
    "\n",
    "models = [RandomForestClassifier(n_estimators=50,random_state=2)]          \n",
    "model_name = ['Random Forest']\n",
    "models = list(zip(models,model_name))\n",
    "groups = Data.Subject.as_matrix()\n",
    "\n",
    "res,res_group = LOSOCV(Data,X,y,groups,models)\n",
    "res_all = pd.concat((res_all,res))\n",
    "    \n",
    "print('Elapsed time = %.3f min'%((time.time()-t1)/60))    "
   ]
  },
  {
   "cell_type": "code",
   "execution_count": 51,
   "metadata": {},
   "outputs": [
    {
     "data": {
      "image/png": "[encoded data removed]",
      "text/plain": [
       "<matplotlib.figure.Figure at 0x183c45c0>"
      ]
     },
     "metadata": {},
     "output_type": "display_data"
    }
   ],
   "source": [
    "results = res_group['Random Forest']['auroc']\n",
    "np.save('Results/resultsBradykinesiaLOSOCombined_Hand.npy',results)\n",
    "aurocall = res_group['Random Forest']['auroc']\n",
    "sns.barplot(np.unique(groups),aurocall)\n",
    "ax = plt.xticks(rotation=90)\n",
    "plt.ylim([0.60,1.0])\n",
    "plt.title('LOSO Combined - Mean AUROC = %.3f +/- %.3f'%(np.nanmean(aurocall),np.nanstd(aurocall)))\n",
    "plt.savefig('Results/resultsBradykinesiaLOSOCombined_Hand.png',format='png',dpi=1000)"
   ]
  },
  {
   "cell_type": "code",
   "execution_count": 52,
   "metadata": {},
   "outputs": [
    {
     "data": {
      "image/png": "[encoded data removed]",
      "text/plain": [
       "<matplotlib.figure.Figure at 0xd245748>"
      ]
     },
     "metadata": {},
     "output_type": "display_data"
    }
   ],
   "source": [
    "resultsAccel = np.load('Results/resultsBradykinesiaLOSOAccel_Hand.npy')\n",
    "resultsGyro = np.load('Results/resultsBradykinesiaLOSOGyro_Hand.npy')\n",
    "resultsCombined = np.load('Results/resultsBradykinesiaLOSOCombined_Hand.npy')\n",
    "results = pd.DataFrame({'Accelerometer':resultsAccel,'Gyroscope':resultsGyro,'Combined':resultsCombined})\n",
    "\n",
    "figure = plt.figure()\n",
    "figure.set_dpi(100)\n",
    "figure.set_size_inches(6.4,4.8)\n",
    "ax = sns.boxplot(data=results);\n",
    "plt.ylabel('AUROC');\n",
    "plt.ylim(0.3,1.1);\n",
    "plt.title('Bradykinesia LOSO');\n",
    "\n",
    "#x1,x2 = 0,1\n",
    "#y, h, col = results['Accelerometer'].max() + 0.02, 0.02, 'k'\n",
    "#plt.plot([x1, x1, x2, x2], [y, y+h, y+h, y], lw=1.5, c=col)\n",
    "#plt.text((x1+x2)*.5, y+h+0.01, \"***\", ha='center', va='bottom', color=col,fontsize=16);\n",
    "\n",
    "plt.savefig('Results/Bradykinesia Comparison Boxplot LOSO Hand.png',format='png',dpi=1000)"
   ]
  },
  {
   "cell_type": "markdown",
   "metadata": {},
   "source": [
    "# Smartwatch Comparisons"
   ]
  },
  {
   "cell_type": "markdown",
   "metadata": {},
   "source": [
    "## Tremor"
   ]
  },
  {
   "cell_type": "code",
   "execution_count": 53,
   "metadata": {
    "scrolled": true
   },
   "outputs": [
    {
     "name": "stderr",
     "output_type": "stream",
     "text": [
      "C:\\Users\\nshawen\\AppData\\Local\\Continuum\\anaconda3\\lib\\site-packages\\ipykernel_launcher.py:36: FutureWarning: Method .as_matrix will be removed in a future version. Use .values instead.\n",
      "C:\\Users\\nshawen\\AppData\\Local\\Continuum\\anaconda3\\lib\\site-packages\\ipykernel_launcher.py:49: FutureWarning: Method .as_matrix will be removed in a future version. Use .values instead.\n"
     ]
    },
    {
     "name": "stdout",
     "output_type": "stream",
     "text": [
      "Rows w Tremor 3911/14447 = 0.27\n",
      "Training Random Forest\n",
      "\n",
      "Subj/Visit 0,prec=0.163,rec=0.256,Spec=0.856,auroc_train=1.000,auroc=0.680\n",
      "\n",
      "Subj/Visit 1,prec=0.639,rec=0.134,Spec=0.950,auroc_train=1.000,auroc=0.791\n",
      "\n",
      "Subj/Visit 2,prec=0.589,rec=0.283,Spec=0.957,auroc_train=1.000,auroc=0.810\n",
      "\n",
      "Subj/Visit 3,prec=0.187,rec=0.522,Spec=0.848,auroc_train=1.000,auroc=0.739\n",
      "\n",
      "Subj/Visit 4,prec=0.403,rec=0.141,Spec=0.899,auroc_train=1.000,auroc=0.685\n",
      "\n",
      "Subj/Visit 5,prec=0.583,rec=0.295,Spec=0.821,auroc_train=1.000,auroc=0.690\n",
      "\n",
      "Subj/Visit 6,prec=0.679,rec=0.755,Spec=0.964,auroc_train=1.000,auroc=0.930\n",
      "\n",
      "Subj/Visit 7,prec=0.375,rec=0.355,Spec=0.967,auroc_train=1.000,auroc=0.872\n",
      "\n",
      "Subj/Visit 8,prec=0.939,rec=0.529,Spec=0.961,auroc_train=1.000,auroc=0.903\n"
     ]
    },
    {
     "name": "stderr",
     "output_type": "stream",
     "text": [
      "C:\\Users\\nshawen\\AppData\\Local\\Continuum\\anaconda3\\lib\\site-packages\\sklearn\\metrics\\classification.py:1137: UndefinedMetricWarning: F-score is ill-defined and being set to 0.0 due to no true samples.\n",
      "  'recall', 'true', average, warn_for)\n",
      "C:\\Users\\nshawen\\AppData\\Local\\Continuum\\anaconda3\\lib\\site-packages\\sklearn\\metrics\\ranking.py:444: RuntimeWarning: invalid value encountered in true_divide\n",
      "  recall = tps / tps[-1]\n",
      "C:\\Users\\nshawen\\AppData\\Local\\Continuum\\anaconda3\\lib\\site-packages\\sklearn\\metrics\\ranking.py:94: RuntimeWarning: invalid value encountered in less\n",
      "  if np.any(dx < 0):\n",
      "C:\\Users\\nshawen\\AppData\\Local\\Continuum\\anaconda3\\lib\\site-packages\\sklearn\\metrics\\classification.py:1137: UndefinedMetricWarning: Recall is ill-defined and being set to 0.0 due to no true samples.\n",
      "  'recall', 'true', average, warn_for)\n"
     ]
    },
    {
     "name": "stdout",
     "output_type": "stream",
     "text": [
      "only 1 class in test data - cannot compute roc curve\n",
      "\n",
      "Subj/Visit 9,prec=0.000,rec=0.000,Spec=0.810,auroc_train=1.000,auroc=nan\n",
      "\n",
      "Subj/Visit 10,prec=0.174,rec=0.021,Spec=0.927,auroc_train=1.000,auroc=0.224\n",
      "\n",
      "Subj/Visit 11,prec=0.963,rec=0.540,Spec=0.920,auroc_train=1.000,auroc=0.864\n",
      "\n",
      "Subj/Visit 12,prec=0.010,rec=0.167,Spec=0.897,auroc_train=1.000,auroc=0.734\n",
      "f1_test=0.322+/-0.239, prec=0.439+/-0.311, rec=0.307+/-0.217, auprc=0.475+/-0.291, auroc=0.743+/-0.178\n",
      "Elapsed time = 0.950 min\n"
     ]
    }
   ],
   "source": [
    "#Hand Sensors\n",
    "\n",
    "filename = 'Features_AllLocsHP_Hand.pkl'\n",
    "features_path = r'Z:\\CIS-PD Study\\FeatureMatrix'\n",
    "\n",
    "Dataorig = pickle.load(open(os.path.join(features_path,filename),'rb'))\n",
    "Dataorig = Dataorig.reset_index(drop=True)\n",
    "\n",
    "Dataorig=Dataorig[Dataorig.Subject!=1020]\n",
    "Dataorig = Dataorig.iloc[:,:44]\n",
    "Dataorig = Dataorig.loc[(Dataorig.Subject==1004) & (Dataorig.Side=='right') | \n",
    "                        (Dataorig.Subject==1016) & (Dataorig.Side=='left') | \n",
    "                        (Dataorig.Subject==1018) & (Dataorig.Side=='left') | \n",
    "                        (Dataorig.Subject==1019) & (Dataorig.Side=='left') | \n",
    "#                        (Dataorig.Subject==1020) & (Dataorig.Side=='right') | \n",
    "                        (Dataorig.Subject==1024) & (Dataorig.Side=='left') | \n",
    "                        (Dataorig.Subject==1029) & (Dataorig.Side=='left') | \n",
    "                        (Dataorig.Subject==1030) & (Dataorig.Side=='left') | \n",
    "                        (Dataorig.Subject==1032) & (Dataorig.Side=='left') | \n",
    "                        (Dataorig.Subject==1038) & (Dataorig.Side=='left') | \n",
    "                        (Dataorig.Subject==1044) & (Dataorig.Side=='right') | \n",
    "                        (Dataorig.Subject==1046) & (Dataorig.Side=='right') | \n",
    "                        (Dataorig.Subject==1049) & (Dataorig.Side=='left') | \n",
    "                        (Dataorig.Subject==1051) & (Dataorig.Side=='left')]\n",
    "\n",
    "t1=time.time()\n",
    "res_all = pd.DataFrame()\n",
    "\n",
    "symptom = 'Tremor'\n",
    "    \n",
    "#remove nan rows for current symptom\n",
    "Data = Dataorig.copy() #original unmodified dataframe\n",
    "Data=Data[~Data[symptom].isnull()]\n",
    "Data=Data.reset_index(drop=True) #reset index\n",
    "\n",
    "X = Data.iloc[:,7:].as_matrix()\n",
    "# X = StandardScaler().fit_transform(X)\n",
    "fnames = Data.iloc[:,7:].columns.values\n",
    "\n",
    "indp = ((Data[symptom]>0))\n",
    "indp = indp.values\n",
    "y = indp.astype(int) #target \n",
    "print('Rows w %s %d/%d = %.2f'%(symptom,sum(indp),len(indp),(sum(indp)/len(indp))))\n",
    "\n",
    "models = [RandomForestClassifier(n_estimators=50,random_state=2)]          \n",
    "#           XGBClassifier()]\n",
    "model_name = ['Random Forest']#,'XGB']\n",
    "models = list(zip(models,model_name))\n",
    "groups = Data.Subject.as_matrix()\n",
    "\n",
    "res,res_group = LOSOCV(Data,X,y,groups,models)\n",
    "res_all = pd.concat((res_all,res))\n",
    "    \n",
    "print('Elapsed time = %.3f min'%((time.time()-t1)/60))    "
   ]
  },
  {
   "cell_type": "code",
   "execution_count": 54,
   "metadata": {},
   "outputs": [
    {
     "data": {
      "image/png": "[encoded data removed]",
      "text/plain": [
       "<matplotlib.figure.Figure at 0x575f24e0>"
      ]
     },
     "metadata": {},
     "output_type": "display_data"
    }
   ],
   "source": [
    "results = res_group['Random Forest']['auroc']\n",
    "np.save('Results/resultsTremorHand.npy',results)\n",
    "aurocall = res_group['Random Forest']['auroc']\n",
    "sns.barplot(np.unique(groups),aurocall)\n",
    "ax = plt.xticks(rotation=90)\n",
    "plt.ylim([0.2,1.0])\n",
    "plt.title('LOSO Hand Sensors - Mean AUROC = %.3f +/- %.3f'%(np.nanmean(aurocall),np.nanstd(aurocall)))\n",
    "plt.savefig('Results/resultsTremorHand.png',format='png',dpi=1000)"
   ]
  },
  {
   "cell_type": "code",
   "execution_count": 55,
   "metadata": {
    "scrolled": true
   },
   "outputs": [
    {
     "name": "stderr",
     "output_type": "stream",
     "text": [
      "C:\\Users\\nshawen\\AppData\\Local\\Continuum\\anaconda3\\lib\\site-packages\\ipykernel_launcher.py:19: FutureWarning: Method .as_matrix will be removed in a future version. Use .values instead.\n",
      "C:\\Users\\nshawen\\AppData\\Local\\Continuum\\anaconda3\\lib\\site-packages\\ipykernel_launcher.py:32: FutureWarning: Method .as_matrix will be removed in a future version. Use .values instead.\n"
     ]
    },
    {
     "name": "stdout",
     "output_type": "stream",
     "text": [
      "Rows w Tremor 696/1155 = 0.60\n",
      "Training Random Forest\n",
      "\n",
      "Subj/Visit 0,prec=0.377,rec=0.763,Spec=0.520,auroc_train=1.000,auroc=0.742\n",
      "\n",
      "Subj/Visit 1,prec=0.513,rec=0.800,Spec=0.026,auroc_train=1.000,auroc=0.276\n",
      "\n",
      "Subj/Visit 2,prec=0.947,rec=0.867,Spec=0.333,auroc_train=1.000,auroc=0.705\n",
      "\n",
      "Subj/Visit 3,prec=0.829,rec=0.971,Spec=0.300,auroc_train=1.000,auroc=0.891\n",
      "\n",
      "Subj/Visit 4,prec=0.957,rec=0.930,Spec=0.500,auroc_train=1.000,auroc=0.906\n",
      "\n",
      "Subj/Visit 5,prec=0.771,rec=0.974,Spec=0.807,auroc_train=1.000,auroc=0.934\n",
      "only 1 class in test data - cannot compute roc curve\n",
      "\n",
      "Subj/Visit 6,prec=1.000,rec=0.956,Spec=nan,auroc_train=1.000,auroc=nan\n"
     ]
    },
    {
     "name": "stderr",
     "output_type": "stream",
     "text": [
      "C:\\Users\\nshawen\\AppData\\Local\\Continuum\\anaconda3\\lib\\site-packages\\ipykernel_launcher.py:51: RuntimeWarning: invalid value encountered in long_scalars\n"
     ]
    },
    {
     "name": "stdout",
     "output_type": "stream",
     "text": [
      "\n",
      "Subj/Visit 7,prec=0.129,rec=0.500,Spec=0.289,auroc_train=1.000,auroc=0.484\n",
      "\n",
      "Subj/Visit 8,prec=0.094,rec=1.000,Spec=0.206,auroc_train=1.000,auroc=0.678\n",
      "\n",
      "Subj/Visit 9,prec=0.971,rec=0.479,Spec=0.963,auroc_train=1.000,auroc=0.891\n",
      "only 1 class in test data - cannot compute roc curve\n",
      "\n",
      "Subj/Visit 10,prec=1.000,rec=0.988,Spec=nan,auroc_train=1.000,auroc=nan\n"
     ]
    },
    {
     "name": "stderr",
     "output_type": "stream",
     "text": [
      "C:\\Users\\nshawen\\AppData\\Local\\Continuum\\anaconda3\\lib\\site-packages\\ipykernel_launcher.py:51: RuntimeWarning: invalid value encountered in long_scalars\n"
     ]
    },
    {
     "name": "stdout",
     "output_type": "stream",
     "text": [
      "\n",
      "Subj/Visit 11,prec=1.000,rec=0.189,Spec=1.000,auroc_train=1.000,auroc=0.697\n",
      "f1_test=0.670+/-0.294, prec=0.716+/-0.332, rec=0.785+/-0.249, auprc=0.759+/-0.304, auroc=0.720+/-0.199\n",
      "Elapsed time = 0.060 min\n"
     ]
    }
   ],
   "source": [
    "# Smart Watch\n",
    "\n",
    "Dataorig = pd.read_csv('Z:CIS-PD Study\\\\Downsample\\\\Watch Data 50Hz.csv',index_col=0)\n",
    "Dataorig = Dataorig.reset_index(drop=True)\n",
    "\n",
    "Dataorig=Dataorig[Dataorig.Subject!=1020]\n",
    "Dataorig=Dataorig[Dataorig.Subject!=1030]\n",
    "\n",
    "t1=time.time()\n",
    "res_all = pd.DataFrame()\n",
    "\n",
    "symptom = 'Tremor'\n",
    "    \n",
    "#remove nan rows for current symptom\n",
    "Data = Dataorig.copy() #original unmodified dataframe\n",
    "Data=Data[~Data[symptom].isnull()]\n",
    "Data=Data.reset_index(drop=True) #reset index\n",
    "\n",
    "X = Data.iloc[:,5:].as_matrix()\n",
    "# X = StandardScaler().fit_transform(X)\n",
    "fnames = Data.iloc[:,5:].columns.values\n",
    "\n",
    "indp = ((Data[symptom]>0))\n",
    "indp = indp.values\n",
    "y = indp.astype(int) #target \n",
    "print('Rows w %s %d/%d = %.2f'%(symptom,sum(indp),len(indp),(sum(indp)/len(indp))))\n",
    "\n",
    "models = [RandomForestClassifier(n_estimators=50,random_state=2)]          \n",
    "#           XGBClassifier()]\n",
    "model_name = ['Random Forest']#,'XGB']\n",
    "models = list(zip(models,model_name))\n",
    "groups = Data.Subject.as_matrix()\n",
    "\n",
    "res,res_group = LOSOCV(Data,X,y,groups,models)\n",
    "res_all = pd.concat((res_all,res))\n",
    "    \n",
    "print('Elapsed time = %.3f min'%((time.time()-t1)/60))    "
   ]
  },
  {
   "cell_type": "code",
   "execution_count": 56,
   "metadata": {},
   "outputs": [
    {
     "data": {
      "image/png": "[encoded data removed]",
      "text/plain": [
       "<matplotlib.figure.Figure at 0x1acae278>"
      ]
     },
     "metadata": {},
     "output_type": "display_data"
    }
   ],
   "source": [
    "results = res_group['Random Forest']['auroc']\n",
    "np.save('Results/resultsTremorWatch.npy',results)\n",
    "aurocall = res_group['Random Forest']['auroc']\n",
    "sns.barplot(np.unique(groups),aurocall)\n",
    "ax = plt.xticks(rotation=90)\n",
    "plt.ylim([0.2,1.0])\n",
    "plt.title('LOSO Smart Watch - Mean AUROC = %.3f +/- %.3f'%(np.nanmean(aurocall),np.nanstd(aurocall)))\n",
    "plt.savefig('Results/resultsTremorWatch.png',format='png',dpi=1000)"
   ]
  },
  {
   "cell_type": "code",
   "execution_count": 57,
   "metadata": {},
   "outputs": [
    {
     "ename": "ValueError",
     "evalue": "arrays must all be same length",
     "output_type": "error",
     "traceback": [
      "\u001b[1;31m---------------------------------------------------------------------------\u001b[0m",
      "\u001b[1;31mValueError\u001b[0m                                Traceback (most recent call last)",
      "\u001b[1;32m<ipython-input-57-488fe59464c6>\u001b[0m in \u001b[0;36m<module>\u001b[1;34m()\u001b[0m\n\u001b[0;32m      1\u001b[0m \u001b[0mresultsSensor\u001b[0m \u001b[1;33m=\u001b[0m \u001b[0mnp\u001b[0m\u001b[1;33m.\u001b[0m\u001b[0mload\u001b[0m\u001b[1;33m(\u001b[0m\u001b[1;34m'Results/resultsTremorHand.npy'\u001b[0m\u001b[1;33m)\u001b[0m\u001b[1;33m\u001b[0m\u001b[0m\n\u001b[0;32m      2\u001b[0m \u001b[0mresultsWatch\u001b[0m \u001b[1;33m=\u001b[0m \u001b[0mnp\u001b[0m\u001b[1;33m.\u001b[0m\u001b[0mload\u001b[0m\u001b[1;33m(\u001b[0m\u001b[1;34m'Results/resultsTremorWatch.npy'\u001b[0m\u001b[1;33m)\u001b[0m\u001b[1;33m\u001b[0m\u001b[0m\n\u001b[1;32m----> 3\u001b[1;33m \u001b[0mresults\u001b[0m \u001b[1;33m=\u001b[0m \u001b[0mpd\u001b[0m\u001b[1;33m.\u001b[0m\u001b[0mDataFrame\u001b[0m\u001b[1;33m(\u001b[0m\u001b[1;33m{\u001b[0m\u001b[1;34m'Sensors'\u001b[0m\u001b[1;33m:\u001b[0m\u001b[0mresultsSensor\u001b[0m\u001b[1;33m,\u001b[0m\u001b[1;34m'Smartwatch'\u001b[0m\u001b[1;33m:\u001b[0m\u001b[0mresultsWatch\u001b[0m\u001b[1;33m}\u001b[0m\u001b[1;33m)\u001b[0m\u001b[1;33m\u001b[0m\u001b[0m\n\u001b[0m\u001b[0;32m      4\u001b[0m \u001b[0mfigure\u001b[0m \u001b[1;33m=\u001b[0m \u001b[0mplt\u001b[0m\u001b[1;33m.\u001b[0m\u001b[0mfigure\u001b[0m\u001b[1;33m(\u001b[0m\u001b[1;33m)\u001b[0m\u001b[1;33m\u001b[0m\u001b[0m\n\u001b[0;32m      5\u001b[0m \u001b[0mfigure\u001b[0m\u001b[1;33m.\u001b[0m\u001b[0mset_dpi\u001b[0m\u001b[1;33m(\u001b[0m\u001b[1;36m100\u001b[0m\u001b[1;33m)\u001b[0m\u001b[1;33m\u001b[0m\u001b[0m\n",
      "\u001b[1;32m~\\AppData\\Local\\Continuum\\anaconda3\\lib\\site-packages\\pandas\\core\\frame.py\u001b[0m in \u001b[0;36m__init__\u001b[1;34m(self, data, index, columns, dtype, copy)\u001b[0m\n\u001b[0;32m    390\u001b[0m                                  dtype=dtype, copy=copy)\n\u001b[0;32m    391\u001b[0m         \u001b[1;32melif\u001b[0m \u001b[0misinstance\u001b[0m\u001b[1;33m(\u001b[0m\u001b[0mdata\u001b[0m\u001b[1;33m,\u001b[0m \u001b[0mdict\u001b[0m\u001b[1;33m)\u001b[0m\u001b[1;33m:\u001b[0m\u001b[1;33m\u001b[0m\u001b[0m\n\u001b[1;32m--> 392\u001b[1;33m             \u001b[0mmgr\u001b[0m \u001b[1;33m=\u001b[0m \u001b[0minit_dict\u001b[0m\u001b[1;33m(\u001b[0m\u001b[0mdata\u001b[0m\u001b[1;33m,\u001b[0m \u001b[0mindex\u001b[0m\u001b[1;33m,\u001b[0m \u001b[0mcolumns\u001b[0m\u001b[1;33m,\u001b[0m \u001b[0mdtype\u001b[0m\u001b[1;33m=\u001b[0m\u001b[0mdtype\u001b[0m\u001b[1;33m)\u001b[0m\u001b[1;33m\u001b[0m\u001b[0m\n\u001b[0m\u001b[0;32m    393\u001b[0m         \u001b[1;32melif\u001b[0m \u001b[0misinstance\u001b[0m\u001b[1;33m(\u001b[0m\u001b[0mdata\u001b[0m\u001b[1;33m,\u001b[0m \u001b[0mma\u001b[0m\u001b[1;33m.\u001b[0m\u001b[0mMaskedArray\u001b[0m\u001b[1;33m)\u001b[0m\u001b[1;33m:\u001b[0m\u001b[1;33m\u001b[0m\u001b[0m\n\u001b[0;32m    394\u001b[0m             \u001b[1;32mimport\u001b[0m \u001b[0mnumpy\u001b[0m\u001b[1;33m.\u001b[0m\u001b[0mma\u001b[0m\u001b[1;33m.\u001b[0m\u001b[0mmrecords\u001b[0m \u001b[1;32mas\u001b[0m \u001b[0mmrecords\u001b[0m\u001b[1;33m\u001b[0m\u001b[0m\n",
      "\u001b[1;32m~\\AppData\\Local\\Continuum\\anaconda3\\lib\\site-packages\\pandas\\core\\internals\\construction.py\u001b[0m in \u001b[0;36minit_dict\u001b[1;34m(data, index, columns, dtype)\u001b[0m\n\u001b[0;32m    210\u001b[0m         \u001b[0marrays\u001b[0m \u001b[1;33m=\u001b[0m \u001b[1;33m[\u001b[0m\u001b[0mdata\u001b[0m\u001b[1;33m[\u001b[0m\u001b[0mk\u001b[0m\u001b[1;33m]\u001b[0m \u001b[1;32mfor\u001b[0m \u001b[0mk\u001b[0m \u001b[1;32min\u001b[0m \u001b[0mkeys\u001b[0m\u001b[1;33m]\u001b[0m\u001b[1;33m\u001b[0m\u001b[0m\n\u001b[0;32m    211\u001b[0m \u001b[1;33m\u001b[0m\u001b[0m\n\u001b[1;32m--> 212\u001b[1;33m     \u001b[1;32mreturn\u001b[0m \u001b[0marrays_to_mgr\u001b[0m\u001b[1;33m(\u001b[0m\u001b[0marrays\u001b[0m\u001b[1;33m,\u001b[0m \u001b[0mdata_names\u001b[0m\u001b[1;33m,\u001b[0m \u001b[0mindex\u001b[0m\u001b[1;33m,\u001b[0m \u001b[0mcolumns\u001b[0m\u001b[1;33m,\u001b[0m \u001b[0mdtype\u001b[0m\u001b[1;33m=\u001b[0m\u001b[0mdtype\u001b[0m\u001b[1;33m)\u001b[0m\u001b[1;33m\u001b[0m\u001b[0m\n\u001b[0m\u001b[0;32m    213\u001b[0m \u001b[1;33m\u001b[0m\u001b[0m\n\u001b[0;32m    214\u001b[0m \u001b[1;33m\u001b[0m\u001b[0m\n",
      "\u001b[1;32m~\\AppData\\Local\\Continuum\\anaconda3\\lib\\site-packages\\pandas\\core\\internals\\construction.py\u001b[0m in \u001b[0;36marrays_to_mgr\u001b[1;34m(arrays, arr_names, index, columns, dtype)\u001b[0m\n\u001b[0;32m     49\u001b[0m     \u001b[1;31m# figure out the index, if necessary\u001b[0m\u001b[1;33m\u001b[0m\u001b[1;33m\u001b[0m\u001b[0m\n\u001b[0;32m     50\u001b[0m     \u001b[1;32mif\u001b[0m \u001b[0mindex\u001b[0m \u001b[1;32mis\u001b[0m \u001b[1;32mNone\u001b[0m\u001b[1;33m:\u001b[0m\u001b[1;33m\u001b[0m\u001b[0m\n\u001b[1;32m---> 51\u001b[1;33m         \u001b[0mindex\u001b[0m \u001b[1;33m=\u001b[0m \u001b[0mextract_index\u001b[0m\u001b[1;33m(\u001b[0m\u001b[0marrays\u001b[0m\u001b[1;33m)\u001b[0m\u001b[1;33m\u001b[0m\u001b[0m\n\u001b[0m\u001b[0;32m     52\u001b[0m     \u001b[1;32melse\u001b[0m\u001b[1;33m:\u001b[0m\u001b[1;33m\u001b[0m\u001b[0m\n\u001b[0;32m     53\u001b[0m         \u001b[0mindex\u001b[0m \u001b[1;33m=\u001b[0m \u001b[0mensure_index\u001b[0m\u001b[1;33m(\u001b[0m\u001b[0mindex\u001b[0m\u001b[1;33m)\u001b[0m\u001b[1;33m\u001b[0m\u001b[0m\n",
      "\u001b[1;32m~\\AppData\\Local\\Continuum\\anaconda3\\lib\\site-packages\\pandas\\core\\internals\\construction.py\u001b[0m in \u001b[0;36mextract_index\u001b[1;34m(data)\u001b[0m\n\u001b[0;32m    315\u001b[0m             \u001b[0mlengths\u001b[0m \u001b[1;33m=\u001b[0m \u001b[0mlist\u001b[0m\u001b[1;33m(\u001b[0m\u001b[0mset\u001b[0m\u001b[1;33m(\u001b[0m\u001b[0mraw_lengths\u001b[0m\u001b[1;33m)\u001b[0m\u001b[1;33m)\u001b[0m\u001b[1;33m\u001b[0m\u001b[0m\n\u001b[0;32m    316\u001b[0m             \u001b[1;32mif\u001b[0m \u001b[0mlen\u001b[0m\u001b[1;33m(\u001b[0m\u001b[0mlengths\u001b[0m\u001b[1;33m)\u001b[0m \u001b[1;33m>\u001b[0m \u001b[1;36m1\u001b[0m\u001b[1;33m:\u001b[0m\u001b[1;33m\u001b[0m\u001b[0m\n\u001b[1;32m--> 317\u001b[1;33m                 \u001b[1;32mraise\u001b[0m \u001b[0mValueError\u001b[0m\u001b[1;33m(\u001b[0m\u001b[1;34m'arrays must all be same length'\u001b[0m\u001b[1;33m)\u001b[0m\u001b[1;33m\u001b[0m\u001b[0m\n\u001b[0m\u001b[0;32m    318\u001b[0m \u001b[1;33m\u001b[0m\u001b[0m\n\u001b[0;32m    319\u001b[0m             \u001b[1;32mif\u001b[0m \u001b[0mhave_dicts\u001b[0m\u001b[1;33m:\u001b[0m\u001b[1;33m\u001b[0m\u001b[0m\n",
      "\u001b[1;31mValueError\u001b[0m: arrays must all be same length"
     ]
    }
   ],
   "source": [
    "resultsSensor = np.load('Results/resultsTremorHand.npy')\n",
    "resultsWatch = np.load('Results/resultsTremorWatch.npy')\n",
    "results = pd.DataFrame({'Sensors':resultsSensor,'Smartwatch':resultsWatch})\n",
    "figure = plt.figure()\n",
    "figure.set_dpi(100)\n",
    "figure.set_size_inches(6.4,4.8)\n",
    "ax = sns.boxplot(data=results);\n",
    "plt.ylabel('AUROC');\n",
    "plt.ylim(0.5,1.1);\n",
    "plt.title('Tremor Sensor Watch');\n",
    "\n",
    "#x1,x2 = 0,1\n",
    "#y, h, col = results['Accelerometer'].max() + 0.02, 0.02, 'k'\n",
    "#plt.plot([x1, x1, x2, x2], [y, y+h, y+h, y], lw=1.5, c=col)\n",
    "#plt.text((x1+x2)*.5, y+h+0.01, \"***\", ha='center', va='bottom', color=col,fontsize=16);\n",
    "\n",
    "plt.savefig('Results/Tremor Comparison Boxplot Sensor+Watch.png',format='png',dpi=1000)"
   ]
  },
  {
   "cell_type": "markdown",
   "metadata": {},
   "source": [
    "## Bradykinesia"
   ]
  },
  {
   "cell_type": "code",
   "execution_count": null,
   "metadata": {
    "scrolled": true
   },
   "outputs": [],
   "source": [
    "#Hand Sensors\n",
    "\n",
    "filename = 'Features_AllLocsHP+LP_Hand.pkl'\n",
    "features_path = r'Z:\\CIS-PD Study\\FeatureMatrix'\n",
    "\n",
    "Dataorig = pickle.load(open(os.path.join(features_path,filename),'rb'))\n",
    "Dataorig = Dataorig.reset_index(drop=True)\n",
    "\n",
    "Dataorig=Dataorig[Dataorig.Subject!=1020]\n",
    "Dataorig = Dataorig.iloc[:,:44]\n",
    "Dataorig = Dataorig.loc[(Dataorig.Subject==1004) & (Dataorig.Side=='right') | \n",
    "                        (Dataorig.Subject==1016) & (Dataorig.Side=='left') | \n",
    "                        (Dataorig.Subject==1018) & (Dataorig.Side=='left') | \n",
    "                        (Dataorig.Subject==1019) & (Dataorig.Side=='left') | \n",
    "                       #(Dataorig.Subject==1020) & (Dataorig.Side=='right') | \n",
    "                        (Dataorig.Subject==1024) & (Dataorig.Side=='left') | \n",
    "                        (Dataorig.Subject==1029) & (Dataorig.Side=='left') | \n",
    "                        (Dataorig.Subject==1030) & (Dataorig.Side=='left') | \n",
    "                        (Dataorig.Subject==1032) & (Dataorig.Side=='left') | \n",
    "                        (Dataorig.Subject==1038) & (Dataorig.Side=='left') | \n",
    "                        (Dataorig.Subject==1044) & (Dataorig.Side=='right') | \n",
    "                        (Dataorig.Subject==1046) & (Dataorig.Side=='right') | \n",
    "                        (Dataorig.Subject==1049) & (Dataorig.Side=='left') | \n",
    "                        (Dataorig.Subject==1051) & (Dataorig.Side=='left')]\n",
    "\n",
    "t1=time.time()\n",
    "res_all = pd.DataFrame()\n",
    "\n",
    "symptom = 'Bradykinesia'\n",
    "    \n",
    "#remove nan rows for current symptom\n",
    "Data = Dataorig.copy() #original unmodified dataframe\n",
    "Data=Data[~Data[symptom].isnull()]\n",
    "Data=Data.reset_index(drop=True) #reset index\n",
    "\n",
    "X = Data.iloc[:,7:].as_matrix()\n",
    "# X = StandardScaler().fit_transform(X)\n",
    "fnames = Data.iloc[:,7:].columns.values\n",
    "\n",
    "indp = ((Data[symptom]>0))\n",
    "indp = indp.values\n",
    "y = indp.astype(int) #target \n",
    "print('Rows w %s %d/%d = %.2f'%(symptom,sum(indp),len(indp),(sum(indp)/len(indp))))\n",
    "\n",
    "models = [RandomForestClassifier(n_estimators=50,random_state=2)]          \n",
    "#           XGBClassifier()]\n",
    "model_name = ['Random Forest']#,'XGB']\n",
    "models = list(zip(models,model_name))\n",
    "groups = Data.Subject.as_matrix()\n",
    "\n",
    "res,res_group = LOSOCV(Data,X,y,groups,models)\n",
    "res_all = pd.concat((res_all,res))\n",
    "    \n",
    "print('Elapsed time = %.3f min'%((time.time()-t1)/60))    "
   ]
  },
  {
   "cell_type": "code",
   "execution_count": null,
   "metadata": {},
   "outputs": [],
   "source": [
    "results = res_group['Random Forest']['auroc']\n",
    "np.save('Results/resultsBradykinesiaHand.npy',results)\n",
    "aurocall = res_group['Random Forest']['auroc']\n",
    "sns.barplot(np.unique(groups),aurocall)\n",
    "ax = plt.xticks(rotation=90)\n",
    "plt.ylim([0.2,1.0])\n",
    "plt.title('LOSO Hand Sensors - Mean AUROC = %.3f +/- %.3f'%(np.nanmean(aurocall),np.nanstd(aurocall)))\n",
    "plt.savefig('Results/resultsBradykinesiaHand.png',format='png',dpi=1000)"
   ]
  },
  {
   "cell_type": "code",
   "execution_count": null,
   "metadata": {
    "scrolled": true
   },
   "outputs": [],
   "source": [
    "#Smart Watch\n",
    "\n",
    "Dataorig = pd.read_csv('Z:CIS-PD Study\\\\Downsample\\\\Watch Data 50Hz.csv',index_col=0)\n",
    "Dataorig = Dataorig.reset_index(drop=True)\n",
    "\n",
    "Dataorig=Dataorig[Dataorig.Subject!=1020]\n",
    "Dataorig=Dataorig[Dataorig.Subject!=1030]\n",
    "\n",
    "t1=time.time()\n",
    "res_all = pd.DataFrame()\n",
    "\n",
    "symptom = 'Bradykinesia'\n",
    "    \n",
    "#remove nan rows for current symptom\n",
    "Data = Dataorig.copy() #original unmodified dataframe\n",
    "Data=Data[~Data[symptom].isnull()]\n",
    "Data=Data.reset_index(drop=True) #reset index\n",
    "\n",
    "X = Data.iloc[:,5:].as_matrix()\n",
    "# X = StandardScaler().fit_transform(X)\n",
    "fnames = Data.iloc[:,5:].columns.values\n",
    "\n",
    "indp = ((Data[symptom]>0))\n",
    "indp = indp.values\n",
    "y = indp.astype(int) #target \n",
    "print('Rows w %s %d/%d = %.2f'%(symptom,sum(indp),len(indp),(sum(indp)/len(indp))))\n",
    "\n",
    "models = [RandomForestClassifier(n_estimators=50,random_state=2)]          \n",
    "#           XGBClassifier()]\n",
    "model_name = ['Random Forest']#,'XGB']\n",
    "models = list(zip(models,model_name))\n",
    "groups = Data.Subject.as_matrix()\n",
    "\n",
    "res,res_group = LOSOCV(Data,X,y,groups,models)\n",
    "res_all = pd.concat((res_all,res))\n",
    "    \n",
    "print('Elapsed time = %.3f min'%((time.time()-t1)/60))    "
   ]
  },
  {
   "cell_type": "code",
   "execution_count": null,
   "metadata": {},
   "outputs": [],
   "source": [
    "results = res_group['Random Forest']['auroc']\n",
    "np.save('Results/resultsBradykinesiaWatch.npy',results)\n",
    "aurocall = res_group['Random Forest']['auroc']\n",
    "sns.barplot(np.unique(groups),aurocall)\n",
    "ax = plt.xticks(rotation=90)\n",
    "plt.ylim([0.2,1.0])\n",
    "plt.title('LOSO Smart Watch - Mean AUROC = %.3f +/- %.3f'%(np.nanmean(aurocall),np.nanstd(aurocall)))\n",
    "plt.savefig('Results/resultsBradykinesiaWatch.png',format='png',dpi=1000)"
   ]
  },
  {
   "cell_type": "code",
   "execution_count": null,
   "metadata": {},
   "outputs": [],
   "source": [
    "resultsSensor = np.load('Results/resultsBradykinesiaHand.npy')\n",
    "resultsWatch = np.load('Results/resultsBradykinesiaWatch.npy')\n",
    "results = pd.DataFrame({'Sensors':resultsSensor,'Smartwatch':resultsWatch})\n",
    "figure = plt.figure()\n",
    "figure.set_dpi(100)\n",
    "figure.set_size_inches(6.4,4.8)\n",
    "ax = sns.boxplot(data=results);\n",
    "plt.ylabel('AUROC');\n",
    "plt.ylim(0.3,1.1);\n",
    "plt.title('Bradykinesia Sensor Watch');\n",
    "\n",
    "#x1,x2 = 0,1\n",
    "#y, h, col = results['Accelerometer'].max() + 0.02, 0.02, 'k'\n",
    "#plt.plot([x1, x1, x2, x2], [y, y+h, y+h, y], lw=1.5, c=col)\n",
    "#plt.text((x1+x2)*.5, y+h+0.01, \"***\", ha='center', va='bottom', color=col,fontsize=16);\n",
    "\n",
    "plt.savefig('Results/Bradykinesia Comparison Boxplot Sensor+Watch.png',format='png',dpi=1000)"
   ]
  },
  {
   "cell_type": "markdown",
   "metadata": {},
   "source": [
    "# Data Loss Comparisons"
   ]
  },
  {
   "cell_type": "code",
   "execution_count": null,
   "metadata": {
    "collapsed": true,
    "scrolled": true
   },
   "outputs": [],
   "source": [
    "sensor_sample_lens = pd.read_csv('Z:CIS-PD Study\\\\Sensor Sample Lengths.csv',index_col=0)\n",
    "watch_sample_lens = pd.read_csv('Z:CIS-PD Study\\\\Watch Sample Lengths.csv',index_col=0)"
   ]
  },
  {
   "cell_type": "code",
   "execution_count": null,
   "metadata": {},
   "outputs": [],
   "source": [
    "sample_lens = pd.DataFrame()\n",
    "sample_lens['mean'] = pd.Series([np.mean(sensor_sample_lens['Samples']),np.mean(watch_sample_lens['Samples'])])\n",
    "sample_lens['mode'] = pd.Series([mode(sensor_sample_lens['Samples']),mode(watch_sample_lens['Samples'])])\n",
    "sample_lens['std'] = pd.Series([np.std(sensor_sample_lens['Samples']),np.std(watch_sample_lens['Samples'])])\n",
    "sample_lens.index = ['Sensor','Watch']\n",
    "\n",
    "sample_lens"
   ]
  },
  {
   "cell_type": "code",
   "execution_count": null,
   "metadata": {
    "collapsed": true
   },
   "outputs": [],
   "source": []
  }
 ],
 "metadata": {
  "kernelspec": {
   "display_name": "Python 3",
   "language": "python",
   "name": "python3"
  },
  "language_info": {
   "codemirror_mode": {
    "name": "ipython",
    "version": 3
   },
   "file_extension": ".py",
   "mimetype": "text/x-python",
   "name": "python",
   "nbconvert_exporter": "python",
   "pygments_lexer": "ipython3",
   "version": "3.6.3"
  }
 },
 "nbformat": 4,
 "nbformat_minor": 2
}
