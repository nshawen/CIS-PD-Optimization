{
 "cells": [
  {
   "cell_type": "code",
   "execution_count": 1,
   "metadata": {},
   "outputs": [],
   "source": [
    "import os\n",
    "import numpy as np\n",
    "import pandas as pd\n",
    "import seaborn as sns\n",
    "import matplotlib.pyplot as plt\n",
    "import datetime as dt\n",
    "import time\n",
    "import pathlib\n",
    "import pickle\n",
    "import statsmodels\n",
    "import itertools\n",
    "import time\n",
    "\n",
    "from statsmodels.stats.multicomp import pairwise_tukeyhsd\n",
    "from statsmodels.stats.multicomp import MultiComparison\n",
    "\n",
    "from statistics import mode\n",
    "from itertools import product\n",
    "from scipy.stats import skew, kurtosis, ttest_rel\n",
    "from scipy.signal import butter, welch, filtfilt, resample\n",
    "from scipy import interp, stats\n",
    "\n",
    "from sklearn.metrics import confusion_matrix, auc, f1_score, auc, roc_curve, roc_auc_score, precision_score, recall_score, precision_recall_curve\n",
    "#from sklearn.neighbors import KNeighborsClassifier\n",
    "#from sklearn.linear_model import ElasticNetCV, LogisticRegression\n",
    "from sklearn.preprocessing import LabelEncoder, StandardScaler, label_binarize\n",
    "from sklearn.model_selection import train_test_split, LeaveOneGroupOut, KFold, StratifiedKFold,cross_val_score,GridSearchCV\n",
    "from sklearn.ensemble import RandomForestClassifier, RandomForestRegressor\n",
    "from sklearn.metrics import roc_curve, roc_auc_score\n",
    "\n",
    "from PreprocessFcns import *\n",
    "\n",
    "%matplotlib inline\n",
    "\n",
    "sns.set_context('poster',font_scale=1)"
   ]
  },
  {
   "cell_type": "code",
   "execution_count": null,
   "metadata": {},
   "outputs": [],
   "source": [
    "time.sleep(3600*10)"
   ]
  },
  {
   "cell_type": "code",
   "execution_count": null,
   "metadata": {},
   "outputs": [],
   "source": [
    "def LOSOCV(Data,X,y,groups,models,LOin=0):\n",
    "\n",
    "    subj = LeaveOneGroupOut() \n",
    "    results = pd.DataFrame(data=None,columns=['model','f1','auprc','auroc'])\n",
    "    groupres = {} #results on each group for each model\n",
    "\n",
    "\n",
    "    #train multiple classifiers\n",
    "    for m in models:\n",
    "        acc_all=[]; acc_train=[] \n",
    "        f1_test_all=[]; prec_all=[]; rec_all=[]; spec_all=[]; auprc_all=[]; auroc_train_all=[]; \n",
    "        auroc_all=[]; fpr_all=[]; tpr_all=[]; fi_all=[]\n",
    "\n",
    "        clf = m[0]; model_name = m[1]            \n",
    "        print('Training %s'%model_name)\n",
    "        s = 0\n",
    "        #LOSO CV for current classifier\n",
    "        for train_index, test_index in subj.split(X, y, groups):\n",
    "        #leave one in:\n",
    "            if LOin:\n",
    "                tridx = train_index.copy()\n",
    "                train_index = test_index.copy()\n",
    "                test_index = tridx\n",
    "            Xtr, Xte = X[train_index], X[test_index]\n",
    "            ytr, yte = y[train_index], y[test_index]\n",
    "            if len(np.unique(ytr))<2: #skip if no positive or negative examples are available for training\n",
    "                print('only 1 class available in train data - skipping')\n",
    "                continue\n",
    "            clf.fit(Xtr,ytr)\n",
    "            ypred = clf.predict(Xte)\n",
    "            yscore = clf.predict_proba(Xte)\n",
    "            yscore = yscore[:,1]\n",
    "            \n",
    "            #accuracy on train set\n",
    "            ypred_train = clf.predict(Xtr)\n",
    "            acc_train.append(sum(ypred_train==ytr)/len(ytr))\n",
    "            \n",
    "            ######\n",
    "            \n",
    "            auroc_train = roc_auc_score(ytr,clf.predict_proba(Xtr)[:,1])\n",
    "            \n",
    "            #f1-score, prec, recall, specificity, auprc, auroc\n",
    "            f1_test_all.append(f1_score(yte,ypred))\n",
    "            precision, recall, _ = precision_recall_curve(yte,yscore)\n",
    "            auprc = auc(recall,precision)\n",
    "            if len(np.unique(yte))>1:\n",
    "                auroc = roc_auc_score(yte,yscore)\n",
    "            else:\n",
    "                print('only 1 class in test data - cannot compute roc curve')\n",
    "                auroc = np.nan\n",
    "            spec = sum((ypred==0) & (yte==0))/sum(yte==0)\n",
    "\n",
    "#             f, t, th = roc_curve(yte,yscore)\n",
    "#             print(auroc,auc(f,t))\n",
    "\n",
    "            prec_all.append(precision_score(yte,ypred))\n",
    "            rec_all.append(recall_score(yte,ypred))\n",
    "            auprc_all.append(auprc)\n",
    "            auroc_all.append(auroc)\n",
    "            auroc_train_all.append(auroc_train)\n",
    "            spec_all.append(spec)\n",
    "\n",
    "            fpr=np.linspace(0,1,101); tpr=[]\n",
    "\n",
    "            if len(np.unique(yte))>1:                \n",
    "                nscores = np.sort(np.column_stack((yscore[yte==0],yte[yte==0])),axis=0)\n",
    "                neg_counts = sum(yte==0)\n",
    "                for f in fpr:\n",
    "                    ind = neg_counts-int(neg_counts*f)-1\n",
    "                    t = (nscores[ind])[0]\n",
    "                    if f==1:\n",
    "                        t = 0\n",
    "                    tpr_t = sum(yscore[yte==1]>t) / sum(yte==1)\n",
    "                    tpr.append(tpr_t) \n",
    "\n",
    "            fpr = np.asarray(fpr); tpr = np.asarray(tpr)\n",
    "            fpr_all.append(fpr); tpr_all.append(tpr)\n",
    "            \n",
    "            #store feature importance\n",
    "            if model_name != 'SVM':\n",
    "                fi_all.append(clf.feature_importances_)\n",
    "            \n",
    "            print('\\nSubj/Visit %d,prec=%.3f,rec=%.3f,Spec=%.3f,auroc_train=%.3f,auroc=%.3f'%(s,precision_score(yte,ypred),recall_score(yte,ypred),spec,auroc_train,auroc))\n",
    "            s+=1\n",
    "\n",
    "        print('f1_test=%.3f+/-%.3f, prec=%.3f+/-%.3f, rec=%.3f+/-%.3f, auprc=%.3f+/-%.3f, auroc=%.3f+/-%.3f'%(\n",
    "        np.nanmean(f1_test_all),np.nanstd(f1_test_all),\n",
    "        np.nanmean(prec_all),np.nanstd(prec_all), np.nanmean(rec_all),np.nanstd(rec_all),\n",
    "        np.nanmean(auprc_all),np.nanstd(auprc_all), np.nanmean(auroc_all),np.nanstd(auroc_all)))\n",
    "        \n",
    "        #group results for each model\n",
    "        groupres[model_name] = {'f1':f1_test_all, 'auprc':auprc_all, 'auroc':auroc_all, 'tpr':tpr_all, 'fpr':fpr_all, \n",
    "                                'rec':rec_all, 'spec':spec_all, 'fi':fi_all}\n",
    "        \n",
    "        #mean across groups for each model\n",
    "        r = pd.DataFrame({'model':model_name, 'f1':np.nanmean(f1_test_all), 'auprc':np.nanmean(auprc_all), 'auroc':np.nanmean(auroc_all)}\n",
    "                        ,index=[0])\n",
    "        results = pd.concat((results,r))\n",
    "        \n",
    "    return results,groupres\n",
    "\n",
    "def LOSOCV_Multi(Data,X,y,groups,models,LOin=0):\n",
    "\n",
    "    subj = LeaveOneGroupOut() \n",
    "    results = pd.DataFrame(data=None,columns=['model','auroc'])\n",
    "    groupres = {} #results on each group for each model\n",
    "\n",
    "\n",
    "    #train multiple classifiers\n",
    "    for m in models:\n",
    "        acc_all=[]; acc_train=[] \n",
    "        f1_test_all=[]; prec_all=[]; rec_all=[]; spec_all=[]; auprc_all=[]; auroc_train_all=[]; \n",
    "        auroc_all=[]; fpr_all=[]; tpr_all=[]; fi_all=[]\n",
    "\n",
    "        clf = m[0]; model_name = m[1]            \n",
    "        print('Training %s'%model_name)\n",
    "        s = 0\n",
    "        #LOSO CV for current classifier\n",
    "        for train_index, test_index in subj.split(X, y, groups):\n",
    "        #leave one in:\n",
    "            if LOin:\n",
    "                tridx = train_index.copy()\n",
    "                train_index = test_index.copy()\n",
    "                test_index = tridx\n",
    "            Xtr, Xte = X[train_index], X[test_index]\n",
    "            ytr, yte = y[train_index], y[test_index]\n",
    "            if len(np.unique(ytr))<2: #skip if no positive or negative examples are available for training\n",
    "                print('only 1 class available in train data - skipping')\n",
    "                continue\n",
    "            clf.fit(Xtr,ytr)\n",
    "            ypred = clf.predict(Xte)\n",
    "\n",
    "            \n",
    "            #accuracy on train set\n",
    "            ypred_train = clf.predict(Xtr)\n",
    "            acc_train.append(sum(ypred_train==ytr)/len(ytr))\n",
    "            \n",
    "            ######\n",
    "            \n",
    "            yscore = clf.predict_proba(Xte)\n",
    "            if len(np.unique(yte))>1:\n",
    "                yte_bin = label_binarize(yte, clf.classes_)\n",
    "                for c in list(range(yte_bin.shape[1]))[::-1]:\n",
    "                    if not any(yte_bin[:,c]):\n",
    "                        yte_bin = np.delete(yte_bin,[c],axis=1)\n",
    "                        yscore = np.delete(yscore,[c],axis=1)\n",
    "                        \n",
    "                auroc = roc_auc_score(yte_bin,yscore,average='weighted')\n",
    "                fpr_mean = np.array(range(0,101))/100\n",
    "                tprs = []\n",
    "                for i in range(yte_bin.shape[1]):\n",
    "                    yt = yte_bin[:,i]\n",
    "                    ys = yscore[:,i]\n",
    "                    \n",
    "#                     fpr=np.linspace(0,1,101); tpr=[]\n",
    "# \n",
    "#                     if len(np.unique(yte))>1:                \n",
    "#                         nscores = np.sort(np.column_stack((ys[yt==0],yt[yt==0])),axis=0)\n",
    "#                         neg_counts = sum(yt==0)\n",
    "#                         for f in fpr:\n",
    "#                             ind = neg_counts-int(neg_counts*f)-1\n",
    "#                             t = (nscores[ind])[0]\n",
    "#                             print(t)\n",
    "#                             if f==1:\n",
    "#                                 t = 0\n",
    "#                             tpr_t = sum(ys[yt==1]>t) / sum(yt==1)\n",
    "#                             tpr.append(tpr_t) \n",
    "\n",
    "#                     print(auc(fpr,tpr),roc_auc_score(yt,ys))\n",
    "#                     print(fpr, tpr)\n",
    "                            \n",
    "#                     fpr = np.asarray(fpr); tpr = np.asarray(tpr)*np.mean(yt)\n",
    "#                     fpr_all.append(fpr); tpr_all.append(tpr)\n",
    "                    \n",
    "                    \n",
    "                    \n",
    "                    fpr, tpr, thresh = roc_curve(yte_bin[:,i],yscore[:,i],pos_label=1)\n",
    "#                     print(min(yscore[yte_bin[:,i]==1,i]),max(yscore[yte_bin[:,i]==0,i]))\n",
    "#                     print(fpr,tpr,thresh)\n",
    "#                     print(auc(fpr,tpr),roc_auc_score(yte_bin[:,i],yscore[:,i]))\n",
    "                    tprs.append(interp(fpr_mean,fpr,tpr)*np.mean(yte_bin[:,i]))\n",
    "                tpr = sum(tprs)\n",
    "#                 print(tpr)\n",
    "                fpr = fpr_mean\n",
    "            else:\n",
    "                #print('only 1 class in test data - cannot compute roc curve')\n",
    "                auroc = np.nan\n",
    "                fpr = np.array([])\n",
    "                tpr = np.array([])\n",
    "            \n",
    "            tpr_all.append(tpr)\n",
    "            fpr_all.append(fpr)\n",
    "            auroc_all.append(auroc)\n",
    "            \n",
    "            #store feature importance\n",
    "            if model_name != 'SVM':\n",
    "                fi_all.append(clf.feature_importances_)\n",
    "            \n",
    "            print('\\nSubj/Visit %d,auroc=%.3f'%(s,auroc))\n",
    "            s+=1\n",
    "\n",
    "        print('auroc=%.3f+/-%.3f'%(np.nanmean(auroc_all),np.nanstd(auroc_all)))\n",
    "        \n",
    "        #group results for each model\n",
    "        groupres[model_name] = {'tpr':tpr_all, 'fpr':fpr_all, 'auroc': auroc_all}\n",
    "        \n",
    "        #mean across groups for each model\n",
    "        r = pd.DataFrame({'model':model_name, 'auroc':np.nanmean(auroc_all)},index=[0])\n",
    "        results = pd.concat((results,r))\n",
    "        \n",
    "        \n",
    "    return results,groupres\n",
    "\n",
    "def plot_roc(tpr_all,fpr,roc_auc,ax=None,plotname=None,col=None,ls='-',lw=3):\n",
    "    #plot mean ROC across subjects (need to add shaded conf interval)\n",
    "    tprmu = np.mean(np.asarray(tpr_all),axis=0)\n",
    "    tpr=np.asarray(tpr_all)\n",
    "    fpr=np.reshape(fpr,(1,-1))\n",
    "    tprmu=np.reshape(tprmu,(1,-1))\n",
    "    label=pd.Series(data = ['%s - AUC = %0.3f' % (plotname,roc_auc)]*len(fpr))\n",
    "    if ax == None:\n",
    "        ax = sns.tsplot(data=tpr,time=fpr,ci=95,condition=label,legend=True,color=col,lw=lw,linestyle=ls)\n",
    "    else:\n",
    "        sns.tsplot(data=tpr,time=fpr,ci=95,condition=label, legend=True,ax=ax,color=col,lw=lw,linestyle=ls)\n",
    "    \n",
    "    ax.plot([0, 1], [0, 1], color='navy', lw=lw, linestyle='--')\n",
    "    ax.set_xlim([-0.05, 1.0])\n",
    "    ax.set_ylim([0.0, 1.05])\n",
    "    ax.set_xlabel('False Positive Rate',fontsize=16)\n",
    "    ax.set_ylabel('True Positive Rate',fontsize=16)\n",
    "    ax.legend(loc='lower right')\n",
    "    \n",
    "    return ax"
   ]
  },
  {
   "cell_type": "code",
   "execution_count": null,
   "metadata": {},
   "outputs": [],
   "source": [
    "# gr = LOSOCV_Multi(Data,X,y,groups,models)"
   ]
  },
  {
   "cell_type": "markdown",
   "metadata": {},
   "source": [
    "# Accelerometer and Gyroscope Comparisons"
   ]
  },
  {
   "cell_type": "markdown",
   "metadata": {},
   "source": [
    "## Tremor"
   ]
  },
  {
   "cell_type": "code",
   "execution_count": null,
   "metadata": {
    "scrolled": true
   },
   "outputs": [],
   "source": [
    "# filename = 'Features_AllLocsHP_Hand.pkl'\n",
    "# features_path = r'Z:\\CIS-PD Study\\FeatureMatrix'\n",
    "# # Dataorig = pickle.load(open(os.path.join(features_path,filename),'rb'))\n",
    "# Dataorig = Dataorig.reset_index(drop=True)\n",
    "\n",
    "Dataorig = pd.read_csv('Z:CIS-PD Study\\\\Downsample\\\\Accel+Gyro Data 62.5Hz.csv',index_col = 0)\n",
    "# Dataorig.drop(columns=['Sen_X acc', 'Sen_Y acc', 'Sen_Z acc', 'Sen_mag acc', 'Sen_X gyr', 'Sen_Y gyr', 'Sen_Z gyr', 'Sen_mag gyr'], inplace=True)\n",
    "Dataorig = Dataorig.reset_index(drop=True)"
   ]
  },
  {
   "cell_type": "code",
   "execution_count": null,
   "metadata": {
    "scrolled": true
   },
   "outputs": [],
   "source": [
    "#LOSO Accelerometer Tremor\n",
    "\n",
    "t1=time.time()\n",
    "res_all = pd.DataFrame()\n",
    "\n",
    "symptom = 'Tremor'\n",
    "\n",
    "Data = Dataorig.copy() #original unmodified dataframe\n",
    "Data=Data[~Data[symptom].isnull()] #remove nan rows for current symptom\n",
    "Data=Data.reset_index(drop=True) #reset index\n",
    "\n",
    "X = Data.iloc[:,5:79].as_matrix()\n",
    "fnames = Data.iloc[:,5:79].columns.values\n",
    "\n",
    "indp = ((Data[symptom]>0))\n",
    "indp = indp.values\n",
    "y = indp.astype(int) #target \n",
    "print('Rows w %s %d/%d = %.2f'%(symptom,sum(indp),len(indp),(sum(indp)/len(indp))))\n",
    "\n",
    "models = [RandomForestClassifier(n_estimators=50,random_state=2)]          \n",
    "model_name = ['Random Forest']\n",
    "models = list(zip(models,model_name))\n",
    "groups = Data.Subject.as_matrix()\n",
    "\n",
    "res,res_group = LOSOCV(Data,X,y,groups,models)\n",
    "res_all = pd.concat((res_all,res))\n",
    "\n",
    "Trem_Accel = res_group['Random Forest']\n",
    "    \n",
    "print('Elapsed time = %.3f min'%((time.time()-t1)/60))    "
   ]
  },
  {
   "cell_type": "code",
   "execution_count": null,
   "metadata": {},
   "outputs": [],
   "source": [
    "results = res_group['Random Forest']['auroc']\n",
    "np.save('Results/resultsTremorLOSOAccel_Hand.npy',results)\n",
    "aurocall = res_group['Random Forest']['auroc']\n",
    "sns.barplot(np.unique(groups),aurocall)\n",
    "ax = plt.xticks(rotation=90)\n",
    "plt.ylim([0.5,1.0])\n",
    "plt.title('LOSO Accel - Mean AUROC = %.3f +/- %.3f'%(np.nanmean(aurocall),np.nanstd(aurocall)))\n",
    "plt.savefig('Results/resultsTremorLOSOAccel_Hand.png',format='png',dpi=1000)"
   ]
  },
  {
   "cell_type": "code",
   "execution_count": null,
   "metadata": {
    "scrolled": true
   },
   "outputs": [],
   "source": [
    "#LOSO Gyroscope Tremor\n",
    "\n",
    "t1=time.time()\n",
    "res_all = pd.DataFrame()\n",
    "\n",
    "symptom = 'Tremor'\n",
    "\n",
    "Data = Dataorig.copy() #original unmodified dataframe\n",
    "Data=Data[~Data[symptom].isnull()] #remove nan rows for current symptom\n",
    "Data=Data.reset_index(drop=True) #reset index\n",
    "\n",
    "X = Data.iloc[:,79:].as_matrix()\n",
    "fnames = Data.iloc[:,79:].columns.values\n",
    "\n",
    "indp = ((Data[symptom]>0))\n",
    "indp = indp.values\n",
    "y = indp.astype(int) #target \n",
    "print('Rows w %s %d/%d = %.2f'%(symptom,sum(indp),len(indp),(sum(indp)/len(indp))))\n",
    "\n",
    "models = [RandomForestClassifier(n_estimators=50,random_state=2)]          \n",
    "model_name = ['Random Forest']\n",
    "models = list(zip(models,model_name))\n",
    "groups = Data.Subject.as_matrix()\n",
    "\n",
    "res,res_group = LOSOCV(Data,X,y,groups,models)\n",
    "res_all = pd.concat((res_all,res))\n",
    "\n",
    "Trem_Gyro = res_group['Random Forest']\n",
    "\n",
    "print('Elapsed time = %.3f min'%((time.time()-t1)/60))    "
   ]
  },
  {
   "cell_type": "code",
   "execution_count": null,
   "metadata": {
    "scrolled": true
   },
   "outputs": [],
   "source": [
    "results = res_group['Random Forest']['auroc']\n",
    "np.save('Results/resultsTremorLOSOGyro_Hand.npy',results)\n",
    "aurocall = res_group['Random Forest']['auroc']\n",
    "sns.barplot(np.unique(groups),aurocall)\n",
    "ax = plt.xticks(rotation=90)\n",
    "plt.ylim([0.4,1.0])\n",
    "plt.title('LOSO Gyro - Mean AUROC = %.3f +/- %.3f'%(np.nanmean(aurocall),np.nanstd(aurocall)))\n",
    "plt.savefig('Results/resultsTremorLOSOGyro_Hand.png',format='png',dpi=1000)"
   ]
  },
  {
   "cell_type": "code",
   "execution_count": null,
   "metadata": {
    "scrolled": true
   },
   "outputs": [],
   "source": [
    "#LOSO Combined Tremor\n",
    "\n",
    "t1=time.time()\n",
    "res_all = pd.DataFrame()\n",
    "\n",
    "symptom = 'Tremor'\n",
    "\n",
    "Data = Dataorig.copy() #original unmodified dataframe\n",
    "Data=Data[~Data[symptom].isnull()] #remove nan rows for current symptom\n",
    "Data=Data.reset_index(drop=True) #reset index\n",
    "\n",
    "X = Data.iloc[:,5:].as_matrix()\n",
    "fnames = Data.iloc[:,5:].columns.values\n",
    "\n",
    "indp = ((Data[symptom]>0))\n",
    "indp = indp.values\n",
    "y = indp.astype(int) #target \n",
    "print('Rows w %s %d/%d = %.2f'%(symptom,sum(indp),len(indp),(sum(indp)/len(indp))))\n",
    "\n",
    "models = [RandomForestClassifier(n_estimators=50,random_state=2)]          \n",
    "model_name = ['Random Forest']\n",
    "models = list(zip(models,model_name))\n",
    "groups = Data.Subject.as_matrix()\n",
    "\n",
    "res,res_group = LOSOCV(Data,X,y,groups,models)\n",
    "res_all = pd.concat((res_all,res))\n",
    "\n",
    "Trem_Comb = res_group['Random Forest']\n",
    "\n",
    "print('Elapsed time = %.3f min'%((time.time()-t1)/60))    "
   ]
  },
  {
   "cell_type": "code",
   "execution_count": null,
   "metadata": {},
   "outputs": [],
   "source": [
    "results = res_group['Random Forest']['auroc']\n",
    "np.save('Results/resultsTremorLOSOCombined_Hand.npy',results)\n",
    "aurocall = res_group['Random Forest']['auroc']\n",
    "sns.barplot(np.unique(groups),aurocall)\n",
    "ax = plt.xticks(rotation=90)\n",
    "plt.ylim([0.60,1.0])\n",
    "plt.title('LOSO Combined - Mean AUROC = %.3f +/- %.3f'%(np.nanmean(aurocall),np.nanstd(aurocall)))\n",
    "plt.savefig('Results/resultsTremorLOSOCombined_Hand.png',format='png',dpi=1000)"
   ]
  },
  {
   "cell_type": "code",
   "execution_count": null,
   "metadata": {},
   "outputs": [],
   "source": [
    "resultsAccel = np.load('Results/resultsTremorLOSOAccel_Hand.npy')\n",
    "resultsGyro = np.load('Results/resultsTremorLOSOGyro_Hand.npy')\n",
    "resultsCombined = np.load('Results/resultsTremorLOSOCombined_Hand.npy')\n",
    "results = pd.DataFrame({'Accelerometer':resultsAccel,'Gyroscope':resultsGyro,'Combined':resultsCombined})\n",
    "\n",
    "figure = plt.figure()\n",
    "figure.set_dpi(100)\n",
    "figure.set_size_inches(6.4,4.8)\n",
    "ax = sns.boxplot(data=results);\n",
    "plt.ylabel('AUROC');\n",
    "plt.ylim(0.3,1.1);\n",
    "plt.title('Tremor LOSO');\n",
    "\n",
    "#x1,x2 = 0,1\n",
    "#y, h, col = results['Accelerometer'].max() + 0.02, 0.02, 'k'\n",
    "#plt.plot([x1, x1, x2, x2], [y, y+h, y+h, y], lw=1.5, c=col)\n",
    "#plt.text((x1+x2)*.5, y+h+0.01, \"***\", ha='center', va='bottom', color=col,fontsize=16);\n",
    "\n",
    "plt.savefig('Results/Tremor Comparison Boxplot LOSO Hand.png',format='png',dpi=1000)"
   ]
  },
  {
   "cell_type": "markdown",
   "metadata": {},
   "source": [
    "## Bradykinesia"
   ]
  },
  {
   "cell_type": "code",
   "execution_count": null,
   "metadata": {
    "scrolled": true
   },
   "outputs": [],
   "source": [
    "# filename = 'Features_AllLocsHP+LP_Hand.pkl'\n",
    "# features_path = r'Z:\\CIS-PD Study\\FeatureMatrix'\n",
    "# Dataorig = pickle.load(open(os.path.join(features_path,filename),'rb'))\n",
    "# Dataorig = Dataorig.reset_index(drop=True)\n",
    "\n",
    "Dataorig = pd.read_csv('Z:CIS-PD Study\\\\Downsample\\\\Accel+Gyro Data 62.5Hz.csv', index_col = 0)\n",
    "# Dataorig.drop(columns=['Sen_X acc', 'Sen_Y acc', 'Sen_Z acc', 'Sen_mag acc', 'Sen_X gyr', 'Sen_Y gyr', 'Sen_Z gyr', 'Sen_mag gyr'], inplace=True)\n",
    "Dataorig = Dataorig.reset_index(drop=True)"
   ]
  },
  {
   "cell_type": "code",
   "execution_count": null,
   "metadata": {
    "scrolled": true
   },
   "outputs": [],
   "source": [
    "#LOSO Accelerometer Bradykinesia\n",
    "\n",
    "t1=time.time()\n",
    "res_all = pd.DataFrame()\n",
    "\n",
    "symptom = 'Bradykinesia'\n",
    "\n",
    "Data = Dataorig.copy() #original unmodified dataframe\n",
    "Data=Data[~Data[symptom].isnull()] #remove nan rows for current symptom\n",
    "Data=Data.reset_index(drop=True) #reset index\n",
    "\n",
    "X = Data.iloc[:,5:79].as_matrix()\n",
    "fnames = Data.iloc[:,5:79].columns.values\n",
    "\n",
    "indp = ((Data[symptom]>0))\n",
    "indp = indp.values\n",
    "y = indp.astype(int) #target \n",
    "print('Rows w %s %d/%d = %.2f'%(symptom,sum(indp),len(indp),(sum(indp)/len(indp))))\n",
    "\n",
    "models = [RandomForestClassifier(n_estimators=50,random_state=2)]          \n",
    "model_name = ['Random Forest']\n",
    "models = list(zip(models,model_name))\n",
    "groups = Data.Subject.as_matrix()\n",
    "\n",
    "res,res_group = LOSOCV(Data,X,y,groups,models)\n",
    "res_all = pd.concat((res_all,res))\n",
    "\n",
    "Brad_Accel = res_group['Random Forest']\n",
    "    \n",
    "print('Elapsed time = %.3f min'%((time.time()-t1)/60))    "
   ]
  },
  {
   "cell_type": "code",
   "execution_count": null,
   "metadata": {},
   "outputs": [],
   "source": [
    "results = res_group['Random Forest']['auroc']\n",
    "np.save('Results/resultsBradykinesiaLOSOAccel_Hand.npy',results)\n",
    "aurocall = res_group['Random Forest']['auroc']\n",
    "sns.barplot(np.unique(groups),aurocall)\n",
    "ax = plt.xticks(rotation=90)\n",
    "plt.ylim([0.5,1.0])\n",
    "plt.title('LOSO Accel - Mean AUROC = %.3f +/- %.3f'%(np.nanmean(aurocall),np.nanstd(aurocall)))\n",
    "plt.savefig('Results/resultsBradykinesiaLOSOAccel_Hand.png',format='png',dpi=1000)"
   ]
  },
  {
   "cell_type": "code",
   "execution_count": null,
   "metadata": {
    "scrolled": true
   },
   "outputs": [],
   "source": [
    "#LOSO Gyroscope Bradykinesia\n",
    "\n",
    "t1=time.time()\n",
    "res_all = pd.DataFrame()\n",
    "\n",
    "symptom = 'Bradykinesia'\n",
    "\n",
    "Data = Dataorig.copy() #original unmodified dataframe\n",
    "Data=Data[~Data[symptom].isnull()] #remove nan rows for current symptom\n",
    "Data=Data.reset_index(drop=True) #reset index\n",
    "\n",
    "X = Data.iloc[:,79:].as_matrix()\n",
    "fnames = Data.iloc[:,79:].columns.values\n",
    "\n",
    "indp = ((Data[symptom]>0))\n",
    "indp = indp.values\n",
    "y = indp.astype(int) #target \n",
    "print('Rows w %s %d/%d = %.2f'%(symptom,sum(indp),len(indp),(sum(indp)/len(indp))))\n",
    "\n",
    "models = [RandomForestClassifier(n_estimators=50,random_state=2)]          \n",
    "model_name = ['Random Forest']\n",
    "models = list(zip(models,model_name))\n",
    "groups = Data.Subject.as_matrix()\n",
    "\n",
    "res,res_group = LOSOCV(Data,X,y,groups,models)\n",
    "res_all = pd.concat((res_all,res))\n",
    "\n",
    "Brad_Gyro = res_group['Random Forest']\n",
    "    \n",
    "print('Elapsed time = %.3f min'%((time.time()-t1)/60))    "
   ]
  },
  {
   "cell_type": "code",
   "execution_count": null,
   "metadata": {},
   "outputs": [],
   "source": [
    "results = res_group['Random Forest']['auroc']\n",
    "np.save('Results/resultsBradykinesiaLOSOGyro_Hand.npy',results)\n",
    "aurocall = res_group['Random Forest']['auroc']\n",
    "sns.barplot(np.unique(groups),aurocall)\n",
    "ax = plt.xticks(rotation=90)\n",
    "plt.ylim([0.4,1.0])\n",
    "plt.title('LOSO Gyro - Mean AUROC = %.3f +/- %.3f'%(np.nanmean(aurocall),np.nanstd(aurocall)))\n",
    "plt.savefig('Results/resultsBradykinesiaLOSOGyro_Hand.png',format='png',dpi=1000)"
   ]
  },
  {
   "cell_type": "code",
   "execution_count": null,
   "metadata": {
    "scrolled": true
   },
   "outputs": [],
   "source": [
    "#LOSO Combined Bradykinesia\n",
    "\n",
    "t1=time.time()\n",
    "res_all = pd.DataFrame()\n",
    "\n",
    "symptom = 'Bradykinesia'\n",
    "\n",
    "Data = Dataorig.copy() #original unmodified dataframe\n",
    "Data=Data[~Data[symptom].isnull()] #remove nan rows for current symptom\n",
    "Data=Data.reset_index(drop=True) #reset index\n",
    "\n",
    "X = Data.iloc[:,5:].as_matrix()\n",
    "fnames = Data.iloc[:,5:].columns.values\n",
    "\n",
    "indp = ((Data[symptom]>0))\n",
    "indp = indp.values\n",
    "y = indp.astype(int) #target \n",
    "print('Rows w %s %d/%d = %.2f'%(symptom,sum(indp),len(indp),(sum(indp)/len(indp))))\n",
    "\n",
    "models = [RandomForestClassifier(n_estimators=50,random_state=2)]          \n",
    "model_name = ['Random Forest']\n",
    "models = list(zip(models,model_name))\n",
    "groups = Data.Subject.as_matrix()\n",
    "\n",
    "res,res_group = LOSOCV(Data,X,y,groups,models)\n",
    "res_all = pd.concat((res_all,res))\n",
    "\n",
    "Brad_Comb = res_group['Random Forest']\n",
    "    \n",
    "print('Elapsed time = %.3f min'%((time.time()-t1)/60))    "
   ]
  },
  {
   "cell_type": "code",
   "execution_count": null,
   "metadata": {},
   "outputs": [],
   "source": [
    "results = res_group['Random Forest']['auroc']\n",
    "np.save('Results/resultsBradykinesiaLOSOCombined_Hand.npy',results)\n",
    "aurocall = res_group['Random Forest']['auroc']\n",
    "sns.barplot(np.unique(groups),aurocall)\n",
    "ax = plt.xticks(rotation=90)\n",
    "plt.ylim([0.60,1.0])\n",
    "plt.title('LOSO Combined - Mean AUROC = %.3f +/- %.3f'%(np.nanmean(aurocall),np.nanstd(aurocall)))\n",
    "plt.savefig('Results/resultsBradykinesiaLOSOCombined_Hand.png',format='png',dpi=1000)"
   ]
  },
  {
   "cell_type": "code",
   "execution_count": null,
   "metadata": {},
   "outputs": [],
   "source": [
    "resultsAccel = np.load('Results/resultsBradykinesiaLOSOAccel_Hand.npy')\n",
    "resultsGyro = np.load('Results/resultsBradykinesiaLOSOGyro_Hand.npy')\n",
    "resultsCombined = np.load('Results/resultsBradykinesiaLOSOCombined_Hand.npy')\n",
    "results = pd.DataFrame({'Accelerometer':resultsAccel,'Gyroscope':resultsGyro,'Combined':resultsCombined})\n",
    "\n",
    "figure = plt.figure()\n",
    "figure.set_dpi(100)\n",
    "figure.set_size_inches(6.4,4.8)\n",
    "ax = sns.boxplot(data=results);\n",
    "plt.ylabel('AUROC');\n",
    "plt.ylim(0.3,1.1);\n",
    "plt.title('Bradykinesia LOSO');\n",
    "\n",
    "#x1,x2 = 0,1\n",
    "#y, h, col = results['Accelerometer'].max() + 0.02, 0.02, 'k'\n",
    "#plt.plot([x1, x1, x2, x2], [y, y+h, y+h, y], lw=1.5, c=col)\n",
    "#plt.text((x1+x2)*.5, y+h+0.01, \"***\", ha='center', va='bottom', color=col,fontsize=16);\n",
    "\n",
    "plt.savefig('Results/Bradykinesia Comparison Boxplot LOSO Hand.png',format='png',dpi=1000)"
   ]
  },
  {
   "cell_type": "markdown",
   "metadata": {},
   "source": [
    "# Smartwatch Comparisons"
   ]
  },
  {
   "cell_type": "markdown",
   "metadata": {},
   "source": [
    "## Tremor"
   ]
  },
  {
   "cell_type": "code",
   "execution_count": null,
   "metadata": {
    "scrolled": true
   },
   "outputs": [],
   "source": [
    "#Hand Sensors\n",
    "\n",
    "# filename = 'Features_AllLocsHP_Hand.pkl'\n",
    "# features_path = r'Z:\\CIS-PD Study\\FeatureMatrix'\n",
    "\n",
    "# Dataorig = pickle.load(open(os.path.join(features_path,filename),'rb'))\n",
    "# Dataorig = Dataorig.reset_index(drop=True)\n",
    "\n",
    "Dataorig = pd.read_csv('Z:CIS-PD Study\\\\Downsample\\\\Accel+Gyro Data 62.5Hz.csv', index_col = 0)\n",
    "\n",
    "Dataorig=Dataorig[Dataorig.Subject!=1020]\n",
    "Dataorig = Dataorig.iloc[:,:79]\n",
    "Dataorig = Dataorig.loc[(Dataorig.Subject==1004) | \n",
    "                        (Dataorig.Subject==1016) | \n",
    "                        (Dataorig.Subject==1018) | \n",
    "                        (Dataorig.Subject==1019) | \n",
    "#                        (Dataorig.Subject==1020) & (Dataorig.Side=='right') | \n",
    "                        (Dataorig.Subject==1024) | \n",
    "                        (Dataorig.Subject==1029) | \n",
    "                        (Dataorig.Subject==1030) | \n",
    "                        (Dataorig.Subject==1032) | \n",
    "                        (Dataorig.Subject==1038) | \n",
    "                        (Dataorig.Subject==1044) | \n",
    "                        (Dataorig.Subject==1046) | \n",
    "                        (Dataorig.Subject==1049) | \n",
    "                        (Dataorig.Subject==1051)]\n",
    "\n",
    "# Dataorig.drop(columns=['Sen_X acc', 'Sen_Y acc', 'Sen_Z acc', 'Sen_mag acc'], inplace=True)\n",
    "\n",
    "\n",
    "t1=time.time()\n",
    "res_all = pd.DataFrame()\n",
    "\n",
    "symptom = 'Tremor'\n",
    "    \n",
    "#remove nan rows for current symptom\n",
    "Data = Dataorig.copy() #original unmodified dataframe\n",
    "Data=Data[~Data[symptom].isnull()]\n",
    "Data=Data.reset_index(drop=True) #reset index\n",
    "\n",
    "X = Data.iloc[:,7:].as_matrix()\n",
    "# X = StandardScaler().fit_transform(X)\n",
    "fnames = Data.iloc[:,7:].columns.values\n",
    "\n",
    "indp = ((Data[symptom]>0))\n",
    "indp = indp.values\n",
    "y = indp.astype(int) #target \n",
    "print('Rows w %s %d/%d = %.2f'%(symptom,sum(indp),len(indp),(sum(indp)/len(indp))))\n",
    "\n",
    "models = [RandomForestClassifier(n_estimators=50,random_state=2)]          \n",
    "#           XGBClassifier()]\n",
    "model_name = ['Random Forest']#,'XGB']\n",
    "models = list(zip(models,model_name))\n",
    "groups = Data.Subject.as_matrix()\n",
    "\n",
    "res,res_group = LOSOCV(Data,X,y,groups,models)\n",
    "res_all = pd.concat((res_all,res))\n",
    "    \n",
    "print('Elapsed time = %.3f min'%((time.time()-t1)/60))    "
   ]
  },
  {
   "cell_type": "code",
   "execution_count": null,
   "metadata": {},
   "outputs": [],
   "source": [
    "results = res_group['Random Forest']['auroc']\n",
    "np.save('Results/resultsTremorHand.npy',results)\n",
    "aurocall = res_group['Random Forest']['auroc']\n",
    "sns.barplot(np.unique(groups),aurocall)\n",
    "ax = plt.xticks(rotation=90)\n",
    "plt.ylim([0.2,1.0])\n",
    "plt.title('LOSO Hand Sensors - Mean AUROC = %.3f +/- %.3f'%(np.nanmean(aurocall),np.nanstd(aurocall)))\n",
    "plt.savefig('Results/resultsTremorHand.png',format='png',dpi=1000)"
   ]
  },
  {
   "cell_type": "code",
   "execution_count": null,
   "metadata": {
    "scrolled": true
   },
   "outputs": [],
   "source": [
    "# Smart Watch\n",
    "\n",
    "Dataorig = pd.read_csv('Z:CIS-PD Study\\\\Downsample\\\\Watch Data 50Hz.csv',index_col=0)\n",
    "# Dataorig.drop(columns=['Sen_X', 'Sen_Y', 'Sen_Z', 'Sen_mag'], inplace=True)\n",
    "Dataorig = Dataorig.reset_index(drop=True)\n",
    "\n",
    "Dataorig=Dataorig[Dataorig.Subject!=1020]\n",
    "# Dataorig=Dataorig[Dataorig.Subject!=1030]\n",
    "\n",
    "t1=time.time()\n",
    "res_all = pd.DataFrame()\n",
    "\n",
    "symptom = 'Tremor'\n",
    "    \n",
    "#remove nan rows for current symptom\n",
    "Data = Dataorig.copy() #original unmodified dataframe\n",
    "Data=Data[~Data[symptom].isnull()]\n",
    "Data=Data.reset_index(drop=True) #reset index\n",
    "\n",
    "X = Data.iloc[:,5:].as_matrix()\n",
    "# X = StandardScaler().fit_transform(X)\n",
    "fnames = Data.iloc[:,5:].columns.values\n",
    "\n",
    "indp = ((Data[symptom]>0))\n",
    "indp = indp.values\n",
    "y = indp.astype(int) #target \n",
    "print('Rows w %s %d/%d = %.2f'%(symptom,sum(indp),len(indp),(sum(indp)/len(indp))))\n",
    "\n",
    "models = [RandomForestClassifier(n_estimators=50,random_state=2)]          \n",
    "#           XGBClassifier()]\n",
    "model_name = ['Random Forest']#,'XGB']\n",
    "models = list(zip(models,model_name))\n",
    "groups = Data.Subject.as_matrix()\n",
    "\n",
    "res,res_group = LOSOCV(Data,X,y,groups,models)\n",
    "res_all = pd.concat((res_all,res))\n",
    "\n",
    "Trem_Watch = res_group['Random Forest']\n",
    "    \n",
    "print('Elapsed time = %.3f min'%((time.time()-t1)/60))    "
   ]
  },
  {
   "cell_type": "code",
   "execution_count": null,
   "metadata": {},
   "outputs": [],
   "source": [
    "results = res_group['Random Forest']['auroc']\n",
    "np.save('Results/resultsTremorWatch.npy',results)\n",
    "aurocall = res_group['Random Forest']['auroc']\n",
    "sns.barplot(np.unique(groups),aurocall)\n",
    "ax = plt.xticks(rotation=90)\n",
    "plt.ylim([0.2,1.0])\n",
    "plt.title('LOSO Smart Watch - Mean AUROC = %.3f +/- %.3f'%(np.nanmean(aurocall),np.nanstd(aurocall)))\n",
    "plt.savefig('Results/resultsTremorWatch.png',format='png',dpi=1000)"
   ]
  },
  {
   "cell_type": "code",
   "execution_count": null,
   "metadata": {},
   "outputs": [],
   "source": [
    "resultsSensor = np.load('Results/resultsTremorHand.npy')\n",
    "resultsWatch = np.load('Results/resultsTremorWatch.npy')\n",
    "results = pd.DataFrame({'Sensors':resultsSensor,'Smartwatch':resultsWatch})\n",
    "figure = plt.figure()\n",
    "figure.set_dpi(100)\n",
    "figure.set_size_inches(6.4,4.8)\n",
    "ax = sns.boxplot(data=results);\n",
    "plt.ylabel('AUROC');\n",
    "plt.ylim(0.5,1.1);\n",
    "plt.title('Tremor Sensor Watch');\n",
    "\n",
    "#x1,x2 = 0,1\n",
    "#y, h, col = results['Accelerometer'].max() + 0.02, 0.02, 'k'\n",
    "#plt.plot([x1, x1, x2, x2], [y, y+h, y+h, y], lw=1.5, c=col)\n",
    "#plt.text((x1+x2)*.5, y+h+0.01, \"***\", ha='center', va='bottom', color=col,fontsize=16);\n",
    "\n",
    "plt.savefig('Results/Tremor Comparison Boxplot Sensor+Watch.png',format='png',dpi=1000)"
   ]
  },
  {
   "cell_type": "markdown",
   "metadata": {},
   "source": [
    "## Bradykinesia"
   ]
  },
  {
   "cell_type": "code",
   "execution_count": null,
   "metadata": {
    "scrolled": true
   },
   "outputs": [],
   "source": [
    "#Hand Sensors\n",
    "\n",
    "# filename = 'Features_AllLocsHP+LP_Hand.pkl'\n",
    "# features_path = r'Z:\\CIS-PD Study\\FeatureMatrix'\n",
    "\n",
    "# Dataorig = pickle.load(open(os.path.join(features_path,filename),'rb'))\n",
    "Dataorig = pd.read_csv('Z:CIS-PD Study\\\\Downsample\\\\Accel+Gyro Data 62.5Hz.csv', index_col = 0)\n",
    "Dataorig = Dataorig.reset_index(drop=True)\n",
    "\n",
    "Dataorig=Dataorig[Dataorig.Subject!=1020]\n",
    "Dataorig = Dataorig.iloc[:,:79]\n",
    "Dataorig = Dataorig.loc[(Dataorig.Subject==1004) | \n",
    "                        (Dataorig.Subject==1016) | \n",
    "                        (Dataorig.Subject==1018) | \n",
    "                        (Dataorig.Subject==1019) | \n",
    "#                        (Dataorig.Subject==1020) & (Dataorig.Side=='right') | \n",
    "                        (Dataorig.Subject==1024) | \n",
    "                        (Dataorig.Subject==1029) | \n",
    "                        (Dataorig.Subject==1030) | \n",
    "                        (Dataorig.Subject==1032) | \n",
    "                        (Dataorig.Subject==1038) | \n",
    "                        (Dataorig.Subject==1044) | \n",
    "                        (Dataorig.Subject==1046) | \n",
    "                        (Dataorig.Subject==1049) | \n",
    "                        (Dataorig.Subject==1051)]\n",
    "\n",
    "# Dataorig.drop(columns=['Sen_X acc', 'Sen_Y acc', 'Sen_Z acc', 'Sen_mag acc'], inplace=True)\n",
    "\n",
    "t1=time.time()\n",
    "res_all = pd.DataFrame()\n",
    "\n",
    "symptom = 'Bradykinesia'\n",
    "    \n",
    "#remove nan rows for current symptom\n",
    "Data = Dataorig.copy() #original unmodified dataframe\n",
    "Data=Data[~Data[symptom].isnull()]\n",
    "Data=Data.reset_index(drop=True) #reset index\n",
    "\n",
    "X = Data.iloc[:,7:].as_matrix()\n",
    "# X = StandardScaler().fit_transform(X)\n",
    "fnames = Data.iloc[:,7:].columns.values\n",
    "\n",
    "indp = ((Data[symptom]>0))\n",
    "indp = indp.values\n",
    "y = indp.astype(int) #target \n",
    "print('Rows w %s %d/%d = %.2f'%(symptom,sum(indp),len(indp),(sum(indp)/len(indp))))\n",
    "\n",
    "models = [RandomForestClassifier(n_estimators=50,random_state=2)]          \n",
    "#           XGBClassifier()]\n",
    "model_name = ['Random Forest']#,'XGB']\n",
    "models = list(zip(models,model_name))\n",
    "groups = Data.Subject.as_matrix()\n",
    "\n",
    "res,res_group = LOSOCV(Data,X,y,groups,models)\n",
    "res_all = pd.concat((res_all,res))\n",
    "\n",
    "\n",
    "    \n",
    "print('Elapsed time = %.3f min'%((time.time()-t1)/60))    "
   ]
  },
  {
   "cell_type": "code",
   "execution_count": null,
   "metadata": {},
   "outputs": [],
   "source": [
    "results = res_group['Random Forest']['auroc']\n",
    "np.save('Results/resultsBradykinesiaHand.npy',results)\n",
    "aurocall = res_group['Random Forest']['auroc']\n",
    "sns.barplot(np.unique(groups),aurocall)\n",
    "ax = plt.xticks(rotation=90)\n",
    "plt.ylim([0.2,1.0])\n",
    "plt.title('LOSO Hand Sensors - Mean AUROC = %.3f +/- %.3f'%(np.nanmean(aurocall),np.nanstd(aurocall)))\n",
    "plt.savefig('Results/resultsBradykinesiaHand.png',format='png',dpi=1000)"
   ]
  },
  {
   "cell_type": "code",
   "execution_count": null,
   "metadata": {
    "scrolled": true
   },
   "outputs": [],
   "source": [
    "#Smart Watch\n",
    "\n",
    "Dataorig = pd.read_csv('Z:CIS-PD Study\\\\Downsample\\\\Watch Data 50Hz.csv',index_col=0)\n",
    "# Dataorig.drop(columns=['Sen_X', 'Sen_Y', 'Sen_Z', 'Sen_mag'], inplace=True)\n",
    "Dataorig = Dataorig.reset_index(drop=True)\n",
    "\n",
    "Dataorig=Dataorig[Dataorig.Subject!=1020]\n",
    "# Dataorig=Dataorig[Dataorig.Subject!=1030]\n",
    "\n",
    "t1=time.time()\n",
    "res_all = pd.DataFrame()\n",
    "\n",
    "symptom = 'Bradykinesia'\n",
    "    \n",
    "#remove nan rows for current symptom\n",
    "Data = Dataorig.copy() #original unmodified dataframe\n",
    "Data=Data[~Data[symptom].isnull()]\n",
    "Data=Data.reset_index(drop=True) #reset index\n",
    "\n",
    "X = Data.iloc[:,5:].as_matrix()\n",
    "# X = StandardScaler().fit_transform(X)\n",
    "fnames = Data.iloc[:,5:].columns.values\n",
    "\n",
    "indp = ((Data[symptom]>0))\n",
    "indp = indp.values\n",
    "y = indp.astype(int) #target \n",
    "print('Rows w %s %d/%d = %.2f'%(symptom,sum(indp),len(indp),(sum(indp)/len(indp))))\n",
    "\n",
    "models = [RandomForestClassifier(n_estimators=50,random_state=2)]          \n",
    "#           XGBClassifier()]\n",
    "model_name = ['Random Forest']#,'XGB']\n",
    "models = list(zip(models,model_name))\n",
    "groups = Data.Subject.as_matrix()\n",
    "\n",
    "res,res_group = LOSOCV(Data,X,y,groups,models)\n",
    "res_all = pd.concat((res_all,res))\n",
    "\n",
    "Brad_Watch = res_group['Random Forest']\n",
    "    \n",
    "print('Elapsed time = %.3f min'%((time.time()-t1)/60))    "
   ]
  },
  {
   "cell_type": "code",
   "execution_count": null,
   "metadata": {},
   "outputs": [],
   "source": [
    "results = res_group['Random Forest']['auroc']\n",
    "np.save('Results/resultsBradykinesiaWatch.npy',results)\n",
    "aurocall = res_group['Random Forest']['auroc']\n",
    "sns.barplot(np.unique(groups),aurocall)\n",
    "ax = plt.xticks(rotation=90)\n",
    "plt.ylim([0.2,1.0])\n",
    "plt.title('LOSO Smart Watch - Mean AUROC = %.3f +/- %.3f'%(np.nanmean(aurocall),np.nanstd(aurocall)))\n",
    "plt.savefig('Results/resultsBradykinesiaWatch.png',format='png',dpi=1000)"
   ]
  },
  {
   "cell_type": "code",
   "execution_count": null,
   "metadata": {
    "scrolled": true
   },
   "outputs": [],
   "source": [
    "resultsSensor = np.load('Results/resultsBradykinesiaHand.npy')\n",
    "resultsWatch = np.load('Results/resultsBradykinesiaWatch.npy')\n",
    "results = pd.DataFrame({'Sensors':resultsSensor,'Smartwatch':resultsWatch})\n",
    "figure = plt.figure()\n",
    "figure.set_dpi(100)\n",
    "figure.set_size_inches(6.4,4.8)\n",
    "ax = sns.boxplot(data=results);\n",
    "plt.ylabel('AUROC');\n",
    "plt.ylim(0.3,1.1);\n",
    "plt.title('Bradykinesia Sensor Watch');\n",
    "\n",
    "#x1,x2 = 0,1\n",
    "#y, h, col = results['Accelerometer'].max() + 0.02, 0.02, 'k'\n",
    "#plt.plot([x1, x1, x2, x2], [y, y+h, y+h, y], lw=1.5, c=col)\n",
    "#plt.text((x1+x2)*.5, y+h+0.01, \"***\", ha='center', va='bottom', color=col,fontsize=16);\n",
    "\n",
    "plt.savefig('Results/Bradykinesia Comparison Boxplot Sensor+Watch.png',format='png',dpi=1000)"
   ]
  },
  {
   "cell_type": "markdown",
   "metadata": {},
   "source": [
    "# Data Loss Comparisons"
   ]
  },
  {
   "cell_type": "code",
   "execution_count": null,
   "metadata": {
    "scrolled": true
   },
   "outputs": [],
   "source": [
    "sensor_sample_lens = pd.read_csv('Z:CIS-PD Study\\\\Sensor Sample Lengths.csv',index_col=0)\n",
    "watch_sample_lens = pd.read_csv('Z:CIS-PD Study\\\\Watch Sample Lengths.csv',index_col=0)"
   ]
  },
  {
   "cell_type": "code",
   "execution_count": null,
   "metadata": {},
   "outputs": [],
   "source": [
    "sample_lens = pd.DataFrame()\n",
    "sample_lens['mean'] = pd.Series([np.mean(sensor_sample_lens['Samples']),np.mean(watch_sample_lens['Samples'])])\n",
    "sample_lens['mode'] = pd.Series([mode(sensor_sample_lens['Samples']),mode(watch_sample_lens['Samples'])])\n",
    "sample_lens['std'] = pd.Series([np.std(sensor_sample_lens['Samples']),np.std(watch_sample_lens['Samples'])])\n",
    "sample_lens.index = ['Sensor','Watch']\n",
    "\n",
    "sample_lens"
   ]
  },
  {
   "cell_type": "code",
   "execution_count": null,
   "metadata": {},
   "outputs": [],
   "source": []
  },
  {
   "cell_type": "markdown",
   "metadata": {},
   "source": [
    "# Multiclass Comparisons"
   ]
  },
  {
   "cell_type": "markdown",
   "metadata": {},
   "source": [
    "# Accelerometer and Gyroscope Comparisons"
   ]
  },
  {
   "cell_type": "markdown",
   "metadata": {},
   "source": [
    "## Tremor"
   ]
  },
  {
   "cell_type": "code",
   "execution_count": null,
   "metadata": {
    "scrolled": true
   },
   "outputs": [],
   "source": [
    "# filename = 'Features_AllLocsHP_Hand.pkl'\n",
    "# features_path = r'Z:\\CIS-PD Study\\FeatureMatrix'\n",
    "# # Dataorig = pickle.load(open(os.path.join(features_path,filename),'rb'))\n",
    "# Dataorig = Dataorig.reset_index(drop=True)\n",
    "\n",
    "Dataorig = pd.read_csv('Z:CIS-PD Study\\\\Downsample\\\\Accel+Gyro Data 62.5Hz.csv',index_col = 0)\n",
    "# Dataorig.drop(columns=['Sen_X acc', 'Sen_Y acc', 'Sen_Z acc', 'Sen_mag acc', 'Sen_X gyr', 'Sen_Y gyr', 'Sen_Z gyr', 'Sen_mag gyr'], inplace=True)\n",
    "\n",
    "Dataorig = Dataorig.reset_index(drop=True)"
   ]
  },
  {
   "cell_type": "code",
   "execution_count": null,
   "metadata": {
    "scrolled": true
   },
   "outputs": [],
   "source": [
    "#LOSO Accelerometer Tremor\n",
    "\n",
    "t1=time.time()\n",
    "res_all = pd.DataFrame()\n",
    "\n",
    "symptom = 'Tremor'\n",
    "\n",
    "Data = Dataorig.copy() #original unmodified dataframe\n",
    "Data=Data[~Data[symptom].isnull()] #remove nan rows for current symptom\n",
    "Data=Data.reset_index(drop=True) #reset index\n",
    "\n",
    "X = Data.iloc[:,5:79].as_matrix()\n",
    "fnames = Data.iloc[:,5:79].columns.values\n",
    "\n",
    "y = Data[symptom].values.astype(int) #target \n",
    "# print('Rows w %s %d/%d = %.2f'%(symptom,sum(indp),len(indp),(sum(indp)/len(indp))))\n",
    "\n",
    "models = [RandomForestClassifier(n_estimators=50,random_state=2)]          \n",
    "model_name = ['Random Forest']\n",
    "models = list(zip(models,model_name))\n",
    "groups = Data.Subject.as_matrix()\n",
    "\n",
    "res,res_group = LOSOCV_Multi(Data,X,y,groups,models)\n",
    "res_all = pd.concat((res_all,res))\n",
    "\n",
    "Trem_Accel_Multi = res_group['Random Forest']\n",
    "    \n",
    "print('Elapsed time = %.3f min'%((time.time()-t1)/60))    "
   ]
  },
  {
   "cell_type": "code",
   "execution_count": null,
   "metadata": {},
   "outputs": [],
   "source": [
    "results = res_group['Random Forest']['auroc']\n",
    "np.save('Results/resultsTremorLOSOAccel_Hand.npy',results)\n",
    "aurocall = res_group['Random Forest']['auroc']\n",
    "sns.barplot(np.unique(groups),aurocall)\n",
    "ax = plt.xticks(rotation=90)\n",
    "plt.ylim([0.5,1.0])\n",
    "plt.title('LOSO Accel - Mean AUROC = %.3f +/- %.3f'%(np.nanmean(aurocall),np.nanstd(aurocall)))\n",
    "plt.savefig('Results/resultsTremorLOSOAccel_Hand.png',format='png',dpi=1000)"
   ]
  },
  {
   "cell_type": "code",
   "execution_count": null,
   "metadata": {
    "scrolled": true
   },
   "outputs": [],
   "source": [
    "#LOSO Gyroscope Tremor\n",
    "\n",
    "t1=time.time()\n",
    "res_all = pd.DataFrame()\n",
    "\n",
    "symptom = 'Tremor'\n",
    "\n",
    "Data = Dataorig.copy() #original unmodified dataframe\n",
    "Data=Data[~Data[symptom].isnull()] #remove nan rows for current symptom\n",
    "Data=Data.reset_index(drop=True) #reset index\n",
    "\n",
    "X = Data.iloc[:,79:].as_matrix()\n",
    "fnames = Data.iloc[:,79:].columns.values\n",
    "\n",
    "y = Data[symptom].values.astype(int) #target \n",
    "# print('Rows w %s %d/%d = %.2f'%(symptom,sum(indp),len(indp),(sum(indp)/len(indp))))\n",
    "\n",
    "models = [RandomForestClassifier(n_estimators=50,random_state=2)]          \n",
    "model_name = ['Random Forest']\n",
    "models = list(zip(models,model_name))\n",
    "groups = Data.Subject.as_matrix()\n",
    "\n",
    "res,res_group = LOSOCV_Multi(Data,X,y,groups,models)\n",
    "res_all = pd.concat((res_all,res))\n",
    "\n",
    "Trem_Gyro_Multi = res_group['Random Forest']\n",
    "\n",
    "print('Elapsed time = %.3f min'%((time.time()-t1)/60))    "
   ]
  },
  {
   "cell_type": "code",
   "execution_count": null,
   "metadata": {
    "scrolled": true
   },
   "outputs": [],
   "source": [
    "results = res_group['Random Forest']['auroc']\n",
    "np.save('Results/resultsTremorLOSOGyro_Hand.npy',results)\n",
    "aurocall = res_group['Random Forest']['auroc']\n",
    "sns.barplot(np.unique(groups),aurocall)\n",
    "ax = plt.xticks(rotation=90)\n",
    "plt.ylim([0.4,1.0])\n",
    "plt.title('LOSO Gyro - Mean AUROC = %.3f +/- %.3f'%(np.nanmean(aurocall),np.nanstd(aurocall)))\n",
    "plt.savefig('Results/resultsTremorLOSOGyro_Hand.png',format='png',dpi=1000)"
   ]
  },
  {
   "cell_type": "code",
   "execution_count": null,
   "metadata": {
    "scrolled": true
   },
   "outputs": [],
   "source": [
    "#LOSO Combined Tremor\n",
    "\n",
    "t1=time.time()\n",
    "res_all = pd.DataFrame()\n",
    "\n",
    "symptom = 'Tremor'\n",
    "\n",
    "Data = Dataorig.copy() #original unmodified dataframe\n",
    "Data=Data[~Data[symptom].isnull()] #remove nan rows for current symptom\n",
    "Data=Data.reset_index(drop=True) #reset index\n",
    "\n",
    "X = Data.iloc[:,5:].as_matrix()\n",
    "fnames = Data.iloc[:,5:].columns.values\n",
    "\n",
    "y = Data[symptom].values.astype(int) #target \n",
    "# print('Rows w %s %d/%d = %.2f'%(symptom,sum(indp),len(indp),(sum(indp)/len(indp))))\n",
    "\n",
    "models = [RandomForestClassifier(n_estimators=50,random_state=2)]          \n",
    "model_name = ['Random Forest']\n",
    "models = list(zip(models,model_name))\n",
    "groups = Data.Subject.as_matrix()\n",
    "\n",
    "res,res_group = LOSOCV_Multi(Data,X,y,groups,models)\n",
    "res_all = pd.concat((res_all,res))\n",
    "\n",
    "Trem_Comb_Multi = res_group['Random Forest']\n",
    "\n",
    "print('Elapsed time = %.3f min'%((time.time()-t1)/60))    "
   ]
  },
  {
   "cell_type": "code",
   "execution_count": null,
   "metadata": {},
   "outputs": [],
   "source": [
    "results = res_group['Random Forest']['auroc']\n",
    "np.save('Results/resultsTremorLOSOCombined_Hand.npy',results)\n",
    "aurocall = res_group['Random Forest']['auroc']\n",
    "sns.barplot(np.unique(groups),aurocall)\n",
    "ax = plt.xticks(rotation=90)\n",
    "plt.ylim([0.60,1.0])\n",
    "plt.title('LOSO Combined - Mean AUROC = %.3f +/- %.3f'%(np.nanmean(aurocall),np.nanstd(aurocall)))\n",
    "plt.savefig('Results/resultsTremorLOSOCombined_Hand.png',format='png',dpi=1000)"
   ]
  },
  {
   "cell_type": "code",
   "execution_count": null,
   "metadata": {},
   "outputs": [],
   "source": [
    "resultsAccel = np.load('Results/resultsTremorLOSOAccel_Hand.npy')\n",
    "resultsGyro = np.load('Results/resultsTremorLOSOGyro_Hand.npy')\n",
    "resultsCombined = np.load('Results/resultsTremorLOSOCombined_Hand.npy')\n",
    "results = pd.DataFrame({'Accelerometer':resultsAccel,'Gyroscope':resultsGyro,'Combined':resultsCombined})\n",
    "\n",
    "figure = plt.figure()\n",
    "figure.set_dpi(100)\n",
    "figure.set_size_inches(6.4,4.8)\n",
    "ax = sns.boxplot(data=results);\n",
    "plt.ylabel('AUROC');\n",
    "plt.ylim(0.3,1.1);\n",
    "plt.title('Tremor LOSO');\n",
    "\n",
    "#x1,x2 = 0,1\n",
    "#y, h, col = results['Accelerometer'].max() + 0.02, 0.02, 'k'\n",
    "#plt.plot([x1, x1, x2, x2], [y, y+h, y+h, y], lw=1.5, c=col)\n",
    "#plt.text((x1+x2)*.5, y+h+0.01, \"***\", ha='center', va='bottom', color=col,fontsize=16);\n",
    "\n",
    "plt.savefig('Results/Tremor Comparison Boxplot LOSO Hand.png',format='png',dpi=1000)"
   ]
  },
  {
   "cell_type": "markdown",
   "metadata": {},
   "source": [
    "## Bradykinesia"
   ]
  },
  {
   "cell_type": "code",
   "execution_count": null,
   "metadata": {
    "scrolled": true
   },
   "outputs": [],
   "source": [
    "# filename = 'Features_AllLocsHP+LP_Hand.pkl'\n",
    "# features_path = r'Z:\\CIS-PD Study\\FeatureMatrix'\n",
    "# Dataorig = pickle.load(open(os.path.join(features_path,filename),'rb'))\n",
    "# Dataorig = Dataorig.reset_index(drop=True)\n",
    "\n",
    "Dataorig = pd.read_csv('Z:CIS-PD Study\\\\Downsample\\\\Accel+Gyro Data 62.5Hz.csv', index_col = 0)\n",
    "# Dataorig.drop(columns=['Sen_X acc', 'Sen_Y acc', 'Sen_Z acc', 'Sen_mag acc', 'Sen_X gyr', 'Sen_Y gyr', 'Sen_Z gyr', 'Sen_mag gyr'], inplace=True)\n",
    "Dataorig = Dataorig.reset_index(drop=True)"
   ]
  },
  {
   "cell_type": "code",
   "execution_count": null,
   "metadata": {
    "scrolled": true
   },
   "outputs": [],
   "source": [
    "#LOSO Accelerometer Bradykinesia\n",
    "\n",
    "t1=time.time()\n",
    "res_all = pd.DataFrame()\n",
    "\n",
    "symptom = 'Bradykinesia'\n",
    "\n",
    "Data = Dataorig.copy() #original unmodified dataframe\n",
    "Data=Data[~Data[symptom].isnull()] #remove nan rows for current symptom\n",
    "Data=Data.reset_index(drop=True) #reset index\n",
    "\n",
    "X = Data.iloc[:,5:79].as_matrix()\n",
    "fnames = Data.iloc[:,5:79].columns.values\n",
    "\n",
    "y = Data[symptom].values.astype(int) #target \n",
    "# print('Rows w %s %d/%d = %.2f'%(symptom,sum(indp),len(indp),(sum(indp)/len(indp))))\n",
    "\n",
    "models = [RandomForestClassifier(n_estimators=50,random_state=2)]          \n",
    "model_name = ['Random Forest']\n",
    "models = list(zip(models,model_name))\n",
    "groups = Data.Subject.as_matrix()\n",
    "\n",
    "res,res_group = LOSOCV_Multi(Data,X,y,groups,models)\n",
    "res_all = pd.concat((res_all,res))\n",
    "\n",
    "Brad_Accel_Multi = res_group['Random Forest']\n",
    "    \n",
    "print('Elapsed time = %.3f min'%((time.time()-t1)/60))    "
   ]
  },
  {
   "cell_type": "code",
   "execution_count": null,
   "metadata": {},
   "outputs": [],
   "source": [
    "results = res_group['Random Forest']['auroc']\n",
    "np.save('Results/resultsBradykinesiaLOSOAccel_Hand.npy',results)\n",
    "aurocall = res_group['Random Forest']['auroc']\n",
    "sns.barplot(np.unique(groups),aurocall)\n",
    "ax = plt.xticks(rotation=90)\n",
    "plt.ylim([0.5,1.0])\n",
    "plt.title('LOSO Accel - Mean AUROC = %.3f +/- %.3f'%(np.nanmean(aurocall),np.nanstd(aurocall)))\n",
    "plt.savefig('Results/resultsBradykinesiaLOSOAccel_Hand.png',format='png',dpi=1000)"
   ]
  },
  {
   "cell_type": "code",
   "execution_count": null,
   "metadata": {
    "scrolled": true
   },
   "outputs": [],
   "source": [
    "#LOSO Gyroscope Bradykinesia\n",
    "\n",
    "t1=time.time()\n",
    "res_all = pd.DataFrame()\n",
    "\n",
    "symptom = 'Bradykinesia'\n",
    "\n",
    "Data = Dataorig.copy() #original unmodified dataframe\n",
    "Data=Data[~Data[symptom].isnull()] #remove nan rows for current symptom\n",
    "Data=Data.reset_index(drop=True) #reset index\n",
    "\n",
    "X = Data.iloc[:,79:].as_matrix()\n",
    "fnames = Data.iloc[:,79:].columns.values\n",
    "\n",
    "y = Data[symptom].values.astype(int) #target \n",
    "# print('Rows w %s %d/%d = %.2f'%(symptom,sum(indp),len(indp),(sum(indp)/len(indp))))\n",
    "\n",
    "models = [RandomForestClassifier(n_estimators=50,random_state=2)]          \n",
    "model_name = ['Random Forest']\n",
    "models = list(zip(models,model_name))\n",
    "groups = Data.Subject.as_matrix()\n",
    "\n",
    "res,res_group = LOSOCV_Multi(Data,X,y,groups,models)\n",
    "res_all = pd.concat((res_all,res))\n",
    "\n",
    "Brad_Gyro_Multi = res_group['Random Forest']\n",
    "    \n",
    "print('Elapsed time = %.3f min'%((time.time()-t1)/60))    "
   ]
  },
  {
   "cell_type": "code",
   "execution_count": null,
   "metadata": {},
   "outputs": [],
   "source": [
    "results = res_group['Random Forest']['auroc']\n",
    "np.save('Results/resultsBradykinesiaLOSOGyro_Hand.npy',results)\n",
    "aurocall = res_group['Random Forest']['auroc']\n",
    "sns.barplot(np.unique(groups),aurocall)\n",
    "ax = plt.xticks(rotation=90)\n",
    "plt.ylim([0.4,1.0])\n",
    "plt.title('LOSO Gyro - Mean AUROC = %.3f +/- %.3f'%(np.nanmean(aurocall),np.nanstd(aurocall)))\n",
    "plt.savefig('Results/resultsBradykinesiaLOSOGyro_Hand.png',format='png',dpi=1000)"
   ]
  },
  {
   "cell_type": "code",
   "execution_count": null,
   "metadata": {
    "scrolled": true
   },
   "outputs": [],
   "source": [
    "#LOSO Combined Bradykinesia\n",
    "\n",
    "t1=time.time()\n",
    "res_all = pd.DataFrame()\n",
    "\n",
    "symptom = 'Bradykinesia'\n",
    "\n",
    "Data = Dataorig.copy() #original unmodified dataframe\n",
    "Data=Data[~Data[symptom].isnull()] #remove nan rows for current symptom\n",
    "Data=Data.reset_index(drop=True) #reset index\n",
    "\n",
    "X = Data.iloc[:,5:].as_matrix()\n",
    "fnames = Data.iloc[:,5:].columns.values\n",
    "\n",
    "y = Data[symptom].values.astype(int) #target \n",
    "# print('Rows w %s %d/%d = %.2f'%(symptom,sum(indp),len(indp),(sum(indp)/len(indp))))\n",
    "\n",
    "models = [RandomForestClassifier(n_estimators=50,random_state=2)]          \n",
    "model_name = ['Random Forest']\n",
    "models = list(zip(models,model_name))\n",
    "groups = Data.Subject.as_matrix()\n",
    "\n",
    "res,res_group = LOSOCV_Multi(Data,X,y,groups,models)\n",
    "res_all = pd.concat((res_all,res))\n",
    "\n",
    "Brad_Comb_Multi = res_group['Random Forest']\n",
    "    \n",
    "print('Elapsed time = %.3f min'%((time.time()-t1)/60))    "
   ]
  },
  {
   "cell_type": "code",
   "execution_count": null,
   "metadata": {},
   "outputs": [],
   "source": [
    "results = res_group['Random Forest']['auroc']\n",
    "np.save('Results/resultsBradykinesiaLOSOCombined_Hand.npy',results)\n",
    "aurocall = res_group['Random Forest']['auroc']\n",
    "sns.barplot(np.unique(groups),aurocall)\n",
    "ax = plt.xticks(rotation=90)\n",
    "plt.ylim([0.60,1.0])\n",
    "plt.title('LOSO Combined - Mean AUROC = %.3f +/- %.3f'%(np.nanmean(aurocall),np.nanstd(aurocall)))\n",
    "plt.savefig('Results/resultsBradykinesiaLOSOCombined_Hand.png',format='png',dpi=1000)"
   ]
  },
  {
   "cell_type": "code",
   "execution_count": null,
   "metadata": {},
   "outputs": [],
   "source": [
    "resultsAccel = np.load('Results/resultsBradykinesiaLOSOAccel_Hand.npy')\n",
    "resultsGyro = np.load('Results/resultsBradykinesiaLOSOGyro_Hand.npy')\n",
    "resultsCombined = np.load('Results/resultsBradykinesiaLOSOCombined_Hand.npy')\n",
    "results = pd.DataFrame({'Accelerometer':resultsAccel,'Gyroscope':resultsGyro,'Combined':resultsCombined})\n",
    "\n",
    "figure = plt.figure()\n",
    "figure.set_dpi(100)\n",
    "figure.set_size_inches(6.4,4.8)\n",
    "ax = sns.boxplot(data=results);\n",
    "plt.ylabel('AUROC');\n",
    "plt.ylim(0.3,1.1);\n",
    "plt.title('Bradykinesia LOSO');\n",
    "\n",
    "#x1,x2 = 0,1\n",
    "#y, h, col = results['Accelerometer'].max() + 0.02, 0.02, 'k'\n",
    "#plt.plot([x1, x1, x2, x2], [y, y+h, y+h, y], lw=1.5, c=col)\n",
    "#plt.text((x1+x2)*.5, y+h+0.01, \"***\", ha='center', va='bottom', color=col,fontsize=16);\n",
    "\n",
    "plt.savefig('Results/Bradykinesia Comparison Boxplot LOSO Hand.png',format='png',dpi=1000)"
   ]
  },
  {
   "cell_type": "markdown",
   "metadata": {},
   "source": [
    "# Smartwatch Comparisons"
   ]
  },
  {
   "cell_type": "markdown",
   "metadata": {},
   "source": [
    "## Tremor"
   ]
  },
  {
   "cell_type": "code",
   "execution_count": null,
   "metadata": {
    "scrolled": true
   },
   "outputs": [],
   "source": [
    "#Hand Sensors\n",
    "\n",
    "# filename = 'Features_AllLocsHP_Hand.pkl'\n",
    "# features_path = r'Z:\\CIS-PD Study\\FeatureMatrix'\n",
    "\n",
    "# Dataorig = pickle.load(open(os.path.join(features_path,filename),'rb'))\n",
    "# Dataorig = Dataorig.reset_index(drop=True)\n",
    "\n",
    "Dataorig = pd.read_csv('Z:CIS-PD Study\\\\Downsample\\\\Accel+Gyro Data 62.5Hz.csv', index_col = 0)\n",
    "\n",
    "Dataorig=Dataorig[Dataorig.Subject!=1020]\n",
    "Dataorig = Dataorig.iloc[:,:79]\n",
    "Dataorig = Dataorig.loc[(Dataorig.Subject==1004) | \n",
    "                        (Dataorig.Subject==1016) | \n",
    "                        (Dataorig.Subject==1018) | \n",
    "                        (Dataorig.Subject==1019) | \n",
    "#                        (Dataorig.Subject==1020) & (Dataorig.Side=='right') | \n",
    "                        (Dataorig.Subject==1024) | \n",
    "                        (Dataorig.Subject==1029) | \n",
    "                        (Dataorig.Subject==1030) | \n",
    "                        (Dataorig.Subject==1032) | \n",
    "                        (Dataorig.Subject==1038) | \n",
    "                        (Dataorig.Subject==1044) | \n",
    "                        (Dataorig.Subject==1046) | \n",
    "                        (Dataorig.Subject==1049) | \n",
    "                        (Dataorig.Subject==1051)]\n",
    "# Dataorig.drop(columns=['Sen_X acc', 'Sen_Y acc', 'Sen_Z acc', 'Sen_mag acc'], inplace=True)\n",
    "t1=time.time()\n",
    "res_all = pd.DataFrame()\n",
    "\n",
    "symptom = 'Tremor'\n",
    "    \n",
    "#remove nan rows for current symptom\n",
    "Data = Dataorig.copy() #original unmodified dataframe\n",
    "Data=Data[~Data[symptom].isnull()]\n",
    "Data=Data.reset_index(drop=True) #reset index\n",
    "\n",
    "X = Data.iloc[:,7:].as_matrix()\n",
    "# X = StandardScaler().fit_transform(X)\n",
    "fnames = Data.iloc[:,7:].columns.values\n",
    "\n",
    "y = Data[symptom].values.astype(int) #target \n",
    "# print('Rows w %s %d/%d = %.2f'%(symptom,sum(indp),len(indp),(sum(indp)/len(indp))))\n",
    "\n",
    "models = [RandomForestClassifier(n_estimators=50,random_state=2)]          \n",
    "#           XGBClassifier()]\n",
    "model_name = ['Random Forest']#,'XGB']\n",
    "models = list(zip(models,model_name))\n",
    "groups = Data.Subject.as_matrix()\n",
    "\n",
    "res,res_group = LOSOCV_Multi(Data,X,y,groups,models)\n",
    "res_all = pd.concat((res_all,res))\n",
    "    \n",
    "print('Elapsed time = %.3f min'%((time.time()-t1)/60))    "
   ]
  },
  {
   "cell_type": "code",
   "execution_count": null,
   "metadata": {},
   "outputs": [],
   "source": [
    "results = res_group['Random Forest']['auroc']\n",
    "np.save('Results/resultsTremorHand.npy',results)\n",
    "aurocall = res_group['Random Forest']['auroc']\n",
    "sns.barplot(np.unique(groups),aurocall)\n",
    "ax = plt.xticks(rotation=90)\n",
    "plt.ylim([0.2,1.0])\n",
    "plt.title('LOSO Hand Sensors - Mean AUROC = %.3f +/- %.3f'%(np.nanmean(aurocall),np.nanstd(aurocall)))\n",
    "plt.savefig('Results/resultsTremorHand.png',format='png',dpi=1000)"
   ]
  },
  {
   "cell_type": "code",
   "execution_count": null,
   "metadata": {
    "scrolled": true
   },
   "outputs": [],
   "source": [
    "# Smart Watch\n",
    "\n",
    "Dataorig = pd.read_csv('Z:CIS-PD Study\\\\Downsample\\\\Watch Data 50Hz.csv',index_col=0)\n",
    "# Dataorig.drop(columns=['Sen_X', 'Sen_Y', 'Sen_Z', 'Sen_mag'], inplace=True)\n",
    "Dataorig = Dataorig.reset_index(drop=True)\n",
    "\n",
    "Dataorig=Dataorig[Dataorig.Subject!=1020]\n",
    "# Dataorig=Dataorig[Dataorig.Subject!=1030]\n",
    "\n",
    "t1=time.time()\n",
    "res_all = pd.DataFrame()\n",
    "\n",
    "symptom = 'Tremor'\n",
    "    \n",
    "#remove nan rows for current symptom\n",
    "Data = Dataorig.copy() #original unmodified dataframe\n",
    "Data=Data[~Data[symptom].isnull()]\n",
    "Data=Data.reset_index(drop=True) #reset index\n",
    "\n",
    "X = Data.iloc[:,5:].as_matrix()\n",
    "# X = StandardScaler().fit_transform(X)\n",
    "fnames = Data.iloc[:,5:].columns.values\n",
    "\n",
    "y = Data[symptom].values.astype(int) #target \n",
    "# print('Rows w %s %d/%d = %.2f'%(symptom,sum(indp),len(indp),(sum(indp)/len(indp))))\n",
    "\n",
    "models = [RandomForestClassifier(n_estimators=50,random_state=2)]          \n",
    "#           XGBClassifier()]\n",
    "model_name = ['Random Forest']#,'XGB']\n",
    "models = list(zip(models,model_name))\n",
    "groups = Data.Subject.as_matrix()\n",
    "\n",
    "res,res_group = LOSOCV_Multi(Data,X,y,groups,models)\n",
    "res_all = pd.concat((res_all,res))\n",
    "\n",
    "Trem_Watch_Multi = res_group['Random Forest']\n",
    "    \n",
    "print('Elapsed time = %.3f min'%((time.time()-t1)/60))    "
   ]
  },
  {
   "cell_type": "code",
   "execution_count": null,
   "metadata": {},
   "outputs": [],
   "source": [
    "results = res_group['Random Forest']['auroc']\n",
    "np.save('Results/resultsTremorWatch.npy',results)\n",
    "aurocall = res_group['Random Forest']['auroc']\n",
    "sns.barplot(np.unique(groups),aurocall)\n",
    "ax = plt.xticks(rotation=90)\n",
    "plt.ylim([0.2,1.0])\n",
    "plt.title('LOSO Smart Watch - Mean AUROC = %.3f +/- %.3f'%(np.nanmean(aurocall),np.nanstd(aurocall)))\n",
    "plt.savefig('Results/resultsTremorWatch.png',format='png',dpi=1000)"
   ]
  },
  {
   "cell_type": "code",
   "execution_count": null,
   "metadata": {},
   "outputs": [],
   "source": [
    "resultsSensor = np.load('Results/resultsTremorHand.npy')\n",
    "resultsWatch = np.load('Results/resultsTremorWatch.npy')\n",
    "results = pd.DataFrame({'Sensors':resultsSensor,'Smartwatch':resultsWatch})\n",
    "figure = plt.figure()\n",
    "figure.set_dpi(100)\n",
    "figure.set_size_inches(6.4,4.8)\n",
    "ax = sns.boxplot(data=results);\n",
    "plt.ylabel('AUROC');\n",
    "plt.ylim(0.5,1.1);\n",
    "plt.title('Tremor Sensor Watch');\n",
    "\n",
    "#x1,x2 = 0,1\n",
    "#y, h, col = results['Accelerometer'].max() + 0.02, 0.02, 'k'\n",
    "#plt.plot([x1, x1, x2, x2], [y, y+h, y+h, y], lw=1.5, c=col)\n",
    "#plt.text((x1+x2)*.5, y+h+0.01, \"***\", ha='center', va='bottom', color=col,fontsize=16);\n",
    "\n",
    "plt.savefig('Results/Tremor Comparison Boxplot Sensor+Watch.png',format='png',dpi=1000)"
   ]
  },
  {
   "cell_type": "markdown",
   "metadata": {},
   "source": [
    "## Bradykinesia"
   ]
  },
  {
   "cell_type": "code",
   "execution_count": null,
   "metadata": {
    "scrolled": true
   },
   "outputs": [],
   "source": [
    "#Hand Sensors\n",
    "\n",
    "# filename = 'Features_AllLocsHP+LP_Hand.pkl'\n",
    "# features_path = r'Z:\\CIS-PD Study\\FeatureMatrix'\n",
    "\n",
    "# Dataorig = pickle.load(open(os.path.join(features_path,filename),'rb'))\n",
    "Dataorig = pd.read_csv('Z:CIS-PD Study\\\\Downsample\\\\Accel+Gyro Data 62.5Hz.csv', index_col = 0)\n",
    "Dataorig = Dataorig.reset_index(drop=True)\n",
    "\n",
    "Dataorig=Dataorig[Dataorig.Subject!=1020]\n",
    "Dataorig = Dataorig.iloc[:,:79]\n",
    "Dataorig = Dataorig.loc[(Dataorig.Subject==1004) | \n",
    "                        (Dataorig.Subject==1016) | \n",
    "                        (Dataorig.Subject==1018) | \n",
    "                        (Dataorig.Subject==1019) | \n",
    "#                        (Dataorig.Subject==1020) & (Dataorig.Side=='right') | \n",
    "                        (Dataorig.Subject==1024) | \n",
    "                        (Dataorig.Subject==1029) | \n",
    "                        (Dataorig.Subject==1030) | \n",
    "                        (Dataorig.Subject==1032) | \n",
    "                        (Dataorig.Subject==1038) | \n",
    "                        (Dataorig.Subject==1044) | \n",
    "                        (Dataorig.Subject==1046) | \n",
    "                        (Dataorig.Subject==1049) | \n",
    "                        (Dataorig.Subject==1051)]\n",
    "# Dataorig.drop(columns=['Sen_X acc', 'Sen_Y acc', 'Sen_Z acc', 'Sen_mag acc'], inplace=True)\n",
    "t1=time.time()\n",
    "res_all = pd.DataFrame()\n",
    "\n",
    "symptom = 'Bradykinesia'\n",
    "    \n",
    "#remove nan rows for current symptom\n",
    "Data = Dataorig.copy() #original unmodified dataframe\n",
    "Data=Data[~Data[symptom].isnull()]\n",
    "Data=Data.reset_index(drop=True) #reset index\n",
    "\n",
    "X = Data.iloc[:,7:].as_matrix()\n",
    "# X = StandardScaler().fit_transform(X)\n",
    "fnames = Data.iloc[:,7:].columns.values\n",
    "\n",
    "y = Data[symptom].values.astype(int) #target \n",
    "# print('Rows w %s %d/%d = %.2f'%(symptom,sum(indp),len(indp),(sum(indp)/len(indp))))\n",
    "\n",
    "models = [RandomForestClassifier(n_estimators=50,random_state=2)]          \n",
    "#           XGBClassifier()]\n",
    "model_name = ['Random Forest']#,'XGB']\n",
    "models = list(zip(models,model_name))\n",
    "groups = Data.Subject.as_matrix()\n",
    "\n",
    "res,res_group = LOSOCV_Multi(Data,X,y,groups,models)\n",
    "res_all = pd.concat((res_all,res))\n",
    "\n",
    "\n",
    "    \n",
    "print('Elapsed time = %.3f min'%((time.time()-t1)/60))    "
   ]
  },
  {
   "cell_type": "code",
   "execution_count": null,
   "metadata": {},
   "outputs": [],
   "source": [
    "results = res_group['Random Forest']['auroc']\n",
    "np.save('Results/resultsBradykinesiaHand.npy',results)\n",
    "aurocall = res_group['Random Forest']['auroc']\n",
    "sns.barplot(np.unique(groups),aurocall)\n",
    "ax = plt.xticks(rotation=90)\n",
    "plt.ylim([0.2,1.0])\n",
    "plt.title('LOSO Hand Sensors - Mean AUROC = %.3f +/- %.3f'%(np.nanmean(aurocall),np.nanstd(aurocall)))\n",
    "plt.savefig('Results/resultsBradykinesiaHand.png',format='png',dpi=1000)"
   ]
  },
  {
   "cell_type": "code",
   "execution_count": null,
   "metadata": {
    "scrolled": true
   },
   "outputs": [],
   "source": [
    "#Smart Watch\n",
    "\n",
    "Dataorig = pd.read_csv('Z:CIS-PD Study\\\\Downsample\\\\Watch Data 50Hz.csv',index_col=0)\n",
    "# Dataorig.drop(columns=['Sen_X', 'Sen_Y', 'Sen_Z', 'Sen_mag'], inplace=True)\n",
    "Dataorig = Dataorig.reset_index(drop=True)\n",
    "\n",
    "Dataorig=Dataorig[Dataorig.Subject!=1020]\n",
    "# Dataorig=Dataorig[Dataorig.Subject!=1030]\n",
    "\n",
    "t1=time.time()\n",
    "res_all = pd.DataFrame()\n",
    "\n",
    "symptom = 'Bradykinesia'\n",
    "    \n",
    "#remove nan rows for current symptom\n",
    "Data = Dataorig.copy() #original unmodified dataframe\n",
    "Data=Data[~Data[symptom].isnull()]\n",
    "Data=Data.reset_index(drop=True) #reset index\n",
    "\n",
    "X = Data.iloc[:,5:].as_matrix()\n",
    "# X = StandardScaler().fit_transform(X)\n",
    "fnames = Data.iloc[:,5:].columns.values\n",
    "\n",
    "y = Data[symptom].values.astype(int) #target \n",
    "# print('Rows w %s %d/%d = %.2f'%(symptom,sum(indp),len(indp),(sum(indp)/len(indp))))\n",
    "\n",
    "models = [RandomForestClassifier(n_estimators=50,random_state=2)]          \n",
    "#           XGBClassifier()]\n",
    "model_name = ['Random Forest']#,'XGB']\n",
    "models = list(zip(models,model_name))\n",
    "groups = Data.Subject.as_matrix()\n",
    "\n",
    "res,res_group = LOSOCV_Multi(Data,X,y,groups,models)\n",
    "res_all = pd.concat((res_all,res))\n",
    "\n",
    "Brad_Watch_Multi = res_group['Random Forest']\n",
    "    \n",
    "print('Elapsed time = %.3f min'%((time.time()-t1)/60))    "
   ]
  },
  {
   "cell_type": "code",
   "execution_count": null,
   "metadata": {},
   "outputs": [],
   "source": [
    "results = res_group['Random Forest']['auroc']\n",
    "np.save('Results/resultsBradykinesiaWatch.npy',results)\n",
    "aurocall = res_group['Random Forest']['auroc']\n",
    "sns.barplot(np.unique(groups),aurocall)\n",
    "ax = plt.xticks(rotation=90)\n",
    "plt.ylim([0.2,1.0])\n",
    "plt.title('LOSO Smart Watch - Mean AUROC = %.3f +/- %.3f'%(np.nanmean(aurocall),np.nanstd(aurocall)))\n",
    "plt.savefig('Results/resultsBradykinesiaWatch.png',format='png',dpi=1000)"
   ]
  },
  {
   "cell_type": "code",
   "execution_count": null,
   "metadata": {
    "scrolled": true
   },
   "outputs": [],
   "source": [
    "resultsSensor = np.load('Results/resultsBradykinesiaHand.npy')\n",
    "resultsWatch = np.load('Results/resultsBradykinesiaWatch.npy')\n",
    "results = pd.DataFrame({'Sensors':resultsSensor,'Smartwatch':resultsWatch})\n",
    "figure = plt.figure()\n",
    "figure.set_dpi(100)\n",
    "figure.set_size_inches(6.4,4.8)\n",
    "ax = sns.boxplot(data=results);\n",
    "plt.ylabel('AUROC');\n",
    "plt.ylim(0.3,1.1);\n",
    "plt.title('Bradykinesia Sensor Watch');\n",
    "\n",
    "#x1,x2 = 0,1\n",
    "#y, h, col = results['Accelerometer'].max() + 0.02, 0.02, 'k'\n",
    "#plt.plot([x1, x1, x2, x2], [y, y+h, y+h, y], lw=1.5, c=col)\n",
    "#plt.text((x1+x2)*.5, y+h+0.01, \"***\", ha='center', va='bottom', color=col,fontsize=16);\n",
    "\n",
    "plt.savefig('Results/Bradykinesia Comparison Boxplot Sensor+Watch.png',format='png',dpi=1000)"
   ]
  },
  {
   "cell_type": "code",
   "execution_count": null,
   "metadata": {},
   "outputs": [],
   "source": [
    "def pickleSave(filename,var):\n",
    "    with open(filename,'wb') as handle:\n",
    "        pickle.dump(var,handle)"
   ]
  },
  {
   "cell_type": "code",
   "execution_count": null,
   "metadata": {},
   "outputs": [],
   "source": [
    "varbs = [Trem_Accel,Trem_Accel_Multi,Trem_Comb,Trem_Comb_Multi,Trem_Gyro,Trem_Gyro_Multi,Trem_Watch,Trem_Watch_Multi,\n",
    "         Brad_Accel,Brad_Accel_Multi,Brad_Comb,Brad_Comb_Multi,Brad_Gyro,Brad_Gyro_Multi,Brad_Watch,Brad_Watch_Multi]\n",
    "files = ['Trem_Accel','Trem_Accel_Multi','Trem_Comb','Trem_Comb_Multi','Trem_Gyro','Trem_Gyro_Multi','Trem_Watch','Trem_Watch_Multi',\n",
    "         'Brady_Accel','Brady_Accel_Multi','Brady_Comb','Brady_Comb_Multi','Brady_Gyro','Brady_Gyro_Multi','Brady_Watch','Brady_Watch_Multi']\n",
    "for f,v in zip(files,varbs):\n",
    "    pickleSave('C:\\\\Users\\\\nshawen\\\\Box\\\\CIS-PD Optimization\\\\Results\\\\'+f,v)"
   ]
  },
  {
   "cell_type": "code",
   "execution_count": null,
   "metadata": {},
   "outputs": [],
   "source": [
    "d = {}\n",
    "for f in files:\n",
    "    with open('C:\\\\Users\\\\nshawen\\\\Box\\\\CIS-PD Optimization\\\\Results\\\\'+f, 'rb') as handle:\n",
    "        d[f] = pickle.load(handle)\n",
    "    "
   ]
  },
  {
   "cell_type": "markdown",
   "metadata": {},
   "source": [
    "## Make Figures w/ ROC Curves"
   ]
  },
  {
   "cell_type": "markdown",
   "metadata": {},
   "source": [
    "### Tremor"
   ]
  },
  {
   "cell_type": "code",
   "execution_count": null,
   "metadata": {},
   "outputs": [],
   "source": [
    "data = d['Trem_Comb']\n",
    "plt.figure(figsize=(12,9))\n",
    "lw = 5\n",
    "ax = plot_roc(np.vstack([d for d in data['tpr'] if len(d)>0]),data['fpr'][0],np.nanmean(data['auroc']),\n",
    "             plotname='Sensor Comb',ls='-.',lw=5)\n",
    "for data, c, name, ls in zip([d['Trem_Accel'],d['Trem_Gyro'],d['Trem_Watch']],['r','g','k'],\n",
    "                         ['Sensor Accel','Sensor Gyro','Watch Accel'],['--',':','-']):\n",
    "    plot_roc(np.vstack([d for d in data['tpr'] if len(d)>0]),data['fpr'][0],np.nanmean(data['auroc']),\n",
    "             plotname=name,ax = ax, col = c, ls = ls,lw=5)\n",
    "ax.set_xlabel(ax.get_xlabel(), fontsize=30)\n",
    "ax.set_ylabel(ax.get_ylabel(), fontsize=30)\n",
    "plt.xlim(0,1)\n",
    "plt.ylim(0,1)\n",
    "\n",
    "plt.savefig('C:\\\\Users\\\\nshawen\\\\Box\\\\CIS-PD Optimization\\\\Images\\\\Hardware\\\\TremorBinary.svg')"
   ]
  },
  {
   "cell_type": "code",
   "execution_count": null,
   "metadata": {},
   "outputs": [],
   "source": [
    "data = d['Trem_Comb_Multi']\n",
    "plt.figure(figsize=(12,9))\n",
    "ax = plot_roc(np.vstack([d for d in data['tpr'] if len(d)>0]),data['fpr'][0],np.nanmean(data['auroc']),\n",
    "              plotname='Sensor Comb',ls='-.',lw=lw)\n",
    "for data, c, name, ls in zip([d['Trem_Accel_Multi'],d['Trem_Gyro_Multi'],d['Trem_Watch_Multi']],['r','g','k'],\n",
    "                         ['Sensor Accel','Sensor Gyro','Watch Accel'],['--',':','-']):\n",
    "    plot_roc(np.vstack([d for d in data['tpr'] if len(d)>0]),data['fpr'][0],np.nanmean(data['auroc']),\n",
    "             plotname=name,ax = ax, col = c,ls = ls,lw=lw)\n",
    "    \n",
    "ax.set_xlabel(ax.get_xlabel(), fontsize=30)\n",
    "ax.set_ylabel(ax.get_ylabel(), fontsize=30)\n",
    "plt.xlim(0,1)\n",
    "plt.ylim(0,1)\n",
    "\n",
    "plt.savefig('C:\\\\Users\\\\nshawen\\\\Box\\\\CIS-PD Optimization\\\\Images\\\\Hardware\\\\TremorMulti.svg')"
   ]
  },
  {
   "cell_type": "markdown",
   "metadata": {},
   "source": [
    "### Bradykinesia"
   ]
  },
  {
   "cell_type": "code",
   "execution_count": null,
   "metadata": {},
   "outputs": [],
   "source": [
    "data = d['Brady_Comb']\n",
    "plt.figure(figsize=(12,9))\n",
    "ax = plot_roc(np.vstack([d for d in data['tpr'] if len(d)>0]),data['fpr'][0],np.nanmean(data['auroc']),\n",
    "              plotname='Sensor Comb',ls='-.',lw=lw)\n",
    "for data, c, name, ls in zip([d['Brady_Accel'],d['Brady_Gyro'],d['Brady_Watch']],['r','g','k'],\n",
    "                         ['Sensor Accel','Sensor Gyro','Watch Accel'],['--',':','-']):\n",
    "    plot_roc(np.vstack([d for d in data['tpr'] if len(d)>0]),data['fpr'][0],np.nanmean(data['auroc']),\n",
    "             plotname=name,ax = ax, col = c, ls=ls,lw=lw)\n",
    "    \n",
    "ax.set_xlabel(ax.get_xlabel(), fontsize=30)\n",
    "ax.set_ylabel(ax.get_ylabel(), fontsize=30)\n",
    "plt.xlim(0,1)\n",
    "plt.ylim(0,1)\n",
    "\n",
    "plt.savefig('C:\\\\Users\\\\nshawen\\\\Box\\\\CIS-PD Optimization\\\\Images\\\\Hardware\\\\BradyBinary.svg')"
   ]
  },
  {
   "cell_type": "code",
   "execution_count": null,
   "metadata": {
    "scrolled": false
   },
   "outputs": [],
   "source": [
    "data = d['Brady_Comb_Multi']\n",
    "plt.figure(figsize=(12,9))\n",
    "ax = plot_roc(np.vstack([d for d in data['tpr'] if len(d)>0]),data['fpr'][0],np.nanmean(data['auroc']),\n",
    "              plotname='Sensor Comb',ls='-.',lw=lw)\n",
    "for data, c, name, ls in zip([d['Brady_Accel_Multi'],d['Brady_Gyro_Multi'],d['Brady_Watch_Multi']],['r','g','k'],\n",
    "                         ['Sensor Accel','Sensor Gyro','Watch Accel'],['--',':','-']):\n",
    "    plot_roc(np.vstack([d for d in data['tpr'] if len(d)>0]),data['fpr'][0],np.nanmean(data['auroc']), \n",
    "             plotname = name, ax = ax, col = c,ls = ls,lw=lw)\n",
    "\n",
    "ax.set_xlabel(ax.get_xlabel(), fontsize=30)\n",
    "ax.set_ylabel(ax.get_ylabel(), fontsize=30)\n",
    "plt.xlim(0,1)\n",
    "plt.ylim(0,1)\n",
    "\n",
    "plt.savefig('C:\\\\Users\\\\nshawen\\\\Box\\\\CIS-PD Optimization\\\\Images\\\\Hardware\\\\BradyMulticlass.svg')"
   ]
  },
  {
   "cell_type": "markdown",
   "metadata": {},
   "source": [
    "## Compare results"
   ]
  },
  {
   "cell_type": "code",
   "execution_count": 67,
   "metadata": {},
   "outputs": [],
   "source": [
    "def PairedT(A,B):\n",
    "    A = np.array(A); B = np.array(B)\n",
    "    inds = np.isnan(A) | np.isnan(B)\n",
    "    inds = np.array(~inds)\n",
    "    return ttest_rel(A[inds],B[inds])"
   ]
  },
  {
   "cell_type": "code",
   "execution_count": null,
   "metadata": {},
   "outputs": [],
   "source": []
  },
  {
   "cell_type": "code",
   "execution_count": 77,
   "metadata": {},
   "outputs": [
    {
     "name": "stdout",
     "output_type": "stream",
     "text": [
      "Ttest_relResult(statistic=1.699079156123186, pvalue=0.1173737173322146)\n",
      "Ttest_relResult(statistic=-0.5900408485602862, pvalue=0.5670863349914923)\n",
      "Ttest_relResult(statistic=0.003864948666965379, pvalue=0.9969854274041511)\n"
     ]
    }
   ],
   "source": [
    "print(PairedT(Trem_Comb['auroc'],Trem_Accel['auroc']))\n",
    "print(PairedT(Trem_Comb['auroc'],Trem_Gyro['auroc']))\n",
    "print(PairedT(Trem_Comb['auroc'],Trem_Watch['auroc']))"
   ]
  },
  {
   "cell_type": "code",
   "execution_count": 68,
   "metadata": {
    "scrolled": true
   },
   "outputs": [
    {
     "name": "stdout",
     "output_type": "stream",
     "text": [
      "Trem_Accel         -  0.766 (0.670-0.862)\n",
      "Trem_Accel_Multi   -  0.741 (0.653-0.829)\n",
      "Trem_Comb          -  0.786 (0.704-0.867)\n",
      "Trem_Comb_Multi    -  0.765 (0.691-0.838)\n",
      "Trem_Gyro          -  0.795 (0.744-0.847)\n",
      "Trem_Gyro_Multi    -  0.767 (0.714-0.820)\n",
      "Trem_Watch         -  0.784 (0.676-0.891)\n",
      "Trem_Watch_Multi   -  0.741 (0.639-0.843)\n",
      "Brady_Accel        -  0.640 (0.577-0.704)\n",
      "Brady_Accel_Multi  -  0.617 (0.559-0.675)\n",
      "Brady_Comb         -  0.679 (0.618-0.741)\n",
      "Brady_Comb_Multi   -  0.649 (0.593-0.705)\n",
      "Brady_Gyro         -  0.681 (0.617-0.745)\n",
      "Brady_Gyro_Multi   -  0.636 (0.573-0.699)\n",
      "Brady_Watch        -  0.620 (0.556-0.685)\n",
      "Brady_Watch_Multi  -  0.595 (0.542-0.648)\n"
     ]
    }
   ],
   "source": [
    "for v, f in zip(varbs,files):\n",
    "    v = v['auroc']\n",
    "    print('%s -  %.3f (%.3f-%.3f)'%(f+' '*(18-len(f)),np.nanmean(v),np.nanmean(v)-1.98*stats.sem(v,nan_policy='omit'),np.nanmean(v)+1.98*stats.sem(v,nan_policy='omit')))"
   ]
  },
  {
   "cell_type": "code",
   "execution_count": 69,
   "metadata": {},
   "outputs": [],
   "source": [
    "def rmANOVA(df,columns):\n",
    "    grand_mean = np.mean(df[columns].mean())\n",
    "    sub_means = np.mean(df[columns],axis=1)\n",
    "    col_means = np.mean(df[columns],axis=0)\n",
    "    n = len(df)\n",
    "    k = len(columns)\n",
    "    dftotal = n*k - 1\n",
    "    dfbw = k - 1\n",
    "    dfsbj = n - 1\n",
    "    dfw = dftotal - dfbw\n",
    "    dferror = dfw - dfsbj\n",
    "    SSbetween = sum(n*[(m-grand_mean)**2 for m in col_means])\n",
    "    SSwithin = np.nansum(np.nansum([(df[col] - col_means[i])**2 for i,col in enumerate(df[columns])]))\n",
    "    SSsubject = sum(k*[(m - grand_mean)**2 for m in sub_means])\n",
    "    SSerror = SSwithin - SSsubject\n",
    "    SStotal = SSbetween + SSwithin\n",
    "    msbetween = SSbetween/dfbw\n",
    "    mserror = SSerror/dferror\n",
    "    F = msbetween/mserror\n",
    "    return F,stats.f.sf(F,dfbw,dferror)"
   ]
  },
  {
   "cell_type": "code",
   "execution_count": 85,
   "metadata": {},
   "outputs": [
    {
     "data": {
      "text/plain": [
       "True"
      ]
     },
     "execution_count": 85,
     "metadata": {},
     "output_type": "execute_result"
    }
   ],
   "source": [
    "fs[0] in ([], 'Brad_Combo')"
   ]
  },
  {
   "cell_type": "code",
   "execution_count": 83,
   "metadata": {},
   "outputs": [
    {
     "data": {
      "text/plain": [
       "'Brad_Combo'"
      ]
     },
     "execution_count": 83,
     "metadata": {},
     "output_type": "execute_result"
    }
   ],
   "source": [
    "fs[0]"
   ]
  },
  {
   "cell_type": "code",
   "execution_count": 90,
   "metadata": {},
   "outputs": [],
   "source": [
    "def HBCorrections(vs,fs,target=.05):\n",
    "    res = []\n",
    "    for pair in itertools.combinations([(v['auroc'],f) for v,f in zip(vs,fs)],2):\n",
    "        f_pair = [pair[0][1],pair[1][1]]\n",
    "        if (fs[0] not in f_pair) and ((fs[1] not in f_pair) or fs[3] not in f_pair):\n",
    "            continue\n",
    "        p = PairedT(pair[0][0], pair[1][0])[1]\n",
    "        res.append((p,pair[0][1]+'+'+pair[1][1]))\n",
    "    \n",
    "    res = sorted(res)\n",
    "    dec = 'Reject'\n",
    "    for r,i in zip(res,range(1,len(res)+1)):\n",
    "        thresh = target/(len(res)-i+1)\n",
    "        if r[0]<thresh and dec=='Reject':\n",
    "            dec = 'Reject'\n",
    "        else:\n",
    "            dec = 'Accept'\n",
    "        print('%s\\t%.3f\\t%.3f\\t%s'%(r[1],r[0],thresh,dec))"
   ]
  },
  {
   "cell_type": "code",
   "execution_count": 71,
   "metadata": {},
   "outputs": [
    {
     "data": {
      "text/plain": [
       "(0.6034873510903006, 0.6173756586682714)"
      ]
     },
     "execution_count": 71,
     "metadata": {},
     "output_type": "execute_result"
    }
   ],
   "source": [
    "vs, fs = [Trem_Comb, Trem_Accel, Trem_Gyro, Trem_Watch], ['Trem_Combo', 'Trem_Accel', 'Trem_Gyro', 'Trem_Watch']\n",
    "df = pd.DataFrame(data = np.vstack([v['auroc'] for v in vs]).transpose(), columns = fs).dropna()\n",
    "rmANOVA(df,fs)"
   ]
  },
  {
   "cell_type": "code",
   "execution_count": 72,
   "metadata": {},
   "outputs": [
    {
     "data": {
      "text/plain": [
       "(1.0641360816945868, 0.3775789753033842)"
      ]
     },
     "execution_count": 72,
     "metadata": {},
     "output_type": "execute_result"
    }
   ],
   "source": [
    "vs, fs = [Trem_Comb_Multi, Trem_Accel_Multi, Trem_Gyro_Multi, Trem_Watch_Multi], ['Trem_Combo_Multi', 'Trem_Accel_Multi', 'Trem_Gyro_Multi', 'Trem_Watch_Multi']\n",
    "df = pd.DataFrame(data = np.vstack([v['auroc'] for v in vs]).transpose(), columns = fs).dropna()\n",
    "rmANOVA(df,fs)"
   ]
  },
  {
   "cell_type": "code",
   "execution_count": 80,
   "metadata": {},
   "outputs": [
    {
     "data": {
      "text/plain": [
       "(5.236493999741245, 0.004203904950419301)"
      ]
     },
     "execution_count": 80,
     "metadata": {},
     "output_type": "execute_result"
    }
   ],
   "source": [
    "vs, fs = [Brad_Comb, Brad_Accel, Brad_Gyro, Brad_Watch], ['Brad_Combo', 'Brad_Accel', 'Brad_Gyro', 'Brad_Watch']\n",
    "df = pd.DataFrame(data = np.vstack([v['auroc'] for v in vs]).transpose(), columns = fs).dropna()\n",
    "rmANOVA(df,fs)"
   ]
  },
  {
   "cell_type": "code",
   "execution_count": 91,
   "metadata": {},
   "outputs": [
    {
     "name": "stdout",
     "output_type": "stream",
     "text": [
      "Brad_Combo+Brad_Watch\t0.000\t0.013\tReject\n",
      "Brad_Combo+Brad_Accel\t0.044\t0.017\tAccept\n",
      "Brad_Accel+Brad_Watch\t0.192\t0.025\tAccept\n",
      "Brad_Combo+Brad_Gyro\t0.911\t0.050\tAccept\n"
     ]
    }
   ],
   "source": [
    "HBCorrections(vs,fs)"
   ]
  },
  {
   "cell_type": "code",
   "execution_count": 93,
   "metadata": {},
   "outputs": [
    {
     "data": {
      "text/plain": [
       "(3.685366332453864, 0.020616710110634984)"
      ]
     },
     "execution_count": 93,
     "metadata": {},
     "output_type": "execute_result"
    }
   ],
   "source": [
    "vs, fs = [Brad_Comb_Multi, Brad_Accel_Multi, Brad_Gyro_Multi, Brad_Watch_Multi], ['Brad_Combo_Multi', 'Brad_Accel_Multi', 'Brad_Gyro_Multi', 'Brad_Watch_Multi']\n",
    "df = pd.DataFrame(data = np.vstack([v['auroc'] for v in vs]).transpose(), columns = fs).dropna()\n",
    "rmANOVA(df,fs)"
   ]
  },
  {
   "cell_type": "code",
   "execution_count": 94,
   "metadata": {},
   "outputs": [
    {
     "name": "stdout",
     "output_type": "stream",
     "text": [
      "Brad_Combo_Multi+Brad_Watch_Multi\t0.013\t0.013\tAccept\n",
      "Brad_Combo_Multi+Brad_Accel_Multi\t0.052\t0.017\tAccept\n",
      "Brad_Accel_Multi+Brad_Watch_Multi\t0.205\t0.025\tAccept\n",
      "Brad_Combo_Multi+Brad_Gyro_Multi\t0.263\t0.050\tAccept\n"
     ]
    }
   ],
   "source": [
    "HBCorrections(vs,fs)"
   ]
  },
  {
   "cell_type": "code",
   "execution_count": 210,
   "metadata": {},
   "outputs": [
    {
     "data": {
      "text/plain": [
       "[' ', ' ', ' ', ' ', ' ', ' ', ' ', ' ', ' ', ' ']"
      ]
     },
     "execution_count": 210,
     "metadata": {},
     "output_type": "execute_result"
    }
   ],
   "source": [
    "[' ']*(20-len(f))"
   ]
  },
  {
   "cell_type": "code",
   "execution_count": 178,
   "metadata": {},
   "outputs": [
    {
     "data": {
      "text/plain": [
       "array([False, False, False, False, False, False, False, False, False,\n",
       "        True, False, False, False])"
      ]
     },
     "execution_count": 178,
     "metadata": {},
     "output_type": "execute_result"
    }
   ],
   "source": [
    "np.isnan(A)"
   ]
  },
  {
   "cell_type": "code",
   "execution_count": 174,
   "metadata": {},
   "outputs": [
    {
     "ename": "TypeError",
     "evalue": "only integer scalar arrays can be converted to a scalar index",
     "output_type": "error",
     "traceback": [
      "\u001b[1;31m---------------------------------------------------------------------------\u001b[0m",
      "\u001b[1;31mTypeError\u001b[0m                                 Traceback (most recent call last)",
      "\u001b[1;32m<ipython-input-174-c081c4d75222>\u001b[0m in \u001b[0;36m<module>\u001b[1;34m()\u001b[0m\n\u001b[1;32m----> 1\u001b[1;33m \u001b[0mTrem_Comb\u001b[0m\u001b[1;33m[\u001b[0m\u001b[1;34m'auroc'\u001b[0m\u001b[1;33m]\u001b[0m\u001b[1;33m[\u001b[0m\u001b[0mnp\u001b[0m\u001b[1;33m.\u001b[0m\u001b[0marray\u001b[0m\u001b[1;33m(\u001b[0m\u001b[1;33m[\u001b[0m\u001b[1;33m[\u001b[0m\u001b[1;32mTrue\u001b[0m\u001b[1;33m,\u001b[0m  \u001b[1;32mTrue\u001b[0m\u001b[1;33m,\u001b[0m  \u001b[1;32mTrue\u001b[0m\u001b[1;33m,\u001b[0m  \u001b[1;32mTrue\u001b[0m\u001b[1;33m,\u001b[0m  \u001b[1;32mTrue\u001b[0m\u001b[1;33m,\u001b[0m  \u001b[1;32mTrue\u001b[0m\u001b[1;33m,\u001b[0m  \u001b[1;32mTrue\u001b[0m\u001b[1;33m,\u001b[0m  \u001b[1;32mTrue\u001b[0m\u001b[1;33m,\u001b[0m  \u001b[1;32mTrue\u001b[0m\u001b[1;33m,\u001b[0m \u001b[1;32mFalse\u001b[0m\u001b[1;33m,\u001b[0m \u001b[1;32mTrue\u001b[0m\u001b[1;33m,\u001b[0m \u001b[1;32mTrue\u001b[0m\u001b[1;33m,\u001b[0m \u001b[1;32mTrue\u001b[0m\u001b[1;33m]\u001b[0m\u001b[1;33m]\u001b[0m\u001b[1;33m)\u001b[0m\u001b[1;33m]\u001b[0m\u001b[1;33m\u001b[0m\u001b[0m\n\u001b[0m",
      "\u001b[1;31mTypeError\u001b[0m: only integer scalar arrays can be converted to a scalar index"
     ]
    }
   ],
   "source": [
    "Trem_Comb['auroc'][np.array([[True,  True,  True,  True,  True,  True,  True,  True,  True, False, True, True, True]])]"
   ]
  },
  {
   "cell_type": "code",
   "execution_count": 257,
   "metadata": {
    "collapsed": true
   },
   "outputs": [],
   "source": [
    "mc = MultiComparison(df.values.flatten(),np.hstack([np.array([c]*len(df[c])) for c in df.columns.values]))\n",
    "results = mc.tukeyhsd()"
   ]
  },
  {
   "cell_type": "code",
   "execution_count": 259,
   "metadata": {},
   "outputs": [
    {
     "name": "stdout",
     "output_type": "stream",
     "text": [
      " Multiple Comparison of Means - Tukey HSD,FWER=0.05 \n",
      "====================================================\n",
      "  group1     group2   meandiff  lower  upper  reject\n",
      "----------------------------------------------------\n",
      "Brad_Accel Brad_Combo  0.0322  -0.1232 0.1876 False \n",
      "Brad_Accel Brad_Gyro   0.0369  -0.1185 0.1923 False \n",
      "Brad_Accel Brad_Watch -0.0953  -0.2507 0.0601 False \n",
      "Brad_Combo Brad_Gyro   0.0047  -0.1507 0.1601 False \n",
      "Brad_Combo Brad_Watch -0.1275  -0.2829 0.0279 False \n",
      "Brad_Gyro  Brad_Watch -0.1323  -0.2876 0.0231 False \n",
      "----------------------------------------------------\n"
     ]
    }
   ],
   "source": [
    "print(results)"
   ]
  },
  {
   "cell_type": "code",
   "execution_count": 251,
   "metadata": {},
   "outputs": [
    {
     "data": {
      "text/plain": [
       "array(['Brad_Combo', 'Brad_Combo', 'Brad_Combo', 'Brad_Combo',\n",
       "       'Brad_Combo', 'Brad_Combo', 'Brad_Combo', 'Brad_Combo',\n",
       "       'Brad_Combo', 'Brad_Combo', 'Brad_Combo', 'Brad_Combo',\n",
       "       'Brad_Combo', 'Brad_Accel', 'Brad_Accel', 'Brad_Accel',\n",
       "       'Brad_Accel', 'Brad_Accel', 'Brad_Accel', 'Brad_Accel',\n",
       "       'Brad_Accel', 'Brad_Accel', 'Brad_Accel', 'Brad_Accel',\n",
       "       'Brad_Accel', 'Brad_Accel', 'Brad_Gyro', 'Brad_Gyro', 'Brad_Gyro',\n",
       "       'Brad_Gyro', 'Brad_Gyro', 'Brad_Gyro', 'Brad_Gyro', 'Brad_Gyro',\n",
       "       'Brad_Gyro', 'Brad_Gyro', 'Brad_Gyro', 'Brad_Gyro', 'Brad_Gyro',\n",
       "       'Brad_Watch', 'Brad_Watch', 'Brad_Watch', 'Brad_Watch',\n",
       "       'Brad_Watch', 'Brad_Watch', 'Brad_Watch', 'Brad_Watch',\n",
       "       'Brad_Watch', 'Brad_Watch', 'Brad_Watch', 'Brad_Watch',\n",
       "       'Brad_Watch'], dtype='<U10')"
      ]
     },
     "execution_count": 251,
     "metadata": {},
     "output_type": "execute_result"
    }
   ],
   "source": [
    "np.hstack([np.array([c]*len(v['auroc'])) for c,v in zip(df.columns.values,vs)])"
   ]
  },
  {
   "cell_type": "code",
   "execution_count": 244,
   "metadata": {},
   "outputs": [
    {
     "data": {
      "text/plain": [
       "array([[0.79192893, 0.77557218, 0.8247755 , 0.80144081, 0.70710601,\n",
       "        0.73123974, 0.92914052, 0.94253186, 0.8745948 , 0.3941006 ,\n",
       "        0.87490622, 0.74491646],\n",
       "       [0.54827063, 0.74885027, 0.77508361, 0.63365633, 0.7601761 ,\n",
       "        0.71411962, 0.72805935, 0.52972214, 0.50972489, 0.44588465,\n",
       "        0.5122442 , 0.65632207],\n",
       "       [0.79548898, 0.78392352, 0.80058115, 0.76590898, 0.72154387,\n",
       "        0.75859073, 0.93495345, 0.93585002, 0.87083411, 0.56116887,\n",
       "        0.86809409, 0.83855718],\n",
       "       [0.59742852, 0.75144316, 0.71735418, 0.53726818, 0.73282206,\n",
       "        0.66056529, 0.64775691, 0.60067538, 0.46376954, 0.47245189,\n",
       "        0.3732468 , 0.6386631 ]])"
      ]
     },
     "execution_count": 244,
     "metadata": {},
     "output_type": "execute_result"
    }
   ],
   "source": [
    "df.values.transpose()"
   ]
  },
  {
   "cell_type": "markdown",
   "metadata": {},
   "source": [
    "# Accelerometer and EMG comparisons"
   ]
  },
  {
   "cell_type": "code",
   "execution_count": 7,
   "metadata": {
    "collapsed": true
   },
   "outputs": [],
   "source": [
    "Data_accel = pd.read_csv('Z:CIS-PD Study\\\\Downsample\\\\Accel Data 62.5Hz.csv')\n",
    "Data_EMG = pd.read_csv('Z:CIS-PD Study\\MotorTasks EMG Data.csv',index_col=0).iloc[:,6:]\n",
    "\n",
    "Datafull = pd.DataFrame\n",
    "Data_accel = Data_accel.reset_index(drop=True)\n",
    "Data_EMG = Data_EMG.reset_index(drop=True)\n",
    "Datafull = pd.concat((Data_accel.iloc[:,:6],Data_EMG,Data_accel.iloc[:,13]),axis=1)"
   ]
  },
  {
   "cell_type": "code",
   "execution_count": 8,
   "metadata": {},
   "outputs": [
    {
     "data": {
      "text/html": [
       "<div>\n",
       "<style scoped>\n",
       "    .dataframe tbody tr th:only-of-type {\n",
       "        vertical-align: middle;\n",
       "    }\n",
       "\n",
       "    .dataframe tbody tr th {\n",
       "        vertical-align: top;\n",
       "    }\n",
       "\n",
       "    .dataframe thead th {\n",
       "        text-align: right;\n",
       "    }\n",
       "</style>\n",
       "<table border=\"1\" class=\"dataframe\">\n",
       "  <thead>\n",
       "    <tr style=\"text-align: right;\">\n",
       "      <th></th>\n",
       "      <th>Unnamed: 0</th>\n",
       "      <th>Subject</th>\n",
       "      <th>Visit</th>\n",
       "      <th>Task</th>\n",
       "      <th>Bradykinesia</th>\n",
       "      <th>Tremor</th>\n",
       "      <th>RMS0</th>\n",
       "      <th>mean0</th>\n",
       "      <th>var0</th>\n",
       "      <th>skew0</th>\n",
       "      <th>...</th>\n",
       "      <th>MAV9</th>\n",
       "      <th>RMS10</th>\n",
       "      <th>mean10</th>\n",
       "      <th>var10</th>\n",
       "      <th>skew10</th>\n",
       "      <th>kurt10</th>\n",
       "      <th>binen10</th>\n",
       "      <th>energy10</th>\n",
       "      <th>MAV10</th>\n",
       "      <th>meanY</th>\n",
       "    </tr>\n",
       "  </thead>\n",
       "  <tbody>\n",
       "    <tr>\n",
       "      <th>0</th>\n",
       "      <td>0.0</td>\n",
       "      <td>1004.0</td>\n",
       "      <td>2 Weeks: Time 0</td>\n",
       "      <td>Motor #1: Standing</td>\n",
       "      <td>NaN</td>\n",
       "      <td>0.0</td>\n",
       "      <td>NaN</td>\n",
       "      <td>NaN</td>\n",
       "      <td>NaN</td>\n",
       "      <td>NaN</td>\n",
       "      <td>...</td>\n",
       "      <td>NaN</td>\n",
       "      <td>NaN</td>\n",
       "      <td>NaN</td>\n",
       "      <td>NaN</td>\n",
       "      <td>NaN</td>\n",
       "      <td>NaN</td>\n",
       "      <td>NaN</td>\n",
       "      <td>NaN</td>\n",
       "      <td>NaN</td>\n",
       "      <td>0.000593</td>\n",
       "    </tr>\n",
       "    <tr>\n",
       "      <th>1</th>\n",
       "      <td>1.0</td>\n",
       "      <td>1004.0</td>\n",
       "      <td>2 Weeks: Time 0</td>\n",
       "      <td>Motor #1: Standing</td>\n",
       "      <td>NaN</td>\n",
       "      <td>0.0</td>\n",
       "      <td>NaN</td>\n",
       "      <td>NaN</td>\n",
       "      <td>NaN</td>\n",
       "      <td>NaN</td>\n",
       "      <td>...</td>\n",
       "      <td>NaN</td>\n",
       "      <td>NaN</td>\n",
       "      <td>NaN</td>\n",
       "      <td>NaN</td>\n",
       "      <td>NaN</td>\n",
       "      <td>NaN</td>\n",
       "      <td>NaN</td>\n",
       "      <td>NaN</td>\n",
       "      <td>NaN</td>\n",
       "      <td>-0.000049</td>\n",
       "    </tr>\n",
       "    <tr>\n",
       "      <th>2</th>\n",
       "      <td>2.0</td>\n",
       "      <td>1004.0</td>\n",
       "      <td>2 Weeks: Time 0</td>\n",
       "      <td>Motor #1: Standing</td>\n",
       "      <td>NaN</td>\n",
       "      <td>0.0</td>\n",
       "      <td>NaN</td>\n",
       "      <td>NaN</td>\n",
       "      <td>NaN</td>\n",
       "      <td>NaN</td>\n",
       "      <td>...</td>\n",
       "      <td>NaN</td>\n",
       "      <td>NaN</td>\n",
       "      <td>NaN</td>\n",
       "      <td>NaN</td>\n",
       "      <td>NaN</td>\n",
       "      <td>NaN</td>\n",
       "      <td>NaN</td>\n",
       "      <td>NaN</td>\n",
       "      <td>NaN</td>\n",
       "      <td>0.000050</td>\n",
       "    </tr>\n",
       "    <tr>\n",
       "      <th>3</th>\n",
       "      <td>3.0</td>\n",
       "      <td>1004.0</td>\n",
       "      <td>2 Weeks: Time 0</td>\n",
       "      <td>Motor #1: Standing</td>\n",
       "      <td>NaN</td>\n",
       "      <td>0.0</td>\n",
       "      <td>0.000058</td>\n",
       "      <td>0.000129</td>\n",
       "      <td>0.000009</td>\n",
       "      <td>0.399398</td>\n",
       "      <td>...</td>\n",
       "      <td>0.000002</td>\n",
       "      <td>1.818105e-08</td>\n",
       "      <td>4.014991e-09</td>\n",
       "      <td>9.088620e-07</td>\n",
       "      <td>-0.036244</td>\n",
       "      <td>1.759811</td>\n",
       "      <td>2.024107</td>\n",
       "      <td>2.064290e-09</td>\n",
       "      <td>6.495575e-07</td>\n",
       "      <td>0.000045</td>\n",
       "    </tr>\n",
       "    <tr>\n",
       "      <th>4</th>\n",
       "      <td>4.0</td>\n",
       "      <td>1004.0</td>\n",
       "      <td>2 Weeks: Time 0</td>\n",
       "      <td>Motor #1: Standing</td>\n",
       "      <td>NaN</td>\n",
       "      <td>0.0</td>\n",
       "      <td>NaN</td>\n",
       "      <td>NaN</td>\n",
       "      <td>NaN</td>\n",
       "      <td>NaN</td>\n",
       "      <td>...</td>\n",
       "      <td>NaN</td>\n",
       "      <td>NaN</td>\n",
       "      <td>NaN</td>\n",
       "      <td>NaN</td>\n",
       "      <td>NaN</td>\n",
       "      <td>NaN</td>\n",
       "      <td>NaN</td>\n",
       "      <td>NaN</td>\n",
       "      <td>NaN</td>\n",
       "      <td>0.000201</td>\n",
       "    </tr>\n",
       "  </tbody>\n",
       "</table>\n",
       "<p>5 rows × 95 columns</p>\n",
       "</div>"
      ],
      "text/plain": [
       "   Unnamed: 0  Subject            Visit                Task  Bradykinesia  \\\n",
       "0         0.0   1004.0  2 Weeks: Time 0  Motor #1: Standing           NaN   \n",
       "1         1.0   1004.0  2 Weeks: Time 0  Motor #1: Standing           NaN   \n",
       "2         2.0   1004.0  2 Weeks: Time 0  Motor #1: Standing           NaN   \n",
       "3         3.0   1004.0  2 Weeks: Time 0  Motor #1: Standing           NaN   \n",
       "4         4.0   1004.0  2 Weeks: Time 0  Motor #1: Standing           NaN   \n",
       "\n",
       "   Tremor      RMS0     mean0      var0     skew0  ...      MAV9  \\\n",
       "0     0.0       NaN       NaN       NaN       NaN  ...       NaN   \n",
       "1     0.0       NaN       NaN       NaN       NaN  ...       NaN   \n",
       "2     0.0       NaN       NaN       NaN       NaN  ...       NaN   \n",
       "3     0.0  0.000058  0.000129  0.000009  0.399398  ...  0.000002   \n",
       "4     0.0       NaN       NaN       NaN       NaN  ...       NaN   \n",
       "\n",
       "          RMS10        mean10         var10    skew10    kurt10   binen10  \\\n",
       "0           NaN           NaN           NaN       NaN       NaN       NaN   \n",
       "1           NaN           NaN           NaN       NaN       NaN       NaN   \n",
       "2           NaN           NaN           NaN       NaN       NaN       NaN   \n",
       "3  1.818105e-08  4.014991e-09  9.088620e-07 -0.036244  1.759811  2.024107   \n",
       "4           NaN           NaN           NaN       NaN       NaN       NaN   \n",
       "\n",
       "       energy10         MAV10     meanY  \n",
       "0           NaN           NaN  0.000593  \n",
       "1           NaN           NaN -0.000049  \n",
       "2           NaN           NaN  0.000050  \n",
       "3  2.064290e-09  6.495575e-07  0.000045  \n",
       "4           NaN           NaN  0.000201  \n",
       "\n",
       "[5 rows x 95 columns]"
      ]
     },
     "execution_count": 8,
     "metadata": {},
     "output_type": "execute_result"
    }
   ],
   "source": [
    "Datafull.head()"
   ]
  },
  {
   "cell_type": "code",
   "execution_count": 9,
   "metadata": {},
   "outputs": [
    {
     "ename": "KeyError",
     "evalue": "'flexor_digitorum__accel'",
     "output_type": "error",
     "traceback": [
      "\u001b[1;31m---------------------------------------------------------------------------\u001b[0m",
      "\u001b[1;31mKeyError\u001b[0m                                  Traceback (most recent call last)",
      "\u001b[1;32m~\\AppData\\Local\\Continuum\\anaconda3\\lib\\site-packages\\pandas\\core\\indexes\\base.py\u001b[0m in \u001b[0;36mget_loc\u001b[1;34m(self, key, method, tolerance)\u001b[0m\n\u001b[0;32m   2655\u001b[0m             \u001b[1;32mtry\u001b[0m\u001b[1;33m:\u001b[0m\u001b[1;33m\u001b[0m\u001b[0m\n\u001b[1;32m-> 2656\u001b[1;33m                 \u001b[1;32mreturn\u001b[0m \u001b[0mself\u001b[0m\u001b[1;33m.\u001b[0m\u001b[0m_engine\u001b[0m\u001b[1;33m.\u001b[0m\u001b[0mget_loc\u001b[0m\u001b[1;33m(\u001b[0m\u001b[0mkey\u001b[0m\u001b[1;33m)\u001b[0m\u001b[1;33m\u001b[0m\u001b[0m\n\u001b[0m\u001b[0;32m   2657\u001b[0m             \u001b[1;32mexcept\u001b[0m \u001b[0mKeyError\u001b[0m\u001b[1;33m:\u001b[0m\u001b[1;33m\u001b[0m\u001b[0m\n",
      "\u001b[1;32mpandas\\_libs\\index.pyx\u001b[0m in \u001b[0;36mpandas._libs.index.IndexEngine.get_loc\u001b[1;34m()\u001b[0m\n",
      "\u001b[1;32mpandas\\_libs\\index.pyx\u001b[0m in \u001b[0;36mpandas._libs.index.IndexEngine.get_loc\u001b[1;34m()\u001b[0m\n",
      "\u001b[1;32mpandas\\_libs\\hashtable_class_helper.pxi\u001b[0m in \u001b[0;36mpandas._libs.hashtable.PyObjectHashTable.get_item\u001b[1;34m()\u001b[0m\n",
      "\u001b[1;32mpandas\\_libs\\hashtable_class_helper.pxi\u001b[0m in \u001b[0;36mpandas._libs.hashtable.PyObjectHashTable.get_item\u001b[1;34m()\u001b[0m\n",
      "\u001b[1;31mKeyError\u001b[0m: 'flexor_digitorum__accel'",
      "\nDuring handling of the above exception, another exception occurred:\n",
      "\u001b[1;31mKeyError\u001b[0m                                  Traceback (most recent call last)",
      "\u001b[1;32m<ipython-input-9-65784944b8ba>\u001b[0m in \u001b[0;36m<module>\u001b[1;34m()\u001b[0m\n\u001b[0;32m      1\u001b[0m \u001b[0ms\u001b[0m \u001b[1;33m=\u001b[0m \u001b[1;34m'flexor_digitorum__accel'\u001b[0m\u001b[1;33m\u001b[0m\u001b[0m\n\u001b[1;32m----> 2\u001b[1;33m \u001b[0mprint\u001b[0m\u001b[1;33m(\u001b[0m\u001b[1;34m'%s,discarded %d rows'\u001b[0m\u001b[1;33m%\u001b[0m\u001b[1;33m(\u001b[0m\u001b[0ms\u001b[0m\u001b[1;33m,\u001b[0m\u001b[0msum\u001b[0m\u001b[1;33m(\u001b[0m\u001b[0mDatafull\u001b[0m\u001b[1;33m[\u001b[0m\u001b[0ms\u001b[0m\u001b[1;33m]\u001b[0m\u001b[1;33m.\u001b[0m\u001b[0mapply\u001b[0m\u001b[1;33m(\u001b[0m\u001b[0mtype\u001b[0m\u001b[1;33m)\u001b[0m \u001b[1;33m==\u001b[0m \u001b[0mfloat\u001b[0m\u001b[1;33m)\u001b[0m\u001b[1;33m)\u001b[0m\u001b[1;33m)\u001b[0m\u001b[1;33m\u001b[0m\u001b[0m\n\u001b[0m\u001b[0;32m      3\u001b[0m \u001b[0mDatafull\u001b[0m \u001b[1;33m=\u001b[0m \u001b[0mDatafull\u001b[0m\u001b[1;33m[\u001b[0m\u001b[0mDatafull\u001b[0m\u001b[1;33m[\u001b[0m\u001b[0ms\u001b[0m\u001b[1;33m]\u001b[0m\u001b[1;33m.\u001b[0m\u001b[0mapply\u001b[0m\u001b[1;33m(\u001b[0m\u001b[0mtype\u001b[0m\u001b[1;33m)\u001b[0m \u001b[1;33m!=\u001b[0m \u001b[0mfloat\u001b[0m\u001b[1;33m]\u001b[0m\u001b[1;33m\u001b[0m\u001b[0m\n\u001b[0;32m      4\u001b[0m \u001b[1;33m\u001b[0m\u001b[0m\n\u001b[0;32m      5\u001b[0m \u001b[0ms\u001b[0m \u001b[1;33m=\u001b[0m \u001b[1;34m'Tremor'\u001b[0m\u001b[1;33m\u001b[0m\u001b[0m\n",
      "\u001b[1;32m~\\AppData\\Local\\Continuum\\anaconda3\\lib\\site-packages\\pandas\\core\\frame.py\u001b[0m in \u001b[0;36m__getitem__\u001b[1;34m(self, key)\u001b[0m\n\u001b[0;32m   2925\u001b[0m             \u001b[1;32mif\u001b[0m \u001b[0mself\u001b[0m\u001b[1;33m.\u001b[0m\u001b[0mcolumns\u001b[0m\u001b[1;33m.\u001b[0m\u001b[0mnlevels\u001b[0m \u001b[1;33m>\u001b[0m \u001b[1;36m1\u001b[0m\u001b[1;33m:\u001b[0m\u001b[1;33m\u001b[0m\u001b[0m\n\u001b[0;32m   2926\u001b[0m                 \u001b[1;32mreturn\u001b[0m \u001b[0mself\u001b[0m\u001b[1;33m.\u001b[0m\u001b[0m_getitem_multilevel\u001b[0m\u001b[1;33m(\u001b[0m\u001b[0mkey\u001b[0m\u001b[1;33m)\u001b[0m\u001b[1;33m\u001b[0m\u001b[0m\n\u001b[1;32m-> 2927\u001b[1;33m             \u001b[0mindexer\u001b[0m \u001b[1;33m=\u001b[0m \u001b[0mself\u001b[0m\u001b[1;33m.\u001b[0m\u001b[0mcolumns\u001b[0m\u001b[1;33m.\u001b[0m\u001b[0mget_loc\u001b[0m\u001b[1;33m(\u001b[0m\u001b[0mkey\u001b[0m\u001b[1;33m)\u001b[0m\u001b[1;33m\u001b[0m\u001b[0m\n\u001b[0m\u001b[0;32m   2928\u001b[0m             \u001b[1;32mif\u001b[0m \u001b[0mis_integer\u001b[0m\u001b[1;33m(\u001b[0m\u001b[0mindexer\u001b[0m\u001b[1;33m)\u001b[0m\u001b[1;33m:\u001b[0m\u001b[1;33m\u001b[0m\u001b[0m\n\u001b[0;32m   2929\u001b[0m                 \u001b[0mindexer\u001b[0m \u001b[1;33m=\u001b[0m \u001b[1;33m[\u001b[0m\u001b[0mindexer\u001b[0m\u001b[1;33m]\u001b[0m\u001b[1;33m\u001b[0m\u001b[0m\n",
      "\u001b[1;32m~\\AppData\\Local\\Continuum\\anaconda3\\lib\\site-packages\\pandas\\core\\indexes\\base.py\u001b[0m in \u001b[0;36mget_loc\u001b[1;34m(self, key, method, tolerance)\u001b[0m\n\u001b[0;32m   2656\u001b[0m                 \u001b[1;32mreturn\u001b[0m \u001b[0mself\u001b[0m\u001b[1;33m.\u001b[0m\u001b[0m_engine\u001b[0m\u001b[1;33m.\u001b[0m\u001b[0mget_loc\u001b[0m\u001b[1;33m(\u001b[0m\u001b[0mkey\u001b[0m\u001b[1;33m)\u001b[0m\u001b[1;33m\u001b[0m\u001b[0m\n\u001b[0;32m   2657\u001b[0m             \u001b[1;32mexcept\u001b[0m \u001b[0mKeyError\u001b[0m\u001b[1;33m:\u001b[0m\u001b[1;33m\u001b[0m\u001b[0m\n\u001b[1;32m-> 2658\u001b[1;33m                 \u001b[1;32mreturn\u001b[0m \u001b[0mself\u001b[0m\u001b[1;33m.\u001b[0m\u001b[0m_engine\u001b[0m\u001b[1;33m.\u001b[0m\u001b[0mget_loc\u001b[0m\u001b[1;33m(\u001b[0m\u001b[0mself\u001b[0m\u001b[1;33m.\u001b[0m\u001b[0m_maybe_cast_indexer\u001b[0m\u001b[1;33m(\u001b[0m\u001b[0mkey\u001b[0m\u001b[1;33m)\u001b[0m\u001b[1;33m)\u001b[0m\u001b[1;33m\u001b[0m\u001b[0m\n\u001b[0m\u001b[0;32m   2659\u001b[0m         \u001b[0mindexer\u001b[0m \u001b[1;33m=\u001b[0m \u001b[0mself\u001b[0m\u001b[1;33m.\u001b[0m\u001b[0mget_indexer\u001b[0m\u001b[1;33m(\u001b[0m\u001b[1;33m[\u001b[0m\u001b[0mkey\u001b[0m\u001b[1;33m]\u001b[0m\u001b[1;33m,\u001b[0m \u001b[0mmethod\u001b[0m\u001b[1;33m=\u001b[0m\u001b[0mmethod\u001b[0m\u001b[1;33m,\u001b[0m \u001b[0mtolerance\u001b[0m\u001b[1;33m=\u001b[0m\u001b[0mtolerance\u001b[0m\u001b[1;33m)\u001b[0m\u001b[1;33m\u001b[0m\u001b[0m\n\u001b[0;32m   2660\u001b[0m         \u001b[1;32mif\u001b[0m \u001b[0mindexer\u001b[0m\u001b[1;33m.\u001b[0m\u001b[0mndim\u001b[0m \u001b[1;33m>\u001b[0m \u001b[1;36m1\u001b[0m \u001b[1;32mor\u001b[0m \u001b[0mindexer\u001b[0m\u001b[1;33m.\u001b[0m\u001b[0msize\u001b[0m \u001b[1;33m>\u001b[0m \u001b[1;36m1\u001b[0m\u001b[1;33m:\u001b[0m\u001b[1;33m\u001b[0m\u001b[0m\n",
      "\u001b[1;32mpandas\\_libs\\index.pyx\u001b[0m in \u001b[0;36mpandas._libs.index.IndexEngine.get_loc\u001b[1;34m()\u001b[0m\n",
      "\u001b[1;32mpandas\\_libs\\index.pyx\u001b[0m in \u001b[0;36mpandas._libs.index.IndexEngine.get_loc\u001b[1;34m()\u001b[0m\n",
      "\u001b[1;32mpandas\\_libs\\hashtable_class_helper.pxi\u001b[0m in \u001b[0;36mpandas._libs.hashtable.PyObjectHashTable.get_item\u001b[1;34m()\u001b[0m\n",
      "\u001b[1;32mpandas\\_libs\\hashtable_class_helper.pxi\u001b[0m in \u001b[0;36mpandas._libs.hashtable.PyObjectHashTable.get_item\u001b[1;34m()\u001b[0m\n",
      "\u001b[1;31mKeyError\u001b[0m: 'flexor_digitorum__accel'"
     ]
    }
   ],
   "source": [
    "s = 'flexor_digitorum__accel'\n",
    "print('%s,discarded %d rows'%(s,sum(Datafull[s].apply(type) == float)))\n",
    "Datafull = Datafull[Datafull[s].apply(type) != float]\n",
    "\n",
    "s = 'Tremor'\n",
    "print('%s,discarded %d rows'%(s,sum(np.isnan(Datafull[s]))))\n",
    "Datafull = Datafull[~np.isnan(Datafull[s])]\n",
    "\n",
    "s = Data_EMG.columns.values[6]\n",
    "print('%s,discarded %d rows'%(s,sum(np.isnan(Datafull[s]))))\n",
    "Datafull = Datafull[~np.isnan(Datafull[s])]"
   ]
  },
  {
   "cell_type": "code",
   "execution_count": null,
   "metadata": {
    "collapsed": true
   },
   "outputs": [],
   "source": [
    "def feature_unpack_forearm(Datafull):\n",
    "    #unpack features\n",
    "    colnames_accel =['RMSX', 'RMSY', 'RMSZ', 'rangeX', 'rangeY', 'rangeZ', 'meanX',\n",
    "           'meanY', 'meanZ', 'varX', 'varY', 'varZ', 'skewX', 'skewY', 'skewZ',\n",
    "           'kurtX', 'kurtY', 'kurtZ', 'xcor_peakXY', 'xcorr_peakXZ',\n",
    "           'xcorr_peakYZ', 'xcorr_lagXY', 'xcorr_lagXZ', 'xcorr_lagYZ', 'Dom_freq',\n",
    "           'Pdom_rel', 'PSD_mean', 'PSD_std', 'PSD_skew', 'PSD_kur', 'jerk_mean',\n",
    "           'jerk_std', 'jerk_skew', 'jerk_kur', 'Sen_X', 'Sen_Y', 'Sen_Z']\n",
    "    colnames_accel =[i+' accel' for i in colnames_accel]\n",
    "\n",
    "    sensor = 'flexor_digitorum__accel'\n",
    "    \n",
    "    Datafinal = pd.DataFrame()\n",
    "    \n",
    "    for i in range(len(Datafull)):\n",
    "        F = Datafull[sensor].iloc[i]\n",
    "        F = pd.DataFrame(data=F.reshape(-1,1).T,index=[i],columns=colnames_accel)\n",
    "        Datafinal = pd.concat((Datafinal,F))\n",
    "    Datafinal=Datafinal.reset_index(drop=True)\n",
    "    Datafull=Datafull.reset_index(drop=True)\n",
    "    Datafinal = pd.concat((Datafull.iloc[:,:94],Datafinal),axis=1)\n",
    "\n",
    "    return Datafinal"
   ]
  },
  {
   "cell_type": "code",
   "execution_count": null,
   "metadata": {
    "collapsed": true
   },
   "outputs": [],
   "source": [
    "Datafull = feature_unpack_forearm(Datafull)"
   ]
  },
  {
   "cell_type": "code",
   "execution_count": null,
   "metadata": {
    "collapsed": true
   },
   "outputs": [],
   "source": [
    "Datafull.head()"
   ]
  },
  {
   "cell_type": "markdown",
   "metadata": {},
   "source": [
    "## Leave One Subject Out"
   ]
  },
  {
   "cell_type": "markdown",
   "metadata": {},
   "source": [
    "### Tremor"
   ]
  },
  {
   "cell_type": "code",
   "execution_count": null,
   "metadata": {
    "collapsed": true,
    "scrolled": true
   },
   "outputs": [],
   "source": [
    "#LOSO EMG Tremor\n",
    "\n",
    "t1=time.time()\n",
    "res_all = pd.DataFrame()\n",
    "\n",
    "symptom = 'Tremor'\n",
    "\n",
    "Data = Datafull.copy() #original unmodified dataframe\n",
    "Data=Data[~Data[symptom].isnull()] #remove nan rows for current symptom\n",
    "Data=Data.reset_index(drop=True) #reset index\n",
    "\n",
    "X = Data.iloc[:,6:94].as_matrix()\n",
    "fnames = Data.iloc[:,6:94].columns.values\n",
    "\n",
    "indp = ((Data[symptom]>0))\n",
    "indp = indp.values\n",
    "y = indp.astype(int) #target \n",
    "print('Rows w %s %d/%d = %.2f'%(symptom,sum(indp),len(indp),(sum(indp)/len(indp))))\n",
    "\n",
    "models = [RandomForestClassifier(n_estimators=50,random_state=2)]          \n",
    "model_name = ['Random Forest']\n",
    "models = list(zip(models,model_name))\n",
    "groups = Data.Subject.as_matrix()\n",
    "\n",
    "res,res_group = LOSOCV(Data,X,y,groups,models)\n",
    "res_all = pd.concat((res_all,res))\n",
    "    \n",
    "print('Elapsed time = %.3f min'%((time.time()-t1)/60))    "
   ]
  },
  {
   "cell_type": "code",
   "execution_count": null,
   "metadata": {
    "collapsed": true
   },
   "outputs": [],
   "source": [
    "results = res_group['Random Forest']['auroc']\n",
    "np.save('Results/resultsTremorLOSOEMG.npy',results)\n",
    "aurocall = res_group['Random Forest']['auroc']\n",
    "sns.barplot(np.unique(groups),aurocall)\n",
    "ax = plt.xticks(rotation=90)\n",
    "plt.ylim([0.25,0.65])\n",
    "plt.title('LOSO EMG - Mean AUROC = %.3f +/- %.3f'%(np.nanmean(aurocall),np.nanstd(aurocall)))\n",
    "plt.savefig('Results/resultsTremorLOSOEMG.png',format='png',dpi=1000)"
   ]
  },
  {
   "cell_type": "code",
   "execution_count": null,
   "metadata": {
    "collapsed": true,
    "scrolled": true
   },
   "outputs": [],
   "source": [
    "#LOSO Accelerometer Tremor\n",
    "\n",
    "t1=time.time()\n",
    "res_all = pd.DataFrame()\n",
    "\n",
    "symptom = 'Tremor'\n",
    "\n",
    "Data = Datafull.copy() #original unmodified dataframe\n",
    "Data=Data[~Data[symptom].isnull()] #remove nan rows for current symptom\n",
    "Data=Data.reset_index(drop=True) #reset index\n",
    "\n",
    "X = Data.iloc[:,94:].as_matrix()\n",
    "fnames = Data.iloc[:,94:].columns.values\n",
    "\n",
    "indp = ((Data[symptom]>0))\n",
    "indp = indp.values\n",
    "y = indp.astype(int) #target \n",
    "print('Rows w %s %d/%d = %.2f'%(symptom,sum(indp),len(indp),(sum(indp)/len(indp))))\n",
    "\n",
    "models = [RandomForestClassifier(n_estimators=50,random_state=2)]          \n",
    "model_name = ['Random Forest']\n",
    "models = list(zip(models,model_name))\n",
    "groups = Data.Subject.as_matrix()\n",
    "\n",
    "res,res_group = LOSOCV(Data,X,y,groups,models)\n",
    "res_all = pd.concat((res_all,res))\n",
    "    \n",
    "print('Elapsed time = %.3f min'%((time.time()-t1)/60))    "
   ]
  },
  {
   "cell_type": "code",
   "execution_count": null,
   "metadata": {
    "collapsed": true
   },
   "outputs": [],
   "source": [
    "results = res_group['Random Forest']['auroc']\n",
    "np.save('Results/resultsTremorLOSOAccel.npy',results)\n",
    "aurocall = res_group['Random Forest']['auroc']\n",
    "sns.barplot(np.unique(groups),aurocall)\n",
    "ax = plt.xticks(rotation=90)\n",
    "plt.ylim([0.55,1.0])\n",
    "plt.title('LOSO Accel - Mean AUROC = %.3f +/- %.3f'%(np.nanmean(aurocall),np.nanstd(aurocall)))\n",
    "plt.savefig('Results/resultsTremorLOSOAccel.png',format='png',dpi=1000)"
   ]
  },
  {
   "cell_type": "code",
   "execution_count": null,
   "metadata": {
    "collapsed": true,
    "scrolled": true
   },
   "outputs": [],
   "source": [
    "#LOSO Combined EMG and Accelerometer Tremor\n",
    "\n",
    "t1=time.time()\n",
    "res_all = pd.DataFrame()\n",
    "\n",
    "symptom = 'Tremor'\n",
    "\n",
    "Data = Datafull.copy() #original unmodified dataframe\n",
    "Data=Data[~Data[symptom].isnull()] #remove nan rows for current symptom\n",
    "Data=Data.reset_index(drop=True) #reset index\n",
    "\n",
    "X = Data.iloc[:,6:].as_matrix()\n",
    "fnames = Data.iloc[:,6:].columns.values\n",
    "\n",
    "indp = ((Data[symptom]>0))\n",
    "indp = indp.values\n",
    "y = indp.astype(int) #target \n",
    "print('Rows w %s %d/%d = %.2f'%(symptom,sum(indp),len(indp),(sum(indp)/len(indp))))\n",
    "\n",
    "models = [RandomForestClassifier(n_estimators=50,random_state=2)]          \n",
    "model_name = ['Random Forest']\n",
    "models = list(zip(models,model_name))\n",
    "groups = Data.Subject.as_matrix()\n",
    "\n",
    "res,res_group = LOSOCV(Data,X,y,groups,models)\n",
    "res_all = pd.concat((res_all,res))\n",
    "    \n",
    "print('Elapsed time = %.3f min'%((time.time()-t1)/60))    "
   ]
  },
  {
   "cell_type": "code",
   "execution_count": null,
   "metadata": {
    "collapsed": true
   },
   "outputs": [],
   "source": [
    "results = res_group['Random Forest']['auroc']\n",
    "np.save('Results/resultsTremorLOSOCombined.npy',results)\n",
    "aurocall = res_group['Random Forest']['auroc']\n",
    "sns.barplot(np.unique(groups),aurocall)\n",
    "ax = plt.xticks(rotation=90)\n",
    "plt.ylim([0.5,0.95])\n",
    "plt.title('LOSO Combined - Mean AUROC = %.3f +/- %.3f'%(np.nanmean(aurocall),np.nanstd(aurocall)))\n",
    "plt.savefig('Results/resultsTremorLOSOCombined.png',format='png',dpi=1000)"
   ]
  },
  {
   "cell_type": "code",
   "execution_count": null,
   "metadata": {
    "collapsed": true
   },
   "outputs": [],
   "source": [
    "resultsEMG = np.load('Results/resultsTremorLOSOEMG.npy')\n",
    "resultsAccel = np.load('Results/resultsTremorLOSOAccel.npy')\n",
    "resultsCombined = np.load('Results/resultsTremorLOSOCombined.npy')\n",
    "results = pd.DataFrame({'EMG':resultsEMG,'Accelerometer':resultsAccel,'Combined':resultsCombined})\n",
    "\n",
    "figure = plt.figure()\n",
    "figure.set_dpi(100)\n",
    "figure.set_size_inches(6.4,4.8)\n",
    "ax = sns.boxplot(data=results);\n",
    "plt.ylabel('AUROC');\n",
    "plt.ylim(0.3,1.1);\n",
    "plt.title('Tremor LOSO');\n",
    "\n",
    "#x1,x2 = 0,1\n",
    "#y, h, col = results['Accelerometer'].max() + 0.02, 0.02, 'k'\n",
    "#plt.plot([x1, x1, x2, x2], [y, y+h, y+h, y], lw=1.5, c=col)\n",
    "#plt.text((x1+x2)*.5, y+h+0.01, \"***\", ha='center', va='bottom', color=col,fontsize=16);\n",
    "\n",
    "plt.savefig('Results/Tremor Comparison Boxplot LOSO.png',format='png',dpi=1000)"
   ]
  },
  {
   "cell_type": "markdown",
   "metadata": {},
   "source": [
    "### Bradykinesia"
   ]
  },
  {
   "cell_type": "code",
   "execution_count": null,
   "metadata": {
    "collapsed": true,
    "scrolled": true
   },
   "outputs": [],
   "source": [
    "#LOSO EMG Bradykinesia\n",
    "\n",
    "t1=time.time()\n",
    "res_all = pd.DataFrame()\n",
    "\n",
    "symptom = 'Bradykinesia'\n",
    "\n",
    "Data = Datafull.copy() #original unmodified dataframe\n",
    "Data=Data[~Data[symptom].isnull()] #remove nan rows for current symptom\n",
    "Data=Data.reset_index(drop=True) #reset index\n",
    "\n",
    "X = Data.iloc[:,6:94].as_matrix()\n",
    "fnames = Data.iloc[:,6:94].columns.values\n",
    "\n",
    "indp = ((Data[symptom]>0))\n",
    "indp = indp.values\n",
    "y = indp.astype(int) #target \n",
    "print('Rows w %s %d/%d = %.2f'%(symptom,sum(indp),len(indp),(sum(indp)/len(indp))))\n",
    "\n",
    "models = [RandomForestClassifier(n_estimators=50,random_state=2)]          \n",
    "model_name = ['Random Forest']\n",
    "models = list(zip(models,model_name))\n",
    "groups = Data.Subject.as_matrix()\n",
    "\n",
    "res,res_group = LOSOCV(Data,X,y,groups,models)\n",
    "res_all = pd.concat((res_all,res))\n",
    "    \n",
    "print('Elapsed time = %.3f min'%((time.time()-t1)/60))    "
   ]
  },
  {
   "cell_type": "code",
   "execution_count": null,
   "metadata": {
    "collapsed": true
   },
   "outputs": [],
   "source": [
    "results = res_group['Random Forest']['auroc']\n",
    "np.save('Results/resultsBradykinesiaLOSOEMG.npy',results)\n",
    "aurocall = res_group['Random Forest']['auroc']\n",
    "sns.barplot(np.unique(groups),aurocall)\n",
    "ax = plt.xticks(rotation=90)\n",
    "plt.ylim([0.25,0.65])\n",
    "plt.title('LOSO EMG - Mean AUROC = %.3f +/- %.3f'%(np.nanmean(aurocall),np.nanstd(aurocall)))\n",
    "plt.savefig('Results/resultsBradykinesiaLOSOEMG.png',format='png',dpi=1000)"
   ]
  },
  {
   "cell_type": "code",
   "execution_count": null,
   "metadata": {
    "collapsed": true,
    "scrolled": true
   },
   "outputs": [],
   "source": [
    "#LOSO Accelerometer Bradykinesia\n",
    "\n",
    "t1=time.time()\n",
    "res_all = pd.DataFrame()\n",
    "\n",
    "symptom = 'Bradykinesia'\n",
    "\n",
    "Data = Datafull.copy() #original unmodified dataframe\n",
    "Data=Data[~Data[symptom].isnull()] #remove nan rows for current symptom\n",
    "Data=Data.reset_index(drop=True) #reset index\n",
    "\n",
    "X = Data.iloc[:,94:].as_matrix()\n",
    "fnames = Data.iloc[:,94:].columns.values\n",
    "\n",
    "indp = ((Data[symptom]>0))\n",
    "indp = indp.values\n",
    "y = indp.astype(int) #target \n",
    "print('Rows w %s %d/%d = %.2f'%(symptom,sum(indp),len(indp),(sum(indp)/len(indp))))\n",
    "\n",
    "models = [RandomForestClassifier(n_estimators=50,random_state=2)]          \n",
    "model_name = ['Random Forest']\n",
    "models = list(zip(models,model_name))\n",
    "groups = Data.Subject.as_matrix()\n",
    "\n",
    "res,res_group = LOSOCV(Data,X,y,groups,models)\n",
    "res_all = pd.concat((res_all,res))\n",
    "    \n",
    "print('Elapsed time = %.3f min'%((time.time()-t1)/60))    "
   ]
  },
  {
   "cell_type": "code",
   "execution_count": null,
   "metadata": {
    "collapsed": true
   },
   "outputs": [],
   "source": [
    "results = res_group['Random Forest']['auroc']\n",
    "np.save('Results/resultsBradykinesiaLOSOAccel.npy',results)\n",
    "aurocall = res_group['Random Forest']['auroc']\n",
    "sns.barplot(np.unique(groups),aurocall)\n",
    "ax = plt.xticks(rotation=90)\n",
    "plt.ylim([0.45,0.85])\n",
    "plt.title('LOSO Accel - Mean AUROC = %.3f +/- %.3f'%(np.nanmean(aurocall),np.nanstd(aurocall)))\n",
    "plt.savefig('Results/resultsBradykinesiaLOSOAccel.png',format='png',dpi=1000)"
   ]
  },
  {
   "cell_type": "code",
   "execution_count": null,
   "metadata": {
    "collapsed": true,
    "scrolled": true
   },
   "outputs": [],
   "source": [
    "#LOSO Combined EMG and Accelerometer Bradykinesia\n",
    "\n",
    "t1=time.time()\n",
    "res_all = pd.DataFrame()\n",
    "\n",
    "symptom = 'Bradykinesia'\n",
    "\n",
    "Data = Datafull.copy() #original unmodified dataframe\n",
    "Data=Data[~Data[symptom].isnull()] #remove nan rows for current symptom\n",
    "Data=Data.reset_index(drop=True) #reset index\n",
    "\n",
    "X = Data.iloc[:,6:].as_matrix()\n",
    "fnames = Data.iloc[:,6:].columns.values\n",
    "\n",
    "indp = ((Data[symptom]>0))\n",
    "indp = indp.values\n",
    "y = indp.astype(int) #target \n",
    "print('Rows w %s %d/%d = %.2f'%(symptom,sum(indp),len(indp),(sum(indp)/len(indp))))\n",
    "\n",
    "models = [RandomForestClassifier(n_estimators=50,random_state=2)]          \n",
    "model_name = ['Random Forest']\n",
    "models = list(zip(models,model_name))\n",
    "groups = Data.Subject.as_matrix()\n",
    "\n",
    "res,res_group = LOSOCV(Data,X,y,groups,models)\n",
    "res_all = pd.concat((res_all,res))\n",
    "    \n",
    "print('Elapsed time = %.3f min'%((time.time()-t1)/60))    "
   ]
  },
  {
   "cell_type": "code",
   "execution_count": null,
   "metadata": {
    "collapsed": true
   },
   "outputs": [],
   "source": [
    "results = res_group['Random Forest']['auroc']\n",
    "np.save('Results/resultsBradykinesiaLOSOCombined.npy',results)\n",
    "aurocall = res_group['Random Forest']['auroc']\n",
    "sns.barplot(np.unique(groups),aurocall)\n",
    "ax = plt.xticks(rotation=90)\n",
    "plt.ylim([0.5,0.95])\n",
    "plt.title('LOSO Combined - Mean AUROC = %.3f +/- %.3f'%(np.nanmean(aurocall),np.nanstd(aurocall)))\n",
    "plt.savefig('Results/resultsBradykinesiaLOSOCombined.png',format='png',dpi=1000)"
   ]
  },
  {
   "cell_type": "code",
   "execution_count": null,
   "metadata": {
    "collapsed": true
   },
   "outputs": [],
   "source": [
    "resultsEMG = np.load('Results/resultsBradykinesiaLOSOEMG.npy')\n",
    "resultsAccel = np.load('Results/resultsBradykinesiaLOSOAccel.npy')\n",
    "resultsCombined = np.load('Results/resultsBradykinesiaLOSOCombined.npy')\n",
    "results = pd.DataFrame({'EMG':resultsEMG,'Accelerometer':resultsAccel,'Combined':resultsCombined})\n",
    "\n",
    "figure = plt.figure()\n",
    "figure.set_dpi(100)\n",
    "figure.set_size_inches(6.4,4.8)\n",
    "ax = sns.boxplot(data=results);\n",
    "plt.ylabel('AUROC');\n",
    "plt.ylim(0.3,1.1);\n",
    "plt.title('Bradykinesia LOSO');\n",
    "\n",
    "#x1,x2 = 0,1\n",
    "#y, h, col = results['Accelerometer'].max() + 0.02, 0.02, 'k'\n",
    "#plt.plot([x1, x1, x2, x2], [y, y+h, y+h, y], lw=1.5, c=col)\n",
    "#plt.text((x1+x2)*.5, y+h+0.01, \"***\", ha='center', va='bottom', color=col,fontsize=16);\n",
    "\n",
    "plt.savefig('Results/Bradykinesia Comparison Boxplot LOSO.png',format='png',dpi=1000)"
   ]
  },
  {
   "cell_type": "markdown",
   "metadata": {},
   "source": [
    "## Leave One Visit Out"
   ]
  },
  {
   "cell_type": "markdown",
   "metadata": {},
   "source": [
    "### Tremor"
   ]
  },
  {
   "cell_type": "code",
   "execution_count": null,
   "metadata": {
    "collapsed": true
   },
   "outputs": [],
   "source": [
    "#LOVO EMG Tremor\n",
    "\n",
    "symptom = 'Tremor'\n",
    "le = LabelEncoder()\n",
    "res_all = pd.DataFrame(data=None,index=None)\n",
    "#train on all sessions, predict on left out session for each patient\n",
    "res_visit_all = [] #data from each subject \n",
    "\n",
    "#remove nan rows for current symptom\n",
    "Data = Datafull.copy() #original unmodified dataframe\n",
    "Data=Data[~Data[symptom].isnull()]\n",
    "Data=Data.reset_index(drop=True) #reset index\n",
    "\n",
    "for s in Data.Subject.unique():\n",
    "    print('Subject %s'%s)\n",
    "    ds = Data.loc[Data.Subject==s]\n",
    "    indp = (ds[symptom]>0).values\n",
    "    y = indp.astype(int) #target \n",
    "    X = ds.iloc[:,6:94]\n",
    "    X_std = StandardScaler().fit_transform(X) #standardize input data\n",
    "    models = [RandomForestClassifier(n_estimators=50,random_state=2)]#,XGBClassifier()]\n",
    "    model_name = ['Random Forest']#,'XGB']\n",
    "    models = list(zip(models,model_name))\n",
    "    groups = le.fit_transform(ds.Visit)\n",
    "    if len(np.unique(groups))<2:\n",
    "        continue\n",
    "    res,res_group = LOSOCV(ds,X_std,y,groups,models)\n",
    "    res.index = res.index+s\n",
    "    res_all=pd.concat((res_all,res))\n",
    "    res_visit_all.append(res_group)"
   ]
  },
  {
   "cell_type": "code",
   "execution_count": null,
   "metadata": {
    "collapsed": true
   },
   "outputs": [],
   "source": [
    "results = res_all.auroc.values\n",
    "np.save('Results/resultsTremorLOVOEMG.npy',results)\n",
    "\n",
    "#compute mean and std auc\n",
    "subjs=Data.Subject.unique()\n",
    "auc_mean = []; auc_std = []\n",
    "aucdf = pd.DataFrame()\n",
    "for i in range(len(res_visit_all)):\n",
    "\n",
    "    if len(res_visit_all[i]['Random Forest']['auroc']) < 7:\n",
    "        L = len(res_visit_all[i]['Random Forest']['auroc'])\n",
    "        res_visit_all[i]['Random Forest']['auroc'] += (list(np.nan*np.ones(7-L)))\n",
    "    aucdf[subjs[i]] = res_visit_all[i]['Random Forest']['auroc']   \n",
    "    tremor_auc = res_visit_all[i]['Random Forest']['auroc']\n",
    "    auc_mean.append(np.nanmean(tremor_auc)) #mean across visits\n",
    "    auc_std.append(np.nanstd(tremor_auc))\n",
    "    \n",
    "sns.barplot(data=aucdf)\n",
    "ax=plt.xticks(rotation=90)\n",
    "plt.title('LOVO EMG - Mean AUROC = %.3f +/- %.3f'%(np.nanmean(res_all.auroc),np.nanstd(res_all.auroc)))\n",
    "plt.ylim([0.2,0.9])\n",
    "\n",
    "plt.savefig('Results/resultsTremorLOVOEMG.png',format='png',dpi=1000)"
   ]
  },
  {
   "cell_type": "code",
   "execution_count": null,
   "metadata": {
    "collapsed": true
   },
   "outputs": [],
   "source": [
    "#LOVO Accelerometer Tremor\n",
    "\n",
    "symptom = 'Tremor'\n",
    "le = LabelEncoder()\n",
    "res_all = pd.DataFrame(data=None,index=None)\n",
    "#train on all sessions, predict on left out session for each patient\n",
    "res_visit_all = [] #data from each subject \n",
    "\n",
    "#remove nan rows for current symptom\n",
    "Data = Datafull.copy() #original unmodified dataframe\n",
    "Data=Data[~Data[symptom].isnull()]\n",
    "Data=Data.reset_index(drop=True) #reset index\n",
    "\n",
    "for s in Data.Subject.unique():\n",
    "    print('Subject %s'%s)\n",
    "    ds = Data.loc[Data.Subject==s]\n",
    "    indp = (ds[symptom]>0).values\n",
    "    y = indp.astype(int) #target \n",
    "    X = ds.iloc[:,94:]\n",
    "    X_std = StandardScaler().fit_transform(X) #standardize input data\n",
    "    models = [RandomForestClassifier(n_estimators=50,random_state=2)]#,XGBClassifier()]\n",
    "    model_name = ['Random Forest']#,'XGB']\n",
    "    models = list(zip(models,model_name))\n",
    "    groups = le.fit_transform(ds.Visit)\n",
    "    if len(np.unique(groups))<2:\n",
    "        continue\n",
    "    res,res_group = LOSOCV(ds,X_std,y,groups,models)\n",
    "    res.index = res.index+s\n",
    "    res_all=pd.concat((res_all,res))\n",
    "    res_visit_all.append(res_group)"
   ]
  },
  {
   "cell_type": "code",
   "execution_count": null,
   "metadata": {
    "collapsed": true
   },
   "outputs": [],
   "source": [
    "results = res_all.auroc.values\n",
    "np.save('Results/resultsTremorLOVOAccel.npy',results)\n",
    "\n",
    "#compute mean and std auc\n",
    "subjs=Data.Subject.unique()\n",
    "auc_mean = []; auc_std = []\n",
    "aucdf = pd.DataFrame()\n",
    "for i in range(len(res_visit_all)):\n",
    "\n",
    "    if len(res_visit_all[i]['Random Forest']['auroc']) < 7:\n",
    "        L = len(res_visit_all[i]['Random Forest']['auroc'])\n",
    "        res_visit_all[i]['Random Forest']['auroc'] += (list(np.nan*np.ones(7-L)))\n",
    "    aucdf[subjs[i]] = res_visit_all[i]['Random Forest']['auroc']   \n",
    "    tremor_auc = res_visit_all[i]['Random Forest']['auroc']\n",
    "    auc_mean.append(np.nanmean(tremor_auc)) #mean across visits\n",
    "    auc_std.append(np.nanstd(tremor_auc))\n",
    "    \n",
    "sns.barplot(data=aucdf)\n",
    "ax=plt.xticks(rotation=90)\n",
    "plt.title('LOVO Accel - Mean AUROC = %.3f +/- %.3f'%(np.nanmean(res_all.auroc),np.nanstd(res_all.auroc)))\n",
    "plt.ylim([0.5,1.1])\n",
    "\n",
    "plt.savefig('Results/resultsTremorLOVOAccel.png',format='png',dpi=1000)"
   ]
  },
  {
   "cell_type": "code",
   "execution_count": null,
   "metadata": {
    "collapsed": true
   },
   "outputs": [],
   "source": [
    "#LOVO Combined Tremor\n",
    "\n",
    "symptom = 'Tremor'\n",
    "le = LabelEncoder()\n",
    "res_all = pd.DataFrame(data=None,index=None)\n",
    "#train on all sessions, predict on left out session for each patient\n",
    "res_visit_all = [] #data from each subject \n",
    "\n",
    "#remove nan rows for current symptom\n",
    "Data = Datafull.copy() #original unmodified dataframe\n",
    "Data=Data[~Data[symptom].isnull()]\n",
    "Data=Data.reset_index(drop=True) #reset index\n",
    "\n",
    "for s in Data.Subject.unique():\n",
    "    print('Subject %s'%s)\n",
    "    ds = Data.loc[Data.Subject==s]\n",
    "    indp = (ds[symptom]>0).values\n",
    "    y = indp.astype(int) #target \n",
    "    X = ds.iloc[:,6:]\n",
    "    X_std = StandardScaler().fit_transform(X) #standardize input data\n",
    "    models = [RandomForestClassifier(n_estimators=50,random_state=2)]#,XGBClassifier()]\n",
    "    model_name = ['Random Forest']#,'XGB']\n",
    "    models = list(zip(models,model_name))\n",
    "    groups = le.fit_transform(ds.Visit)\n",
    "    if len(np.unique(groups))<2:\n",
    "        continue\n",
    "    res,res_group = LOSOCV(ds,X_std,y,groups,models)\n",
    "    res.index = res.index+s\n",
    "    res_all=pd.concat((res_all,res))\n",
    "    res_visit_all.append(res_group)"
   ]
  },
  {
   "cell_type": "code",
   "execution_count": null,
   "metadata": {
    "collapsed": true
   },
   "outputs": [],
   "source": [
    "results = res_all.auroc.values\n",
    "np.save('Results/resultsTremorLOVOCombined.npy',results)\n",
    "\n",
    "#compute mean and std auc\n",
    "subjs=Data.Subject.unique()\n",
    "auc_mean = []; auc_std = []\n",
    "aucdf = pd.DataFrame()\n",
    "for i in range(len(res_visit_all)):\n",
    "\n",
    "    if len(res_visit_all[i]['Random Forest']['auroc']) < 7:\n",
    "        L = len(res_visit_all[i]['Random Forest']['auroc'])\n",
    "        res_visit_all[i]['Random Forest']['auroc'] += (list(np.nan*np.ones(7-L)))\n",
    "    aucdf[subjs[i]] = res_visit_all[i]['Random Forest']['auroc']   \n",
    "    tremor_auc = res_visit_all[i]['Random Forest']['auroc']\n",
    "    auc_mean.append(np.nanmean(tremor_auc)) #mean across visits\n",
    "    auc_std.append(np.nanstd(tremor_auc))\n",
    "    \n",
    "sns.barplot(data=aucdf)\n",
    "ax=plt.xticks(rotation=90)\n",
    "plt.title('LOVO Combined - Mean AUROC = %.3f +/- %.3f'%(np.nanmean(res_all.auroc),np.nanstd(res_all.auroc)))\n",
    "plt.ylim([0.3,1.1])\n",
    "\n",
    "plt.savefig('Results/resultsTremorLOVOCombined.png',format='png',dpi=1000)"
   ]
  },
  {
   "cell_type": "code",
   "execution_count": null,
   "metadata": {
    "collapsed": true
   },
   "outputs": [],
   "source": [
    "resultsEMG = np.load('Results/resultsTremorLOVOEMG.npy')\n",
    "resultsAccel = np.load('Results/resultsTremorLOVOAccel.npy')\n",
    "resultsCombined = np.load('Results/resultsTremorLOVOCombined.npy')\n",
    "results = pd.DataFrame({'EMG':resultsEMG,'Accelerometer':resultsAccel,'Combined':resultsCombined})\n",
    "\n",
    "figure = plt.figure()\n",
    "figure.set_dpi(100)\n",
    "figure.set_size_inches(6.4,4.8)\n",
    "ax = sns.boxplot(data=results);\n",
    "plt.ylabel('AUROC');\n",
    "plt.ylim(0.2,1.1);\n",
    "plt.title('Tremor LOVO');\n",
    "\n",
    "#x1,x2 = 0,1\n",
    "#y, h, col = results['Accelerometer'].max() + 0.02, 0.02, 'k'\n",
    "#plt.plot([x1, x1, x2, x2], [y, y+h, y+h, y], lw=1.5, c=col)\n",
    "#plt.text((x1+x2)*.5, y+h+0.01, \"***\", ha='center', va='bottom', color=col,fontsize=16);\n",
    "\n",
    "plt.savefig('Results/Tremor Comparison Boxplot LOVO.png',format='png',dpi=1000)"
   ]
  },
  {
   "cell_type": "markdown",
   "metadata": {},
   "source": [
    "### Bradykinesia"
   ]
  },
  {
   "cell_type": "code",
   "execution_count": null,
   "metadata": {
    "collapsed": true,
    "scrolled": true
   },
   "outputs": [],
   "source": [
    "#LOVO EMG Bradykinesia\n",
    "\n",
    "symptom = 'Bradykinesia'\n",
    "le = LabelEncoder()\n",
    "res_all = pd.DataFrame(data=None,index=None)\n",
    "#train on all sessions, predict on left out session for each patient\n",
    "res_visit_all = [] #data from each subject \n",
    "\n",
    "#remove nan rows for current symptom\n",
    "Data = Datafull.copy() #original unmodified dataframe\n",
    "Data=Data[~Data[symptom].isnull()]\n",
    "Data=Data.reset_index(drop=True) #reset index\n",
    "\n",
    "for s in Data.Subject.unique():\n",
    "    print('Subject %s'%s)\n",
    "    ds = Data.loc[Data.Subject==s]\n",
    "    indp = (ds[symptom]>0).values\n",
    "    y = indp.astype(int) #target \n",
    "    X = ds.iloc[:,6:94]\n",
    "    X_std = StandardScaler().fit_transform(X) #standardize input data\n",
    "    models = [RandomForestClassifier(n_estimators=50,random_state=2)]#,XGBClassifier()]\n",
    "    model_name = ['Random Forest']#,'XGB']\n",
    "    models = list(zip(models,model_name))\n",
    "    groups = le.fit_transform(ds.Visit)\n",
    "    if len(np.unique(groups))<2:\n",
    "        continue\n",
    "    res,res_group = LOSOCV(ds,X_std,y,groups,models)\n",
    "    res.index = res.index+s\n",
    "    res_all=pd.concat((res_all,res))\n",
    "    res_visit_all.append(res_group)"
   ]
  },
  {
   "cell_type": "code",
   "execution_count": null,
   "metadata": {
    "collapsed": true
   },
   "outputs": [],
   "source": [
    "results = res_all.auroc.values\n",
    "np.save('Results/resultsBradykinesiaLOVOEMG.npy',results)\n",
    "\n",
    "#compute mean and std auc\n",
    "subjs=Data.Subject.unique()\n",
    "auc_mean = []; auc_std = []\n",
    "aucdf = pd.DataFrame()\n",
    "for i in range(len(res_visit_all)):\n",
    "\n",
    "    if len(res_visit_all[i]['Random Forest']['auroc']) < 7:\n",
    "        L = len(res_visit_all[i]['Random Forest']['auroc'])\n",
    "        res_visit_all[i]['Random Forest']['auroc'] += (list(np.nan*np.ones(7-L)))\n",
    "    aucdf[subjs[i]] = res_visit_all[i]['Random Forest']['auroc']   \n",
    "    brady_auc = res_visit_all[i]['Random Forest']['auroc']\n",
    "    auc_mean.append(np.nanmean(brady_auc)) #mean across visits\n",
    "    auc_std.append(np.nanstd(brady_auc))\n",
    "    \n",
    "sns.barplot(data=aucdf)\n",
    "ax=plt.xticks(rotation=90)\n",
    "plt.title('LOVO EMG - Mean AUROC = %.3f +/- %.3f'%(np.nanmean(res_all.auroc),np.nanstd(res_all.auroc)))\n",
    "plt.ylim([0.3,1.0])\n",
    "\n",
    "plt.savefig('Results/resultsBradykinesiaLOVOEMG.png',format='png',dpi=1000)"
   ]
  },
  {
   "cell_type": "code",
   "execution_count": null,
   "metadata": {
    "collapsed": true,
    "scrolled": true
   },
   "outputs": [],
   "source": [
    "#LOVO Accelerometer Bradykinesia\n",
    "\n",
    "symptom = 'Bradykinesia'\n",
    "le = LabelEncoder()\n",
    "res_all = pd.DataFrame(data=None,index=None)\n",
    "#train on all sessions, predict on left out session for each patient\n",
    "res_visit_all = [] #data from each subject \n",
    "\n",
    "#remove nan rows for current symptom\n",
    "Data = Datafull.copy() #original unmodified dataframe\n",
    "Data=Data[~Data[symptom].isnull()]\n",
    "Data=Data.reset_index(drop=True) #reset index\n",
    "\n",
    "for s in Data.Subject.unique():\n",
    "    print('Subject %s'%s)\n",
    "    ds = Data.loc[Data.Subject==s]\n",
    "    indp = (ds[symptom]>0).values\n",
    "    y = indp.astype(int) #target \n",
    "    X = ds.iloc[:,94:]\n",
    "    X_std = StandardScaler().fit_transform(X) #standardize input data\n",
    "    models = [RandomForestClassifier(n_estimators=50,random_state=2)]#,XGBClassifier()]\n",
    "    model_name = ['Random Forest']#,'XGB']\n",
    "    models = list(zip(models,model_name))\n",
    "    groups = le.fit_transform(ds.Visit)\n",
    "    if len(np.unique(groups))<2:\n",
    "        continue\n",
    "    res,res_group = LOSOCV(ds,X_std,y,groups,models)\n",
    "    res.index = res.index+s\n",
    "    res_all=pd.concat((res_all,res))\n",
    "    res_visit_all.append(res_group)"
   ]
  },
  {
   "cell_type": "code",
   "execution_count": null,
   "metadata": {
    "collapsed": true
   },
   "outputs": [],
   "source": [
    "results = res_all.auroc.values\n",
    "np.save('Results/resultsBradykinesiaLOVOAccel.npy',results)\n",
    "\n",
    "#compute mean and std auc\n",
    "subjs=Data.Subject.unique()\n",
    "auc_mean = []; auc_std = []\n",
    "aucdf = pd.DataFrame()\n",
    "for i in range(len(res_visit_all)):\n",
    "\n",
    "    if len(res_visit_all[i]['Random Forest']['auroc']) < 7:\n",
    "        L = len(res_visit_all[i]['Random Forest']['auroc'])\n",
    "        res_visit_all[i]['Random Forest']['auroc'] += (list(np.nan*np.ones(7-L)))\n",
    "    aucdf[subjs[i]] = res_visit_all[i]['Random Forest']['auroc']   \n",
    "    brady_auc = res_visit_all[i]['Random Forest']['auroc']\n",
    "    auc_mean.append(np.nanmean(brady_auc)) #mean across visits\n",
    "    auc_std.append(np.nanstd(brady_auc))\n",
    "    \n",
    "sns.barplot(data=aucdf)\n",
    "ax=plt.xticks(rotation=90)\n",
    "plt.title('LOVO Accel - Mean AUROC = %.3f +/- %.3f'%(np.nanmean(res_all.auroc),np.nanstd(res_all.auroc)))\n",
    "plt.ylim([0.5,1.1])\n",
    "\n",
    "plt.savefig('Results/resultsBradykinesiaLOVOAccel.png',format='png',dpi=1000)"
   ]
  },
  {
   "cell_type": "code",
   "execution_count": null,
   "metadata": {
    "collapsed": true,
    "scrolled": true
   },
   "outputs": [],
   "source": [
    "#LOVO Combined Bradykinesia\n",
    "\n",
    "symptom = 'Bradykinesia'\n",
    "le = LabelEncoder()\n",
    "res_all = pd.DataFrame(data=None,index=None)\n",
    "#train on all sessions, predict on left out session for each patient\n",
    "res_visit_all = [] #data from each subject \n",
    "\n",
    "#remove nan rows for current symptom\n",
    "Data = Datafull.copy() #original unmodified dataframe\n",
    "Data=Data[~Data[symptom].isnull()]\n",
    "Data=Data.reset_index(drop=True) #reset index\n",
    "\n",
    "for s in Data.Subject.unique():\n",
    "    print('Subject %s'%s)\n",
    "    ds = Data.loc[Data.Subject==s]\n",
    "    indp = (ds[symptom]>0).values\n",
    "    y = indp.astype(int) #target \n",
    "    X = ds.iloc[:,6:]\n",
    "    X_std = StandardScaler().fit_transform(X) #standardize input data\n",
    "    models = [RandomForestClassifier(n_estimators=50,random_state=2)]#,XGBClassifier()]\n",
    "    model_name = ['Random Forest']#,'XGB']\n",
    "    models = list(zip(models,model_name))\n",
    "    groups = le.fit_transform(ds.Visit)\n",
    "    if len(np.unique(groups))<2:\n",
    "        continue\n",
    "    res,res_group = LOSOCV(ds,X_std,y,groups,models)\n",
    "    res.index = res.index+s\n",
    "    res_all=pd.concat((res_all,res))\n",
    "    res_visit_all.append(res_group)"
   ]
  },
  {
   "cell_type": "code",
   "execution_count": null,
   "metadata": {
    "collapsed": true
   },
   "outputs": [],
   "source": [
    "results = res_all.auroc.values\n",
    "np.save('Results/resultsBradykinesiaLOVOCombined.npy',results)\n",
    "\n",
    "#compute mean and std auc\n",
    "subjs=Data.Subject.unique()\n",
    "auc_mean = []; auc_std = []\n",
    "aucdf = pd.DataFrame()\n",
    "for i in range(len(res_visit_all)):\n",
    "\n",
    "    if len(res_visit_all[i]['Random Forest']['auroc']) < 7:\n",
    "        L = len(res_visit_all[i]['Random Forest']['auroc'])\n",
    "        res_visit_all[i]['Random Forest']['auroc'] += (list(np.nan*np.ones(7-L)))\n",
    "    aucdf[subjs[i]] = res_visit_all[i]['Random Forest']['auroc']   \n",
    "    brady_auc = res_visit_all[i]['Random Forest']['auroc']\n",
    "    auc_mean.append(np.nanmean(brady_auc)) #mean across visits\n",
    "    auc_std.append(np.nanstd(brady_auc))\n",
    "    \n",
    "sns.barplot(data=aucdf)\n",
    "ax=plt.xticks(rotation=90)\n",
    "plt.title('LOVO Combined - Mean AUROC = %.3f +/- %.3f'%(np.nanmean(res_all.auroc),np.nanstd(res_all.auroc)))\n",
    "plt.ylim([0.45,1.1])\n",
    "\n",
    "plt.savefig('Results/resultsBradykinesiaLOVOCombined.png',format='png',dpi=1000)"
   ]
  },
  {
   "cell_type": "code",
   "execution_count": null,
   "metadata": {
    "collapsed": true
   },
   "outputs": [],
   "source": [
    "resultsEMG = np.load('Results/resultsBradykinesiaLOVOEMG.npy')\n",
    "resultsAccel = np.load('Results/resultsBradykinesiaLOVOAccel.npy')\n",
    "resultsCombined = np.load('Results/resultsBradykinesiaLOVOCombined.npy')\n",
    "results = pd.DataFrame({'EMG':resultsEMG,'Accelerometer':resultsAccel,'Combined':resultsCombined})\n",
    "\n",
    "figure = plt.figure()\n",
    "figure.set_dpi(100)\n",
    "figure.set_size_inches(6.4,4.8)\n",
    "ax = sns.boxplot(data=results);\n",
    "plt.ylabel('AUROC');\n",
    "plt.ylim(0.4,1.1);\n",
    "plt.title('Bradykinesia LOVO');\n",
    "\n",
    "#x1,x2 = 0,1\n",
    "#y, h, col = results['Accelerometer'].max() + 0.02, 0.02, 'k'\n",
    "#plt.plot([x1, x1, x2, x2], [y, y+h, y+h, y], lw=1.5, c=col)\n",
    "#plt.text((x1+x2)*.5, y+h+0.01, \"***\", ha='center', va='bottom', color=col,fontsize=16);\n",
    "\n",
    "plt.savefig('Results/Bradykinesia Comparison Boxplot LOVO.png',format='png',dpi=1000)"
   ]
  }
 ],
 "metadata": {
  "kernelspec": {
   "display_name": "Python 3",
   "language": "python",
   "name": "python3"
  },
  "language_info": {
   "codemirror_mode": {
    "name": "ipython",
    "version": 3
   },
   "file_extension": ".py",
   "mimetype": "text/x-python",
   "name": "python",
   "nbconvert_exporter": "python",
   "pygments_lexer": "ipython3",
   "version": "3.7.3"
  }
 },
 "nbformat": 4,
 "nbformat_minor": 2
}
