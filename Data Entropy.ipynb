{
 "cells": [
  {
   "cell_type": "code",
   "execution_count": 2,
   "metadata": {},
   "outputs": [],
   "source": [
    "import pandas as pd\n",
    "import numpy as np\n",
    "import scipy as sp\n",
    "from scipy.spatial import Delaunay\n",
    "from scipy.spatial import Voronoi\n",
    "from sklearn.decomposition import PCA\n",
    "from sklearn.preprocessing import StandardScaler\n",
    "from sklearn.cluster import DBSCAN, k_means\n",
    "from sklearn.naive_bayes import GaussianNB\n",
    "import itertools\n",
    "\n",
    "import pickle\n",
    "import time\n",
    "import seaborn as sn\n",
    "import matplotlib.pyplot as plt\n",
    "from PreprocessFcns import * \n",
    "\n",
    "%matplotlib inline"
   ]
  },
  {
   "cell_type": "code",
   "execution_count": 3,
   "metadata": {},
   "outputs": [],
   "source": [
    "with open('MDS-UPDRS Data - Features.pkl', 'rb') as handle:\n",
    "    Data = pickle.load(handle)"
   ]
  },
  {
   "cell_type": "code",
   "execution_count": 4,
   "metadata": {
    "collapsed": true
   },
   "outputs": [],
   "source": [
    "Scores = pd.read_csv('//FS2.smpp.local\\\\RTO\\\\CIS-PD Study\\\\MJFF Curation\\\\Finalized Dataset\\\\Metadata Tables\\\\Table3.csv')\n",
    "rest_tremor_dict = {'dorsal_hand_left': '3.17 Left Upper Extremity', 'flexor_digitorum_left': '3.17 Left Upper Extremity', \n",
    "                    'dorsal_hand_right': '3.17 Right Upper Extremity', 'flexor_digitorum_right': '3.17 Right Upper Extremity',\n",
    "                    'anterior_thigh_left': '3.17 Left Lower Extremity', 'distal_lateral_shank_left': '3.17 Left Lower Extremity',\n",
    "                    'anterior_thigh_right': '3.17 Right Lower Extremity', 'distal_lateral_shank_right': '3.17 Right Lower Extremity'}\n",
    "score_dict = {'MDS-UPDRS #1: Finger Tapping - Right': '3.4 Right Hand',\n",
    "              'MDS-UPDRS #1: Finger Tapping - Left': '3.4 Left Hand',\n",
    "              'MDS-UPDRS #2: Hand Movements - Right': '3.5 Right Hand',\n",
    "              'MDS-UPDRS #2: Hand Movements - Left': '3.5 Left Hand',\n",
    "              'MDS-UPDRS #3: Pronation-Supination - Right': '3.6 Right Hand',\n",
    "              'MDS-UPDRS #3: Pronation-Supination - Left': '3.6 Left Hand',\n",
    "              'MDS-UPDRS #4: Toe Tapping - Right': '3.7 Right Foot',\n",
    "              'MDS-UPDRS #4: Toe Tapping - Left': '3.7 Left Foot',\n",
    "              'MDS-UPDRS #5: Leg Agility - Right': '3.8 Right Leg',\n",
    "              'MDS-UPDRS #5: Leg Agility - Left': '3.8 Left Leg',\n",
    "              'MDS-UPDRS #6: Arising from Chair': '3.9',\n",
    "              'MDS-UPDRS #7: Gait': '3.10',\n",
    "              'MDS-UPDRS #8: Postural Stability': '3.12',\n",
    "              'MDS-UPDRS #9: Postural Hand Tremor - Right': '3.15 Right Hand',\n",
    "              'MDS-UPDRS #9: Postural Hand Tremor - Left': '3.15 Left Hand',\n",
    "              'MDS-UPDRS #10: Kinetic Hand Tremor - Right': '3.16 Right Hand',\n",
    "              'MDS-UPDRS #10: Kinetic Hand Tremor - Left': '3.16 Left Hand',\n",
    "              'MDS-UPDRS #11: Rest Tremor': rest_tremor_dict}\n",
    "v_dict = {0: '2 Weeks: Time 0', 1: '2 Weeks: Time 60', 2: '1 Month'}"
   ]
  },
  {
   "cell_type": "code",
   "execution_count": null,
   "metadata": {},
   "outputs": [],
   "source": [
    "Scores"
   ]
  },
  {
   "cell_type": "code",
   "execution_count": null,
   "metadata": {},
   "outputs": [],
   "source": [
    "Data[1004]['MDS-UPDRS #1: Finger Tapping - Left'][0]['flexor_digitorum_left']['accel_features'].columns"
   ]
  },
  {
   "cell_type": "code",
   "execution_count": 208,
   "metadata": {},
   "outputs": [],
   "source": [
    "def makeData(t, sensor, mode, task_LR=False, sens_LR=False):\n",
    "    \n",
    "    features = pd.DataFrame(columns=['RMSX', 'RMSY', 'RMSZ', 'rangeX', 'rangeY', 'rangeZ', 'meanX', 'meanY',\n",
    "                                     'meanZ', 'varX', 'varY', 'varZ', 'skewX', 'skewY', 'skewZ', 'kurtX',\n",
    "                                     'kurtY', 'kurtZ', 'xcor_peakXY', 'xcorr_peakXZ', 'xcorr_peakYZ',\n",
    "                                     'xcorr_lagXY', 'xcorr_lagXZ', 'xcorr_lagYZ', 'Dom_freq', 'Pdom_rel',\n",
    "                                     'PSD_mean', 'PSD_std', 'PSD_skew', 'PSD_kur', 'jerk_mean', 'jerk_std',\n",
    "                                     'jerk_skew', 'jerk_kur', 'Sen_X', 'Sen_Y', 'Sen_Z', 'RMS_mag',\n",
    "                                     'range_mag', 'mean_mag', 'var_mag', 'skew_mag', 'kurt_mag', 'Sen_mag'])\n",
    "\n",
    "    # dropFeat = ['xcor_peakXY', 'xcorr_peakXZ', 'xcorr_peakYZ', 'xcorr_lagXY', 'xcorr_lagXZ', 'xcorr_lagYZ',\n",
    "    #             'Sen_X', 'Sen_Y', 'Sen_Z', 'Sen_mag']\n",
    "\n",
    "    dropFeat = ['RMSX', 'RMSY', 'RMSZ', 'rangeX', 'rangeY', 'rangeZ', 'meanX', 'meanY',\n",
    "                                     'meanZ', 'varX', 'varY', 'varZ', 'skewX', 'skewY', 'skewZ', 'kurtX',\n",
    "                                     'kurtY', 'kurtZ', 'xcor_peakXY', 'xcorr_peakXZ', 'xcorr_peakYZ',\n",
    "                                     'xcorr_lagXY', 'xcorr_lagXZ', 'xcorr_lagYZ', 'Dom_freq', 'Pdom_rel',\n",
    "                                     'PSD_mean', 'PSD_std', 'PSD_skew', 'PSD_kur', 'jerk_mean', 'jerk_std',\n",
    "                                     'jerk_skew', 'jerk_kur', 'Sen_X', 'Sen_Y', 'Sen_Z']\n",
    "\n",
    "\n",
    "    for subj in Data.keys():\n",
    "\n",
    "        if task_LR:\n",
    "            tasks = [task + ' - Left', task + ' - Right']\n",
    "        else:\n",
    "            tasks = [task]\n",
    "\n",
    "        for t in tasks:\n",
    "\n",
    "            for v in Data[subj][t].keys():\n",
    "\n",
    "                if sens_LR:\n",
    "                    sensors = [sensor + 'left', sensor + 'right']\n",
    "                else:\n",
    "                    sensors = [sensor]\n",
    "\n",
    "                for s in sensors:\n",
    "                    if (s[-3:]!=t[-3:]) & sens_LR:\n",
    "                        continue\n",
    "\n",
    "                    temp_feat = Data[subj][t][v][s][mode+'_features']\n",
    "\n",
    "                    scoreQ = score_dict[t]\n",
    "                    if type(scoreQ)==dict:\n",
    "                        scoreQ=scoreQ[s]\n",
    "\n",
    "                    score = Scores[(Scores.Visit==v_dict[v]) & (Scores['Subject ID']==subj)][scoreQ].values\n",
    "\n",
    "                    temp_feat['Score'] = score[0]\n",
    "                    temp_feat['Subj'] = subj\n",
    "                    features = pd.concat([features,temp_feat],sort=True)\n",
    "\n",
    "    features.drop(columns=dropFeat, inplace=True)\n",
    "    \n",
    "    return features"
   ]
  },
  {
   "cell_type": "code",
   "execution_count": 219,
   "metadata": {
    "collapsed": true
   },
   "outputs": [],
   "source": [
    "def prepFeatures(features):\n",
    "    \n",
    "    nan_inds = ~features.Score.isnull()\n",
    "    Subjs = features.Subj[nan_inds]\n",
    "    Y = features.Score[nan_inds]>0\n",
    "    X = features.drop(columns=['Score', 'Subj'])[nan_inds]\n",
    "    \n",
    "    scaler = StandardScaler()\n",
    "    pca = PCA()\n",
    "    X_pca = pca.fit_transform(scaler.fit_transform(X.values))\n",
    "    \n",
    "    return X_pca, Y, Subjs"
   ]
  },
  {
   "cell_type": "code",
   "execution_count": 200,
   "metadata": {},
   "outputs": [
    {
     "name": "stdout",
     "output_type": "stream",
     "text": [
      "2.0 20\n",
      "1.0 54\n",
      "0.0 26\n",
      "3.0 5\n"
     ]
    }
   ],
   "source": [
    "for val in features.Score.unique():\n",
    "    print(val,sum(features.Score==val))"
   ]
  },
  {
   "cell_type": "code",
   "execution_count": 201,
   "metadata": {
    "collapsed": true
   },
   "outputs": [],
   "source": []
  },
  {
   "cell_type": "code",
   "execution_count": 202,
   "metadata": {},
   "outputs": [],
   "source": []
  },
  {
   "cell_type": "code",
   "execution_count": 203,
   "metadata": {},
   "outputs": [
    {
     "data": {
      "text/plain": [
       "array([0.37526512, 0.20700537, 0.15935238, 0.10605156, 0.06776371,\n",
       "       0.04752703, 0.03516961, 0.00186521], dtype=float32)"
      ]
     },
     "execution_count": 203,
     "metadata": {},
     "output_type": "execute_result"
    }
   ],
   "source": [
    "pca.explained_variance_ratio_"
   ]
  },
  {
   "cell_type": "code",
   "execution_count": 204,
   "metadata": {},
   "outputs": [
    {
     "name": "stdout",
     "output_type": "stream",
     "text": [
      "0.37526512145996094\n",
      "0.5822704881429672\n",
      "0.7416228652000427\n",
      "0.8476744219660759\n",
      "0.9154381304979324\n",
      "0.9629651568830013\n",
      "0.9981347694993019\n",
      "0.9999999782303348\n"
     ]
    }
   ],
   "source": [
    "for i in range(len(pca.explained_variance_ratio_)):\n",
    "    print(sum(pca.explained_variance_ratio_[0:i+1]))"
   ]
  },
  {
   "cell_type": "code",
   "execution_count": 205,
   "metadata": {},
   "outputs": [],
   "source": [
    "def VorEntropy(X_pca,Y,d):\n",
    "    t1 = time.time()\n",
    "    Vor = Voronoi(X_pca[:,:d])\n",
    "    t2 = time.time()\n",
    "\n",
    "    score_list = sorted(Y.unique())\n",
    "    class_counts = np.zeros((len(X_pca),len(score_list)))\n",
    "\n",
    "    for p in Vor.ridge_points:\n",
    "        class_counts[p[0],int(Y.values[p[1]])] += 1\n",
    "        class_counts[p[1],int(Y.values[p[0]])] += 1\n",
    "\n",
    "    totals = np.sum(class_counts,axis=1)\n",
    "    class_probs = class_counts/np.vstack([totals]*len(score_list)).transpose()\n",
    "\n",
    "    E = 0\n",
    "    E0 = 0\n",
    "    p_tot = 0\n",
    "    p0_tot = 0\n",
    "    probs = np.zeros((len(score_list),len(score_list)))\n",
    "    probs0 = np.zeros((len(score_list),len(score_list)))\n",
    "    for i,j in itertools.product(score_list,score_list):\n",
    "        i = int(i); j = int(j)\n",
    "        \n",
    "        offset=0\n",
    "        if i==j:\n",
    "            offset=1\n",
    "        \n",
    "        s1_inds = Y.values==i\n",
    "        p = sum(s1_inds)/len(Y) * np.mean(class_probs[s1_inds,int(j)])\n",
    "        p_tot += p\n",
    "        probs[i,j] = p\n",
    "        E += p * sp.log2(p)\n",
    "\n",
    "        p0 = sum(s1_inds)/len(Y) * (sum(Y.values==j)-offset)/(len(Y)-1)\n",
    "        p0_tot += p0\n",
    "        probs0[i,j] = p0\n",
    "        E0 += p0 * sp.log2(p0)\n",
    "\n",
    "    E = -1 * E\n",
    "\n",
    "    print(d, t2-t1, E+E0, p_tot, p0_tot)\n",
    "    return probs, probs0"
   ]
  },
  {
   "cell_type": "code",
   "execution_count": 220,
   "metadata": {},
   "outputs": [
    {
     "name": "stdout",
     "output_type": "stream",
     "text": [
      "2 0.0020003318786621094 0.015962576246171478 1.0 1.0\n",
      "3 0.004000425338745117 -0.019617732260883036 1.0 1.0\n",
      "4 0.018002033233642578 0.0013707822514950063 1.0 1.0\n",
      "5 0.06500649452209473 -0.00457491176300362 1.0 1.0\n",
      "6 0.29202938079833984 0.017287005501742003 1.0000000000000002 1.0\n",
      "7 1.7141714096069336 0.025398255907400413 1.0 1.0\n",
      "8 10.306030511856079 0.005825404558423175 1.0 1.0\n"
     ]
    }
   ],
   "source": [
    "task = 'MDS-UPDRS #1: Finger Tapping'\n",
    "task_LR = True\n",
    "sensor = 'sacrum'\n",
    "sens_LR = False\n",
    "mode = 'accel'\n",
    "\n",
    "F = makeData(task,sensor,mode,task_LR,sens_LR)\n",
    "X, Y, Subjs = prepFeatures(F)\n",
    "for d in range(2,9):\n",
    "    VorEntropy(X,Y,d)"
   ]
  },
  {
   "cell_type": "code",
   "execution_count": 221,
   "metadata": {},
   "outputs": [
    {
     "name": "stdout",
     "output_type": "stream",
     "text": [
      "2 0.002000093460083008 -3.275049834683408e-05 0.9999999999999999 1.0\n",
      "3 0.005000591278076172 -0.008082850320906942 1.0 1.0\n",
      "4 0.015001773834228516 0.013553260861145722 1.0 1.0\n",
      "5 0.062006473541259766 0.0007889060690338123 1.0 1.0\n",
      "6 0.3340332508087158 0.0038372825516055364 0.9999999999999999 1.0\n",
      "7 1.8671867847442627 0.01145628258924325 1.0 1.0\n",
      "8 10.002000093460083 0.0041116224849711 1.0 1.0\n"
     ]
    }
   ],
   "source": [
    "task = 'MDS-UPDRS #1: Finger Tapping'\n",
    "task_LR = True\n",
    "sensor = 'dorsal_hand_'\n",
    "sens_LR = True\n",
    "mode = 'accel'\n",
    "\n",
    "F = makeData(task,sensor,mode,task_LR,sens_LR)\n",
    "X, Y, Subjs = prepFeatures(F)\n",
    "for d in range(2,9):\n",
    "    VorEntropy(X,Y,d)"
   ]
  },
  {
   "cell_type": "code",
   "execution_count": 213,
   "metadata": {
    "collapsed": true
   },
   "outputs": [],
   "source": [
    "F_hand = F"
   ]
  },
  {
   "cell_type": "code",
   "execution_count": 215,
   "metadata": {
    "collapsed": true
   },
   "outputs": [],
   "source": [
    "F_sacrum = F"
   ]
  },
  {
   "cell_type": "code",
   "execution_count": 216,
   "metadata": {},
   "outputs": [
    {
     "data": {
      "text/html": [
       "<div>\n",
       "<style scoped>\n",
       "    .dataframe tbody tr th:only-of-type {\n",
       "        vertical-align: middle;\n",
       "    }\n",
       "\n",
       "    .dataframe tbody tr th {\n",
       "        vertical-align: top;\n",
       "    }\n",
       "\n",
       "    .dataframe thead th {\n",
       "        text-align: right;\n",
       "    }\n",
       "</style>\n",
       "<table border=\"1\" class=\"dataframe\">\n",
       "  <thead>\n",
       "    <tr style=\"text-align: right;\">\n",
       "      <th></th>\n",
       "      <th>PSD_8-12</th>\n",
       "      <th>RMS_mag</th>\n",
       "      <th>Score</th>\n",
       "      <th>Sen_mag</th>\n",
       "      <th>Subj</th>\n",
       "      <th>kurt_mag</th>\n",
       "      <th>mean_mag</th>\n",
       "      <th>range_mag</th>\n",
       "      <th>skew_mag</th>\n",
       "      <th>var_mag</th>\n",
       "    </tr>\n",
       "  </thead>\n",
       "  <tbody>\n",
       "    <tr>\n",
       "      <th>0</th>\n",
       "      <td>0.028796</td>\n",
       "      <td>0.085369</td>\n",
       "      <td>2.0</td>\n",
       "      <td>1.270035</td>\n",
       "      <td>1004.0</td>\n",
       "      <td>0.197789</td>\n",
       "      <td>1.035890</td>\n",
       "      <td>1.391516</td>\n",
       "      <td>-0.409724</td>\n",
       "      <td>0.266707</td>\n",
       "    </tr>\n",
       "    <tr>\n",
       "      <th>1</th>\n",
       "      <td>0.002645</td>\n",
       "      <td>0.087249</td>\n",
       "      <td>2.0</td>\n",
       "      <td>1.090738</td>\n",
       "      <td>1004.0</td>\n",
       "      <td>1.342904</td>\n",
       "      <td>1.065863</td>\n",
       "      <td>1.391516</td>\n",
       "      <td>-0.735872</td>\n",
       "      <td>0.226880</td>\n",
       "    </tr>\n",
       "    <tr>\n",
       "      <th>2</th>\n",
       "      <td>0.005526</td>\n",
       "      <td>0.086135</td>\n",
       "      <td>2.0</td>\n",
       "      <td>1.225364</td>\n",
       "      <td>1004.0</td>\n",
       "      <td>0.871018</td>\n",
       "      <td>1.057978</td>\n",
       "      <td>1.229380</td>\n",
       "      <td>-0.463050</td>\n",
       "      <td>0.195119</td>\n",
       "    </tr>\n",
       "    <tr>\n",
       "      <th>3</th>\n",
       "      <td>0.005060</td>\n",
       "      <td>0.092345</td>\n",
       "      <td>2.0</td>\n",
       "      <td>0.934309</td>\n",
       "      <td>1004.0</td>\n",
       "      <td>4.523701</td>\n",
       "      <td>1.058965</td>\n",
       "      <td>2.379982</td>\n",
       "      <td>1.314007</td>\n",
       "      <td>0.339243</td>\n",
       "    </tr>\n",
       "    <tr>\n",
       "      <th>0</th>\n",
       "      <td>0.013628</td>\n",
       "      <td>0.082799</td>\n",
       "      <td>1.0</td>\n",
       "      <td>1.258242</td>\n",
       "      <td>1004.0</td>\n",
       "      <td>0.459388</td>\n",
       "      <td>1.020222</td>\n",
       "      <td>0.959588</td>\n",
       "      <td>-0.828039</td>\n",
       "      <td>0.188370</td>\n",
       "    </tr>\n",
       "  </tbody>\n",
       "</table>\n",
       "</div>"
      ],
      "text/plain": [
       "   PSD_8-12   RMS_mag  Score   Sen_mag    Subj  kurt_mag  mean_mag  range_mag  \\\n",
       "0  0.028796  0.085369    2.0  1.270035  1004.0  0.197789  1.035890   1.391516   \n",
       "1  0.002645  0.087249    2.0  1.090738  1004.0  1.342904  1.065863   1.391516   \n",
       "2  0.005526  0.086135    2.0  1.225364  1004.0  0.871018  1.057978   1.229380   \n",
       "3  0.005060  0.092345    2.0  0.934309  1004.0  4.523701  1.058965   2.379982   \n",
       "0  0.013628  0.082799    1.0  1.258242  1004.0  0.459388  1.020222   0.959588   \n",
       "\n",
       "   skew_mag   var_mag  \n",
       "0 -0.409724  0.266707  \n",
       "1 -0.735872  0.226880  \n",
       "2 -0.463050  0.195119  \n",
       "3  1.314007  0.339243  \n",
       "0 -0.828039  0.188370  "
      ]
     },
     "execution_count": 216,
     "metadata": {},
     "output_type": "execute_result"
    }
   ],
   "source": [
    "F_hand.head()"
   ]
  },
  {
   "cell_type": "code",
   "execution_count": 217,
   "metadata": {},
   "outputs": [
    {
     "data": {
      "text/html": [
       "<div>\n",
       "<style scoped>\n",
       "    .dataframe tbody tr th:only-of-type {\n",
       "        vertical-align: middle;\n",
       "    }\n",
       "\n",
       "    .dataframe tbody tr th {\n",
       "        vertical-align: top;\n",
       "    }\n",
       "\n",
       "    .dataframe thead th {\n",
       "        text-align: right;\n",
       "    }\n",
       "</style>\n",
       "<table border=\"1\" class=\"dataframe\">\n",
       "  <thead>\n",
       "    <tr style=\"text-align: right;\">\n",
       "      <th></th>\n",
       "      <th>PSD_8-12</th>\n",
       "      <th>RMS_mag</th>\n",
       "      <th>Score</th>\n",
       "      <th>Sen_mag</th>\n",
       "      <th>Subj</th>\n",
       "      <th>kurt_mag</th>\n",
       "      <th>mean_mag</th>\n",
       "      <th>range_mag</th>\n",
       "      <th>skew_mag</th>\n",
       "      <th>var_mag</th>\n",
       "    </tr>\n",
       "  </thead>\n",
       "  <tbody>\n",
       "    <tr>\n",
       "      <th>0</th>\n",
       "      <td>1.822258e-06</td>\n",
       "      <td>0.079462</td>\n",
       "      <td>2.0</td>\n",
       "      <td>1.266948</td>\n",
       "      <td>1004.0</td>\n",
       "      <td>0.998713</td>\n",
       "      <td>0.995651</td>\n",
       "      <td>0.019902</td>\n",
       "      <td>-0.957411</td>\n",
       "      <td>0.003614</td>\n",
       "    </tr>\n",
       "    <tr>\n",
       "      <th>1</th>\n",
       "      <td>2.877973e-07</td>\n",
       "      <td>0.079699</td>\n",
       "      <td>2.0</td>\n",
       "      <td>1.509908</td>\n",
       "      <td>1004.0</td>\n",
       "      <td>0.181843</td>\n",
       "      <td>0.995437</td>\n",
       "      <td>0.014534</td>\n",
       "      <td>-0.656655</td>\n",
       "      <td>0.002803</td>\n",
       "    </tr>\n",
       "    <tr>\n",
       "      <th>2</th>\n",
       "      <td>5.008408e-07</td>\n",
       "      <td>0.079682</td>\n",
       "      <td>2.0</td>\n",
       "      <td>1.563976</td>\n",
       "      <td>1004.0</td>\n",
       "      <td>-0.042303</td>\n",
       "      <td>0.995222</td>\n",
       "      <td>0.016445</td>\n",
       "      <td>-0.245361</td>\n",
       "      <td>0.002927</td>\n",
       "    </tr>\n",
       "    <tr>\n",
       "      <th>3</th>\n",
       "      <td>1.804929e-06</td>\n",
       "      <td>0.082687</td>\n",
       "      <td>2.0</td>\n",
       "      <td>1.340485</td>\n",
       "      <td>1004.0</td>\n",
       "      <td>0.567933</td>\n",
       "      <td>0.995678</td>\n",
       "      <td>0.023199</td>\n",
       "      <td>0.381480</td>\n",
       "      <td>0.004170</td>\n",
       "    </tr>\n",
       "    <tr>\n",
       "      <th>0</th>\n",
       "      <td>8.155657e-07</td>\n",
       "      <td>0.079432</td>\n",
       "      <td>1.0</td>\n",
       "      <td>1.216395</td>\n",
       "      <td>1004.0</td>\n",
       "      <td>-0.528861</td>\n",
       "      <td>0.995273</td>\n",
       "      <td>0.013370</td>\n",
       "      <td>-0.269866</td>\n",
       "      <td>0.003084</td>\n",
       "    </tr>\n",
       "  </tbody>\n",
       "</table>\n",
       "</div>"
      ],
      "text/plain": [
       "       PSD_8-12   RMS_mag  Score   Sen_mag    Subj  kurt_mag  mean_mag  \\\n",
       "0  1.822258e-06  0.079462    2.0  1.266948  1004.0  0.998713  0.995651   \n",
       "1  2.877973e-07  0.079699    2.0  1.509908  1004.0  0.181843  0.995437   \n",
       "2  5.008408e-07  0.079682    2.0  1.563976  1004.0 -0.042303  0.995222   \n",
       "3  1.804929e-06  0.082687    2.0  1.340485  1004.0  0.567933  0.995678   \n",
       "0  8.155657e-07  0.079432    1.0  1.216395  1004.0 -0.528861  0.995273   \n",
       "\n",
       "   range_mag  skew_mag   var_mag  \n",
       "0   0.019902 -0.957411  0.003614  \n",
       "1   0.014534 -0.656655  0.002803  \n",
       "2   0.016445 -0.245361  0.002927  \n",
       "3   0.023199  0.381480  0.004170  \n",
       "0   0.013370 -0.269866  0.003084  "
      ]
     },
     "execution_count": 217,
     "metadata": {},
     "output_type": "execute_result"
    }
   ],
   "source": [
    "F_sacrum.head()"
   ]
  },
  {
   "cell_type": "code",
   "execution_count": 61,
   "metadata": {},
   "outputs": [
    {
     "name": "stdout",
     "output_type": "stream",
     "text": [
      "2 -0.003000020980834961 -0.13513270508780106 0.9999999999999999\n",
      "3 -0.003999948501586914 -0.02061164867186216 1.0\n",
      "4 -0.01699995994567871 -0.030481757647542462 1.0\n",
      "5 -0.059999942779541016 0.019628132834463408 1.0\n",
      "6 -0.3260002136230469 0.019240595779822733 0.9999999999999999\n",
      "7 -1.696000099182129 0.022408925093042154 1.0\n",
      "8 -9.506999969482422 0.012755072315110194 1.0\n"
     ]
    }
   ],
   "source": [
    "for d in range(2,9):\n",
    "    VorEntropy(X_pca,Y,d)"
   ]
  },
  {
   "cell_type": "code",
   "execution_count": 78,
   "metadata": {},
   "outputs": [
    {
     "name": "stdout",
     "output_type": "stream",
     "text": [
      "2 0.003000020980834961 -0.0699591163139548 1.0 0.9999999999999999\n",
      "3 0.004000186920166016 -0.002809103660739165 1.0 0.9999999999999999\n",
      "4 0.01399993896484375 0.008738189368412197 0.9999999999999999 0.9999999999999999\n",
      "5 0.05799984931945801 0.023056513182063476 0.9999999999999998 0.9999999999999999\n",
      "6 0.29799985885620117 0.018047246393526617 1.0 0.9999999999999999\n",
      "7 1.8559999465942383 0.00455346358701858 0.9999999999999998 0.9999999999999999\n",
      "8 10.049000263214111 0.0016340478501488676 0.9999999999999998 0.9999999999999999\n"
     ]
    }
   ],
   "source": [
    "for d in range(2,9):\n",
    "    VorEntropy(X_pca,Y,d)"
   ]
  },
  {
   "cell_type": "code",
   "execution_count": null,
   "metadata": {
    "collapsed": true
   },
   "outputs": [],
   "source": []
  },
  {
   "cell_type": "code",
   "execution_count": 194,
   "metadata": {},
   "outputs": [
    {
     "name": "stdout",
     "output_type": "stream",
     "text": [
      "2 0.0020003318786621094 -3.275049834683408e-05 0.9999999999999999 1.0\n"
     ]
    }
   ],
   "source": [
    "p,p0 = VorEntropy(X_pca,Y,2)"
   ]
  },
  {
   "cell_type": "code",
   "execution_count": 195,
   "metadata": {},
   "outputs": [
    {
     "data": {
      "text/plain": [
       "array([[0.10142548, 0.14619357],\n",
       "       [0.16210884, 0.59027211]])"
      ]
     },
     "execution_count": 195,
     "metadata": {},
     "output_type": "execute_result"
    }
   ],
   "source": [
    "p"
   ]
  },
  {
   "cell_type": "code",
   "execution_count": 192,
   "metadata": {},
   "outputs": [
    {
     "data": {
      "text/plain": [
       "array([[0.05952381, 0.18809524],\n",
       "       [0.18809524, 0.56428571]])"
      ]
     },
     "execution_count": 192,
     "metadata": {},
     "output_type": "execute_result"
    }
   ],
   "source": [
    "p0"
   ]
  },
  {
   "cell_type": "code",
   "execution_count": 177,
   "metadata": {},
   "outputs": [
    {
     "name": "stdout",
     "output_type": "stream",
     "text": [
      "[[-0.52444056 -0.45926296]\n",
      " [-0.47713877 -0.50603952]]\n"
     ]
    }
   ],
   "source": [
    "print(p*sp.log2(p))"
   ]
  },
  {
   "cell_type": "code",
   "execution_count": 178,
   "metadata": {},
   "outputs": [
    {
     "name": "stdout",
     "output_type": "stream",
     "text": [
      "[[-0.5 -0.5]\n",
      " [-0.5 -0.5]]\n"
     ]
    }
   ],
   "source": [
    "print(p0*sp.log2(p0))"
   ]
  },
  {
   "cell_type": "code",
   "execution_count": 168,
   "metadata": {},
   "outputs": [
    {
     "name": "stdout",
     "output_type": "stream",
     "text": [
      "[[-0.01435457 -0.06643856]\n",
      " [-0.06643856 -0.01435457]]\n"
     ]
    }
   ],
   "source": [
    "print(p1*sp.log2(p1))"
   ]
  },
  {
   "cell_type": "code",
   "execution_count": 167,
   "metadata": {
    "collapsed": true
   },
   "outputs": [],
   "source": [
    "p1 = np.array([[.99,.01],[.01,.99]])"
   ]
  },
  {
   "cell_type": "code",
   "execution_count": null,
   "metadata": {
    "collapsed": true
   },
   "outputs": [],
   "source": []
  },
  {
   "cell_type": "code",
   "execution_count": 31,
   "metadata": {},
   "outputs": [
    {
     "data": {
      "text/plain": [
       "-0.10642928577204636"
      ]
     },
     "execution_count": 31,
     "metadata": {},
     "output_type": "execute_result"
    }
   ],
   "source": [
    "E+E0"
   ]
  },
  {
   "cell_type": "code",
   "execution_count": null,
   "metadata": {},
   "outputs": [],
   "source": [
    "t = time.time()\n",
    "Del = Delaunay(X_pca[:,:8])\n",
    "print(time.time()-t)"
   ]
  },
  {
   "cell_type": "code",
   "execution_count": null,
   "metadata": {},
   "outputs": [],
   "source": [
    "t = time.time()\n",
    "Del = Delaunay(X_pca[:,:5])\n",
    "print(time.time()-t)\n",
    "\n",
    "score_list = sorted(Y.unique())\n",
    "class_probs = np.zeros((len(X_pca),len(score_list)))\n",
    "\n",
    "for i in range(len(X_pca)):\n",
    "    neighbors = []\n",
    "    for r in Del.simplices:\n",
    "        if i in r:\n",
    "            neighbors += [j for j in r if (j!=i) and (j not in neighbors)]\n",
    "            \n",
    "    scores = Y.values[neighbors]\n",
    "    for s in range(len(score_list)):\n",
    "        class_probs[i,s] = sum(scores==score_list[s])/len(scores)\n",
    "        \n",
    "E = 0\n",
    "E0 = 0\n",
    "for i,j in itertools.product(score_list,score_list):\n",
    "    s1_inds = Y.values==i\n",
    "    p = sum(s1_inds)/len(Y) * np.mean(class_probs[s1_inds,int(j)])\n",
    "    print(i,j,p)\n",
    "    E += p * sp.log2(p)\n",
    "    \n",
    "    p0 = sum(s1_inds)/len(Y) * sum(Y.values==j)/len(Y)\n",
    "    E0 += p0 * sp.log2(p0)\n",
    "    \n",
    "E = -1 * E\n",
    "\n",
    "print(E)"
   ]
  },
  {
   "cell_type": "code",
   "execution_count": null,
   "metadata": {},
   "outputs": [],
   "source": [
    "E+E0"
   ]
  },
  {
   "cell_type": "code",
   "execution_count": null,
   "metadata": {},
   "outputs": [],
   "source": [
    "len(Del.simplices)"
   ]
  },
  {
   "cell_type": "code",
   "execution_count": null,
   "metadata": {
    "collapsed": true
   },
   "outputs": [],
   "source": [
    "Del.neigh"
   ]
  },
  {
   "cell_type": "code",
   "execution_count": null,
   "metadata": {},
   "outputs": [],
   "source": [
    "clust = DBSCAN(eps=4,min_samples=3)\n",
    "clust.fit(X_pca[:,0:22])\n",
    "print('Total', sum(Y==0)/len(Y), sum(Y==1)/len(Y), sum(Y==2)/len(Y), sum(Y==3)/len(Y), sum(Y==4)/len(Y))\n",
    "for c in np.unique(clust.labels_):\n",
    "    c_ind = clust.labels_==c\n",
    "    c_tot = sum(c_ind)\n",
    "    c_Y = Y[c_ind]\n",
    "    print(c, sum(c_Y==0)/c_tot, sum(c_Y==1)/c_tot, sum(c_Y==2)/c_tot, sum(c_Y==3)/c_tot, sum(c_Y==4)/c_tot)"
   ]
  },
  {
   "cell_type": "code",
   "execution_count": null,
   "metadata": {},
   "outputs": [],
   "source": [
    "clust = k_means(X_pca[:,0:10],n_clusters=5)\n",
    "print('Total', sum(Y==0)/len(Y), sum(Y==1)/len(Y), sum(Y==2)/len(Y), sum(Y==3)/len(Y), sum(Y==4)/len(Y))\n",
    "for c in np.unique(clust[1]):\n",
    "    c_ind = clust[1]==c\n",
    "    c_tot = sum(c_ind)\n",
    "    c_Y = Y[c_ind]\n",
    "    print(c, sum(c_Y==0)/c_tot, sum(c_Y==1)/c_tot, sum(c_Y==2)/c_tot, sum(c_Y==3)/c_tot, sum(c_Y==4)/c_tot)\n"
   ]
  },
  {
   "cell_type": "code",
   "execution_count": null,
   "metadata": {},
   "outputs": [],
   "source": [
    "for s in [[0],[1,2,3,4]]:\n",
    "    s_ind = [v in s for v in Y.values]\n",
    "    plt.scatter(X_pca[s_ind,0],X_pca[s_ind,1])"
   ]
  },
  {
   "cell_type": "code",
   "execution_count": null,
   "metadata": {},
   "outputs": [],
   "source": [
    "for s in Y.unique():\n",
    "    s_ind = Y.values==s\n",
    "    plt.scatter(X_pca[s_ind,0],X_pca[s_ind,1])"
   ]
  },
  {
   "cell_type": "code",
   "execution_count": null,
   "metadata": {},
   "outputs": [],
   "source": [
    "X_pca[:,0:2]"
   ]
  },
  {
   "cell_type": "code",
   "execution_count": null,
   "metadata": {
    "collapsed": true
   },
   "outputs": [],
   "source": [
    "norm = features['PSD_8-12']/features.PSD_mean"
   ]
  },
  {
   "cell_type": "code",
   "execution_count": null,
   "metadata": {},
   "outputs": [],
   "source": [
    "plt.scatter(features['PSD_8-12'],features.Score==0)"
   ]
  },
  {
   "cell_type": "code",
   "execution_count": null,
   "metadata": {},
   "outputs": [],
   "source": [
    "np.corrcoef(features['PSD_8-12'][nan_inds],(features.Score==0)[nan_inds])"
   ]
  },
  {
   "cell_type": "code",
   "execution_count": null,
   "metadata": {},
   "outputs": [],
   "source": []
  },
  {
   "cell_type": "code",
   "execution_count": null,
   "metadata": {},
   "outputs": [],
   "source": [
    "NB = GaussianNB()"
   ]
  },
  {
   "cell_type": "code",
   "execution_count": null,
   "metadata": {},
   "outputs": [],
   "source": [
    "X[nan_inds]"
   ]
  },
  {
   "cell_type": "code",
   "execution_count": null,
   "metadata": {},
   "outputs": [],
   "source": [
    "NB.fit(X[nan_inds],Y[nan_inds])"
   ]
  },
  {
   "cell_type": "code",
   "execution_count": null,
   "metadata": {},
   "outputs": [],
   "source": [
    "sum(NB.predict(X[nan_inds])==Y[nan_inds])/sum(nan_inds)"
   ]
  },
  {
   "cell_type": "code",
   "execution_count": null,
   "metadata": {},
   "outputs": [],
   "source": [
    "gen_clips_mc10(Data[1004]['MDS-UPDRS #1: Finger Tapping - Left'][0]['flexor_digitorum_left']['accel'],2500)"
   ]
  },
  {
   "cell_type": "code",
   "execution_count": null,
   "metadata": {},
   "outputs": [],
   "source": [
    "feature_extraction(clip_data=gen_clips_mc10(Data[1004]['MDS-UPDRS #1: Finger Tapping - Left'][0]['flexor_digitorum_left']['accel'],2500))"
   ]
  },
  {
   "cell_type": "code",
   "execution_count": null,
   "metadata": {},
   "outputs": [],
   "source": [
    "Delaunay(X_pca[:,:2])"
   ]
  },
  {
   "cell_type": "code",
   "execution_count": null,
   "metadata": {},
   "outputs": [],
   "source": [
    "Del = Delaunay(X_pca[:,:2])"
   ]
  },
  {
   "cell_type": "code",
   "execution_count": null,
   "metadata": {},
   "outputs": [],
   "source": [
    "Del.simplices"
   ]
  },
  {
   "cell_type": "code",
   "execution_count": null,
   "metadata": {},
   "outputs": [],
   "source": [
    "neighbors"
   ]
  },
  {
   "cell_type": "code",
   "execution_count": null,
   "metadata": {},
   "outputs": [],
   "source": [
    "class_probs"
   ]
  },
  {
   "cell_type": "code",
   "execution_count": null,
   "metadata": {},
   "outputs": [],
   "source": []
  },
  {
   "cell_type": "code",
   "execution_count": null,
   "metadata": {},
   "outputs": [],
   "source": [
    "E"
   ]
  },
  {
   "cell_type": "code",
   "execution_count": null,
   "metadata": {},
   "outputs": [],
   "source": [
    "class_probs"
   ]
  },
  {
   "cell_type": "code",
   "execution_count": null,
   "metadata": {},
   "outputs": [],
   "source": [
    "class_probs[Y.values==0,:]"
   ]
  },
  {
   "cell_type": "code",
   "execution_count": null,
   "metadata": {
    "collapsed": true
   },
   "outputs": [],
   "source": []
  }
 ],
 "metadata": {
  "kernelspec": {
   "display_name": "Python 3",
   "language": "python",
   "name": "python3"
  },
  "language_info": {
   "codemirror_mode": {
    "name": "ipython",
    "version": 3
   },
   "file_extension": ".py",
   "mimetype": "text/x-python",
   "name": "python",
   "nbconvert_exporter": "python",
   "pygments_lexer": "ipython3",
   "version": "3.6.3"
  }
 },
 "nbformat": 4,
 "nbformat_minor": 2
}
