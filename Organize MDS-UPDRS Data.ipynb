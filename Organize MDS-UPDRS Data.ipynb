{
 "cells": [
  {
   "cell_type": "code",
   "execution_count": 2,
   "metadata": {
    "collapsed": true
   },
   "outputs": [],
   "source": [
    "import pandas as pd\n",
    "import numpy as np\n",
    "import time\n",
    "import os\n",
    "import pickle\n",
    "import sys\n",
    "from datetime import datetime, timedelta\n",
    "\n",
    "%matplotlib inline"
   ]
  },
  {
   "cell_type": "code",
   "execution_count": null,
   "metadata": {
    "collapsed": true
   },
   "outputs": [],
   "source": [
    "full_dict = {}\n",
    "count = 0\n",
    "subj_list = ([1004,1016,1018,1019,1020,1024,1029,1030,1032,1038,1044,1046,1047,1049,1051,1052,1053,1054,1055,1056])\n",
    "for subj in subj_list:\n",
    "    f = open('//FS2.smpp.local\\\\RTO\\\\CIS-PD Study\\\\Data_dict\\\\' + str(subj) + 'dict.pkl', 'rb')\n",
    "    t_dict = {}\n",
    "    s = (pickle.load(f))\n",
    "    \n",
    "    \n",
    "    for t in ['Heart Rate Variability', 'MDS-UPDRS #1: Finger Tapping', 'MDS-UPDRS #2: Hand Movements', \n",
    "              'MDS-UPDRS #3: Pronation-Supination', 'MDS-UPDRS #4: Toe Tapping', 'MDS-UPDRS #5: Leg Agility', \n",
    "              'MDS-UPDRS #6: Arising from Chair', 'MDS-UPDRS #7: Gait', 'MDS-UPDRS #8: Postural Stability', \n",
    "              'MDS-UPDRS #9: Postural Hand Tremor', 'MDS-UPDRS #10: Kinetic Hand Tremor']:\n",
    "        t_dict[t] = s[t]\n",
    "        \n",
    "    full_dict[subj] = t_dict\n",
    "    f.close()\n",
    "    count = count + 1\n",
    "    if count < 10:\n",
    "        print(' ' + str(count) + ' of 20 subjects loaded')\n",
    "    else:\n",
    "        print(str(count) + ' of 20 subjects loaded')"
   ]
  },
  {
   "cell_type": "code",
   "execution_count": null,
   "metadata": {
    "collapsed": true
   },
   "outputs": [],
   "source": [
    "with open('MDS-UPDRS Data.pkl', 'wb') as handle:\n",
    "    pickle.dump(full_dict, handle, protocol=pickle.HIGHEST_PROTOCOL)"
   ]
  },
  {
   "cell_type": "code",
   "execution_count": 3,
   "metadata": {
    "collapsed": true
   },
   "outputs": [],
   "source": [
    "def getSplitPoint(R,L,n=10,dropPercent = .25):\n",
    "    \n",
    "    if dropPercent>.5:\n",
    "        print('dropPercent must be between 0 and .5 - using 0')\n",
    "        dropPercent = 0\n",
    "    \n",
    "    startWin = dropPercent\n",
    "    endWin = 1-dropPercent\n",
    "    \n",
    "    vals = (R-1).abs().rolling(n).sum().reset_index()>(L-1).abs().rolling(n).sum().reset_index()\n",
    "    \n",
    "    vals = vals.values[int(startWin*len(L)):int(endWin*len(L))][:,1]\n",
    "    \n",
    "    return R.index[np.argmax(vals<.5)+int(startWin*len(R))-n]"
   ]
  },
  {
   "cell_type": "code",
   "execution_count": 4,
   "metadata": {
    "collapsed": true
   },
   "outputs": [],
   "source": [
    "def splitLeftRight(taskList, ref_Sens, full_dict):\n",
    "    for t in taskList:\n",
    "        for s in full_dict.keys():\n",
    "            \n",
    "            VRdict = {}\n",
    "            VLdict = {}\n",
    "            \n",
    "            for v in full_dict[s][t].keys():\n",
    "                \n",
    "                splitInd=[]\n",
    "                for sens in ref_Sens:\n",
    "                    rSens = sens + 'right'\n",
    "                    lSens = sens + 'left'\n",
    "\n",
    "                    R, L = full_dict[s][t][v][rSens]['accel'], full_dict[s][t][v][lSens]['accel']\n",
    "                    R = R.apply(lambda x: np.sqrt(x['Accel X (g)']**2+x['Accel Y (g)']**2+x['Accel Z (g)']**2), axis=1)\n",
    "                    L = L.apply(lambda x: np.sqrt(x['Accel X (g)']**2+x['Accel Y (g)']**2+x['Accel Z (g)']**2), axis=1)\n",
    "\n",
    "                    #interpolate the data to same timepoints\n",
    "                    indStart = min(R.index.min(),L.index.min())\n",
    "                    indStop = max(R.index.max(),L.index.max())\n",
    "                    newPoints = np.array(range(indStart,indStop+1,16))\n",
    "\n",
    "                    R = pd.Series(data = np.interp(newPoints,R.index,R.values), index = newPoints)\n",
    "                    L = pd.Series(data = np.interp(newPoints,L.index,L.values), index = newPoints)\n",
    "\n",
    "                    splitInd.append(getSplitPoint(R,L))\n",
    "                if max(abs(max(splitInd-np.mean(splitInd)))>500,abs(np.mean(splitInd)-np.mean([indStart, indStop])))>500:\n",
    "                    print('Check ', s, t, v)\n",
    "                splitInd=np.mean(splitInd)\n",
    "                \n",
    "#                 print(s, t, v, splitInd)\n",
    "                \n",
    "                ## Check minimum and maximum times and align all sensors\n",
    "                minStamp = sys.maxsize\n",
    "                maxStamp = 0\n",
    "                for sens in full_dict[s][t][v].keys():\n",
    "                    if len(full_dict[s][t][v][sens]['accel'])<1:\n",
    "                        continue\n",
    "                    minStamp = min(minStamp,full_dict[s][t][v][sens]['accel'].index.min())\n",
    "                    maxStamp = max(maxStamp,full_dict[s][t][v][sens]['accel'].index.max())\n",
    "\n",
    "                Rdict = {}\n",
    "                Ldict = {}\n",
    "                ## Get new Left and Right data for tasks\n",
    "                for sens in full_dict[s][t][v].keys():\n",
    "                    SRdict = {}\n",
    "                    SLdict = {}\n",
    "                    for mode in full_dict[s][t][v][sens].keys():\n",
    "                        data = full_dict[s][t][v][sens][mode]\n",
    "                        if len(data)<1:\n",
    "                            SRdict[mode] = data.copy()\n",
    "                            SLdict[mode] = data.copy()\n",
    "                            print(SRdict)\n",
    "                            continue\n",
    "\n",
    "                        if mode=='elec':\n",
    "                            ts = 1\n",
    "                        else:\n",
    "                            ts = 16\n",
    "\n",
    "                        newPoints = np.array(range(minStamp,maxStamp+1,ts))\n",
    "                        data = pd.DataFrame(data = np.array([np.interp(newPoints,data.index,data.loc[:,c].values) for c in data.columns]).transpose(), \n",
    "                                         index = newPoints,\n",
    "                                         columns = [c for c in data.columns])\n",
    "                        SRdict[mode] = data[data.index<splitInd].copy()\n",
    "                        SLdict[mode] = data[data.index>=splitInd].copy()\n",
    "\n",
    "                    Rdict[sens] = SRdict\n",
    "                    Ldict[sens] = SLdict\n",
    "\n",
    "#                 print(s, t, v, len(Rdict['dorsal_hand_right']['accel']), len(Ldict['dorsal_hand_right']['accel']))\n",
    "                VRdict[v] = Rdict\n",
    "                VLdict[v] = Ldict\n",
    "\n",
    "#             print(VRdict.keys(), VLdict.keys())\n",
    "            full_dict[s][t + ' - Right'] = VRdict\n",
    "            full_dict[s][t + ' - Left'] = VLdict"
   ]
  },
  {
   "cell_type": "code",
   "execution_count": 5,
   "metadata": {},
   "outputs": [],
   "source": [
    "with open('MDS-UPDRS Data.pkl', 'rb') as handle:\n",
    "    full_dict = pickle.load(handle)"
   ]
  },
  {
   "cell_type": "markdown",
   "metadata": {},
   "source": [
    "## Fix erroneous runs"
   ]
  },
  {
   "cell_type": "code",
   "execution_count": null,
   "metadata": {
    "collapsed": true
   },
   "outputs": [],
   "source": [
    "def fixIndividualRun(s,t,v,ref_Sens,start=0,stop=1,n=10,drop=.25,offset=0):\n",
    "\n",
    "    splitInd=[]\n",
    "    for sens in ref_Sens:\n",
    "        rSens = sens + 'right'\n",
    "        lSens = sens + 'left'\n",
    "\n",
    "        R, L = full_dict[s][t][v][rSens]['accel'], full_dict[s][t][v][lSens]['accel']\n",
    "        R = R.iloc[int(start*len(R)):int(stop*len(R))-1]\n",
    "        L = L.iloc[int(start*len(L)):int(stop*len(L))-1]\n",
    "        R = R.apply(lambda x: np.sqrt(x['Accel X (g)']**2+x['Accel Y (g)']**2+x['Accel Z (g)']**2), axis=1)\n",
    "        L = L.apply(lambda x: np.sqrt(x['Accel X (g)']**2+x['Accel Y (g)']**2+x['Accel Z (g)']**2), axis=1)\n",
    "\n",
    "        #interpolate the data to same timepoints\n",
    "        indStart = min(R.index.min(),L.index.min())\n",
    "        indStop = max(R.index.max(),L.index.max())\n",
    "        newPoints = np.array(range(indStart,indStop+1,16))\n",
    "\n",
    "        R = pd.Series(data = np.interp(newPoints,R.index,R.values), index = newPoints)\n",
    "        L = pd.Series(data = np.interp(newPoints,L.index,L.values), index = newPoints)\n",
    "\n",
    "        splitInd.append(getSplitPoint(R,L,n,drop))\n",
    "    print(splitInd)\n",
    "    if max(abs(max(splitInd-np.mean(splitInd)))>500,abs(np.mean(splitInd)-np.mean([indStart, indStop])))>500:\n",
    "        print('Check ', s, t, v)\n",
    "    splitInd=np.mean(splitInd)+offset\n",
    "\n",
    "    ## Check minimum and maximum times and align all sensors\n",
    "    minStamp = sys.maxsize\n",
    "    maxStamp = 0\n",
    "    for sens in full_dict[s][t][v].keys():\n",
    "        if len(full_dict[s][t][v][sens]['accel'])<1:\n",
    "            continue\n",
    "        minStamp = min(minStamp,full_dict[s][t][v][sens]['accel'].index.min())\n",
    "        maxStamp = max(maxStamp,full_dict[s][t][v][sens]['accel'].index.max())\n",
    "\n",
    "    Range = maxStamp - minStamp\n",
    "    maxStamp = minStamp + int(stop*Range)\n",
    "    minStamp = minStamp + int(start*Range)\n",
    "        \n",
    "    Rdict = {}\n",
    "    Ldict = {}\n",
    "    ## Get new Left and Right data for tasks\n",
    "    for sens in full_dict[s][t][v].keys():\n",
    "        SRdict = {}\n",
    "        SLdict = {}\n",
    "        for mode in full_dict[s][t][v][sens].keys():\n",
    "            data = full_dict[s][t][v][sens][mode]\n",
    "            if len(data)<1:\n",
    "                continue\n",
    "\n",
    "            if mode=='elec':\n",
    "                ts = 1\n",
    "            else:\n",
    "                ts = 16\n",
    "\n",
    "            newPoints = np.array(range(minStamp,maxStamp+1,ts))\n",
    "            data = pd.DataFrame(data = np.array([np.interp(newPoints,data.index,data.loc[:,c].values) for c in data.columns]).transpose(), \n",
    "                             index = newPoints,\n",
    "                             columns = [c for c in data.columns])\n",
    "            SRdict[mode] = data[data.index<splitInd].copy()\n",
    "            SLdict[mode] = data[data.index>=splitInd].copy()\n",
    "\n",
    "        Rdict[sens] = SRdict\n",
    "        Ldict[sens] = SLdict\n",
    "\n",
    "    Rdict = {v: Rdict}\n",
    "    Ldict = {v: Ldict}\n",
    "\n",
    "    full_dict[s][t + ' - Right'] = Rdict\n",
    "    full_dict[s][t + ' - Left'] = Ldict"
   ]
  },
  {
   "cell_type": "code",
   "execution_count": null,
   "metadata": {
    "collapsed": true
   },
   "outputs": [],
   "source": [
    "t = 'MDS-UPDRS #4: Toe Tapping'\n",
    "s = 1004\n",
    "v = 2\n",
    "ref_Sens = ['anterior_thigh_', 'distal_lateral_shank_']\n",
    "\n",
    "fixIndividualRun(s,t,v,ref_Sens,n=20,offset=300)"
   ]
  },
  {
   "cell_type": "code",
   "execution_count": null,
   "metadata": {
    "collapsed": true
   },
   "outputs": [],
   "source": [
    "t = 'MDS-UPDRS #4: Toe Tapping'\n",
    "s = 1016\n",
    "v = 2\n",
    "ref_Sens = ['anterior_thigh_', 'distal_lateral_shank_']\n",
    "\n",
    "fixIndividualRun(s,t,v,ref_Sens,n=20,offset=300)"
   ]
  },
  {
   "cell_type": "code",
   "execution_count": null,
   "metadata": {
    "collapsed": true
   },
   "outputs": [],
   "source": [
    "t = 'MDS-UPDRS #4: Toe Tapping'\n",
    "s = 1018\n",
    "v = 0\n",
    "ref_Sens = ['anterior_thigh_', 'distal_lateral_shank_']\n",
    "\n",
    "fixIndividualRun(s,t,v,ref_Sens,start=.24)"
   ]
  },
  {
   "cell_type": "code",
   "execution_count": null,
   "metadata": {
    "collapsed": true
   },
   "outputs": [],
   "source": [
    "t = 'MDS-UPDRS #4: Toe Tapping'\n",
    "s = 1018\n",
    "v = 1\n",
    "ref_Sens = ['anterior_thigh_', 'distal_lateral_shank_']\n",
    "\n",
    "fixIndividualRun(s,t,v,ref_Sens,start=.15,n=20,offset=300)"
   ]
  },
  {
   "cell_type": "code",
   "execution_count": null,
   "metadata": {
    "collapsed": true
   },
   "outputs": [],
   "source": [
    "t = 'MDS-UPDRS #4: Toe Tapping'\n",
    "s = 1018\n",
    "v = 2\n",
    "ref_Sens = ['anterior_thigh_', 'distal_lateral_shank_']\n",
    "\n",
    "fixIndividualRun(s,t,v,ref_Sens,n=20,offset=300)"
   ]
  },
  {
   "cell_type": "code",
   "execution_count": null,
   "metadata": {
    "collapsed": true
   },
   "outputs": [],
   "source": [
    "t = 'MDS-UPDRS #4: Toe Tapping'\n",
    "s = 1019\n",
    "v = 1\n",
    "ref_Sens = ['anterior_thigh_', 'distal_lateral_shank_']\n",
    "\n",
    "fixIndividualRun(s,t,v,ref_Sens,n=20,offset=300)"
   ]
  },
  {
   "cell_type": "code",
   "execution_count": null,
   "metadata": {
    "collapsed": true
   },
   "outputs": [],
   "source": [
    "t = 'MDS-UPDRS #4: Toe Tapping'\n",
    "s = 1019\n",
    "v = 2\n",
    "ref_Sens = ['anterior_thigh_', 'distal_lateral_shank_']\n",
    "\n",
    "fixIndividualRun(s,t,v,ref_Sens,n=20,offset=300)"
   ]
  },
  {
   "cell_type": "code",
   "execution_count": null,
   "metadata": {
    "collapsed": true
   },
   "outputs": [],
   "source": [
    "t = 'MDS-UPDRS #4: Toe Tapping'\n",
    "s = 1020\n",
    "v = 0\n",
    "ref_Sens = ['anterior_thigh_', 'distal_lateral_shank_']\n",
    "\n",
    "fixIndividualRun(s,t,v,ref_Sens,n=20,offset=200)"
   ]
  },
  {
   "cell_type": "code",
   "execution_count": null,
   "metadata": {
    "collapsed": true
   },
   "outputs": [],
   "source": [
    "t = 'MDS-UPDRS #4: Toe Tapping'\n",
    "s = 1024\n",
    "v = 0\n",
    "ref_Sens = ['anterior_thigh_', 'distal_lateral_shank_']\n",
    "\n",
    "fixIndividualRun(s,t,v,ref_Sens,n=20,offset=300)"
   ]
  },
  {
   "cell_type": "code",
   "execution_count": null,
   "metadata": {
    "collapsed": true
   },
   "outputs": [],
   "source": [
    "t = 'MDS-UPDRS #4: Toe Tapping'\n",
    "s = 1024\n",
    "v = 1\n",
    "ref_Sens = ['anterior_thigh_', 'distal_lateral_shank_']\n",
    "\n",
    "fixIndividualRun(s,t,v,ref_Sens,start=.15,n=20,offset=250)"
   ]
  },
  {
   "cell_type": "code",
   "execution_count": null,
   "metadata": {
    "collapsed": true
   },
   "outputs": [],
   "source": [
    "t = 'MDS-UPDRS #4: Toe Tapping'\n",
    "s = 1024\n",
    "v = 2\n",
    "ref_Sens = ['anterior_thigh_', 'distal_lateral_shank_']\n",
    "\n",
    "fixIndividualRun(s,t,v,ref_Sens,n=20,offset=300)"
   ]
  },
  {
   "cell_type": "code",
   "execution_count": null,
   "metadata": {
    "collapsed": true
   },
   "outputs": [],
   "source": [
    "t = 'MDS-UPDRS #4: Toe Tapping'\n",
    "s = 1029\n",
    "v = 1\n",
    "ref_Sens = ['anterior_thigh_', 'distal_lateral_shank_']\n",
    "\n",
    "fixIndividualRun(s,t,v,ref_Sens,start=.1,n=20,offset=300)"
   ]
  },
  {
   "cell_type": "code",
   "execution_count": null,
   "metadata": {
    "collapsed": true
   },
   "outputs": [],
   "source": [
    "t = 'MDS-UPDRS #4: Toe Tapping'\n",
    "s = 1030\n",
    "v = 0\n",
    "ref_Sens = ['anterior_thigh_', 'distal_lateral_shank_']\n",
    "\n",
    "fixIndividualRun(s,t,v,ref_Sens,start=.15,n=20,offset=250)"
   ]
  },
  {
   "cell_type": "code",
   "execution_count": null,
   "metadata": {
    "collapsed": true
   },
   "outputs": [],
   "source": [
    "t = 'MDS-UPDRS #4: Toe Tapping'\n",
    "s = 1030\n",
    "v = 1\n",
    "ref_Sens = ['anterior_thigh_', 'distal_lateral_shank_']\n",
    "\n",
    "fixIndividualRun(s,t,v,ref_Sens,start=.15,n=20,offset=300)"
   ]
  },
  {
   "cell_type": "code",
   "execution_count": null,
   "metadata": {
    "collapsed": true
   },
   "outputs": [],
   "source": [
    "t = 'MDS-UPDRS #4: Toe Tapping'\n",
    "s = 1030\n",
    "v = 2\n",
    "ref_Sens = ['anterior_thigh_', 'distal_lateral_shank_']\n",
    "\n",
    "fixIndividualRun(s,t,v,ref_Sens,n=20,offset=250)"
   ]
  },
  {
   "cell_type": "code",
   "execution_count": null,
   "metadata": {
    "collapsed": true
   },
   "outputs": [],
   "source": [
    "t = 'MDS-UPDRS #4: Toe Tapping'\n",
    "s = 1032\n",
    "v = 0\n",
    "ref_Sens = ['anterior_thigh_', 'distal_lateral_shank_']\n",
    "\n",
    "fixIndividualRun(s,t,v,ref_Sens,start=.1,n=20,offset=300)"
   ]
  },
  {
   "cell_type": "code",
   "execution_count": null,
   "metadata": {
    "collapsed": true
   },
   "outputs": [],
   "source": [
    "t = 'MDS-UPDRS #4: Toe Tapping'\n",
    "s = 1032\n",
    "v = 2\n",
    "ref_Sens = ['anterior_thigh_', 'distal_lateral_shank_']\n",
    "\n",
    "fixIndividualRun(s,t,v,ref_Sens,offset=3750, stop=.87)"
   ]
  },
  {
   "cell_type": "code",
   "execution_count": null,
   "metadata": {
    "collapsed": true
   },
   "outputs": [],
   "source": [
    "full_dict[1038][t][2] = full_dict[1038][t][3]\n",
    "full_dict[1038]['MDS-UPDRS #5: Leg Agility'][2] = full_dict[1038]['MDS-UPDRS #5: Leg Agility'][1]"
   ]
  },
  {
   "cell_type": "code",
   "execution_count": null,
   "metadata": {
    "collapsed": true
   },
   "outputs": [],
   "source": [
    "t = 'MDS-UPDRS #4: Toe Tapping'\n",
    "s = 1038\n",
    "v = 2\n",
    "ref_Sens = ['anterior_thigh_', 'distal_lateral_shank_']\n",
    "\n",
    "fixIndividualRun(s,t,v,ref_Sens,n=20,offset=300)"
   ]
  },
  {
   "cell_type": "code",
   "execution_count": null,
   "metadata": {
    "collapsed": true
   },
   "outputs": [],
   "source": [
    "t = 'MDS-UPDRS #4: Toe Tapping'\n",
    "s = 1044\n",
    "v = 1\n",
    "ref_Sens = ['anterior_thigh_', 'distal_lateral_shank_']\n",
    "\n",
    "fixIndividualRun(s,t,v,ref_Sens,n=20,offset=300)"
   ]
  },
  {
   "cell_type": "code",
   "execution_count": null,
   "metadata": {
    "collapsed": true
   },
   "outputs": [],
   "source": [
    "t = 'MDS-UPDRS #4: Toe Tapping'\n",
    "s = 1046\n",
    "v = 0\n",
    "ref_Sens = ['anterior_thigh_', 'distal_lateral_shank_']\n",
    "\n",
    "fixIndividualRun(s,t,v,ref_Sens,n=20,offset=300)"
   ]
  },
  {
   "cell_type": "code",
   "execution_count": null,
   "metadata": {
    "collapsed": true
   },
   "outputs": [],
   "source": [
    "t = 'MDS-UPDRS #4: Toe Tapping'\n",
    "s = 1046\n",
    "v = 2\n",
    "ref_Sens = ['anterior_thigh_', 'distal_lateral_shank_']\n",
    "\n",
    "fixIndividualRun(s,t,v,ref_Sens,start=.1,n=20,offset=300)"
   ]
  },
  {
   "cell_type": "code",
   "execution_count": null,
   "metadata": {
    "collapsed": true
   },
   "outputs": [],
   "source": [
    "t = 'MDS-UPDRS #4: Toe Tapping'\n",
    "s = 1047\n",
    "v = 0\n",
    "ref_Sens = ['anterior_thigh_', 'distal_lateral_shank_']\n",
    "\n",
    "fixIndividualRun(s,t,v,ref_Sens,n=20,offset=200)"
   ]
  },
  {
   "cell_type": "code",
   "execution_count": null,
   "metadata": {
    "collapsed": true
   },
   "outputs": [],
   "source": [
    "t = 'MDS-UPDRS #4: Toe Tapping'\n",
    "s = 1049\n",
    "v = 2\n",
    "ref_Sens = ['anterior_thigh_', 'distal_lateral_shank_']\n",
    "\n",
    "fixIndividualRun(s,t,v,ref_Sens,start=0.13,offset=250)"
   ]
  },
  {
   "cell_type": "code",
   "execution_count": null,
   "metadata": {
    "collapsed": true
   },
   "outputs": [],
   "source": [
    "t = 'MDS-UPDRS #4: Toe Tapping'\n",
    "s = 1052\n",
    "v = 1\n",
    "ref_Sens = ['anterior_thigh_', 'distal_lateral_shank_']\n",
    "\n",
    "fixIndividualRun(s,t,v,ref_Sens,start=.1,stop=.95,n=20,offset=200)"
   ]
  },
  {
   "cell_type": "code",
   "execution_count": null,
   "metadata": {
    "collapsed": true
   },
   "outputs": [],
   "source": [
    "t = 'MDS-UPDRS #4: Toe Tapping'\n",
    "s = 1053\n",
    "v = 0\n",
    "ref_Sens = ['anterior_thigh_', 'distal_lateral_shank_']\n",
    "\n",
    "fixIndividualRun(s,t,v,ref_Sens,n=20,offset=200)"
   ]
  },
  {
   "cell_type": "code",
   "execution_count": null,
   "metadata": {
    "collapsed": true
   },
   "outputs": [],
   "source": [
    "t = 'MDS-UPDRS #4: Toe Tapping'\n",
    "s = 1054\n",
    "v = 0\n",
    "ref_Sens = ['anterior_thigh_', 'distal_lateral_shank_']\n",
    "\n",
    "fixIndividualRun(s,t,v,ref_Sens,start=.15,n=20,offset=300)"
   ]
  },
  {
   "cell_type": "code",
   "execution_count": null,
   "metadata": {
    "collapsed": true
   },
   "outputs": [],
   "source": [
    "t = 'MDS-UPDRS #4: Toe Tapping'\n",
    "s = 1055\n",
    "v = 0\n",
    "ref_Sens = ['anterior_thigh_', 'distal_lateral_shank_']\n",
    "\n",
    "fixIndividualRun(s,t,v,ref_Sens,start=.18,n=20,offset=50)"
   ]
  },
  {
   "cell_type": "code",
   "execution_count": null,
   "metadata": {
    "collapsed": true
   },
   "outputs": [],
   "source": [
    "t = 'MDS-UPDRS #4: Toe Tapping'\n",
    "s = 1055\n",
    "v = 1\n",
    "ref_Sens = ['anterior_thigh_', 'distal_lateral_shank_']\n",
    "\n",
    "fixIndividualRun(s,t,v,ref_Sens,start=.05,n=20,offset=100)"
   ]
  },
  {
   "cell_type": "code",
   "execution_count": null,
   "metadata": {
    "collapsed": true
   },
   "outputs": [],
   "source": [
    "t = 'MDS-UPDRS #4: Toe Tapping'\n",
    "s = 1056\n",
    "v = 0\n",
    "ref_Sens = ['anterior_thigh_', 'distal_lateral_shank_']\n",
    "\n",
    "fixIndividualRun(s,t,v,ref_Sens,n=20,offset=300)"
   ]
  },
  {
   "cell_type": "code",
   "execution_count": null,
   "metadata": {
    "collapsed": true
   },
   "outputs": [],
   "source": [
    "t = 'MDS-UPDRS #5: Leg Agility'\n",
    "s = 1004\n",
    "v = 0\n",
    "ref_Sens = ['anterior_thigh_', 'distal_lateral_shank_']\n",
    "\n",
    "fixIndividualRun(s,t,v,ref_Sens,n=20,offset=300)"
   ]
  },
  {
   "cell_type": "code",
   "execution_count": null,
   "metadata": {
    "collapsed": true
   },
   "outputs": [],
   "source": [
    "t = 'MDS-UPDRS #5: Leg Agility'\n",
    "s = 1004\n",
    "v = 1\n",
    "ref_Sens = ['anterior_thigh_', 'distal_lateral_shank_']\n",
    "\n",
    "fixIndividualRun(s,t,v,ref_Sens,stop=.95,n=20,offset=100)"
   ]
  },
  {
   "cell_type": "code",
   "execution_count": null,
   "metadata": {
    "collapsed": true
   },
   "outputs": [],
   "source": [
    "t = 'MDS-UPDRS #5: Leg Agility'\n",
    "s = 1004\n",
    "v = 2\n",
    "ref_Sens = ['anterior_thigh_', 'distal_lateral_shank_']\n",
    "\n",
    "fixIndividualRun(s,t,v,ref_Sens,n=20,offset=200)"
   ]
  },
  {
   "cell_type": "code",
   "execution_count": null,
   "metadata": {
    "collapsed": true
   },
   "outputs": [],
   "source": [
    "t = 'MDS-UPDRS #5: Leg Agility'\n",
    "s = 1016\n",
    "v = 0\n",
    "ref_Sens = ['anterior_thigh_', 'distal_lateral_shank_']\n",
    "\n",
    "fixIndividualRun(s,t,v,ref_Sens,n=20,offset=200)"
   ]
  },
  {
   "cell_type": "code",
   "execution_count": null,
   "metadata": {
    "collapsed": true
   },
   "outputs": [],
   "source": [
    "t = 'MDS-UPDRS #5: Leg Agility'\n",
    "s = 1018\n",
    "v = 2\n",
    "ref_Sens = ['anterior_thigh_', 'distal_lateral_shank_']\n",
    "\n",
    "fixIndividualRun(s,t,v,ref_Sens,start=.15,n=20,offset=100)"
   ]
  },
  {
   "cell_type": "code",
   "execution_count": null,
   "metadata": {
    "collapsed": true
   },
   "outputs": [],
   "source": [
    "t = 'MDS-UPDRS #5: Leg Agility'\n",
    "s = 1019\n",
    "v = 0\n",
    "ref_Sens = ['anterior_thigh_', 'distal_lateral_shank_']\n",
    "\n",
    "fixIndividualRun(s,t,v,ref_Sens,start=.03,n=20,offset=200)"
   ]
  },
  {
   "cell_type": "code",
   "execution_count": null,
   "metadata": {
    "collapsed": true
   },
   "outputs": [],
   "source": [
    "t = 'MDS-UPDRS #5: Leg Agility'\n",
    "s = 1019\n",
    "v = 1\n",
    "ref_Sens = ['anterior_thigh_', 'distal_lateral_shank_']\n",
    "\n",
    "fixIndividualRun(s,t,v,ref_Sens,n=20,offset=200)"
   ]
  },
  {
   "cell_type": "code",
   "execution_count": null,
   "metadata": {
    "collapsed": true
   },
   "outputs": [],
   "source": [
    "t = 'MDS-UPDRS #5: Leg Agility'\n",
    "s = 1020\n",
    "v = 1\n",
    "ref_Sens = ['anterior_thigh_', 'distal_lateral_shank_']\n",
    "\n",
    "fixIndividualRun(s,t,v,ref_Sens,start=.05,n=20,offset=200)"
   ]
  },
  {
   "cell_type": "code",
   "execution_count": null,
   "metadata": {
    "collapsed": true
   },
   "outputs": [],
   "source": [
    "t = 'MDS-UPDRS #5: Leg Agility'\n",
    "s = 1020\n",
    "v = 2\n",
    "ref_Sens = ['anterior_thigh_', 'distal_lateral_shank_']\n",
    "\n",
    "fixIndividualRun(s,t,v,ref_Sens,start=.1,n=20,offset=200)"
   ]
  },
  {
   "cell_type": "code",
   "execution_count": null,
   "metadata": {
    "collapsed": true
   },
   "outputs": [],
   "source": [
    "t = 'MDS-UPDRS #5: Leg Agility'\n",
    "s = 1024\n",
    "v = 0\n",
    "ref_Sens = ['anterior_thigh_', 'distal_lateral_shank_']\n",
    "\n",
    "fixIndividualRun(s,t,v,ref_Sens,start=.15,n=20,offset=150)"
   ]
  },
  {
   "cell_type": "code",
   "execution_count": null,
   "metadata": {
    "collapsed": true
   },
   "outputs": [],
   "source": [
    "t = 'MDS-UPDRS #5: Leg Agility'\n",
    "s = 1029\n",
    "v = 0\n",
    "ref_Sens = ['anterior_thigh_', 'distal_lateral_shank_']\n",
    "\n",
    "fixIndividualRun(s,t,v,ref_Sens,start=.12,n=20,offset=0)"
   ]
  },
  {
   "cell_type": "code",
   "execution_count": null,
   "metadata": {
    "collapsed": true
   },
   "outputs": [],
   "source": [
    "t = 'MDS-UPDRS #5: Leg Agility'\n",
    "s = 1029\n",
    "v = 1\n",
    "ref_Sens = ['anterior_thigh_', 'distal_lateral_shank_']\n",
    "\n",
    "fixIndividualRun(s,t,v,ref_Sens,n=20,offset=100)"
   ]
  },
  {
   "cell_type": "code",
   "execution_count": null,
   "metadata": {
    "collapsed": true
   },
   "outputs": [],
   "source": [
    "t = 'MDS-UPDRS #5: Leg Agility'\n",
    "s = 1032\n",
    "v = 0\n",
    "ref_Sens = ['anterior_thigh_', 'distal_lateral_shank_']\n",
    "\n",
    "fixIndividualRun(s,t,v,ref_Sens,start=.17,n=20,offset=200)"
   ]
  },
  {
   "cell_type": "code",
   "execution_count": null,
   "metadata": {
    "collapsed": true
   },
   "outputs": [],
   "source": [
    "t = 'MDS-UPDRS #5: Leg Agility'\n",
    "s = 1032\n",
    "v = 2\n",
    "ref_Sens = ['anterior_thigh_', 'distal_lateral_shank_']\n",
    "\n",
    "fixIndividualRun(s,t,v,ref_Sens,n=20,offset=200)"
   ]
  },
  {
   "cell_type": "code",
   "execution_count": null,
   "metadata": {
    "collapsed": true
   },
   "outputs": [],
   "source": [
    "t = 'MDS-UPDRS #5: Leg Agility'\n",
    "s = 1038\n",
    "v = 0\n",
    "ref_Sens = ['anterior_thigh_', 'distal_lateral_shank_']\n",
    "\n",
    "fixIndividualRun(s,t,v,ref_Sens,start=.1,n=20,offset=200)"
   ]
  },
  {
   "cell_type": "code",
   "execution_count": null,
   "metadata": {
    "collapsed": true
   },
   "outputs": [],
   "source": [
    "t = 'MDS-UPDRS #5: Leg Agility'\n",
    "s = 1044\n",
    "v = 0\n",
    "ref_Sens = ['anterior_thigh_', 'distal_lateral_shank_']\n",
    "\n",
    "fixIndividualRun(s,t,v,ref_Sens,n=20,offset=200)"
   ]
  },
  {
   "cell_type": "code",
   "execution_count": null,
   "metadata": {
    "collapsed": true
   },
   "outputs": [],
   "source": [
    "t = 'MDS-UPDRS #5: Leg Agility'\n",
    "s = 1044\n",
    "v = 1\n",
    "ref_Sens = ['anterior_thigh_', 'distal_lateral_shank_']\n",
    "\n",
    "fixIndividualRun(s,t,v,ref_Sens,n=20,offset=100)"
   ]
  },
  {
   "cell_type": "code",
   "execution_count": null,
   "metadata": {
    "collapsed": true
   },
   "outputs": [],
   "source": [
    "t = 'MDS-UPDRS #5: Leg Agility'\n",
    "s = 1044\n",
    "v = 2\n",
    "ref_Sens = ['anterior_thigh_', 'distal_lateral_shank_']\n",
    "\n",
    "fixIndividualRun(s,t,v,ref_Sens,start=.1,n=20,offset=150)"
   ]
  },
  {
   "cell_type": "code",
   "execution_count": null,
   "metadata": {
    "collapsed": true
   },
   "outputs": [],
   "source": [
    "t = 'MDS-UPDRS #5: Leg Agility'\n",
    "s = 1046\n",
    "v = 0\n",
    "ref_Sens = ['anterior_thigh_', 'distal_lateral_shank_']\n",
    "\n",
    "fixIndividualRun(s,t,v,ref_Sens,start=.07,n=20,offset=200)"
   ]
  },
  {
   "cell_type": "code",
   "execution_count": null,
   "metadata": {
    "collapsed": true
   },
   "outputs": [],
   "source": [
    "t = 'MDS-UPDRS #5: Leg Agility'\n",
    "s = 1047\n",
    "v = 0\n",
    "ref_Sens = ['anterior_thigh_', 'distal_lateral_shank_']\n",
    "\n",
    "fixIndividualRun(s,t,v,ref_Sens,n=20,offset=200)"
   ]
  },
  {
   "cell_type": "code",
   "execution_count": null,
   "metadata": {
    "collapsed": true
   },
   "outputs": [],
   "source": [
    "t = 'MDS-UPDRS #5: Leg Agility'\n",
    "s = 1047\n",
    "v = 2\n",
    "ref_Sens = ['anterior_thigh_', 'distal_lateral_shank_']\n",
    "\n",
    "fixIndividualRun(s,t,v,ref_Sens,stop=.92,n=20,offset=100)"
   ]
  },
  {
   "cell_type": "code",
   "execution_count": null,
   "metadata": {
    "collapsed": true
   },
   "outputs": [],
   "source": [
    "t = 'MDS-UPDRS #5: Leg Agility'\n",
    "s = 1049\n",
    "v = 2\n",
    "ref_Sens = ['anterior_thigh_', 'distal_lateral_shank_']\n",
    "\n",
    "fixIndividualRun(s,t,v,ref_Sens,n=20,offset=200)"
   ]
  },
  {
   "cell_type": "code",
   "execution_count": null,
   "metadata": {
    "collapsed": true
   },
   "outputs": [],
   "source": [
    "t = 'MDS-UPDRS #5: Leg Agility'\n",
    "s = 1051\n",
    "v = 0\n",
    "ref_Sens = ['anterior_thigh_', 'distal_lateral_shank_']\n",
    "\n",
    "fixIndividualRun(s,t,v,ref_Sens,start=.07,stop=.93,n=20,offset=150)"
   ]
  },
  {
   "cell_type": "code",
   "execution_count": null,
   "metadata": {
    "collapsed": true
   },
   "outputs": [],
   "source": [
    "t = 'MDS-UPDRS #5: Leg Agility'\n",
    "s = 1052\n",
    "v = 0\n",
    "ref_Sens = ['anterior_thigh_', 'distal_lateral_shank_']\n",
    "\n",
    "fixIndividualRun(s,t,v,ref_Sens,n=20,offset=200)"
   ]
  },
  {
   "cell_type": "code",
   "execution_count": null,
   "metadata": {
    "collapsed": true
   },
   "outputs": [],
   "source": [
    "t = 'MDS-UPDRS #5: Leg Agility'\n",
    "s = 1052\n",
    "v = 1\n",
    "ref_Sens = ['anterior_thigh_', 'distal_lateral_shank_']\n",
    "\n",
    "fixIndividualRun(s,t,v,ref_Sens,n=20,offset=200)"
   ]
  },
  {
   "cell_type": "code",
   "execution_count": null,
   "metadata": {
    "collapsed": true
   },
   "outputs": [],
   "source": [
    "t = 'MDS-UPDRS #5: Leg Agility'\n",
    "s = 1053\n",
    "v = 1\n",
    "ref_Sens = ['anterior_thigh_', 'distal_lateral_shank_']\n",
    "\n",
    "fixIndividualRun(s,t,v,ref_Sens,n=20,offset=200)"
   ]
  },
  {
   "cell_type": "code",
   "execution_count": null,
   "metadata": {
    "collapsed": true
   },
   "outputs": [],
   "source": [
    "t = 'MDS-UPDRS #5: Leg Agility'\n",
    "s = 1054\n",
    "v = 1\n",
    "ref_Sens = ['anterior_thigh_', 'distal_lateral_shank_']\n",
    "\n",
    "fixIndividualRun(s,t,v,ref_Sens,start=.15,n=20,offset=200)"
   ]
  },
  {
   "cell_type": "code",
   "execution_count": null,
   "metadata": {
    "collapsed": true
   },
   "outputs": [],
   "source": [
    "t = 'MDS-UPDRS #5: Leg Agility'\n",
    "s = 1055\n",
    "v = 1\n",
    "ref_Sens = ['anterior_thigh_', 'distal_lateral_shank_']\n",
    "\n",
    "fixIndividualRun(s,t,v,ref_Sens,n=20,offset=200)"
   ]
  },
  {
   "cell_type": "markdown",
   "metadata": {},
   "source": [
    "## Upper Extremity Splits"
   ]
  },
  {
   "cell_type": "code",
   "execution_count": null,
   "metadata": {
    "collapsed": true
   },
   "outputs": [],
   "source": [
    "splitLeftRight(['MDS-UPDRS #1: Finger Tapping', 'MDS-UPDRS #2: Hand Movements', \n",
    "                'MDS-UPDRS #3: Pronation-Supination', 'MDS-UPDRS #10: Kinetic Hand Tremor'], \n",
    "               ['dorsal_hand_', 'flexor_digitorum_'], \n",
    "               full_dict)"
   ]
  },
  {
   "cell_type": "code",
   "execution_count": null,
   "metadata": {
    "collapsed": true
   },
   "outputs": [],
   "source": [
    "t = 'MDS-UPDRS #1: Finger Tapping'\n",
    "s = 1004\n",
    "v = 0\n",
    "ref_Sens = ['dorsal_hand_', 'flexor_digitorum_']\n",
    "\n",
    "fixIndividualRun(s,t,v,ref_Sens,n=30,offset=500)"
   ]
  },
  {
   "cell_type": "code",
   "execution_count": null,
   "metadata": {
    "collapsed": true
   },
   "outputs": [],
   "source": [
    "t = 'MDS-UPDRS #1: Finger Tapping'\n",
    "s = 1016\n",
    "v = 0\n",
    "ref_Sens = ['dorsal_hand_', 'flexor_digitorum_']\n",
    "\n",
    "fixIndividualRun(s,t,v,ref_Sens,n=30,offset=50)"
   ]
  },
  {
   "cell_type": "code",
   "execution_count": null,
   "metadata": {
    "collapsed": true
   },
   "outputs": [],
   "source": [
    "t = 'MDS-UPDRS #1: Finger Tapping'\n",
    "s = 1016\n",
    "v = 1\n",
    "ref_Sens = ['dorsal_hand_', 'flexor_digitorum_']\n",
    "\n",
    "fixIndividualRun(s,t,v,ref_Sens,n=30,offset=4750)"
   ]
  },
  {
   "cell_type": "code",
   "execution_count": null,
   "metadata": {
    "collapsed": true
   },
   "outputs": [],
   "source": [
    "t = 'MDS-UPDRS #1: Finger Tapping'\n",
    "s = 1016\n",
    "v = 2\n",
    "ref_Sens = ['dorsal_hand_', 'flexor_digitorum_']\n",
    "\n",
    "fixIndividualRun(s,t,v,ref_Sens,n=30,offset=300)"
   ]
  },
  {
   "cell_type": "code",
   "execution_count": null,
   "metadata": {
    "collapsed": true
   },
   "outputs": [],
   "source": [
    "t = 'MDS-UPDRS #1: Finger Tapping'\n",
    "s = 1018\n",
    "v = 0\n",
    "ref_Sens = ['dorsal_hand_', 'flexor_digitorum_']\n",
    "\n",
    "fixIndividualRun(s,t,v,ref_Sens,start=.1,n=30,offset=0)"
   ]
  },
  {
   "cell_type": "code",
   "execution_count": null,
   "metadata": {
    "collapsed": true,
    "scrolled": true
   },
   "outputs": [],
   "source": [
    "t = 'MDS-UPDRS #1: Finger Tapping'\n",
    "s = 1018\n",
    "v = 1\n",
    "ref_Sens = ['dorsal_hand_', 'flexor_digitorum_']\n",
    "\n",
    "fixIndividualRun(s,t,v,ref_Sens,start=.1,n=30,offset=0)"
   ]
  },
  {
   "cell_type": "code",
   "execution_count": null,
   "metadata": {
    "collapsed": true
   },
   "outputs": [],
   "source": [
    "t = 'MDS-UPDRS #1: Finger Tapping'\n",
    "s = 1019\n",
    "v = 0\n",
    "ref_Sens = ['dorsal_hand_', 'flexor_digitorum_']\n",
    "\n",
    "fixIndividualRun(s,t,v,ref_Sens,n=30,offset=1750)"
   ]
  },
  {
   "cell_type": "code",
   "execution_count": null,
   "metadata": {
    "collapsed": true
   },
   "outputs": [],
   "source": [
    "t = 'MDS-UPDRS #1: Finger Tapping'\n",
    "s = 1019\n",
    "v = 1\n",
    "ref_Sens = ['dorsal_hand_', 'flexor_digitorum_']\n",
    "\n",
    "fixIndividualRun(s,t,v,ref_Sens,n=20,drop=.3,offset=2500)"
   ]
  },
  {
   "cell_type": "code",
   "execution_count": null,
   "metadata": {
    "collapsed": true
   },
   "outputs": [],
   "source": [
    "t = 'MDS-UPDRS #1: Finger Tapping'\n",
    "s = 1019\n",
    "v = 2\n",
    "ref_Sens = ['dorsal_hand_', 'flexor_digitorum_']\n",
    "\n",
    "fixIndividualRun(s,t,v,ref_Sens,n=30,offset=0)"
   ]
  },
  {
   "cell_type": "code",
   "execution_count": null,
   "metadata": {
    "collapsed": true
   },
   "outputs": [],
   "source": [
    "t = 'MDS-UPDRS #1: Finger Tapping'\n",
    "s = 1020\n",
    "v = 0\n",
    "ref_Sens = ['dorsal_hand_', 'flexor_digitorum_']\n",
    "\n",
    "fixIndividualRun(s,t,v,ref_Sens,n=20,offset=250)"
   ]
  },
  {
   "cell_type": "code",
   "execution_count": null,
   "metadata": {
    "collapsed": true
   },
   "outputs": [],
   "source": [
    "t = 'MDS-UPDRS #1: Finger Tapping'\n",
    "s = 1020\n",
    "v = 1\n",
    "ref_Sens = ['dorsal_hand_', 'flexor_digitorum_']\n",
    "\n",
    "fixIndividualRun(s,t,v,ref_Sens,start=.1,n=30,offset=300)"
   ]
  },
  {
   "cell_type": "code",
   "execution_count": null,
   "metadata": {
    "collapsed": true
   },
   "outputs": [],
   "source": [
    "t = 'MDS-UPDRS #1: Finger Tapping'\n",
    "s = 1020\n",
    "v = 2\n",
    "ref_Sens = ['dorsal_hand_', 'flexor_digitorum_']\n",
    "\n",
    "fixIndividualRun(s,t,v,ref_Sens,n=30,offset=0)"
   ]
  },
  {
   "cell_type": "code",
   "execution_count": null,
   "metadata": {
    "collapsed": true
   },
   "outputs": [],
   "source": [
    "t = 'MDS-UPDRS #1: Finger Tapping'\n",
    "s = 1024\n",
    "v = 0\n",
    "ref_Sens = ['dorsal_hand_', 'flexor_digitorum_']\n",
    "\n",
    "fixIndividualRun(s,t,v,ref_Sens,start=.05,n=20,offset=2100)"
   ]
  },
  {
   "cell_type": "code",
   "execution_count": null,
   "metadata": {
    "collapsed": true
   },
   "outputs": [],
   "source": [
    "t = 'MDS-UPDRS #1: Finger Tapping'\n",
    "s = 1024\n",
    "v = 1\n",
    "ref_Sens = ['dorsal_hand_', 'flexor_digitorum_']\n",
    "\n",
    "fixIndividualRun(s,t,v,ref_Sens,start=.15,n=30,offset=1800)"
   ]
  },
  {
   "cell_type": "code",
   "execution_count": null,
   "metadata": {
    "collapsed": true
   },
   "outputs": [],
   "source": [
    "t = 'MDS-UPDRS #1: Finger Tapping'\n",
    "s = 1024\n",
    "v = 2\n",
    "ref_Sens = ['dorsal_hand_', 'flexor_digitorum_']\n",
    "\n",
    "fixIndividualRun(s,t,v,ref_Sens,n=30,offset=0)"
   ]
  },
  {
   "cell_type": "code",
   "execution_count": null,
   "metadata": {
    "collapsed": true
   },
   "outputs": [],
   "source": [
    "t = 'MDS-UPDRS #1: Finger Tapping'\n",
    "s = 1029\n",
    "v = 1\n",
    "ref_Sens = ['dorsal_hand_', 'flexor_digitorum_']\n",
    "\n",
    "fixIndividualRun(s,t,v,ref_Sens,start=0,n=20,offset=300)"
   ]
  },
  {
   "cell_type": "code",
   "execution_count": null,
   "metadata": {
    "collapsed": true
   },
   "outputs": [],
   "source": [
    "t = 'MDS-UPDRS #1: Finger Tapping'\n",
    "s = 1029\n",
    "v = 2\n",
    "ref_Sens = ['dorsal_hand_', 'flexor_digitorum_']\n",
    "\n",
    "fixIndividualRun(s,t,v,ref_Sens,n=30,offset=250)"
   ]
  },
  {
   "cell_type": "code",
   "execution_count": null,
   "metadata": {
    "collapsed": true
   },
   "outputs": [],
   "source": [
    "t = 'MDS-UPDRS #1: Finger Tapping'\n",
    "s = 1030\n",
    "v = 0\n",
    "ref_Sens = ['dorsal_hand_', 'flexor_digitorum_']\n",
    "\n",
    "fixIndividualRun(s,t,v,ref_Sens,start=.05,n=30,offset=250)"
   ]
  },
  {
   "cell_type": "code",
   "execution_count": null,
   "metadata": {
    "collapsed": true,
    "scrolled": true
   },
   "outputs": [],
   "source": [
    "t = 'MDS-UPDRS #1: Finger Tapping'\n",
    "s = 1030\n",
    "v = 1\n",
    "ref_Sens = ['dorsal_hand_', 'flexor_digitorum_']\n",
    "\n",
    "fixIndividualRun(s,t,v,ref_Sens,start=0,n=20,offset=0)"
   ]
  },
  {
   "cell_type": "code",
   "execution_count": null,
   "metadata": {
    "collapsed": true
   },
   "outputs": [],
   "source": [
    "t = 'MDS-UPDRS #1: Finger Tapping'\n",
    "s = 1030\n",
    "v = 2\n",
    "ref_Sens = ['dorsal_hand_', 'flexor_digitorum_']\n",
    "\n",
    "fixIndividualRun(s,t,v,ref_Sens,start=.05,n=30,offset=3000)"
   ]
  },
  {
   "cell_type": "code",
   "execution_count": null,
   "metadata": {
    "collapsed": true
   },
   "outputs": [],
   "source": [
    "t = 'MDS-UPDRS #1: Finger Tapping'\n",
    "s = 1032\n",
    "v = 0\n",
    "ref_Sens = ['dorsal_hand_', 'flexor_digitorum_']\n",
    "\n",
    "fixIndividualRun(s,t,v,ref_Sens,start=.05,n=30,offset=500)"
   ]
  },
  {
   "cell_type": "code",
   "execution_count": null,
   "metadata": {
    "collapsed": true
   },
   "outputs": [],
   "source": [
    "t = 'MDS-UPDRS #1: Finger Tapping'\n",
    "s = 1032\n",
    "v = 2\n",
    "ref_Sens = ['dorsal_hand_', 'flexor_digitorum_']\n",
    "\n",
    "fixIndividualRun(s,t,v,ref_Sens,start=.1,n=30,offset=250)"
   ]
  },
  {
   "cell_type": "code",
   "execution_count": null,
   "metadata": {
    "collapsed": true
   },
   "outputs": [],
   "source": [
    "t = 'MDS-UPDRS #1: Finger Tapping'\n",
    "s = 1038\n",
    "v = 0\n",
    "ref_Sens = ['dorsal_hand_', 'flexor_digitorum_']\n",
    "\n",
    "fixIndividualRun(s,t,v,ref_Sens,n=30,offset=250)"
   ]
  },
  {
   "cell_type": "code",
   "execution_count": null,
   "metadata": {
    "collapsed": true
   },
   "outputs": [],
   "source": [
    "t = 'MDS-UPDRS #1: Finger Tapping'\n",
    "s = 1038\n",
    "v = 1\n",
    "ref_Sens = ['dorsal_hand_', 'flexor_digitorum_']\n",
    "\n",
    "fixIndividualRun(s,t,v,ref_Sens,start=.1,n=30,offset=500)"
   ]
  },
  {
   "cell_type": "code",
   "execution_count": null,
   "metadata": {
    "collapsed": true
   },
   "outputs": [],
   "source": [
    "t = 'MDS-UPDRS #1: Finger Tapping'\n",
    "s = 1038\n",
    "v = 2\n",
    "ref_Sens = ['dorsal_hand_', 'flexor_digitorum_']\n",
    "\n",
    "fixIndividualRun(s,t,v,ref_Sens,n=20,offset=500)"
   ]
  },
  {
   "cell_type": "code",
   "execution_count": null,
   "metadata": {
    "collapsed": true
   },
   "outputs": [],
   "source": [
    "t = 'MDS-UPDRS #1: Finger Tapping'\n",
    "s = 1044\n",
    "v = 0\n",
    "ref_Sens = ['dorsal_hand_', 'flexor_digitorum_']\n",
    "\n",
    "fixIndividualRun(s,t,v,ref_Sens,start=.05,n=30,offset=750)"
   ]
  },
  {
   "cell_type": "code",
   "execution_count": null,
   "metadata": {
    "collapsed": true
   },
   "outputs": [],
   "source": [
    "t = 'MDS-UPDRS #1: Finger Tapping'\n",
    "s = 1044\n",
    "v = 1\n",
    "ref_Sens = ['dorsal_hand_', 'flexor_digitorum_']\n",
    "\n",
    "fixIndividualRun(s,t,v,ref_Sens,start=.05,n=30,offset=3750)"
   ]
  },
  {
   "cell_type": "code",
   "execution_count": null,
   "metadata": {
    "collapsed": true
   },
   "outputs": [],
   "source": [
    "t = 'MDS-UPDRS #1: Finger Tapping'\n",
    "s = 1044\n",
    "v = 2\n",
    "ref_Sens = ['dorsal_hand_', 'flexor_digitorum_']\n",
    "\n",
    "fixIndividualRun(s,t,v,ref_Sens,start=0.15,n=20,offset=1300)"
   ]
  },
  {
   "cell_type": "code",
   "execution_count": null,
   "metadata": {
    "collapsed": true
   },
   "outputs": [],
   "source": [
    "t = 'MDS-UPDRS #1: Finger Tapping'\n",
    "s = 1046\n",
    "v = 0\n",
    "ref_Sens = ['dorsal_hand_', 'flexor_digitorum_']\n",
    "\n",
    "fixIndividualRun(s,t,v,ref_Sens,start=.1,n=30,offset=750)"
   ]
  },
  {
   "cell_type": "code",
   "execution_count": null,
   "metadata": {
    "collapsed": true
   },
   "outputs": [],
   "source": [
    "t = 'MDS-UPDRS #1: Finger Tapping'\n",
    "s = 1046\n",
    "v = 1\n",
    "ref_Sens = ['dorsal_hand_', 'flexor_digitorum_']\n",
    "\n",
    "fixIndividualRun(s,t,v,ref_Sens,start=.1,n=30,offset=250)"
   ]
  },
  {
   "cell_type": "code",
   "execution_count": null,
   "metadata": {
    "collapsed": true
   },
   "outputs": [],
   "source": [
    "t = 'MDS-UPDRS #1: Finger Tapping'\n",
    "s = 1046\n",
    "v = 2\n",
    "ref_Sens = ['dorsal_hand_', 'flexor_digitorum_']\n",
    "\n",
    "fixIndividualRun(s,t,v,ref_Sens,n=30,offset=750)"
   ]
  },
  {
   "cell_type": "code",
   "execution_count": null,
   "metadata": {
    "collapsed": true
   },
   "outputs": [],
   "source": [
    "t = 'MDS-UPDRS #1: Finger Tapping'\n",
    "s = 1047\n",
    "v = 2\n",
    "ref_Sens = ['dorsal_hand_', 'flexor_digitorum_']\n",
    "\n",
    "fixIndividualRun(s,t,v,ref_Sens,start=0,n=30,offset=250)"
   ]
  },
  {
   "cell_type": "code",
   "execution_count": null,
   "metadata": {
    "collapsed": true
   },
   "outputs": [],
   "source": [
    "t = 'MDS-UPDRS #1: Finger Tapping'\n",
    "s = 1049\n",
    "v = 0\n",
    "ref_Sens = ['dorsal_hand_', 'flexor_digitorum_']\n",
    "\n",
    "fixIndividualRun(s,t,v,ref_Sens,start=.05,n=30,offset=4750)"
   ]
  },
  {
   "cell_type": "code",
   "execution_count": null,
   "metadata": {
    "collapsed": true
   },
   "outputs": [],
   "source": [
    "t = 'MDS-UPDRS #1: Finger Tapping'\n",
    "s = 1049\n",
    "v = 1\n",
    "ref_Sens = ['dorsal_hand_', 'flexor_digitorum_']\n",
    "\n",
    "fixIndividualRun(s,t,v,ref_Sens,start=0.05,n=20,offset=200)"
   ]
  },
  {
   "cell_type": "code",
   "execution_count": null,
   "metadata": {
    "collapsed": true
   },
   "outputs": [],
   "source": [
    "t = 'MDS-UPDRS #1: Finger Tapping'\n",
    "s = 1049\n",
    "v = 2\n",
    "ref_Sens = ['dorsal_hand_', 'flexor_digitorum_']\n",
    "\n",
    "fixIndividualRun(s,t,v,ref_Sens,start=.05,n=30,offset=1250)"
   ]
  },
  {
   "cell_type": "code",
   "execution_count": null,
   "metadata": {
    "collapsed": true
   },
   "outputs": [],
   "source": [
    "t = 'MDS-UPDRS #1: Finger Tapping'\n",
    "s = 1051\n",
    "v = 2\n",
    "ref_Sens = ['dorsal_hand_', 'flexor_digitorum_']\n",
    "\n",
    "fixIndividualRun(s,t,v,ref_Sens,n=30,offset=250)"
   ]
  },
  {
   "cell_type": "code",
   "execution_count": null,
   "metadata": {
    "collapsed": true
   },
   "outputs": [],
   "source": [
    "t = 'MDS-UPDRS #1: Finger Tapping'\n",
    "s = 1052\n",
    "v = 0\n",
    "ref_Sens = ['dorsal_hand_', 'flexor_digitorum_']\n",
    "\n",
    "fixIndividualRun(s,t,v,ref_Sens,start=.1,n=30,offset=750)"
   ]
  },
  {
   "cell_type": "code",
   "execution_count": null,
   "metadata": {
    "collapsed": true
   },
   "outputs": [],
   "source": [
    "t = 'MDS-UPDRS #1: Finger Tapping'\n",
    "s = 1052\n",
    "v = 1\n",
    "ref_Sens = ['dorsal_hand_', 'flexor_digitorum_']\n",
    "\n",
    "fixIndividualRun(s,t,v,ref_Sens,start=0.12,n=20,offset=1500)"
   ]
  },
  {
   "cell_type": "code",
   "execution_count": null,
   "metadata": {
    "collapsed": true
   },
   "outputs": [],
   "source": [
    "t = 'MDS-UPDRS #1: Finger Tapping'\n",
    "s = 1053\n",
    "v = 0\n",
    "ref_Sens = ['dorsal_hand_', 'flexor_digitorum_']\n",
    "\n",
    "fixIndividualRun(s,t,v,ref_Sens,start=.1,n=30,offset=1000)"
   ]
  },
  {
   "cell_type": "code",
   "execution_count": null,
   "metadata": {
    "collapsed": true
   },
   "outputs": [],
   "source": [
    "t = 'MDS-UPDRS #1: Finger Tapping'\n",
    "s = 1053\n",
    "v = 1\n",
    "ref_Sens = ['dorsal_hand_', 'flexor_digitorum_']\n",
    "\n",
    "fixIndividualRun(s,t,v,ref_Sens,start=.25,n=30,offset=750)"
   ]
  },
  {
   "cell_type": "code",
   "execution_count": null,
   "metadata": {
    "collapsed": true
   },
   "outputs": [],
   "source": [
    "t = 'MDS-UPDRS #1: Finger Tapping'\n",
    "s = 1054\n",
    "v = 0\n",
    "ref_Sens = ['dorsal_hand_', 'flexor_digitorum_']\n",
    "\n",
    "fixIndividualRun(s,t,v,ref_Sens,start=0.02,n=20,offset=3000)"
   ]
  },
  {
   "cell_type": "code",
   "execution_count": null,
   "metadata": {
    "collapsed": true
   },
   "outputs": [],
   "source": [
    "t = 'MDS-UPDRS #1: Finger Tapping'\n",
    "s = 1054\n",
    "v = 1\n",
    "ref_Sens = ['dorsal_hand_', 'flexor_digitorum_']\n",
    "\n",
    "fixIndividualRun(s,t,v,ref_Sens,start=.05,stop=.95,n=30,offset=750)"
   ]
  },
  {
   "cell_type": "code",
   "execution_count": null,
   "metadata": {
    "collapsed": true
   },
   "outputs": [],
   "source": [
    "t = 'MDS-UPDRS #1: Finger Tapping'\n",
    "s = 1055\n",
    "v = 0\n",
    "ref_Sens = ['dorsal_hand_', 'flexor_digitorum_']\n",
    "\n",
    "fixIndividualRun(s,t,v,ref_Sens,n=30,offset=250)"
   ]
  },
  {
   "cell_type": "code",
   "execution_count": null,
   "metadata": {
    "collapsed": true
   },
   "outputs": [],
   "source": [
    "t = 'MDS-UPDRS #1: Finger Tapping'\n",
    "s = 1055\n",
    "v = 1\n",
    "ref_Sens = ['dorsal_hand_', 'flexor_digitorum_']\n",
    "\n",
    "fixIndividualRun(s,t,v,ref_Sens,start=.15,n=30,offset=750)"
   ]
  },
  {
   "cell_type": "code",
   "execution_count": null,
   "metadata": {
    "collapsed": true
   },
   "outputs": [],
   "source": [
    "t = 'MDS-UPDRS #1: Finger Tapping'\n",
    "s = 1056\n",
    "v = 0\n",
    "ref_Sens = ['dorsal_hand_', 'flexor_digitorum_']\n",
    "\n",
    "fixIndividualRun(s,t,v,ref_Sens,start=0.05,n=20,offset=250)"
   ]
  },
  {
   "cell_type": "code",
   "execution_count": null,
   "metadata": {
    "collapsed": true
   },
   "outputs": [],
   "source": [
    "t = 'MDS-UPDRS #1: Finger Tapping'\n",
    "s = 1056\n",
    "v = 0\n",
    "ref_Sens = ['dorsal_hand_', 'flexor_digitorum_']\n",
    "\n",
    "fixIndividualRun(s,t,v,ref_Sens,start=.05,n=30,offset=2500)"
   ]
  },
  {
   "cell_type": "code",
   "execution_count": null,
   "metadata": {
    "collapsed": true
   },
   "outputs": [],
   "source": [
    "t = 'MDS-UPDRS #2: Hand Movements'\n",
    "s = 1016\n",
    "v = 2\n",
    "ref_Sens = ['dorsal_hand_', 'flexor_digitorum_']\n",
    "\n",
    "fixIndividualRun(s,t,v,ref_Sens,n=30,offset=250)"
   ]
  },
  {
   "cell_type": "code",
   "execution_count": null,
   "metadata": {
    "collapsed": true
   },
   "outputs": [],
   "source": [
    "t = 'MDS-UPDRS #2: Hand Movements'\n",
    "s = 1018\n",
    "v = 0\n",
    "ref_Sens = ['dorsal_hand_', 'flexor_digitorum_']\n",
    "\n",
    "fixIndividualRun(s,t,v,ref_Sens,start=.1,n=30,offset=500)"
   ]
  },
  {
   "cell_type": "code",
   "execution_count": null,
   "metadata": {
    "collapsed": true
   },
   "outputs": [],
   "source": [
    "t = 'MDS-UPDRS #2: Hand Movements'\n",
    "s = 1019\n",
    "v = 0\n",
    "ref_Sens = ['dorsal_hand_', 'flexor_digitorum_']\n",
    "\n",
    "fixIndividualRun(s,t,v,ref_Sens,start=0.02,n=20,offset=200)"
   ]
  },
  {
   "cell_type": "code",
   "execution_count": null,
   "metadata": {
    "collapsed": true
   },
   "outputs": [],
   "source": [
    "t = 'MDS-UPDRS #2: Hand Movements'\n",
    "s = 1019\n",
    "v = 1\n",
    "ref_Sens = ['dorsal_hand_', 'flexor_digitorum_']\n",
    "\n",
    "fixIndividualRun(s,t,v,ref_Sens,start=0,n=20,offset=1250)"
   ]
  },
  {
   "cell_type": "code",
   "execution_count": null,
   "metadata": {
    "collapsed": true
   },
   "outputs": [],
   "source": [
    "t = 'MDS-UPDRS #2: Hand Movements'\n",
    "s = 1020\n",
    "v = 2\n",
    "ref_Sens = ['dorsal_hand_', 'flexor_digitorum_']\n",
    "\n",
    "fixIndividualRun(s,t,v,ref_Sens,n=30,offset=0)"
   ]
  },
  {
   "cell_type": "code",
   "execution_count": null,
   "metadata": {
    "collapsed": true
   },
   "outputs": [],
   "source": [
    "t = 'MDS-UPDRS #2: Hand Movements'\n",
    "s = 1024\n",
    "v = 0\n",
    "ref_Sens = ['dorsal_hand_', 'flexor_digitorum_']\n",
    "\n",
    "fixIndividualRun(s,t,v,ref_Sens,n=30,offset=0)"
   ]
  },
  {
   "cell_type": "code",
   "execution_count": null,
   "metadata": {
    "collapsed": true
   },
   "outputs": [],
   "source": [
    "t = 'MDS-UPDRS #2: Hand Movements'\n",
    "s = 1024\n",
    "v = 1\n",
    "ref_Sens = ['dorsal_hand_', 'flexor_digitorum_']\n",
    "\n",
    "fixIndividualRun(s,t,v,ref_Sens,start=.1,n=30,offset=250)"
   ]
  },
  {
   "cell_type": "code",
   "execution_count": null,
   "metadata": {
    "collapsed": true
   },
   "outputs": [],
   "source": [
    "t = 'MDS-UPDRS #2: Hand Movements'\n",
    "s = 1024\n",
    "v = 2\n",
    "ref_Sens = ['dorsal_hand_', 'flexor_digitorum_']\n",
    "\n",
    "fixIndividualRun(s,t,v,ref_Sens,start=0.05,n=20,offset=0)"
   ]
  },
  {
   "cell_type": "code",
   "execution_count": null,
   "metadata": {
    "collapsed": true
   },
   "outputs": [],
   "source": [
    "t = 'MDS-UPDRS #2: Hand Movements'\n",
    "s = 1029\n",
    "v = 0\n",
    "ref_Sens = ['dorsal_hand_', 'flexor_digitorum_']\n",
    "\n",
    "fixIndividualRun(s,t,v,ref_Sens,start=0,n=20,offset=200)"
   ]
  },
  {
   "cell_type": "code",
   "execution_count": null,
   "metadata": {
    "collapsed": true
   },
   "outputs": [],
   "source": [
    "t = 'MDS-UPDRS #2: Hand Movements'\n",
    "s = 1029\n",
    "v = 1\n",
    "ref_Sens = ['dorsal_hand_', 'flexor_digitorum_']\n",
    "\n",
    "fixIndividualRun(s,t,v,ref_Sens,n=30,offset=500)"
   ]
  },
  {
   "cell_type": "code",
   "execution_count": null,
   "metadata": {
    "collapsed": true
   },
   "outputs": [],
   "source": [
    "t = 'MDS-UPDRS #2: Hand Movements'\n",
    "s = 1030\n",
    "v = 0\n",
    "ref_Sens = ['dorsal_hand_', 'flexor_digitorum_']\n",
    "\n",
    "fixIndividualRun(s,t,v,ref_Sens,start=0.2,n=20,offset=100)"
   ]
  },
  {
   "cell_type": "code",
   "execution_count": null,
   "metadata": {
    "collapsed": true
   },
   "outputs": [],
   "source": [
    "t = 'MDS-UPDRS #2: Hand Movements'\n",
    "s = 1030\n",
    "v = 1\n",
    "ref_Sens = ['dorsal_hand_', 'flexor_digitorum_']\n",
    "\n",
    "fixIndividualRun(s,t,v,ref_Sens,start=0.05,n=20,offset=200)"
   ]
  },
  {
   "cell_type": "code",
   "execution_count": null,
   "metadata": {
    "collapsed": true
   },
   "outputs": [],
   "source": [
    "t = 'MDS-UPDRS #2: Hand Movements'\n",
    "s = 1032\n",
    "v = 0\n",
    "ref_Sens = ['dorsal_hand_', 'flexor_digitorum_']\n",
    "\n",
    "fixIndividualRun(s,t,v,ref_Sens,n=30,offset=0)"
   ]
  },
  {
   "cell_type": "code",
   "execution_count": null,
   "metadata": {
    "collapsed": true
   },
   "outputs": [],
   "source": [
    "t = 'MDS-UPDRS #2: Hand Movements'\n",
    "s = 1038\n",
    "v = 0\n",
    "ref_Sens = ['dorsal_hand_', 'flexor_digitorum_']\n",
    "\n",
    "fixIndividualRun(s,t,v,ref_Sens,n=30,offset=500)"
   ]
  },
  {
   "cell_type": "code",
   "execution_count": null,
   "metadata": {
    "collapsed": true
   },
   "outputs": [],
   "source": [
    "t = 'MDS-UPDRS #2: Hand Movements'\n",
    "s = 1038\n",
    "v = 1\n",
    "ref_Sens = ['dorsal_hand_', 'flexor_digitorum_']\n",
    "\n",
    "fixIndividualRun(s,t,v,ref_Sens,start=.1,n=30,offset=500)"
   ]
  },
  {
   "cell_type": "code",
   "execution_count": null,
   "metadata": {
    "collapsed": true
   },
   "outputs": [],
   "source": [
    "t = 'MDS-UPDRS #2: Hand Movements'\n",
    "s = 1038\n",
    "v = 2\n",
    "ref_Sens = ['dorsal_hand_', 'flexor_digitorum_']\n",
    "\n",
    "fixIndividualRun(s,t,v,ref_Sens,n=30,offset=250)"
   ]
  },
  {
   "cell_type": "code",
   "execution_count": null,
   "metadata": {
    "collapsed": true
   },
   "outputs": [],
   "source": [
    "t = 'MDS-UPDRS #2: Hand Movements'\n",
    "s = 1044\n",
    "v = 0\n",
    "ref_Sens = ['dorsal_hand_', 'flexor_digitorum_']\n",
    "\n",
    "fixIndividualRun(s,t,v,ref_Sens,n=30,offset=300)"
   ]
  },
  {
   "cell_type": "code",
   "execution_count": null,
   "metadata": {
    "collapsed": true,
    "scrolled": true
   },
   "outputs": [],
   "source": [
    "t = 'MDS-UPDRS #2: Hand Movements'\n",
    "s = 1044\n",
    "v = 2\n",
    "ref_Sens = ['dorsal_hand_', 'flexor_digitorum_']\n",
    "\n",
    "fixIndividualRun(s,t,v,ref_Sens,n=30,offset=500)"
   ]
  },
  {
   "cell_type": "code",
   "execution_count": null,
   "metadata": {
    "collapsed": true
   },
   "outputs": [],
   "source": [
    "t = 'MDS-UPDRS #2: Hand Movements'\n",
    "s = 1046\n",
    "v = 2\n",
    "ref_Sens = ['dorsal_hand_', 'flexor_digitorum_']\n",
    "\n",
    "fixIndividualRun(s,t,v,ref_Sens,n=30,offset=250)"
   ]
  },
  {
   "cell_type": "code",
   "execution_count": null,
   "metadata": {
    "collapsed": true
   },
   "outputs": [],
   "source": [
    "t = 'MDS-UPDRS #2: Hand Movements'\n",
    "s = 1047\n",
    "v = 2\n",
    "ref_Sens = ['dorsal_hand_', 'flexor_digitorum_']\n",
    "\n",
    "fixIndividualRun(s,t,v,ref_Sens,n=30,offset=0)"
   ]
  },
  {
   "cell_type": "code",
   "execution_count": null,
   "metadata": {
    "collapsed": true
   },
   "outputs": [],
   "source": [
    "t = 'MDS-UPDRS #2: Hand Movements'\n",
    "s = 1049\n",
    "v = 0\n",
    "ref_Sens = ['dorsal_hand_', 'flexor_digitorum_']\n",
    "\n",
    "fixIndividualRun(s,t,v,ref_Sens,start=.05,n=30,offset=5000)"
   ]
  },
  {
   "cell_type": "code",
   "execution_count": null,
   "metadata": {
    "collapsed": true
   },
   "outputs": [],
   "source": [
    "t = 'MDS-UPDRS #2: Hand Movements'\n",
    "s = 1049\n",
    "v = 1\n",
    "ref_Sens = ['dorsal_hand_', 'flexor_digitorum_']\n",
    "\n",
    "fixIndividualRun(s,t,v,ref_Sens,n=30,offset=1000)"
   ]
  },
  {
   "cell_type": "code",
   "execution_count": null,
   "metadata": {
    "collapsed": true
   },
   "outputs": [],
   "source": [
    "t = 'MDS-UPDRS #2: Hand Movements'\n",
    "s = 1049\n",
    "v = 2\n",
    "ref_Sens = ['dorsal_hand_', 'flexor_digitorum_']\n",
    "\n",
    "fixIndividualRun(s,t,v,ref_Sens,n=30,offset=500)"
   ]
  },
  {
   "cell_type": "code",
   "execution_count": null,
   "metadata": {
    "collapsed": true
   },
   "outputs": [],
   "source": [
    "t = 'MDS-UPDRS #2: Hand Movements'\n",
    "s = 1051\n",
    "v = 1\n",
    "ref_Sens = ['dorsal_hand_', 'flexor_digitorum_']\n",
    "\n",
    "fixIndividualRun(s,t,v,ref_Sens,start=0,n=20,offset=200)"
   ]
  },
  {
   "cell_type": "code",
   "execution_count": null,
   "metadata": {
    "collapsed": true
   },
   "outputs": [],
   "source": [
    "t = 'MDS-UPDRS #2: Hand Movements'\n",
    "s = 1051\n",
    "v = 2\n",
    "ref_Sens = ['dorsal_hand_', 'flexor_digitorum_']\n",
    "\n",
    "fixIndividualRun(s,t,v,ref_Sens,n=30,offset=500)"
   ]
  },
  {
   "cell_type": "code",
   "execution_count": null,
   "metadata": {
    "collapsed": true
   },
   "outputs": [],
   "source": [
    "t = 'MDS-UPDRS #2: Hand Movements'\n",
    "s = 1052\n",
    "v = 0\n",
    "ref_Sens = ['dorsal_hand_', 'flexor_digitorum_']\n",
    "\n",
    "fixIndividualRun(s,t,v,ref_Sens,n=30,offset=500)"
   ]
  },
  {
   "cell_type": "code",
   "execution_count": null,
   "metadata": {
    "collapsed": true
   },
   "outputs": [],
   "source": [
    "t = 'MDS-UPDRS #2: Hand Movements'\n",
    "s = 1052\n",
    "v = 1\n",
    "ref_Sens = ['dorsal_hand_', 'flexor_digitorum_']\n",
    "\n",
    "fixIndividualRun(s,t,v,ref_Sens,n=30,offset=500)"
   ]
  },
  {
   "cell_type": "code",
   "execution_count": null,
   "metadata": {
    "collapsed": true
   },
   "outputs": [],
   "source": [
    "t = 'MDS-UPDRS #2: Hand Movements'\n",
    "s = 1053\n",
    "v = 1\n",
    "ref_Sens = ['dorsal_hand_', 'flexor_digitorum_']\n",
    "\n",
    "fixIndividualRun(s,t,v,ref_Sens,n=30,offset=0)"
   ]
  },
  {
   "cell_type": "code",
   "execution_count": null,
   "metadata": {
    "collapsed": true
   },
   "outputs": [],
   "source": [
    "t = 'MDS-UPDRS #2: Hand Movements'\n",
    "s = 1054\n",
    "v = 0\n",
    "ref_Sens = ['dorsal_hand_', 'flexor_digitorum_']\n",
    "\n",
    "fixIndividualRun(s,t,v,ref_Sens,start=0.1,n=20,offset=2200)"
   ]
  },
  {
   "cell_type": "code",
   "execution_count": null,
   "metadata": {
    "collapsed": true
   },
   "outputs": [],
   "source": [
    "t = 'MDS-UPDRS #2: Hand Movements'\n",
    "s = 1055\n",
    "v = 1\n",
    "ref_Sens = ['dorsal_hand_', 'flexor_digitorum_']\n",
    "\n",
    "fixIndividualRun(s,t,v,ref_Sens,start=.05,n=30,offset=500)"
   ]
  },
  {
   "cell_type": "code",
   "execution_count": null,
   "metadata": {
    "collapsed": true
   },
   "outputs": [],
   "source": [
    "t = 'MDS-UPDRS #2: Hand Movements'\n",
    "s = 1056\n",
    "v = 0\n",
    "ref_Sens = ['dorsal_hand_', 'flexor_digitorum_']\n",
    "\n",
    "fixIndividualRun(s,t,v,ref_Sens,start=0,n=20,offset=200)"
   ]
  },
  {
   "cell_type": "code",
   "execution_count": null,
   "metadata": {
    "collapsed": true
   },
   "outputs": [],
   "source": [
    "t = 'MDS-UPDRS #2: Hand Movements'\n",
    "s = 1056\n",
    "v = 1\n",
    "ref_Sens = ['dorsal_hand_', 'flexor_digitorum_']\n",
    "\n",
    "fixIndividualRun(s,t,v,ref_Sens,n=30,offset=500)"
   ]
  },
  {
   "cell_type": "code",
   "execution_count": null,
   "metadata": {
    "collapsed": true
   },
   "outputs": [],
   "source": [
    "t = 'MDS-UPDRS #3: Pronation-Supination'\n",
    "s = 1004\n",
    "v = 1\n",
    "ref_Sens = ['dorsal_hand_', 'flexor_digitorum_']\n",
    "\n",
    "fixIndividualRun(s,t,v,ref_Sens,start=.1,n=30,offset=500)"
   ]
  },
  {
   "cell_type": "code",
   "execution_count": null,
   "metadata": {
    "collapsed": true
   },
   "outputs": [],
   "source": [
    "t = 'MDS-UPDRS #3: Pronation-Supination'\n",
    "s = 1004\n",
    "v = 2\n",
    "ref_Sens = ['dorsal_hand_', 'flexor_digitorum_']\n",
    "\n",
    "fixIndividualRun(s,t,v,ref_Sens,n=30,offset=500)"
   ]
  },
  {
   "cell_type": "code",
   "execution_count": null,
   "metadata": {
    "collapsed": true
   },
   "outputs": [],
   "source": [
    "t = 'MDS-UPDRS #3: Pronation-Supination'\n",
    "s = 1016\n",
    "v = 0\n",
    "ref_Sens = ['dorsal_hand_', 'flexor_digitorum_']\n",
    "\n",
    "fixIndividualRun(s,t,v,ref_Sens,n=30,offset=0)"
   ]
  },
  {
   "cell_type": "code",
   "execution_count": null,
   "metadata": {
    "collapsed": true
   },
   "outputs": [],
   "source": [
    "t = 'MDS-UPDRS #3: Pronation-Supination'\n",
    "s = 1016\n",
    "v = 2\n",
    "ref_Sens = ['dorsal_hand_', 'flexor_digitorum_']\n",
    "\n",
    "fixIndividualRun(s,t,v,ref_Sens,n=30,offset=500)"
   ]
  },
  {
   "cell_type": "code",
   "execution_count": null,
   "metadata": {
    "collapsed": true
   },
   "outputs": [],
   "source": [
    "t = 'MDS-UPDRS #3: Pronation-Supination'\n",
    "s = 1018\n",
    "v = 0\n",
    "ref_Sens = ['dorsal_hand_', 'flexor_digitorum_']\n",
    "\n",
    "fixIndividualRun(s,t,v,ref_Sens,n=30,offset=0)"
   ]
  },
  {
   "cell_type": "code",
   "execution_count": null,
   "metadata": {
    "collapsed": true
   },
   "outputs": [],
   "source": [
    "t = 'MDS-UPDRS #3: Pronation-Supination'\n",
    "s = 1019\n",
    "v = 0\n",
    "ref_Sens = ['dorsal_hand_', 'flexor_digitorum_']\n",
    "\n",
    "fixIndividualRun(s,t,v,ref_Sens,n=30,offset=250)"
   ]
  },
  {
   "cell_type": "code",
   "execution_count": null,
   "metadata": {
    "collapsed": true
   },
   "outputs": [],
   "source": [
    "t = 'MDS-UPDRS #3: Pronation-Supination'\n",
    "s = 1029\n",
    "v = 0\n",
    "ref_Sens = ['dorsal_hand_', 'flexor_digitorum_']\n",
    "\n",
    "fixIndividualRun(s,t,v,ref_Sens,n=30,offset=500)"
   ]
  },
  {
   "cell_type": "code",
   "execution_count": null,
   "metadata": {
    "collapsed": true
   },
   "outputs": [],
   "source": [
    "t = 'MDS-UPDRS #3: Pronation-Supination'\n",
    "s = 1029\n",
    "v = 1\n",
    "ref_Sens = ['dorsal_hand_', 'flexor_digitorum_']\n",
    "\n",
    "fixIndividualRun(s,t,v,ref_Sens,start=.1,n=30,offset=250)"
   ]
  },
  {
   "cell_type": "code",
   "execution_count": null,
   "metadata": {
    "collapsed": true
   },
   "outputs": [],
   "source": [
    "t = 'MDS-UPDRS #3: Pronation-Supination'\n",
    "s = 1030\n",
    "v = 0\n",
    "ref_Sens = ['dorsal_hand_', 'flexor_digitorum_']\n",
    "\n",
    "fixIndividualRun(s,t,v,ref_Sens,start=.15,n=30,offset=0)"
   ]
  },
  {
   "cell_type": "code",
   "execution_count": null,
   "metadata": {
    "collapsed": true
   },
   "outputs": [],
   "source": [
    "t = 'MDS-UPDRS #3: Pronation-Supination'\n",
    "s = 1032\n",
    "v = 0\n",
    "ref_Sens = ['dorsal_hand_', 'flexor_digitorum_']\n",
    "\n",
    "fixIndividualRun(s,t,v,ref_Sens,n=30,offset=500)"
   ]
  },
  {
   "cell_type": "code",
   "execution_count": null,
   "metadata": {
    "collapsed": true
   },
   "outputs": [],
   "source": [
    "t = 'MDS-UPDRS #3: Pronation-Supination'\n",
    "s = 1032\n",
    "v = 2\n",
    "ref_Sens = ['dorsal_hand_', 'flexor_digitorum_']\n",
    "\n",
    "fixIndividualRun(s,t,v,ref_Sens,n=30,offset=500)"
   ]
  },
  {
   "cell_type": "code",
   "execution_count": null,
   "metadata": {
    "collapsed": true
   },
   "outputs": [],
   "source": [
    "t = 'MDS-UPDRS #3: Pronation-Supination'\n",
    "s = 1038\n",
    "v = 0\n",
    "ref_Sens = ['dorsal_hand_', 'flexor_digitorum_']\n",
    "\n",
    "fixIndividualRun(s,t,v,ref_Sens,n=30,offset=500)"
   ]
  },
  {
   "cell_type": "code",
   "execution_count": null,
   "metadata": {
    "collapsed": true
   },
   "outputs": [],
   "source": [
    "t = 'MDS-UPDRS #3: Pronation-Supination'\n",
    "s = 1038\n",
    "v = 1\n",
    "ref_Sens = ['dorsal_hand_', 'flexor_digitorum_']\n",
    "\n",
    "fixIndividualRun(s,t,v,ref_Sens,n=30,offset=500)"
   ]
  },
  {
   "cell_type": "code",
   "execution_count": null,
   "metadata": {
    "collapsed": true
   },
   "outputs": [],
   "source": [
    "t = 'MDS-UPDRS #3: Pronation-Supination'\n",
    "s = 1044\n",
    "v = 0\n",
    "ref_Sens = ['dorsal_hand_', 'flexor_digitorum_']\n",
    "\n",
    "fixIndividualRun(s,t,v,ref_Sens,n=30,offset=500)"
   ]
  },
  {
   "cell_type": "code",
   "execution_count": null,
   "metadata": {
    "collapsed": true
   },
   "outputs": [],
   "source": [
    "t = 'MDS-UPDRS #3: Pronation-Supination'\n",
    "s = 1044\n",
    "v = 1\n",
    "ref_Sens = ['dorsal_hand_', 'flexor_digitorum_']\n",
    "\n",
    "fixIndividualRun(s,t,v,ref_Sens,n=30,offset=500)"
   ]
  },
  {
   "cell_type": "code",
   "execution_count": null,
   "metadata": {
    "collapsed": true
   },
   "outputs": [],
   "source": [
    "t = 'MDS-UPDRS #3: Pronation-Supination'\n",
    "s = 1044\n",
    "v = 2\n",
    "ref_Sens = ['dorsal_hand_', 'flexor_digitorum_']\n",
    "\n",
    "fixIndividualRun(s,t,v,ref_Sens,n=30,offset=500)"
   ]
  },
  {
   "cell_type": "code",
   "execution_count": null,
   "metadata": {
    "collapsed": true
   },
   "outputs": [],
   "source": [
    "t = 'MDS-UPDRS #3: Pronation-Supination'\n",
    "s = 1046\n",
    "v = 0\n",
    "ref_Sens = ['dorsal_hand_', 'flexor_digitorum_']\n",
    "\n",
    "fixIndividualRun(s,t,v,ref_Sens,start=0,n=20,offset=400)"
   ]
  },
  {
   "cell_type": "code",
   "execution_count": null,
   "metadata": {
    "collapsed": true
   },
   "outputs": [],
   "source": [
    "t = 'MDS-UPDRS #3: Pronation-Supination'\n",
    "s = 1046\n",
    "v = 1\n",
    "ref_Sens = ['dorsal_hand_', 'flexor_digitorum_']\n",
    "\n",
    "fixIndividualRun(s,t,v,ref_Sens,n=30,offset=500)"
   ]
  },
  {
   "cell_type": "code",
   "execution_count": null,
   "metadata": {
    "collapsed": true
   },
   "outputs": [],
   "source": [
    "t = 'MDS-UPDRS #3: Pronation-Supination'\n",
    "s = 1049\n",
    "v = 0\n",
    "ref_Sens = ['dorsal_hand_', 'flexor_digitorum_']\n",
    "\n",
    "fixIndividualRun(s,t,v,ref_Sens,n=30,offset=3500)"
   ]
  },
  {
   "cell_type": "code",
   "execution_count": null,
   "metadata": {
    "collapsed": true
   },
   "outputs": [],
   "source": [
    "t = 'MDS-UPDRS #3: Pronation-Supination'\n",
    "s = 1049\n",
    "v = 1\n",
    "ref_Sens = ['dorsal_hand_', 'flexor_digitorum_']\n",
    "\n",
    "fixIndividualRun(s,t,v,ref_Sens,n=30,offset=500)"
   ]
  },
  {
   "cell_type": "code",
   "execution_count": null,
   "metadata": {
    "collapsed": true
   },
   "outputs": [],
   "source": [
    "t = 'MDS-UPDRS #3: Pronation-Supination'\n",
    "s = 1049\n",
    "v = 2\n",
    "ref_Sens = ['dorsal_hand_', 'flexor_digitorum_']\n",
    "\n",
    "fixIndividualRun(s,t,v,ref_Sens,start=.25,n=30,offset=1000)"
   ]
  },
  {
   "cell_type": "code",
   "execution_count": null,
   "metadata": {
    "collapsed": true
   },
   "outputs": [],
   "source": [
    "t = 'MDS-UPDRS #3: Pronation-Supination'\n",
    "s = 1051\n",
    "v = 2\n",
    "ref_Sens = ['dorsal_hand_', 'flexor_digitorum_']\n",
    "\n",
    "fixIndividualRun(s,t,v,ref_Sens,n=30,offset=0)"
   ]
  },
  {
   "cell_type": "code",
   "execution_count": null,
   "metadata": {
    "collapsed": true
   },
   "outputs": [],
   "source": [
    "t = 'MDS-UPDRS #3: Pronation-Supination'\n",
    "s = 1052\n",
    "v = 1\n",
    "ref_Sens = ['dorsal_hand_', 'flexor_digitorum_']\n",
    "\n",
    "fixIndividualRun(s,t,v,ref_Sens,start=.1,n=30,offset=500)"
   ]
  },
  {
   "cell_type": "code",
   "execution_count": null,
   "metadata": {
    "collapsed": true
   },
   "outputs": [],
   "source": [
    "t = 'MDS-UPDRS #3: Pronation-Supination'\n",
    "s = 1053\n",
    "v = 1\n",
    "ref_Sens = ['dorsal_hand_', 'flexor_digitorum_']\n",
    "\n",
    "fixIndividualRun(s,t,v,ref_Sens,start=.1,n=30,offset=500)"
   ]
  },
  {
   "cell_type": "code",
   "execution_count": null,
   "metadata": {
    "collapsed": true
   },
   "outputs": [],
   "source": [
    "t = 'MDS-UPDRS #3: Pronation-Supination'\n",
    "s = 1054\n",
    "v = 0\n",
    "ref_Sens = ['dorsal_hand_', 'flexor_digitorum_']\n",
    "\n",
    "fixIndividualRun(s,t,v,ref_Sens,start=0,n=20,offset=400)"
   ]
  },
  {
   "cell_type": "code",
   "execution_count": null,
   "metadata": {
    "collapsed": true
   },
   "outputs": [],
   "source": [
    "t = 'MDS-UPDRS #3: Pronation-Supination'\n",
    "s = 1055\n",
    "v = 0\n",
    "ref_Sens = ['dorsal_hand_', 'flexor_digitorum_']\n",
    "\n",
    "fixIndividualRun(s,t,v,ref_Sens,n=30,offset=500)"
   ]
  },
  {
   "cell_type": "code",
   "execution_count": null,
   "metadata": {
    "collapsed": true
   },
   "outputs": [],
   "source": [
    "t = 'MDS-UPDRS #3: Pronation-Supination'\n",
    "s = 1056\n",
    "v = 0\n",
    "ref_Sens = ['dorsal_hand_', 'flexor_digitorum_']\n",
    "\n",
    "fixIndividualRun(s,t,v,ref_Sens,start=0,n=20,offset=200)"
   ]
  },
  {
   "cell_type": "code",
   "execution_count": null,
   "metadata": {
    "collapsed": true
   },
   "outputs": [],
   "source": [
    "t = 'MDS-UPDRS #3: Pronation-Supination'\n",
    "s = 1056\n",
    "v = 1\n",
    "ref_Sens = ['dorsal_hand_', 'flexor_digitorum_']\n",
    "\n",
    "fixIndividualRun(s,t,v,ref_Sens,n=30,offset=500)"
   ]
  },
  {
   "cell_type": "code",
   "execution_count": null,
   "metadata": {
    "collapsed": true
   },
   "outputs": [],
   "source": [
    "t = 'MDS-UPDRS #10: Kinetic Hand Tremor'\n",
    "s = 1004\n",
    "v = 0\n",
    "ref_Sens = ['dorsal_hand_', 'flexor_digitorum_']\n",
    "\n",
    "fixIndividualRun(s,t,v,ref_Sens,start=.52,stop=.85,n=30,offset=1200)"
   ]
  },
  {
   "cell_type": "code",
   "execution_count": null,
   "metadata": {
    "collapsed": true
   },
   "outputs": [],
   "source": [
    "t = 'MDS-UPDRS #10: Kinetic Hand Tremor'\n",
    "s = 1004\n",
    "v = 1\n",
    "ref_Sens = ['dorsal_hand_', 'flexor_digitorum_']\n",
    "\n",
    "fixIndividualRun(s,t,v,ref_Sens,start=.1,stop=.9,n=30,offset=500)"
   ]
  },
  {
   "cell_type": "code",
   "execution_count": null,
   "metadata": {
    "collapsed": true
   },
   "outputs": [],
   "source": [
    "t = 'MDS-UPDRS #10: Kinetic Hand Tremor'\n",
    "s = 1016\n",
    "v = 0\n",
    "ref_Sens = ['dorsal_hand_', 'flexor_digitorum_']\n",
    "\n",
    "fixIndividualRun(s,t,v,ref_Sens,start=.1,stop=.9,n=30,offset=500)"
   ]
  },
  {
   "cell_type": "code",
   "execution_count": null,
   "metadata": {
    "collapsed": true
   },
   "outputs": [],
   "source": [
    "t = 'MDS-UPDRS #10: Kinetic Hand Tremor'\n",
    "s = 1016\n",
    "v = 1\n",
    "ref_Sens = ['dorsal_hand_', 'flexor_digitorum_']\n",
    "\n",
    "fixIndividualRun(s,t,v,ref_Sens,n=30,stop=.95,offset=-500)"
   ]
  },
  {
   "cell_type": "code",
   "execution_count": null,
   "metadata": {
    "collapsed": true
   },
   "outputs": [],
   "source": [
    "t = 'MDS-UPDRS #10: Kinetic Hand Tremor'\n",
    "s = 1018\n",
    "v = 0\n",
    "ref_Sens = ['dorsal_hand_', 'flexor_digitorum_']\n",
    "\n",
    "fixIndividualRun(s,t,v,ref_Sens,n=30,offset=500)"
   ]
  },
  {
   "cell_type": "code",
   "execution_count": null,
   "metadata": {
    "collapsed": true
   },
   "outputs": [],
   "source": [
    "t = 'MDS-UPDRS #10: Kinetic Hand Tremor'\n",
    "s = 1018\n",
    "v = 1\n",
    "ref_Sens = ['dorsal_hand_', 'flexor_digitorum_']\n",
    "\n",
    "fixIndividualRun(s,t,v,ref_Sens,n=30,offset=500)"
   ]
  },
  {
   "cell_type": "code",
   "execution_count": null,
   "metadata": {
    "collapsed": true
   },
   "outputs": [],
   "source": [
    "t = 'MDS-UPDRS #10: Kinetic Hand Tremor'\n",
    "s = 1019\n",
    "v = 0\n",
    "ref_Sens = ['dorsal_hand_', 'flexor_digitorum_']\n",
    "\n",
    "fixIndividualRun(s,t,v,ref_Sens,start=.2,n=30,offset=3500)"
   ]
  },
  {
   "cell_type": "code",
   "execution_count": null,
   "metadata": {
    "collapsed": true
   },
   "outputs": [],
   "source": [
    "t = 'MDS-UPDRS #10: Kinetic Hand Tremor'\n",
    "s = 1019\n",
    "v = 1\n",
    "ref_Sens = ['dorsal_hand_', 'flexor_digitorum_']\n",
    "\n",
    "fixIndividualRun(s,t,v,ref_Sens,start=.05,n=30,offset=250)"
   ]
  },
  {
   "cell_type": "code",
   "execution_count": null,
   "metadata": {
    "collapsed": true
   },
   "outputs": [],
   "source": [
    "t = 'MDS-UPDRS #10: Kinetic Hand Tremor'\n",
    "s = 1020\n",
    "v = 0\n",
    "ref_Sens = ['dorsal_hand_', 'flexor_digitorum_']\n",
    "\n",
    "fixIndividualRun(s,t,v,ref_Sens,stop=.9,n=30,offset=500)"
   ]
  },
  {
   "cell_type": "code",
   "execution_count": null,
   "metadata": {
    "collapsed": true
   },
   "outputs": [],
   "source": [
    "t = 'MDS-UPDRS #10: Kinetic Hand Tremor'\n",
    "s = 1024\n",
    "v = 0\n",
    "ref_Sens = ['dorsal_hand_', 'flexor_digitorum_']\n",
    "\n",
    "fixIndividualRun(s,t,v,ref_Sens,start=.05,n=30,offset=2500)"
   ]
  },
  {
   "cell_type": "code",
   "execution_count": null,
   "metadata": {
    "collapsed": true
   },
   "outputs": [],
   "source": [
    "t = 'MDS-UPDRS #10: Kinetic Hand Tremor'\n",
    "s = 1024\n",
    "v = 1\n",
    "ref_Sens = ['dorsal_hand_', 'flexor_digitorum_']\n",
    "\n",
    "fixIndividualRun(s,t,v,ref_Sens,start=.15,n=30,offset=500)"
   ]
  },
  {
   "cell_type": "code",
   "execution_count": null,
   "metadata": {
    "collapsed": true
   },
   "outputs": [],
   "source": [
    "t = 'MDS-UPDRS #10: Kinetic Hand Tremor'\n",
    "s = 1024\n",
    "v = 2\n",
    "ref_Sens = ['dorsal_hand_', 'flexor_digitorum_']\n",
    "\n",
    "fixIndividualRun(s,t,v,ref_Sens,n=30,stop=.9,offset=500)"
   ]
  },
  {
   "cell_type": "code",
   "execution_count": null,
   "metadata": {
    "collapsed": true
   },
   "outputs": [],
   "source": [
    "t = 'MDS-UPDRS #10: Kinetic Hand Tremor'\n",
    "s = 1029\n",
    "v = 0\n",
    "ref_Sens = ['dorsal_hand_', 'flexor_digitorum_']\n",
    "\n",
    "fixIndividualRun(s,t,v,ref_Sens,n=30,offset=1000)"
   ]
  },
  {
   "cell_type": "code",
   "execution_count": null,
   "metadata": {
    "collapsed": true
   },
   "outputs": [],
   "source": [
    "t = 'MDS-UPDRS #10: Kinetic Hand Tremor'\n",
    "s = 1029\n",
    "v = 1\n",
    "ref_Sens = ['dorsal_hand_', 'flexor_digitorum_']\n",
    "\n",
    "fixIndividualRun(s,t,v,ref_Sens,n=30,offset=2500)"
   ]
  },
  {
   "cell_type": "code",
   "execution_count": null,
   "metadata": {
    "collapsed": true
   },
   "outputs": [],
   "source": [
    "t = 'MDS-UPDRS #10: Kinetic Hand Tremor'\n",
    "s = 1029\n",
    "v = 2\n",
    "ref_Sens = ['dorsal_hand_', 'flexor_digitorum_']\n",
    "\n",
    "fixIndividualRun(s,t,v,ref_Sens,start=0.15,n=20,offset=1500)"
   ]
  },
  {
   "cell_type": "code",
   "execution_count": null,
   "metadata": {
    "collapsed": true
   },
   "outputs": [],
   "source": [
    "t = 'MDS-UPDRS #10: Kinetic Hand Tremor'\n",
    "s = 1030\n",
    "v = 0\n",
    "ref_Sens = ['dorsal_hand_', 'flexor_digitorum_']\n",
    "\n",
    "fixIndividualRun(s,t,v,ref_Sens,start=.1,n=30,offset=1500)"
   ]
  },
  {
   "cell_type": "code",
   "execution_count": null,
   "metadata": {
    "collapsed": true
   },
   "outputs": [],
   "source": [
    "t = 'MDS-UPDRS #10: Kinetic Hand Tremor'\n",
    "s = 1030\n",
    "v = 1\n",
    "ref_Sens = ['dorsal_hand_', 'flexor_digitorum_']\n",
    "\n",
    "fixIndividualRun(s,t,v,ref_Sens,start=0,n=20,offset=-1200)"
   ]
  },
  {
   "cell_type": "code",
   "execution_count": null,
   "metadata": {
    "collapsed": true
   },
   "outputs": [],
   "source": [
    "t = 'MDS-UPDRS #10: Kinetic Hand Tremor'\n",
    "s = 1030\n",
    "v = 2\n",
    "ref_Sens = ['dorsal_hand_', 'flexor_digitorum_']\n",
    "\n",
    "fixIndividualRun(s,t,v,ref_Sens,stop=.9,n=30,offset=250)"
   ]
  },
  {
   "cell_type": "code",
   "execution_count": null,
   "metadata": {
    "collapsed": true
   },
   "outputs": [],
   "source": [
    "t = 'MDS-UPDRS #10: Kinetic Hand Tremor'\n",
    "s = 1032\n",
    "v = 0\n",
    "ref_Sens = ['dorsal_hand_', 'flexor_digitorum_']\n",
    "\n",
    "fixIndividualRun(s,t,v,ref_Sens,stop=.9,n=30,offset=500)"
   ]
  },
  {
   "cell_type": "code",
   "execution_count": null,
   "metadata": {
    "collapsed": true
   },
   "outputs": [],
   "source": [
    "t = 'MDS-UPDRS #10: Kinetic Hand Tremor'\n",
    "s = 1032\n",
    "v = 1\n",
    "ref_Sens = ['dorsal_hand_', 'flexor_digitorum_']\n",
    "\n",
    "fixIndividualRun(s,t,v,ref_Sens,stop=.9,n=30,offset=1500)"
   ]
  },
  {
   "cell_type": "code",
   "execution_count": null,
   "metadata": {
    "collapsed": true
   },
   "outputs": [],
   "source": [
    "t = 'MDS-UPDRS #10: Kinetic Hand Tremor'\n",
    "s = 1032\n",
    "v = 2\n",
    "ref_Sens = ['dorsal_hand_', 'flexor_digitorum_']\n",
    "\n",
    "fixIndividualRun(s,t,v,ref_Sens,n=30,offset=500)"
   ]
  },
  {
   "cell_type": "code",
   "execution_count": null,
   "metadata": {
    "collapsed": true
   },
   "outputs": [],
   "source": [
    "t = 'MDS-UPDRS #10: Kinetic Hand Tremor'\n",
    "s = 1038\n",
    "v = 0\n",
    "ref_Sens = ['dorsal_hand_', 'flexor_digitorum_']\n",
    "\n",
    "fixIndividualRun(s,t,v,ref_Sens,start=.2,n=30,offset=500)"
   ]
  },
  {
   "cell_type": "code",
   "execution_count": null,
   "metadata": {
    "collapsed": true
   },
   "outputs": [],
   "source": [
    "t = 'MDS-UPDRS #10: Kinetic Hand Tremor'\n",
    "s = 1038\n",
    "v = 1\n",
    "ref_Sens = ['dorsal_hand_', 'flexor_digitorum_']\n",
    "\n",
    "fixIndividualRun(s,t,v,ref_Sens,n=30,offset=1000)"
   ]
  },
  {
   "cell_type": "code",
   "execution_count": null,
   "metadata": {
    "collapsed": true
   },
   "outputs": [],
   "source": [
    "t = 'MDS-UPDRS #10: Kinetic Hand Tremor'\n",
    "s = 1044\n",
    "v = 0\n",
    "ref_Sens = ['dorsal_hand_', 'flexor_digitorum_']\n",
    "\n",
    "fixIndividualRun(s,t,v,ref_Sens,start=.15,n=30,offset=500)"
   ]
  },
  {
   "cell_type": "code",
   "execution_count": null,
   "metadata": {
    "collapsed": true
   },
   "outputs": [],
   "source": [
    "t = 'MDS-UPDRS #10: Kinetic Hand Tremor'\n",
    "s = 1044\n",
    "v = 1\n",
    "ref_Sens = ['dorsal_hand_', 'flexor_digitorum_']\n",
    "\n",
    "fixIndividualRun(s,t,v,ref_Sens,stop=.9,n=30,offset=500)"
   ]
  },
  {
   "cell_type": "code",
   "execution_count": null,
   "metadata": {
    "collapsed": true
   },
   "outputs": [],
   "source": [
    "t = 'MDS-UPDRS #10: Kinetic Hand Tremor'\n",
    "s = 1044\n",
    "v = 2\n",
    "ref_Sens = ['dorsal_hand_', 'flexor_digitorum_']\n",
    "\n",
    "fixIndividualRun(s,t,v,ref_Sens,n=30,offset=500)"
   ]
  },
  {
   "cell_type": "code",
   "execution_count": null,
   "metadata": {
    "collapsed": true
   },
   "outputs": [],
   "source": [
    "t = 'MDS-UPDRS #10: Kinetic Hand Tremor'\n",
    "s = 1046\n",
    "v = 0\n",
    "ref_Sens = ['dorsal_hand_', 'flexor_digitorum_']\n",
    "\n",
    "fixIndividualRun(s,t,v,ref_Sens,start=.2,n=30,offset=750)"
   ]
  },
  {
   "cell_type": "code",
   "execution_count": null,
   "metadata": {
    "collapsed": true
   },
   "outputs": [],
   "source": [
    "t = 'MDS-UPDRS #10: Kinetic Hand Tremor'\n",
    "s = 1046\n",
    "v = 1\n",
    "ref_Sens = ['dorsal_hand_', 'flexor_digitorum_']\n",
    "\n",
    "fixIndividualRun(s,t,v,ref_Sens,n=30,offset=500)"
   ]
  },
  {
   "cell_type": "code",
   "execution_count": null,
   "metadata": {
    "collapsed": true
   },
   "outputs": [],
   "source": [
    "t = 'MDS-UPDRS #10: Kinetic Hand Tremor'\n",
    "s = 1046\n",
    "v = 2\n",
    "ref_Sens = ['dorsal_hand_', 'flexor_digitorum_']\n",
    "\n",
    "fixIndividualRun(s,t,v,ref_Sens,n=30,offset=500)"
   ]
  },
  {
   "cell_type": "code",
   "execution_count": null,
   "metadata": {
    "collapsed": true
   },
   "outputs": [],
   "source": [
    "t = 'MDS-UPDRS #10: Kinetic Hand Tremor'\n",
    "s = 1047\n",
    "v = 0\n",
    "ref_Sens = ['dorsal_hand_', 'flexor_digitorum_']\n",
    "\n",
    "fixIndividualRun(s,t,v,ref_Sens,n=30,offset=1000)"
   ]
  },
  {
   "cell_type": "code",
   "execution_count": null,
   "metadata": {
    "collapsed": true
   },
   "outputs": [],
   "source": [
    "t = 'MDS-UPDRS #10: Kinetic Hand Tremor'\n",
    "s = 1047\n",
    "v = 1\n",
    "ref_Sens = ['dorsal_hand_', 'flexor_digitorum_']\n",
    "\n",
    "fixIndividualRun(s,t,v,ref_Sens,start=.15,stop=.9,n=30,offset=500)"
   ]
  },
  {
   "cell_type": "code",
   "execution_count": null,
   "metadata": {
    "collapsed": true
   },
   "outputs": [],
   "source": [
    "t = 'MDS-UPDRS #10: Kinetic Hand Tremor'\n",
    "s = 1047\n",
    "v = 2\n",
    "ref_Sens = ['dorsal_hand_', 'flexor_digitorum_']\n",
    "\n",
    "fixIndividualRun(s,t,v,ref_Sens,n=30,offset=500)"
   ]
  },
  {
   "cell_type": "code",
   "execution_count": null,
   "metadata": {
    "collapsed": true
   },
   "outputs": [],
   "source": [
    "t = 'MDS-UPDRS #10: Kinetic Hand Tremor'\n",
    "s = 1049\n",
    "v = 0\n",
    "ref_Sens = ['dorsal_hand_', 'flexor_digitorum_']\n",
    "\n",
    "fixIndividualRun(s,t,v,ref_Sens,start=.35,n=30,offset=1500)"
   ]
  },
  {
   "cell_type": "code",
   "execution_count": null,
   "metadata": {
    "collapsed": true
   },
   "outputs": [],
   "source": [
    "t = 'MDS-UPDRS #10: Kinetic Hand Tremor'\n",
    "s = 1049\n",
    "v = 1\n",
    "ref_Sens = ['dorsal_hand_', 'flexor_digitorum_']\n",
    "\n",
    "fixIndividualRun(s,t,v,ref_Sens,start=.1,n=30,offset=1000)"
   ]
  },
  {
   "cell_type": "code",
   "execution_count": null,
   "metadata": {
    "collapsed": true
   },
   "outputs": [],
   "source": [
    "t = 'MDS-UPDRS #10: Kinetic Hand Tremor'\n",
    "s = 1049\n",
    "v = 2\n",
    "ref_Sens = ['dorsal_hand_', 'flexor_digitorum_']\n",
    "\n",
    "fixIndividualRun(s,t,v,ref_Sens,n=30,offset=500)"
   ]
  },
  {
   "cell_type": "code",
   "execution_count": null,
   "metadata": {
    "collapsed": true
   },
   "outputs": [],
   "source": [
    "t = 'MDS-UPDRS #10: Kinetic Hand Tremor'\n",
    "s = 1051\n",
    "v = 0\n",
    "ref_Sens = ['dorsal_hand_', 'flexor_digitorum_']\n",
    "\n",
    "fixIndividualRun(s,t,v,ref_Sens,n=30,offset=500)"
   ]
  },
  {
   "cell_type": "code",
   "execution_count": null,
   "metadata": {
    "collapsed": true
   },
   "outputs": [],
   "source": [
    "t = 'MDS-UPDRS #10: Kinetic Hand Tremor'\n",
    "s = 1051\n",
    "v = 1\n",
    "ref_Sens = ['dorsal_hand_', 'flexor_digitorum_']\n",
    "\n",
    "fixIndividualRun(s,t,v,ref_Sens,n=30,offset=500)"
   ]
  },
  {
   "cell_type": "code",
   "execution_count": null,
   "metadata": {
    "collapsed": true
   },
   "outputs": [],
   "source": [
    "t = 'MDS-UPDRS #10: Kinetic Hand Tremor'\n",
    "s = 1051\n",
    "v = 2\n",
    "ref_Sens = ['dorsal_hand_', 'flexor_digitorum_']\n",
    "\n",
    "fixIndividualRun(s,t,v,ref_Sens,n=30,offset=500)"
   ]
  },
  {
   "cell_type": "code",
   "execution_count": null,
   "metadata": {
    "collapsed": true
   },
   "outputs": [],
   "source": [
    "t = 'MDS-UPDRS #10: Kinetic Hand Tremor'\n",
    "s = 1052\n",
    "v = 0\n",
    "ref_Sens = ['dorsal_hand_', 'flexor_digitorum_']\n",
    "\n",
    "fixIndividualRun(s,t,v,ref_Sens,start=.1,n=30,offset=500)"
   ]
  },
  {
   "cell_type": "code",
   "execution_count": null,
   "metadata": {
    "collapsed": true
   },
   "outputs": [],
   "source": [
    "t = 'MDS-UPDRS #10: Kinetic Hand Tremor'\n",
    "s = 1052\n",
    "v = 1\n",
    "ref_Sens = ['dorsal_hand_', 'flexor_digitorum_']\n",
    "\n",
    "fixIndividualRun(s,t,v,ref_Sens,start=.1,n=30,offset=500)"
   ]
  },
  {
   "cell_type": "code",
   "execution_count": null,
   "metadata": {
    "collapsed": true
   },
   "outputs": [],
   "source": [
    "t = 'MDS-UPDRS #10: Kinetic Hand Tremor'\n",
    "s = 1053\n",
    "v = 0\n",
    "ref_Sens = ['dorsal_hand_', 'flexor_digitorum_']\n",
    "\n",
    "fixIndividualRun(s,t,v,ref_Sens,start=.1,n=30,offset=500)"
   ]
  },
  {
   "cell_type": "code",
   "execution_count": null,
   "metadata": {
    "collapsed": true
   },
   "outputs": [],
   "source": [
    "t = 'MDS-UPDRS #10: Kinetic Hand Tremor'\n",
    "s = 1053\n",
    "v = 1\n",
    "ref_Sens = ['dorsal_hand_', 'flexor_digitorum_']\n",
    "\n",
    "fixIndividualRun(s,t,v,ref_Sens,n=30,offset=500)"
   ]
  },
  {
   "cell_type": "code",
   "execution_count": null,
   "metadata": {
    "collapsed": true
   },
   "outputs": [],
   "source": [
    "t = 'MDS-UPDRS #10: Kinetic Hand Tremor'\n",
    "s = 1054\n",
    "v = 0\n",
    "ref_Sens = ['dorsal_hand_', 'flexor_digitorum_']\n",
    "\n",
    "fixIndividualRun(s,t,v,ref_Sens,n=30,offset=3000)"
   ]
  },
  {
   "cell_type": "code",
   "execution_count": null,
   "metadata": {
    "collapsed": true
   },
   "outputs": [],
   "source": [
    "t = 'MDS-UPDRS #10: Kinetic Hand Tremor'\n",
    "s = 1054\n",
    "v = 1\n",
    "ref_Sens = ['dorsal_hand_', 'flexor_digitorum_']\n",
    "\n",
    "fixIndividualRun(s,t,v,ref_Sens,n=30,offset=500)"
   ]
  },
  {
   "cell_type": "code",
   "execution_count": null,
   "metadata": {
    "collapsed": true
   },
   "outputs": [],
   "source": [
    "t = 'MDS-UPDRS #10: Kinetic Hand Tremor'\n",
    "s = 1055\n",
    "v = 0\n",
    "ref_Sens = ['dorsal_hand_', 'flexor_digitorum_']\n",
    "\n",
    "fixIndividualRun(s,t,v,ref_Sens,start=.15,n=30,offset=1000)"
   ]
  },
  {
   "cell_type": "code",
   "execution_count": null,
   "metadata": {
    "collapsed": true
   },
   "outputs": [],
   "source": [
    "t = 'MDS-UPDRS #10: Kinetic Hand Tremor'\n",
    "s = 1056\n",
    "v = 0\n",
    "ref_Sens = ['dorsal_hand_', 'flexor_digitorum_']\n",
    "\n",
    "fixIndividualRun(s,t,v,ref_Sens,start=.1,n=30,offset=3250)"
   ]
  },
  {
   "cell_type": "code",
   "execution_count": null,
   "metadata": {
    "collapsed": true
   },
   "outputs": [],
   "source": [
    "t = 'MDS-UPDRS #10: Kinetic Hand Tremor'\n",
    "s = 1056\n",
    "v = 1\n",
    "ref_Sens = ['dorsal_hand_', 'flexor_digitorum_']\n",
    "\n",
    "fixIndividualRun(s,t,v,ref_Sens,start=.05,n=30,offset=1000)"
   ]
  },
  {
   "cell_type": "code",
   "execution_count": null,
   "metadata": {
    "collapsed": true,
    "scrolled": false
   },
   "outputs": [],
   "source": [
    "full_dict[s][t][v][ref_Sens[1]+'right']['accel'].plot()"
   ]
  },
  {
   "cell_type": "code",
   "execution_count": null,
   "metadata": {
    "collapsed": true,
    "scrolled": true
   },
   "outputs": [],
   "source": [
    "full_dict[s][t + ' - Right'][v][ref_Sens[1]+'right']['accel'].plot()"
   ]
  },
  {
   "cell_type": "code",
   "execution_count": null,
   "metadata": {
    "collapsed": true
   },
   "outputs": [],
   "source": [
    "full_dict[s][t + ' - Right'][v][ref_Sens[1]+'left']['accel'].plot()"
   ]
  },
  {
   "cell_type": "code",
   "execution_count": null,
   "metadata": {
    "collapsed": true,
    "scrolled": true
   },
   "outputs": [],
   "source": [
    "full_dict[s][t + ' - Left'][v][ref_Sens[1]+'right']['accel'].plot()"
   ]
  },
  {
   "cell_type": "code",
   "execution_count": null,
   "metadata": {
    "collapsed": true,
    "scrolled": true
   },
   "outputs": [],
   "source": [
    "full_dict[s][t + ' - Left'][v][ref_Sens[1]+'left']['accel'].plot()"
   ]
  },
  {
   "cell_type": "code",
   "execution_count": null,
   "metadata": {
    "collapsed": true
   },
   "outputs": [],
   "source": [
    "with open('MDS-UPDRS Data - Split.pkl', 'wb') as handle:\n",
    "    pickle.dump(full_dict, handle, protocol=pickle.HIGHEST_PROTOCOL)"
   ]
  },
  {
   "cell_type": "markdown",
   "metadata": {},
   "source": [
    "## Add Resting Tremor to Dictionary"
   ]
  },
  {
   "cell_type": "code",
   "execution_count": null,
   "metadata": {
    "collapsed": true
   },
   "outputs": [],
   "source": [
    "with open('MDS-UPDRS Data - Split.pkl', 'rb') as handle:\n",
    "    full_dict = pickle.load(handle)"
   ]
  },
  {
   "cell_type": "code",
   "execution_count": null,
   "metadata": {
    "scrolled": true
   },
   "outputs": [
    {
     "name": "stdout",
     "output_type": "stream",
     "text": [
      "1004\n",
      "anterior_thigh_left\n",
      "555 555 0\n",
      "sacrum\n",
      "556 556 0\n",
      "distal_lateral_shank_right\n",
      "555 555 0\n",
      "dorsal_hand_left\n",
      "557 557 0\n",
      "flexor_digitorum_left\n"
     ]
    }
   ],
   "source": [
    "t = 'MDS-UPDRS #11: Rest Tremor'\n",
    "path = '//FS2.smpp.local\\\\RTO\\\\CIS-PD Study\\\\Subjects\\\\'\n",
    "for s in full_dict.keys():\n",
    "    s = str(s)\n",
    "    print(s)\n",
    "    times = pd.read_csv(os.path.join(path,str(s),'annotations.csv'))\n",
    "    \n",
    "    t_dict = {}\n",
    "    for row in times[times['EventType']==t].iterrows():\n",
    "        if row[0]<20:\n",
    "            v = 0\n",
    "        elif row[0]<100:\n",
    "            v = 1\n",
    "        else:\n",
    "            v = 2\n",
    "        \n",
    "        minStamp = row[1]['Start Timestamp (ms)']\n",
    "        maxStamp = row[1]['Stop Timestamp (ms)']\n",
    "        \n",
    "        v_dict = {}\n",
    "        sensList = [sens for sens in os.listdir(os.path.join(path,s)) if sens[-3:]!='csv']\n",
    "        for sens in sensList:\n",
    "            print(sens)\n",
    "            accDF = pd.DataFrame(columns = ['Accel X (g)', 'Accel Y (g)', 'Accel Z (g)'])\n",
    "            accDF.index.name = 'Timestamp (ms)'\n",
    "            \n",
    "            gyrDF = pd.DataFrame(columns = ['Gyro X (°/s)', 'Gyro Y (°/s)', 'Gyro Z (°/s)'])\n",
    "            gyrDF.index.name = 'Timestamp (ms)'\n",
    "            \n",
    "            emgDF = pd.DataFrame(columns = ['Sample (V)'])\n",
    "            emgDF.index.name = 'Timestamp (ms)'\n",
    "            \n",
    "            \n",
    "            sensIDs = os.listdir(os.path.join(path,s,sens))\n",
    "            for SID in sensIDs:\n",
    "                recDates = os.listdir(os.path.join(path,s,sens,SID))\n",
    "                for rec in recDates:\n",
    "                    dataFiles = os.listdir(os.path.join(path,s,sens,SID,rec))\n",
    "                    for f in dataFiles:\n",
    "                        if f =='accel.csv':\n",
    "                            data = pd.read_csv(os.path.join(path,s,sens,SID,rec,f), index_col=[0])\n",
    "                            data = data[(data.index>minStamp) & (data.index<maxStamp)]\n",
    "                            accDF = accDF.append(data)\n",
    "                        if f =='gyro.csv':\n",
    "                            data = pd.read_csv(os.path.join(path,s,sens,SID,rec,f), index_col=[0])\n",
    "                            data = data[(data.index>minStamp) & (data.index<maxStamp)]\n",
    "                            gyrDF = gyrDF.append(data)\n",
    "                        if f =='elec.csv':\n",
    "                            data = pd.read_csv(os.path.join(path,s,sens,SID,rec,f))#, index_col=[0])\n",
    "                            data.index=data['Timestamp (ms)']\n",
    "                            data.drop(columns=['Timestamp (ms)'], inplace=True)\n",
    "                            data = data[(data.index>minStamp) & (data.index<maxStamp)]\n",
    "                            emgDF = emgDF.append(data)\n",
    "            \n",
    "            print(len(accDF),len(gyrDF),len(emgDF))\n",
    "            s_dict = {'accel': accDF, 'gyro': gyrDF, 'elec': emgDF}\n",
    "            v_dict[sens] = s_dict\n",
    "            \n",
    "        t_dict[v] = v_dict\n",
    "        \n",
    "    full_dict[float(s)][t] = t_dict"
   ]
  },
  {
   "cell_type": "markdown",
   "metadata": {},
   "source": [
    "## Resample all sensors to same indices"
   ]
  },
  {
   "cell_type": "code",
   "execution_count": null,
   "metadata": {},
   "outputs": [],
   "source": [
    "path = '//FS2.smpp.local\\\\RTO\\\\CIS-PD Study\\\\Subjects\\\\'\n",
    "taskList = ['Heart Rate Variability', 'MDS-UPDRS #1: Finger Tapping', 'MDS-UPDRS #2: Hand Movements', \n",
    "            'MDS-UPDRS #3: Pronation-Supination', 'MDS-UPDRS #4: Toe Tapping', 'MDS-UPDRS #5: Leg Agility', \n",
    "            'MDS-UPDRS #6: Arising from Chair', 'MDS-UPDRS #7: Gait', 'MDS-UPDRS #8: Postural Stability', \n",
    "            'MDS-UPDRS #9: Postural Hand Tremor', 'MDS-UPDRS #10: Kinetic Hand Tremor', 'MDS-UPDRS #11: Resting Tremor']\n",
    "\n",
    "for s in full_dict.keys():\n",
    "    print(str(s))\n",
    "    times = pd.read_csv(os.path.join(path,str(s),'annotations.csv'))\n",
    "    for t in full_dict[s].keys():\n",
    "        print(t)\n",
    "        for v in full_dict[s][t].keys():\n",
    "            minStamp = sys.maxsize\n",
    "            maxStamp = 0\n",
    "            for sens in full_dict[s][t][v].keys():\n",
    "                for data in [d for d in full_dict[s][t][v][sens].values() if len(d)>0]:\n",
    "                    minStamp = min(minStamp,data.index.min())\n",
    "                    maxStamp = max(maxStamp,data.index.max())\n",
    "                    \n",
    "                for mode in full_dict[s][t][v][sens].keys():\n",
    "                    data = full_dict[s][t][v][sens][mode]\n",
    "                    if len(data)<1:\n",
    "                        continue\n",
    "\n",
    "                    if mode=='elec':\n",
    "                        ts = 1\n",
    "                    else:\n",
    "                        ts = 16\n",
    "\n",
    "                    newPoints = np.array(range(minStamp,maxStamp+1,ts))\n",
    "                    data = pd.DataFrame(data = np.array([np.interp(newPoints,data.index,data.loc[:,c].values) \n",
    "                                                         for c in data.columns]).transpose(), \n",
    "                                     index = newPoints,\n",
    "                                     columns = [c for c in data.columns])"
   ]
  },
  {
   "cell_type": "code",
   "execution_count": null,
   "metadata": {
    "collapsed": true
   },
   "outputs": [],
   "source": [
    "with open('MDS-UPDRS Data - Resampled.pkl', 'wb') as handle:\n",
    "    pickle.dump(full_dict, handle, protocol=pickle.HIGHEST_PROTOCOL)"
   ]
  },
  {
   "cell_type": "code",
   "execution_count": 11,
   "metadata": {},
   "outputs": [
    {
     "data": {
      "text/plain": [
       "<matplotlib.axes._subplots.AxesSubplot at 0x10e2a4780>"
      ]
     },
     "execution_count": 11,
     "metadata": {},
     "output_type": "execute_result"
    },
    {
     "data": {
      "image/png": "[encoded data removed]",
      "text/plain": [
       "<matplotlib.figure.Figure at 0x4b03bdd8>"
      ]
     },
     "metadata": {},
     "output_type": "display_data"
    }
   ],
   "source": [
    "full_dict[1004]['MDS-UPDRS #11: Rest Tremor'][0]['dorsal_hand_left']['accel'].plot()"
   ]
  },
  {
   "cell_type": "code",
   "execution_count": null,
   "metadata": {
    "collapsed": true,
    "scrolled": true
   },
   "outputs": [],
   "source": [
    "maxStamp"
   ]
  },
  {
   "cell_type": "code",
   "execution_count": null,
   "metadata": {
    "collapsed": true,
    "scrolled": true
   },
   "outputs": [],
   "source": [
    "full_dict[1004].values"
   ]
  },
  {
   "cell_type": "code",
   "execution_count": null,
   "metadata": {
    "collapsed": true
   },
   "outputs": [],
   "source": [
    "data = pd.read_csv(os.path.join(path,s,sens,SID,rec,f), index_col=[0])\n",
    "# data = data[(data.index>minStamp) & (data.index<maxStamp)]"
   ]
  },
  {
   "cell_type": "code",
   "execution_count": null,
   "metadata": {
    "collapsed": true
   },
   "outputs": [],
   "source": [
    "data.index=data['Timestamp (ms)']"
   ]
  },
  {
   "cell_type": "code",
   "execution_count": null,
   "metadata": {
    "collapsed": true
   },
   "outputs": [],
   "source": [
    "data.drop(columns=['Timestamp (ms)'], inplace=True)"
   ]
  },
  {
   "cell_type": "code",
   "execution_count": null,
   "metadata": {
    "collapsed": true
   },
   "outputs": [],
   "source": [
    "data"
   ]
  },
  {
   "cell_type": "code",
   "execution_count": null,
   "metadata": {
    "collapsed": true
   },
   "outputs": [],
   "source": [
    "data = data[(data.index>minStamp) & (data.index<maxStamp)]"
   ]
  },
  {
   "cell_type": "code",
   "execution_count": null,
   "metadata": {
    "collapsed": true
   },
   "outputs": [],
   "source": [
    "data.index<minStamp"
   ]
  },
  {
   "cell_type": "code",
   "execution_count": null,
   "metadata": {
    "collapsed": true
   },
   "outputs": [],
   "source": [
    "for i in data.index:\n",
    "    print(i>minStamp)"
   ]
  },
  {
   "cell_type": "code",
   "execution_count": null,
   "metadata": {
    "collapsed": true
   },
   "outputs": [],
   "source": [
    "emgDF = emgDF.append(data)"
   ]
  },
  {
   "cell_type": "code",
   "execution_count": null,
   "metadata": {
    "collapsed": true
   },
   "outputs": [],
   "source": [
    "data = data[(data.index>minStamp) & (data.index<maxStamp)]"
   ]
  },
  {
   "cell_type": "code",
   "execution_count": null,
   "metadata": {
    "collapsed": true
   },
   "outputs": [],
   "source": [
    "emgDF = emgDF.append(full_dict[1004]['MDS-UPDRS #10: Kinetic Hand Tremor'][0]['flexor_digitorum_right']['elec'])"
   ]
  },
  {
   "cell_type": "code",
   "execution_count": null,
   "metadata": {
    "collapsed": true
   },
   "outputs": [],
   "source": [
    "s,t,v, sens"
   ]
  },
  {
   "cell_type": "code",
   "execution_count": null,
   "metadata": {
    "collapsed": true
   },
   "outputs": [],
   "source": [
    "pd.read_csv(os.path.join('//FS2.smpp.local\\\\RTO\\\\CIS-PD Study\\\\Subjects\\\\',s,))"
   ]
  },
  {
   "cell_type": "code",
   "execution_count": null,
   "metadata": {
    "collapsed": true
   },
   "outputs": [],
   "source": [
    "full_dict[1004].keys()"
   ]
  },
  {
   "cell_type": "code",
   "execution_count": null,
   "metadata": {
    "collapsed": true
   },
   "outputs": [],
   "source": []
  },
  {
   "cell_type": "code",
   "execution_count": null,
   "metadata": {
    "collapsed": true
   },
   "outputs": [],
   "source": [
    "full_dict[1004]['MDS-UPDRS #10: Kinetic Hand Tremor'][0]['flexor_digitorum_right']['elec']"
   ]
  },
  {
   "cell_type": "code",
   "execution_count": null,
   "metadata": {
    "collapsed": true
   },
   "outputs": [],
   "source": [
    "pd.to_datetime(d)"
   ]
  },
  {
   "cell_type": "code",
   "execution_count": null,
   "metadata": {
    "collapsed": true
   },
   "outputs": [],
   "source": []
  },
  {
   "cell_type": "code",
   "execution_count": null,
   "metadata": {
    "collapsed": true
   },
   "outputs": [],
   "source": [
    "pd.to_datetime(full_dict[1004]['MDS-UPDRS #10: Kinetic Hand Tremor'][0]['dorsal_hand_right']['accel'].index[0])"
   ]
  },
  {
   "cell_type": "code",
   "execution_count": null,
   "metadata": {
    "collapsed": true
   },
   "outputs": [],
   "source": [
    "full_dict[1004]['MDS-UPDRS #10: Kinetic Hand Tremor'][0]['dorsal_hand_right']['accel'].index[0]"
   ]
  },
  {
   "cell_type": "code",
   "execution_count": null,
   "metadata": {
    "collapsed": true,
    "scrolled": false
   },
   "outputs": [],
   "source": [
    "R = full_dict[s][t][v]['dorsal_hand_right']['accel'].apply(lambda x: abs(np.sqrt(x.iloc[0]**2+x.iloc[1]**2+x.iloc[2]**2)-1),axis=1)"
   ]
  },
  {
   "cell_type": "code",
   "execution_count": null,
   "metadata": {
    "collapsed": true
   },
   "outputs": [],
   "source": [
    "L = full_dict[s][t][v]['dorsal_hand_left']['accel'].apply(lambda x: abs(np.sqrt(x.iloc[0]**2+x.iloc[1]**2+x.iloc[2]**2)-1),axis=1)"
   ]
  },
  {
   "cell_type": "code",
   "execution_count": null,
   "metadata": {
    "collapsed": true
   },
   "outputs": [],
   "source": [
    "indStart = min(R.index.min(),L.index.min())\n",
    "indStop = max(R.index.max(),L.index.max())\n",
    "newPoints = np.array(range(indStart,indStop+1,16))\n",
    "\n",
    "R = pd.Series(data = np.interp(newPoints,R.index,R.values), index = newPoints)\n",
    "L = pd.Series(data = np.interp(newPoints,L.index,L.values), index = newPoints)"
   ]
  },
  {
   "cell_type": "code",
   "execution_count": null,
   "metadata": {
    "collapsed": true
   },
   "outputs": [],
   "source": [
    "(R>L).astype(int).plot()"
   ]
  },
  {
   "cell_type": "code",
   "execution_count": null,
   "metadata": {
    "collapsed": true
   },
   "outputs": [],
   "source": [
    "n=50\n",
    "dropPercent = .25\n",
    "    \n",
    "if dropPercent>.5:\n",
    "    print('dropPercent must be between 0 and .5 - using 0')\n",
    "    dropPercent = 0\n",
    "\n",
    "startWin = dropPercent\n",
    "endWin = 1-dropPercent\n",
    "\n",
    "vals = R.rolling(n).sum().reset_index()>L.abs().rolling(n).sum().reset_index()\n",
    "\n",
    "vals = vals.values[int(startWin*len(L)):int(endWin*len(L))][:,1]\n",
    "\n",
    "print(R.index[np.argmax(vals<.5)+int(startWin*len(L))-n])"
   ]
  },
  {
   "cell_type": "code",
   "execution_count": null,
   "metadata": {
    "collapsed": true
   },
   "outputs": [],
   "source": [
    "vals<.5"
   ]
  },
  {
   "cell_type": "code",
   "execution_count": null,
   "metadata": {
    "collapsed": true,
    "scrolled": true
   },
   "outputs": [],
   "source": [
    "full_dict[s][t][v]['dorsal_hand_right']['accel'].apply(lambda x: abs(np.sqrt(x.iloc[0]**2+x.iloc[1]**2+x.iloc[2]**2)-1),axis=1).plot()"
   ]
  },
  {
   "cell_type": "code",
   "execution_count": null,
   "metadata": {
    "collapsed": true,
    "scrolled": true
   },
   "outputs": [],
   "source": [
    "full_dict[s][t][v]['dorsal_hand_left']['accel'].apply(lambda x: abs(np.sqrt(x.iloc[0]**2+x.iloc[1]**2+x.iloc[2]**2)-1),axis=1).plot()"
   ]
  },
  {
   "cell_type": "code",
   "execution_count": null,
   "metadata": {
    "collapsed": true
   },
   "outputs": [],
   "source": [
    "full_dict[s][t + ' - Right'][v]['anterior_thigh_right']['accel'].plot()"
   ]
  },
  {
   "cell_type": "code",
   "execution_count": null,
   "metadata": {
    "collapsed": true
   },
   "outputs": [],
   "source": [
    "R.plot()"
   ]
  },
  {
   "cell_type": "code",
   "execution_count": null,
   "metadata": {
    "collapsed": true
   },
   "outputs": [],
   "source": [
    "R, L = full_dict[s][t][v][rSens]['accel'], full_dict[s][t][v][lSens]['accel']\n",
    "indStart = min(R.index.min(),L.index.min())\n",
    "indStop = max(R.index.max(),L.index.max())\n",
    "newPoints = np.array(range(indStart,indStop+1,16))"
   ]
  },
  {
   "cell_type": "code",
   "execution_count": null,
   "metadata": {
    "collapsed": true
   },
   "outputs": [],
   "source": [
    "full_dict[s].keys()"
   ]
  },
  {
   "cell_type": "code",
   "execution_count": null,
   "metadata": {
    "collapsed": true
   },
   "outputs": [],
   "source": [
    "full_dict[s]['MDS-UPDRS #3: Pronation-Supination'][0]['flexor_digitorum_right']['accel'].plot()"
   ]
  },
  {
   "cell_type": "code",
   "execution_count": null,
   "metadata": {
    "collapsed": true
   },
   "outputs": [],
   "source": []
  }
 ],
 "metadata": {
  "kernelspec": {
   "display_name": "Python 3",
   "language": "python",
   "name": "python3"
  },
  "language_info": {
   "codemirror_mode": {
    "name": "ipython",
    "version": 3
   },
   "file_extension": ".py",
   "mimetype": "text/x-python",
   "name": "python",
   "nbconvert_exporter": "python",
   "pygments_lexer": "ipython3",
   "version": "3.6.3"
  }
 },
 "nbformat": 4,
 "nbformat_minor": 2
}
