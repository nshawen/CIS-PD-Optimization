{
 "cells": [
  {
   "cell_type": "code",
   "execution_count": 1,
   "metadata": {},
   "outputs": [],
   "source": [
    "import os\n",
    "import platform\n",
    "import numpy as np\n",
    "import pandas as pd\n",
    "import seaborn as sns\n",
    "import matplotlib.pyplot as plt\n",
    "import datetime as dt\n",
    "import time\n",
    "import math\n",
    "import pathlib\n",
    "import pickle\n",
    "from itertools import product\n",
    "from scipy.stats import skew, kurtosis, wilcoxon\n",
    "from scipy.signal import butter, welch, filtfilt, resample\n",
    "from scipy import stats\n",
    "\n",
    "from sklearn import metrics, neighbors, linear_model, preprocessing, svm\n",
    "from sklearn.metrics import confusion_matrix, auc, f1_score, roc_curve, roc_auc_score, precision_score, recall_score, precision_recall_curve\n",
    "from sklearn.neighbors import KNeighborsClassifier\n",
    "from sklearn.linear_model import ElasticNetCV, LogisticRegression\n",
    "from sklearn.preprocessing import LabelEncoder, StandardScaler\n",
    "from sklearn.model_selection import train_test_split, LeaveOneGroupOut, KFold, StratifiedKFold,cross_val_score,GridSearchCV\n",
    "from sklearn.ensemble import RandomForestClassifier, RandomForestRegressor\n",
    "from sklearn.svm import SVC\n",
    "from PreprocessFcns import *\n",
    "\n",
    "from mpl_toolkits.mplot3d import Axes3D\n",
    "%matplotlib inline\n",
    "\n",
    "sns.set_context('talk',font_scale=1)"
   ]
  },
  {
   "cell_type": "code",
   "execution_count": 23,
   "metadata": {},
   "outputs": [],
   "source": [
    "def LOSOCV(Data,X,y,groups,models,LOin=0):\n",
    "\n",
    "    subj = LeaveOneGroupOut() \n",
    "    results = pd.DataFrame(data=None,columns=['model','f1','auprc','auroc'])\n",
    "    groupres = {} #results on each group for each model\n",
    "\n",
    "\n",
    "    #train multiple classifiers\n",
    "    for m in models:\n",
    "        acc_all=[]; acc_train=[] \n",
    "        f1_test_all=[]; prec_all=[]; rec_all=[]; spec_all=[]; auprc_all=[]; auroc_train_all=[]; \n",
    "        auroc_all=[]; fpr_all=[]; tpr_all=[]; fi_all=[]\n",
    "\n",
    "        clf = m[0]; model_name = m[1]            \n",
    "        print('Training %s'%model_name)\n",
    "        s = 0\n",
    "        #LOSO CV for current classifier\n",
    "        for train_index, test_index in subj.split(X, y, groups):\n",
    "        #leave one in:\n",
    "            if LOin:\n",
    "                tridx = train_index.copy()\n",
    "                train_index = test_index.copy()\n",
    "                test_index = tridx\n",
    "            Xtr, Xte = X[train_index], X[test_index]\n",
    "            ytr, yte = y[train_index], y[test_index]\n",
    "            if len(np.unique(ytr))<2: #skip if no positive or negative examples are available for training\n",
    "                #print('only 1 class available in train data - skipping')\n",
    "                continue\n",
    "            clf.fit(Xtr,ytr)\n",
    "            ypred = clf.predict(Xte)\n",
    "            yscore = clf.predict_proba(Xte)\n",
    "            yscore = yscore[:,1]\n",
    "            \n",
    "            #accuracy on train set\n",
    "            ypred_train = clf.predict(Xtr)\n",
    "            acc_train.append(sum(ypred_train==ytr)/len(ytr))\n",
    "            auroc_train = roc_auc_score(ytr,clf.predict_proba(Xtr)[:,1])\n",
    "            \n",
    "            #f1-score, prec, recall, specificity, auprc, auroc\n",
    "            f1_test_all.append(f1_score(yte,ypred))\n",
    "            precision, recall, _ = precision_recall_curve(yte,yscore)\n",
    "            auprc = auc(recall,precision)\n",
    "            if len(np.unique(yte))>1:\n",
    "                auroc = roc_auc_score(yte,yscore)\n",
    "            else:\n",
    "                #print('only 1 class in test data - cannot compute roc curve')\n",
    "                auroc = np.nan\n",
    "            spec = sum((ypred==0) & (yte==0))/sum(yte==0)\n",
    "\n",
    "\n",
    "            prec_all.append(precision_score(yte,ypred))\n",
    "            rec_all.append(recall_score(yte,ypred))\n",
    "            auprc_all.append(auprc)\n",
    "            auroc_all.append(auroc)\n",
    "            auroc_train_all.append(auroc_train)\n",
    "            spec_all.append(spec)\n",
    "\n",
    "            fpr=np.linspace(0,1,101); tpr=[]\n",
    "\n",
    "            if len(np.unique(yte))>1:                \n",
    "                nscores = np.sort(np.column_stack((yscore[yte==0],yte[yte==0])),axis=0)\n",
    "                neg_counts = sum(yte==0)\n",
    "                for f in fpr:\n",
    "                    ind = neg_counts-int(neg_counts*f)-1\n",
    "                    t = (nscores[ind])[0]\n",
    "                    if f==1:\n",
    "                        t = 0\n",
    "                    tpr_t = sum(yscore[yte==1]>t) / sum(yte==1)\n",
    "                    tpr.append(tpr_t) \n",
    "\n",
    "            fpr = np.asarray(fpr); tpr = np.asarray(tpr)\n",
    "            fpr_all.append(fpr); tpr_all.append(tpr)\n",
    "            \n",
    "            #store feature importance\n",
    "            if model_name != 'SVM':\n",
    "                fi_all.append(clf.feature_importances_)\n",
    "            \n",
    "            #print('\\nSubj/Visit %d,prec=%.3f,rec=%.3f,Spec=%.3f,auroc_train=%.3f,auroc=%.3f'%(s,precision_score(yte,ypred),recall_score(yte,ypred),spec,auroc_train,auroc))\n",
    "            s+=1\n",
    "\n",
    "        #print('f1_test=%.3f+/-%.3f, prec=%.3f+/-%.3f, rec=%.3f+/-%.3f, auprc=%.3f+/-%.3f, auroc=%.3f+/-%.3f'%(\n",
    "        #np.nanmean(f1_test_all),np.nanstd(f1_test_all),\n",
    "        #np.nanmean(prec_all),np.nanstd(prec_all), np.nanmean(rec_all),np.nanstd(rec_all),\n",
    "        #np.nanmean(auprc_all),np.nanstd(auprc_all), np.nanmean(auroc_all),np.nanstd(auroc_all)))\n",
    "        \n",
    "        #group results for each model\n",
    "        groupres[model_name] = {'f1':f1_test_all, 'auprc':auprc_all, 'auroc':auroc_all, 'tpr':tpr_all, 'fpr':fpr_all, \n",
    "                                'rec':rec_all, 'spec':spec_all, 'fi':fi_all}\n",
    "        \n",
    "        #mean across groups for each model\n",
    "        r = pd.DataFrame({'model':model_name, 'f1':np.nanmean(f1_test_all), 'auprc':np.nanmean(auprc_all), \n",
    "                          'auroc':np.nanmean(auroc_all)},index=[0])\n",
    "        results = pd.concat((results,r))\n",
    "        \n",
    "    return results,groupres \n",
    "\n",
    "\n",
    "\n",
    "\n",
    "def LOSOMultiClass(Data,X,y,groups,model,LOin=0):\n",
    "\n",
    "    subj = LeaveOneGroupOut() \n",
    "    results = pd.DataFrame(data=None,columns=['model','RMS'])\n",
    "    groupres = {} #results on each group for each model\n",
    "    \n",
    "    acc_all=[]; acc_train=[] \n",
    "    f1_test_all=[]; prec_all=[]; rec_all=[]; spec_all=[]; auprc_all=[]; auroc_train_all=[]; \n",
    "    auroc_all=[]; fpr_all=[]; tpr_all=[]; fi_all=[]\n",
    "    RMS_all = []\n",
    "    \n",
    "    clf = model[0][0]; model_name = model[0][1]          \n",
    "    print('Training %s'%model_name)\n",
    "    s = 0\n",
    "    #LOSO CV for current classifier\n",
    "    for train_index, test_index in subj.split(X, y, groups):\n",
    "    #leave one in:\n",
    "        if LOin:\n",
    "            tridx = train_index.copy()\n",
    "            train_index = test_index.copy()\n",
    "            test_index = tridx\n",
    "        Xtr, Xte = X[train_index], X[test_index]\n",
    "        ytr, yte = y[train_index], y[test_index]\n",
    "        if len(np.unique(ytr))<2: #skip if no positive or negative examples are available for training\n",
    "            #print('only 1 class available in train data - skipping')\n",
    "            continue\n",
    "        clf.fit(Xtr,ytr)\n",
    "        ypred = clf.predict(Xte)\n",
    "        #yscore = clf.predict_proba(Xte)\n",
    "        #yscore = yscore[:,1]\n",
    "\n",
    "        #accuracy on train set\n",
    "        \n",
    "        RMS=0\n",
    "        for yp,yt in zip(ypred,y):\n",
    "            RMS += ((yp - yt)**2)\n",
    "        RMS = RMS / len(y)\n",
    "        RMS = math.sqrt(RMS)\n",
    "        \n",
    "        RMS_all.append(RMS)\n",
    "        \n",
    "        groupres[model_name] = {'RMS':RMS_all}\n",
    "        \n",
    "        r = pd.DataFrame({'model':model_name, 'RMS':np.nanmean(RMS_all)},index=[0])\n",
    "        results = pd.concat((results,r))\n",
    "        \n",
    "    return results, groupres"
   ]
  },
  {
   "cell_type": "code",
   "execution_count": 14,
   "metadata": {},
   "outputs": [],
   "source": [
    "datadict = {'watch':{},'sensor':{}}\n",
    "for freq in [50,45,40,35,30,25,20,15,10,5]:\n",
    "    data = pd.read_csv('Z:CIS-PD Study\\\\Downsample\\\\Watch Data ' + str(freq) + 'Hz.csv',index_col=0)\n",
    "    for s in data.columns.values[4:]:\n",
    "        data = data[data[s]<np.finfo(np.float32).max]\n",
    "    datadict['watch'][freq] = data[(data.Subject != 1020) & (data.Subject != 1030)].reset_index(drop=True)\n",
    "for freq in [62.5,60,55,50,45,40,35,30,25,20,15,10,5]:\n",
    "    data = pd.read_csv('Z:CIS-PD Study\\\\Downsample\\\\Accel+Gyro Data ' + str(freq) + 'Hz.csv',index_col=0)\n",
    "    for s in data.columns.values[4:]:\n",
    "        data = data[data[s]<np.finfo(np.float32).max]\n",
    "    datadict['sensor'][freq] = data[(data.Subject != 1020) & (data.Subject != 1030)].reset_index(drop=True)"
   ]
  },
  {
   "cell_type": "code",
   "execution_count": 27,
   "metadata": {
    "scrolled": true
   },
   "outputs": [
    {
     "name": "stdout",
     "output_type": "stream",
     "text": [
      "Training Random Forest\n"
     ]
    },
    {
     "name": "stderr",
     "output_type": "stream",
     "text": [
      "C:\\Users\\Public\\Documents\\Anaconda\\lib\\site-packages\\sklearn\\metrics\\classification.py:1137: UndefinedMetricWarning: F-score is ill-defined and being set to 0.0 due to no true samples.\n",
      "  'recall', 'true', average, warn_for)\n",
      "C:\\Users\\Public\\Documents\\Anaconda\\lib\\site-packages\\sklearn\\metrics\\ranking.py:444: RuntimeWarning: invalid value encountered in true_divide\n",
      "  recall = tps / tps[-1]\n",
      "C:\\Users\\Public\\Documents\\Anaconda\\lib\\site-packages\\sklearn\\metrics\\ranking.py:94: RuntimeWarning: invalid value encountered in less\n",
      "  if np.any(dx < 0):\n",
      "C:\\Users\\Public\\Documents\\Anaconda\\lib\\site-packages\\sklearn\\metrics\\classification.py:1137: UndefinedMetricWarning: Recall is ill-defined and being set to 0.0 due to no true samples.\n",
      "  'recall', 'true', average, warn_for)\n"
     ]
    },
    {
     "name": "stdout",
     "output_type": "stream",
     "text": [
      "Training Random Forest\n",
      "Training Random Forest\n",
      "Training Random Forest\n"
     ]
    },
    {
     "name": "stderr",
     "output_type": "stream",
     "text": [
      "C:\\Users\\Public\\Documents\\Anaconda\\lib\\site-packages\\sklearn\\metrics\\classification.py:1137: UndefinedMetricWarning: F-score is ill-defined and being set to 0.0 due to no true samples.\n",
      "  'recall', 'true', average, warn_for)\n",
      "C:\\Users\\Public\\Documents\\Anaconda\\lib\\site-packages\\sklearn\\metrics\\ranking.py:444: RuntimeWarning: invalid value encountered in true_divide\n",
      "  recall = tps / tps[-1]\n",
      "C:\\Users\\Public\\Documents\\Anaconda\\lib\\site-packages\\sklearn\\metrics\\ranking.py:94: RuntimeWarning: invalid value encountered in less\n",
      "  if np.any(dx < 0):\n",
      "C:\\Users\\Public\\Documents\\Anaconda\\lib\\site-packages\\sklearn\\metrics\\classification.py:1137: UndefinedMetricWarning: Recall is ill-defined and being set to 0.0 due to no true samples.\n",
      "  'recall', 'true', average, warn_for)\n"
     ]
    },
    {
     "name": "stdout",
     "output_type": "stream",
     "text": [
      "Training Random Forest\n",
      "Training Random Forest\n",
      "Training Random Forest\n"
     ]
    },
    {
     "name": "stderr",
     "output_type": "stream",
     "text": [
      "C:\\Users\\Public\\Documents\\Anaconda\\lib\\site-packages\\sklearn\\metrics\\classification.py:1137: UndefinedMetricWarning: F-score is ill-defined and being set to 0.0 due to no true samples.\n",
      "  'recall', 'true', average, warn_for)\n",
      "C:\\Users\\Public\\Documents\\Anaconda\\lib\\site-packages\\sklearn\\metrics\\ranking.py:444: RuntimeWarning: invalid value encountered in true_divide\n",
      "  recall = tps / tps[-1]\n",
      "C:\\Users\\Public\\Documents\\Anaconda\\lib\\site-packages\\sklearn\\metrics\\ranking.py:94: RuntimeWarning: invalid value encountered in less\n",
      "  if np.any(dx < 0):\n",
      "C:\\Users\\Public\\Documents\\Anaconda\\lib\\site-packages\\sklearn\\metrics\\classification.py:1137: UndefinedMetricWarning: Recall is ill-defined and being set to 0.0 due to no true samples.\n",
      "  'recall', 'true', average, warn_for)\n"
     ]
    },
    {
     "name": "stdout",
     "output_type": "stream",
     "text": [
      "Training Random Forest\n",
      "Training Random Forest\n",
      "Training Random Forest\n"
     ]
    },
    {
     "name": "stderr",
     "output_type": "stream",
     "text": [
      "C:\\Users\\Public\\Documents\\Anaconda\\lib\\site-packages\\sklearn\\metrics\\classification.py:1137: UndefinedMetricWarning: F-score is ill-defined and being set to 0.0 due to no true samples.\n",
      "  'recall', 'true', average, warn_for)\n",
      "C:\\Users\\Public\\Documents\\Anaconda\\lib\\site-packages\\sklearn\\metrics\\ranking.py:444: RuntimeWarning: invalid value encountered in true_divide\n",
      "  recall = tps / tps[-1]\n",
      "C:\\Users\\Public\\Documents\\Anaconda\\lib\\site-packages\\sklearn\\metrics\\ranking.py:94: RuntimeWarning: invalid value encountered in less\n",
      "  if np.any(dx < 0):\n",
      "C:\\Users\\Public\\Documents\\Anaconda\\lib\\site-packages\\sklearn\\metrics\\classification.py:1137: UndefinedMetricWarning: Recall is ill-defined and being set to 0.0 due to no true samples.\n",
      "  'recall', 'true', average, warn_for)\n"
     ]
    },
    {
     "name": "stdout",
     "output_type": "stream",
     "text": [
      "Training Random Forest\n",
      "Training Random Forest\n",
      "Training Random Forest\n"
     ]
    },
    {
     "name": "stderr",
     "output_type": "stream",
     "text": [
      "C:\\Users\\Public\\Documents\\Anaconda\\lib\\site-packages\\sklearn\\metrics\\classification.py:1137: UndefinedMetricWarning: F-score is ill-defined and being set to 0.0 due to no true samples.\n",
      "  'recall', 'true', average, warn_for)\n",
      "C:\\Users\\Public\\Documents\\Anaconda\\lib\\site-packages\\sklearn\\metrics\\ranking.py:444: RuntimeWarning: invalid value encountered in true_divide\n",
      "  recall = tps / tps[-1]\n",
      "C:\\Users\\Public\\Documents\\Anaconda\\lib\\site-packages\\sklearn\\metrics\\ranking.py:94: RuntimeWarning: invalid value encountered in less\n",
      "  if np.any(dx < 0):\n",
      "C:\\Users\\Public\\Documents\\Anaconda\\lib\\site-packages\\sklearn\\metrics\\classification.py:1137: UndefinedMetricWarning: Recall is ill-defined and being set to 0.0 due to no true samples.\n",
      "  'recall', 'true', average, warn_for)\n"
     ]
    },
    {
     "name": "stdout",
     "output_type": "stream",
     "text": [
      "Training Random Forest\n",
      "Training Random Forest\n",
      "Training Random Forest\n"
     ]
    },
    {
     "name": "stderr",
     "output_type": "stream",
     "text": [
      "C:\\Users\\Public\\Documents\\Anaconda\\lib\\site-packages\\sklearn\\metrics\\classification.py:1137: UndefinedMetricWarning: F-score is ill-defined and being set to 0.0 due to no true samples.\n",
      "  'recall', 'true', average, warn_for)\n",
      "C:\\Users\\Public\\Documents\\Anaconda\\lib\\site-packages\\sklearn\\metrics\\ranking.py:444: RuntimeWarning: invalid value encountered in true_divide\n",
      "  recall = tps / tps[-1]\n",
      "C:\\Users\\Public\\Documents\\Anaconda\\lib\\site-packages\\sklearn\\metrics\\ranking.py:94: RuntimeWarning: invalid value encountered in less\n",
      "  if np.any(dx < 0):\n",
      "C:\\Users\\Public\\Documents\\Anaconda\\lib\\site-packages\\sklearn\\metrics\\classification.py:1137: UndefinedMetricWarning: Recall is ill-defined and being set to 0.0 due to no true samples.\n",
      "  'recall', 'true', average, warn_for)\n"
     ]
    },
    {
     "name": "stdout",
     "output_type": "stream",
     "text": [
      "Training Random Forest\n",
      "Training Random Forest\n",
      "Training Random Forest\n"
     ]
    },
    {
     "name": "stderr",
     "output_type": "stream",
     "text": [
      "C:\\Users\\Public\\Documents\\Anaconda\\lib\\site-packages\\sklearn\\metrics\\classification.py:1137: UndefinedMetricWarning: F-score is ill-defined and being set to 0.0 due to no true samples.\n",
      "  'recall', 'true', average, warn_for)\n",
      "C:\\Users\\Public\\Documents\\Anaconda\\lib\\site-packages\\sklearn\\metrics\\ranking.py:444: RuntimeWarning: invalid value encountered in true_divide\n",
      "  recall = tps / tps[-1]\n",
      "C:\\Users\\Public\\Documents\\Anaconda\\lib\\site-packages\\sklearn\\metrics\\ranking.py:94: RuntimeWarning: invalid value encountered in less\n",
      "  if np.any(dx < 0):\n",
      "C:\\Users\\Public\\Documents\\Anaconda\\lib\\site-packages\\sklearn\\metrics\\classification.py:1137: UndefinedMetricWarning: Recall is ill-defined and being set to 0.0 due to no true samples.\n",
      "  'recall', 'true', average, warn_for)\n"
     ]
    },
    {
     "name": "stdout",
     "output_type": "stream",
     "text": [
      "Training Random Forest\n",
      "Training Random Forest\n",
      "Training Random Forest\n"
     ]
    },
    {
     "name": "stderr",
     "output_type": "stream",
     "text": [
      "C:\\Users\\Public\\Documents\\Anaconda\\lib\\site-packages\\sklearn\\metrics\\classification.py:1137: UndefinedMetricWarning: F-score is ill-defined and being set to 0.0 due to no true samples.\n",
      "  'recall', 'true', average, warn_for)\n",
      "C:\\Users\\Public\\Documents\\Anaconda\\lib\\site-packages\\sklearn\\metrics\\ranking.py:444: RuntimeWarning: invalid value encountered in true_divide\n",
      "  recall = tps / tps[-1]\n",
      "C:\\Users\\Public\\Documents\\Anaconda\\lib\\site-packages\\sklearn\\metrics\\ranking.py:94: RuntimeWarning: invalid value encountered in less\n",
      "  if np.any(dx < 0):\n",
      "C:\\Users\\Public\\Documents\\Anaconda\\lib\\site-packages\\sklearn\\metrics\\classification.py:1137: UndefinedMetricWarning: Recall is ill-defined and being set to 0.0 due to no true samples.\n",
      "  'recall', 'true', average, warn_for)\n"
     ]
    },
    {
     "name": "stdout",
     "output_type": "stream",
     "text": [
      "Training Random Forest\n",
      "Training Random Forest\n",
      "Training Random Forest\n"
     ]
    },
    {
     "name": "stderr",
     "output_type": "stream",
     "text": [
      "C:\\Users\\Public\\Documents\\Anaconda\\lib\\site-packages\\sklearn\\metrics\\classification.py:1137: UndefinedMetricWarning: F-score is ill-defined and being set to 0.0 due to no true samples.\n",
      "  'recall', 'true', average, warn_for)\n",
      "C:\\Users\\Public\\Documents\\Anaconda\\lib\\site-packages\\sklearn\\metrics\\ranking.py:444: RuntimeWarning: invalid value encountered in true_divide\n",
      "  recall = tps / tps[-1]\n",
      "C:\\Users\\Public\\Documents\\Anaconda\\lib\\site-packages\\sklearn\\metrics\\ranking.py:94: RuntimeWarning: invalid value encountered in less\n",
      "  if np.any(dx < 0):\n",
      "C:\\Users\\Public\\Documents\\Anaconda\\lib\\site-packages\\sklearn\\metrics\\classification.py:1137: UndefinedMetricWarning: Recall is ill-defined and being set to 0.0 due to no true samples.\n",
      "  'recall', 'true', average, warn_for)\n"
     ]
    },
    {
     "name": "stdout",
     "output_type": "stream",
     "text": [
      "Training Random Forest\n",
      "Training Random Forest\n",
      "Training Random Forest\n"
     ]
    },
    {
     "name": "stderr",
     "output_type": "stream",
     "text": [
      "C:\\Users\\Public\\Documents\\Anaconda\\lib\\site-packages\\sklearn\\metrics\\classification.py:1137: UndefinedMetricWarning: F-score is ill-defined and being set to 0.0 due to no true samples.\n",
      "  'recall', 'true', average, warn_for)\n",
      "C:\\Users\\Public\\Documents\\Anaconda\\lib\\site-packages\\sklearn\\metrics\\ranking.py:444: RuntimeWarning: invalid value encountered in true_divide\n",
      "  recall = tps / tps[-1]\n",
      "C:\\Users\\Public\\Documents\\Anaconda\\lib\\site-packages\\sklearn\\metrics\\ranking.py:94: RuntimeWarning: invalid value encountered in less\n",
      "  if np.any(dx < 0):\n",
      "C:\\Users\\Public\\Documents\\Anaconda\\lib\\site-packages\\sklearn\\metrics\\classification.py:1137: UndefinedMetricWarning: Recall is ill-defined and being set to 0.0 due to no true samples.\n",
      "  'recall', 'true', average, warn_for)\n"
     ]
    },
    {
     "name": "stdout",
     "output_type": "stream",
     "text": [
      "Training Random Forest\n",
      "Training Random Forest\n",
      "Training Random Forest\n",
      "Training Random Forest\n",
      "Training Random Forest\n",
      "Training Random Forest\n",
      "Training Random Forest\n",
      "Training Random Forest\n",
      "Training Random Forest\n",
      "Training Random Forest\n",
      "Training Random Forest\n",
      "Training Random Forest\n",
      "Training Random Forest\n",
      "Training Random Forest\n",
      "Training Random Forest\n",
      "Training Random Forest\n",
      "Training Random Forest\n",
      "Training Random Forest\n",
      "Training Random Forest\n",
      "Training Random Forest\n",
      "Training Random Forest\n",
      "Training Random Forest\n",
      "Training Random Forest\n",
      "Training Random Forest\n",
      "Training Random Forest\n",
      "Training Random Forest\n",
      "Training Random Forest\n",
      "Training Random Forest\n",
      "Training Random Forest\n",
      "Training Random Forest\n",
      "Training Random Forest\n",
      "Training Random Forest\n",
      "Training Random Forest\n"
     ]
    },
    {
     "name": "stderr",
     "output_type": "stream",
     "text": [
      "C:\\Users\\Public\\Documents\\Anaconda\\lib\\site-packages\\sklearn\\metrics\\classification.py:1137: UndefinedMetricWarning: F-score is ill-defined and being set to 0.0 due to no true samples.\n",
      "  'recall', 'true', average, warn_for)\n",
      "C:\\Users\\Public\\Documents\\Anaconda\\lib\\site-packages\\sklearn\\metrics\\ranking.py:444: RuntimeWarning: invalid value encountered in true_divide\n",
      "  recall = tps / tps[-1]\n",
      "C:\\Users\\Public\\Documents\\Anaconda\\lib\\site-packages\\sklearn\\metrics\\ranking.py:94: RuntimeWarning: invalid value encountered in less\n",
      "  if np.any(dx < 0):\n",
      "C:\\Users\\Public\\Documents\\Anaconda\\lib\\site-packages\\sklearn\\metrics\\classification.py:1137: UndefinedMetricWarning: Recall is ill-defined and being set to 0.0 due to no true samples.\n",
      "  'recall', 'true', average, warn_for)\n"
     ]
    },
    {
     "name": "stdout",
     "output_type": "stream",
     "text": [
      "Training Random Forest\n",
      "Training Random Forest\n",
      "Training Random Forest\n"
     ]
    },
    {
     "name": "stderr",
     "output_type": "stream",
     "text": [
      "C:\\Users\\Public\\Documents\\Anaconda\\lib\\site-packages\\sklearn\\metrics\\classification.py:1137: UndefinedMetricWarning: F-score is ill-defined and being set to 0.0 due to no true samples.\n",
      "  'recall', 'true', average, warn_for)\n",
      "C:\\Users\\Public\\Documents\\Anaconda\\lib\\site-packages\\sklearn\\metrics\\ranking.py:444: RuntimeWarning: invalid value encountered in true_divide\n",
      "  recall = tps / tps[-1]\n",
      "C:\\Users\\Public\\Documents\\Anaconda\\lib\\site-packages\\sklearn\\metrics\\ranking.py:94: RuntimeWarning: invalid value encountered in less\n",
      "  if np.any(dx < 0):\n",
      "C:\\Users\\Public\\Documents\\Anaconda\\lib\\site-packages\\sklearn\\metrics\\classification.py:1137: UndefinedMetricWarning: Recall is ill-defined and being set to 0.0 due to no true samples.\n",
      "  'recall', 'true', average, warn_for)\n"
     ]
    },
    {
     "name": "stdout",
     "output_type": "stream",
     "text": [
      "Training Random Forest\n",
      "Training Random Forest\n",
      "Training Random Forest\n"
     ]
    },
    {
     "name": "stderr",
     "output_type": "stream",
     "text": [
      "C:\\Users\\Public\\Documents\\Anaconda\\lib\\site-packages\\sklearn\\metrics\\classification.py:1137: UndefinedMetricWarning: F-score is ill-defined and being set to 0.0 due to no true samples.\n",
      "  'recall', 'true', average, warn_for)\n",
      "C:\\Users\\Public\\Documents\\Anaconda\\lib\\site-packages\\sklearn\\metrics\\ranking.py:444: RuntimeWarning: invalid value encountered in true_divide\n",
      "  recall = tps / tps[-1]\n",
      "C:\\Users\\Public\\Documents\\Anaconda\\lib\\site-packages\\sklearn\\metrics\\ranking.py:94: RuntimeWarning: invalid value encountered in less\n",
      "  if np.any(dx < 0):\n",
      "C:\\Users\\Public\\Documents\\Anaconda\\lib\\site-packages\\sklearn\\metrics\\classification.py:1137: UndefinedMetricWarning: Recall is ill-defined and being set to 0.0 due to no true samples.\n",
      "  'recall', 'true', average, warn_for)\n"
     ]
    },
    {
     "name": "stdout",
     "output_type": "stream",
     "text": [
      "Training Random Forest\n",
      "Training Random Forest\n",
      "Training Random Forest\n"
     ]
    },
    {
     "name": "stderr",
     "output_type": "stream",
     "text": [
      "C:\\Users\\Public\\Documents\\Anaconda\\lib\\site-packages\\sklearn\\metrics\\classification.py:1137: UndefinedMetricWarning: F-score is ill-defined and being set to 0.0 due to no true samples.\n",
      "  'recall', 'true', average, warn_for)\n",
      "C:\\Users\\Public\\Documents\\Anaconda\\lib\\site-packages\\sklearn\\metrics\\ranking.py:444: RuntimeWarning: invalid value encountered in true_divide\n",
      "  recall = tps / tps[-1]\n",
      "C:\\Users\\Public\\Documents\\Anaconda\\lib\\site-packages\\sklearn\\metrics\\ranking.py:94: RuntimeWarning: invalid value encountered in less\n",
      "  if np.any(dx < 0):\n",
      "C:\\Users\\Public\\Documents\\Anaconda\\lib\\site-packages\\sklearn\\metrics\\classification.py:1137: UndefinedMetricWarning: Recall is ill-defined and being set to 0.0 due to no true samples.\n",
      "  'recall', 'true', average, warn_for)\n"
     ]
    },
    {
     "name": "stdout",
     "output_type": "stream",
     "text": [
      "Training Random Forest\n",
      "Training Random Forest\n",
      "Training Random Forest\n"
     ]
    },
    {
     "name": "stderr",
     "output_type": "stream",
     "text": [
      "C:\\Users\\Public\\Documents\\Anaconda\\lib\\site-packages\\sklearn\\metrics\\classification.py:1137: UndefinedMetricWarning: F-score is ill-defined and being set to 0.0 due to no true samples.\n",
      "  'recall', 'true', average, warn_for)\n",
      "C:\\Users\\Public\\Documents\\Anaconda\\lib\\site-packages\\sklearn\\metrics\\ranking.py:444: RuntimeWarning: invalid value encountered in true_divide\n",
      "  recall = tps / tps[-1]\n",
      "C:\\Users\\Public\\Documents\\Anaconda\\lib\\site-packages\\sklearn\\metrics\\ranking.py:94: RuntimeWarning: invalid value encountered in less\n",
      "  if np.any(dx < 0):\n",
      "C:\\Users\\Public\\Documents\\Anaconda\\lib\\site-packages\\sklearn\\metrics\\classification.py:1137: UndefinedMetricWarning: Recall is ill-defined and being set to 0.0 due to no true samples.\n",
      "  'recall', 'true', average, warn_for)\n"
     ]
    },
    {
     "name": "stdout",
     "output_type": "stream",
     "text": [
      "Training Random Forest\n",
      "Training Random Forest\n",
      "Training Random Forest\n"
     ]
    },
    {
     "name": "stderr",
     "output_type": "stream",
     "text": [
      "C:\\Users\\Public\\Documents\\Anaconda\\lib\\site-packages\\sklearn\\metrics\\classification.py:1137: UndefinedMetricWarning: F-score is ill-defined and being set to 0.0 due to no true samples.\n",
      "  'recall', 'true', average, warn_for)\n",
      "C:\\Users\\Public\\Documents\\Anaconda\\lib\\site-packages\\sklearn\\metrics\\ranking.py:444: RuntimeWarning: invalid value encountered in true_divide\n",
      "  recall = tps / tps[-1]\n",
      "C:\\Users\\Public\\Documents\\Anaconda\\lib\\site-packages\\sklearn\\metrics\\ranking.py:94: RuntimeWarning: invalid value encountered in less\n",
      "  if np.any(dx < 0):\n",
      "C:\\Users\\Public\\Documents\\Anaconda\\lib\\site-packages\\sklearn\\metrics\\classification.py:1137: UndefinedMetricWarning: Recall is ill-defined and being set to 0.0 due to no true samples.\n",
      "  'recall', 'true', average, warn_for)\n"
     ]
    },
    {
     "name": "stdout",
     "output_type": "stream",
     "text": [
      "Training Random Forest\n",
      "Training Random Forest\n",
      "Training Random Forest\n"
     ]
    },
    {
     "name": "stderr",
     "output_type": "stream",
     "text": [
      "C:\\Users\\Public\\Documents\\Anaconda\\lib\\site-packages\\sklearn\\metrics\\classification.py:1137: UndefinedMetricWarning: F-score is ill-defined and being set to 0.0 due to no true samples.\n",
      "  'recall', 'true', average, warn_for)\n",
      "C:\\Users\\Public\\Documents\\Anaconda\\lib\\site-packages\\sklearn\\metrics\\ranking.py:444: RuntimeWarning: invalid value encountered in true_divide\n",
      "  recall = tps / tps[-1]\n",
      "C:\\Users\\Public\\Documents\\Anaconda\\lib\\site-packages\\sklearn\\metrics\\ranking.py:94: RuntimeWarning: invalid value encountered in less\n",
      "  if np.any(dx < 0):\n",
      "C:\\Users\\Public\\Documents\\Anaconda\\lib\\site-packages\\sklearn\\metrics\\classification.py:1137: UndefinedMetricWarning: Recall is ill-defined and being set to 0.0 due to no true samples.\n",
      "  'recall', 'true', average, warn_for)\n"
     ]
    },
    {
     "name": "stdout",
     "output_type": "stream",
     "text": [
      "Training Random Forest\n",
      "Training Random Forest\n",
      "Training Random Forest\n"
     ]
    },
    {
     "name": "stderr",
     "output_type": "stream",
     "text": [
      "C:\\Users\\Public\\Documents\\Anaconda\\lib\\site-packages\\sklearn\\metrics\\classification.py:1137: UndefinedMetricWarning: F-score is ill-defined and being set to 0.0 due to no true samples.\n",
      "  'recall', 'true', average, warn_for)\n",
      "C:\\Users\\Public\\Documents\\Anaconda\\lib\\site-packages\\sklearn\\metrics\\ranking.py:444: RuntimeWarning: invalid value encountered in true_divide\n",
      "  recall = tps / tps[-1]\n",
      "C:\\Users\\Public\\Documents\\Anaconda\\lib\\site-packages\\sklearn\\metrics\\ranking.py:94: RuntimeWarning: invalid value encountered in less\n",
      "  if np.any(dx < 0):\n",
      "C:\\Users\\Public\\Documents\\Anaconda\\lib\\site-packages\\sklearn\\metrics\\classification.py:1137: UndefinedMetricWarning: Recall is ill-defined and being set to 0.0 due to no true samples.\n",
      "  'recall', 'true', average, warn_for)\n"
     ]
    },
    {
     "name": "stdout",
     "output_type": "stream",
     "text": [
      "Training Random Forest\n",
      "Training Random Forest\n",
      "Training Random Forest\n"
     ]
    },
    {
     "name": "stderr",
     "output_type": "stream",
     "text": [
      "C:\\Users\\Public\\Documents\\Anaconda\\lib\\site-packages\\sklearn\\metrics\\classification.py:1137: UndefinedMetricWarning: F-score is ill-defined and being set to 0.0 due to no true samples.\n",
      "  'recall', 'true', average, warn_for)\n",
      "C:\\Users\\Public\\Documents\\Anaconda\\lib\\site-packages\\sklearn\\metrics\\ranking.py:444: RuntimeWarning: invalid value encountered in true_divide\n",
      "  recall = tps / tps[-1]\n",
      "C:\\Users\\Public\\Documents\\Anaconda\\lib\\site-packages\\sklearn\\metrics\\ranking.py:94: RuntimeWarning: invalid value encountered in less\n",
      "  if np.any(dx < 0):\n",
      "C:\\Users\\Public\\Documents\\Anaconda\\lib\\site-packages\\sklearn\\metrics\\classification.py:1137: UndefinedMetricWarning: Recall is ill-defined and being set to 0.0 due to no true samples.\n",
      "  'recall', 'true', average, warn_for)\n"
     ]
    },
    {
     "name": "stdout",
     "output_type": "stream",
     "text": [
      "Training Random Forest\n",
      "Training Random Forest\n",
      "Training Random Forest\n"
     ]
    },
    {
     "name": "stderr",
     "output_type": "stream",
     "text": [
      "C:\\Users\\Public\\Documents\\Anaconda\\lib\\site-packages\\sklearn\\metrics\\classification.py:1137: UndefinedMetricWarning: F-score is ill-defined and being set to 0.0 due to no true samples.\n",
      "  'recall', 'true', average, warn_for)\n",
      "C:\\Users\\Public\\Documents\\Anaconda\\lib\\site-packages\\sklearn\\metrics\\ranking.py:444: RuntimeWarning: invalid value encountered in true_divide\n",
      "  recall = tps / tps[-1]\n",
      "C:\\Users\\Public\\Documents\\Anaconda\\lib\\site-packages\\sklearn\\metrics\\ranking.py:94: RuntimeWarning: invalid value encountered in less\n",
      "  if np.any(dx < 0):\n",
      "C:\\Users\\Public\\Documents\\Anaconda\\lib\\site-packages\\sklearn\\metrics\\classification.py:1137: UndefinedMetricWarning: Recall is ill-defined and being set to 0.0 due to no true samples.\n",
      "  'recall', 'true', average, warn_for)\n"
     ]
    },
    {
     "name": "stdout",
     "output_type": "stream",
     "text": [
      "Training Random Forest\n",
      "Training Random Forest\n",
      "Training Random Forest\n"
     ]
    },
    {
     "name": "stderr",
     "output_type": "stream",
     "text": [
      "C:\\Users\\Public\\Documents\\Anaconda\\lib\\site-packages\\sklearn\\metrics\\classification.py:1137: UndefinedMetricWarning: F-score is ill-defined and being set to 0.0 due to no true samples.\n",
      "  'recall', 'true', average, warn_for)\n",
      "C:\\Users\\Public\\Documents\\Anaconda\\lib\\site-packages\\sklearn\\metrics\\ranking.py:444: RuntimeWarning: invalid value encountered in true_divide\n",
      "  recall = tps / tps[-1]\n",
      "C:\\Users\\Public\\Documents\\Anaconda\\lib\\site-packages\\sklearn\\metrics\\ranking.py:94: RuntimeWarning: invalid value encountered in less\n",
      "  if np.any(dx < 0):\n",
      "C:\\Users\\Public\\Documents\\Anaconda\\lib\\site-packages\\sklearn\\metrics\\classification.py:1137: UndefinedMetricWarning: Recall is ill-defined and being set to 0.0 due to no true samples.\n",
      "  'recall', 'true', average, warn_for)\n"
     ]
    },
    {
     "name": "stdout",
     "output_type": "stream",
     "text": [
      "Training Random Forest\n",
      "Training Random Forest\n",
      "Training Random Forest\n"
     ]
    },
    {
     "name": "stderr",
     "output_type": "stream",
     "text": [
      "C:\\Users\\Public\\Documents\\Anaconda\\lib\\site-packages\\sklearn\\metrics\\classification.py:1137: UndefinedMetricWarning: F-score is ill-defined and being set to 0.0 due to no true samples.\n",
      "  'recall', 'true', average, warn_for)\n",
      "C:\\Users\\Public\\Documents\\Anaconda\\lib\\site-packages\\sklearn\\metrics\\ranking.py:444: RuntimeWarning: invalid value encountered in true_divide\n",
      "  recall = tps / tps[-1]\n",
      "C:\\Users\\Public\\Documents\\Anaconda\\lib\\site-packages\\sklearn\\metrics\\ranking.py:94: RuntimeWarning: invalid value encountered in less\n",
      "  if np.any(dx < 0):\n",
      "C:\\Users\\Public\\Documents\\Anaconda\\lib\\site-packages\\sklearn\\metrics\\classification.py:1137: UndefinedMetricWarning: Recall is ill-defined and being set to 0.0 due to no true samples.\n",
      "  'recall', 'true', average, warn_for)\n"
     ]
    },
    {
     "name": "stdout",
     "output_type": "stream",
     "text": [
      "Training Random Forest\n",
      "Training Random Forest\n",
      "Training Random Forest\n"
     ]
    },
    {
     "name": "stderr",
     "output_type": "stream",
     "text": [
      "C:\\Users\\Public\\Documents\\Anaconda\\lib\\site-packages\\sklearn\\metrics\\classification.py:1137: UndefinedMetricWarning: F-score is ill-defined and being set to 0.0 due to no true samples.\n",
      "  'recall', 'true', average, warn_for)\n",
      "C:\\Users\\Public\\Documents\\Anaconda\\lib\\site-packages\\sklearn\\metrics\\ranking.py:444: RuntimeWarning: invalid value encountered in true_divide\n",
      "  recall = tps / tps[-1]\n",
      "C:\\Users\\Public\\Documents\\Anaconda\\lib\\site-packages\\sklearn\\metrics\\ranking.py:94: RuntimeWarning: invalid value encountered in less\n",
      "  if np.any(dx < 0):\n",
      "C:\\Users\\Public\\Documents\\Anaconda\\lib\\site-packages\\sklearn\\metrics\\classification.py:1137: UndefinedMetricWarning: Recall is ill-defined and being set to 0.0 due to no true samples.\n",
      "  'recall', 'true', average, warn_for)\n",
      "C:\\Users\\Public\\Documents\\Anaconda\\lib\\site-packages\\sklearn\\metrics\\classification.py:1137: UndefinedMetricWarning: F-score is ill-defined and being set to 0.0 due to no true samples.\n",
      "  'recall', 'true', average, warn_for)\n",
      "C:\\Users\\Public\\Documents\\Anaconda\\lib\\site-packages\\sklearn\\metrics\\ranking.py:444: RuntimeWarning: invalid value encountered in true_divide\n",
      "  recall = tps / tps[-1]\n",
      "C:\\Users\\Public\\Documents\\Anaconda\\lib\\site-packages\\sklearn\\metrics\\ranking.py:94: RuntimeWarning: invalid value encountered in less\n",
      "  if np.any(dx < 0):\n",
      "C:\\Users\\Public\\Documents\\Anaconda\\lib\\site-packages\\sklearn\\metrics\\classification.py:1137: UndefinedMetricWarning: Recall is ill-defined and being set to 0.0 due to no true samples.\n",
      "  'recall', 'true', average, warn_for)\n"
     ]
    },
    {
     "name": "stdout",
     "output_type": "stream",
     "text": [
      "Training Random Forest\n",
      "Training Random Forest\n",
      "Training Random Forest\n",
      "Training Random Forest\n",
      "Training Random Forest\n",
      "Training Random Forest\n",
      "Training Random Forest\n",
      "Training Random Forest\n",
      "Training Random Forest\n",
      "Training Random Forest\n",
      "Training Random Forest\n",
      "Training Random Forest\n",
      "Training Random Forest\n",
      "Training Random Forest\n",
      "Training Random Forest\n",
      "Training Random Forest\n",
      "Training Random Forest\n",
      "Training Random Forest\n",
      "Training Random Forest\n",
      "Training Random Forest\n",
      "Training Random Forest\n",
      "Training Random Forest\n",
      "Training Random Forest\n",
      "Training Random Forest\n",
      "Training Random Forest\n",
      "Training Random Forest\n",
      "Training Random Forest\n",
      "Training Random Forest\n",
      "Training Random Forest\n",
      "Training Random Forest\n",
      "Training Random Forest\n",
      "Training Random Forest\n",
      "Training Random Forest\n",
      "Training Random Forest\n",
      "Training Random Forest\n",
      "Training Random Forest\n",
      "Training Random Forest\n",
      "Training Random Forest\n",
      "Training Random Forest\n",
      "Training Random Forest\n",
      "Training Random Forest\n",
      "Elapsed time = 266.381 min\n"
     ]
    }
   ],
   "source": [
    "t1=time.time()\n",
    "results = {}\n",
    "\n",
    "for mode in ['watch','sensor']:\n",
    "    \n",
    "    results[mode] = {}\n",
    "\n",
    "    for symptom in ['Tremor','Bradykinesia']:\n",
    "        \n",
    "        results[mode][symptom] = {}\n",
    "        \n",
    "        results[mode][symptom]['Binary'] = {}\n",
    "        binary_res_all = pd.DataFrame()\n",
    "        binary_res_groups = []\n",
    "        \n",
    "        results[mode][symptom]['Multiclass'] = {}\n",
    "        multi_res_all = pd.DataFrame()\n",
    "        multi_res_groups = pd.DataFrame()\n",
    "        \n",
    "        results[mode][symptom]['Regressor'] = {}\n",
    "        regress_res_all = pd.DataFrame()\n",
    "        regress_res_groups = pd.DataFrame()\n",
    "\n",
    "        for freq in datadict[mode].keys():\n",
    "\n",
    "            data = datadict[mode][freq]\n",
    "            Data = data.copy() #original unmodified dataframe\n",
    "            Data=Data[~Data[symptom].isnull()]\n",
    "            Data=Data.reset_index(drop=True) #reset index\n",
    "\n",
    "            X = Data.iloc[:,5:].as_matrix()\n",
    "            fnames = Data.iloc[:,5:].columns.values\n",
    "            groups = Data.Subject.as_matrix()\n",
    "\n",
    "            #Binary\n",
    "            \n",
    "            y = ((Data[symptom]>0)).values.astype(int)\n",
    "\n",
    "            model = [RandomForestClassifier(n_estimators=50,random_state=2)]          \n",
    "            model_name = ['Random Forest']\n",
    "            model = list(zip(model,model_name))\n",
    "\n",
    "            res,res_group = LOSOCV(Data,X,y,groups,model)\n",
    "            res['Sampling Rate'] = str(freq) + ' Hz'\n",
    "            binary_res_all = pd.concat((binary_res_all,res))\n",
    "            binary_res_groups.append(res_group)\n",
    "            \n",
    "            results[mode][symptom]['Binary']['res_all'] = binary_res_all.reset_index(drop=True)\n",
    "            results[mode][symptom]['Binary']['res_groups'] = binary_res_groups\n",
    "\n",
    "            #Multiple Classes\n",
    "\n",
    "            y = Data[symptom].values.astype(int)\n",
    "\n",
    "            model = [RandomForestClassifier(n_estimators=50,random_state=2)]          \n",
    "            model_name = ['Random Forest']\n",
    "            model = list(zip(model,model_name))\n",
    "\n",
    "            res,res_group = LOSOMultiClass(Data,X,y,groups,model)\n",
    "            res['Sampling Rate'] = str(freq) + ' Hz'\n",
    "            multi_res_groups = pd.concat((multi_res_groups,res))\n",
    "            R = pd.DataFrame()\n",
    "            R['RMS'] = [np.nanmean(multi_res_groups[multi_res_groups['Sampling Rate']==(str(freq) + ' Hz')]['RMS'])]\n",
    "            R['Model'] = ['Random Forest']\n",
    "            R['Sampling Rate'] = [str(freq) + ' Hz']\n",
    "            multi_res_all = pd.concat([multi_res_all,R])\n",
    "\n",
    "            results[mode][symptom]['Multiclass']['res_all'] = multi_res_all.reset_index(drop=True)\n",
    "            results[mode][symptom]['Multiclass']['res_groups'] = multi_res_groups\n",
    "\n",
    "            #Regressor\n",
    "\n",
    "            y = Data[symptom].values.astype(int) #target \n",
    "\n",
    "            model = [RandomForestRegressor(n_estimators=50,random_state=2)]          \n",
    "            model_name = ['Random Forest']\n",
    "            model = list(zip(model,model_name))\n",
    "\n",
    "            res,res_group = LOSOMultiClass(Data,X,y,groups,model)\n",
    "            res['Sampling Rate'] = str(freq) + ' Hz'\n",
    "            regress_res_groups = pd.concat((regress_res_groups,res))\n",
    "            R = pd.DataFrame()\n",
    "            R['RMS'] = [np.nanmean(regress_res_groups[regress_res_groups['Sampling Rate']==(str(freq) + ' Hz')]['RMS'])]\n",
    "            R['Model'] = ['Random Forest'] \n",
    "            R['Sampling Rate'] = [str(freq) + ' Hz']\n",
    "            regress_res_all = pd.concat([regress_res_all,R])\n",
    "\n",
    "            results[mode][symptom]['Regressor']['res_all'] = regress_res_all.reset_index(drop=True)\n",
    "            results[mode][symptom]['Regressor']['res_groups'] = regress_res_groups\n",
    "    \n",
    "print('Elapsed time = %.3f min'%((time.time()-t1)/60))    "
   ]
  },
  {
   "cell_type": "code",
   "execution_count": 114,
   "metadata": {},
   "outputs": [],
   "source": [
    "def barplotFreq(results,mode,symptom,classifier):\n",
    "    if 'RMS' in results[mode][symptom][classifier]['res_groups']:\n",
    "        groups = results[mode][symptom][classifier]['res_groups']['Sampling Rate']\n",
    "        RMS = results[mode][symptom][classifier]['res_groups']['RMS']\n",
    "        sns.barplot(groups,RMS,ci='sd')\n",
    "        plt.ylabel('RMS')\n",
    "        m = results[mode][symptom][classifier]['res_all']['RMS'].max()\n",
    "        m = math.ceil((m+.01)*20)/20\n",
    "        plt.ylim([0,m])\n",
    "    else:\n",
    "        groups = results[mode][symptom][classifier]['res_all']['Sampling Rate'].values\n",
    "        aucdf = pd.DataFrame()\n",
    "        data = results[mode][symptom][classifier]['res_groups']\n",
    "        for i in range(len(data)):\n",
    "            aucdf[groups[i]] = data[i]['Random Forest']['auroc']\n",
    "        sns.barplot(data=aucdf)\n",
    "        plt.ylabel('AUROC')\n",
    "        plt.ylim([0,1])\n",
    "        \n",
    "    ax = plt.xticks(rotation=90)\n",
    "    plt.xlabel('Frequency')\n",
    "    plt.title('Effect of Sampling Frequency on %s Model Performance: %s'%(classifier,symptom))\n",
    "    \n",
    "    print(results[mode][symptom][classifier]['res_all'])"
   ]
  },
  {
   "cell_type": "code",
   "execution_count": 115,
   "metadata": {},
   "outputs": [
    {
     "name": "stdout",
     "output_type": "stream",
     "text": [
      "      auprc     auroc        f1          model Sampling Rate\n",
      "0  0.497454  0.767256  0.354482  Random Forest         50 Hz\n",
      "1  0.497646  0.759243  0.344373  Random Forest         45 Hz\n",
      "2  0.487468  0.759079  0.348926  Random Forest         40 Hz\n",
      "3  0.486184  0.761320  0.341575  Random Forest         35 Hz\n",
      "4  0.492203  0.744982  0.346192  Random Forest         30 Hz\n",
      "5  0.485027  0.736416  0.350749  Random Forest         25 Hz\n",
      "6  0.477007  0.722293  0.334649  Random Forest         20 Hz\n",
      "7  0.473305  0.710828  0.312748  Random Forest         15 Hz\n",
      "8  0.430888  0.646743  0.234675  Random Forest         10 Hz\n",
      "9  0.468251  0.588833  0.222172  Random Forest          5 Hz\n"
     ]
    },
    {
     "data": {
      "image/png": "[encoded data removed]",
      "text/plain": [
       "<matplotlib.figure.Figure at 0x100e1be0>"
      ]
     },
     "metadata": {},
     "output_type": "display_data"
    }
   ],
   "source": [
    "barplotFreq(results,'watch','Tremor','Binary')"
   ]
  },
  {
   "cell_type": "code",
   "execution_count": 117,
   "metadata": {},
   "outputs": [
    {
     "name": "stdout",
     "output_type": "stream",
     "text": [
      "        RMS          Model Sampling Rate\n",
      "0  0.132279  Random Forest         50 Hz\n",
      "1  0.128771  Random Forest         45 Hz\n",
      "2  0.133552  Random Forest         40 Hz\n",
      "3  0.133336  Random Forest         35 Hz\n",
      "4  0.128480  Random Forest         30 Hz\n",
      "5  0.125319  Random Forest         25 Hz\n",
      "6  0.122766  Random Forest         20 Hz\n",
      "7  0.123319  Random Forest         15 Hz\n",
      "8  0.116381  Random Forest         10 Hz\n",
      "9  0.122850  Random Forest          5 Hz\n"
     ]
    },
    {
     "data": {
      "image/png": "[encoded data removed]",
      "text/plain": [
       "<matplotlib.figure.Figure at 0xc8f24e0>"
      ]
     },
     "metadata": {},
     "output_type": "display_data"
    }
   ],
   "source": [
    "barplotFreq(results,'watch','Tremor','Multiclass')"
   ]
  },
  {
   "cell_type": "code",
   "execution_count": 118,
   "metadata": {},
   "outputs": [
    {
     "name": "stdout",
     "output_type": "stream",
     "text": [
      "        RMS          Model Sampling Rate\n",
      "0  0.156177  Random Forest         50 Hz\n",
      "1  0.154805  Random Forest         45 Hz\n",
      "2  0.154171  Random Forest         40 Hz\n",
      "3  0.154924  Random Forest         35 Hz\n",
      "4  0.154227  Random Forest         30 Hz\n",
      "5  0.154675  Random Forest         25 Hz\n",
      "6  0.155402  Random Forest         20 Hz\n",
      "7  0.162732  Random Forest         15 Hz\n",
      "8  0.154948  Random Forest         10 Hz\n",
      "9  0.161339  Random Forest          5 Hz\n"
     ]
    },
    {
     "data": {
      "image/png": "[encoded data removed]",
      "text/plain": [
       "<matplotlib.figure.Figure at 0xd30fda0>"
      ]
     },
     "metadata": {},
     "output_type": "display_data"
    }
   ],
   "source": [
    "barplotFreq(results,'watch','Tremor','Regressor')"
   ]
  },
  {
   "cell_type": "code",
   "execution_count": 119,
   "metadata": {
    "scrolled": true
   },
   "outputs": [
    {
     "data": {
      "text/html": [
       "<div>\n",
       "<style scoped>\n",
       "    .dataframe tbody tr th:only-of-type {\n",
       "        vertical-align: middle;\n",
       "    }\n",
       "\n",
       "    .dataframe tbody tr th {\n",
       "        vertical-align: top;\n",
       "    }\n",
       "\n",
       "    .dataframe thead th {\n",
       "        text-align: right;\n",
       "    }\n",
       "</style>\n",
       "<table border=\"1\" class=\"dataframe\">\n",
       "  <thead>\n",
       "    <tr style=\"text-align: right;\">\n",
       "      <th></th>\n",
       "      <th>RMS</th>\n",
       "      <th>model</th>\n",
       "      <th>Sampling Rate</th>\n",
       "    </tr>\n",
       "  </thead>\n",
       "  <tbody>\n",
       "    <tr>\n",
       "      <th>0</th>\n",
       "      <td>0.184501</td>\n",
       "      <td>Random Forest</td>\n",
       "      <td>50 Hz</td>\n",
       "    </tr>\n",
       "    <tr>\n",
       "      <th>0</th>\n",
       "      <td>0.159758</td>\n",
       "      <td>Random Forest</td>\n",
       "      <td>50 Hz</td>\n",
       "    </tr>\n",
       "    <tr>\n",
       "      <th>0</th>\n",
       "      <td>0.148610</td>\n",
       "      <td>Random Forest</td>\n",
       "      <td>50 Hz</td>\n",
       "    </tr>\n",
       "    <tr>\n",
       "      <th>0</th>\n",
       "      <td>0.143144</td>\n",
       "      <td>Random Forest</td>\n",
       "      <td>50 Hz</td>\n",
       "    </tr>\n",
       "    <tr>\n",
       "      <th>0</th>\n",
       "      <td>0.143272</td>\n",
       "      <td>Random Forest</td>\n",
       "      <td>50 Hz</td>\n",
       "    </tr>\n",
       "    <tr>\n",
       "      <th>0</th>\n",
       "      <td>0.156010</td>\n",
       "      <td>Random Forest</td>\n",
       "      <td>50 Hz</td>\n",
       "    </tr>\n",
       "    <tr>\n",
       "      <th>0</th>\n",
       "      <td>0.154807</td>\n",
       "      <td>Random Forest</td>\n",
       "      <td>50 Hz</td>\n",
       "    </tr>\n",
       "    <tr>\n",
       "      <th>0</th>\n",
       "      <td>0.157549</td>\n",
       "      <td>Random Forest</td>\n",
       "      <td>50 Hz</td>\n",
       "    </tr>\n",
       "    <tr>\n",
       "      <th>0</th>\n",
       "      <td>0.153954</td>\n",
       "      <td>Random Forest</td>\n",
       "      <td>50 Hz</td>\n",
       "    </tr>\n",
       "    <tr>\n",
       "      <th>0</th>\n",
       "      <td>0.151835</td>\n",
       "      <td>Random Forest</td>\n",
       "      <td>50 Hz</td>\n",
       "    </tr>\n",
       "    <tr>\n",
       "      <th>0</th>\n",
       "      <td>0.161253</td>\n",
       "      <td>Random Forest</td>\n",
       "      <td>50 Hz</td>\n",
       "    </tr>\n",
       "    <tr>\n",
       "      <th>0</th>\n",
       "      <td>0.159427</td>\n",
       "      <td>Random Forest</td>\n",
       "      <td>50 Hz</td>\n",
       "    </tr>\n",
       "    <tr>\n",
       "      <th>0</th>\n",
       "      <td>0.183736</td>\n",
       "      <td>Random Forest</td>\n",
       "      <td>45 Hz</td>\n",
       "    </tr>\n",
       "    <tr>\n",
       "      <th>0</th>\n",
       "      <td>0.158360</td>\n",
       "      <td>Random Forest</td>\n",
       "      <td>45 Hz</td>\n",
       "    </tr>\n",
       "    <tr>\n",
       "      <th>0</th>\n",
       "      <td>0.147288</td>\n",
       "      <td>Random Forest</td>\n",
       "      <td>45 Hz</td>\n",
       "    </tr>\n",
       "    <tr>\n",
       "      <th>0</th>\n",
       "      <td>0.141878</td>\n",
       "      <td>Random Forest</td>\n",
       "      <td>45 Hz</td>\n",
       "    </tr>\n",
       "    <tr>\n",
       "      <th>0</th>\n",
       "      <td>0.142317</td>\n",
       "      <td>Random Forest</td>\n",
       "      <td>45 Hz</td>\n",
       "    </tr>\n",
       "    <tr>\n",
       "      <th>0</th>\n",
       "      <td>0.154720</td>\n",
       "      <td>Random Forest</td>\n",
       "      <td>45 Hz</td>\n",
       "    </tr>\n",
       "    <tr>\n",
       "      <th>0</th>\n",
       "      <td>0.153306</td>\n",
       "      <td>Random Forest</td>\n",
       "      <td>45 Hz</td>\n",
       "    </tr>\n",
       "    <tr>\n",
       "      <th>0</th>\n",
       "      <td>0.156032</td>\n",
       "      <td>Random Forest</td>\n",
       "      <td>45 Hz</td>\n",
       "    </tr>\n",
       "    <tr>\n",
       "      <th>0</th>\n",
       "      <td>0.152721</td>\n",
       "      <td>Random Forest</td>\n",
       "      <td>45 Hz</td>\n",
       "    </tr>\n",
       "    <tr>\n",
       "      <th>0</th>\n",
       "      <td>0.150327</td>\n",
       "      <td>Random Forest</td>\n",
       "      <td>45 Hz</td>\n",
       "    </tr>\n",
       "    <tr>\n",
       "      <th>0</th>\n",
       "      <td>0.159389</td>\n",
       "      <td>Random Forest</td>\n",
       "      <td>45 Hz</td>\n",
       "    </tr>\n",
       "    <tr>\n",
       "      <th>0</th>\n",
       "      <td>0.157591</td>\n",
       "      <td>Random Forest</td>\n",
       "      <td>45 Hz</td>\n",
       "    </tr>\n",
       "    <tr>\n",
       "      <th>0</th>\n",
       "      <td>0.182573</td>\n",
       "      <td>Random Forest</td>\n",
       "      <td>40 Hz</td>\n",
       "    </tr>\n",
       "    <tr>\n",
       "      <th>0</th>\n",
       "      <td>0.158841</td>\n",
       "      <td>Random Forest</td>\n",
       "      <td>40 Hz</td>\n",
       "    </tr>\n",
       "    <tr>\n",
       "      <th>0</th>\n",
       "      <td>0.146957</td>\n",
       "      <td>Random Forest</td>\n",
       "      <td>40 Hz</td>\n",
       "    </tr>\n",
       "    <tr>\n",
       "      <th>0</th>\n",
       "      <td>0.142184</td>\n",
       "      <td>Random Forest</td>\n",
       "      <td>40 Hz</td>\n",
       "    </tr>\n",
       "    <tr>\n",
       "      <th>0</th>\n",
       "      <td>0.142065</td>\n",
       "      <td>Random Forest</td>\n",
       "      <td>40 Hz</td>\n",
       "    </tr>\n",
       "    <tr>\n",
       "      <th>0</th>\n",
       "      <td>0.153783</td>\n",
       "      <td>Random Forest</td>\n",
       "      <td>40 Hz</td>\n",
       "    </tr>\n",
       "    <tr>\n",
       "      <th>...</th>\n",
       "      <td>...</td>\n",
       "      <td>...</td>\n",
       "      <td>...</td>\n",
       "    </tr>\n",
       "    <tr>\n",
       "      <th>0</th>\n",
       "      <td>0.160743</td>\n",
       "      <td>Random Forest</td>\n",
       "      <td>15 Hz</td>\n",
       "    </tr>\n",
       "    <tr>\n",
       "      <th>0</th>\n",
       "      <td>0.158497</td>\n",
       "      <td>Random Forest</td>\n",
       "      <td>15 Hz</td>\n",
       "    </tr>\n",
       "    <tr>\n",
       "      <th>0</th>\n",
       "      <td>0.159766</td>\n",
       "      <td>Random Forest</td>\n",
       "      <td>15 Hz</td>\n",
       "    </tr>\n",
       "    <tr>\n",
       "      <th>0</th>\n",
       "      <td>0.157699</td>\n",
       "      <td>Random Forest</td>\n",
       "      <td>15 Hz</td>\n",
       "    </tr>\n",
       "    <tr>\n",
       "      <th>0</th>\n",
       "      <td>0.161194</td>\n",
       "      <td>Random Forest</td>\n",
       "      <td>15 Hz</td>\n",
       "    </tr>\n",
       "    <tr>\n",
       "      <th>0</th>\n",
       "      <td>0.157655</td>\n",
       "      <td>Random Forest</td>\n",
       "      <td>15 Hz</td>\n",
       "    </tr>\n",
       "    <tr>\n",
       "      <th>0</th>\n",
       "      <td>0.154167</td>\n",
       "      <td>Random Forest</td>\n",
       "      <td>10 Hz</td>\n",
       "    </tr>\n",
       "    <tr>\n",
       "      <th>0</th>\n",
       "      <td>0.156499</td>\n",
       "      <td>Random Forest</td>\n",
       "      <td>10 Hz</td>\n",
       "    </tr>\n",
       "    <tr>\n",
       "      <th>0</th>\n",
       "      <td>0.152403</td>\n",
       "      <td>Random Forest</td>\n",
       "      <td>10 Hz</td>\n",
       "    </tr>\n",
       "    <tr>\n",
       "      <th>0</th>\n",
       "      <td>0.146771</td>\n",
       "      <td>Random Forest</td>\n",
       "      <td>10 Hz</td>\n",
       "    </tr>\n",
       "    <tr>\n",
       "      <th>0</th>\n",
       "      <td>0.151176</td>\n",
       "      <td>Random Forest</td>\n",
       "      <td>10 Hz</td>\n",
       "    </tr>\n",
       "    <tr>\n",
       "      <th>0</th>\n",
       "      <td>0.154847</td>\n",
       "      <td>Random Forest</td>\n",
       "      <td>10 Hz</td>\n",
       "    </tr>\n",
       "    <tr>\n",
       "      <th>0</th>\n",
       "      <td>0.156116</td>\n",
       "      <td>Random Forest</td>\n",
       "      <td>10 Hz</td>\n",
       "    </tr>\n",
       "    <tr>\n",
       "      <th>0</th>\n",
       "      <td>0.155435</td>\n",
       "      <td>Random Forest</td>\n",
       "      <td>10 Hz</td>\n",
       "    </tr>\n",
       "    <tr>\n",
       "      <th>0</th>\n",
       "      <td>0.157249</td>\n",
       "      <td>Random Forest</td>\n",
       "      <td>10 Hz</td>\n",
       "    </tr>\n",
       "    <tr>\n",
       "      <th>0</th>\n",
       "      <td>0.157094</td>\n",
       "      <td>Random Forest</td>\n",
       "      <td>10 Hz</td>\n",
       "    </tr>\n",
       "    <tr>\n",
       "      <th>0</th>\n",
       "      <td>0.159467</td>\n",
       "      <td>Random Forest</td>\n",
       "      <td>10 Hz</td>\n",
       "    </tr>\n",
       "    <tr>\n",
       "      <th>0</th>\n",
       "      <td>0.158147</td>\n",
       "      <td>Random Forest</td>\n",
       "      <td>10 Hz</td>\n",
       "    </tr>\n",
       "    <tr>\n",
       "      <th>0</th>\n",
       "      <td>0.149956</td>\n",
       "      <td>Random Forest</td>\n",
       "      <td>5 Hz</td>\n",
       "    </tr>\n",
       "    <tr>\n",
       "      <th>0</th>\n",
       "      <td>0.165892</td>\n",
       "      <td>Random Forest</td>\n",
       "      <td>5 Hz</td>\n",
       "    </tr>\n",
       "    <tr>\n",
       "      <th>0</th>\n",
       "      <td>0.156906</td>\n",
       "      <td>Random Forest</td>\n",
       "      <td>5 Hz</td>\n",
       "    </tr>\n",
       "    <tr>\n",
       "      <th>0</th>\n",
       "      <td>0.152731</td>\n",
       "      <td>Random Forest</td>\n",
       "      <td>5 Hz</td>\n",
       "    </tr>\n",
       "    <tr>\n",
       "      <th>0</th>\n",
       "      <td>0.155563</td>\n",
       "      <td>Random Forest</td>\n",
       "      <td>5 Hz</td>\n",
       "    </tr>\n",
       "    <tr>\n",
       "      <th>0</th>\n",
       "      <td>0.161652</td>\n",
       "      <td>Random Forest</td>\n",
       "      <td>5 Hz</td>\n",
       "    </tr>\n",
       "    <tr>\n",
       "      <th>0</th>\n",
       "      <td>0.165752</td>\n",
       "      <td>Random Forest</td>\n",
       "      <td>5 Hz</td>\n",
       "    </tr>\n",
       "    <tr>\n",
       "      <th>0</th>\n",
       "      <td>0.165042</td>\n",
       "      <td>Random Forest</td>\n",
       "      <td>5 Hz</td>\n",
       "    </tr>\n",
       "    <tr>\n",
       "      <th>0</th>\n",
       "      <td>0.167063</td>\n",
       "      <td>Random Forest</td>\n",
       "      <td>5 Hz</td>\n",
       "    </tr>\n",
       "    <tr>\n",
       "      <th>0</th>\n",
       "      <td>0.165135</td>\n",
       "      <td>Random Forest</td>\n",
       "      <td>5 Hz</td>\n",
       "    </tr>\n",
       "    <tr>\n",
       "      <th>0</th>\n",
       "      <td>0.165358</td>\n",
       "      <td>Random Forest</td>\n",
       "      <td>5 Hz</td>\n",
       "    </tr>\n",
       "    <tr>\n",
       "      <th>0</th>\n",
       "      <td>0.165021</td>\n",
       "      <td>Random Forest</td>\n",
       "      <td>5 Hz</td>\n",
       "    </tr>\n",
       "  </tbody>\n",
       "</table>\n",
       "<p>120 rows × 3 columns</p>\n",
       "</div>"
      ],
      "text/plain": [
       "         RMS          model Sampling Rate\n",
       "0   0.184501  Random Forest         50 Hz\n",
       "0   0.159758  Random Forest         50 Hz\n",
       "0   0.148610  Random Forest         50 Hz\n",
       "0   0.143144  Random Forest         50 Hz\n",
       "0   0.143272  Random Forest         50 Hz\n",
       "0   0.156010  Random Forest         50 Hz\n",
       "0   0.154807  Random Forest         50 Hz\n",
       "0   0.157549  Random Forest         50 Hz\n",
       "0   0.153954  Random Forest         50 Hz\n",
       "0   0.151835  Random Forest         50 Hz\n",
       "0   0.161253  Random Forest         50 Hz\n",
       "0   0.159427  Random Forest         50 Hz\n",
       "0   0.183736  Random Forest         45 Hz\n",
       "0   0.158360  Random Forest         45 Hz\n",
       "0   0.147288  Random Forest         45 Hz\n",
       "0   0.141878  Random Forest         45 Hz\n",
       "0   0.142317  Random Forest         45 Hz\n",
       "0   0.154720  Random Forest         45 Hz\n",
       "0   0.153306  Random Forest         45 Hz\n",
       "0   0.156032  Random Forest         45 Hz\n",
       "0   0.152721  Random Forest         45 Hz\n",
       "0   0.150327  Random Forest         45 Hz\n",
       "0   0.159389  Random Forest         45 Hz\n",
       "0   0.157591  Random Forest         45 Hz\n",
       "0   0.182573  Random Forest         40 Hz\n",
       "0   0.158841  Random Forest         40 Hz\n",
       "0   0.146957  Random Forest         40 Hz\n",
       "0   0.142184  Random Forest         40 Hz\n",
       "0   0.142065  Random Forest         40 Hz\n",
       "0   0.153783  Random Forest         40 Hz\n",
       "..       ...            ...           ...\n",
       "0   0.160743  Random Forest         15 Hz\n",
       "0   0.158497  Random Forest         15 Hz\n",
       "0   0.159766  Random Forest         15 Hz\n",
       "0   0.157699  Random Forest         15 Hz\n",
       "0   0.161194  Random Forest         15 Hz\n",
       "0   0.157655  Random Forest         15 Hz\n",
       "0   0.154167  Random Forest         10 Hz\n",
       "0   0.156499  Random Forest         10 Hz\n",
       "0   0.152403  Random Forest         10 Hz\n",
       "0   0.146771  Random Forest         10 Hz\n",
       "0   0.151176  Random Forest         10 Hz\n",
       "0   0.154847  Random Forest         10 Hz\n",
       "0   0.156116  Random Forest         10 Hz\n",
       "0   0.155435  Random Forest         10 Hz\n",
       "0   0.157249  Random Forest         10 Hz\n",
       "0   0.157094  Random Forest         10 Hz\n",
       "0   0.159467  Random Forest         10 Hz\n",
       "0   0.158147  Random Forest         10 Hz\n",
       "0   0.149956  Random Forest          5 Hz\n",
       "0   0.165892  Random Forest          5 Hz\n",
       "0   0.156906  Random Forest          5 Hz\n",
       "0   0.152731  Random Forest          5 Hz\n",
       "0   0.155563  Random Forest          5 Hz\n",
       "0   0.161652  Random Forest          5 Hz\n",
       "0   0.165752  Random Forest          5 Hz\n",
       "0   0.165042  Random Forest          5 Hz\n",
       "0   0.167063  Random Forest          5 Hz\n",
       "0   0.165135  Random Forest          5 Hz\n",
       "0   0.165358  Random Forest          5 Hz\n",
       "0   0.165021  Random Forest          5 Hz\n",
       "\n",
       "[120 rows x 3 columns]"
      ]
     },
     "execution_count": 119,
     "metadata": {},
     "output_type": "execute_result"
    }
   ],
   "source": [
    "results['watch']['Tremor']['Regressor']['res_groups']"
   ]
  },
  {
   "cell_type": "code",
   "execution_count": 120,
   "metadata": {},
   "outputs": [
    {
     "name": "stdout",
     "output_type": "stream",
     "text": [
      "      auprc     auroc        f1          model Sampling Rate\n",
      "0  0.625377  0.632275  0.571449  Random Forest         50 Hz\n",
      "1  0.624895  0.633471  0.575891  Random Forest         45 Hz\n",
      "2  0.619939  0.623462  0.571294  Random Forest         40 Hz\n",
      "3  0.618822  0.627325  0.571012  Random Forest         35 Hz\n",
      "4  0.610341  0.624932  0.577032  Random Forest         30 Hz\n",
      "5  0.622678  0.630921  0.572945  Random Forest         25 Hz\n",
      "6  0.628456  0.640316  0.583184  Random Forest         20 Hz\n",
      "7  0.620453  0.633628  0.586004  Random Forest         15 Hz\n",
      "8  0.615737  0.632721  0.595044  Random Forest         10 Hz\n",
      "9  0.617429  0.592839  0.595368  Random Forest          5 Hz\n"
     ]
    },
    {
     "data": {
      "image/png": "[encoded data removed]",
      "text/plain": [
       "<matplotlib.figure.Figure at 0x100c8be0>"
      ]
     },
     "metadata": {},
     "output_type": "display_data"
    }
   ],
   "source": [
    "barplotFreq(results,'watch','Bradykinesia','Binary')"
   ]
  },
  {
   "cell_type": "code",
   "execution_count": 121,
   "metadata": {},
   "outputs": [
    {
     "name": "stdout",
     "output_type": "stream",
     "text": [
      "        RMS          Model Sampling Rate\n",
      "0  0.242397  Random Forest         50 Hz\n",
      "1  0.239487  Random Forest         45 Hz\n",
      "2  0.240281  Random Forest         40 Hz\n",
      "3  0.238898  Random Forest         35 Hz\n",
      "4  0.241651  Random Forest         30 Hz\n",
      "5  0.239662  Random Forest         25 Hz\n",
      "6  0.237661  Random Forest         20 Hz\n",
      "7  0.242598  Random Forest         15 Hz\n",
      "8  0.250075  Random Forest         10 Hz\n",
      "9  0.265058  Random Forest          5 Hz\n"
     ]
    },
    {
     "data": {
      "image/png": "[encoded data removed]",
      "text/plain": [
       "<matplotlib.figure.Figure at 0xd22ccf8>"
      ]
     },
     "metadata": {},
     "output_type": "display_data"
    }
   ],
   "source": [
    "barplotFreq(results,'watch','Bradykinesia','Multiclass')"
   ]
  },
  {
   "cell_type": "code",
   "execution_count": 122,
   "metadata": {},
   "outputs": [
    {
     "name": "stdout",
     "output_type": "stream",
     "text": [
      "        RMS          Model Sampling Rate\n",
      "0  0.215139  Random Forest         50 Hz\n",
      "1  0.215489  Random Forest         45 Hz\n",
      "2  0.214557  Random Forest         40 Hz\n",
      "3  0.213917  Random Forest         35 Hz\n",
      "4  0.214446  Random Forest         30 Hz\n",
      "5  0.214403  Random Forest         25 Hz\n",
      "6  0.214336  Random Forest         20 Hz\n",
      "7  0.213966  Random Forest         15 Hz\n",
      "8  0.219014  Random Forest         10 Hz\n",
      "9  0.234686  Random Forest          5 Hz\n"
     ]
    },
    {
     "data": {
      "image/png": "[encoded data removed]",
      "text/plain": [
       "<matplotlib.figure.Figure at 0x102235f8>"
      ]
     },
     "metadata": {},
     "output_type": "display_data"
    }
   ],
   "source": [
    "barplotFreq(results,'watch','Bradykinesia','Regressor')"
   ]
  },
  {
   "cell_type": "code",
   "execution_count": 123,
   "metadata": {},
   "outputs": [
    {
     "name": "stdout",
     "output_type": "stream",
     "text": [
      "       auprc     auroc        f1          model Sampling Rate\n",
      "0   0.491716  0.709733  0.324566  Random Forest       62.5 Hz\n",
      "1   0.496894  0.704094  0.329967  Random Forest         60 Hz\n",
      "2   0.494857  0.703378  0.335429  Random Forest         55 Hz\n",
      "3   0.495728  0.702680  0.336064  Random Forest         50 Hz\n",
      "4   0.498466  0.713325  0.328325  Random Forest         45 Hz\n",
      "5   0.498709  0.703870  0.333919  Random Forest         40 Hz\n",
      "6   0.492833  0.691433  0.330386  Random Forest         35 Hz\n",
      "7   0.495372  0.700422  0.325345  Random Forest         30 Hz\n",
      "8   0.496279  0.690999  0.318362  Random Forest         25 Hz\n",
      "9   0.492140  0.682134  0.307176  Random Forest         20 Hz\n",
      "10  0.468759  0.662763  0.268210  Random Forest         15 Hz\n",
      "11  0.457176  0.626877  0.222547  Random Forest         10 Hz\n",
      "12  0.498918  0.604705  0.171551  Random Forest          5 Hz\n"
     ]
    },
    {
     "data": {
      "image/png": "[encoded data removed]",
      "text/plain": [
       "<matplotlib.figure.Figure at 0xd2bdcc0>"
      ]
     },
     "metadata": {},
     "output_type": "display_data"
    }
   ],
   "source": [
    "barplotFreq(results,'sensor','Tremor','Binary')"
   ]
  },
  {
   "cell_type": "code",
   "execution_count": 124,
   "metadata": {},
   "outputs": [
    {
     "name": "stdout",
     "output_type": "stream",
     "text": [
      "         RMS          Model Sampling Rate\n",
      "0   0.125522  Random Forest       62.5 Hz\n",
      "1   0.123240  Random Forest         60 Hz\n",
      "2   0.122037  Random Forest         55 Hz\n",
      "3   0.124672  Random Forest         50 Hz\n",
      "4   0.122246  Random Forest         45 Hz\n",
      "5   0.122301  Random Forest         40 Hz\n",
      "6   0.123085  Random Forest         35 Hz\n",
      "7   0.122155  Random Forest         30 Hz\n",
      "8   0.119489  Random Forest         25 Hz\n",
      "9   0.120190  Random Forest         20 Hz\n",
      "10  0.114776  Random Forest         15 Hz\n",
      "11  0.116276  Random Forest         10 Hz\n",
      "12  0.128084  Random Forest          5 Hz\n"
     ]
    },
    {
     "data": {
      "image/png": "[encoded data removed]",
      "text/plain": [
       "<matplotlib.figure.Figure at 0xd35f8d0>"
      ]
     },
     "metadata": {},
     "output_type": "display_data"
    }
   ],
   "source": [
    "barplotFreq(results,'sensor','Tremor','Multiclass')"
   ]
  },
  {
   "cell_type": "code",
   "execution_count": 125,
   "metadata": {},
   "outputs": [
    {
     "name": "stdout",
     "output_type": "stream",
     "text": [
      "         RMS          Model Sampling Rate\n",
      "0   0.146839  Random Forest       62.5 Hz\n",
      "1   0.147118  Random Forest         60 Hz\n",
      "2   0.146926  Random Forest         55 Hz\n",
      "3   0.146836  Random Forest         50 Hz\n",
      "4   0.148977  Random Forest         45 Hz\n",
      "5   0.147624  Random Forest         40 Hz\n",
      "6   0.147858  Random Forest         35 Hz\n",
      "7   0.150726  Random Forest         30 Hz\n",
      "8   0.151109  Random Forest         25 Hz\n",
      "9   0.155723  Random Forest         20 Hz\n",
      "10  0.158372  Random Forest         15 Hz\n",
      "11  0.158309  Random Forest         10 Hz\n",
      "12  0.163697  Random Forest          5 Hz\n"
     ]
    },
    {
     "data": {
      "image/png": "[encoded data removed]",
      "text/plain": [
       "<matplotlib.figure.Figure at 0x12be9a90>"
      ]
     },
     "metadata": {},
     "output_type": "display_data"
    }
   ],
   "source": [
    "barplotFreq(results,'sensor','Tremor','Regressor')"
   ]
  },
  {
   "cell_type": "code",
   "execution_count": 126,
   "metadata": {},
   "outputs": [
    {
     "name": "stdout",
     "output_type": "stream",
     "text": [
      "       auprc     auroc        f1          model Sampling Rate\n",
      "0   0.627671  0.663175  0.603114  Random Forest       62.5 Hz\n",
      "1   0.621225  0.649503  0.596175  Random Forest         60 Hz\n",
      "2   0.621625  0.650817  0.597774  Random Forest         55 Hz\n",
      "3   0.625046  0.652351  0.598423  Random Forest         50 Hz\n",
      "4   0.622231  0.655782  0.595824  Random Forest         45 Hz\n",
      "5   0.618806  0.644091  0.592920  Random Forest         40 Hz\n",
      "6   0.624290  0.654284  0.600446  Random Forest         35 Hz\n",
      "7   0.622878  0.656030  0.599298  Random Forest         30 Hz\n",
      "8   0.618145  0.644951  0.593874  Random Forest         25 Hz\n",
      "9   0.620909  0.648170  0.593429  Random Forest         20 Hz\n",
      "10  0.619905  0.644936  0.597360  Random Forest         15 Hz\n",
      "11  0.618991  0.637837  0.603780  Random Forest         10 Hz\n",
      "12  0.587812  0.599761  0.561250  Random Forest          5 Hz\n"
     ]
    },
    {
     "data": {
      "image/png": "[encoded data removed]",
      "text/plain": [
       "<matplotlib.figure.Figure at 0xd308470>"
      ]
     },
     "metadata": {},
     "output_type": "display_data"
    }
   ],
   "source": [
    "barplotFreq(results,'sensor','Bradykinesia','Binary')"
   ]
  },
  {
   "cell_type": "code",
   "execution_count": 127,
   "metadata": {},
   "outputs": [
    {
     "name": "stdout",
     "output_type": "stream",
     "text": [
      "         RMS          Model Sampling Rate\n",
      "0   0.240603  Random Forest       62.5 Hz\n",
      "1   0.238682  Random Forest         60 Hz\n",
      "2   0.235595  Random Forest         55 Hz\n",
      "3   0.237946  Random Forest         50 Hz\n",
      "4   0.236655  Random Forest         45 Hz\n",
      "5   0.238152  Random Forest         40 Hz\n",
      "6   0.239189  Random Forest         35 Hz\n",
      "7   0.240221  Random Forest         30 Hz\n",
      "8   0.237614  Random Forest         25 Hz\n",
      "9   0.235078  Random Forest         20 Hz\n",
      "10  0.239092  Random Forest         15 Hz\n",
      "11  0.250628  Random Forest         10 Hz\n",
      "12  0.260720  Random Forest          5 Hz\n"
     ]
    },
    {
     "data": {
      "image/png": "[encoded data removed]",
      "text/plain": [
       "<matplotlib.figure.Figure at 0xcf24518>"
      ]
     },
     "metadata": {},
     "output_type": "display_data"
    }
   ],
   "source": [
    "barplotFreq(results,'sensor','Bradykinesia','Multiclass')"
   ]
  },
  {
   "cell_type": "code",
   "execution_count": 128,
   "metadata": {},
   "outputs": [
    {
     "name": "stdout",
     "output_type": "stream",
     "text": [
      "         RMS          Model Sampling Rate\n",
      "0   0.221934  Random Forest       62.5 Hz\n",
      "1   0.223297  Random Forest         60 Hz\n",
      "2   0.222672  Random Forest         55 Hz\n",
      "3   0.222046  Random Forest         50 Hz\n",
      "4   0.223365  Random Forest         45 Hz\n",
      "5   0.224521  Random Forest         40 Hz\n",
      "6   0.223196  Random Forest         35 Hz\n",
      "7   0.222019  Random Forest         30 Hz\n",
      "8   0.224897  Random Forest         25 Hz\n",
      "9   0.222975  Random Forest         20 Hz\n",
      "10  0.222715  Random Forest         15 Hz\n",
      "11  0.228159  Random Forest         10 Hz\n",
      "12  0.228661  Random Forest          5 Hz\n"
     ]
    },
    {
     "data": {
      "image/png": "[encoded data removed]",
      "text/plain": [
       "<matplotlib.figure.Figure at 0xb8418d0>"
      ]
     },
     "metadata": {},
     "output_type": "display_data"
    }
   ],
   "source": [
    "barplotFreq(results,'sensor','Bradykinesia','Regressor')"
   ]
  },
  {
   "cell_type": "code",
   "execution_count": 233,
   "metadata": {},
   "outputs": [],
   "source": [
    "def rmANOVA(results,mode,symptom,classifier):\n",
    "    df = pd.DataFrame()\n",
    "    freqlist = list(results[mode][symptom][classifier]['res_all']['Sampling Rate'])\n",
    "    if 'RMS' in results[mode][symptom][classifier]['res_groups']:\n",
    "        freqlist = list(results[mode][symptom][classifier]['res_all']['Sampling Rate'])\n",
    "        for freq in freqlist:\n",
    "            df[freq] = results[mode][symptom][classifier]['res_groups'][results[mode][symptom][classifier]['res_groups']['Sampling Rate']==freq]['RMS']\n",
    "        df = df.reset_index(drop=True)\n",
    "    else:\n",
    "        for i in range(len(freqlist)):\n",
    "            freq = freqlist[i]\n",
    "            df[freq] = pd.Series(results[mode][symptom][classifier]['res_groups'][i]['Random Forest']['auroc'])\n",
    "        df = df[~df['50 Hz'].isnull()].reset_index(drop=True)\n",
    "    \n",
    "    grand_mean = np.mean(df.mean())\n",
    "    sub_means = df.mean(axis=1)\n",
    "    col_means = df.mean(axis=0)\n",
    "    n = len(df)\n",
    "    k = len(df.columns)\n",
    "    dftotal = n*k - 1\n",
    "    dfbw = k - 1\n",
    "    dfsbj = n - 1\n",
    "    dfw = dftotal - dfbw\n",
    "    dferror = dfw - dfsbj\n",
    "    SSbetween = sum(n*[(m-grand_mean)**2 for m in col_means])\n",
    "    SSwithin = sum(sum([(df[col] - col_means[i])**2 for i,col in enumerate(df)]))\n",
    "    SSsubject = sum(k*[(m - grand_mean)**2 for m in sub_means])\n",
    "    SSerror = SSwithin - SSsubject\n",
    "    SStotal = SSbetween + SSwithin\n",
    "    msbetween = SSbetween/dfbw\n",
    "    mserror = SSerror/dferror\n",
    "    F = msbetween/mserror\n",
    "    return stats.f.sf(F,dfbw,dferror)"
   ]
  },
  {
   "cell_type": "code",
   "execution_count": 234,
   "metadata": {},
   "outputs": [
    {
     "data": {
      "text/plain": [
       "1.5928287793340424e-09"
      ]
     },
     "execution_count": 234,
     "metadata": {},
     "output_type": "execute_result"
    }
   ],
   "source": [
    "rmANOVA(results,'watch','Tremor','Binary')"
   ]
  },
  {
   "cell_type": "code",
   "execution_count": null,
   "metadata": {},
   "outputs": [],
   "source": []
  }
 ],
 "metadata": {
  "kernelspec": {
   "display_name": "Python 3",
   "language": "python",
   "name": "python3"
  },
  "language_info": {
   "codemirror_mode": {
    "name": "ipython",
    "version": 3
   },
   "file_extension": ".py",
   "mimetype": "text/x-python",
   "name": "python",
   "nbconvert_exporter": "python",
   "pygments_lexer": "ipython3",
   "version": "3.6.4"
  }
 },
 "nbformat": 4,
 "nbformat_minor": 2
}
