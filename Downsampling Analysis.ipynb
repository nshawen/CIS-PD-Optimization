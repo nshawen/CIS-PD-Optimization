{
 "cells": [
  {
   "cell_type": "code",
   "execution_count": 1,
   "metadata": {},
   "outputs": [],
   "source": [
    "import os\n",
    "import platform\n",
    "import numpy as np\n",
    "import pandas as pd\n",
    "import seaborn as sns\n",
    "import matplotlib.pyplot as plt\n",
    "import datetime as dt\n",
    "import time\n",
    "import math\n",
    "import pathlib\n",
    "import pickle\n",
    "from itertools import product\n",
    "from scipy.stats import skew, kurtosis, wilcoxon\n",
    "from scipy.signal import butter, welch, filtfilt, resample\n",
    "from scipy import stats\n",
    "\n",
    "from sklearn import metrics, neighbors, linear_model, preprocessing, svm\n",
    "from sklearn.metrics import confusion_matrix, auc, f1_score, roc_curve, roc_auc_score, precision_score, recall_score, precision_recall_curve\n",
    "from sklearn.neighbors import KNeighborsClassifier\n",
    "from sklearn.linear_model import ElasticNetCV, LogisticRegression\n",
    "from sklearn.preprocessing import LabelEncoder, StandardScaler\n",
    "from sklearn.model_selection import train_test_split, LeaveOneGroupOut, KFold, StratifiedKFold,cross_val_score,GridSearchCV\n",
    "from sklearn.ensemble import RandomForestClassifier, RandomForestRegressor\n",
    "from sklearn.svm import SVC\n",
    "from PreprocessFcns import *\n",
    "\n",
    "from multiprocessing.dummy import Pool as ThreadPool\n",
    "\n",
    "from mpl_toolkits.mplot3d import Axes3D\n",
    "%matplotlib inline\n",
    "\n",
    "sns.set_context('talk',font_scale=1)"
   ]
  },
  {
   "cell_type": "code",
   "execution_count": 117,
   "metadata": {},
   "outputs": [],
   "source": [
    "def LOSOCV(Data,X,y,groups,models,LOin=0):\n",
    "\n",
    "    subj = LeaveOneGroupOut() \n",
    "    results = pd.DataFrame(data=None,columns=['model','f1','auprc','auroc'])\n",
    "    groupres = {} #results on each group for each model\n",
    "    \n",
    "\n",
    "    #train multiple classifiers\n",
    "    for m in models:\n",
    "        acc_all=[]; acc_train=[] \n",
    "        f1_test_all=[]; prec_all=[]; rec_all=[]; spec_all=[]; auprc_all=[]; auroc_train_all=[]; \n",
    "        auroc_all=[]; fpr_all=[]; tpr_all=[]; fi_all=[]\n",
    "\n",
    "        clf = m[0]; model_name = m[1]            \n",
    "        print('Training %s'%model_name)\n",
    "        s = 0\n",
    "        #LOSO CV for current classifier\n",
    "        for train_index, test_index in subj.split(X, y, groups):\n",
    "        #leave one in:\n",
    "            if LOin:\n",
    "                tridx = train_index.copy()\n",
    "                train_index = test_index.copy()\n",
    "                test_index = tridx\n",
    "            Xtr, Xte = X[train_index], X[test_index]\n",
    "            ytr, yte = y[train_index], y[test_index]\n",
    "            if len(np.unique(ytr))<2: #skip if no positive or negative examples are available for training\n",
    "                #print('only 1 class available in train data - skipping')\n",
    "                continue\n",
    "            clf.fit(Xtr,ytr)\n",
    "            ypred = clf.predict(Xte)\n",
    "            yscore = clf.predict_proba(Xte)\n",
    "            yscore = yscore[:,1]\n",
    "            \n",
    "            #accuracy on train set\n",
    "            ypred_train = clf.predict(Xtr)\n",
    "            acc_train.append(sum(ypred_train==ytr)/len(ytr))\n",
    "            auroc_train = roc_auc_score(ytr,clf.predict_proba(Xtr)[:,1])\n",
    "            \n",
    "            #f1-score, prec, recall, specificity, auprc, auroc\n",
    "            f1_test_all.append(f1_score(yte,ypred))\n",
    "            precision, recall, _ = precision_recall_curve(yte,yscore)\n",
    "            auprc = auc(recall,precision)\n",
    "            if len(np.unique(yte))>1:\n",
    "                auroc = roc_auc_score(yte,yscore)\n",
    "            else:\n",
    "                #print('only 1 class in test data - cannot compute roc curve')\n",
    "                auroc = np.nan\n",
    "            spec = sum((ypred==0) & (yte==0))/sum(yte==0)\n",
    "\n",
    "\n",
    "            prec_all.append(precision_score(yte,ypred))\n",
    "            rec_all.append(recall_score(yte,ypred))\n",
    "            auprc_all.append(auprc)\n",
    "            auroc_all.append(auroc)\n",
    "            auroc_train_all.append(auroc_train)\n",
    "            spec_all.append(spec)\n",
    "\n",
    "            fpr=np.linspace(0,1,101); tpr=[]\n",
    "\n",
    "            if len(np.unique(yte))>1:                \n",
    "                nscores = np.sort(np.column_stack((yscore[yte==0],yte[yte==0])),axis=0)\n",
    "                neg_counts = sum(yte==0)\n",
    "                for f in fpr:\n",
    "                    ind = neg_counts-int(neg_counts*f)-1\n",
    "                    t = (nscores[ind])[0]\n",
    "                    if f==1:\n",
    "                        t = 0\n",
    "                    tpr_t = sum(yscore[yte==1]>t) / sum(yte==1)\n",
    "                    tpr.append(tpr_t) \n",
    "\n",
    "            fpr = np.asarray(fpr); tpr = np.asarray(tpr)\n",
    "            fpr_all.append(fpr); tpr_all.append(tpr)\n",
    "            \n",
    "            #store feature importance\n",
    "            if model_name != 'SVM':\n",
    "                fi_all.append(clf.feature_importances_)\n",
    "            \n",
    "            #print('\\nSubj/Visit %d,prec=%.3f,rec=%.3f,Spec=%.3f,auroc_train=%.3f,auroc=%.3f'%(s,precision_score(yte,ypred),recall_score(yte,ypred),spec,auroc_train,auroc))\n",
    "            s+=1\n",
    "\n",
    "        #print('f1_test=%.3f+/-%.3f, prec=%.3f+/-%.3f, rec=%.3f+/-%.3f, auprc=%.3f+/-%.3f, auroc=%.3f+/-%.3f'%(\n",
    "        #np.nanmean(f1_test_all),np.nanstd(f1_test_all),\n",
    "        #np.nanmean(prec_all),np.nanstd(prec_all), np.nanmean(rec_all),np.nanstd(rec_all),\n",
    "        #np.nanmean(auprc_all),np.nanstd(auprc_all), np.nanmean(auroc_all),np.nanstd(auroc_all)))\n",
    "        \n",
    "        #group results for each model\n",
    "        groupres[model_name] = {'f1':f1_test_all, 'auprc':auprc_all, 'auroc':auroc_all, 'tpr':tpr_all, 'fpr':fpr_all, \n",
    "                                'rec':rec_all, 'spec':spec_all, 'fi':fi_all}\n",
    "        \n",
    "        #mean across groups for each model\n",
    "        r = pd.DataFrame({'model':model_name, 'f1':np.nanmean(f1_test_all), 'auprc':np.nanmean(auprc_all), \n",
    "                          'auroc':np.nanmean(auroc_all)},index=[0])\n",
    "        results = pd.concat((results,r))\n",
    "        \n",
    "    return results,groupres \n",
    "\n",
    "\n",
    "\n",
    "\n",
    "def LOSOMultiClass(Data,X,y,groups,model,LOin=0):\n",
    "\n",
    "    subj = LeaveOneGroupOut() \n",
    "    results = pd.DataFrame(data=None,columns=['model','RMS'])\n",
    "    groupres = {} #results on each group for each model\n",
    "    \n",
    "    RMS_all = []\n",
    "    \n",
    "    clf = model[0][0]; model_name = model[0][1]          \n",
    "    print('Training %s'%model_name)\n",
    "    s = 0\n",
    "    #LOSO CV for current classifier\n",
    "    for train_index, test_index in subj.split(X, y, groups):\n",
    "    #leave one in:\n",
    "        if LOin:\n",
    "            tridx = train_index.copy()\n",
    "            train_index = test_index.copy()\n",
    "            test_index = tridx\n",
    "        Xtr, Xte = X[train_index], X[test_index]\n",
    "        ytr, yte = y[train_index], y[test_index]\n",
    "        if len(np.unique(ytr))<2: #skip if no positive or negative examples are available for training\n",
    "            #print('only 1 class available in train data - skipping')\n",
    "            continue\n",
    "        clf.fit(Xtr,ytr)\n",
    "        ypred = clf.predict(Xte)\n",
    "        \n",
    "        if (model_name == 'Random Forest Regressor'):\n",
    "            for ypr in ypred:\n",
    "                if ypr < 0:\n",
    "                    ypr = 0\n",
    "                elif ypr > 4:\n",
    "                    ypr = 4\n",
    "                else:\n",
    "                    ypr = round(ypr)\n",
    "        \n",
    "        RMS=0\n",
    "        for yp,yt in zip(ypred,y):\n",
    "            RMS += ((yp - yt)**2)\n",
    "        RMS = RMS / len(y)\n",
    "        RMS = math.sqrt(RMS)\n",
    "        \n",
    "        RMS_all.append(RMS)\n",
    "        \n",
    "        groupres[model_name] = {'RMS':RMS_all}\n",
    "        \n",
    "        r = pd.DataFrame({'model':model_name, 'RMS':np.nanmean(RMS_all)},index=[0])\n",
    "        results = pd.concat((results,r))\n",
    "        \n",
    "    return results, groupres"
   ]
  },
  {
   "cell_type": "code",
   "execution_count": 118,
   "metadata": {},
   "outputs": [],
   "source": [
    "datadict = {'watch':{},'sensor':{}}\n",
    "for freq in [50,40,30,20,10,7.5,5,3]:\n",
    "    data = pd.read_csv('Y:CIS-PD Study\\\\Downsample\\\\Watch Data ' + str(freq) + 'Hz.csv',index_col=0)\n",
    "    for s in data.columns.values[4:]:\n",
    "        data = data[data[s]<np.finfo(np.float32).max]\n",
    "    datadict['watch'][freq] = data[(data.Subject != 1020) & (data.Subject != 1030)].reset_index(drop=True)\n",
    "for freq in [62.5,60,50,40,30,20,10,7.5,5,3]:\n",
    "    data = pd.read_csv('Y:CIS-PD Study\\\\Downsample\\\\Accel+Gyro Data ' + str(freq) + 'Hz.csv',index_col=0)\n",
    "    for s in data.columns.values[4:]:\n",
    "        data = data[data[s]<np.finfo(np.float32).max]\n",
    "    datadict['sensor'][freq] = data[(data.Subject != 1020) & (data.Subject != 1030)].reset_index(drop=True)"
   ]
  },
  {
   "cell_type": "code",
   "execution_count": 119,
   "metadata": {
    "scrolled": true
   },
   "outputs": [
    {
     "name": "stdout",
     "output_type": "stream",
     "text": [
      "watch, Tremor\n",
      "Frequency 1 of 8\n",
      "Training Random Forest\n"
     ]
    },
    {
     "name": "stderr",
     "output_type": "stream",
     "text": [
      "C:\\Anaconda\\lib\\site-packages\\sklearn\\metrics\\classification.py:1137: UndefinedMetricWarning: F-score is ill-defined and being set to 0.0 due to no true samples.\n",
      "  'recall', 'true', average, warn_for)\n",
      "C:\\Anaconda\\lib\\site-packages\\sklearn\\metrics\\ranking.py:444: RuntimeWarning: invalid value encountered in true_divide\n",
      "  recall = tps / tps[-1]\n",
      "C:\\Anaconda\\lib\\site-packages\\sklearn\\metrics\\ranking.py:94: RuntimeWarning: invalid value encountered in less\n",
      "  if np.any(dx < 0):\n",
      "C:\\Anaconda\\lib\\site-packages\\sklearn\\metrics\\classification.py:1137: UndefinedMetricWarning: Recall is ill-defined and being set to 0.0 due to no true samples.\n",
      "  'recall', 'true', average, warn_for)\n"
     ]
    },
    {
     "name": "stdout",
     "output_type": "stream",
     "text": [
      "Training Random Forest\n",
      "Training Random Forest Regressor\n",
      "Frequency 2 of 8\n",
      "Training Random Forest\n"
     ]
    },
    {
     "name": "stderr",
     "output_type": "stream",
     "text": [
      "C:\\Anaconda\\lib\\site-packages\\sklearn\\metrics\\classification.py:1137: UndefinedMetricWarning: F-score is ill-defined and being set to 0.0 due to no true samples.\n",
      "  'recall', 'true', average, warn_for)\n",
      "C:\\Anaconda\\lib\\site-packages\\sklearn\\metrics\\ranking.py:444: RuntimeWarning: invalid value encountered in true_divide\n",
      "  recall = tps / tps[-1]\n",
      "C:\\Anaconda\\lib\\site-packages\\sklearn\\metrics\\ranking.py:94: RuntimeWarning: invalid value encountered in less\n",
      "  if np.any(dx < 0):\n",
      "C:\\Anaconda\\lib\\site-packages\\sklearn\\metrics\\classification.py:1137: UndefinedMetricWarning: Recall is ill-defined and being set to 0.0 due to no true samples.\n",
      "  'recall', 'true', average, warn_for)\n"
     ]
    },
    {
     "name": "stdout",
     "output_type": "stream",
     "text": [
      "Training Random Forest\n",
      "Training Random Forest Regressor\n",
      "Frequency 3 of 8\n",
      "Training Random Forest\n"
     ]
    },
    {
     "name": "stderr",
     "output_type": "stream",
     "text": [
      "C:\\Anaconda\\lib\\site-packages\\sklearn\\metrics\\classification.py:1137: UndefinedMetricWarning: F-score is ill-defined and being set to 0.0 due to no true samples.\n",
      "  'recall', 'true', average, warn_for)\n",
      "C:\\Anaconda\\lib\\site-packages\\sklearn\\metrics\\ranking.py:444: RuntimeWarning: invalid value encountered in true_divide\n",
      "  recall = tps / tps[-1]\n",
      "C:\\Anaconda\\lib\\site-packages\\sklearn\\metrics\\ranking.py:94: RuntimeWarning: invalid value encountered in less\n",
      "  if np.any(dx < 0):\n",
      "C:\\Anaconda\\lib\\site-packages\\sklearn\\metrics\\classification.py:1137: UndefinedMetricWarning: Recall is ill-defined and being set to 0.0 due to no true samples.\n",
      "  'recall', 'true', average, warn_for)\n"
     ]
    },
    {
     "name": "stdout",
     "output_type": "stream",
     "text": [
      "Training Random Forest\n",
      "Training Random Forest Regressor\n",
      "Frequency 4 of 8\n",
      "Training Random Forest\n"
     ]
    },
    {
     "name": "stderr",
     "output_type": "stream",
     "text": [
      "C:\\Anaconda\\lib\\site-packages\\sklearn\\metrics\\classification.py:1137: UndefinedMetricWarning: F-score is ill-defined and being set to 0.0 due to no true samples.\n",
      "  'recall', 'true', average, warn_for)\n",
      "C:\\Anaconda\\lib\\site-packages\\sklearn\\metrics\\ranking.py:444: RuntimeWarning: invalid value encountered in true_divide\n",
      "  recall = tps / tps[-1]\n",
      "C:\\Anaconda\\lib\\site-packages\\sklearn\\metrics\\ranking.py:94: RuntimeWarning: invalid value encountered in less\n",
      "  if np.any(dx < 0):\n",
      "C:\\Anaconda\\lib\\site-packages\\sklearn\\metrics\\classification.py:1137: UndefinedMetricWarning: Recall is ill-defined and being set to 0.0 due to no true samples.\n",
      "  'recall', 'true', average, warn_for)\n"
     ]
    },
    {
     "name": "stdout",
     "output_type": "stream",
     "text": [
      "Training Random Forest\n",
      "Training Random Forest Regressor\n",
      "Frequency 5 of 8\n",
      "Training Random Forest\n"
     ]
    },
    {
     "name": "stderr",
     "output_type": "stream",
     "text": [
      "C:\\Anaconda\\lib\\site-packages\\sklearn\\metrics\\classification.py:1137: UndefinedMetricWarning: F-score is ill-defined and being set to 0.0 due to no true samples.\n",
      "  'recall', 'true', average, warn_for)\n",
      "C:\\Anaconda\\lib\\site-packages\\sklearn\\metrics\\ranking.py:444: RuntimeWarning: invalid value encountered in true_divide\n",
      "  recall = tps / tps[-1]\n",
      "C:\\Anaconda\\lib\\site-packages\\sklearn\\metrics\\ranking.py:94: RuntimeWarning: invalid value encountered in less\n",
      "  if np.any(dx < 0):\n",
      "C:\\Anaconda\\lib\\site-packages\\sklearn\\metrics\\classification.py:1137: UndefinedMetricWarning: Recall is ill-defined and being set to 0.0 due to no true samples.\n",
      "  'recall', 'true', average, warn_for)\n"
     ]
    },
    {
     "name": "stdout",
     "output_type": "stream",
     "text": [
      "Training Random Forest\n",
      "Training Random Forest Regressor\n",
      "Frequency 6 of 8\n",
      "Training Random Forest\n"
     ]
    },
    {
     "name": "stderr",
     "output_type": "stream",
     "text": [
      "C:\\Anaconda\\lib\\site-packages\\sklearn\\metrics\\classification.py:1137: UndefinedMetricWarning: F-score is ill-defined and being set to 0.0 due to no true samples.\n",
      "  'recall', 'true', average, warn_for)\n",
      "C:\\Anaconda\\lib\\site-packages\\sklearn\\metrics\\ranking.py:444: RuntimeWarning: invalid value encountered in true_divide\n",
      "  recall = tps / tps[-1]\n",
      "C:\\Anaconda\\lib\\site-packages\\sklearn\\metrics\\ranking.py:94: RuntimeWarning: invalid value encountered in less\n",
      "  if np.any(dx < 0):\n",
      "C:\\Anaconda\\lib\\site-packages\\sklearn\\metrics\\classification.py:1137: UndefinedMetricWarning: Recall is ill-defined and being set to 0.0 due to no true samples.\n",
      "  'recall', 'true', average, warn_for)\n"
     ]
    },
    {
     "name": "stdout",
     "output_type": "stream",
     "text": [
      "Training Random Forest\n",
      "Training Random Forest Regressor\n",
      "Frequency 7 of 8\n",
      "Training Random Forest\n"
     ]
    },
    {
     "name": "stderr",
     "output_type": "stream",
     "text": [
      "C:\\Anaconda\\lib\\site-packages\\sklearn\\metrics\\classification.py:1137: UndefinedMetricWarning: F-score is ill-defined and being set to 0.0 due to no true samples.\n",
      "  'recall', 'true', average, warn_for)\n",
      "C:\\Anaconda\\lib\\site-packages\\sklearn\\metrics\\ranking.py:444: RuntimeWarning: invalid value encountered in true_divide\n",
      "  recall = tps / tps[-1]\n",
      "C:\\Anaconda\\lib\\site-packages\\sklearn\\metrics\\ranking.py:94: RuntimeWarning: invalid value encountered in less\n",
      "  if np.any(dx < 0):\n",
      "C:\\Anaconda\\lib\\site-packages\\sklearn\\metrics\\classification.py:1137: UndefinedMetricWarning: Recall is ill-defined and being set to 0.0 due to no true samples.\n",
      "  'recall', 'true', average, warn_for)\n"
     ]
    },
    {
     "name": "stdout",
     "output_type": "stream",
     "text": [
      "Training Random Forest\n",
      "Training Random Forest Regressor\n",
      "Frequency 8 of 8\n",
      "Training Random Forest\n"
     ]
    },
    {
     "name": "stderr",
     "output_type": "stream",
     "text": [
      "C:\\Anaconda\\lib\\site-packages\\sklearn\\metrics\\classification.py:1137: UndefinedMetricWarning: F-score is ill-defined and being set to 0.0 due to no true samples.\n",
      "  'recall', 'true', average, warn_for)\n",
      "C:\\Anaconda\\lib\\site-packages\\sklearn\\metrics\\ranking.py:444: RuntimeWarning: invalid value encountered in true_divide\n",
      "  recall = tps / tps[-1]\n",
      "C:\\Anaconda\\lib\\site-packages\\sklearn\\metrics\\ranking.py:94: RuntimeWarning: invalid value encountered in less\n",
      "  if np.any(dx < 0):\n",
      "C:\\Anaconda\\lib\\site-packages\\sklearn\\metrics\\classification.py:1137: UndefinedMetricWarning: Recall is ill-defined and being set to 0.0 due to no true samples.\n",
      "  'recall', 'true', average, warn_for)\n",
      "C:\\Anaconda\\lib\\site-packages\\sklearn\\metrics\\classification.py:1137: UndefinedMetricWarning: F-score is ill-defined and being set to 0.0 due to no true samples.\n",
      "  'recall', 'true', average, warn_for)\n",
      "C:\\Anaconda\\lib\\site-packages\\sklearn\\metrics\\ranking.py:444: RuntimeWarning: invalid value encountered in true_divide\n",
      "  recall = tps / tps[-1]\n",
      "C:\\Anaconda\\lib\\site-packages\\sklearn\\metrics\\ranking.py:94: RuntimeWarning: invalid value encountered in less\n",
      "  if np.any(dx < 0):\n",
      "C:\\Anaconda\\lib\\site-packages\\sklearn\\metrics\\classification.py:1137: UndefinedMetricWarning: Recall is ill-defined and being set to 0.0 due to no true samples.\n",
      "  'recall', 'true', average, warn_for)\n"
     ]
    },
    {
     "name": "stdout",
     "output_type": "stream",
     "text": [
      "Training Random Forest\n",
      "Training Random Forest Regressor\n",
      "watch, Bradykinesia\n",
      "Frequency 1 of 8\n",
      "Training Random Forest\n",
      "Training Random Forest\n",
      "Training Random Forest Regressor\n",
      "Frequency 2 of 8\n",
      "Training Random Forest\n",
      "Training Random Forest\n",
      "Training Random Forest Regressor\n",
      "Frequency 3 of 8\n",
      "Training Random Forest\n",
      "Training Random Forest\n",
      "Training Random Forest Regressor\n",
      "Frequency 4 of 8\n",
      "Training Random Forest\n",
      "Training Random Forest\n",
      "Training Random Forest Regressor\n",
      "Frequency 5 of 8\n",
      "Training Random Forest\n",
      "Training Random Forest\n",
      "Training Random Forest Regressor\n",
      "Frequency 6 of 8\n",
      "Training Random Forest\n",
      "Training Random Forest\n",
      "Training Random Forest Regressor\n",
      "Frequency 7 of 8\n",
      "Training Random Forest\n",
      "Training Random Forest\n",
      "Training Random Forest Regressor\n",
      "Frequency 8 of 8\n",
      "Training Random Forest\n"
     ]
    },
    {
     "name": "stderr",
     "output_type": "stream",
     "text": [
      "C:\\Anaconda\\lib\\site-packages\\sklearn\\metrics\\classification.py:1137: UndefinedMetricWarning: F-score is ill-defined and being set to 0.0 due to no true samples.\n",
      "  'recall', 'true', average, warn_for)\n",
      "C:\\Anaconda\\lib\\site-packages\\sklearn\\metrics\\ranking.py:444: RuntimeWarning: invalid value encountered in true_divide\n",
      "  recall = tps / tps[-1]\n",
      "C:\\Anaconda\\lib\\site-packages\\sklearn\\metrics\\ranking.py:94: RuntimeWarning: invalid value encountered in less\n",
      "  if np.any(dx < 0):\n",
      "C:\\Anaconda\\lib\\site-packages\\sklearn\\metrics\\classification.py:1137: UndefinedMetricWarning: Recall is ill-defined and being set to 0.0 due to no true samples.\n",
      "  'recall', 'true', average, warn_for)\n"
     ]
    },
    {
     "name": "stdout",
     "output_type": "stream",
     "text": [
      "Training Random Forest\n",
      "Training Random Forest Regressor\n",
      "sensor, Tremor\n",
      "Frequency 1 of 10\n",
      "Training Random Forest\n"
     ]
    },
    {
     "name": "stderr",
     "output_type": "stream",
     "text": [
      "C:\\Anaconda\\lib\\site-packages\\sklearn\\metrics\\classification.py:1137: UndefinedMetricWarning: F-score is ill-defined and being set to 0.0 due to no true samples.\n",
      "  'recall', 'true', average, warn_for)\n",
      "C:\\Anaconda\\lib\\site-packages\\sklearn\\metrics\\ranking.py:444: RuntimeWarning: invalid value encountered in true_divide\n",
      "  recall = tps / tps[-1]\n",
      "C:\\Anaconda\\lib\\site-packages\\sklearn\\metrics\\ranking.py:94: RuntimeWarning: invalid value encountered in less\n",
      "  if np.any(dx < 0):\n",
      "C:\\Anaconda\\lib\\site-packages\\sklearn\\metrics\\classification.py:1137: UndefinedMetricWarning: Recall is ill-defined and being set to 0.0 due to no true samples.\n",
      "  'recall', 'true', average, warn_for)\n"
     ]
    },
    {
     "name": "stdout",
     "output_type": "stream",
     "text": [
      "Training Random Forest\n",
      "Training Random Forest Regressor\n",
      "Frequency 2 of 10\n",
      "Training Random Forest\n"
     ]
    },
    {
     "name": "stderr",
     "output_type": "stream",
     "text": [
      "C:\\Anaconda\\lib\\site-packages\\sklearn\\metrics\\classification.py:1137: UndefinedMetricWarning: F-score is ill-defined and being set to 0.0 due to no true samples.\n",
      "  'recall', 'true', average, warn_for)\n",
      "C:\\Anaconda\\lib\\site-packages\\sklearn\\metrics\\ranking.py:444: RuntimeWarning: invalid value encountered in true_divide\n",
      "  recall = tps / tps[-1]\n",
      "C:\\Anaconda\\lib\\site-packages\\sklearn\\metrics\\ranking.py:94: RuntimeWarning: invalid value encountered in less\n",
      "  if np.any(dx < 0):\n",
      "C:\\Anaconda\\lib\\site-packages\\sklearn\\metrics\\classification.py:1137: UndefinedMetricWarning: Recall is ill-defined and being set to 0.0 due to no true samples.\n",
      "  'recall', 'true', average, warn_for)\n"
     ]
    },
    {
     "name": "stdout",
     "output_type": "stream",
     "text": [
      "Training Random Forest\n",
      "Training Random Forest Regressor\n",
      "Frequency 3 of 10\n",
      "Training Random Forest\n"
     ]
    },
    {
     "name": "stderr",
     "output_type": "stream",
     "text": [
      "C:\\Anaconda\\lib\\site-packages\\sklearn\\metrics\\classification.py:1137: UndefinedMetricWarning: F-score is ill-defined and being set to 0.0 due to no true samples.\n",
      "  'recall', 'true', average, warn_for)\n",
      "C:\\Anaconda\\lib\\site-packages\\sklearn\\metrics\\ranking.py:444: RuntimeWarning: invalid value encountered in true_divide\n",
      "  recall = tps / tps[-1]\n",
      "C:\\Anaconda\\lib\\site-packages\\sklearn\\metrics\\ranking.py:94: RuntimeWarning: invalid value encountered in less\n",
      "  if np.any(dx < 0):\n",
      "C:\\Anaconda\\lib\\site-packages\\sklearn\\metrics\\classification.py:1137: UndefinedMetricWarning: Recall is ill-defined and being set to 0.0 due to no true samples.\n",
      "  'recall', 'true', average, warn_for)\n"
     ]
    },
    {
     "name": "stdout",
     "output_type": "stream",
     "text": [
      "Training Random Forest\n",
      "Training Random Forest Regressor\n",
      "Frequency 4 of 10\n",
      "Training Random Forest\n"
     ]
    },
    {
     "name": "stderr",
     "output_type": "stream",
     "text": [
      "C:\\Anaconda\\lib\\site-packages\\sklearn\\metrics\\classification.py:1137: UndefinedMetricWarning: F-score is ill-defined and being set to 0.0 due to no true samples.\n",
      "  'recall', 'true', average, warn_for)\n",
      "C:\\Anaconda\\lib\\site-packages\\sklearn\\metrics\\ranking.py:444: RuntimeWarning: invalid value encountered in true_divide\n",
      "  recall = tps / tps[-1]\n",
      "C:\\Anaconda\\lib\\site-packages\\sklearn\\metrics\\ranking.py:94: RuntimeWarning: invalid value encountered in less\n",
      "  if np.any(dx < 0):\n",
      "C:\\Anaconda\\lib\\site-packages\\sklearn\\metrics\\classification.py:1137: UndefinedMetricWarning: Recall is ill-defined and being set to 0.0 due to no true samples.\n",
      "  'recall', 'true', average, warn_for)\n"
     ]
    },
    {
     "name": "stdout",
     "output_type": "stream",
     "text": [
      "Training Random Forest\n",
      "Training Random Forest Regressor\n",
      "Frequency 5 of 10\n",
      "Training Random Forest\n"
     ]
    },
    {
     "name": "stderr",
     "output_type": "stream",
     "text": [
      "C:\\Anaconda\\lib\\site-packages\\sklearn\\metrics\\classification.py:1137: UndefinedMetricWarning: F-score is ill-defined and being set to 0.0 due to no true samples.\n",
      "  'recall', 'true', average, warn_for)\n",
      "C:\\Anaconda\\lib\\site-packages\\sklearn\\metrics\\ranking.py:444: RuntimeWarning: invalid value encountered in true_divide\n",
      "  recall = tps / tps[-1]\n",
      "C:\\Anaconda\\lib\\site-packages\\sklearn\\metrics\\ranking.py:94: RuntimeWarning: invalid value encountered in less\n",
      "  if np.any(dx < 0):\n",
      "C:\\Anaconda\\lib\\site-packages\\sklearn\\metrics\\classification.py:1137: UndefinedMetricWarning: Recall is ill-defined and being set to 0.0 due to no true samples.\n",
      "  'recall', 'true', average, warn_for)\n"
     ]
    },
    {
     "name": "stdout",
     "output_type": "stream",
     "text": [
      "Training Random Forest\n",
      "Training Random Forest Regressor\n",
      "Frequency 6 of 10\n",
      "Training Random Forest\n"
     ]
    },
    {
     "name": "stderr",
     "output_type": "stream",
     "text": [
      "C:\\Anaconda\\lib\\site-packages\\sklearn\\metrics\\classification.py:1137: UndefinedMetricWarning: F-score is ill-defined and being set to 0.0 due to no true samples.\n",
      "  'recall', 'true', average, warn_for)\n",
      "C:\\Anaconda\\lib\\site-packages\\sklearn\\metrics\\ranking.py:444: RuntimeWarning: invalid value encountered in true_divide\n",
      "  recall = tps / tps[-1]\n",
      "C:\\Anaconda\\lib\\site-packages\\sklearn\\metrics\\ranking.py:94: RuntimeWarning: invalid value encountered in less\n",
      "  if np.any(dx < 0):\n",
      "C:\\Anaconda\\lib\\site-packages\\sklearn\\metrics\\classification.py:1137: UndefinedMetricWarning: Recall is ill-defined and being set to 0.0 due to no true samples.\n",
      "  'recall', 'true', average, warn_for)\n"
     ]
    },
    {
     "name": "stdout",
     "output_type": "stream",
     "text": [
      "Training Random Forest\n",
      "Training Random Forest Regressor\n",
      "Frequency 7 of 10\n",
      "Training Random Forest\n"
     ]
    },
    {
     "name": "stderr",
     "output_type": "stream",
     "text": [
      "C:\\Anaconda\\lib\\site-packages\\sklearn\\metrics\\classification.py:1137: UndefinedMetricWarning: F-score is ill-defined and being set to 0.0 due to no true samples.\n",
      "  'recall', 'true', average, warn_for)\n",
      "C:\\Anaconda\\lib\\site-packages\\sklearn\\metrics\\ranking.py:444: RuntimeWarning: invalid value encountered in true_divide\n",
      "  recall = tps / tps[-1]\n",
      "C:\\Anaconda\\lib\\site-packages\\sklearn\\metrics\\ranking.py:94: RuntimeWarning: invalid value encountered in less\n",
      "  if np.any(dx < 0):\n",
      "C:\\Anaconda\\lib\\site-packages\\sklearn\\metrics\\classification.py:1137: UndefinedMetricWarning: Recall is ill-defined and being set to 0.0 due to no true samples.\n",
      "  'recall', 'true', average, warn_for)\n"
     ]
    },
    {
     "name": "stdout",
     "output_type": "stream",
     "text": [
      "Training Random Forest\n",
      "Training Random Forest Regressor\n",
      "Frequency 8 of 10\n",
      "Training Random Forest\n"
     ]
    },
    {
     "name": "stderr",
     "output_type": "stream",
     "text": [
      "C:\\Anaconda\\lib\\site-packages\\sklearn\\metrics\\classification.py:1137: UndefinedMetricWarning: F-score is ill-defined and being set to 0.0 due to no true samples.\n",
      "  'recall', 'true', average, warn_for)\n",
      "C:\\Anaconda\\lib\\site-packages\\sklearn\\metrics\\ranking.py:444: RuntimeWarning: invalid value encountered in true_divide\n",
      "  recall = tps / tps[-1]\n",
      "C:\\Anaconda\\lib\\site-packages\\sklearn\\metrics\\ranking.py:94: RuntimeWarning: invalid value encountered in less\n",
      "  if np.any(dx < 0):\n",
      "C:\\Anaconda\\lib\\site-packages\\sklearn\\metrics\\classification.py:1137: UndefinedMetricWarning: Recall is ill-defined and being set to 0.0 due to no true samples.\n",
      "  'recall', 'true', average, warn_for)\n"
     ]
    },
    {
     "name": "stdout",
     "output_type": "stream",
     "text": [
      "Training Random Forest\n",
      "Training Random Forest Regressor\n",
      "Frequency 9 of 10\n",
      "Training Random Forest\n"
     ]
    },
    {
     "name": "stderr",
     "output_type": "stream",
     "text": [
      "C:\\Anaconda\\lib\\site-packages\\sklearn\\metrics\\classification.py:1137: UndefinedMetricWarning: F-score is ill-defined and being set to 0.0 due to no true samples.\n",
      "  'recall', 'true', average, warn_for)\n",
      "C:\\Anaconda\\lib\\site-packages\\sklearn\\metrics\\ranking.py:444: RuntimeWarning: invalid value encountered in true_divide\n",
      "  recall = tps / tps[-1]\n",
      "C:\\Anaconda\\lib\\site-packages\\sklearn\\metrics\\ranking.py:94: RuntimeWarning: invalid value encountered in less\n",
      "  if np.any(dx < 0):\n",
      "C:\\Anaconda\\lib\\site-packages\\sklearn\\metrics\\classification.py:1137: UndefinedMetricWarning: Recall is ill-defined and being set to 0.0 due to no true samples.\n",
      "  'recall', 'true', average, warn_for)\n",
      "C:\\Anaconda\\lib\\site-packages\\sklearn\\metrics\\classification.py:1137: UndefinedMetricWarning: F-score is ill-defined and being set to 0.0 due to no true samples.\n",
      "  'recall', 'true', average, warn_for)\n",
      "C:\\Anaconda\\lib\\site-packages\\sklearn\\metrics\\ranking.py:444: RuntimeWarning: invalid value encountered in true_divide\n",
      "  recall = tps / tps[-1]\n",
      "C:\\Anaconda\\lib\\site-packages\\sklearn\\metrics\\ranking.py:94: RuntimeWarning: invalid value encountered in less\n",
      "  if np.any(dx < 0):\n",
      "C:\\Anaconda\\lib\\site-packages\\sklearn\\metrics\\classification.py:1137: UndefinedMetricWarning: Recall is ill-defined and being set to 0.0 due to no true samples.\n",
      "  'recall', 'true', average, warn_for)\n"
     ]
    },
    {
     "name": "stdout",
     "output_type": "stream",
     "text": [
      "Training Random Forest\n",
      "Training Random Forest Regressor\n",
      "Frequency 10 of 10\n",
      "Training Random Forest\n"
     ]
    },
    {
     "name": "stderr",
     "output_type": "stream",
     "text": [
      "C:\\Anaconda\\lib\\site-packages\\sklearn\\metrics\\classification.py:1137: UndefinedMetricWarning: F-score is ill-defined and being set to 0.0 due to no true samples.\n",
      "  'recall', 'true', average, warn_for)\n",
      "C:\\Anaconda\\lib\\site-packages\\sklearn\\metrics\\ranking.py:444: RuntimeWarning: invalid value encountered in true_divide\n",
      "  recall = tps / tps[-1]\n",
      "C:\\Anaconda\\lib\\site-packages\\sklearn\\metrics\\ranking.py:94: RuntimeWarning: invalid value encountered in less\n",
      "  if np.any(dx < 0):\n",
      "C:\\Anaconda\\lib\\site-packages\\sklearn\\metrics\\classification.py:1137: UndefinedMetricWarning: Recall is ill-defined and being set to 0.0 due to no true samples.\n",
      "  'recall', 'true', average, warn_for)\n",
      "C:\\Anaconda\\lib\\site-packages\\sklearn\\metrics\\classification.py:1137: UndefinedMetricWarning: F-score is ill-defined and being set to 0.0 due to no true samples.\n",
      "  'recall', 'true', average, warn_for)\n",
      "C:\\Anaconda\\lib\\site-packages\\sklearn\\metrics\\ranking.py:444: RuntimeWarning: invalid value encountered in true_divide\n",
      "  recall = tps / tps[-1]\n",
      "C:\\Anaconda\\lib\\site-packages\\sklearn\\metrics\\ranking.py:94: RuntimeWarning: invalid value encountered in less\n",
      "  if np.any(dx < 0):\n",
      "C:\\Anaconda\\lib\\site-packages\\sklearn\\metrics\\classification.py:1137: UndefinedMetricWarning: Recall is ill-defined and being set to 0.0 due to no true samples.\n",
      "  'recall', 'true', average, warn_for)\n"
     ]
    },
    {
     "name": "stdout",
     "output_type": "stream",
     "text": [
      "Training Random Forest\n",
      "Training Random Forest Regressor\n",
      "sensor, Bradykinesia\n",
      "Frequency 1 of 10\n",
      "Training Random Forest\n",
      "Training Random Forest\n",
      "Training Random Forest Regressor\n",
      "Frequency 2 of 10\n",
      "Training Random Forest\n",
      "Training Random Forest\n",
      "Training Random Forest Regressor\n",
      "Frequency 3 of 10\n",
      "Training Random Forest\n",
      "Training Random Forest\n",
      "Training Random Forest Regressor\n",
      "Frequency 4 of 10\n",
      "Training Random Forest\n",
      "Training Random Forest\n",
      "Training Random Forest Regressor\n",
      "Frequency 5 of 10\n",
      "Training Random Forest\n",
      "Training Random Forest\n",
      "Training Random Forest Regressor\n",
      "Frequency 6 of 10\n",
      "Training Random Forest\n",
      "Training Random Forest\n",
      "Training Random Forest Regressor\n",
      "Frequency 7 of 10\n",
      "Training Random Forest\n",
      "Training Random Forest\n",
      "Training Random Forest Regressor\n",
      "Frequency 8 of 10\n",
      "Training Random Forest\n",
      "Training Random Forest\n",
      "Training Random Forest Regressor\n",
      "Frequency 9 of 10\n",
      "Training Random Forest\n",
      "Training Random Forest\n",
      "Training Random Forest Regressor\n",
      "Frequency 10 of 10\n",
      "Training Random Forest\n"
     ]
    },
    {
     "name": "stderr",
     "output_type": "stream",
     "text": [
      "C:\\Anaconda\\lib\\site-packages\\ipykernel_launcher.py:48: RuntimeWarning: invalid value encountered in long_scalars\n"
     ]
    },
    {
     "name": "stdout",
     "output_type": "stream",
     "text": [
      "Training Random Forest\n",
      "Training Random Forest Regressor\n",
      "Elapsed time = 178.144 min\n"
     ]
    }
   ],
   "source": [
    "t1=time.time()\n",
    "results = {}\n",
    "\n",
    "for mode in ['watch','sensor']:\n",
    "\n",
    "    results[mode] = {}\n",
    "\n",
    "    for symptom in ['Tremor','Bradykinesia']:\n",
    "        \n",
    "        count = 0\n",
    "        print(mode + ', ' + symptom)\n",
    "        results[mode][symptom] = {}\n",
    "\n",
    "        results[mode][symptom]['Binary'] = {}\n",
    "        binary_res_all = pd.DataFrame()\n",
    "        binary_res_groups = []\n",
    "\n",
    "        results[mode][symptom]['Multiclass'] = {}\n",
    "        multi_res_all = pd.DataFrame()\n",
    "        multi_res_groups = pd.DataFrame()\n",
    "\n",
    "        results[mode][symptom]['Regressor'] = {}\n",
    "        regress_res_all = pd.DataFrame()\n",
    "        regress_res_groups = pd.DataFrame()\n",
    "\n",
    "        for freq in datadict[mode].keys():\n",
    "\n",
    "            count += 1\n",
    "            print('Frequency %d of %d'%(count,len(datadict[mode].keys())))\n",
    "            data = datadict[mode][freq]\n",
    "            Data = data.copy() #original unmodified dataframe\n",
    "            Data=Data[~Data[symptom].isnull()]\n",
    "            Data=Data.reset_index(drop=True) #reset index\n",
    "\n",
    "            if (mode == 'sensor') and (symptom == 'Tremor'):\n",
    "                Data = Data.iloc[:,:49]\n",
    "            \n",
    "            X = Data.iloc[:,5:].values\n",
    "            fnames = Data.iloc[:,5:].columns.values\n",
    "            groups = Data.Subject.values\n",
    "\n",
    "            #Binary\n",
    "\n",
    "            y = ((Data[symptom]>0)).values.astype(int)\n",
    "\n",
    "            model = [RandomForestClassifier(n_estimators=50,random_state=2)]          \n",
    "            model_name = ['Random Forest']\n",
    "            model = list(zip(model,model_name))\n",
    "\n",
    "            res,res_group = LOSOCV(Data,X,y,groups,model)\n",
    "            res['Sampling Rate'] = str(freq) + ' Hz'\n",
    "            binary_res_all = pd.concat((binary_res_all,res))\n",
    "            binary_res_groups.append(res_group)\n",
    "\n",
    "            #Multiple Classes\n",
    "\n",
    "            y = Data[symptom].values.astype(int)\n",
    "\n",
    "            model = [RandomForestClassifier(n_estimators=50,random_state=2)]          \n",
    "            model_name = ['Random Forest']\n",
    "            model = list(zip(model,model_name))\n",
    "\n",
    "            res,res_group = LOSOMultiClass(Data,X,y,groups,model)\n",
    "            res['Sampling Rate'] = str(freq) + ' Hz'\n",
    "            multi_res_groups = pd.concat((multi_res_groups,res))\n",
    "            R = pd.DataFrame()\n",
    "            R['RMS'] = [np.nanmean(multi_res_groups[multi_res_groups['Sampling Rate']==(str(freq) + ' Hz')]['RMS'])]\n",
    "            R['Model'] = ['Random Forest']\n",
    "            R['Sampling Rate'] = [str(freq) + ' Hz']\n",
    "            multi_res_all = pd.concat([multi_res_all,R])\n",
    "\n",
    "            #Regressor\n",
    "\n",
    "            y = Data[symptom].values.astype(int) #target \n",
    "\n",
    "            model = [RandomForestRegressor(n_estimators=50,random_state=2)]          \n",
    "            model_name = ['Random Forest Regressor']\n",
    "            model = list(zip(model,model_name))\n",
    "\n",
    "            res,res_group = LOSOMultiClass(Data,X,y,groups,model)\n",
    "            res['Sampling Rate'] = str(freq) + ' Hz'\n",
    "            regress_res_groups = pd.concat((regress_res_groups,res))\n",
    "            R = pd.DataFrame()\n",
    "            R['RMS'] = [np.nanmean(regress_res_groups[regress_res_groups['Sampling Rate']==(str(freq) + ' Hz')]['RMS'])]\n",
    "            R['Model'] = ['Random Forest'] \n",
    "            R['Sampling Rate'] = [str(freq) + ' Hz']\n",
    "            regress_res_all = pd.concat([regress_res_all,R])\n",
    "\n",
    "        results[mode][symptom]['Binary']['res_all'] = binary_res_all.reset_index(drop=True)\n",
    "        results[mode][symptom]['Binary']['res_groups'] = binary_res_groups\n",
    "        \n",
    "        results[mode][symptom]['Multiclass']['res_all'] = multi_res_all.reset_index(drop=True)\n",
    "        results[mode][symptom]['Multiclass']['res_groups'] = multi_res_groups\n",
    "        \n",
    "        results[mode][symptom]['Regressor']['res_all'] = regress_res_all.reset_index(drop=True)\n",
    "        results[mode][symptom]['Regressor']['res_groups'] = regress_res_groups\n",
    "        \n",
    "f = open('Y:\\\\CIS-PD Study\\\\DownsampleAnalysisResults','wb')\n",
    "pickle.dump(results,f)\n",
    "f.close()\n",
    "\n",
    "print('Elapsed time = %.3f min'%((time.time()-t1)/60))    "
   ]
  },
  {
   "cell_type": "code",
   "execution_count": 120,
   "metadata": {},
   "outputs": [],
   "source": [
    "#Open results as pickle file\n",
    "\n",
    "#f = open('Y:\\\\CIS-PD Study\\\\DownsampleAnalysisResults','rb')\n",
    "#results = pickle.load(f)\n",
    "#f.close()"
   ]
  },
  {
   "cell_type": "code",
   "execution_count": 128,
   "metadata": {},
   "outputs": [],
   "source": [
    "def barplotFreq(mode,symptom,classifier):\n",
    "    if classifier == 'Binary':\n",
    "        groups = results[mode][symptom][classifier]['res_all']['Sampling Rate'].values\n",
    "        aucdf = pd.DataFrame()\n",
    "        data = results[mode][symptom][classifier]['res_groups']\n",
    "        for i in range(len(data)):\n",
    "            aucdf[groups[i]] = data[i]['Random Forest']['auroc']\n",
    "        sns.barplot(data=aucdf)\n",
    "        plt.ylabel('AUROC')\n",
    "        plt.ylim([0,1])\n",
    "    else:\n",
    "        groups = results[mode][symptom][classifier]['res_groups']['Sampling Rate']\n",
    "        RMS = results[mode][symptom][classifier]['res_groups']['RMS']\n",
    "        sns.barplot(groups,RMS,ci='sd')\n",
    "        plt.ylabel('RMS')\n",
    "        m = results[mode][symptom][classifier]['res_all']['RMS'].max()\n",
    "        m = math.ceil((m+.01)*20)/20\n",
    "        plt.ylim([0,m])\n",
    "        \n",
    "    ax = plt.xticks(rotation=90)\n",
    "    plt.xlabel('Frequency')\n",
    "    plt.title('%s Model Performance v. %s Frequency: %s'%(classifier,mode,symptom))\n",
    "    \n",
    "    plt.savefig('Results/Resample_%s_%s_%s.png'%(mode,symptom,classifier),format='png',dpi=1000)"
   ]
  },
  {
   "cell_type": "code",
   "execution_count": 164,
   "metadata": {},
   "outputs": [],
   "source": [
    "def stats_tests(mode,symptom,classifier):\n",
    "    df = pd.DataFrame()\n",
    "    freqlist = list(results[mode][symptom][classifier]['res_all']['Sampling Rate'])\n",
    "    if classifier == 'Binary':\n",
    "        for i in range(len(freqlist)):\n",
    "            freq = freqlist[i]\n",
    "            df[freq] = pd.Series(results[mode][symptom][classifier]['res_groups'][i]['Random Forest']['auroc'])\n",
    "        df = df[~df['50 Hz'].isnull()].reset_index(drop=True)\n",
    "    else:\n",
    "        for freq in freqlist:\n",
    "            df[freq] = results[mode][symptom][classifier]['res_groups'][results[mode][symptom][classifier]['res_groups']['Sampling Rate']==freq]['RMS']\n",
    "        df = df.reset_index(drop=True)\n",
    "    \n",
    "    print('Repeated Measures ANOVA')\n",
    "    cols = [freqlist[0]]\n",
    "    for freq in freqlist[1:]:\n",
    "        cols = cols + [freq]\n",
    "        p = rmANOVA(df,cols)\n",
    "        print(', '.join(cols))\n",
    "        print('p-value: ' + str(p))\n",
    "        print()\n",
    "        \n",
    "    d = results[mode][symptom][classifier]['res_all']\n",
    "    if classifier == 'Binary':\n",
    "        f = d[d.auroc == max(d.auroc)]['Sampling Rate'].values[0]\n",
    "        print('Maximum AUROC: %s'%f)\n",
    "        print()\n",
    "    else:\n",
    "        f = d[d.RMS == min(d.RMS)]['Sampling Rate'].values[0]\n",
    "        print('Minimum RMS: %s'%f)\n",
    "        print()\n",
    "    for freq in freqlist:\n",
    "        if freq == f:\n",
    "            continue\n",
    "        print('%s, %s'%(f,freq))\n",
    "        print(stats.ttest_rel(df[f],df[freq]))"
   ]
  },
  {
   "cell_type": "code",
   "execution_count": 165,
   "metadata": {},
   "outputs": [],
   "source": [
    "def rmANOVA(df,columns):\n",
    "    grand_mean = np.mean(df[columns].mean())\n",
    "    sub_means = np.mean(df[columns],axis=1)\n",
    "    col_means = np.mean(df[columns],axis=0)\n",
    "    n = len(df)\n",
    "    k = len(columns)\n",
    "    dftotal = n*k - 1\n",
    "    dfbw = k - 1\n",
    "    dfsbj = n - 1\n",
    "    dfw = dftotal - dfbw\n",
    "    dferror = dfw - dfsbj\n",
    "    SSbetween = sum(n*[(m-grand_mean)**2 for m in col_means])\n",
    "    SSwithin = np.nansum(np.nansum([(df[col] - col_means[i])**2 for i,col in enumerate(df[columns])]))\n",
    "    SSsubject = sum(k*[(m - grand_mean)**2 for m in sub_means])\n",
    "    SSerror = SSwithin - SSsubject\n",
    "    SStotal = SSbetween + SSwithin\n",
    "    msbetween = SSbetween/dfbw\n",
    "    mserror = SSerror/dferror\n",
    "    F = msbetween/mserror\n",
    "    return stats.f.sf(F,dfbw,dferror)"
   ]
  },
  {
   "cell_type": "code",
   "execution_count": 166,
   "metadata": {},
   "outputs": [
    {
     "name": "stdout",
     "output_type": "stream",
     "text": [
      "Repeated Measures ANOVA\n",
      "50 Hz, 40 Hz\n",
      "p-value: 0.2455032644727299\n",
      "\n",
      "50 Hz, 40 Hz, 30 Hz\n",
      "p-value: 0.17770629369901836\n",
      "\n",
      "50 Hz, 40 Hz, 30 Hz, 20 Hz\n",
      "p-value: 0.018543926592302095\n",
      "\n",
      "50 Hz, 40 Hz, 30 Hz, 20 Hz, 10 Hz\n",
      "p-value: 2.086725062269066e-05\n",
      "\n",
      "50 Hz, 40 Hz, 30 Hz, 20 Hz, 10 Hz, 7.5 Hz\n",
      "p-value: 1.969093144657875e-07\n",
      "\n",
      "50 Hz, 40 Hz, 30 Hz, 20 Hz, 10 Hz, 7.5 Hz, 5 Hz\n",
      "p-value: 2.471282794347929e-07\n",
      "\n",
      "50 Hz, 40 Hz, 30 Hz, 20 Hz, 10 Hz, 7.5 Hz, 5 Hz, 3 Hz\n",
      "p-value: 6.349822573277802e-07\n",
      "\n",
      "Maximum AUROC: 50 Hz\n",
      "\n",
      "50 Hz, 40 Hz\n",
      "Ttest_relResult(statistic=1.2337591249649804, pvalue=0.2455032644727377)\n",
      "50 Hz, 30 Hz\n",
      "Ttest_relResult(statistic=1.3856913883392443, pvalue=0.19596462658536093)\n",
      "50 Hz, 20 Hz\n",
      "Ttest_relResult(statistic=2.08145578175755, pvalue=0.06404115137259678)\n",
      "50 Hz, 10 Hz\n",
      "Ttest_relResult(statistic=3.0343389753063335, pvalue=0.012583584135708356)\n",
      "50 Hz, 7.5 Hz\n",
      "Ttest_relResult(statistic=4.167625890833586, pvalue=0.0019252239899210757)\n",
      "50 Hz, 5 Hz\n",
      "Ttest_relResult(statistic=2.9327802110090566, pvalue=0.014969353890463078)\n",
      "50 Hz, 3 Hz\n",
      "Ttest_relResult(statistic=nan, pvalue=nan)\n"
     ]
    },
    {
     "name": "stderr",
     "output_type": "stream",
     "text": [
      "C:\\Anaconda\\lib\\site-packages\\scipy\\stats\\_distn_infrastructure.py:879: RuntimeWarning: invalid value encountered in greater\n",
      "  return (self.a < x) & (x < self.b)\n",
      "C:\\Anaconda\\lib\\site-packages\\scipy\\stats\\_distn_infrastructure.py:879: RuntimeWarning: invalid value encountered in less\n",
      "  return (self.a < x) & (x < self.b)\n",
      "C:\\Anaconda\\lib\\site-packages\\scipy\\stats\\_distn_infrastructure.py:1821: RuntimeWarning: invalid value encountered in less_equal\n",
      "  cond2 = cond0 & (x <= self.a)\n"
     ]
    },
    {
     "data": {
      "image/png": "[encoded data removed]",
      "text/plain": [
       "<Figure size 432x288 with 1 Axes>"
      ]
     },
     "metadata": {},
     "output_type": "display_data"
    }
   ],
   "source": [
    "barplotFreq('watch','Tremor','Binary')\n",
    "stats_tests('watch','Tremor','Binary')"
   ]
  },
  {
   "cell_type": "code",
   "execution_count": 167,
   "metadata": {},
   "outputs": [
    {
     "name": "stdout",
     "output_type": "stream",
     "text": [
      "Repeated Measures ANOVA\n",
      "50 Hz, 40 Hz\n",
      "p-value: 0.037126669145139186\n",
      "\n",
      "50 Hz, 40 Hz, 30 Hz\n",
      "p-value: 4.019522966970305e-07\n",
      "\n",
      "50 Hz, 40 Hz, 30 Hz, 20 Hz\n",
      "p-value: 2.103195438787061e-13\n",
      "\n",
      "50 Hz, 40 Hz, 30 Hz, 20 Hz, 10 Hz\n",
      "p-value: 1.1803670966141557e-18\n",
      "\n",
      "50 Hz, 40 Hz, 30 Hz, 20 Hz, 10 Hz, 7.5 Hz\n",
      "p-value: 1.0223265351832662e-20\n",
      "\n",
      "50 Hz, 40 Hz, 30 Hz, 20 Hz, 10 Hz, 7.5 Hz, 5 Hz\n",
      "p-value: 1.0851825169844313e-17\n",
      "\n",
      "50 Hz, 40 Hz, 30 Hz, 20 Hz, 10 Hz, 7.5 Hz, 5 Hz, 3 Hz\n",
      "p-value: 1.7537377245154837e-12\n",
      "\n",
      "Minimum RMS: 3 Hz\n",
      "\n",
      "3 Hz, 50 Hz\n",
      "Ttest_relResult(statistic=-4.567578241344528, pvalue=0.0008065695829365212)\n",
      "3 Hz, 40 Hz\n",
      "Ttest_relResult(statistic=-5.6432239007516225, pvalue=0.0001503204635386621)\n",
      "3 Hz, 30 Hz\n",
      "Ttest_relResult(statistic=-3.3306723410508616, pvalue=0.006703260318294112)\n",
      "3 Hz, 20 Hz\n",
      "Ttest_relResult(statistic=-1.797920608409743, pvalue=0.09966103735658033)\n",
      "3 Hz, 10 Hz\n",
      "Ttest_relResult(statistic=-0.27685673264359945, pvalue=0.7870234007420458)\n",
      "3 Hz, 7.5 Hz\n",
      "Ttest_relResult(statistic=-0.6822402835829539, pvalue=0.5091983188513022)\n",
      "3 Hz, 5 Hz\n",
      "Ttest_relResult(statistic=-1.4082778172118324, pvalue=0.18667952540398955)\n"
     ]
    },
    {
     "data": {
      "image/png": "[encoded data removed]",
      "text/plain": [
       "<Figure size 432x288 with 1 Axes>"
      ]
     },
     "metadata": {},
     "output_type": "display_data"
    }
   ],
   "source": [
    "barplotFreq('watch','Tremor','Multiclass')\n",
    "stats_tests('watch','Tremor','Multiclass')"
   ]
  },
  {
   "cell_type": "code",
   "execution_count": 168,
   "metadata": {},
   "outputs": [
    {
     "name": "stdout",
     "output_type": "stream",
     "text": [
      "Repeated Measures ANOVA\n",
      "50 Hz, 40 Hz\n",
      "p-value: 1.2455520759248735e-06\n",
      "\n",
      "50 Hz, 40 Hz, 30 Hz\n",
      "p-value: 0.0007091216106026705\n",
      "\n",
      "50 Hz, 40 Hz, 30 Hz, 20 Hz\n",
      "p-value: 0.06302204901456666\n",
      "\n",
      "50 Hz, 40 Hz, 30 Hz, 20 Hz, 10 Hz\n",
      "p-value: 0.7902959222732905\n",
      "\n",
      "50 Hz, 40 Hz, 30 Hz, 20 Hz, 10 Hz, 7.5 Hz\n",
      "p-value: 0.3293600803370692\n",
      "\n",
      "50 Hz, 40 Hz, 30 Hz, 20 Hz, 10 Hz, 7.5 Hz, 5 Hz\n",
      "p-value: 0.023826095989326612\n",
      "\n",
      "50 Hz, 40 Hz, 30 Hz, 20 Hz, 10 Hz, 7.5 Hz, 5 Hz, 3 Hz\n",
      "p-value: 0.0036230258395703575\n",
      "\n",
      "Minimum RMS: 40 Hz\n",
      "\n",
      "40 Hz, 50 Hz\n",
      "Ttest_relResult(statistic=-9.488934085225663, pvalue=1.2455520759256443e-06)\n",
      "40 Hz, 30 Hz\n",
      "Ttest_relResult(statistic=-0.10862277507109185, pvalue=0.9154578057794914)\n",
      "40 Hz, 20 Hz\n",
      "Ttest_relResult(statistic=-1.1281720832048685, pvalue=0.28325271340721636)\n",
      "40 Hz, 10 Hz\n",
      "Ttest_relResult(statistic=-0.27594248475629424, pvalue=0.7877074891608553)\n",
      "40 Hz, 7.5 Hz\n",
      "Ttest_relResult(statistic=-1.871145676584908, pvalue=0.08814356472760215)\n",
      "40 Hz, 5 Hz\n",
      "Ttest_relResult(statistic=-1.9270910384574969, pvalue=0.08018171717273374)\n",
      "40 Hz, 3 Hz\n",
      "Ttest_relResult(statistic=-3.520909008943951, pvalue=0.004790792425589308)\n"
     ]
    },
    {
     "data": {
      "image/png": "[encoded data removed]",
      "text/plain": [
       "<Figure size 432x288 with 1 Axes>"
      ]
     },
     "metadata": {},
     "output_type": "display_data"
    }
   ],
   "source": [
    "barplotFreq('watch','Tremor','Regressor')\n",
    "stats_tests('watch','Tremor','Regressor')"
   ]
  },
  {
   "cell_type": "code",
   "execution_count": 169,
   "metadata": {},
   "outputs": [
    {
     "name": "stdout",
     "output_type": "stream",
     "text": [
      "Repeated Measures ANOVA\n",
      "50 Hz, 40 Hz\n",
      "p-value: 0.17468005710893278\n",
      "\n",
      "50 Hz, 40 Hz, 30 Hz\n",
      "p-value: 0.26421627484269494\n",
      "\n",
      "50 Hz, 40 Hz, 30 Hz, 20 Hz\n",
      "p-value: 0.06962541664189618\n",
      "\n",
      "50 Hz, 40 Hz, 30 Hz, 20 Hz, 10 Hz\n",
      "p-value: 0.5480360853351334\n",
      "\n",
      "50 Hz, 40 Hz, 30 Hz, 20 Hz, 10 Hz, 7.5 Hz\n",
      "p-value: 0.5544211490530955\n",
      "\n",
      "50 Hz, 40 Hz, 30 Hz, 20 Hz, 10 Hz, 7.5 Hz, 5 Hz\n",
      "p-value: 0.6784290583720296\n",
      "\n",
      "50 Hz, 40 Hz, 30 Hz, 20 Hz, 10 Hz, 7.5 Hz, 5 Hz, 3 Hz\n",
      "p-value: 0.5147691814678361\n",
      "\n",
      "Maximum AUROC: 3 Hz\n",
      "\n",
      "3 Hz, 50 Hz\n",
      "Ttest_relResult(statistic=nan, pvalue=nan)\n",
      "3 Hz, 40 Hz\n",
      "Ttest_relResult(statistic=nan, pvalue=nan)\n",
      "3 Hz, 30 Hz\n",
      "Ttest_relResult(statistic=nan, pvalue=nan)\n",
      "3 Hz, 20 Hz\n",
      "Ttest_relResult(statistic=nan, pvalue=nan)\n",
      "3 Hz, 10 Hz\n",
      "Ttest_relResult(statistic=nan, pvalue=nan)\n",
      "3 Hz, 7.5 Hz\n",
      "Ttest_relResult(statistic=nan, pvalue=nan)\n",
      "3 Hz, 5 Hz\n",
      "Ttest_relResult(statistic=nan, pvalue=nan)\n"
     ]
    },
    {
     "name": "stderr",
     "output_type": "stream",
     "text": [
      "C:\\Anaconda\\lib\\site-packages\\scipy\\stats\\_distn_infrastructure.py:879: RuntimeWarning: invalid value encountered in greater\n",
      "  return (self.a < x) & (x < self.b)\n",
      "C:\\Anaconda\\lib\\site-packages\\scipy\\stats\\_distn_infrastructure.py:879: RuntimeWarning: invalid value encountered in less\n",
      "  return (self.a < x) & (x < self.b)\n",
      "C:\\Anaconda\\lib\\site-packages\\scipy\\stats\\_distn_infrastructure.py:1821: RuntimeWarning: invalid value encountered in less_equal\n",
      "  cond2 = cond0 & (x <= self.a)\n"
     ]
    },
    {
     "data": {
      "image/png": "[encoded data removed]",
      "text/plain": [
       "<Figure size 432x288 with 1 Axes>"
      ]
     },
     "metadata": {},
     "output_type": "display_data"
    }
   ],
   "source": [
    "barplotFreq('watch','Bradykinesia','Binary')\n",
    "stats_tests('watch','Bradykinesia','Binary')"
   ]
  },
  {
   "cell_type": "code",
   "execution_count": 170,
   "metadata": {},
   "outputs": [
    {
     "name": "stdout",
     "output_type": "stream",
     "text": [
      "Repeated Measures ANOVA\n",
      "50 Hz, 40 Hz\n",
      "p-value: 0.05478874693222728\n",
      "\n",
      "50 Hz, 40 Hz, 30 Hz\n",
      "p-value: 0.02996376005377043\n",
      "\n",
      "50 Hz, 40 Hz, 30 Hz, 20 Hz\n",
      "p-value: 1.7827122752466516e-06\n",
      "\n",
      "50 Hz, 40 Hz, 30 Hz, 20 Hz, 10 Hz\n",
      "p-value: 1.0936805242244716e-14\n",
      "\n",
      "50 Hz, 40 Hz, 30 Hz, 20 Hz, 10 Hz, 7.5 Hz\n",
      "p-value: 6.239254767319909e-16\n",
      "\n",
      "50 Hz, 40 Hz, 30 Hz, 20 Hz, 10 Hz, 7.5 Hz, 5 Hz\n",
      "p-value: 4.979855073168076e-23\n",
      "\n",
      "50 Hz, 40 Hz, 30 Hz, 20 Hz, 10 Hz, 7.5 Hz, 5 Hz, 3 Hz\n",
      "p-value: 4.091764297663831e-09\n",
      "\n",
      "Minimum RMS: 20 Hz\n",
      "\n",
      "20 Hz, 50 Hz\n",
      "Ttest_relResult(statistic=-4.89598738795137, pvalue=0.0004746410436929494)\n",
      "20 Hz, 40 Hz\n",
      "Ttest_relResult(statistic=-4.770067574817093, pvalue=0.0005806170879489138)\n",
      "20 Hz, 30 Hz\n",
      "Ttest_relResult(statistic=-5.9915704128535765, pvalue=9.034888476631116e-05)\n",
      "20 Hz, 10 Hz\n",
      "Ttest_relResult(statistic=-7.527686973473427, pvalue=1.159413212063342e-05)\n",
      "20 Hz, 7.5 Hz\n",
      "Ttest_relResult(statistic=-7.314968237182077, pvalue=1.513870877519402e-05)\n",
      "20 Hz, 5 Hz\n",
      "Ttest_relResult(statistic=-10.03892471124943, pvalue=7.111394204490545e-07)\n",
      "20 Hz, 3 Hz\n",
      "Ttest_relResult(statistic=-1.5626118694342652, pvalue=0.14643664848730295)\n"
     ]
    },
    {
     "data": {
      "image/png": "[encoded data removed]",
      "text/plain": [
       "<Figure size 432x288 with 1 Axes>"
      ]
     },
     "metadata": {},
     "output_type": "display_data"
    }
   ],
   "source": [
    "barplotFreq('watch','Bradykinesia','Multiclass')\n",
    "stats_tests('watch','Bradykinesia','Multiclass')"
   ]
  },
  {
   "cell_type": "code",
   "execution_count": 171,
   "metadata": {},
   "outputs": [
    {
     "name": "stdout",
     "output_type": "stream",
     "text": [
      "Repeated Measures ANOVA\n",
      "50 Hz, 40 Hz\n",
      "p-value: 0.010653744158098628\n",
      "\n",
      "50 Hz, 40 Hz, 30 Hz\n",
      "p-value: 0.03075470482159677\n",
      "\n",
      "50 Hz, 40 Hz, 30 Hz, 20 Hz\n",
      "p-value: 0.4277141158397927\n",
      "\n",
      "50 Hz, 40 Hz, 30 Hz, 20 Hz, 10 Hz\n",
      "p-value: 3.5820565530130613e-09\n",
      "\n",
      "50 Hz, 40 Hz, 30 Hz, 20 Hz, 10 Hz, 7.5 Hz\n",
      "p-value: 5.263213865550436e-22\n",
      "\n",
      "50 Hz, 40 Hz, 30 Hz, 20 Hz, 10 Hz, 7.5 Hz, 5 Hz\n",
      "p-value: 3.113682110184279e-28\n",
      "\n",
      "50 Hz, 40 Hz, 30 Hz, 20 Hz, 10 Hz, 7.5 Hz, 5 Hz, 3 Hz\n",
      "p-value: 6.490078872493356e-07\n",
      "\n",
      "Minimum RMS: 20 Hz\n",
      "\n",
      "20 Hz, 50 Hz\n",
      "Ttest_relResult(statistic=-1.1737176018139963, pvalue=0.2652950117644493)\n",
      "20 Hz, 40 Hz\n",
      "Ttest_relResult(statistic=-0.2642269976288235, pvalue=0.7964899895540078)\n",
      "20 Hz, 30 Hz\n",
      "Ttest_relResult(statistic=-0.22005496366219773, pvalue=0.8298589548039381)\n",
      "20 Hz, 10 Hz\n",
      "Ttest_relResult(statistic=-5.492554305463268, pvalue=0.00018833748115274775)\n",
      "20 Hz, 7.5 Hz\n",
      "Ttest_relResult(statistic=-8.141905268767788, pvalue=5.52440067610431e-06)\n",
      "20 Hz, 5 Hz\n",
      "Ttest_relResult(statistic=-8.482481352316025, pvalue=3.727265346362555e-06)\n",
      "20 Hz, 3 Hz\n",
      "Ttest_relResult(statistic=-0.6881135518735454, pvalue=0.5056333202951502)\n"
     ]
    },
    {
     "data": {
      "image/png": "[encoded data removed]",
      "text/plain": [
       "<Figure size 432x288 with 1 Axes>"
      ]
     },
     "metadata": {},
     "output_type": "display_data"
    }
   ],
   "source": [
    "barplotFreq('watch','Bradykinesia','Regressor')\n",
    "stats_tests('watch','Bradykinesia','Regressor')"
   ]
  },
  {
   "cell_type": "code",
   "execution_count": 172,
   "metadata": {},
   "outputs": [
    {
     "name": "stdout",
     "output_type": "stream",
     "text": [
      "Repeated Measures ANOVA\n",
      "62.5 Hz, 60 Hz\n",
      "p-value: 0.4463672994873166\n",
      "\n",
      "62.5 Hz, 60 Hz, 50 Hz\n",
      "p-value: 0.6250422736472487\n",
      "\n",
      "62.5 Hz, 60 Hz, 50 Hz, 40 Hz\n",
      "p-value: 0.9376014379240305\n",
      "\n",
      "62.5 Hz, 60 Hz, 50 Hz, 40 Hz, 30 Hz\n",
      "p-value: 0.18230282889464627\n",
      "\n",
      "62.5 Hz, 60 Hz, 50 Hz, 40 Hz, 30 Hz, 20 Hz\n",
      "p-value: 0.06195893813731402\n",
      "\n",
      "62.5 Hz, 60 Hz, 50 Hz, 40 Hz, 30 Hz, 20 Hz, 10 Hz\n",
      "p-value: 0.004440782089529973\n",
      "\n",
      "62.5 Hz, 60 Hz, 50 Hz, 40 Hz, 30 Hz, 20 Hz, 10 Hz, 7.5 Hz\n",
      "p-value: 0.0006101523029957897\n",
      "\n",
      "62.5 Hz, 60 Hz, 50 Hz, 40 Hz, 30 Hz, 20 Hz, 10 Hz, 7.5 Hz, 5 Hz\n",
      "p-value: 0.002265865397025805\n",
      "\n",
      "62.5 Hz, 60 Hz, 50 Hz, 40 Hz, 30 Hz, 20 Hz, 10 Hz, 7.5 Hz, 5 Hz, 3 Hz\n",
      "p-value: 0.0022928518508115348\n",
      "\n",
      "Maximum AUROC: 60 Hz\n",
      "\n",
      "60 Hz, 62.5 Hz\n",
      "Ttest_relResult(statistic=0.7926713084401442, pvalue=0.44636729948733567)\n",
      "60 Hz, 50 Hz\n",
      "Ttest_relResult(statistic=0.10156691814136531, pvalue=0.9211081065075425)\n",
      "60 Hz, 40 Hz\n",
      "Ttest_relResult(statistic=0.14512559388960203, pvalue=0.88749513299938)\n",
      "60 Hz, 30 Hz\n",
      "Ttest_relResult(statistic=1.81849138916831, pvalue=0.09902055283966107)\n",
      "60 Hz, 20 Hz\n",
      "Ttest_relResult(statistic=1.5795921794002608, pvalue=0.14528075201808957)\n",
      "60 Hz, 10 Hz\n",
      "Ttest_relResult(statistic=1.9651029262020399, pvalue=0.07777452712252343)\n",
      "60 Hz, 7.5 Hz\n",
      "Ttest_relResult(statistic=2.2974085946321514, pvalue=0.044449894034128565)\n",
      "60 Hz, 5 Hz\n",
      "Ttest_relResult(statistic=nan, pvalue=nan)\n",
      "60 Hz, 3 Hz\n",
      "Ttest_relResult(statistic=nan, pvalue=nan)\n"
     ]
    },
    {
     "name": "stderr",
     "output_type": "stream",
     "text": [
      "C:\\Anaconda\\lib\\site-packages\\scipy\\stats\\_distn_infrastructure.py:879: RuntimeWarning: invalid value encountered in greater\n",
      "  return (self.a < x) & (x < self.b)\n",
      "C:\\Anaconda\\lib\\site-packages\\scipy\\stats\\_distn_infrastructure.py:879: RuntimeWarning: invalid value encountered in less\n",
      "  return (self.a < x) & (x < self.b)\n",
      "C:\\Anaconda\\lib\\site-packages\\scipy\\stats\\_distn_infrastructure.py:1821: RuntimeWarning: invalid value encountered in less_equal\n",
      "  cond2 = cond0 & (x <= self.a)\n"
     ]
    },
    {
     "data": {
      "image/png": "[encoded data removed]",
      "text/plain": [
       "<Figure size 432x288 with 1 Axes>"
      ]
     },
     "metadata": {},
     "output_type": "display_data"
    }
   ],
   "source": [
    "barplotFreq('sensor','Tremor','Binary')\n",
    "stats_tests('sensor','Tremor','Binary')"
   ]
  },
  {
   "cell_type": "code",
   "execution_count": 173,
   "metadata": {},
   "outputs": [
    {
     "name": "stdout",
     "output_type": "stream",
     "text": [
      "Repeated Measures ANOVA\n",
      "62.5 Hz, 60 Hz\n",
      "p-value: 0.5370532240741168\n",
      "\n",
      "62.5 Hz, 60 Hz, 50 Hz\n",
      "p-value: 0.1890134062329604\n",
      "\n",
      "62.5 Hz, 60 Hz, 50 Hz, 40 Hz\n",
      "p-value: 0.09573276388536642\n",
      "\n",
      "62.5 Hz, 60 Hz, 50 Hz, 40 Hz, 30 Hz\n",
      "p-value: 0.1066914543419728\n",
      "\n",
      "62.5 Hz, 60 Hz, 50 Hz, 40 Hz, 30 Hz, 20 Hz\n",
      "p-value: 0.2628207950707688\n",
      "\n",
      "62.5 Hz, 60 Hz, 50 Hz, 40 Hz, 30 Hz, 20 Hz, 10 Hz\n",
      "p-value: 0.5810188728275028\n",
      "\n",
      "62.5 Hz, 60 Hz, 50 Hz, 40 Hz, 30 Hz, 20 Hz, 10 Hz, 7.5 Hz\n",
      "p-value: 0.41839785326499696\n",
      "\n",
      "62.5 Hz, 60 Hz, 50 Hz, 40 Hz, 30 Hz, 20 Hz, 10 Hz, 7.5 Hz, 5 Hz\n",
      "p-value: 7.358328816169059e-06\n",
      "\n",
      "62.5 Hz, 60 Hz, 50 Hz, 40 Hz, 30 Hz, 20 Hz, 10 Hz, 7.5 Hz, 5 Hz, 3 Hz\n",
      "p-value: 3.3534846955170977e-25\n",
      "\n",
      "Minimum RMS: 10 Hz\n",
      "\n",
      "10 Hz, 62.5 Hz\n",
      "Ttest_relResult(statistic=-0.9867683488811818, pvalue=0.3449642564069453)\n",
      "10 Hz, 60 Hz\n",
      "Ttest_relResult(statistic=-0.7296393459335887, pvalue=0.4808596793499874)\n",
      "10 Hz, 50 Hz\n",
      "Ttest_relResult(statistic=-0.5811841625992265, pvalue=0.57283219997876)\n",
      "10 Hz, 40 Hz\n",
      "Ttest_relResult(statistic=-1.0926426100764544, pvalue=0.2979027421628076)\n",
      "10 Hz, 30 Hz\n",
      "Ttest_relResult(statistic=-0.6056829450518567, pvalue=0.557015877321201)\n",
      "10 Hz, 20 Hz\n",
      "Ttest_relResult(statistic=-0.719944678208486, pvalue=0.48657516130889267)\n",
      "10 Hz, 7.5 Hz\n",
      "Ttest_relResult(statistic=-7.124681455927173, pvalue=1.9306620454960492e-05)\n",
      "10 Hz, 5 Hz\n",
      "Ttest_relResult(statistic=-7.435617207452189, pvalue=1.3004620429384981e-05)\n",
      "10 Hz, 3 Hz\n",
      "Ttest_relResult(statistic=-12.436640073759962, pvalue=8.049610161974418e-08)\n"
     ]
    },
    {
     "data": {
      "image/png": "[encoded data removed]",
      "text/plain": [
       "<Figure size 432x288 with 1 Axes>"
      ]
     },
     "metadata": {},
     "output_type": "display_data"
    }
   ],
   "source": [
    "barplotFreq('sensor','Tremor','Multiclass')\n",
    "stats_tests('sensor','Tremor','Multiclass')"
   ]
  },
  {
   "cell_type": "code",
   "execution_count": 174,
   "metadata": {},
   "outputs": [
    {
     "name": "stdout",
     "output_type": "stream",
     "text": [
      "Repeated Measures ANOVA\n",
      "62.5 Hz, 60 Hz\n",
      "p-value: 0.03530657570677893\n",
      "\n",
      "62.5 Hz, 60 Hz, 50 Hz\n",
      "p-value: 3.023259840884548e-07\n",
      "\n",
      "62.5 Hz, 60 Hz, 50 Hz, 40 Hz\n",
      "p-value: 3.481927918004493e-11\n",
      "\n",
      "62.5 Hz, 60 Hz, 50 Hz, 40 Hz, 30 Hz\n",
      "p-value: 9.374011868884661e-12\n",
      "\n",
      "62.5 Hz, 60 Hz, 50 Hz, 40 Hz, 30 Hz, 20 Hz\n",
      "p-value: 9.15336221621203e-13\n",
      "\n",
      "62.5 Hz, 60 Hz, 50 Hz, 40 Hz, 30 Hz, 20 Hz, 10 Hz\n",
      "p-value: 9.432387196654945e-16\n",
      "\n",
      "62.5 Hz, 60 Hz, 50 Hz, 40 Hz, 30 Hz, 20 Hz, 10 Hz, 7.5 Hz\n",
      "p-value: 5.2324488645217454e-15\n",
      "\n",
      "62.5 Hz, 60 Hz, 50 Hz, 40 Hz, 30 Hz, 20 Hz, 10 Hz, 7.5 Hz, 5 Hz\n",
      "p-value: 1.4979835579629597e-21\n",
      "\n",
      "62.5 Hz, 60 Hz, 50 Hz, 40 Hz, 30 Hz, 20 Hz, 10 Hz, 7.5 Hz, 5 Hz, 3 Hz\n",
      "p-value: 6.866549230477222e-21\n",
      "\n",
      "Minimum RMS: 62.5 Hz\n",
      "\n",
      "62.5 Hz, 60 Hz\n",
      "Ttest_relResult(statistic=-2.398814091819484, pvalue=0.035306575706779884)\n",
      "62.5 Hz, 50 Hz\n",
      "Ttest_relResult(statistic=-6.769347638583213, pvalue=3.076879677940804e-05)\n",
      "62.5 Hz, 40 Hz\n",
      "Ttest_relResult(statistic=-7.9849445385934015, pvalue=6.650238083133049e-06)\n",
      "62.5 Hz, 30 Hz\n",
      "Ttest_relResult(statistic=-5.474461856145717, pvalue=0.0001935479492335342)\n",
      "62.5 Hz, 20 Hz\n",
      "Ttest_relResult(statistic=-5.169958393454554, pvalue=0.0003085225127059238)\n",
      "62.5 Hz, 10 Hz\n",
      "Ttest_relResult(statistic=-5.576223823515235, pvalue=0.0001661073842897142)\n",
      "62.5 Hz, 7.5 Hz\n",
      "Ttest_relResult(statistic=-4.424124682539587, pvalue=0.0010215102216015782)\n",
      "62.5 Hz, 5 Hz\n",
      "Ttest_relResult(statistic=-6.606633088387244, pvalue=3.82923648342649e-05)\n",
      "62.5 Hz, 3 Hz\n",
      "Ttest_relResult(statistic=-4.223790985469235, pvalue=0.001427245735916395)\n"
     ]
    },
    {
     "data": {
      "image/png": "[encoded data removed]",
      "text/plain": [
       "<Figure size 432x288 with 1 Axes>"
      ]
     },
     "metadata": {},
     "output_type": "display_data"
    }
   ],
   "source": [
    "barplotFreq('sensor','Tremor','Regressor')\n",
    "stats_tests('sensor','Tremor','Regressor')"
   ]
  },
  {
   "cell_type": "code",
   "execution_count": 175,
   "metadata": {},
   "outputs": [
    {
     "name": "stdout",
     "output_type": "stream",
     "text": [
      "Repeated Measures ANOVA\n",
      "62.5 Hz, 60 Hz\n",
      "p-value: 0.15808040096842946\n",
      "\n",
      "62.5 Hz, 60 Hz, 50 Hz\n",
      "p-value: 0.14931293952550972\n",
      "\n",
      "62.5 Hz, 60 Hz, 50 Hz, 40 Hz\n",
      "p-value: 0.06742833672456362\n",
      "\n",
      "62.5 Hz, 60 Hz, 50 Hz, 40 Hz, 30 Hz\n",
      "p-value: 0.11652902336414396\n",
      "\n",
      "62.5 Hz, 60 Hz, 50 Hz, 40 Hz, 30 Hz, 20 Hz\n",
      "p-value: 0.15358474335748948\n",
      "\n",
      "62.5 Hz, 60 Hz, 50 Hz, 40 Hz, 30 Hz, 20 Hz, 10 Hz\n",
      "p-value: 0.17882864097098902\n",
      "\n",
      "62.5 Hz, 60 Hz, 50 Hz, 40 Hz, 30 Hz, 20 Hz, 10 Hz, 7.5 Hz\n",
      "p-value: 0.8257064165224169\n",
      "\n",
      "62.5 Hz, 60 Hz, 50 Hz, 40 Hz, 30 Hz, 20 Hz, 10 Hz, 7.5 Hz, 5 Hz\n",
      "p-value: 0.09974500622553398\n",
      "\n",
      "62.5 Hz, 60 Hz, 50 Hz, 40 Hz, 30 Hz, 20 Hz, 10 Hz, 7.5 Hz, 5 Hz, 3 Hz\n",
      "p-value: 0.13880487679067038\n",
      "\n",
      "Maximum AUROC: 3 Hz\n",
      "\n",
      "3 Hz, 62.5 Hz\n",
      "Ttest_relResult(statistic=nan, pvalue=nan)\n",
      "3 Hz, 60 Hz\n",
      "Ttest_relResult(statistic=nan, pvalue=nan)\n",
      "3 Hz, 50 Hz\n",
      "Ttest_relResult(statistic=nan, pvalue=nan)\n",
      "3 Hz, 40 Hz\n",
      "Ttest_relResult(statistic=nan, pvalue=nan)\n",
      "3 Hz, 30 Hz\n",
      "Ttest_relResult(statistic=nan, pvalue=nan)\n",
      "3 Hz, 20 Hz\n",
      "Ttest_relResult(statistic=nan, pvalue=nan)\n",
      "3 Hz, 10 Hz\n",
      "Ttest_relResult(statistic=nan, pvalue=nan)\n",
      "3 Hz, 7.5 Hz\n",
      "Ttest_relResult(statistic=nan, pvalue=nan)\n",
      "3 Hz, 5 Hz\n",
      "Ttest_relResult(statistic=nan, pvalue=nan)\n"
     ]
    },
    {
     "name": "stderr",
     "output_type": "stream",
     "text": [
      "C:\\Anaconda\\lib\\site-packages\\scipy\\stats\\_distn_infrastructure.py:879: RuntimeWarning: invalid value encountered in greater\n",
      "  return (self.a < x) & (x < self.b)\n",
      "C:\\Anaconda\\lib\\site-packages\\scipy\\stats\\_distn_infrastructure.py:879: RuntimeWarning: invalid value encountered in less\n",
      "  return (self.a < x) & (x < self.b)\n",
      "C:\\Anaconda\\lib\\site-packages\\scipy\\stats\\_distn_infrastructure.py:1821: RuntimeWarning: invalid value encountered in less_equal\n",
      "  cond2 = cond0 & (x <= self.a)\n"
     ]
    },
    {
     "data": {
      "image/png": "[encoded data removed]",
      "text/plain": [
       "<Figure size 432x288 with 1 Axes>"
      ]
     },
     "metadata": {},
     "output_type": "display_data"
    }
   ],
   "source": [
    "barplotFreq('sensor','Bradykinesia','Binary')\n",
    "stats_tests('sensor','Bradykinesia','Binary')"
   ]
  },
  {
   "cell_type": "code",
   "execution_count": 176,
   "metadata": {},
   "outputs": [
    {
     "name": "stdout",
     "output_type": "stream",
     "text": [
      "Repeated Measures ANOVA\n",
      "62.5 Hz, 60 Hz\n",
      "p-value: 6.581008463279324e-05\n",
      "\n",
      "62.5 Hz, 60 Hz, 50 Hz\n",
      "p-value: 2.643166749991728e-06\n",
      "\n",
      "62.5 Hz, 60 Hz, 50 Hz, 40 Hz\n",
      "p-value: 4.231109586256397e-06\n",
      "\n",
      "62.5 Hz, 60 Hz, 50 Hz, 40 Hz, 30 Hz\n",
      "p-value: 3.731067930228084e-07\n",
      "\n",
      "62.5 Hz, 60 Hz, 50 Hz, 40 Hz, 30 Hz, 20 Hz\n",
      "p-value: 1.4374146984667085e-10\n",
      "\n",
      "62.5 Hz, 60 Hz, 50 Hz, 40 Hz, 30 Hz, 20 Hz, 10 Hz\n",
      "p-value: 7.047614856591786e-32\n",
      "\n",
      "62.5 Hz, 60 Hz, 50 Hz, 40 Hz, 30 Hz, 20 Hz, 10 Hz, 7.5 Hz\n",
      "p-value: 1.7921194269953587e-44\n",
      "\n",
      "62.5 Hz, 60 Hz, 50 Hz, 40 Hz, 30 Hz, 20 Hz, 10 Hz, 7.5 Hz, 5 Hz\n",
      "p-value: 3.2927949437616455e-39\n",
      "\n",
      "62.5 Hz, 60 Hz, 50 Hz, 40 Hz, 30 Hz, 20 Hz, 10 Hz, 7.5 Hz, 5 Hz, 3 Hz\n",
      "p-value: 1.5027425851390103e-28\n",
      "\n",
      "Minimum RMS: 20 Hz\n",
      "\n",
      "20 Hz, 62.5 Hz\n",
      "Ttest_relResult(statistic=-5.312225565367096, pvalue=0.00024772258283517804)\n",
      "20 Hz, 60 Hz\n",
      "Ttest_relResult(statistic=-3.6672764910288995, pvalue=0.0037072041568887615)\n",
      "20 Hz, 50 Hz\n",
      "Ttest_relResult(statistic=-4.368230504160842, pvalue=0.0011208355181450023)\n",
      "20 Hz, 40 Hz\n",
      "Ttest_relResult(statistic=-4.987711461197288, pvalue=0.00041041081095091964)\n",
      "20 Hz, 30 Hz\n",
      "Ttest_relResult(statistic=-4.366168898758387, pvalue=0.0011246870516186513)\n",
      "20 Hz, 10 Hz\n",
      "Ttest_relResult(statistic=-18.996690254567387, pvalue=9.276301723740829e-10)\n",
      "20 Hz, 7.5 Hz\n",
      "Ttest_relResult(statistic=-16.633669477805803, pvalue=3.8211871312638595e-09)\n",
      "20 Hz, 5 Hz\n",
      "Ttest_relResult(statistic=-8.636604043873854, pvalue=3.131490097515301e-06)\n",
      "20 Hz, 3 Hz\n",
      "Ttest_relResult(statistic=-0.6269554519891918, pvalue=0.5434816239115658)\n"
     ]
    },
    {
     "data": {
      "image/png": "[encoded data removed]",
      "text/plain": [
       "<Figure size 432x288 with 1 Axes>"
      ]
     },
     "metadata": {},
     "output_type": "display_data"
    }
   ],
   "source": [
    "barplotFreq('sensor','Bradykinesia','Multiclass')\n",
    "stats_tests('sensor','Bradykinesia','Multiclass')"
   ]
  },
  {
   "cell_type": "code",
   "execution_count": 74,
   "metadata": {},
   "outputs": [
    {
     "name": "stdout",
     "output_type": "stream",
     "text": [
      "Repeated Measures ANOVA\n",
      "62.5 Hz, 60 Hz\n",
      "p-value: 0.0079505603143379\n",
      "\n",
      "62.5 Hz, 60 Hz, 50 Hz\n",
      "p-value: 0.0021045534474228495\n",
      "\n",
      "62.5 Hz, 60 Hz, 50 Hz, 40 Hz\n",
      "p-value: 4.9337864276411305e-09\n",
      "\n",
      "62.5 Hz, 60 Hz, 50 Hz, 40 Hz, 30 Hz\n",
      "p-value: 3.24231619023126e-11\n",
      "\n",
      "62.5 Hz, 60 Hz, 50 Hz, 40 Hz, 30 Hz, 20 Hz\n",
      "p-value: 1.3795332972896092e-09\n",
      "\n",
      "62.5 Hz, 60 Hz, 50 Hz, 40 Hz, 30 Hz, 20 Hz, 10 Hz\n",
      "p-value: 5.731517258255395e-09\n",
      "\n",
      "62.5 Hz, 60 Hz, 50 Hz, 40 Hz, 30 Hz, 20 Hz, 10 Hz, 7.5 Hz\n",
      "p-value: 1.6508977747434145e-20\n",
      "\n",
      "62.5 Hz, 60 Hz, 50 Hz, 40 Hz, 30 Hz, 20 Hz, 10 Hz, 7.5 Hz, 5 Hz\n",
      "p-value: 2.4757755540439955e-18\n",
      "\n",
      "62.5 Hz, 60 Hz, 50 Hz, 40 Hz, 30 Hz, 20 Hz, 10 Hz, 7.5 Hz, 5 Hz, 3 Hz\n",
      "p-value: 4.458676529645024e-36\n",
      "\n",
      "\n",
      "50 Hz, 60 Hz\n",
      "Ttest_relResult(statistic=-2.9458392993568534, pvalue=0.013308046011058656)\n",
      "50 Hz, 50 Hz\n",
      "Ttest_relResult(statistic=nan, pvalue=nan)\n",
      "50 Hz, 40 Hz\n",
      "Ttest_relResult(statistic=-8.46061747518173, pvalue=3.821244702773418e-06)\n",
      "50 Hz, 30 Hz\n",
      "Ttest_relResult(statistic=0.147595083089282, pvalue=0.8853329395389812)\n",
      "50 Hz, 20 Hz\n",
      "Ttest_relResult(statistic=-3.053839325473229, pvalue=0.010972009090124735)\n",
      "50 Hz, 10 Hz\n",
      "Ttest_relResult(statistic=-4.098896318678081, pvalue=0.0017626928547134313)\n",
      "50 Hz, 7.5 Hz\n",
      "Ttest_relResult(statistic=-8.487757400271894, pvalue=3.7049621755782573e-06)\n",
      "50 Hz, 5 Hz\n",
      "Ttest_relResult(statistic=-3.817383288319198, pvalue=0.002856040898947564)\n",
      "50 Hz, 3 Hz\n",
      "Ttest_relResult(statistic=7.595790935228987, pvalue=1.0656931989077251e-05)\n"
     ]
    },
    {
     "name": "stderr",
     "output_type": "stream",
     "text": [
      "C:\\Anaconda\\lib\\site-packages\\scipy\\stats\\_distn_infrastructure.py:879: RuntimeWarning: invalid value encountered in greater\n",
      "  return (self.a < x) & (x < self.b)\n",
      "C:\\Anaconda\\lib\\site-packages\\scipy\\stats\\_distn_infrastructure.py:879: RuntimeWarning: invalid value encountered in less\n",
      "  return (self.a < x) & (x < self.b)\n",
      "C:\\Anaconda\\lib\\site-packages\\scipy\\stats\\_distn_infrastructure.py:1821: RuntimeWarning: invalid value encountered in less_equal\n",
      "  cond2 = cond0 & (x <= self.a)\n"
     ]
    },
    {
     "data": {
      "image/png": "[encoded data removed]",
      "text/plain": [
       "<Figure size 432x288 with 1 Axes>"
      ]
     },
     "metadata": {},
     "output_type": "display_data"
    }
   ],
   "source": [
    "barplotFreq('sensor','Bradykinesia','Regressor')\n",
    "stats_tests('sensor','Bradykinesia','Regressor')"
   ]
  }
 ],
 "metadata": {
  "kernelspec": {
   "display_name": "Python 3",
   "language": "python",
   "name": "python3"
  },
  "language_info": {
   "codemirror_mode": {
    "name": "ipython",
    "version": 3
   },
   "file_extension": ".py",
   "mimetype": "text/x-python",
   "name": "python",
   "nbconvert_exporter": "python",
   "pygments_lexer": "ipython3",
   "version": "3.6.5"
  }
 },
 "nbformat": 4,
 "nbformat_minor": 2
}
