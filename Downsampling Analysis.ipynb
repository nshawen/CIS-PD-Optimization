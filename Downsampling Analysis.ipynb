{
 "cells": [
  {
   "cell_type": "code",
   "execution_count": 3,
   "metadata": {},
   "outputs": [],
   "source": [
    "import os\n",
    "import platform\n",
    "import numpy as np\n",
    "import pandas as pd\n",
    "import seaborn as sns\n",
    "import matplotlib.pyplot as plt\n",
    "import datetime as dt\n",
    "import time\n",
    "import math\n",
    "import pathlib\n",
    "import pickle\n",
    "from itertools import product\n",
    "from scipy.stats import skew, kurtosis, wilcoxon\n",
    "from scipy.signal import butter, welch, filtfilt, resample\n",
    "from scipy import stats\n",
    "\n",
    "from sklearn import metrics, neighbors, linear_model, preprocessing, svm\n",
    "from sklearn.metrics import confusion_matrix, auc, f1_score, roc_curve, roc_auc_score, precision_score, recall_score, precision_recall_curve\n",
    "from sklearn.neighbors import KNeighborsClassifier\n",
    "from sklearn.linear_model import ElasticNetCV, LogisticRegression\n",
    "from sklearn.preprocessing import LabelEncoder, StandardScaler\n",
    "from sklearn.model_selection import train_test_split, LeaveOneGroupOut, KFold, StratifiedKFold,cross_val_score,GridSearchCV\n",
    "from sklearn.ensemble import RandomForestClassifier, RandomForestRegressor\n",
    "from sklearn.svm import SVC\n",
    "from PreprocessFcns import *\n",
    "\n",
    "from mpl_toolkits.mplot3d import Axes3D\n",
    "%matplotlib inline\n",
    "\n",
    "sns.set_context('talk',font_scale=1)"
   ]
  },
  {
   "cell_type": "code",
   "execution_count": 4,
   "metadata": {},
   "outputs": [],
   "source": [
    "def LOSOCV(Data,X,y,groups,models,LOin=0):\n",
    "\n",
    "    subj = LeaveOneGroupOut() \n",
    "    results = pd.DataFrame(data=None,columns=['model','f1','auprc','auroc'])\n",
    "    groupres = {} #results on each group for each model\n",
    "\n",
    "\n",
    "    #train multiple classifiers\n",
    "    for m in models:\n",
    "        acc_all=[]; acc_train=[] \n",
    "        f1_test_all=[]; prec_all=[]; rec_all=[]; spec_all=[]; auprc_all=[]; auroc_train_all=[]; \n",
    "        auroc_all=[]; fpr_all=[]; tpr_all=[]; fi_all=[]\n",
    "\n",
    "        clf = m[0]; model_name = m[1]            \n",
    "        print('Training %s'%model_name)\n",
    "        s = 0\n",
    "        #LOSO CV for current classifier\n",
    "        for train_index, test_index in subj.split(X, y, groups):\n",
    "        #leave one in:\n",
    "            if LOin:\n",
    "                tridx = train_index.copy()\n",
    "                train_index = test_index.copy()\n",
    "                test_index = tridx\n",
    "            Xtr, Xte = X[train_index], X[test_index]\n",
    "            ytr, yte = y[train_index], y[test_index]\n",
    "            if len(np.unique(ytr))<2: #skip if no positive or negative examples are available for training\n",
    "                #print('only 1 class available in train data - skipping')\n",
    "                continue\n",
    "            clf.fit(Xtr,ytr)\n",
    "            ypred = clf.predict(Xte)\n",
    "            yscore = clf.predict_proba(Xte)\n",
    "            yscore = yscore[:,1]\n",
    "            \n",
    "            #accuracy on train set\n",
    "            ypred_train = clf.predict(Xtr)\n",
    "            acc_train.append(sum(ypred_train==ytr)/len(ytr))\n",
    "            auroc_train = roc_auc_score(ytr,clf.predict_proba(Xtr)[:,1])\n",
    "            \n",
    "            #f1-score, prec, recall, specificity, auprc, auroc\n",
    "            f1_test_all.append(f1_score(yte,ypred))\n",
    "            precision, recall, _ = precision_recall_curve(yte,yscore)\n",
    "            auprc = auc(recall,precision)\n",
    "            if len(np.unique(yte))>1:\n",
    "                auroc = roc_auc_score(yte,yscore)\n",
    "            else:\n",
    "                #print('only 1 class in test data - cannot compute roc curve')\n",
    "                auroc = np.nan\n",
    "            spec = sum((ypred==0) & (yte==0))/sum(yte==0)\n",
    "\n",
    "\n",
    "            prec_all.append(precision_score(yte,ypred))\n",
    "            rec_all.append(recall_score(yte,ypred))\n",
    "            auprc_all.append(auprc)\n",
    "            auroc_all.append(auroc)\n",
    "            auroc_train_all.append(auroc_train)\n",
    "            spec_all.append(spec)\n",
    "\n",
    "            fpr=np.linspace(0,1,101); tpr=[]\n",
    "\n",
    "            if len(np.unique(yte))>1:                \n",
    "                nscores = np.sort(np.column_stack((yscore[yte==0],yte[yte==0])),axis=0)\n",
    "                neg_counts = sum(yte==0)\n",
    "                for f in fpr:\n",
    "                    ind = neg_counts-int(neg_counts*f)-1\n",
    "                    t = (nscores[ind])[0]\n",
    "                    if f==1:\n",
    "                        t = 0\n",
    "                    tpr_t = sum(yscore[yte==1]>t) / sum(yte==1)\n",
    "                    tpr.append(tpr_t) \n",
    "\n",
    "            fpr = np.asarray(fpr); tpr = np.asarray(tpr)\n",
    "            fpr_all.append(fpr); tpr_all.append(tpr)\n",
    "            \n",
    "            #store feature importance\n",
    "            if model_name != 'SVM':\n",
    "                fi_all.append(clf.feature_importances_)\n",
    "            \n",
    "            #print('\\nSubj/Visit %d,prec=%.3f,rec=%.3f,Spec=%.3f,auroc_train=%.3f,auroc=%.3f'%(s,precision_score(yte,ypred),recall_score(yte,ypred),spec,auroc_train,auroc))\n",
    "            s+=1\n",
    "\n",
    "        #print('f1_test=%.3f+/-%.3f, prec=%.3f+/-%.3f, rec=%.3f+/-%.3f, auprc=%.3f+/-%.3f, auroc=%.3f+/-%.3f'%(\n",
    "        #np.nanmean(f1_test_all),np.nanstd(f1_test_all),\n",
    "        #np.nanmean(prec_all),np.nanstd(prec_all), np.nanmean(rec_all),np.nanstd(rec_all),\n",
    "        #np.nanmean(auprc_all),np.nanstd(auprc_all), np.nanmean(auroc_all),np.nanstd(auroc_all)))\n",
    "        \n",
    "        #group results for each model\n",
    "        groupres[model_name] = {'f1':f1_test_all, 'auprc':auprc_all, 'auroc':auroc_all, 'tpr':tpr_all, 'fpr':fpr_all, \n",
    "                                'rec':rec_all, 'spec':spec_all, 'fi':fi_all}\n",
    "        \n",
    "        #mean across groups for each model\n",
    "        r = pd.DataFrame({'model':model_name, 'f1':np.nanmean(f1_test_all), 'auprc':np.nanmean(auprc_all), \n",
    "                          'auroc':np.nanmean(auroc_all)},index=[0])\n",
    "        results = pd.concat((results,r))\n",
    "        \n",
    "    return results,groupres \n",
    "\n",
    "\n",
    "\n",
    "\n",
    "def LOSOMultiClass(Data,X,y,groups,model,LOin=0):\n",
    "\n",
    "    subj = LeaveOneGroupOut() \n",
    "    results = pd.DataFrame(data=None,columns=['model','RMS'])\n",
    "    groupres = {} #results on each group for each model\n",
    "    \n",
    "    acc_all=[]; acc_train=[] \n",
    "    f1_test_all=[]; prec_all=[]; rec_all=[]; spec_all=[]; auprc_all=[]; auroc_train_all=[]; \n",
    "    auroc_all=[]; fpr_all=[]; tpr_all=[]; fi_all=[]\n",
    "    RMS_all = []\n",
    "    \n",
    "    clf = model[0][0]; model_name = model[0][1]          \n",
    "    print('Training %s'%model_name)\n",
    "    s = 0\n",
    "    #LOSO CV for current classifier\n",
    "    for train_index, test_index in subj.split(X, y, groups):\n",
    "    #leave one in:\n",
    "        if LOin:\n",
    "            tridx = train_index.copy()\n",
    "            train_index = test_index.copy()\n",
    "            test_index = tridx\n",
    "        Xtr, Xte = X[train_index], X[test_index]\n",
    "        ytr, yte = y[train_index], y[test_index]\n",
    "        if len(np.unique(ytr))<2: #skip if no positive or negative examples are available for training\n",
    "            #print('only 1 class available in train data - skipping')\n",
    "            continue\n",
    "        clf.fit(Xtr,ytr)\n",
    "        ypred = clf.predict(Xte)\n",
    "        #yscore = clf.predict_proba(Xte)\n",
    "        #yscore = yscore[:,1]\n",
    "\n",
    "        #accuracy on train set\n",
    "        \n",
    "        RMS=0\n",
    "        for yp,yt in zip(ypred,y):\n",
    "            RMS += ((yp - yt)**2)\n",
    "        RMS = RMS / len(y)\n",
    "        RMS = math.sqrt(RMS)\n",
    "        \n",
    "        RMS_all.append(RMS)\n",
    "        \n",
    "        groupres[model_name] = {'RMS':RMS_all}\n",
    "        \n",
    "        r = pd.DataFrame({'model':model_name, 'RMS':np.nanmean(RMS_all)},index=[0])\n",
    "        results = pd.concat((results,r))\n",
    "        \n",
    "    return results, groupres"
   ]
  },
  {
   "cell_type": "code",
   "execution_count": 10,
   "metadata": {},
   "outputs": [],
   "source": [
    "datadict = {'watch':{},'sensor':{}}\n",
    "for freq in [50,40,30,20,10,7.5,5,3]:\n",
    "    data = pd.read_csv('Y:CIS-PD Study\\\\Downsample\\\\Watch Data ' + str(freq) + 'Hz.csv',index_col=0)\n",
    "    for s in data.columns.values[4:]:\n",
    "        data = data[data[s]<np.finfo(np.float32).max]\n",
    "    datadict['watch'][freq] = data[(data.Subject != 1020) & (data.Subject != 1030)].reset_index(drop=True)\n",
    "for freq in [62.5,60,50,40,30,20,10,7.5,5,3]:\n",
    "    data = pd.read_csv('Y:CIS-PD Study\\\\Downsample\\\\Accel+Gyro Data ' + str(freq) + 'Hz.csv',index_col=0)\n",
    "    for s in data.columns.values[4:]:\n",
    "        data = data[data[s]<np.finfo(np.float32).max]\n",
    "    datadict['sensor'][freq] = data[(data.Subject != 1020) & (data.Subject != 1030)].reset_index(drop=True)"
   ]
  },
  {
   "cell_type": "code",
   "execution_count": 11,
   "metadata": {
    "scrolled": true
   },
   "outputs": [
    {
     "name": "stderr",
     "output_type": "stream",
     "text": [
      "C:\\Anaconda\\lib\\site-packages\\ipykernel_launcher.py:31: FutureWarning: Method .as_matrix will be removed in a future version. Use .values instead.\n",
      "C:\\Anaconda\\lib\\site-packages\\ipykernel_launcher.py:33: FutureWarning: Method .as_matrix will be removed in a future version. Use .values instead.\n"
     ]
    },
    {
     "name": "stdout",
     "output_type": "stream",
     "text": [
      "Training Random Forest\n"
     ]
    },
    {
     "name": "stderr",
     "output_type": "stream",
     "text": [
      "C:\\Anaconda\\lib\\site-packages\\sklearn\\metrics\\classification.py:1137: UndefinedMetricWarning: F-score is ill-defined and being set to 0.0 due to no true samples.\n",
      "  'recall', 'true', average, warn_for)\n",
      "C:\\Anaconda\\lib\\site-packages\\sklearn\\metrics\\ranking.py:444: RuntimeWarning: invalid value encountered in true_divide\n",
      "  recall = tps / tps[-1]\n",
      "C:\\Anaconda\\lib\\site-packages\\sklearn\\metrics\\ranking.py:94: RuntimeWarning: invalid value encountered in less\n",
      "  if np.any(dx < 0):\n",
      "C:\\Anaconda\\lib\\site-packages\\sklearn\\metrics\\classification.py:1137: UndefinedMetricWarning: Recall is ill-defined and being set to 0.0 due to no true samples.\n",
      "  'recall', 'true', average, warn_for)\n"
     ]
    },
    {
     "name": "stdout",
     "output_type": "stream",
     "text": [
      "Training Random Forest\n",
      "Training Random Forest\n"
     ]
    },
    {
     "name": "stderr",
     "output_type": "stream",
     "text": [
      "C:\\Anaconda\\lib\\site-packages\\ipykernel_launcher.py:31: FutureWarning: Method .as_matrix will be removed in a future version. Use .values instead.\n",
      "C:\\Anaconda\\lib\\site-packages\\ipykernel_launcher.py:33: FutureWarning: Method .as_matrix will be removed in a future version. Use .values instead.\n"
     ]
    },
    {
     "name": "stdout",
     "output_type": "stream",
     "text": [
      "Training Random Forest\n"
     ]
    },
    {
     "name": "stderr",
     "output_type": "stream",
     "text": [
      "C:\\Anaconda\\lib\\site-packages\\sklearn\\metrics\\classification.py:1137: UndefinedMetricWarning: F-score is ill-defined and being set to 0.0 due to no true samples.\n",
      "  'recall', 'true', average, warn_for)\n",
      "C:\\Anaconda\\lib\\site-packages\\sklearn\\metrics\\ranking.py:444: RuntimeWarning: invalid value encountered in true_divide\n",
      "  recall = tps / tps[-1]\n",
      "C:\\Anaconda\\lib\\site-packages\\sklearn\\metrics\\ranking.py:94: RuntimeWarning: invalid value encountered in less\n",
      "  if np.any(dx < 0):\n",
      "C:\\Anaconda\\lib\\site-packages\\sklearn\\metrics\\classification.py:1137: UndefinedMetricWarning: Recall is ill-defined and being set to 0.0 due to no true samples.\n",
      "  'recall', 'true', average, warn_for)\n"
     ]
    },
    {
     "name": "stdout",
     "output_type": "stream",
     "text": [
      "Training Random Forest\n",
      "Training Random Forest\n"
     ]
    },
    {
     "name": "stderr",
     "output_type": "stream",
     "text": [
      "C:\\Anaconda\\lib\\site-packages\\ipykernel_launcher.py:31: FutureWarning: Method .as_matrix will be removed in a future version. Use .values instead.\n",
      "C:\\Anaconda\\lib\\site-packages\\ipykernel_launcher.py:33: FutureWarning: Method .as_matrix will be removed in a future version. Use .values instead.\n"
     ]
    },
    {
     "name": "stdout",
     "output_type": "stream",
     "text": [
      "Training Random Forest\n"
     ]
    },
    {
     "name": "stderr",
     "output_type": "stream",
     "text": [
      "C:\\Anaconda\\lib\\site-packages\\sklearn\\metrics\\classification.py:1137: UndefinedMetricWarning: F-score is ill-defined and being set to 0.0 due to no true samples.\n",
      "  'recall', 'true', average, warn_for)\n",
      "C:\\Anaconda\\lib\\site-packages\\sklearn\\metrics\\ranking.py:444: RuntimeWarning: invalid value encountered in true_divide\n",
      "  recall = tps / tps[-1]\n",
      "C:\\Anaconda\\lib\\site-packages\\sklearn\\metrics\\ranking.py:94: RuntimeWarning: invalid value encountered in less\n",
      "  if np.any(dx < 0):\n",
      "C:\\Anaconda\\lib\\site-packages\\sklearn\\metrics\\classification.py:1137: UndefinedMetricWarning: Recall is ill-defined and being set to 0.0 due to no true samples.\n",
      "  'recall', 'true', average, warn_for)\n"
     ]
    },
    {
     "name": "stdout",
     "output_type": "stream",
     "text": [
      "Training Random Forest\n",
      "Training Random Forest\n"
     ]
    },
    {
     "name": "stderr",
     "output_type": "stream",
     "text": [
      "C:\\Anaconda\\lib\\site-packages\\ipykernel_launcher.py:31: FutureWarning: Method .as_matrix will be removed in a future version. Use .values instead.\n",
      "C:\\Anaconda\\lib\\site-packages\\ipykernel_launcher.py:33: FutureWarning: Method .as_matrix will be removed in a future version. Use .values instead.\n"
     ]
    },
    {
     "name": "stdout",
     "output_type": "stream",
     "text": [
      "Training Random Forest\n"
     ]
    },
    {
     "name": "stderr",
     "output_type": "stream",
     "text": [
      "C:\\Anaconda\\lib\\site-packages\\sklearn\\metrics\\classification.py:1137: UndefinedMetricWarning: F-score is ill-defined and being set to 0.0 due to no true samples.\n",
      "  'recall', 'true', average, warn_for)\n",
      "C:\\Anaconda\\lib\\site-packages\\sklearn\\metrics\\ranking.py:444: RuntimeWarning: invalid value encountered in true_divide\n",
      "  recall = tps / tps[-1]\n",
      "C:\\Anaconda\\lib\\site-packages\\sklearn\\metrics\\ranking.py:94: RuntimeWarning: invalid value encountered in less\n",
      "  if np.any(dx < 0):\n",
      "C:\\Anaconda\\lib\\site-packages\\sklearn\\metrics\\classification.py:1137: UndefinedMetricWarning: Recall is ill-defined and being set to 0.0 due to no true samples.\n",
      "  'recall', 'true', average, warn_for)\n"
     ]
    },
    {
     "name": "stdout",
     "output_type": "stream",
     "text": [
      "Training Random Forest\n",
      "Training Random Forest\n"
     ]
    },
    {
     "name": "stderr",
     "output_type": "stream",
     "text": [
      "C:\\Anaconda\\lib\\site-packages\\ipykernel_launcher.py:31: FutureWarning: Method .as_matrix will be removed in a future version. Use .values instead.\n",
      "C:\\Anaconda\\lib\\site-packages\\ipykernel_launcher.py:33: FutureWarning: Method .as_matrix will be removed in a future version. Use .values instead.\n"
     ]
    },
    {
     "name": "stdout",
     "output_type": "stream",
     "text": [
      "Training Random Forest\n"
     ]
    },
    {
     "name": "stderr",
     "output_type": "stream",
     "text": [
      "C:\\Anaconda\\lib\\site-packages\\sklearn\\metrics\\classification.py:1137: UndefinedMetricWarning: F-score is ill-defined and being set to 0.0 due to no true samples.\n",
      "  'recall', 'true', average, warn_for)\n",
      "C:\\Anaconda\\lib\\site-packages\\sklearn\\metrics\\ranking.py:444: RuntimeWarning: invalid value encountered in true_divide\n",
      "  recall = tps / tps[-1]\n",
      "C:\\Anaconda\\lib\\site-packages\\sklearn\\metrics\\ranking.py:94: RuntimeWarning: invalid value encountered in less\n",
      "  if np.any(dx < 0):\n",
      "C:\\Anaconda\\lib\\site-packages\\sklearn\\metrics\\classification.py:1137: UndefinedMetricWarning: Recall is ill-defined and being set to 0.0 due to no true samples.\n",
      "  'recall', 'true', average, warn_for)\n"
     ]
    },
    {
     "name": "stdout",
     "output_type": "stream",
     "text": [
      "Training Random Forest\n",
      "Training Random Forest\n"
     ]
    },
    {
     "name": "stderr",
     "output_type": "stream",
     "text": [
      "C:\\Anaconda\\lib\\site-packages\\ipykernel_launcher.py:31: FutureWarning: Method .as_matrix will be removed in a future version. Use .values instead.\n",
      "C:\\Anaconda\\lib\\site-packages\\ipykernel_launcher.py:33: FutureWarning: Method .as_matrix will be removed in a future version. Use .values instead.\n"
     ]
    },
    {
     "name": "stdout",
     "output_type": "stream",
     "text": [
      "Training Random Forest\n"
     ]
    },
    {
     "name": "stderr",
     "output_type": "stream",
     "text": [
      "C:\\Anaconda\\lib\\site-packages\\sklearn\\metrics\\classification.py:1137: UndefinedMetricWarning: F-score is ill-defined and being set to 0.0 due to no true samples.\n",
      "  'recall', 'true', average, warn_for)\n",
      "C:\\Anaconda\\lib\\site-packages\\sklearn\\metrics\\ranking.py:444: RuntimeWarning: invalid value encountered in true_divide\n",
      "  recall = tps / tps[-1]\n",
      "C:\\Anaconda\\lib\\site-packages\\sklearn\\metrics\\ranking.py:94: RuntimeWarning: invalid value encountered in less\n",
      "  if np.any(dx < 0):\n",
      "C:\\Anaconda\\lib\\site-packages\\sklearn\\metrics\\classification.py:1137: UndefinedMetricWarning: Recall is ill-defined and being set to 0.0 due to no true samples.\n",
      "  'recall', 'true', average, warn_for)\n"
     ]
    },
    {
     "name": "stdout",
     "output_type": "stream",
     "text": [
      "Training Random Forest\n",
      "Training Random Forest\n"
     ]
    },
    {
     "name": "stderr",
     "output_type": "stream",
     "text": [
      "C:\\Anaconda\\lib\\site-packages\\ipykernel_launcher.py:31: FutureWarning: Method .as_matrix will be removed in a future version. Use .values instead.\n",
      "C:\\Anaconda\\lib\\site-packages\\ipykernel_launcher.py:33: FutureWarning: Method .as_matrix will be removed in a future version. Use .values instead.\n"
     ]
    },
    {
     "name": "stdout",
     "output_type": "stream",
     "text": [
      "Training Random Forest\n"
     ]
    },
    {
     "name": "stderr",
     "output_type": "stream",
     "text": [
      "C:\\Anaconda\\lib\\site-packages\\sklearn\\metrics\\classification.py:1137: UndefinedMetricWarning: F-score is ill-defined and being set to 0.0 due to no true samples.\n",
      "  'recall', 'true', average, warn_for)\n",
      "C:\\Anaconda\\lib\\site-packages\\sklearn\\metrics\\ranking.py:444: RuntimeWarning: invalid value encountered in true_divide\n",
      "  recall = tps / tps[-1]\n",
      "C:\\Anaconda\\lib\\site-packages\\sklearn\\metrics\\ranking.py:94: RuntimeWarning: invalid value encountered in less\n",
      "  if np.any(dx < 0):\n",
      "C:\\Anaconda\\lib\\site-packages\\sklearn\\metrics\\classification.py:1137: UndefinedMetricWarning: Recall is ill-defined and being set to 0.0 due to no true samples.\n",
      "  'recall', 'true', average, warn_for)\n"
     ]
    },
    {
     "name": "stdout",
     "output_type": "stream",
     "text": [
      "Training Random Forest\n",
      "Training Random Forest\n"
     ]
    },
    {
     "name": "stderr",
     "output_type": "stream",
     "text": [
      "C:\\Anaconda\\lib\\site-packages\\ipykernel_launcher.py:31: FutureWarning: Method .as_matrix will be removed in a future version. Use .values instead.\n",
      "C:\\Anaconda\\lib\\site-packages\\ipykernel_launcher.py:33: FutureWarning: Method .as_matrix will be removed in a future version. Use .values instead.\n"
     ]
    },
    {
     "name": "stdout",
     "output_type": "stream",
     "text": [
      "Training Random Forest\n"
     ]
    },
    {
     "name": "stderr",
     "output_type": "stream",
     "text": [
      "C:\\Anaconda\\lib\\site-packages\\sklearn\\metrics\\classification.py:1137: UndefinedMetricWarning: F-score is ill-defined and being set to 0.0 due to no true samples.\n",
      "  'recall', 'true', average, warn_for)\n",
      "C:\\Anaconda\\lib\\site-packages\\sklearn\\metrics\\ranking.py:444: RuntimeWarning: invalid value encountered in true_divide\n",
      "  recall = tps / tps[-1]\n",
      "C:\\Anaconda\\lib\\site-packages\\sklearn\\metrics\\ranking.py:94: RuntimeWarning: invalid value encountered in less\n",
      "  if np.any(dx < 0):\n",
      "C:\\Anaconda\\lib\\site-packages\\sklearn\\metrics\\classification.py:1137: UndefinedMetricWarning: Recall is ill-defined and being set to 0.0 due to no true samples.\n",
      "  'recall', 'true', average, warn_for)\n",
      "C:\\Anaconda\\lib\\site-packages\\sklearn\\metrics\\classification.py:1137: UndefinedMetricWarning: F-score is ill-defined and being set to 0.0 due to no true samples.\n",
      "  'recall', 'true', average, warn_for)\n",
      "C:\\Anaconda\\lib\\site-packages\\sklearn\\metrics\\ranking.py:444: RuntimeWarning: invalid value encountered in true_divide\n",
      "  recall = tps / tps[-1]\n",
      "C:\\Anaconda\\lib\\site-packages\\sklearn\\metrics\\ranking.py:94: RuntimeWarning: invalid value encountered in less\n",
      "  if np.any(dx < 0):\n",
      "C:\\Anaconda\\lib\\site-packages\\sklearn\\metrics\\classification.py:1137: UndefinedMetricWarning: Recall is ill-defined and being set to 0.0 due to no true samples.\n",
      "  'recall', 'true', average, warn_for)\n"
     ]
    },
    {
     "name": "stdout",
     "output_type": "stream",
     "text": [
      "Training Random Forest\n",
      "Training Random Forest\n"
     ]
    },
    {
     "name": "stderr",
     "output_type": "stream",
     "text": [
      "C:\\Anaconda\\lib\\site-packages\\ipykernel_launcher.py:31: FutureWarning: Method .as_matrix will be removed in a future version. Use .values instead.\n",
      "C:\\Anaconda\\lib\\site-packages\\ipykernel_launcher.py:33: FutureWarning: Method .as_matrix will be removed in a future version. Use .values instead.\n"
     ]
    },
    {
     "name": "stdout",
     "output_type": "stream",
     "text": [
      "Training Random Forest\n",
      "Training Random Forest\n",
      "Training Random Forest\n"
     ]
    },
    {
     "name": "stderr",
     "output_type": "stream",
     "text": [
      "C:\\Anaconda\\lib\\site-packages\\ipykernel_launcher.py:31: FutureWarning: Method .as_matrix will be removed in a future version. Use .values instead.\n",
      "C:\\Anaconda\\lib\\site-packages\\ipykernel_launcher.py:33: FutureWarning: Method .as_matrix will be removed in a future version. Use .values instead.\n"
     ]
    },
    {
     "name": "stdout",
     "output_type": "stream",
     "text": [
      "Training Random Forest\n",
      "Training Random Forest\n",
      "Training Random Forest\n"
     ]
    },
    {
     "name": "stderr",
     "output_type": "stream",
     "text": [
      "C:\\Anaconda\\lib\\site-packages\\ipykernel_launcher.py:31: FutureWarning: Method .as_matrix will be removed in a future version. Use .values instead.\n",
      "C:\\Anaconda\\lib\\site-packages\\ipykernel_launcher.py:33: FutureWarning: Method .as_matrix will be removed in a future version. Use .values instead.\n"
     ]
    },
    {
     "name": "stdout",
     "output_type": "stream",
     "text": [
      "Training Random Forest\n",
      "Training Random Forest\n",
      "Training Random Forest\n"
     ]
    },
    {
     "name": "stderr",
     "output_type": "stream",
     "text": [
      "C:\\Anaconda\\lib\\site-packages\\ipykernel_launcher.py:31: FutureWarning: Method .as_matrix will be removed in a future version. Use .values instead.\n",
      "C:\\Anaconda\\lib\\site-packages\\ipykernel_launcher.py:33: FutureWarning: Method .as_matrix will be removed in a future version. Use .values instead.\n"
     ]
    },
    {
     "name": "stdout",
     "output_type": "stream",
     "text": [
      "Training Random Forest\n",
      "Training Random Forest\n",
      "Training Random Forest\n"
     ]
    },
    {
     "name": "stderr",
     "output_type": "stream",
     "text": [
      "C:\\Anaconda\\lib\\site-packages\\ipykernel_launcher.py:31: FutureWarning: Method .as_matrix will be removed in a future version. Use .values instead.\n",
      "C:\\Anaconda\\lib\\site-packages\\ipykernel_launcher.py:33: FutureWarning: Method .as_matrix will be removed in a future version. Use .values instead.\n"
     ]
    },
    {
     "name": "stdout",
     "output_type": "stream",
     "text": [
      "Training Random Forest\n",
      "Training Random Forest\n",
      "Training Random Forest\n"
     ]
    },
    {
     "name": "stderr",
     "output_type": "stream",
     "text": [
      "C:\\Anaconda\\lib\\site-packages\\ipykernel_launcher.py:31: FutureWarning: Method .as_matrix will be removed in a future version. Use .values instead.\n",
      "C:\\Anaconda\\lib\\site-packages\\ipykernel_launcher.py:33: FutureWarning: Method .as_matrix will be removed in a future version. Use .values instead.\n"
     ]
    },
    {
     "name": "stdout",
     "output_type": "stream",
     "text": [
      "Training Random Forest\n",
      "Training Random Forest\n",
      "Training Random Forest\n"
     ]
    },
    {
     "name": "stderr",
     "output_type": "stream",
     "text": [
      "C:\\Anaconda\\lib\\site-packages\\ipykernel_launcher.py:31: FutureWarning: Method .as_matrix will be removed in a future version. Use .values instead.\n",
      "C:\\Anaconda\\lib\\site-packages\\ipykernel_launcher.py:33: FutureWarning: Method .as_matrix will be removed in a future version. Use .values instead.\n"
     ]
    },
    {
     "name": "stdout",
     "output_type": "stream",
     "text": [
      "Training Random Forest\n",
      "Training Random Forest\n",
      "Training Random Forest\n"
     ]
    },
    {
     "name": "stderr",
     "output_type": "stream",
     "text": [
      "C:\\Anaconda\\lib\\site-packages\\ipykernel_launcher.py:31: FutureWarning: Method .as_matrix will be removed in a future version. Use .values instead.\n",
      "C:\\Anaconda\\lib\\site-packages\\ipykernel_launcher.py:33: FutureWarning: Method .as_matrix will be removed in a future version. Use .values instead.\n"
     ]
    },
    {
     "name": "stdout",
     "output_type": "stream",
     "text": [
      "Training Random Forest\n"
     ]
    },
    {
     "name": "stderr",
     "output_type": "stream",
     "text": [
      "C:\\Anaconda\\lib\\site-packages\\sklearn\\metrics\\classification.py:1137: UndefinedMetricWarning: F-score is ill-defined and being set to 0.0 due to no true samples.\n",
      "  'recall', 'true', average, warn_for)\n",
      "C:\\Anaconda\\lib\\site-packages\\sklearn\\metrics\\ranking.py:444: RuntimeWarning: invalid value encountered in true_divide\n",
      "  recall = tps / tps[-1]\n",
      "C:\\Anaconda\\lib\\site-packages\\sklearn\\metrics\\ranking.py:94: RuntimeWarning: invalid value encountered in less\n",
      "  if np.any(dx < 0):\n",
      "C:\\Anaconda\\lib\\site-packages\\sklearn\\metrics\\classification.py:1137: UndefinedMetricWarning: Recall is ill-defined and being set to 0.0 due to no true samples.\n",
      "  'recall', 'true', average, warn_for)\n"
     ]
    },
    {
     "name": "stdout",
     "output_type": "stream",
     "text": [
      "Training Random Forest\n",
      "Training Random Forest\n"
     ]
    },
    {
     "name": "stderr",
     "output_type": "stream",
     "text": [
      "C:\\Anaconda\\lib\\site-packages\\ipykernel_launcher.py:31: FutureWarning: Method .as_matrix will be removed in a future version. Use .values instead.\n",
      "C:\\Anaconda\\lib\\site-packages\\ipykernel_launcher.py:33: FutureWarning: Method .as_matrix will be removed in a future version. Use .values instead.\n"
     ]
    },
    {
     "name": "stdout",
     "output_type": "stream",
     "text": [
      "Training Random Forest\n"
     ]
    },
    {
     "name": "stderr",
     "output_type": "stream",
     "text": [
      "C:\\Anaconda\\lib\\site-packages\\sklearn\\metrics\\classification.py:1137: UndefinedMetricWarning: F-score is ill-defined and being set to 0.0 due to no true samples.\n",
      "  'recall', 'true', average, warn_for)\n",
      "C:\\Anaconda\\lib\\site-packages\\sklearn\\metrics\\ranking.py:444: RuntimeWarning: invalid value encountered in true_divide\n",
      "  recall = tps / tps[-1]\n",
      "C:\\Anaconda\\lib\\site-packages\\sklearn\\metrics\\ranking.py:94: RuntimeWarning: invalid value encountered in less\n",
      "  if np.any(dx < 0):\n",
      "C:\\Anaconda\\lib\\site-packages\\sklearn\\metrics\\classification.py:1137: UndefinedMetricWarning: Recall is ill-defined and being set to 0.0 due to no true samples.\n",
      "  'recall', 'true', average, warn_for)\n"
     ]
    },
    {
     "name": "stdout",
     "output_type": "stream",
     "text": [
      "Training Random Forest\n",
      "Training Random Forest\n"
     ]
    },
    {
     "name": "stderr",
     "output_type": "stream",
     "text": [
      "C:\\Anaconda\\lib\\site-packages\\ipykernel_launcher.py:31: FutureWarning: Method .as_matrix will be removed in a future version. Use .values instead.\n",
      "C:\\Anaconda\\lib\\site-packages\\ipykernel_launcher.py:33: FutureWarning: Method .as_matrix will be removed in a future version. Use .values instead.\n"
     ]
    },
    {
     "name": "stdout",
     "output_type": "stream",
     "text": [
      "Training Random Forest\n"
     ]
    },
    {
     "name": "stderr",
     "output_type": "stream",
     "text": [
      "C:\\Anaconda\\lib\\site-packages\\sklearn\\metrics\\classification.py:1137: UndefinedMetricWarning: F-score is ill-defined and being set to 0.0 due to no true samples.\n",
      "  'recall', 'true', average, warn_for)\n",
      "C:\\Anaconda\\lib\\site-packages\\sklearn\\metrics\\ranking.py:444: RuntimeWarning: invalid value encountered in true_divide\n",
      "  recall = tps / tps[-1]\n",
      "C:\\Anaconda\\lib\\site-packages\\sklearn\\metrics\\ranking.py:94: RuntimeWarning: invalid value encountered in less\n",
      "  if np.any(dx < 0):\n",
      "C:\\Anaconda\\lib\\site-packages\\sklearn\\metrics\\classification.py:1137: UndefinedMetricWarning: Recall is ill-defined and being set to 0.0 due to no true samples.\n",
      "  'recall', 'true', average, warn_for)\n"
     ]
    },
    {
     "name": "stdout",
     "output_type": "stream",
     "text": [
      "Training Random Forest\n",
      "Training Random Forest\n"
     ]
    },
    {
     "name": "stderr",
     "output_type": "stream",
     "text": [
      "C:\\Anaconda\\lib\\site-packages\\ipykernel_launcher.py:31: FutureWarning: Method .as_matrix will be removed in a future version. Use .values instead.\n",
      "C:\\Anaconda\\lib\\site-packages\\ipykernel_launcher.py:33: FutureWarning: Method .as_matrix will be removed in a future version. Use .values instead.\n"
     ]
    },
    {
     "name": "stdout",
     "output_type": "stream",
     "text": [
      "Training Random Forest\n"
     ]
    },
    {
     "name": "stderr",
     "output_type": "stream",
     "text": [
      "C:\\Anaconda\\lib\\site-packages\\sklearn\\metrics\\classification.py:1137: UndefinedMetricWarning: F-score is ill-defined and being set to 0.0 due to no true samples.\n",
      "  'recall', 'true', average, warn_for)\n",
      "C:\\Anaconda\\lib\\site-packages\\sklearn\\metrics\\ranking.py:444: RuntimeWarning: invalid value encountered in true_divide\n",
      "  recall = tps / tps[-1]\n",
      "C:\\Anaconda\\lib\\site-packages\\sklearn\\metrics\\ranking.py:94: RuntimeWarning: invalid value encountered in less\n",
      "  if np.any(dx < 0):\n",
      "C:\\Anaconda\\lib\\site-packages\\sklearn\\metrics\\classification.py:1137: UndefinedMetricWarning: Recall is ill-defined and being set to 0.0 due to no true samples.\n",
      "  'recall', 'true', average, warn_for)\n"
     ]
    },
    {
     "name": "stdout",
     "output_type": "stream",
     "text": [
      "Training Random Forest\n",
      "Training Random Forest\n"
     ]
    },
    {
     "name": "stderr",
     "output_type": "stream",
     "text": [
      "C:\\Anaconda\\lib\\site-packages\\ipykernel_launcher.py:31: FutureWarning: Method .as_matrix will be removed in a future version. Use .values instead.\n",
      "C:\\Anaconda\\lib\\site-packages\\ipykernel_launcher.py:33: FutureWarning: Method .as_matrix will be removed in a future version. Use .values instead.\n"
     ]
    },
    {
     "name": "stdout",
     "output_type": "stream",
     "text": [
      "Training Random Forest\n"
     ]
    },
    {
     "name": "stderr",
     "output_type": "stream",
     "text": [
      "C:\\Anaconda\\lib\\site-packages\\sklearn\\metrics\\classification.py:1137: UndefinedMetricWarning: F-score is ill-defined and being set to 0.0 due to no true samples.\n",
      "  'recall', 'true', average, warn_for)\n",
      "C:\\Anaconda\\lib\\site-packages\\sklearn\\metrics\\ranking.py:444: RuntimeWarning: invalid value encountered in true_divide\n",
      "  recall = tps / tps[-1]\n",
      "C:\\Anaconda\\lib\\site-packages\\sklearn\\metrics\\ranking.py:94: RuntimeWarning: invalid value encountered in less\n",
      "  if np.any(dx < 0):\n",
      "C:\\Anaconda\\lib\\site-packages\\sklearn\\metrics\\classification.py:1137: UndefinedMetricWarning: Recall is ill-defined and being set to 0.0 due to no true samples.\n",
      "  'recall', 'true', average, warn_for)\n"
     ]
    },
    {
     "name": "stdout",
     "output_type": "stream",
     "text": [
      "Training Random Forest\n",
      "Training Random Forest\n"
     ]
    },
    {
     "name": "stderr",
     "output_type": "stream",
     "text": [
      "C:\\Anaconda\\lib\\site-packages\\ipykernel_launcher.py:31: FutureWarning: Method .as_matrix will be removed in a future version. Use .values instead.\n",
      "C:\\Anaconda\\lib\\site-packages\\ipykernel_launcher.py:33: FutureWarning: Method .as_matrix will be removed in a future version. Use .values instead.\n"
     ]
    },
    {
     "name": "stdout",
     "output_type": "stream",
     "text": [
      "Training Random Forest\n"
     ]
    },
    {
     "name": "stderr",
     "output_type": "stream",
     "text": [
      "C:\\Anaconda\\lib\\site-packages\\sklearn\\metrics\\classification.py:1137: UndefinedMetricWarning: F-score is ill-defined and being set to 0.0 due to no true samples.\n",
      "  'recall', 'true', average, warn_for)\n",
      "C:\\Anaconda\\lib\\site-packages\\sklearn\\metrics\\ranking.py:444: RuntimeWarning: invalid value encountered in true_divide\n",
      "  recall = tps / tps[-1]\n",
      "C:\\Anaconda\\lib\\site-packages\\sklearn\\metrics\\ranking.py:94: RuntimeWarning: invalid value encountered in less\n",
      "  if np.any(dx < 0):\n",
      "C:\\Anaconda\\lib\\site-packages\\sklearn\\metrics\\classification.py:1137: UndefinedMetricWarning: Recall is ill-defined and being set to 0.0 due to no true samples.\n",
      "  'recall', 'true', average, warn_for)\n"
     ]
    },
    {
     "name": "stdout",
     "output_type": "stream",
     "text": [
      "Training Random Forest\n",
      "Training Random Forest\n"
     ]
    },
    {
     "name": "stderr",
     "output_type": "stream",
     "text": [
      "C:\\Anaconda\\lib\\site-packages\\ipykernel_launcher.py:31: FutureWarning: Method .as_matrix will be removed in a future version. Use .values instead.\n",
      "C:\\Anaconda\\lib\\site-packages\\ipykernel_launcher.py:33: FutureWarning: Method .as_matrix will be removed in a future version. Use .values instead.\n"
     ]
    },
    {
     "name": "stdout",
     "output_type": "stream",
     "text": [
      "Training Random Forest\n"
     ]
    },
    {
     "name": "stderr",
     "output_type": "stream",
     "text": [
      "C:\\Anaconda\\lib\\site-packages\\sklearn\\metrics\\classification.py:1137: UndefinedMetricWarning: F-score is ill-defined and being set to 0.0 due to no true samples.\n",
      "  'recall', 'true', average, warn_for)\n",
      "C:\\Anaconda\\lib\\site-packages\\sklearn\\metrics\\ranking.py:444: RuntimeWarning: invalid value encountered in true_divide\n",
      "  recall = tps / tps[-1]\n",
      "C:\\Anaconda\\lib\\site-packages\\sklearn\\metrics\\ranking.py:94: RuntimeWarning: invalid value encountered in less\n",
      "  if np.any(dx < 0):\n",
      "C:\\Anaconda\\lib\\site-packages\\sklearn\\metrics\\classification.py:1137: UndefinedMetricWarning: Recall is ill-defined and being set to 0.0 due to no true samples.\n",
      "  'recall', 'true', average, warn_for)\n"
     ]
    },
    {
     "name": "stdout",
     "output_type": "stream",
     "text": [
      "Training Random Forest\n",
      "Training Random Forest\n"
     ]
    },
    {
     "name": "stderr",
     "output_type": "stream",
     "text": [
      "C:\\Anaconda\\lib\\site-packages\\ipykernel_launcher.py:31: FutureWarning: Method .as_matrix will be removed in a future version. Use .values instead.\n",
      "C:\\Anaconda\\lib\\site-packages\\ipykernel_launcher.py:33: FutureWarning: Method .as_matrix will be removed in a future version. Use .values instead.\n"
     ]
    },
    {
     "name": "stdout",
     "output_type": "stream",
     "text": [
      "Training Random Forest\n"
     ]
    },
    {
     "name": "stderr",
     "output_type": "stream",
     "text": [
      "C:\\Anaconda\\lib\\site-packages\\sklearn\\metrics\\classification.py:1137: UndefinedMetricWarning: F-score is ill-defined and being set to 0.0 due to no true samples.\n",
      "  'recall', 'true', average, warn_for)\n",
      "C:\\Anaconda\\lib\\site-packages\\sklearn\\metrics\\ranking.py:444: RuntimeWarning: invalid value encountered in true_divide\n",
      "  recall = tps / tps[-1]\n",
      "C:\\Anaconda\\lib\\site-packages\\sklearn\\metrics\\ranking.py:94: RuntimeWarning: invalid value encountered in less\n",
      "  if np.any(dx < 0):\n",
      "C:\\Anaconda\\lib\\site-packages\\sklearn\\metrics\\classification.py:1137: UndefinedMetricWarning: Recall is ill-defined and being set to 0.0 due to no true samples.\n",
      "  'recall', 'true', average, warn_for)\n"
     ]
    },
    {
     "name": "stdout",
     "output_type": "stream",
     "text": [
      "Training Random Forest\n",
      "Training Random Forest\n"
     ]
    },
    {
     "name": "stderr",
     "output_type": "stream",
     "text": [
      "C:\\Anaconda\\lib\\site-packages\\ipykernel_launcher.py:31: FutureWarning: Method .as_matrix will be removed in a future version. Use .values instead.\n",
      "C:\\Anaconda\\lib\\site-packages\\ipykernel_launcher.py:33: FutureWarning: Method .as_matrix will be removed in a future version. Use .values instead.\n"
     ]
    },
    {
     "name": "stdout",
     "output_type": "stream",
     "text": [
      "Training Random Forest\n"
     ]
    },
    {
     "name": "stderr",
     "output_type": "stream",
     "text": [
      "C:\\Anaconda\\lib\\site-packages\\sklearn\\metrics\\classification.py:1137: UndefinedMetricWarning: F-score is ill-defined and being set to 0.0 due to no true samples.\n",
      "  'recall', 'true', average, warn_for)\n",
      "C:\\Anaconda\\lib\\site-packages\\sklearn\\metrics\\ranking.py:444: RuntimeWarning: invalid value encountered in true_divide\n",
      "  recall = tps / tps[-1]\n",
      "C:\\Anaconda\\lib\\site-packages\\sklearn\\metrics\\ranking.py:94: RuntimeWarning: invalid value encountered in less\n",
      "  if np.any(dx < 0):\n",
      "C:\\Anaconda\\lib\\site-packages\\sklearn\\metrics\\classification.py:1137: UndefinedMetricWarning: Recall is ill-defined and being set to 0.0 due to no true samples.\n",
      "  'recall', 'true', average, warn_for)\n"
     ]
    },
    {
     "name": "stdout",
     "output_type": "stream",
     "text": [
      "Training Random Forest\n",
      "Training Random Forest\n"
     ]
    },
    {
     "name": "stderr",
     "output_type": "stream",
     "text": [
      "C:\\Anaconda\\lib\\site-packages\\ipykernel_launcher.py:31: FutureWarning: Method .as_matrix will be removed in a future version. Use .values instead.\n",
      "C:\\Anaconda\\lib\\site-packages\\ipykernel_launcher.py:33: FutureWarning: Method .as_matrix will be removed in a future version. Use .values instead.\n"
     ]
    },
    {
     "name": "stdout",
     "output_type": "stream",
     "text": [
      "Training Random Forest\n"
     ]
    },
    {
     "name": "stderr",
     "output_type": "stream",
     "text": [
      "C:\\Anaconda\\lib\\site-packages\\sklearn\\metrics\\classification.py:1137: UndefinedMetricWarning: F-score is ill-defined and being set to 0.0 due to no true samples.\n",
      "  'recall', 'true', average, warn_for)\n",
      "C:\\Anaconda\\lib\\site-packages\\sklearn\\metrics\\ranking.py:444: RuntimeWarning: invalid value encountered in true_divide\n",
      "  recall = tps / tps[-1]\n",
      "C:\\Anaconda\\lib\\site-packages\\sklearn\\metrics\\ranking.py:94: RuntimeWarning: invalid value encountered in less\n",
      "  if np.any(dx < 0):\n",
      "C:\\Anaconda\\lib\\site-packages\\sklearn\\metrics\\classification.py:1137: UndefinedMetricWarning: Recall is ill-defined and being set to 0.0 due to no true samples.\n",
      "  'recall', 'true', average, warn_for)\n",
      "C:\\Anaconda\\lib\\site-packages\\sklearn\\metrics\\classification.py:1137: UndefinedMetricWarning: F-score is ill-defined and being set to 0.0 due to no true samples.\n",
      "  'recall', 'true', average, warn_for)\n",
      "C:\\Anaconda\\lib\\site-packages\\sklearn\\metrics\\ranking.py:444: RuntimeWarning: invalid value encountered in true_divide\n",
      "  recall = tps / tps[-1]\n",
      "C:\\Anaconda\\lib\\site-packages\\sklearn\\metrics\\ranking.py:94: RuntimeWarning: invalid value encountered in less\n",
      "  if np.any(dx < 0):\n",
      "C:\\Anaconda\\lib\\site-packages\\sklearn\\metrics\\classification.py:1137: UndefinedMetricWarning: Recall is ill-defined and being set to 0.0 due to no true samples.\n",
      "  'recall', 'true', average, warn_for)\n"
     ]
    },
    {
     "name": "stdout",
     "output_type": "stream",
     "text": [
      "Training Random Forest\n",
      "Training Random Forest\n"
     ]
    },
    {
     "name": "stderr",
     "output_type": "stream",
     "text": [
      "C:\\Anaconda\\lib\\site-packages\\ipykernel_launcher.py:31: FutureWarning: Method .as_matrix will be removed in a future version. Use .values instead.\n",
      "C:\\Anaconda\\lib\\site-packages\\ipykernel_launcher.py:33: FutureWarning: Method .as_matrix will be removed in a future version. Use .values instead.\n"
     ]
    },
    {
     "name": "stdout",
     "output_type": "stream",
     "text": [
      "Training Random Forest\n"
     ]
    },
    {
     "name": "stderr",
     "output_type": "stream",
     "text": [
      "C:\\Anaconda\\lib\\site-packages\\sklearn\\metrics\\classification.py:1137: UndefinedMetricWarning: F-score is ill-defined and being set to 0.0 due to no true samples.\n",
      "  'recall', 'true', average, warn_for)\n",
      "C:\\Anaconda\\lib\\site-packages\\sklearn\\metrics\\ranking.py:444: RuntimeWarning: invalid value encountered in true_divide\n",
      "  recall = tps / tps[-1]\n",
      "C:\\Anaconda\\lib\\site-packages\\sklearn\\metrics\\ranking.py:94: RuntimeWarning: invalid value encountered in less\n",
      "  if np.any(dx < 0):\n",
      "C:\\Anaconda\\lib\\site-packages\\sklearn\\metrics\\classification.py:1137: UndefinedMetricWarning: Recall is ill-defined and being set to 0.0 due to no true samples.\n",
      "  'recall', 'true', average, warn_for)\n",
      "C:\\Anaconda\\lib\\site-packages\\sklearn\\metrics\\classification.py:1135: UndefinedMetricWarning: F-score is ill-defined and being set to 0.0 due to no predicted samples.\n",
      "  'precision', 'predicted', average, warn_for)\n",
      "C:\\Anaconda\\lib\\site-packages\\sklearn\\metrics\\classification.py:1135: UndefinedMetricWarning: Precision is ill-defined and being set to 0.0 due to no predicted samples.\n",
      "  'precision', 'predicted', average, warn_for)\n",
      "C:\\Anaconda\\lib\\site-packages\\sklearn\\metrics\\classification.py:1137: UndefinedMetricWarning: F-score is ill-defined and being set to 0.0 due to no true samples.\n",
      "  'recall', 'true', average, warn_for)\n",
      "C:\\Anaconda\\lib\\site-packages\\sklearn\\metrics\\ranking.py:444: RuntimeWarning: invalid value encountered in true_divide\n",
      "  recall = tps / tps[-1]\n",
      "C:\\Anaconda\\lib\\site-packages\\sklearn\\metrics\\ranking.py:94: RuntimeWarning: invalid value encountered in less\n",
      "  if np.any(dx < 0):\n",
      "C:\\Anaconda\\lib\\site-packages\\sklearn\\metrics\\classification.py:1137: UndefinedMetricWarning: Recall is ill-defined and being set to 0.0 due to no true samples.\n",
      "  'recall', 'true', average, warn_for)\n"
     ]
    },
    {
     "name": "stdout",
     "output_type": "stream",
     "text": [
      "Training Random Forest\n",
      "Training Random Forest\n"
     ]
    },
    {
     "name": "stderr",
     "output_type": "stream",
     "text": [
      "C:\\Anaconda\\lib\\site-packages\\ipykernel_launcher.py:31: FutureWarning: Method .as_matrix will be removed in a future version. Use .values instead.\n",
      "C:\\Anaconda\\lib\\site-packages\\ipykernel_launcher.py:33: FutureWarning: Method .as_matrix will be removed in a future version. Use .values instead.\n"
     ]
    },
    {
     "name": "stdout",
     "output_type": "stream",
     "text": [
      "Training Random Forest\n",
      "Training Random Forest\n",
      "Training Random Forest\n"
     ]
    },
    {
     "name": "stderr",
     "output_type": "stream",
     "text": [
      "C:\\Anaconda\\lib\\site-packages\\ipykernel_launcher.py:31: FutureWarning: Method .as_matrix will be removed in a future version. Use .values instead.\n",
      "C:\\Anaconda\\lib\\site-packages\\ipykernel_launcher.py:33: FutureWarning: Method .as_matrix will be removed in a future version. Use .values instead.\n"
     ]
    },
    {
     "name": "stdout",
     "output_type": "stream",
     "text": [
      "Training Random Forest\n",
      "Training Random Forest\n",
      "Training Random Forest\n"
     ]
    },
    {
     "name": "stderr",
     "output_type": "stream",
     "text": [
      "C:\\Anaconda\\lib\\site-packages\\ipykernel_launcher.py:31: FutureWarning: Method .as_matrix will be removed in a future version. Use .values instead.\n",
      "C:\\Anaconda\\lib\\site-packages\\ipykernel_launcher.py:33: FutureWarning: Method .as_matrix will be removed in a future version. Use .values instead.\n"
     ]
    },
    {
     "name": "stdout",
     "output_type": "stream",
     "text": [
      "Training Random Forest\n",
      "Training Random Forest\n",
      "Training Random Forest\n"
     ]
    },
    {
     "name": "stderr",
     "output_type": "stream",
     "text": [
      "C:\\Anaconda\\lib\\site-packages\\ipykernel_launcher.py:31: FutureWarning: Method .as_matrix will be removed in a future version. Use .values instead.\n",
      "C:\\Anaconda\\lib\\site-packages\\ipykernel_launcher.py:33: FutureWarning: Method .as_matrix will be removed in a future version. Use .values instead.\n"
     ]
    },
    {
     "name": "stdout",
     "output_type": "stream",
     "text": [
      "Training Random Forest\n",
      "Training Random Forest\n",
      "Training Random Forest\n"
     ]
    },
    {
     "name": "stderr",
     "output_type": "stream",
     "text": [
      "C:\\Anaconda\\lib\\site-packages\\ipykernel_launcher.py:31: FutureWarning: Method .as_matrix will be removed in a future version. Use .values instead.\n",
      "C:\\Anaconda\\lib\\site-packages\\ipykernel_launcher.py:33: FutureWarning: Method .as_matrix will be removed in a future version. Use .values instead.\n"
     ]
    },
    {
     "name": "stdout",
     "output_type": "stream",
     "text": [
      "Training Random Forest\n",
      "Training Random Forest\n",
      "Training Random Forest\n"
     ]
    },
    {
     "name": "stderr",
     "output_type": "stream",
     "text": [
      "C:\\Anaconda\\lib\\site-packages\\ipykernel_launcher.py:31: FutureWarning: Method .as_matrix will be removed in a future version. Use .values instead.\n",
      "C:\\Anaconda\\lib\\site-packages\\ipykernel_launcher.py:33: FutureWarning: Method .as_matrix will be removed in a future version. Use .values instead.\n"
     ]
    },
    {
     "name": "stdout",
     "output_type": "stream",
     "text": [
      "Training Random Forest\n",
      "Training Random Forest\n",
      "Training Random Forest\n"
     ]
    },
    {
     "name": "stderr",
     "output_type": "stream",
     "text": [
      "C:\\Anaconda\\lib\\site-packages\\ipykernel_launcher.py:31: FutureWarning: Method .as_matrix will be removed in a future version. Use .values instead.\n",
      "C:\\Anaconda\\lib\\site-packages\\ipykernel_launcher.py:33: FutureWarning: Method .as_matrix will be removed in a future version. Use .values instead.\n"
     ]
    },
    {
     "name": "stdout",
     "output_type": "stream",
     "text": [
      "Training Random Forest\n",
      "Training Random Forest\n",
      "Training Random Forest\n"
     ]
    },
    {
     "name": "stderr",
     "output_type": "stream",
     "text": [
      "C:\\Anaconda\\lib\\site-packages\\ipykernel_launcher.py:31: FutureWarning: Method .as_matrix will be removed in a future version. Use .values instead.\n",
      "C:\\Anaconda\\lib\\site-packages\\ipykernel_launcher.py:33: FutureWarning: Method .as_matrix will be removed in a future version. Use .values instead.\n"
     ]
    },
    {
     "name": "stdout",
     "output_type": "stream",
     "text": [
      "Training Random Forest\n",
      "Training Random Forest\n",
      "Training Random Forest\n"
     ]
    },
    {
     "name": "stderr",
     "output_type": "stream",
     "text": [
      "C:\\Anaconda\\lib\\site-packages\\ipykernel_launcher.py:31: FutureWarning: Method .as_matrix will be removed in a future version. Use .values instead.\n",
      "C:\\Anaconda\\lib\\site-packages\\ipykernel_launcher.py:33: FutureWarning: Method .as_matrix will be removed in a future version. Use .values instead.\n"
     ]
    },
    {
     "name": "stdout",
     "output_type": "stream",
     "text": [
      "Training Random Forest\n",
      "Training Random Forest\n",
      "Training Random Forest\n"
     ]
    },
    {
     "name": "stderr",
     "output_type": "stream",
     "text": [
      "C:\\Anaconda\\lib\\site-packages\\ipykernel_launcher.py:31: FutureWarning: Method .as_matrix will be removed in a future version. Use .values instead.\n",
      "C:\\Anaconda\\lib\\site-packages\\ipykernel_launcher.py:33: FutureWarning: Method .as_matrix will be removed in a future version. Use .values instead.\n"
     ]
    },
    {
     "name": "stdout",
     "output_type": "stream",
     "text": [
      "Training Random Forest\n"
     ]
    },
    {
     "name": "stderr",
     "output_type": "stream",
     "text": [
      "C:\\Anaconda\\lib\\site-packages\\ipykernel_launcher.py:48: RuntimeWarning: invalid value encountered in long_scalars\n"
     ]
    },
    {
     "name": "stdout",
     "output_type": "stream",
     "text": [
      "Training Random Forest\n",
      "Training Random Forest\n",
      "Elapsed time = 264.361 min\n"
     ]
    }
   ],
   "source": [
    "t1=time.time()\n",
    "results = {}\n",
    "\n",
    "for mode in ['watch','sensor']:\n",
    "    \n",
    "    results[mode] = {}\n",
    "\n",
    "    for symptom in ['Tremor','Bradykinesia']:\n",
    "        \n",
    "        results[mode][symptom] = {}\n",
    "        \n",
    "        results[mode][symptom]['Binary'] = {}\n",
    "        binary_res_all = pd.DataFrame()\n",
    "        binary_res_groups = []\n",
    "        \n",
    "        results[mode][symptom]['Multiclass'] = {}\n",
    "        multi_res_all = pd.DataFrame()\n",
    "        multi_res_groups = pd.DataFrame()\n",
    "        \n",
    "        results[mode][symptom]['Regressor'] = {}\n",
    "        regress_res_all = pd.DataFrame()\n",
    "        regress_res_groups = pd.DataFrame()\n",
    "\n",
    "        for freq in datadict[mode].keys():\n",
    "\n",
    "            data = datadict[mode][freq]\n",
    "            Data = data.copy() #original unmodified dataframe\n",
    "            Data=Data[~Data[symptom].isnull()]\n",
    "            Data=Data.reset_index(drop=True) #reset index\n",
    "\n",
    "            X = Data.iloc[:,5:].values()\n",
    "            fnames = Data.iloc[:,5:].columns.values\n",
    "            groups = Data.Subject.values()\n",
    "\n",
    "            #Binary\n",
    "            \n",
    "            y = ((Data[symptom]>0)).values.astype(int)\n",
    "\n",
    "            model = [RandomForestClassifier(n_estimators=50,random_state=2)]          \n",
    "            model_name = ['Random Forest']\n",
    "            model = list(zip(model,model_name))\n",
    "\n",
    "            res,res_group = LOSOCV(Data,X,y,groups,model)\n",
    "            res['Sampling Rate'] = str(freq) + ' Hz'\n",
    "            binary_res_all = pd.concat((binary_res_all,res))\n",
    "            binary_res_groups.append(res_group)\n",
    "            \n",
    "            results[mode][symptom]['Binary']['res_all'] = binary_res_all.reset_index(drop=True)\n",
    "            results[mode][symptom]['Binary']['res_groups'] = binary_res_groups\n",
    "\n",
    "            #Multiple Classes\n",
    "\n",
    "            y = Data[symptom].values.astype(int)\n",
    "\n",
    "            model = [RandomForestClassifier(n_estimators=50,random_state=2)]          \n",
    "            model_name = ['Random Forest']\n",
    "            model = list(zip(model,model_name))\n",
    "\n",
    "            res,res_group = LOSOMultiClass(Data,X,y,groups,model)\n",
    "            res['Sampling Rate'] = str(freq) + ' Hz'\n",
    "            multi_res_groups = pd.concat((multi_res_groups,res))\n",
    "            R = pd.DataFrame()\n",
    "            R['RMS'] = [np.nanmean(multi_res_groups[multi_res_groups['Sampling Rate']==(str(freq) + ' Hz')]['RMS'])]\n",
    "            R['Model'] = ['Random Forest']\n",
    "            R['Sampling Rate'] = [str(freq) + ' Hz']\n",
    "            multi_res_all = pd.concat([multi_res_all,R])\n",
    "\n",
    "            results[mode][symptom]['Multiclass']['res_all'] = multi_res_all.reset_index(drop=True)\n",
    "            results[mode][symptom]['Multiclass']['res_groups'] = multi_res_groups\n",
    "\n",
    "            #Regressor\n",
    "\n",
    "            y = Data[symptom].values.astype(int) #target \n",
    "\n",
    "            model = [RandomForestRegressor(n_estimators=50,random_state=2)]          \n",
    "            model_name = ['Random Forest']\n",
    "            model = list(zip(model,model_name))\n",
    "\n",
    "            res,res_group = LOSOMultiClass(Data,X,y,groups,model)\n",
    "            res['Sampling Rate'] = str(freq) + ' Hz'\n",
    "            regress_res_groups = pd.concat((regress_res_groups,res))\n",
    "            R = pd.DataFrame()\n",
    "            R['RMS'] = [np.nanmean(regress_res_groups[regress_res_groups['Sampling Rate']==(str(freq) + ' Hz')]['RMS'])]\n",
    "            R['Model'] = ['Random Forest'] \n",
    "            R['Sampling Rate'] = [str(freq) + ' Hz']\n",
    "            regress_res_all = pd.concat([regress_res_all,R])\n",
    "\n",
    "            results[mode][symptom]['Regressor']['res_all'] = regress_res_all.reset_index(drop=True)\n",
    "            results[mode][symptom]['Regressor']['res_groups'] = regress_res_groups\n",
    "    \n",
    "print('Elapsed time = %.3f min'%((time.time()-t1)/60))    "
   ]
  },
  {
   "cell_type": "code",
   "execution_count": 101,
   "metadata": {},
   "outputs": [],
   "source": [
    "def barplotFreq(results,mode,symptom,classifier):\n",
    "    if 'RMS' in results[mode][symptom][classifier]['res_groups']:\n",
    "        groups = results[mode][symptom][classifier]['res_groups']['Sampling Rate']\n",
    "        RMS = results[mode][symptom][classifier]['res_groups']['RMS']\n",
    "        sns.barplot(groups,RMS,ci='sd')\n",
    "        plt.ylabel('RMS')\n",
    "        m = results[mode][symptom][classifier]['res_all']['RMS'].max()\n",
    "        m = math.ceil((m+.01)*20)/20\n",
    "        plt.ylim([0,m])\n",
    "    else:\n",
    "        groups = results[mode][symptom][classifier]['res_all']['Sampling Rate'].values\n",
    "        aucdf = pd.DataFrame()\n",
    "        data = results[mode][symptom][classifier]['res_groups']\n",
    "        for i in range(len(data)):\n",
    "            aucdf[groups[i]] = data[i]['Random Forest']['auroc']\n",
    "        sns.barplot(data=aucdf)\n",
    "        plt.ylabel('AUROC')\n",
    "        plt.ylim([0,1])\n",
    "        \n",
    "    ax = plt.xticks(rotation=90)\n",
    "    plt.xlabel('Frequency')\n",
    "    plt.title('Effect of Sampling Frequency on %s Model Performance: %s'%(classifier,symptom))\n",
    "    \n",
    "    #print(results[mode][symptom][classifier]['res_all'])\n",
    "    #print()"
   ]
  },
  {
   "cell_type": "code",
   "execution_count": 169,
   "metadata": {},
   "outputs": [],
   "source": [
    "def stats_tests(results,mode,symptom,classifier):\n",
    "    df = pd.DataFrame()\n",
    "    freqlist = list(results[mode][symptom][classifier]['res_all']['Sampling Rate'])\n",
    "    if 'RMS' in results[mode][symptom][classifier]['res_groups']:\n",
    "        for freq in freqlist:\n",
    "            df[freq] = results[mode][symptom][classifier]['res_groups'][results[mode][symptom][classifier]['res_groups']['Sampling Rate']==freq]['RMS']\n",
    "        df = df.reset_index(drop=True)\n",
    "    else:\n",
    "        for i in range(len(freqlist)):\n",
    "            freq = freqlist[i]\n",
    "            df[freq] = pd.Series(results[mode][symptom][classifier]['res_groups'][i]['Random Forest']['auroc'])\n",
    "        df = df[~df['50 Hz'].isnull()].reset_index(drop=True)\n",
    "    \n",
    "    print('Repeated Measures ANOVA')\n",
    "    cols = [freqlist[0]]\n",
    "    for freq in freqlist[1:]:\n",
    "        cols = cols + [freq]\n",
    "        p = rmANOVA(df,cols)\n",
    "        print(cols)\n",
    "        print('p-value: ' + str(p))\n",
    "    \n",
    "    #print()\n",
    "    #for freq in freqlist[1:]:\n",
    "    #    p = stats.ttest_rel(df[freqlist[0]],df[freq])\n",
    "    #    #p = stats.ttest_rel(df[freqlist[0]],~np.isnan(np.array(df[freq])))\n",
    "    #    print('%s, %s'%(freqlist[0],freq))\n",
    "    #    print(p)"
   ]
  },
  {
   "cell_type": "code",
   "execution_count": 170,
   "metadata": {},
   "outputs": [],
   "source": [
    "def rmANOVA(df,columns):\n",
    "    grand_mean = np.mean(df[columns].mean())\n",
    "    sub_means = np.mean(df[columns],axis=1)\n",
    "    col_means = np.mean(df[columns],axis=0)\n",
    "    n = len(df)\n",
    "    k = len(columns)\n",
    "    dftotal = n*k - 1\n",
    "    dfbw = k - 1\n",
    "    dfsbj = n - 1\n",
    "    dfw = dftotal - dfbw\n",
    "    dferror = dfw - dfsbj\n",
    "    SSbetween = sum(n*[(m-grand_mean)**2 for m in col_means])\n",
    "    SSwithin = np.nansum(np.nansum([(df[col] - col_means[i])**2 for i,col in enumerate(df[columns])]))\n",
    "    SSsubject = sum(k*[(m - grand_mean)**2 for m in sub_means])\n",
    "    SSerror = SSwithin - SSsubject\n",
    "    SStotal = SSbetween + SSwithin\n",
    "    msbetween = SSbetween/dfbw\n",
    "    mserror = SSerror/dferror\n",
    "    F = msbetween/mserror\n",
    "    return stats.f.sf(F,dfbw,dferror)"
   ]
  },
  {
   "cell_type": "code",
   "execution_count": 171,
   "metadata": {},
   "outputs": [
    {
     "name": "stdout",
     "output_type": "stream",
     "text": [
      "Repeated Measures ANOVA\n",
      "['50 Hz', '40 Hz']\n",
      "p-value: 0.2455032644727299\n",
      "['50 Hz', '40 Hz', '30 Hz']\n",
      "p-value: 0.17770629369901836\n",
      "['50 Hz', '40 Hz', '30 Hz', '20 Hz']\n",
      "p-value: 0.018543926592302095\n",
      "['50 Hz', '40 Hz', '30 Hz', '20 Hz', '10 Hz']\n",
      "p-value: 2.086725062269066e-05\n",
      "['50 Hz', '40 Hz', '30 Hz', '20 Hz', '10 Hz', '7.5 Hz']\n",
      "p-value: 1.969093144657875e-07\n",
      "['50 Hz', '40 Hz', '30 Hz', '20 Hz', '10 Hz', '7.5 Hz', '5 Hz']\n",
      "p-value: 2.471282794347929e-07\n",
      "['50 Hz', '40 Hz', '30 Hz', '20 Hz', '10 Hz', '7.5 Hz', '5 Hz', '3 Hz']\n",
      "p-value: 6.349822573277802e-07\n"
     ]
    },
    {
     "data": {
      "image/png": "[encoded data removed]",
      "text/plain": [
       "<Figure size 432x288 with 1 Axes>"
      ]
     },
     "metadata": {},
     "output_type": "display_data"
    }
   ],
   "source": [
    "barplotFreq(results,'watch','Tremor','Binary')\n",
    "stats_tests(results,'watch','Tremor','Binary')"
   ]
  },
  {
   "cell_type": "code",
   "execution_count": 172,
   "metadata": {},
   "outputs": [
    {
     "name": "stdout",
     "output_type": "stream",
     "text": [
      "Repeated Measures ANOVA\n",
      "['50 Hz', '40 Hz']\n",
      "p-value: 0.037126669145139186\n",
      "['50 Hz', '40 Hz', '30 Hz']\n",
      "p-value: 4.019522966970305e-07\n",
      "['50 Hz', '40 Hz', '30 Hz', '20 Hz']\n",
      "p-value: 2.103195438787061e-13\n",
      "['50 Hz', '40 Hz', '30 Hz', '20 Hz', '10 Hz']\n",
      "p-value: 1.1803670966141557e-18\n",
      "['50 Hz', '40 Hz', '30 Hz', '20 Hz', '10 Hz', '7.5 Hz']\n",
      "p-value: 1.0223265351832662e-20\n",
      "['50 Hz', '40 Hz', '30 Hz', '20 Hz', '10 Hz', '7.5 Hz', '5 Hz']\n",
      "p-value: 1.0851825169844313e-17\n",
      "['50 Hz', '40 Hz', '30 Hz', '20 Hz', '10 Hz', '7.5 Hz', '5 Hz', '3 Hz']\n",
      "p-value: 1.7537377245154837e-12\n"
     ]
    },
    {
     "data": {
      "image/png": "[encoded data removed]",
      "text/plain": [
       "<Figure size 432x288 with 1 Axes>"
      ]
     },
     "metadata": {},
     "output_type": "display_data"
    }
   ],
   "source": [
    "barplotFreq(results,'watch','Tremor','Multiclass')\n",
    "stats_tests(results,'watch','Tremor','Multiclass')"
   ]
  },
  {
   "cell_type": "code",
   "execution_count": 173,
   "metadata": {},
   "outputs": [
    {
     "name": "stdout",
     "output_type": "stream",
     "text": [
      "Repeated Measures ANOVA\n",
      "['50 Hz', '40 Hz']\n",
      "p-value: 1.2455520759248735e-06\n",
      "['50 Hz', '40 Hz', '30 Hz']\n",
      "p-value: 0.0007091216106026705\n",
      "['50 Hz', '40 Hz', '30 Hz', '20 Hz']\n",
      "p-value: 0.06302204901456666\n",
      "['50 Hz', '40 Hz', '30 Hz', '20 Hz', '10 Hz']\n",
      "p-value: 0.7902959222732905\n",
      "['50 Hz', '40 Hz', '30 Hz', '20 Hz', '10 Hz', '7.5 Hz']\n",
      "p-value: 0.3293600803370692\n",
      "['50 Hz', '40 Hz', '30 Hz', '20 Hz', '10 Hz', '7.5 Hz', '5 Hz']\n",
      "p-value: 0.023826095989326612\n",
      "['50 Hz', '40 Hz', '30 Hz', '20 Hz', '10 Hz', '7.5 Hz', '5 Hz', '3 Hz']\n",
      "p-value: 0.0036230258395703575\n"
     ]
    },
    {
     "data": {
      "image/png": "[encoded data removed]",
      "text/plain": [
       "<Figure size 432x288 with 1 Axes>"
      ]
     },
     "metadata": {},
     "output_type": "display_data"
    }
   ],
   "source": [
    "barplotFreq(results,'watch','Tremor','Regressor')\n",
    "stats_tests(results,'watch','Tremor','Regressor')"
   ]
  },
  {
   "cell_type": "code",
   "execution_count": 174,
   "metadata": {},
   "outputs": [
    {
     "name": "stdout",
     "output_type": "stream",
     "text": [
      "Repeated Measures ANOVA\n",
      "['50 Hz', '40 Hz']\n",
      "p-value: 0.17468005710893278\n",
      "['50 Hz', '40 Hz', '30 Hz']\n",
      "p-value: 0.26421627484269494\n",
      "['50 Hz', '40 Hz', '30 Hz', '20 Hz']\n",
      "p-value: 0.06962541664189618\n",
      "['50 Hz', '40 Hz', '30 Hz', '20 Hz', '10 Hz']\n",
      "p-value: 0.5480360853351334\n",
      "['50 Hz', '40 Hz', '30 Hz', '20 Hz', '10 Hz', '7.5 Hz']\n",
      "p-value: 0.5544211490530955\n",
      "['50 Hz', '40 Hz', '30 Hz', '20 Hz', '10 Hz', '7.5 Hz', '5 Hz']\n",
      "p-value: 0.6784290583720296\n",
      "['50 Hz', '40 Hz', '30 Hz', '20 Hz', '10 Hz', '7.5 Hz', '5 Hz', '3 Hz']\n",
      "p-value: 0.5147691814678361\n"
     ]
    },
    {
     "data": {
      "image/png": "[encoded data removed]",
      "text/plain": [
       "<Figure size 432x288 with 1 Axes>"
      ]
     },
     "metadata": {},
     "output_type": "display_data"
    }
   ],
   "source": [
    "barplotFreq(results,'watch','Bradykinesia','Binary')\n",
    "stats_tests(results,'watch','Bradykinesia','Binary')"
   ]
  },
  {
   "cell_type": "code",
   "execution_count": 175,
   "metadata": {},
   "outputs": [
    {
     "name": "stdout",
     "output_type": "stream",
     "text": [
      "Repeated Measures ANOVA\n",
      "['50 Hz', '40 Hz']\n",
      "p-value: 0.05478874693222728\n",
      "['50 Hz', '40 Hz', '30 Hz']\n",
      "p-value: 0.02996376005377043\n",
      "['50 Hz', '40 Hz', '30 Hz', '20 Hz']\n",
      "p-value: 1.7827122752466516e-06\n",
      "['50 Hz', '40 Hz', '30 Hz', '20 Hz', '10 Hz']\n",
      "p-value: 1.0936805242244716e-14\n",
      "['50 Hz', '40 Hz', '30 Hz', '20 Hz', '10 Hz', '7.5 Hz']\n",
      "p-value: 6.239254767319909e-16\n",
      "['50 Hz', '40 Hz', '30 Hz', '20 Hz', '10 Hz', '7.5 Hz', '5 Hz']\n",
      "p-value: 4.979855073168076e-23\n",
      "['50 Hz', '40 Hz', '30 Hz', '20 Hz', '10 Hz', '7.5 Hz', '5 Hz', '3 Hz']\n",
      "p-value: 4.091764297663831e-09\n"
     ]
    },
    {
     "data": {
      "image/png": "[encoded data removed]",
      "text/plain": [
       "<Figure size 432x288 with 1 Axes>"
      ]
     },
     "metadata": {},
     "output_type": "display_data"
    }
   ],
   "source": [
    "barplotFreq(results,'watch','Bradykinesia','Multiclass')\n",
    "stats_tests(results,'watch','Bradykinesia','Multiclass')"
   ]
  },
  {
   "cell_type": "code",
   "execution_count": 176,
   "metadata": {},
   "outputs": [
    {
     "name": "stdout",
     "output_type": "stream",
     "text": [
      "Repeated Measures ANOVA\n",
      "['50 Hz', '40 Hz']\n",
      "p-value: 0.010653744158098628\n",
      "['50 Hz', '40 Hz', '30 Hz']\n",
      "p-value: 0.03075470482159677\n",
      "['50 Hz', '40 Hz', '30 Hz', '20 Hz']\n",
      "p-value: 0.4277141158397927\n",
      "['50 Hz', '40 Hz', '30 Hz', '20 Hz', '10 Hz']\n",
      "p-value: 3.5820565530130613e-09\n",
      "['50 Hz', '40 Hz', '30 Hz', '20 Hz', '10 Hz', '7.5 Hz']\n",
      "p-value: 5.263213865550436e-22\n",
      "['50 Hz', '40 Hz', '30 Hz', '20 Hz', '10 Hz', '7.5 Hz', '5 Hz']\n",
      "p-value: 3.113682110184279e-28\n",
      "['50 Hz', '40 Hz', '30 Hz', '20 Hz', '10 Hz', '7.5 Hz', '5 Hz', '3 Hz']\n",
      "p-value: 6.490078872493356e-07\n"
     ]
    },
    {
     "data": {
      "image/png": "[encoded data removed]",
      "text/plain": [
       "<Figure size 432x288 with 1 Axes>"
      ]
     },
     "metadata": {},
     "output_type": "display_data"
    }
   ],
   "source": [
    "barplotFreq(results,'watch','Bradykinesia','Regressor')\n",
    "stats_tests(results,'watch','Bradykinesia','Regressor')"
   ]
  },
  {
   "cell_type": "code",
   "execution_count": 177,
   "metadata": {},
   "outputs": [
    {
     "name": "stdout",
     "output_type": "stream",
     "text": [
      "Repeated Measures ANOVA\n",
      "['62.5 Hz', '60 Hz']\n",
      "p-value: 0.18883008999583445\n",
      "['62.5 Hz', '60 Hz', '50 Hz']\n",
      "p-value: 0.38736656435525385\n",
      "['62.5 Hz', '60 Hz', '50 Hz', '40 Hz']\n",
      "p-value: 0.5685968564274385\n",
      "['62.5 Hz', '60 Hz', '50 Hz', '40 Hz', '30 Hz']\n",
      "p-value: 0.4972206924616387\n",
      "['62.5 Hz', '60 Hz', '50 Hz', '40 Hz', '30 Hz', '20 Hz']\n",
      "p-value: 0.0016084429313949706\n",
      "['62.5 Hz', '60 Hz', '50 Hz', '40 Hz', '30 Hz', '20 Hz', '10 Hz']\n",
      "p-value: 8.208740821499116e-13\n",
      "['62.5 Hz', '60 Hz', '50 Hz', '40 Hz', '30 Hz', '20 Hz', '10 Hz', '7.5 Hz']\n",
      "p-value: 1.5918832006420402e-08\n",
      "['62.5 Hz', '60 Hz', '50 Hz', '40 Hz', '30 Hz', '20 Hz', '10 Hz', '7.5 Hz', '5 Hz']\n",
      "p-value: 2.8477924916095846e-09\n",
      "['62.5 Hz', '60 Hz', '50 Hz', '40 Hz', '30 Hz', '20 Hz', '10 Hz', '7.5 Hz', '5 Hz', '3 Hz']\n",
      "p-value: 3.2767912442163376e-07\n"
     ]
    },
    {
     "data": {
      "image/png": "[encoded data removed]",
      "text/plain": [
       "<Figure size 432x288 with 1 Axes>"
      ]
     },
     "metadata": {},
     "output_type": "display_data"
    }
   ],
   "source": [
    "barplotFreq(results,'sensor','Tremor','Binary')\n",
    "stats_tests(results,'sensor','Tremor','Binary')"
   ]
  },
  {
   "cell_type": "code",
   "execution_count": 178,
   "metadata": {},
   "outputs": [
    {
     "name": "stdout",
     "output_type": "stream",
     "text": [
      "Repeated Measures ANOVA\n",
      "['62.5 Hz', '60 Hz']\n",
      "p-value: 7.266419080183856e-05\n",
      "['62.5 Hz', '60 Hz', '50 Hz']\n",
      "p-value: 0.00045114365694839904\n",
      "['62.5 Hz', '60 Hz', '50 Hz', '40 Hz']\n",
      "p-value: 8.516250172192233e-08\n",
      "['62.5 Hz', '60 Hz', '50 Hz', '40 Hz', '30 Hz']\n",
      "p-value: 3.7236575434832038e-06\n",
      "['62.5 Hz', '60 Hz', '50 Hz', '40 Hz', '30 Hz', '20 Hz']\n",
      "p-value: 1.8606444314655256e-05\n",
      "['62.5 Hz', '60 Hz', '50 Hz', '40 Hz', '30 Hz', '20 Hz', '10 Hz']\n",
      "p-value: 8.618639490958629e-07\n",
      "['62.5 Hz', '60 Hz', '50 Hz', '40 Hz', '30 Hz', '20 Hz', '10 Hz', '7.5 Hz']\n",
      "p-value: 6.150052973628406e-05\n",
      "['62.5 Hz', '60 Hz', '50 Hz', '40 Hz', '30 Hz', '20 Hz', '10 Hz', '7.5 Hz', '5 Hz']\n",
      "p-value: 1.8299327995226975e-05\n",
      "['62.5 Hz', '60 Hz', '50 Hz', '40 Hz', '30 Hz', '20 Hz', '10 Hz', '7.5 Hz', '5 Hz', '3 Hz']\n",
      "p-value: 1.064141508409497e-25\n"
     ]
    },
    {
     "data": {
      "image/png": "[encoded data removed]",
      "text/plain": [
       "<Figure size 432x288 with 1 Axes>"
      ]
     },
     "metadata": {},
     "output_type": "display_data"
    }
   ],
   "source": [
    "barplotFreq(results,'sensor','Tremor','Multiclass')\n",
    "stats_tests(results,'sensor','Tremor','Multiclass')"
   ]
  },
  {
   "cell_type": "code",
   "execution_count": 139,
   "metadata": {},
   "outputs": [
    {
     "name": "stdout",
     "output_type": "stream",
     "text": [
      "Repeated Measures ANOVA\n",
      "p-value: 2.6676716575639016e-19\n",
      "\n",
      "62.5 Hz, 60 Hz\n",
      "Ttest_relResult(statistic=-1.6938804188842604, pvalue=0.11837918585944514)\n",
      "62.5 Hz, 50 Hz\n",
      "Ttest_relResult(statistic=0.014045892558570857, pvalue=0.9890448845103433)\n",
      "62.5 Hz, 40 Hz\n",
      "Ttest_relResult(statistic=-2.185875630022258, pvalue=0.051336355151597575)\n",
      "62.5 Hz, 30 Hz\n",
      "Ttest_relResult(statistic=-5.505407770192239, pvalue=0.00018472644415095402)\n",
      "62.5 Hz, 20 Hz\n",
      "Ttest_relResult(statistic=-4.428190204432821, pvalue=0.0010146552509520926)\n",
      "62.5 Hz, 10 Hz\n",
      "Ttest_relResult(statistic=-4.914082505306647, pvalue=0.00046117643668606756)\n",
      "62.5 Hz, 7.5 Hz\n",
      "Ttest_relResult(statistic=-4.813811058289561, pvalue=0.0005412217949696745)\n",
      "62.5 Hz, 5 Hz\n",
      "Ttest_relResult(statistic=-5.539229185910977, pvalue=0.00017557163711399068)\n",
      "62.5 Hz, 3 Hz\n",
      "Ttest_relResult(statistic=-4.225758256395364, pvalue=0.0014225300555681462)\n"
     ]
    },
    {
     "data": {
      "image/png": "[encoded data removed]",
      "text/plain": [
       "<Figure size 432x288 with 1 Axes>"
      ]
     },
     "metadata": {},
     "output_type": "display_data"
    }
   ],
   "source": [
    "barplotFreq(results,'sensor','Tremor','Regressor')\n",
    "stats_tests(results,'sensor','Tremor','Regressor')"
   ]
  },
  {
   "cell_type": "code",
   "execution_count": 140,
   "metadata": {},
   "outputs": [
    {
     "name": "stdout",
     "output_type": "stream",
     "text": [
      "Repeated Measures ANOVA\n",
      "p-value: 0.13880487679067038\n",
      "\n",
      "62.5 Hz, 60 Hz\n",
      "Ttest_relResult(statistic=1.5145450444698927, pvalue=0.15808040096843645)\n",
      "62.5 Hz, 50 Hz\n",
      "Ttest_relResult(statistic=2.1770377716166136, pvalue=0.052133722914519266)\n",
      "62.5 Hz, 40 Hz\n",
      "Ttest_relResult(statistic=2.7765823184466605, pvalue=0.01801368318959835)\n",
      "62.5 Hz, 30 Hz\n",
      "Ttest_relResult(statistic=1.0678439918114027, pvalue=0.30846569741489155)\n",
      "62.5 Hz, 20 Hz\n",
      "Ttest_relResult(statistic=1.7744777613409037, pvalue=0.10362820133252416)\n",
      "62.5 Hz, 10 Hz\n",
      "Ttest_relResult(statistic=2.2476920944786785, pvalue=0.04607595013796557)\n",
      "62.5 Hz, 7.5 Hz\n",
      "Ttest_relResult(statistic=0.6277014349180935, pvalue=0.5430104124131986)\n",
      "62.5 Hz, 5 Hz\n",
      "Ttest_relResult(statistic=1.9850529904195888, pvalue=0.07263898621353061)\n",
      "62.5 Hz, 3 Hz\n",
      "Ttest_relResult(statistic=nan, pvalue=nan)\n"
     ]
    },
    {
     "name": "stderr",
     "output_type": "stream",
     "text": [
      "C:\\Anaconda\\lib\\site-packages\\scipy\\stats\\_distn_infrastructure.py:879: RuntimeWarning: invalid value encountered in greater\n",
      "  return (self.a < x) & (x < self.b)\n",
      "C:\\Anaconda\\lib\\site-packages\\scipy\\stats\\_distn_infrastructure.py:879: RuntimeWarning: invalid value encountered in less\n",
      "  return (self.a < x) & (x < self.b)\n",
      "C:\\Anaconda\\lib\\site-packages\\scipy\\stats\\_distn_infrastructure.py:1821: RuntimeWarning: invalid value encountered in less_equal\n",
      "  cond2 = cond0 & (x <= self.a)\n"
     ]
    },
    {
     "data": {
      "image/png": "[encoded data removed]",
      "text/plain": [
       "<Figure size 432x288 with 1 Axes>"
      ]
     },
     "metadata": {},
     "output_type": "display_data"
    }
   ],
   "source": [
    "barplotFreq(results,'sensor','Bradykinesia','Binary')\n",
    "stats_tests(results,'sensor','Bradykinesia','Binary')"
   ]
  },
  {
   "cell_type": "code",
   "execution_count": 141,
   "metadata": {},
   "outputs": [
    {
     "name": "stdout",
     "output_type": "stream",
     "text": [
      "Repeated Measures ANOVA\n",
      "p-value: 1.5027425851390103e-28\n",
      "\n",
      "62.5 Hz, 60 Hz\n",
      "Ttest_relResult(statistic=6.214425491015705, pvalue=6.581008463279363e-05)\n",
      "62.5 Hz, 50 Hz\n",
      "Ttest_relResult(statistic=5.565373215484964, pvalue=0.0001688257468431547)\n",
      "62.5 Hz, 40 Hz\n",
      "Ttest_relResult(statistic=3.648293355515706, pvalue=0.0038321413194959907)\n",
      "62.5 Hz, 30 Hz\n",
      "Ttest_relResult(statistic=1.1071079732466966, pvalue=0.2918697236983619)\n",
      "62.5 Hz, 20 Hz\n",
      "Ttest_relResult(statistic=5.312225565367096, pvalue=0.00024772258283517804)\n",
      "62.5 Hz, 10 Hz\n",
      "Ttest_relResult(statistic=-11.812696723821631, pvalue=1.36722546305589e-07)\n",
      "62.5 Hz, 7.5 Hz\n",
      "Ttest_relResult(statistic=-12.163942928212515, pvalue=1.0117145247755417e-07)\n",
      "62.5 Hz, 5 Hz\n",
      "Ttest_relResult(statistic=-7.28317615956701, pvalue=1.5761701434101127e-05)\n",
      "62.5 Hz, 3 Hz\n",
      "Ttest_relResult(statistic=0.5949094705647977, pvalue=0.5639412367919683)\n"
     ]
    },
    {
     "data": {
      "image/png": "[encoded data removed]",
      "text/plain": [
       "<Figure size 432x288 with 1 Axes>"
      ]
     },
     "metadata": {},
     "output_type": "display_data"
    }
   ],
   "source": [
    "barplotFreq(results,'sensor','Bradykinesia','Multiclass')\n",
    "stats_tests(results,'sensor','Bradykinesia','Multiclass')"
   ]
  },
  {
   "cell_type": "code",
   "execution_count": 142,
   "metadata": {},
   "outputs": [
    {
     "name": "stdout",
     "output_type": "stream",
     "text": [
      "Repeated Measures ANOVA\n",
      "p-value: 4.458676529645024e-36\n",
      "\n",
      "62.5 Hz, 60 Hz\n",
      "Ttest_relResult(statistic=-3.2345552005524696, pvalue=0.007950560314336606)\n",
      "62.5 Hz, 50 Hz\n",
      "Ttest_relResult(statistic=-0.46477732269260347, pvalue=0.6511554684086313)\n",
      "62.5 Hz, 40 Hz\n",
      "Ttest_relResult(statistic=-7.302589666905452, pvalue=1.5378074381435646e-05)\n",
      "62.5 Hz, 30 Hz\n",
      "Ttest_relResult(statistic=-0.23780467281543777, pvalue=0.8164039729916261)\n",
      "62.5 Hz, 20 Hz\n",
      "Ttest_relResult(statistic=-4.219572305281717, pvalue=0.0014374133341892015)\n",
      "62.5 Hz, 10 Hz\n",
      "Ttest_relResult(statistic=-4.131949215195659, pvalue=0.001666606578529056)\n",
      "62.5 Hz, 7.5 Hz\n",
      "Ttest_relResult(statistic=-8.981477960193672, pvalue=2.1388294514899505e-06)\n",
      "62.5 Hz, 5 Hz\n",
      "Ttest_relResult(statistic=-4.366610825854448, pvalue=0.0011238602687656566)\n",
      "62.5 Hz, 3 Hz\n",
      "Ttest_relResult(statistic=7.9394285892034695, pvalue=7.021223602495939e-06)\n"
     ]
    },
    {
     "data": {
      "image/png": "[encoded data removed]",
      "text/plain": [
       "<Figure size 432x288 with 1 Axes>"
      ]
     },
     "metadata": {},
     "output_type": "display_data"
    }
   ],
   "source": [
    "barplotFreq(results,'sensor','Bradykinesia','Regressor')\n",
    "stats_tests(results,'sensor','Bradykinesia','Regressor')"
   ]
  },
  {
   "cell_type": "code",
   "execution_count": null,
   "metadata": {},
   "outputs": [],
   "source": []
  }
 ],
 "metadata": {
  "kernelspec": {
   "display_name": "Python 3",
   "language": "python",
   "name": "python3"
  },
  "language_info": {
   "codemirror_mode": {
    "name": "ipython",
    "version": 3
   },
   "file_extension": ".py",
   "mimetype": "text/x-python",
   "name": "python",
   "nbconvert_exporter": "python",
   "pygments_lexer": "ipython3",
   "version": "3.6.5"
  }
 },
 "nbformat": 4,
 "nbformat_minor": 2
}
